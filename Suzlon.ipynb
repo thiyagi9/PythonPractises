{
  "nbformat": 4,
  "nbformat_minor": 0,
  "metadata": {
    "colab": {
      "name": "Suzlon.ipynb",
      "provenance": [],
      "authorship_tag": "ABX9TyMp2+Tcw9jfBERSjRxFPi5c",
      "include_colab_link": true
    },
    "kernelspec": {
      "name": "python3",
      "display_name": "Python 3"
    },
    "language_info": {
      "name": "python"
    }
  },
  "cells": [
    {
      "cell_type": "markdown",
      "metadata": {
        "id": "view-in-github",
        "colab_type": "text"
      },
      "source": [
        "<a href=\"https://colab.research.google.com/github/thiyagi9/PythonPractises/blob/main/Suzlon.ipynb\" target=\"_parent\"><img src=\"https://colab.research.google.com/assets/colab-badge.svg\" alt=\"Open In Colab\"/></a>"
      ]
    },
    {
      "cell_type": "code",
      "metadata": {
        "id": "5-vE48r9I40O"
      },
      "source": [
        " #library imports\n",
        "import seaborn as sns\n",
        "import matplotlib.pyplot as plt\n",
        "import numpy as np\n",
        "import pandas as pd\n",
        "pd.set_option('max_columns', 140)\n",
        "pd.set_option('precision', 3)"
      ],
      "execution_count": 1,
      "outputs": []
    },
    {
      "cell_type": "code",
      "metadata": {
        "colab": {
          "resources": {
            "http://localhost:8080/nbextensions/google.colab/files.js": {
              "data": "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",
              "ok": true,
              "headers": [
                [
                  "content-type",
                  "application/javascript"
                ]
              ],
              "status": 200,
              "status_text": ""
            }
          },
          "base_uri": "https://localhost:8080/",
          "height": 72
        },
        "id": "A_UMp4PwI5uC",
        "outputId": "3c1e4e48-b5f6-4ce6-9eb4-ed1fc34348a5"
      },
      "source": [
        "# Uploading \"Working hours\" from the working machine. This can be replaced by having the file in GDrive itself\n",
        "from google.colab import files\n",
        "f1 = files.upload()"
      ],
      "execution_count": 2,
      "outputs": [
        {
          "output_type": "display_data",
          "data": {
            "text/html": [
              "\n",
              "     <input type=\"file\" id=\"files-0b4af44f-7d75-4930-a5df-fdaafd9734a5\" name=\"files[]\" multiple disabled\n",
              "        style=\"border:none\" />\n",
              "     <output id=\"result-0b4af44f-7d75-4930-a5df-fdaafd9734a5\">\n",
              "      Upload widget is only available when the cell has been executed in the\n",
              "      current browser session. Please rerun this cell to enable.\n",
              "      </output>\n",
              "      <script src=\"/nbextensions/google.colab/files.js\"></script> "
            ],
            "text/plain": [
              "<IPython.core.display.HTML object>"
            ]
          },
          "metadata": {
            "tags": []
          }
        },
        {
          "output_type": "stream",
          "text": [
            "Saving 06-06-2019-TO-04-06-2021SUZLONALLN.csv to 06-06-2019-TO-04-06-2021SUZLONALLN.csv\n"
          ],
          "name": "stdout"
        }
      ]
    },
    {
      "cell_type": "code",
      "metadata": {
        "id": "1dCZF5w2I9wy"
      },
      "source": [
        "df=pd.read_csv('06-06-2019-TO-04-06-2021SUZLONALLN.csv',parse_dates=True, error_bad_lines=False)\n",
        "df['Perc_Change']=((df['Close Price']-df['Prev Close'])/df['Prev Close'])*100\n",
        "df['returns']=df['Close Price'].pct_change()"
      ],
      "execution_count": 3,
      "outputs": []
    },
    {
      "cell_type": "code",
      "metadata": {
        "id": "jDdNKFhopHQx"
      },
      "source": [
        "df['Date']=pd.to_datetime(df['Date'])"
      ],
      "execution_count": 5,
      "outputs": []
    },
    {
      "cell_type": "code",
      "metadata": {
        "colab": {
          "base_uri": "https://localhost:8080/",
          "height": 314
        },
        "id": "C4Mg-y3vBbVr",
        "outputId": "779144d7-036b-4ba2-f6d7-802e81473b85"
      },
      "source": [
        "df.describe()"
      ],
      "execution_count": 6,
      "outputs": [
        {
          "output_type": "execute_result",
          "data": {
            "text/html": [
              "<div>\n",
              "<style scoped>\n",
              "    .dataframe tbody tr th:only-of-type {\n",
              "        vertical-align: middle;\n",
              "    }\n",
              "\n",
              "    .dataframe tbody tr th {\n",
              "        vertical-align: top;\n",
              "    }\n",
              "\n",
              "    .dataframe thead th {\n",
              "        text-align: right;\n",
              "    }\n",
              "</style>\n",
              "<table border=\"1\" class=\"dataframe\">\n",
              "  <thead>\n",
              "    <tr style=\"text-align: right;\">\n",
              "      <th></th>\n",
              "      <th>Prev Close</th>\n",
              "      <th>Open Price</th>\n",
              "      <th>High Price</th>\n",
              "      <th>Low Price</th>\n",
              "      <th>Last Price</th>\n",
              "      <th>Close Price</th>\n",
              "      <th>Average Price</th>\n",
              "      <th>Total Traded Quantity</th>\n",
              "      <th>Turnover</th>\n",
              "      <th>No. of Trades</th>\n",
              "      <th>Perc_Change</th>\n",
              "      <th>returns</th>\n",
              "    </tr>\n",
              "  </thead>\n",
              "  <tbody>\n",
              "    <tr>\n",
              "      <th>count</th>\n",
              "      <td>496.000</td>\n",
              "      <td>496.000</td>\n",
              "      <td>496.000</td>\n",
              "      <td>496.000</td>\n",
              "      <td>496.000</td>\n",
              "      <td>496.000</td>\n",
              "      <td>496.000</td>\n",
              "      <td>4.960e+02</td>\n",
              "      <td>4.960e+02</td>\n",
              "      <td>496.000</td>\n",
              "      <td>496.000</td>\n",
              "      <td>495.000</td>\n",
              "    </tr>\n",
              "    <tr>\n",
              "      <th>mean</th>\n",
              "      <td>3.853</td>\n",
              "      <td>3.880</td>\n",
              "      <td>3.965</td>\n",
              "      <td>3.754</td>\n",
              "      <td>3.868</td>\n",
              "      <td>3.856</td>\n",
              "      <td>3.860</td>\n",
              "      <td>2.052e+07</td>\n",
              "      <td>9.034e+07</td>\n",
              "      <td>17753.544</td>\n",
              "      <td>0.160</td>\n",
              "      <td>0.002</td>\n",
              "    </tr>\n",
              "    <tr>\n",
              "      <th>std</th>\n",
              "      <td>1.366</td>\n",
              "      <td>1.376</td>\n",
              "      <td>1.404</td>\n",
              "      <td>1.339</td>\n",
              "      <td>1.373</td>\n",
              "      <td>1.373</td>\n",
              "      <td>1.372</td>\n",
              "      <td>2.550e+07</td>\n",
              "      <td>1.485e+08</td>\n",
              "      <td>18199.892</td>\n",
              "      <td>4.516</td>\n",
              "      <td>0.045</td>\n",
              "    </tr>\n",
              "    <tr>\n",
              "      <th>min</th>\n",
              "      <td>1.750</td>\n",
              "      <td>1.700</td>\n",
              "      <td>1.800</td>\n",
              "      <td>1.700</td>\n",
              "      <td>1.750</td>\n",
              "      <td>1.750</td>\n",
              "      <td>1.730</td>\n",
              "      <td>7.832e+05</td>\n",
              "      <td>2.820e+06</td>\n",
              "      <td>473.000</td>\n",
              "      <td>-12.500</td>\n",
              "      <td>-0.125</td>\n",
              "    </tr>\n",
              "    <tr>\n",
              "      <th>25%</th>\n",
              "      <td>2.650</td>\n",
              "      <td>2.700</td>\n",
              "      <td>2.750</td>\n",
              "      <td>2.550</td>\n",
              "      <td>2.650</td>\n",
              "      <td>2.650</td>\n",
              "      <td>2.658</td>\n",
              "      <td>7.783e+06</td>\n",
              "      <td>2.278e+07</td>\n",
              "      <td>6736.250</td>\n",
              "      <td>-2.778</td>\n",
              "      <td>-0.028</td>\n",
              "    </tr>\n",
              "    <tr>\n",
              "      <th>50%</th>\n",
              "      <td>3.600</td>\n",
              "      <td>3.650</td>\n",
              "      <td>3.700</td>\n",
              "      <td>3.500</td>\n",
              "      <td>3.650</td>\n",
              "      <td>3.600</td>\n",
              "      <td>3.625</td>\n",
              "      <td>1.236e+07</td>\n",
              "      <td>4.406e+07</td>\n",
              "      <td>12715.000</td>\n",
              "      <td>0.000</td>\n",
              "      <td>0.000</td>\n",
              "    </tr>\n",
              "    <tr>\n",
              "      <th>75%</th>\n",
              "      <td>4.850</td>\n",
              "      <td>4.862</td>\n",
              "      <td>5.000</td>\n",
              "      <td>4.700</td>\n",
              "      <td>4.862</td>\n",
              "      <td>4.850</td>\n",
              "      <td>4.845</td>\n",
              "      <td>2.275e+07</td>\n",
              "      <td>9.820e+07</td>\n",
              "      <td>22032.000</td>\n",
              "      <td>3.404</td>\n",
              "      <td>0.034</td>\n",
              "    </tr>\n",
              "    <tr>\n",
              "      <th>max</th>\n",
              "      <td>8.050</td>\n",
              "      <td>8.450</td>\n",
              "      <td>8.450</td>\n",
              "      <td>8.050</td>\n",
              "      <td>8.050</td>\n",
              "      <td>8.050</td>\n",
              "      <td>8.050</td>\n",
              "      <td>2.044e+08</td>\n",
              "      <td>1.502e+09</td>\n",
              "      <td>148508.000</td>\n",
              "      <td>22.388</td>\n",
              "      <td>0.224</td>\n",
              "    </tr>\n",
              "  </tbody>\n",
              "</table>\n",
              "</div>"
            ],
            "text/plain": [
              "       Prev Close  Open Price  High Price  Low Price  Last Price  Close Price  \\\n",
              "count     496.000     496.000     496.000    496.000     496.000      496.000   \n",
              "mean        3.853       3.880       3.965      3.754       3.868        3.856   \n",
              "std         1.366       1.376       1.404      1.339       1.373        1.373   \n",
              "min         1.750       1.700       1.800      1.700       1.750        1.750   \n",
              "25%         2.650       2.700       2.750      2.550       2.650        2.650   \n",
              "50%         3.600       3.650       3.700      3.500       3.650        3.600   \n",
              "75%         4.850       4.862       5.000      4.700       4.862        4.850   \n",
              "max         8.050       8.450       8.450      8.050       8.050        8.050   \n",
              "\n",
              "       Average Price  Total Traded Quantity   Turnover  No. of Trades  \\\n",
              "count        496.000              4.960e+02  4.960e+02        496.000   \n",
              "mean           3.860              2.052e+07  9.034e+07      17753.544   \n",
              "std            1.372              2.550e+07  1.485e+08      18199.892   \n",
              "min            1.730              7.832e+05  2.820e+06        473.000   \n",
              "25%            2.658              7.783e+06  2.278e+07       6736.250   \n",
              "50%            3.625              1.236e+07  4.406e+07      12715.000   \n",
              "75%            4.845              2.275e+07  9.820e+07      22032.000   \n",
              "max            8.050              2.044e+08  1.502e+09     148508.000   \n",
              "\n",
              "       Perc_Change  returns  \n",
              "count      496.000  495.000  \n",
              "mean         0.160    0.002  \n",
              "std          4.516    0.045  \n",
              "min        -12.500   -0.125  \n",
              "25%         -2.778   -0.028  \n",
              "50%          0.000    0.000  \n",
              "75%          3.404    0.034  \n",
              "max         22.388    0.224  "
            ]
          },
          "metadata": {
            "tags": []
          },
          "execution_count": 6
        }
      ]
    },
    {
      "cell_type": "code",
      "metadata": {
        "id": "s40FA9pXJGrI",
        "colab": {
          "base_uri": "https://localhost:8080/",
          "height": 340
        },
        "outputId": "856ea51f-fe80-4ca5-a507-20bb71f09ffa"
      },
      "source": [
        "df.head()"
      ],
      "execution_count": 7,
      "outputs": [
        {
          "output_type": "execute_result",
          "data": {
            "text/html": [
              "<div>\n",
              "<style scoped>\n",
              "    .dataframe tbody tr th:only-of-type {\n",
              "        vertical-align: middle;\n",
              "    }\n",
              "\n",
              "    .dataframe tbody tr th {\n",
              "        vertical-align: top;\n",
              "    }\n",
              "\n",
              "    .dataframe thead th {\n",
              "        text-align: right;\n",
              "    }\n",
              "</style>\n",
              "<table border=\"1\" class=\"dataframe\">\n",
              "  <thead>\n",
              "    <tr style=\"text-align: right;\">\n",
              "      <th></th>\n",
              "      <th>Symbol</th>\n",
              "      <th>Series</th>\n",
              "      <th>Date</th>\n",
              "      <th>Prev Close</th>\n",
              "      <th>Open Price</th>\n",
              "      <th>High Price</th>\n",
              "      <th>Low Price</th>\n",
              "      <th>Last Price</th>\n",
              "      <th>Close Price</th>\n",
              "      <th>Average Price</th>\n",
              "      <th>Total Traded Quantity</th>\n",
              "      <th>Turnover</th>\n",
              "      <th>No. of Trades</th>\n",
              "      <th>Deliverable Qty</th>\n",
              "      <th>% Dly Qt to Traded Qty</th>\n",
              "      <th>Perc_Change</th>\n",
              "      <th>returns</th>\n",
              "    </tr>\n",
              "  </thead>\n",
              "  <tbody>\n",
              "    <tr>\n",
              "      <th>0</th>\n",
              "      <td>SUZLON</td>\n",
              "      <td>EQ</td>\n",
              "      <td>2019-06-06</td>\n",
              "      <td>5.45</td>\n",
              "      <td>5.45</td>\n",
              "      <td>5.65</td>\n",
              "      <td>5.1</td>\n",
              "      <td>5.30</td>\n",
              "      <td>5.35</td>\n",
              "      <td>5.39</td>\n",
              "      <td>49038653</td>\n",
              "      <td>2.642e+08</td>\n",
              "      <td>24761</td>\n",
              "      <td>8946635</td>\n",
              "      <td>18.24</td>\n",
              "      <td>-1.835</td>\n",
              "      <td>NaN</td>\n",
              "    </tr>\n",
              "    <tr>\n",
              "      <th>1</th>\n",
              "      <td>SUZLON</td>\n",
              "      <td>EQ</td>\n",
              "      <td>2019-06-07</td>\n",
              "      <td>5.35</td>\n",
              "      <td>5.35</td>\n",
              "      <td>5.45</td>\n",
              "      <td>5.1</td>\n",
              "      <td>5.25</td>\n",
              "      <td>5.20</td>\n",
              "      <td>5.27</td>\n",
              "      <td>29292725</td>\n",
              "      <td>1.543e+08</td>\n",
              "      <td>21971</td>\n",
              "      <td>9558650</td>\n",
              "      <td>32.63</td>\n",
              "      <td>-2.804</td>\n",
              "      <td>-0.028</td>\n",
              "    </tr>\n",
              "    <tr>\n",
              "      <th>2</th>\n",
              "      <td>SUZLON</td>\n",
              "      <td>EQ</td>\n",
              "      <td>2019-06-10</td>\n",
              "      <td>5.20</td>\n",
              "      <td>5.30</td>\n",
              "      <td>5.35</td>\n",
              "      <td>3.9</td>\n",
              "      <td>4.65</td>\n",
              "      <td>4.65</td>\n",
              "      <td>4.57</td>\n",
              "      <td>113780378</td>\n",
              "      <td>5.196e+08</td>\n",
              "      <td>62236</td>\n",
              "      <td>28758688</td>\n",
              "      <td>25.28</td>\n",
              "      <td>-10.577</td>\n",
              "      <td>-0.106</td>\n",
              "    </tr>\n",
              "    <tr>\n",
              "      <th>3</th>\n",
              "      <td>SUZLON</td>\n",
              "      <td>EQ</td>\n",
              "      <td>2019-06-11</td>\n",
              "      <td>4.65</td>\n",
              "      <td>4.65</td>\n",
              "      <td>4.95</td>\n",
              "      <td>4.1</td>\n",
              "      <td>4.85</td>\n",
              "      <td>4.80</td>\n",
              "      <td>4.60</td>\n",
              "      <td>66267875</td>\n",
              "      <td>3.047e+08</td>\n",
              "      <td>29388</td>\n",
              "      <td>15938281</td>\n",
              "      <td>24.05</td>\n",
              "      <td>3.226</td>\n",
              "      <td>0.032</td>\n",
              "    </tr>\n",
              "    <tr>\n",
              "      <th>4</th>\n",
              "      <td>SUZLON</td>\n",
              "      <td>EQ</td>\n",
              "      <td>2019-06-12</td>\n",
              "      <td>4.80</td>\n",
              "      <td>4.80</td>\n",
              "      <td>4.85</td>\n",
              "      <td>4.4</td>\n",
              "      <td>4.45</td>\n",
              "      <td>4.45</td>\n",
              "      <td>4.61</td>\n",
              "      <td>55604428</td>\n",
              "      <td>2.565e+08</td>\n",
              "      <td>30853</td>\n",
              "      <td>14977965</td>\n",
              "      <td>26.94</td>\n",
              "      <td>-7.292</td>\n",
              "      <td>-0.073</td>\n",
              "    </tr>\n",
              "  </tbody>\n",
              "</table>\n",
              "</div>"
            ],
            "text/plain": [
              "   Symbol Series       Date  Prev Close  Open Price  High Price  Low Price  \\\n",
              "0  SUZLON     EQ 2019-06-06        5.45        5.45        5.65        5.1   \n",
              "1  SUZLON     EQ 2019-06-07        5.35        5.35        5.45        5.1   \n",
              "2  SUZLON     EQ 2019-06-10        5.20        5.30        5.35        3.9   \n",
              "3  SUZLON     EQ 2019-06-11        4.65        4.65        4.95        4.1   \n",
              "4  SUZLON     EQ 2019-06-12        4.80        4.80        4.85        4.4   \n",
              "\n",
              "   Last Price  Close Price  Average Price  Total Traded Quantity   Turnover  \\\n",
              "0        5.30         5.35           5.39               49038653  2.642e+08   \n",
              "1        5.25         5.20           5.27               29292725  1.543e+08   \n",
              "2        4.65         4.65           4.57              113780378  5.196e+08   \n",
              "3        4.85         4.80           4.60               66267875  3.047e+08   \n",
              "4        4.45         4.45           4.61               55604428  2.565e+08   \n",
              "\n",
              "   No. of Trades Deliverable Qty % Dly Qt to Traded Qty  Perc_Change  returns  \n",
              "0          24761         8946635                  18.24       -1.835      NaN  \n",
              "1          21971         9558650                  32.63       -2.804   -0.028  \n",
              "2          62236        28758688                  25.28      -10.577   -0.106  \n",
              "3          29388        15938281                  24.05        3.226    0.032  \n",
              "4          30853        14977965                  26.94       -7.292   -0.073  "
            ]
          },
          "metadata": {
            "tags": []
          },
          "execution_count": 7
        }
      ]
    },
    {
      "cell_type": "code",
      "metadata": {
        "id": "p48ff0xAJTeq"
      },
      "source": [
        "df_max1 = df.sort_values('High Price', ascending=False).head(1)\n",
        "\n",
        "df_maxQty=df.sort_values('Total Traded Quantity',ascending=False).head(10)"
      ],
      "execution_count": null,
      "outputs": []
    },
    {
      "cell_type": "code",
      "metadata": {
        "id": "ZUYXpeNaiouB"
      },
      "source": [
        "df_maxQty"
      ],
      "execution_count": null,
      "outputs": []
    },
    {
      "cell_type": "code",
      "metadata": {
        "id": "bhGK4KKFjl7u"
      },
      "source": [
        "df_perc=df[df['Date'].isin(['08-Jan-2021','11-Jan-2021'])]\n",
        "\n",
        "df_perc\n"
      ],
      "execution_count": null,
      "outputs": []
    },
    {
      "cell_type": "code",
      "metadata": {
        "id": "vPGnovdtl3q-"
      },
      "source": [
        "df[df['Perc_Change']>0]"
      ],
      "execution_count": null,
      "outputs": []
    },
    {
      "cell_type": "code",
      "metadata": {
        "colab": {
          "base_uri": "https://localhost:8080/"
        },
        "id": "9HuANrGkkDNb",
        "outputId": "79d69026-cd90-43c1-d5d9-55191c8e47f3"
      },
      "source": [
        "df_perc['Perc_Change']=((df_perc['Close Price']-df_perc['Prev Close'])/df_perc['Prev Close'])*100\n",
        "\n",
        "#(df['Close Price']/df['Prev Close'])*100\n",
        "\n",
        "df_perc['Perc_Change']\n",
        "#df_perc['Close Price']-df_perc['Prev Close']"
      ],
      "execution_count": null,
      "outputs": [
        {
          "output_type": "stream",
          "text": [
            "/usr/local/lib/python3.7/dist-packages/ipykernel_launcher.py:1: SettingWithCopyWarning: \n",
            "A value is trying to be set on a copy of a slice from a DataFrame.\n",
            "Try using .loc[row_indexer,col_indexer] = value instead\n",
            "\n",
            "See the caveats in the documentation: https://pandas.pydata.org/pandas-docs/stable/user_guide/indexing.html#returning-a-view-versus-a-copy\n",
            "  \"\"\"Entry point for launching an IPython kernel.\n"
          ],
          "name": "stderr"
        },
        {
          "output_type": "execute_result",
          "data": {
            "text/plain": [
              "397   -4.969\n",
              "398   -4.575\n",
              "Name: Perc_Change, dtype: float64"
            ]
          },
          "metadata": {
            "tags": []
          },
          "execution_count": 129
        }
      ]
    },
    {
      "cell_type": "code",
      "metadata": {
        "id": "VPdvhH0kHQX9"
      },
      "source": [
        "df['log_returns']=np.log(1+df['returns'])\n",
        "\n",
        "X=df[['Close Price','log_returns']]"
      ],
      "execution_count": 8,
      "outputs": []
    },
    {
      "cell_type": "code",
      "metadata": {
        "colab": {
          "base_uri": "https://localhost:8080/",
          "height": 282
        },
        "id": "yYBNnaE1IxkG",
        "outputId": "ffad5140-7420-49d7-ed3f-f68562fab7a9"
      },
      "source": [
        "plt.figure(1,figsize=(16,4))\n",
        "plt.plot(df['log_returns'])"
      ],
      "execution_count": 9,
      "outputs": [
        {
          "output_type": "execute_result",
          "data": {
            "text/plain": [
              "[<matplotlib.lines.Line2D at 0x7f376a6f2310>]"
            ]
          },
          "metadata": {
            "tags": []
          },
          "execution_count": 9
        },
        {
          "output_type": "display_data",
          "data": {
            "image/png": "[encoded data removed]",
            "text/plain": [
              "<Figure size 1152x288 with 1 Axes>"
            ]
          },
          "metadata": {
            "tags": [],
            "needs_background": "light"
          }
        }
      ]
    },
    {
      "cell_type": "code",
      "metadata": {
        "colab": {
          "base_uri": "https://localhost:8080/"
        },
        "id": "ZkYxkiSYIglH",
        "outputId": "b0fbd770-7296-4bd8-e453-c02e8ef27247"
      },
      "source": [
        "X_bk=X.copy()\n",
        "X.dropna(axis=0,inplace=True)"
      ],
      "execution_count": 10,
      "outputs": [
        {
          "output_type": "stream",
          "text": [
            "/usr/local/lib/python3.7/dist-packages/ipykernel_launcher.py:2: SettingWithCopyWarning: \n",
            "A value is trying to be set on a copy of a slice from a DataFrame\n",
            "\n",
            "See the caveats in the documentation: https://pandas.pydata.org/pandas-docs/stable/user_guide/indexing.html#returning-a-view-versus-a-copy\n",
            "  \n"
          ],
          "name": "stderr"
        }
      ]
    },
    {
      "cell_type": "code",
      "metadata": {
        "colab": {
          "base_uri": "https://localhost:8080/",
          "height": 419
        },
        "id": "YEperZ5-QtsQ",
        "outputId": "ea03d10e-501a-485f-bfb4-cc528fb405ad"
      },
      "source": [
        "X"
      ],
      "execution_count": 11,
      "outputs": [
        {
          "output_type": "execute_result",
          "data": {
            "text/html": [
              "<div>\n",
              "<style scoped>\n",
              "    .dataframe tbody tr th:only-of-type {\n",
              "        vertical-align: middle;\n",
              "    }\n",
              "\n",
              "    .dataframe tbody tr th {\n",
              "        vertical-align: top;\n",
              "    }\n",
              "\n",
              "    .dataframe thead th {\n",
              "        text-align: right;\n",
              "    }\n",
              "</style>\n",
              "<table border=\"1\" class=\"dataframe\">\n",
              "  <thead>\n",
              "    <tr style=\"text-align: right;\">\n",
              "      <th></th>\n",
              "      <th>Close Price</th>\n",
              "      <th>log_returns</th>\n",
              "    </tr>\n",
              "  </thead>\n",
              "  <tbody>\n",
              "    <tr>\n",
              "      <th>1</th>\n",
              "      <td>5.20</td>\n",
              "      <td>-0.028</td>\n",
              "    </tr>\n",
              "    <tr>\n",
              "      <th>2</th>\n",
              "      <td>4.65</td>\n",
              "      <td>-0.112</td>\n",
              "    </tr>\n",
              "    <tr>\n",
              "      <th>3</th>\n",
              "      <td>4.80</td>\n",
              "      <td>0.032</td>\n",
              "    </tr>\n",
              "    <tr>\n",
              "      <th>4</th>\n",
              "      <td>4.45</td>\n",
              "      <td>-0.076</td>\n",
              "    </tr>\n",
              "    <tr>\n",
              "      <th>5</th>\n",
              "      <td>4.35</td>\n",
              "      <td>-0.023</td>\n",
              "    </tr>\n",
              "    <tr>\n",
              "      <th>...</th>\n",
              "      <td>...</td>\n",
              "      <td>...</td>\n",
              "    </tr>\n",
              "    <tr>\n",
              "      <th>491</th>\n",
              "      <td>5.70</td>\n",
              "      <td>0.000</td>\n",
              "    </tr>\n",
              "    <tr>\n",
              "      <th>492</th>\n",
              "      <td>5.90</td>\n",
              "      <td>0.034</td>\n",
              "    </tr>\n",
              "    <tr>\n",
              "      <th>493</th>\n",
              "      <td>6.45</td>\n",
              "      <td>0.089</td>\n",
              "    </tr>\n",
              "    <tr>\n",
              "      <th>494</th>\n",
              "      <td>7.05</td>\n",
              "      <td>0.089</td>\n",
              "    </tr>\n",
              "    <tr>\n",
              "      <th>495</th>\n",
              "      <td>7.35</td>\n",
              "      <td>0.042</td>\n",
              "    </tr>\n",
              "  </tbody>\n",
              "</table>\n",
              "<p>495 rows × 2 columns</p>\n",
              "</div>"
            ],
            "text/plain": [
              "     Close Price  log_returns\n",
              "1           5.20       -0.028\n",
              "2           4.65       -0.112\n",
              "3           4.80        0.032\n",
              "4           4.45       -0.076\n",
              "5           4.35       -0.023\n",
              "..           ...          ...\n",
              "491         5.70        0.000\n",
              "492         5.90        0.034\n",
              "493         6.45        0.089\n",
              "494         7.05        0.089\n",
              "495         7.35        0.042\n",
              "\n",
              "[495 rows x 2 columns]"
            ]
          },
          "metadata": {
            "tags": []
          },
          "execution_count": 11
        }
      ]
    },
    {
      "cell_type": "code",
      "metadata": {
        "id": "OIxO7_f2IJLr"
      },
      "source": [
        "from sklearn.preprocessing import MinMaxScaler"
      ],
      "execution_count": 12,
      "outputs": []
    },
    {
      "cell_type": "code",
      "metadata": {
        "id": "HDrlxm-aIOiD"
      },
      "source": [
        "scaler_new=MinMaxScaler(feature_range=(0,1)).fit(X)\n",
        "\n",
        "X_scaled=scaler_new.transform(X)"
      ],
      "execution_count": 13,
      "outputs": []
    },
    {
      "cell_type": "code",
      "metadata": {
        "colab": {
          "base_uri": "https://localhost:8080/"
        },
        "id": "eGFE3q3NJIFl",
        "outputId": "95d7cee9-a224-4bc4-c13a-e2a375f7c6f5"
      },
      "source": [
        "X_scaled[:5]"
      ],
      "execution_count": 14,
      "outputs": [
        {
          "output_type": "execute_result",
          "data": {
            "text/plain": [
              "array([[0.54761905, 0.31319012],\n",
              "       [0.46031746, 0.06478756],\n",
              "       [0.48412698, 0.49255294],\n",
              "       [0.42857143, 0.17230871],\n",
              "       [0.41269841, 0.33020561]])"
            ]
          },
          "metadata": {
            "tags": []
          },
          "execution_count": 14
        }
      ]
    },
    {
      "cell_type": "code",
      "metadata": {
        "id": "x7X6ODrGJTJO"
      },
      "source": [
        "y=[x[0] for x in X_scaled]"
      ],
      "execution_count": 15,
      "outputs": []
    },
    {
      "cell_type": "code",
      "metadata": {
        "colab": {
          "base_uri": "https://localhost:8080/"
        },
        "id": "QqIUxOktJXfb",
        "outputId": "87314d62-dcda-4b20-d226-f72be9e30be8"
      },
      "source": [
        "y[:5]"
      ],
      "execution_count": 16,
      "outputs": [
        {
          "output_type": "execute_result",
          "data": {
            "text/plain": [
              "[0.5476190476190476,\n",
              " 0.46031746031746035,\n",
              " 0.4841269841269841,\n",
              " 0.4285714285714286,\n",
              " 0.41269841269841256]"
            ]
          },
          "metadata": {
            "tags": []
          },
          "execution_count": 16
        }
      ]
    },
    {
      "cell_type": "code",
      "metadata": {
        "colab": {
          "base_uri": "https://localhost:8080/"
        },
        "id": "aTavrzCOJxyz",
        "outputId": "4baf95cd-9ec6-44c8-ceaa-de6cc0d5c28e"
      },
      "source": [
        "split=int(len(X_scaled)*0.8)\n",
        "split"
      ],
      "execution_count": 17,
      "outputs": [
        {
          "output_type": "execute_result",
          "data": {
            "text/plain": [
              "396"
            ]
          },
          "metadata": {
            "tags": []
          },
          "execution_count": 17
        }
      ]
    },
    {
      "cell_type": "code",
      "metadata": {
        "id": "2UwSvPHuKAum"
      },
      "source": [
        "X_train=X_scaled[:split]\n",
        "X_test=X_scaled[split:len(X_scaled)]\n",
        "y_train=y[:split]\n",
        "y_test=y[split:len(y)]\n",
        "#X_train"
      ],
      "execution_count": 18,
      "outputs": []
    },
    {
      "cell_type": "code",
      "metadata": {
        "colab": {
          "base_uri": "https://localhost:8080/"
        },
        "id": "Y7mM05WoKM1-",
        "outputId": "f9bf7623-ee94-43a4-d0cb-31b434498b79"
      },
      "source": [
        "print(X_test.shape,X_train.shape)\n",
        "print(len(y_train),len(y_test))"
      ],
      "execution_count": 19,
      "outputs": [
        {
          "output_type": "stream",
          "text": [
            "(99, 2) (396, 2)\n",
            "396 99\n"
          ],
          "name": "stdout"
        }
      ]
    },
    {
      "cell_type": "code",
      "metadata": {
        "id": "ymrDHoyrKqCN"
      },
      "source": [
        "assert len(X_train)==len(y_train)\n",
        "assert len(X_test)==len(y_test)\n",
        "\n"
      ],
      "execution_count": 20,
      "outputs": []
    },
    {
      "cell_type": "code",
      "metadata": {
        "id": "MWUYc2zFMwC2"
      },
      "source": [
        "n=3\n",
        "Xtrain=[]\n",
        "ytrain=[]\n",
        "Xtest=[]\n",
        "ytest=[]\n",
        "\n",
        "for i in range(n,len(X_train)):\n",
        "  Xtrain.append(X_train[i-n:i,:X_train.shape[1]])\n",
        "  ytrain.append(y_train[i])\n",
        "\n",
        "for j in range(n,len(X_test)):\n",
        "  Xtest.append(X_test[j-n:j,:X_test.shape[1]])\n",
        "  ytest.append(y_test[j])\n",
        "  #print(X_train[i-n:i,:X_train.shape[1]])\n",
        "  #print(i,n,i-n)\n",
        "  \n"
      ],
      "execution_count": 21,
      "outputs": []
    },
    {
      "cell_type": "code",
      "metadata": {
        "colab": {
          "base_uri": "https://localhost:8080/",
          "height": 204
        },
        "id": "iI1AyNcnTFwq",
        "outputId": "0e542152-2a77-4da8-e02b-2f1a35b045bd"
      },
      "source": [
        "X.head()"
      ],
      "execution_count": 22,
      "outputs": [
        {
          "output_type": "execute_result",
          "data": {
            "text/html": [
              "<div>\n",
              "<style scoped>\n",
              "    .dataframe tbody tr th:only-of-type {\n",
              "        vertical-align: middle;\n",
              "    }\n",
              "\n",
              "    .dataframe tbody tr th {\n",
              "        vertical-align: top;\n",
              "    }\n",
              "\n",
              "    .dataframe thead th {\n",
              "        text-align: right;\n",
              "    }\n",
              "</style>\n",
              "<table border=\"1\" class=\"dataframe\">\n",
              "  <thead>\n",
              "    <tr style=\"text-align: right;\">\n",
              "      <th></th>\n",
              "      <th>Close Price</th>\n",
              "      <th>log_returns</th>\n",
              "    </tr>\n",
              "  </thead>\n",
              "  <tbody>\n",
              "    <tr>\n",
              "      <th>1</th>\n",
              "      <td>5.20</td>\n",
              "      <td>-0.028</td>\n",
              "    </tr>\n",
              "    <tr>\n",
              "      <th>2</th>\n",
              "      <td>4.65</td>\n",
              "      <td>-0.112</td>\n",
              "    </tr>\n",
              "    <tr>\n",
              "      <th>3</th>\n",
              "      <td>4.80</td>\n",
              "      <td>0.032</td>\n",
              "    </tr>\n",
              "    <tr>\n",
              "      <th>4</th>\n",
              "      <td>4.45</td>\n",
              "      <td>-0.076</td>\n",
              "    </tr>\n",
              "    <tr>\n",
              "      <th>5</th>\n",
              "      <td>4.35</td>\n",
              "      <td>-0.023</td>\n",
              "    </tr>\n",
              "  </tbody>\n",
              "</table>\n",
              "</div>"
            ],
            "text/plain": [
              "   Close Price  log_returns\n",
              "1         5.20       -0.028\n",
              "2         4.65       -0.112\n",
              "3         4.80        0.032\n",
              "4         4.45       -0.076\n",
              "5         4.35       -0.023"
            ]
          },
          "metadata": {
            "tags": []
          },
          "execution_count": 22
        }
      ]
    },
    {
      "cell_type": "code",
      "metadata": {
        "colab": {
          "base_uri": "https://localhost:8080/"
        },
        "id": "KwZ0JCXtNZGB",
        "outputId": "8656dce5-1be8-4f6a-c28a-853bdd449194"
      },
      "source": [
        "Xtrain[100]"
      ],
      "execution_count": null,
      "outputs": [
        {
          "output_type": "execute_result",
          "data": {
            "text/plain": [
              "array([[0.17460317, 0.346109  ],\n",
              "       [0.17460317, 0.39793831],\n",
              "       [0.1984127 , 0.550798  ]])"
            ]
          },
          "metadata": {
            "tags": []
          },
          "execution_count": 345
        }
      ]
    },
    {
      "cell_type": "code",
      "metadata": {
        "colab": {
          "base_uri": "https://localhost:8080/"
        },
        "id": "WyzSsMYBSoSt",
        "outputId": "6f295a89-268a-4aac-de09-e739637ef53c"
      },
      "source": [
        "ytrain[0]"
      ],
      "execution_count": null,
      "outputs": [
        {
          "output_type": "execute_result",
          "data": {
            "text/plain": [
              "0.4285714285714286"
            ]
          },
          "metadata": {
            "tags": []
          },
          "execution_count": 346
        }
      ]
    },
    {
      "cell_type": "code",
      "metadata": {
        "colab": {
          "base_uri": "https://localhost:8080/"
        },
        "id": "qlXLj_B0StWp",
        "outputId": "89be73dc-3dcb-4130-d9d2-94942c6aeae2"
      },
      "source": [
        "val=np.array(ytrain[0])\n",
        "val=np.c_[val,np.zeros(val.shape)]\n",
        "scaler_new.inverse_transform(val)"
      ],
      "execution_count": 23,
      "outputs": [
        {
          "output_type": "execute_result",
          "data": {
            "text/plain": [
              "array([[ 4.45      , -0.13353139]])"
            ]
          },
          "metadata": {
            "tags": []
          },
          "execution_count": 23
        }
      ]
    },
    {
      "cell_type": "code",
      "metadata": {
        "id": "CQ59UMaLYEnl"
      },
      "source": [
        "Xtrain,ytrain=(np.array(Xtrain),np.array(ytrain))\n",
        "Xtrain=np.reshape(Xtrain,(Xtrain.shape[0],Xtrain.shape[1],Xtrain.shape[2]))\n",
        "\n",
        "Xtest,ytest=(np.array(Xtest),np.array(ytest))\n",
        "Xtest=np.reshape(Xtest,(Xtest.shape[0],Xtest.shape[1],Xtest.shape[2]))\n"
      ],
      "execution_count": 24,
      "outputs": []
    },
    {
      "cell_type": "code",
      "metadata": {
        "colab": {
          "base_uri": "https://localhost:8080/"
        },
        "id": "fKWCdqqKYgLj",
        "outputId": "aec783c7-7067-45bd-93aa-a5b60e135384"
      },
      "source": [
        "print(Xtrain.shape)\n",
        "print(ytrain.shape)\n",
        "print(\"-----------\")\n",
        "print(Xtest.shape)\n",
        "print(ytest.shape)\n",
        "\n"
      ],
      "execution_count": 25,
      "outputs": [
        {
          "output_type": "stream",
          "text": [
            "(393, 3, 2)\n",
            "(393,)\n",
            "-----------\n",
            "(96, 3, 2)\n",
            "(96,)\n"
          ],
          "name": "stdout"
        }
      ]
    },
    {
      "cell_type": "code",
      "metadata": {
        "colab": {
          "base_uri": "https://localhost:8080/"
        },
        "id": "aht8A9Ida_Mu",
        "outputId": "cb5cee5a-755f-4431-bc87-56fd48b0dd78"
      },
      "source": [
        "from sklearn.preprocessing import MinMaxScaler\n",
        "from keras.models import Sequential\n",
        "from keras.layers import Dense, Dropout, LSTM\n",
        "\n",
        "# create and fit the LSTM network\n",
        "model = Sequential()\n",
        "model.add(LSTM(4, input_shape=(Xtrain.shape[1],Xtrain.shape[2])))\n",
        "model.add(Dense(1))\n",
        "#model.add(LSTM(units=50))\n",
        "\n",
        "model.compile(loss='mean_squared_error', optimizer='adam')\n",
        "model.fit(Xtrain, ytrain, epochs=10,validation_data=(Xtest,ytest) ,batch_size=6, verbose=1)"
      ],
      "execution_count": 28,
      "outputs": [
        {
          "output_type": "stream",
          "text": [
            "Epoch 1/10\n",
            "66/66 [==============================] - 18s 14ms/step - loss: 0.0916 - val_loss: 0.1760\n",
            "Epoch 2/10\n",
            "66/66 [==============================] - 0s 3ms/step - loss: 0.0262 - val_loss: 0.0915\n",
            "Epoch 3/10\n",
            "66/66 [==============================] - 0s 3ms/step - loss: 0.0169 - val_loss: 0.0696\n",
            "Epoch 4/10\n",
            "66/66 [==============================] - 0s 3ms/step - loss: 0.0149 - val_loss: 0.0579\n",
            "Epoch 5/10\n",
            "66/66 [==============================] - 0s 3ms/step - loss: 0.0128 - val_loss: 0.0460\n",
            "Epoch 6/10\n",
            "66/66 [==============================] - 0s 3ms/step - loss: 0.0106 - val_loss: 0.0375\n",
            "Epoch 7/10\n",
            "66/66 [==============================] - 0s 3ms/step - loss: 0.0091 - val_loss: 0.0297\n",
            "Epoch 8/10\n",
            "66/66 [==============================] - 0s 3ms/step - loss: 0.0059 - val_loss: 0.0203\n",
            "Epoch 9/10\n",
            "66/66 [==============================] - 0s 3ms/step - loss: 0.0038 - val_loss: 0.0116\n",
            "Epoch 10/10\n",
            "66/66 [==============================] - 0s 3ms/step - loss: 0.0036 - val_loss: 0.0077\n"
          ],
          "name": "stdout"
        },
        {
          "output_type": "execute_result",
          "data": {
            "text/plain": [
              "<keras.callbacks.History at 0x7f3727a94590>"
            ]
          },
          "metadata": {
            "tags": []
          },
          "execution_count": 28
        }
      ]
    },
    {
      "cell_type": "code",
      "metadata": {
        "colab": {
          "base_uri": "https://localhost:8080/"
        },
        "id": "d6nyokeBbZjC",
        "outputId": "dff5aac8-df1f-459d-d11b-71571bcff20d"
      },
      "source": [
        "model.summary()"
      ],
      "execution_count": null,
      "outputs": [
        {
          "output_type": "stream",
          "text": [
            "Model: \"sequential_6\"\n",
            "_________________________________________________________________\n",
            "Layer (type)                 Output Shape              Param #   \n",
            "=================================================================\n",
            "lstm_9 (LSTM)                (None, 4)                 112       \n",
            "_________________________________________________________________\n",
            "dense_6 (Dense)              (None, 1)                 5         \n",
            "=================================================================\n",
            "Total params: 117\n",
            "Trainable params: 117\n",
            "Non-trainable params: 0\n",
            "_________________________________________________________________\n"
          ],
          "name": "stdout"
        }
      ]
    },
    {
      "cell_type": "code",
      "metadata": {
        "id": "lFXBGxBNbxep"
      },
      "source": [
        "trainPredictF=model.predict(Xtrain)\n",
        "testPredictF=model.predict(Xtest)"
      ],
      "execution_count": 38,
      "outputs": []
    },
    {
      "cell_type": "code",
      "metadata": {
        "colab": {
          "base_uri": "https://localhost:8080/"
        },
        "id": "5X_Ug5_acIIX",
        "outputId": "5fc9b191-ff9e-41f3-97e3-0adf1d994e73"
      },
      "source": [
        "trainPredictFi=np.c_[trainPredictF,np.zeros(trainPredictF.shape)]\n",
        "testPredictFi=np.c_[testPredictF,np.zeros(testPredictF.shape)]\n",
        "\n",
        "print(len(testPredictFi),len(trainPredictFi))"
      ],
      "execution_count": 39,
      "outputs": [
        {
          "output_type": "stream",
          "text": [
            "96 393\n"
          ],
          "name": "stdout"
        }
      ]
    },
    {
      "cell_type": "code",
      "metadata": {
        "id": "xXqL0AgPfRDl"
      },
      "source": [
        "trainPredict_RM=scaler_new.inverse_transform(trainPredictFi)\n",
        "trainPredict_RM=[x[0] for x in trainPredictFi]\n",
        "\n",
        "testPredict_RM=scaler_new.inverse_transform(testPredictFi)\n",
        "testPredict_RM=[x[0] for x in testPredictFi]\n"
      ],
      "execution_count": 46,
      "outputs": []
    },
    {
      "cell_type": "code",
      "metadata": {
        "id": "I286S_MQfzo1"
      },
      "source": [
        "from sklearn.metrics import mean_squared_error "
      ],
      "execution_count": 42,
      "outputs": []
    },
    {
      "cell_type": "code",
      "metadata": {
        "colab": {
          "base_uri": "https://localhost:8080/"
        },
        "id": "OgNT2X1kgFrp",
        "outputId": "3cb93d78-f313-4649-95f8-cbe43f082127"
      },
      "source": [
        "trainScore=mean_squared_error([x[0][0] for x in Xtrain],trainPredict_RM,squared=False)\n",
        "print('Train Score : %2f RMSE'%(trainScore))\n",
        "testScore=mean_squared_error([x[0][0] for x in Xtest],testPredict_RM,squared=False)\n",
        "print('Test Score : %2f RMSE'%(testScore))"
      ],
      "execution_count": 47,
      "outputs": [
        {
          "output_type": "stream",
          "text": [
            "Train Score : 0.059859 RMSE\n",
            "Test Score : 0.096625 RMSE\n"
          ],
          "name": "stdout"
        }
      ]
    },
    {
      "cell_type": "code",
      "metadata": {
        "colab": {
          "base_uri": "https://localhost:8080/"
        },
        "id": "J_MKS72ajwsR",
        "outputId": "eb3fe494-4849-45f6-849f-06418a7bf7be"
      },
      "source": [
        "tP=np.array(testPredict_RM)\n",
        "\n",
        "#type(X_test)\n",
        "valid_new=Xtest\n",
        "\n",
        "#valid_new['Pred']=testPredict_RM\n",
        "print(type(valid_new),len(valid_new))\n",
        "#print(type(tP),len(tP))\n",
        "#print(valid_new[:])\n"
      ],
      "execution_count": 61,
      "outputs": [
        {
          "output_type": "stream",
          "text": [
            "<class 'numpy.ndarray'> 96\n"
          ],
          "name": "stdout"
        }
      ]
    },
    {
      "cell_type": "code",
      "metadata": {
        "colab": {
          "base_uri": "https://localhost:8080/"
        },
        "id": "FMOEaIbHTuDB",
        "outputId": "dd22dda7-0d1f-4295-86bf-c559faf5da28"
      },
      "source": [
        "print(type(testPredict_RM),\n",
        "type(trainPredict_RM))"
      ],
      "execution_count": 64,
      "outputs": [
        {
          "output_type": "stream",
          "text": [
            "<class 'list'> <class 'list'>\n"
          ],
          "name": "stdout"
        }
      ]
    },
    {
      "cell_type": "code",
      "metadata": {
        "id": "FGRw_rKPmkHq"
      },
      "source": [
        "\n",
        "valid = np.append(valid_new, tP)"
      ],
      "execution_count": 49,
      "outputs": []
    },
    {
      "cell_type": "code",
      "metadata": {
        "colab": {
          "base_uri": "https://localhost:8080/",
          "height": 516
        },
        "id": "9-k8dEgQhCuJ",
        "outputId": "2e62e37a-8e7d-4096-cd4d-8338e27a2764"
      },
      "source": [
        "\n",
        "\n",
        "#for plotting\n",
        "plt.figure(figsize=(16,8))\n",
        "#train = Xtrain[0]\n",
        "#valid = X_test\n",
        "#valid['Predictions'] = tP\n",
        "plt.plot(trainPredict_RM,'g')\n",
        "plt.plot(testPredict_RM)\n",
        "\n",
        "plt.title('Suzlon Prediction')\n",
        "plt.legend(['Close Price','Valid_Close Price','Predict Price'])"
      ],
      "execution_count": 56,
      "outputs": [
        {
          "output_type": "execute_result",
          "data": {
            "text/plain": [
              "<matplotlib.legend.Legend at 0x7f371f4670d0>"
            ]
          },
          "metadata": {
            "tags": []
          },
          "execution_count": 56
        },
        {
          "output_type": "display_data",
          "data": {
            "image/png": "[encoded data removed]",
            "text/plain": [
              "<Figure size 1152x576 with 1 Axes>"
            ]
          },
          "metadata": {
            "tags": [],
            "needs_background": "light"
          }
        }
      ]
    },
    {
      "cell_type": "code",
      "metadata": {
        "colab": {
          "base_uri": "https://localhost:8080/",
          "height": 500
        },
        "id": "o018IT9ikpnp",
        "outputId": "92f0f679-9756-4642-a82f-796523a57810"
      },
      "source": [
        "\n",
        "#setting index as date\n",
        "df['Date'] = pd.to_datetime(df.Date,format='%Y-%m-%d')\n",
        "df.index = df['Date']\n",
        "\n",
        "#plot\n",
        "plt.figure(figsize=(16,8))\n",
        "plt.plot(df['Close Price'], label='Close Price history')"
      ],
      "execution_count": null,
      "outputs": [
        {
          "output_type": "execute_result",
          "data": {
            "text/plain": [
              "[<matplotlib.lines.Line2D at 0x7f3766f1ded0>]"
            ]
          },
          "metadata": {
            "tags": []
          },
          "execution_count": 279
        },
        {
          "output_type": "display_data",
          "data": {
            "image/png": "[encoded data removed]",
            "text/plain": [
              "<Figure size 1152x576 with 1 Axes>"
            ]
          },
          "metadata": {
            "tags": [],
            "needs_background": "light"
          }
        }
      ]
    },
    {
      "cell_type": "code",
      "metadata": {
        "id": "0H4s_pKYcHLh"
      },
      "source": [
        ""
      ],
      "execution_count": null,
      "outputs": []
    },
    {
      "cell_type": "code",
      "metadata": {
        "id": "xzskt4iGbYnC"
      },
      "source": [
        ""
      ],
      "execution_count": null,
      "outputs": []
    },
    {
      "cell_type": "code",
      "metadata": {
        "id": "xAK0kgLgINl0"
      },
      "source": [
        ""
      ],
      "execution_count": null,
      "outputs": []
    },
    {
      "cell_type": "code",
      "metadata": {
        "id": "P35l0Q--90M1"
      },
      "source": [
        "s=df.shape\n",
        "size=s[0]*.75\n",
        "size=int(size)"
      ],
      "execution_count": 65,
      "outputs": []
    },
    {
      "cell_type": "code",
      "metadata": {
        "colab": {
          "base_uri": "https://localhost:8080/"
        },
        "id": "2ZPv1yDLn7p9",
        "outputId": "16f2242c-9525-46d7-dda6-2379640c34db"
      },
      "source": [
        "#importing required libraries\n",
        "from sklearn.preprocessing import MinMaxScaler\n",
        "from keras.models import Sequential\n",
        "from keras.layers import Dense, Dropout, LSTM\n",
        "\n",
        "#creating dataframe\n",
        "data = df.sort_index(ascending=True, axis=0)\n",
        "new_data = pd.DataFrame(index=range(0,len(df)),columns=['Date', 'Close'])\n",
        "for i in range(0,len(data)):\n",
        "    new_data['Date'][i] = data['Date'][i]\n",
        "    new_data['Close'][i] = data['Close Price'][i]\n",
        "\n",
        "#setting index\n",
        "new_data.index = new_data.Date\n",
        "new_data.drop('Date', axis=1, inplace=True)\n",
        "\n",
        "#creating train and test sets\n",
        "dataset = new_data.values\n",
        "#size=size.astype(int)\n",
        "train = dataset[0:size,:]\n",
        "valid = dataset[size:,:]\n",
        "\n",
        "#converting dataset into x_train and y_train\n",
        "scaler = MinMaxScaler(feature_range=(0, 1))\n",
        "scaled_data = scaler.fit_transform(dataset)\n",
        "\n",
        "x_train, y_train = [], []\n",
        "for i in range(60,len(train)):\n",
        "    x_train.append(scaled_data[i-60:i,0])\n",
        "    y_train.append(scaled_data[i,0])\n",
        "x_train, y_train = np.array(x_train), np.array(y_train)\n",
        "\n",
        "x_train = np.reshape(x_train, (x_train.shape[0],x_train.shape[1],1))\n",
        "\n",
        "# create and fit the LSTM network\n",
        "model = Sequential()\n",
        "model.add(LSTM(units=50, return_sequences=True, input_shape=(x_train.shape[1],1)))\n",
        "model.add(LSTM(units=50))\n",
        "model.add(Dense(1))\n",
        "\n",
        "model.compile(loss='mean_squared_error', optimizer='adam')\n",
        "model.fit(x_train, y_train, epochs=100, batch_size=6, verbose=1)\n",
        "\n",
        "#predicting 246 values, using past 60 from the train data\n",
        "inputs = new_data[len(new_data) - len(valid) - 60:].values\n",
        "inputs = inputs.reshape(-1,1)\n",
        "inputs  = scaler.transform(inputs)\n",
        "\n",
        "X_test = []\n",
        "for i in range(60,inputs.shape[0]):\n",
        "    X_test.append(inputs[i-60:i,0])\n",
        "X_test = np.array(X_test)\n",
        "\n",
        "X_test = np.reshape(X_test, (X_test.shape[0],X_test.shape[1],1))\n",
        "closing_price = model.predict(X_test)\n",
        "closing_price = scaler.inverse_transform(closing_price)"
      ],
      "execution_count": 69,
      "outputs": [
        {
          "output_type": "stream",
          "text": [
            "Epoch 1/100\n",
            "52/52 [==============================] - 4s 29ms/step - loss: 0.0181\n",
            "Epoch 2/100\n",
            "52/52 [==============================] - 2s 29ms/step - loss: 0.0045\n",
            "Epoch 3/100\n",
            "52/52 [==============================] - 2s 29ms/step - loss: 0.0032\n",
            "Epoch 4/100\n",
            "52/52 [==============================] - 2s 30ms/step - loss: 0.0027\n",
            "Epoch 5/100\n",
            "52/52 [==============================] - 2s 29ms/step - loss: 0.0030\n",
            "Epoch 6/100\n",
            "52/52 [==============================] - 2s 30ms/step - loss: 0.0029\n",
            "Epoch 7/100\n",
            "52/52 [==============================] - 2s 29ms/step - loss: 0.0028\n",
            "Epoch 8/100\n",
            "52/52 [==============================] - 2s 30ms/step - loss: 0.0019\n",
            "Epoch 9/100\n",
            "52/52 [==============================] - 2s 29ms/step - loss: 0.0023\n",
            "Epoch 10/100\n",
            "52/52 [==============================] - 2s 29ms/step - loss: 0.0019\n",
            "Epoch 11/100\n",
            "52/52 [==============================] - 2s 30ms/step - loss: 0.0016\n",
            "Epoch 12/100\n",
            "52/52 [==============================] - 2s 30ms/step - loss: 0.0015\n",
            "Epoch 13/100\n",
            "52/52 [==============================] - 2s 30ms/step - loss: 0.0021\n",
            "Epoch 14/100\n",
            "52/52 [==============================] - 2s 29ms/step - loss: 0.0011\n",
            "Epoch 15/100\n",
            "52/52 [==============================] - 2s 31ms/step - loss: 0.0012\n",
            "Epoch 16/100\n",
            "52/52 [==============================] - 2s 29ms/step - loss: 0.0013\n",
            "Epoch 17/100\n",
            "52/52 [==============================] - 2s 30ms/step - loss: 0.0010\n",
            "Epoch 18/100\n",
            "52/52 [==============================] - 2s 29ms/step - loss: 9.5350e-04\n",
            "Epoch 19/100\n",
            "52/52 [==============================] - 2s 30ms/step - loss: 8.3471e-04\n",
            "Epoch 20/100\n",
            "52/52 [==============================] - 2s 29ms/step - loss: 8.0796e-04\n",
            "Epoch 21/100\n",
            "52/52 [==============================] - 2s 30ms/step - loss: 0.0011\n",
            "Epoch 22/100\n",
            "52/52 [==============================] - 2s 30ms/step - loss: 7.4752e-04\n",
            "Epoch 23/100\n",
            "52/52 [==============================] - 2s 30ms/step - loss: 8.4466e-04\n",
            "Epoch 24/100\n",
            "52/52 [==============================] - 2s 30ms/step - loss: 9.3929e-04\n",
            "Epoch 25/100\n",
            "52/52 [==============================] - 2s 30ms/step - loss: 6.4886e-04\n",
            "Epoch 26/100\n",
            "52/52 [==============================] - 2s 30ms/step - loss: 5.7615e-04\n",
            "Epoch 27/100\n",
            "52/52 [==============================] - 2s 30ms/step - loss: 5.4453e-04\n",
            "Epoch 28/100\n",
            "52/52 [==============================] - 2s 30ms/step - loss: 4.6855e-04\n",
            "Epoch 29/100\n",
            "52/52 [==============================] - 2s 30ms/step - loss: 5.4956e-04\n",
            "Epoch 30/100\n",
            "52/52 [==============================] - 2s 29ms/step - loss: 5.9393e-04\n",
            "Epoch 31/100\n",
            "52/52 [==============================] - 2s 29ms/step - loss: 6.6966e-04\n",
            "Epoch 32/100\n",
            "52/52 [==============================] - 2s 30ms/step - loss: 5.6059e-04\n",
            "Epoch 33/100\n",
            "52/52 [==============================] - 2s 29ms/step - loss: 4.7677e-04\n",
            "Epoch 34/100\n",
            "52/52 [==============================] - 2s 30ms/step - loss: 5.6139e-04\n",
            "Epoch 35/100\n",
            "52/52 [==============================] - 2s 31ms/step - loss: 4.4064e-04\n",
            "Epoch 36/100\n",
            "52/52 [==============================] - 2s 31ms/step - loss: 4.2632e-04\n",
            "Epoch 37/100\n",
            "52/52 [==============================] - 2s 30ms/step - loss: 5.4253e-04\n",
            "Epoch 38/100\n",
            "52/52 [==============================] - 2s 30ms/step - loss: 3.8148e-04\n",
            "Epoch 39/100\n",
            "52/52 [==============================] - 2s 29ms/step - loss: 4.4188e-04\n",
            "Epoch 40/100\n",
            "52/52 [==============================] - 2s 30ms/step - loss: 5.0587e-04\n",
            "Epoch 41/100\n",
            "52/52 [==============================] - 2s 30ms/step - loss: 5.2313e-04\n",
            "Epoch 42/100\n",
            "52/52 [==============================] - 2s 31ms/step - loss: 3.4609e-04\n",
            "Epoch 43/100\n",
            "52/52 [==============================] - 2s 30ms/step - loss: 4.0252e-04\n",
            "Epoch 44/100\n",
            "52/52 [==============================] - 2s 30ms/step - loss: 4.1561e-04\n",
            "Epoch 45/100\n",
            "52/52 [==============================] - 2s 30ms/step - loss: 3.4376e-04\n",
            "Epoch 46/100\n",
            "52/52 [==============================] - 2s 30ms/step - loss: 3.9632e-04\n",
            "Epoch 47/100\n",
            "52/52 [==============================] - 2s 32ms/step - loss: 3.7844e-04\n",
            "Epoch 48/100\n",
            "52/52 [==============================] - 2s 30ms/step - loss: 4.2481e-04\n",
            "Epoch 49/100\n",
            "52/52 [==============================] - 2s 30ms/step - loss: 3.9139e-04\n",
            "Epoch 50/100\n",
            "52/52 [==============================] - 2s 30ms/step - loss: 4.7834e-04\n",
            "Epoch 51/100\n",
            "52/52 [==============================] - 2s 31ms/step - loss: 4.1567e-04\n",
            "Epoch 52/100\n",
            "52/52 [==============================] - 2s 29ms/step - loss: 4.1401e-04\n",
            "Epoch 53/100\n",
            "52/52 [==============================] - 2s 29ms/step - loss: 5.4812e-04\n",
            "Epoch 54/100\n",
            "52/52 [==============================] - 2s 30ms/step - loss: 4.2470e-04\n",
            "Epoch 55/100\n",
            "52/52 [==============================] - 2s 30ms/step - loss: 3.4893e-04\n",
            "Epoch 56/100\n",
            "52/52 [==============================] - 2s 30ms/step - loss: 3.9550e-04\n",
            "Epoch 57/100\n",
            "52/52 [==============================] - 2s 29ms/step - loss: 3.2164e-04\n",
            "Epoch 58/100\n",
            "52/52 [==============================] - 2s 32ms/step - loss: 4.1341e-04\n",
            "Epoch 59/100\n",
            "52/52 [==============================] - 2s 30ms/step - loss: 4.2207e-04\n",
            "Epoch 60/100\n",
            "52/52 [==============================] - 2s 30ms/step - loss: 3.7927e-04\n",
            "Epoch 61/100\n",
            "52/52 [==============================] - 2s 30ms/step - loss: 3.5775e-04\n",
            "Epoch 62/100\n",
            "52/52 [==============================] - 2s 30ms/step - loss: 4.3837e-04\n",
            "Epoch 63/100\n",
            "52/52 [==============================] - 2s 30ms/step - loss: 4.6341e-04\n",
            "Epoch 64/100\n",
            "52/52 [==============================] - 2s 30ms/step - loss: 4.0946e-04\n",
            "Epoch 65/100\n",
            "52/52 [==============================] - 2s 30ms/step - loss: 3.5805e-04\n",
            "Epoch 66/100\n",
            "52/52 [==============================] - 2s 31ms/step - loss: 3.6170e-04\n",
            "Epoch 67/100\n",
            "52/52 [==============================] - 2s 30ms/step - loss: 3.1145e-04\n",
            "Epoch 68/100\n",
            "52/52 [==============================] - 2s 30ms/step - loss: 4.9186e-04\n",
            "Epoch 69/100\n",
            "52/52 [==============================] - 2s 30ms/step - loss: 3.6622e-04\n",
            "Epoch 70/100\n",
            "52/52 [==============================] - 2s 29ms/step - loss: 3.8678e-04\n",
            "Epoch 71/100\n",
            "52/52 [==============================] - 2s 30ms/step - loss: 3.4926e-04\n",
            "Epoch 72/100\n",
            "52/52 [==============================] - 2s 31ms/step - loss: 4.5477e-04\n",
            "Epoch 73/100\n",
            "52/52 [==============================] - 2s 30ms/step - loss: 4.5178e-04\n",
            "Epoch 74/100\n",
            "52/52 [==============================] - 2s 30ms/step - loss: 4.1563e-04\n",
            "Epoch 75/100\n",
            "52/52 [==============================] - 2s 30ms/step - loss: 3.7526e-04\n",
            "Epoch 76/100\n",
            "52/52 [==============================] - 2s 30ms/step - loss: 3.5064e-04\n",
            "Epoch 77/100\n",
            "52/52 [==============================] - 2s 30ms/step - loss: 3.7675e-04\n",
            "Epoch 78/100\n",
            "52/52 [==============================] - 2s 30ms/step - loss: 3.9182e-04\n",
            "Epoch 79/100\n",
            "52/52 [==============================] - 2s 30ms/step - loss: 3.7882e-04\n",
            "Epoch 80/100\n",
            "52/52 [==============================] - 2s 30ms/step - loss: 4.1295e-04\n",
            "Epoch 81/100\n",
            "52/52 [==============================] - 2s 30ms/step - loss: 3.8533e-04\n",
            "Epoch 82/100\n",
            "52/52 [==============================] - 2s 30ms/step - loss: 4.0695e-04\n",
            "Epoch 83/100\n",
            "52/52 [==============================] - 2s 30ms/step - loss: 3.4956e-04\n",
            "Epoch 84/100\n",
            "52/52 [==============================] - 2s 30ms/step - loss: 4.2082e-04\n",
            "Epoch 85/100\n",
            "52/52 [==============================] - 2s 30ms/step - loss: 3.8233e-04\n",
            "Epoch 86/100\n",
            "52/52 [==============================] - 2s 30ms/step - loss: 3.3651e-04\n",
            "Epoch 87/100\n",
            "52/52 [==============================] - 2s 30ms/step - loss: 3.9475e-04\n",
            "Epoch 88/100\n",
            "52/52 [==============================] - 2s 30ms/step - loss: 3.3362e-04\n",
            "Epoch 89/100\n",
            "52/52 [==============================] - 2s 30ms/step - loss: 4.0942e-04\n",
            "Epoch 90/100\n",
            "52/52 [==============================] - 2s 30ms/step - loss: 3.5032e-04\n",
            "Epoch 91/100\n",
            "52/52 [==============================] - 2s 29ms/step - loss: 3.9728e-04\n",
            "Epoch 92/100\n",
            "52/52 [==============================] - 2s 30ms/step - loss: 3.3279e-04\n",
            "Epoch 93/100\n",
            "52/52 [==============================] - 2s 30ms/step - loss: 3.0948e-04\n",
            "Epoch 94/100\n",
            "52/52 [==============================] - 2s 31ms/step - loss: 3.7693e-04\n",
            "Epoch 95/100\n",
            "52/52 [==============================] - 2s 30ms/step - loss: 4.1378e-04\n",
            "Epoch 96/100\n",
            "52/52 [==============================] - 2s 32ms/step - loss: 3.6426e-04\n",
            "Epoch 97/100\n",
            "52/52 [==============================] - 2s 30ms/step - loss: 3.3869e-04\n",
            "Epoch 98/100\n",
            "52/52 [==============================] - 2s 30ms/step - loss: 3.3664e-04\n",
            "Epoch 99/100\n",
            "52/52 [==============================] - 2s 30ms/step - loss: 4.1200e-04\n",
            "Epoch 100/100\n",
            "52/52 [==============================] - 2s 31ms/step - loss: 3.4393e-04\n"
          ],
          "name": "stdout"
        }
      ]
    },
    {
      "cell_type": "code",
      "metadata": {
        "colab": {
          "base_uri": "https://localhost:8080/"
        },
        "id": "6PmxrjCkrn6v",
        "outputId": "3d624508-0820-4cfe-f80c-95d7db0a82f9"
      },
      "source": [
        "rms=np.sqrt(np.mean(np.power((valid-closing_price),2)))\n",
        "rms"
      ],
      "execution_count": 70,
      "outputs": [
        {
          "output_type": "execute_result",
          "data": {
            "text/plain": [
              "0.24380221451619358"
            ]
          },
          "metadata": {
            "tags": []
          },
          "execution_count": 70
        }
      ]
    },
    {
      "cell_type": "code",
      "metadata": {
        "colab": {
          "base_uri": "https://localhost:8080/",
          "height": 618
        },
        "id": "GnC5cf01rcs7",
        "outputId": "fde112c8-bf60-4dda-a73b-ba4058d42caf"
      },
      "source": [
        "#for plotting\n",
        "plt.figure(figsize=(16,8))\n",
        "train = new_data[:size]\n",
        "valid = new_data[size:]\n",
        "valid['Predictions'] = closing_price\n",
        "plt.plot(train['Close'],'g')\n",
        "plt.plot(valid[['Close','Predictions']]\n",
        ")\n",
        "plt.title('Suzlon Prediction')\n",
        "plt.legend(['Close','Valid_Close Price','Predict Price'])"
      ],
      "execution_count": 71,
      "outputs": [
        {
          "output_type": "stream",
          "text": [
            "/usr/local/lib/python3.7/dist-packages/ipykernel_launcher.py:5: SettingWithCopyWarning: \n",
            "A value is trying to be set on a copy of a slice from a DataFrame.\n",
            "Try using .loc[row_indexer,col_indexer] = value instead\n",
            "\n",
            "See the caveats in the documentation: https://pandas.pydata.org/pandas-docs/stable/user_guide/indexing.html#returning-a-view-versus-a-copy\n",
            "  \"\"\"\n"
          ],
          "name": "stderr"
        },
        {
          "output_type": "execute_result",
          "data": {
            "text/plain": [
              "<matplotlib.legend.Legend at 0x7f371f394b50>"
            ]
          },
          "metadata": {
            "tags": []
          },
          "execution_count": 71
        },
        {
          "output_type": "display_data",
          "data": {
            "image/png": "[encoded data removed]",
            "text/plain": [
              "<Figure size 1152x576 with 1 Axes>"
            ]
          },
          "metadata": {
            "tags": [],
            "needs_background": "light"
          }
        }
      ]
    },
    {
      "cell_type": "code",
      "metadata": {
        "id": "-JGa4A0Jr1c4"
      },
      "source": [
        ""
      ],
      "execution_count": null,
      "outputs": []
    }
  ]
}