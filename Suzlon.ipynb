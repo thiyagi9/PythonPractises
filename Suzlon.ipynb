{
  "nbformat": 4,
  "nbformat_minor": 0,
  "metadata": {
    "colab": {
      "name": "Suzlon.ipynb",
      "provenance": [],
      "authorship_tag": "ABX9TyPlfjozUtRaTyjqlkbEn2ca",
      "include_colab_link": true
    },
    "kernelspec": {
      "name": "python3",
      "display_name": "Python 3"
    },
    "language_info": {
      "name": "python"
    }
  },
  "cells": [
    {
      "cell_type": "markdown",
      "metadata": {
        "id": "view-in-github",
        "colab_type": "text"
      },
      "source": [
        "<a href=\"https://colab.research.google.com/github/thiyagi9/PythonPractises/blob/main/Suzlon.ipynb\" target=\"_parent\"><img src=\"https://colab.research.google.com/assets/colab-badge.svg\" alt=\"Open In Colab\"/></a>"
      ]
    },
    {
      "cell_type": "code",
      "metadata": {
        "id": "5-vE48r9I40O"
      },
      "source": [
        " #library imports\n",
        "import seaborn as sns\n",
        "import matplotlib.pyplot as plt\n",
        "import numpy as np\n",
        "import pandas as pd\n",
        "pd.set_option('max_columns', 140)\n",
        "pd.set_option('precision', 3)"
      ],
      "execution_count": 2,
      "outputs": []
    },
    {
      "cell_type": "code",
      "metadata": {
        "colab": {
          "resources": {
            "http://localhost:8080/nbextensions/google.colab/files.js": {
              "data": "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",
              "ok": true,
              "headers": [
                [
                  "content-type",
                  "application/javascript"
                ]
              ],
              "status": 200,
              "status_text": ""
            }
          },
          "base_uri": "https://localhost:8080/",
          "height": 72
        },
        "id": "A_UMp4PwI5uC",
        "outputId": "debd0859-dd89-4819-b4b4-33e3672b3db6"
      },
      "source": [
        "# Uploading \"Working hours\" from the working machine. This can be replaced by having the file in GDrive itself\n",
        "from google.colab import files\n",
        "f1 = files.upload()"
      ],
      "execution_count": 3,
      "outputs": [
        {
          "output_type": "display_data",
          "data": {
            "text/html": [
              "\n",
              "     <input type=\"file\" id=\"files-ed845147-766b-4822-878c-01476e405355\" name=\"files[]\" multiple disabled\n",
              "        style=\"border:none\" />\n",
              "     <output id=\"result-ed845147-766b-4822-878c-01476e405355\">\n",
              "      Upload widget is only available when the cell has been executed in the\n",
              "      current browser session. Please rerun this cell to enable.\n",
              "      </output>\n",
              "      <script src=\"/nbextensions/google.colab/files.js\"></script> "
            ],
            "text/plain": [
              "<IPython.core.display.HTML object>"
            ]
          },
          "metadata": {
            "tags": []
          }
        },
        {
          "output_type": "stream",
          "text": [
            "Saving 05-06-2020-TO-04-06-2021SUZLONALLN.csv to 05-06-2020-TO-04-06-2021SUZLONALLN.csv\n"
          ],
          "name": "stdout"
        }
      ]
    },
    {
      "cell_type": "code",
      "metadata": {
        "id": "1dCZF5w2I9wy"
      },
      "source": [
        "df=pd.read_csv('05-06-2020-TO-04-06-2021SUZLONALLN.csv',parse_dates=True, error_bad_lines=False)\n",
        "df['Perc_Change']=((df['Close Price']-df['Prev Close'])/df['Prev Close'])*100\n"
      ],
      "execution_count": 47,
      "outputs": []
    },
    {
      "cell_type": "code",
      "metadata": {
        "id": "jDdNKFhopHQx"
      },
      "source": [
        "df['Date']=pd.to_datetime(df['Date'])"
      ],
      "execution_count": 52,
      "outputs": []
    },
    {
      "cell_type": "code",
      "metadata": {
        "colab": {
          "base_uri": "https://localhost:8080/",
          "height": 323
        },
        "id": "s40FA9pXJGrI",
        "outputId": "2a62826e-ea2f-4637-9a43-b436c4beba82"
      },
      "source": [
        "df.head()"
      ],
      "execution_count": 53,
      "outputs": [
        {
          "output_type": "execute_result",
          "data": {
            "text/html": [
              "<div>\n",
              "<style scoped>\n",
              "    .dataframe tbody tr th:only-of-type {\n",
              "        vertical-align: middle;\n",
              "    }\n",
              "\n",
              "    .dataframe tbody tr th {\n",
              "        vertical-align: top;\n",
              "    }\n",
              "\n",
              "    .dataframe thead th {\n",
              "        text-align: right;\n",
              "    }\n",
              "</style>\n",
              "<table border=\"1\" class=\"dataframe\">\n",
              "  <thead>\n",
              "    <tr style=\"text-align: right;\">\n",
              "      <th></th>\n",
              "      <th>Symbol</th>\n",
              "      <th>Series</th>\n",
              "      <th>Date</th>\n",
              "      <th>Prev Close</th>\n",
              "      <th>Open Price</th>\n",
              "      <th>High Price</th>\n",
              "      <th>Low Price</th>\n",
              "      <th>Last Price</th>\n",
              "      <th>Close Price</th>\n",
              "      <th>Average Price</th>\n",
              "      <th>Total Traded Quantity</th>\n",
              "      <th>Turnover</th>\n",
              "      <th>No. of Trades</th>\n",
              "      <th>Deliverable Qty</th>\n",
              "      <th>% Dly Qt to Traded Qty</th>\n",
              "      <th>Perc_Change</th>\n",
              "    </tr>\n",
              "  </thead>\n",
              "  <tbody>\n",
              "    <tr>\n",
              "      <th>0</th>\n",
              "      <td>SUZLON</td>\n",
              "      <td>EQ</td>\n",
              "      <td>2020-06-05</td>\n",
              "      <td>3.30</td>\n",
              "      <td>3.55</td>\n",
              "      <td>3.60</td>\n",
              "      <td>3.50</td>\n",
              "      <td>3.60</td>\n",
              "      <td>3.60</td>\n",
              "      <td>3.59</td>\n",
              "      <td>19670851</td>\n",
              "      <td>7.068e+07</td>\n",
              "      <td>4908</td>\n",
              "      <td>10876037</td>\n",
              "      <td>55.29</td>\n",
              "      <td>9.091</td>\n",
              "    </tr>\n",
              "    <tr>\n",
              "      <th>1</th>\n",
              "      <td>SUZLON</td>\n",
              "      <td>EQ</td>\n",
              "      <td>2020-06-08</td>\n",
              "      <td>3.60</td>\n",
              "      <td>3.95</td>\n",
              "      <td>3.95</td>\n",
              "      <td>3.95</td>\n",
              "      <td>3.95</td>\n",
              "      <td>3.95</td>\n",
              "      <td>3.95</td>\n",
              "      <td>7283069</td>\n",
              "      <td>2.877e+07</td>\n",
              "      <td>3807</td>\n",
              "      <td>7249225</td>\n",
              "      <td>99.54</td>\n",
              "      <td>9.722</td>\n",
              "    </tr>\n",
              "    <tr>\n",
              "      <th>2</th>\n",
              "      <td>SUZLON</td>\n",
              "      <td>EQ</td>\n",
              "      <td>2020-06-09</td>\n",
              "      <td>3.95</td>\n",
              "      <td>4.30</td>\n",
              "      <td>4.30</td>\n",
              "      <td>3.95</td>\n",
              "      <td>4.30</td>\n",
              "      <td>4.30</td>\n",
              "      <td>4.19</td>\n",
              "      <td>58781511</td>\n",
              "      <td>2.462e+08</td>\n",
              "      <td>26681</td>\n",
              "      <td>37218299</td>\n",
              "      <td>63.32</td>\n",
              "      <td>8.861</td>\n",
              "    </tr>\n",
              "    <tr>\n",
              "      <th>3</th>\n",
              "      <td>SUZLON</td>\n",
              "      <td>EQ</td>\n",
              "      <td>2020-06-10</td>\n",
              "      <td>4.30</td>\n",
              "      <td>4.50</td>\n",
              "      <td>4.50</td>\n",
              "      <td>4.25</td>\n",
              "      <td>4.50</td>\n",
              "      <td>4.50</td>\n",
              "      <td>4.46</td>\n",
              "      <td>41054393</td>\n",
              "      <td>1.833e+08</td>\n",
              "      <td>16508</td>\n",
              "      <td>19589782</td>\n",
              "      <td>47.72</td>\n",
              "      <td>4.651</td>\n",
              "    </tr>\n",
              "    <tr>\n",
              "      <th>4</th>\n",
              "      <td>SUZLON</td>\n",
              "      <td>EQ</td>\n",
              "      <td>2020-06-11</td>\n",
              "      <td>4.50</td>\n",
              "      <td>4.70</td>\n",
              "      <td>4.70</td>\n",
              "      <td>4.60</td>\n",
              "      <td>4.70</td>\n",
              "      <td>4.70</td>\n",
              "      <td>4.69</td>\n",
              "      <td>18177685</td>\n",
              "      <td>8.533e+07</td>\n",
              "      <td>7623</td>\n",
              "      <td>10569158</td>\n",
              "      <td>58.14</td>\n",
              "      <td>4.444</td>\n",
              "    </tr>\n",
              "  </tbody>\n",
              "</table>\n",
              "</div>"
            ],
            "text/plain": [
              "   Symbol Series       Date  Prev Close  Open Price  High Price  Low Price  \\\n",
              "0  SUZLON     EQ 2020-06-05        3.30        3.55        3.60       3.50   \n",
              "1  SUZLON     EQ 2020-06-08        3.60        3.95        3.95       3.95   \n",
              "2  SUZLON     EQ 2020-06-09        3.95        4.30        4.30       3.95   \n",
              "3  SUZLON     EQ 2020-06-10        4.30        4.50        4.50       4.25   \n",
              "4  SUZLON     EQ 2020-06-11        4.50        4.70        4.70       4.60   \n",
              "\n",
              "   Last Price  Close Price  Average Price  Total Traded Quantity   Turnover  \\\n",
              "0        3.60         3.60           3.59               19670851  7.068e+07   \n",
              "1        3.95         3.95           3.95                7283069  2.877e+07   \n",
              "2        4.30         4.30           4.19               58781511  2.462e+08   \n",
              "3        4.50         4.50           4.46               41054393  1.833e+08   \n",
              "4        4.70         4.70           4.69               18177685  8.533e+07   \n",
              "\n",
              "   No. of Trades Deliverable Qty % Dly Qt to Traded Qty  Perc_Change  \n",
              "0           4908        10876037                  55.29        9.091  \n",
              "1           3807         7249225                  99.54        9.722  \n",
              "2          26681        37218299                  63.32        8.861  \n",
              "3          16508        19589782                  47.72        4.651  \n",
              "4           7623        10569158                  58.14        4.444  "
            ]
          },
          "metadata": {
            "tags": []
          },
          "execution_count": 53
        }
      ]
    },
    {
      "cell_type": "code",
      "metadata": {
        "id": "p48ff0xAJTeq"
      },
      "source": [
        "df_max1 = df.sort_values('High Price', ascending=False).head(1)\n",
        "\n",
        "df_maxQty=df.sort_values('Total Traded Quantity',ascending=False).head(10)"
      ],
      "execution_count": 54,
      "outputs": []
    },
    {
      "cell_type": "code",
      "metadata": {
        "colab": {
          "base_uri": "https://localhost:8080/",
          "height": 563
        },
        "id": "ZUYXpeNaiouB",
        "outputId": "c1bd9841-8a5f-4e2a-d31b-7248dadfba45"
      },
      "source": [
        "df_maxQty"
      ],
      "execution_count": 55,
      "outputs": [
        {
          "output_type": "execute_result",
          "data": {
            "text/html": [
              "<div>\n",
              "<style scoped>\n",
              "    .dataframe tbody tr th:only-of-type {\n",
              "        vertical-align: middle;\n",
              "    }\n",
              "\n",
              "    .dataframe tbody tr th {\n",
              "        vertical-align: top;\n",
              "    }\n",
              "\n",
              "    .dataframe thead th {\n",
              "        text-align: right;\n",
              "    }\n",
              "</style>\n",
              "<table border=\"1\" class=\"dataframe\">\n",
              "  <thead>\n",
              "    <tr style=\"text-align: right;\">\n",
              "      <th></th>\n",
              "      <th>Symbol</th>\n",
              "      <th>Series</th>\n",
              "      <th>Date</th>\n",
              "      <th>Prev Close</th>\n",
              "      <th>Open Price</th>\n",
              "      <th>High Price</th>\n",
              "      <th>Low Price</th>\n",
              "      <th>Last Price</th>\n",
              "      <th>Close Price</th>\n",
              "      <th>Average Price</th>\n",
              "      <th>Total Traded Quantity</th>\n",
              "      <th>Turnover</th>\n",
              "      <th>No. of Trades</th>\n",
              "      <th>Deliverable Qty</th>\n",
              "      <th>% Dly Qt to Traded Qty</th>\n",
              "      <th>Perc_Change</th>\n",
              "    </tr>\n",
              "  </thead>\n",
              "  <tbody>\n",
              "    <tr>\n",
              "      <th>250</th>\n",
              "      <td>SUZLON</td>\n",
              "      <td>EQ</td>\n",
              "      <td>2021-06-04</td>\n",
              "      <td>7.05</td>\n",
              "      <td>7.20</td>\n",
              "      <td>7.60</td>\n",
              "      <td>7.05</td>\n",
              "      <td>7.35</td>\n",
              "      <td>7.35</td>\n",
              "      <td>7.35</td>\n",
              "      <td>204370435</td>\n",
              "      <td>1.502e+09</td>\n",
              "      <td>94237</td>\n",
              "      <td>61778354</td>\n",
              "      <td>30.23</td>\n",
              "      <td>4.255</td>\n",
              "    </tr>\n",
              "    <tr>\n",
              "      <th>233</th>\n",
              "      <td>SUZLON</td>\n",
              "      <td>EQ</td>\n",
              "      <td>2021-05-11</td>\n",
              "      <td>5.60</td>\n",
              "      <td>5.65</td>\n",
              "      <td>6.15</td>\n",
              "      <td>5.50</td>\n",
              "      <td>6.15</td>\n",
              "      <td>6.15</td>\n",
              "      <td>6.06</td>\n",
              "      <td>189569965</td>\n",
              "      <td>1.149e+09</td>\n",
              "      <td>39665</td>\n",
              "      <td>73878947</td>\n",
              "      <td>38.97</td>\n",
              "      <td>9.821</td>\n",
              "    </tr>\n",
              "    <tr>\n",
              "      <th>249</th>\n",
              "      <td>SUZLON</td>\n",
              "      <td>EQ</td>\n",
              "      <td>2021-06-03</td>\n",
              "      <td>6.45</td>\n",
              "      <td>6.65</td>\n",
              "      <td>7.05</td>\n",
              "      <td>6.45</td>\n",
              "      <td>7.05</td>\n",
              "      <td>7.05</td>\n",
              "      <td>6.89</td>\n",
              "      <td>185927034</td>\n",
              "      <td>1.281e+09</td>\n",
              "      <td>79425</td>\n",
              "      <td>79015251</td>\n",
              "      <td>42.50</td>\n",
              "      <td>9.302</td>\n",
              "    </tr>\n",
              "    <tr>\n",
              "      <th>248</th>\n",
              "      <td>SUZLON</td>\n",
              "      <td>EQ</td>\n",
              "      <td>2021-06-02</td>\n",
              "      <td>5.90</td>\n",
              "      <td>6.05</td>\n",
              "      <td>6.45</td>\n",
              "      <td>5.90</td>\n",
              "      <td>6.45</td>\n",
              "      <td>6.45</td>\n",
              "      <td>6.32</td>\n",
              "      <td>173915134</td>\n",
              "      <td>1.100e+09</td>\n",
              "      <td>64645</td>\n",
              "      <td>64040564</td>\n",
              "      <td>36.82</td>\n",
              "      <td>9.322</td>\n",
              "    </tr>\n",
              "    <tr>\n",
              "      <th>24</th>\n",
              "      <td>SUZLON</td>\n",
              "      <td>EQ</td>\n",
              "      <td>2020-07-09</td>\n",
              "      <td>5.05</td>\n",
              "      <td>4.80</td>\n",
              "      <td>5.30</td>\n",
              "      <td>4.80</td>\n",
              "      <td>5.30</td>\n",
              "      <td>5.30</td>\n",
              "      <td>5.09</td>\n",
              "      <td>152568245</td>\n",
              "      <td>7.758e+08</td>\n",
              "      <td>35333</td>\n",
              "      <td>42618060</td>\n",
              "      <td>27.93</td>\n",
              "      <td>4.950</td>\n",
              "    </tr>\n",
              "    <tr>\n",
              "      <th>234</th>\n",
              "      <td>SUZLON</td>\n",
              "      <td>EQ</td>\n",
              "      <td>2021-05-12</td>\n",
              "      <td>6.15</td>\n",
              "      <td>6.30</td>\n",
              "      <td>6.35</td>\n",
              "      <td>5.65</td>\n",
              "      <td>5.75</td>\n",
              "      <td>5.70</td>\n",
              "      <td>5.90</td>\n",
              "      <td>86929070</td>\n",
              "      <td>5.133e+08</td>\n",
              "      <td>41996</td>\n",
              "      <td>43177844</td>\n",
              "      <td>49.67</td>\n",
              "      <td>-7.317</td>\n",
              "    </tr>\n",
              "    <tr>\n",
              "      <th>152</th>\n",
              "      <td>SUZLON</td>\n",
              "      <td>BE</td>\n",
              "      <td>2021-01-08</td>\n",
              "      <td>8.05</td>\n",
              "      <td>8.45</td>\n",
              "      <td>8.45</td>\n",
              "      <td>7.65</td>\n",
              "      <td>7.65</td>\n",
              "      <td>7.65</td>\n",
              "      <td>7.89</td>\n",
              "      <td>85124610</td>\n",
              "      <td>6.716e+08</td>\n",
              "      <td>68259</td>\n",
              "      <td>-</td>\n",
              "      <td>-</td>\n",
              "      <td>-4.969</td>\n",
              "    </tr>\n",
              "    <tr>\n",
              "      <th>21</th>\n",
              "      <td>SUZLON</td>\n",
              "      <td>EQ</td>\n",
              "      <td>2020-07-06</td>\n",
              "      <td>5.80</td>\n",
              "      <td>6.05</td>\n",
              "      <td>6.05</td>\n",
              "      <td>5.55</td>\n",
              "      <td>5.55</td>\n",
              "      <td>5.55</td>\n",
              "      <td>5.78</td>\n",
              "      <td>82902105</td>\n",
              "      <td>4.796e+08</td>\n",
              "      <td>29018</td>\n",
              "      <td>38867856</td>\n",
              "      <td>46.88</td>\n",
              "      <td>-4.310</td>\n",
              "    </tr>\n",
              "    <tr>\n",
              "      <th>13</th>\n",
              "      <td>SUZLON</td>\n",
              "      <td>EQ</td>\n",
              "      <td>2020-06-24</td>\n",
              "      <td>4.65</td>\n",
              "      <td>4.85</td>\n",
              "      <td>4.85</td>\n",
              "      <td>4.45</td>\n",
              "      <td>4.50</td>\n",
              "      <td>4.55</td>\n",
              "      <td>4.69</td>\n",
              "      <td>78444601</td>\n",
              "      <td>3.677e+08</td>\n",
              "      <td>27143</td>\n",
              "      <td>27070892</td>\n",
              "      <td>34.51</td>\n",
              "      <td>-2.151</td>\n",
              "    </tr>\n",
              "    <tr>\n",
              "      <th>183</th>\n",
              "      <td>SUZLON</td>\n",
              "      <td>EQ</td>\n",
              "      <td>2021-02-23</td>\n",
              "      <td>5.00</td>\n",
              "      <td>5.05</td>\n",
              "      <td>5.25</td>\n",
              "      <td>4.95</td>\n",
              "      <td>5.25</td>\n",
              "      <td>5.25</td>\n",
              "      <td>5.13</td>\n",
              "      <td>66754952</td>\n",
              "      <td>3.425e+08</td>\n",
              "      <td>15771</td>\n",
              "      <td>34143473</td>\n",
              "      <td>51.15</td>\n",
              "      <td>5.000</td>\n",
              "    </tr>\n",
              "  </tbody>\n",
              "</table>\n",
              "</div>"
            ],
            "text/plain": [
              "     Symbol Series       Date  Prev Close  Open Price  High Price  Low Price  \\\n",
              "250  SUZLON     EQ 2021-06-04        7.05        7.20        7.60       7.05   \n",
              "233  SUZLON     EQ 2021-05-11        5.60        5.65        6.15       5.50   \n",
              "249  SUZLON     EQ 2021-06-03        6.45        6.65        7.05       6.45   \n",
              "248  SUZLON     EQ 2021-06-02        5.90        6.05        6.45       5.90   \n",
              "24   SUZLON     EQ 2020-07-09        5.05        4.80        5.30       4.80   \n",
              "234  SUZLON     EQ 2021-05-12        6.15        6.30        6.35       5.65   \n",
              "152  SUZLON     BE 2021-01-08        8.05        8.45        8.45       7.65   \n",
              "21   SUZLON     EQ 2020-07-06        5.80        6.05        6.05       5.55   \n",
              "13   SUZLON     EQ 2020-06-24        4.65        4.85        4.85       4.45   \n",
              "183  SUZLON     EQ 2021-02-23        5.00        5.05        5.25       4.95   \n",
              "\n",
              "     Last Price  Close Price  Average Price  Total Traded Quantity   Turnover  \\\n",
              "250        7.35         7.35           7.35              204370435  1.502e+09   \n",
              "233        6.15         6.15           6.06              189569965  1.149e+09   \n",
              "249        7.05         7.05           6.89              185927034  1.281e+09   \n",
              "248        6.45         6.45           6.32              173915134  1.100e+09   \n",
              "24         5.30         5.30           5.09              152568245  7.758e+08   \n",
              "234        5.75         5.70           5.90               86929070  5.133e+08   \n",
              "152        7.65         7.65           7.89               85124610  6.716e+08   \n",
              "21         5.55         5.55           5.78               82902105  4.796e+08   \n",
              "13         4.50         4.55           4.69               78444601  3.677e+08   \n",
              "183        5.25         5.25           5.13               66754952  3.425e+08   \n",
              "\n",
              "     No. of Trades Deliverable Qty % Dly Qt to Traded Qty  Perc_Change  \n",
              "250          94237        61778354                  30.23        4.255  \n",
              "233          39665        73878947                  38.97        9.821  \n",
              "249          79425        79015251                  42.50        9.302  \n",
              "248          64645        64040564                  36.82        9.322  \n",
              "24           35333        42618060                  27.93        4.950  \n",
              "234          41996        43177844                  49.67       -7.317  \n",
              "152          68259               -                      -       -4.969  \n",
              "21           29018        38867856                  46.88       -4.310  \n",
              "13           27143        27070892                  34.51       -2.151  \n",
              "183          15771        34143473                  51.15        5.000  "
            ]
          },
          "metadata": {
            "tags": []
          },
          "execution_count": 55
        }
      ]
    },
    {
      "cell_type": "code",
      "metadata": {
        "colab": {
          "base_uri": "https://localhost:8080/",
          "height": 162
        },
        "id": "bhGK4KKFjl7u",
        "outputId": "0546327c-5339-4161-cfa8-c2d37f7b5b3c"
      },
      "source": [
        "df_perc=df[df['Date'].isin(['08-Jan-2021','11-Jan-2021'])]\n",
        "\n",
        "df_perc\n"
      ],
      "execution_count": 24,
      "outputs": [
        {
          "output_type": "execute_result",
          "data": {
            "text/html": [
              "<div>\n",
              "<style scoped>\n",
              "    .dataframe tbody tr th:only-of-type {\n",
              "        vertical-align: middle;\n",
              "    }\n",
              "\n",
              "    .dataframe tbody tr th {\n",
              "        vertical-align: top;\n",
              "    }\n",
              "\n",
              "    .dataframe thead th {\n",
              "        text-align: right;\n",
              "    }\n",
              "</style>\n",
              "<table border=\"1\" class=\"dataframe\">\n",
              "  <thead>\n",
              "    <tr style=\"text-align: right;\">\n",
              "      <th></th>\n",
              "      <th>Symbol</th>\n",
              "      <th>Series</th>\n",
              "      <th>Date</th>\n",
              "      <th>Prev Close</th>\n",
              "      <th>Open Price</th>\n",
              "      <th>High Price</th>\n",
              "      <th>Low Price</th>\n",
              "      <th>Last Price</th>\n",
              "      <th>Close Price</th>\n",
              "      <th>Average Price</th>\n",
              "      <th>Total Traded Quantity</th>\n",
              "      <th>Turnover</th>\n",
              "      <th>No. of Trades</th>\n",
              "      <th>Deliverable Qty</th>\n",
              "      <th>% Dly Qt to Traded Qty</th>\n",
              "    </tr>\n",
              "  </thead>\n",
              "  <tbody>\n",
              "    <tr>\n",
              "      <th>152</th>\n",
              "      <td>SUZLON</td>\n",
              "      <td>BE</td>\n",
              "      <td>08-Jan-2021</td>\n",
              "      <td>8.05</td>\n",
              "      <td>8.45</td>\n",
              "      <td>8.45</td>\n",
              "      <td>7.65</td>\n",
              "      <td>7.65</td>\n",
              "      <td>7.65</td>\n",
              "      <td>7.89</td>\n",
              "      <td>85124610</td>\n",
              "      <td>6.716e+08</td>\n",
              "      <td>68259</td>\n",
              "      <td>-</td>\n",
              "      <td>-</td>\n",
              "    </tr>\n",
              "    <tr>\n",
              "      <th>153</th>\n",
              "      <td>SUZLON</td>\n",
              "      <td>BE</td>\n",
              "      <td>11-Jan-2021</td>\n",
              "      <td>7.65</td>\n",
              "      <td>7.30</td>\n",
              "      <td>7.30</td>\n",
              "      <td>7.30</td>\n",
              "      <td>7.30</td>\n",
              "      <td>7.30</td>\n",
              "      <td>7.30</td>\n",
              "      <td>10523957</td>\n",
              "      <td>7.682e+07</td>\n",
              "      <td>14015</td>\n",
              "      <td>-</td>\n",
              "      <td>-</td>\n",
              "    </tr>\n",
              "  </tbody>\n",
              "</table>\n",
              "</div>"
            ],
            "text/plain": [
              "     Symbol Series         Date  Prev Close  Open Price  High Price  \\\n",
              "152  SUZLON     BE  08-Jan-2021        8.05        8.45        8.45   \n",
              "153  SUZLON     BE  11-Jan-2021        7.65        7.30        7.30   \n",
              "\n",
              "     Low Price  Last Price  Close Price  Average Price  Total Traded Quantity  \\\n",
              "152       7.65        7.65         7.65           7.89               85124610   \n",
              "153       7.30        7.30         7.30           7.30               10523957   \n",
              "\n",
              "      Turnover  No. of Trades Deliverable Qty % Dly Qt to Traded Qty  \n",
              "152  6.716e+08          68259               -                      -  \n",
              "153  7.682e+07          14015               -                      -  "
            ]
          },
          "metadata": {
            "tags": []
          },
          "execution_count": 24
        }
      ]
    },
    {
      "cell_type": "code",
      "metadata": {
        "colab": {
          "base_uri": "https://localhost:8080/",
          "height": 623
        },
        "id": "vPGnovdtl3q-",
        "outputId": "6f508747-358f-4d04-e851-523f96409285"
      },
      "source": [
        "df[df['Perc_Change']>0]"
      ],
      "execution_count": 56,
      "outputs": [
        {
          "output_type": "execute_result",
          "data": {
            "text/html": [
              "<div>\n",
              "<style scoped>\n",
              "    .dataframe tbody tr th:only-of-type {\n",
              "        vertical-align: middle;\n",
              "    }\n",
              "\n",
              "    .dataframe tbody tr th {\n",
              "        vertical-align: top;\n",
              "    }\n",
              "\n",
              "    .dataframe thead th {\n",
              "        text-align: right;\n",
              "    }\n",
              "</style>\n",
              "<table border=\"1\" class=\"dataframe\">\n",
              "  <thead>\n",
              "    <tr style=\"text-align: right;\">\n",
              "      <th></th>\n",
              "      <th>Symbol</th>\n",
              "      <th>Series</th>\n",
              "      <th>Date</th>\n",
              "      <th>Prev Close</th>\n",
              "      <th>Open Price</th>\n",
              "      <th>High Price</th>\n",
              "      <th>Low Price</th>\n",
              "      <th>Last Price</th>\n",
              "      <th>Close Price</th>\n",
              "      <th>Average Price</th>\n",
              "      <th>Total Traded Quantity</th>\n",
              "      <th>Turnover</th>\n",
              "      <th>No. of Trades</th>\n",
              "      <th>Deliverable Qty</th>\n",
              "      <th>% Dly Qt to Traded Qty</th>\n",
              "      <th>Perc_Change</th>\n",
              "    </tr>\n",
              "  </thead>\n",
              "  <tbody>\n",
              "    <tr>\n",
              "      <th>0</th>\n",
              "      <td>SUZLON</td>\n",
              "      <td>EQ</td>\n",
              "      <td>2020-06-05</td>\n",
              "      <td>3.30</td>\n",
              "      <td>3.55</td>\n",
              "      <td>3.60</td>\n",
              "      <td>3.50</td>\n",
              "      <td>3.60</td>\n",
              "      <td>3.60</td>\n",
              "      <td>3.59</td>\n",
              "      <td>19670851</td>\n",
              "      <td>7.068e+07</td>\n",
              "      <td>4908</td>\n",
              "      <td>10876037</td>\n",
              "      <td>55.29</td>\n",
              "      <td>9.091</td>\n",
              "    </tr>\n",
              "    <tr>\n",
              "      <th>1</th>\n",
              "      <td>SUZLON</td>\n",
              "      <td>EQ</td>\n",
              "      <td>2020-06-08</td>\n",
              "      <td>3.60</td>\n",
              "      <td>3.95</td>\n",
              "      <td>3.95</td>\n",
              "      <td>3.95</td>\n",
              "      <td>3.95</td>\n",
              "      <td>3.95</td>\n",
              "      <td>3.95</td>\n",
              "      <td>7283069</td>\n",
              "      <td>2.877e+07</td>\n",
              "      <td>3807</td>\n",
              "      <td>7249225</td>\n",
              "      <td>99.54</td>\n",
              "      <td>9.722</td>\n",
              "    </tr>\n",
              "    <tr>\n",
              "      <th>2</th>\n",
              "      <td>SUZLON</td>\n",
              "      <td>EQ</td>\n",
              "      <td>2020-06-09</td>\n",
              "      <td>3.95</td>\n",
              "      <td>4.30</td>\n",
              "      <td>4.30</td>\n",
              "      <td>3.95</td>\n",
              "      <td>4.30</td>\n",
              "      <td>4.30</td>\n",
              "      <td>4.19</td>\n",
              "      <td>58781511</td>\n",
              "      <td>2.462e+08</td>\n",
              "      <td>26681</td>\n",
              "      <td>37218299</td>\n",
              "      <td>63.32</td>\n",
              "      <td>8.861</td>\n",
              "    </tr>\n",
              "    <tr>\n",
              "      <th>3</th>\n",
              "      <td>SUZLON</td>\n",
              "      <td>EQ</td>\n",
              "      <td>2020-06-10</td>\n",
              "      <td>4.30</td>\n",
              "      <td>4.50</td>\n",
              "      <td>4.50</td>\n",
              "      <td>4.25</td>\n",
              "      <td>4.50</td>\n",
              "      <td>4.50</td>\n",
              "      <td>4.46</td>\n",
              "      <td>41054393</td>\n",
              "      <td>1.833e+08</td>\n",
              "      <td>16508</td>\n",
              "      <td>19589782</td>\n",
              "      <td>47.72</td>\n",
              "      <td>4.651</td>\n",
              "    </tr>\n",
              "    <tr>\n",
              "      <th>4</th>\n",
              "      <td>SUZLON</td>\n",
              "      <td>EQ</td>\n",
              "      <td>2020-06-11</td>\n",
              "      <td>4.50</td>\n",
              "      <td>4.70</td>\n",
              "      <td>4.70</td>\n",
              "      <td>4.60</td>\n",
              "      <td>4.70</td>\n",
              "      <td>4.70</td>\n",
              "      <td>4.69</td>\n",
              "      <td>18177685</td>\n",
              "      <td>8.533e+07</td>\n",
              "      <td>7623</td>\n",
              "      <td>10569158</td>\n",
              "      <td>58.14</td>\n",
              "      <td>4.444</td>\n",
              "    </tr>\n",
              "    <tr>\n",
              "      <th>...</th>\n",
              "      <td>...</td>\n",
              "      <td>...</td>\n",
              "      <td>...</td>\n",
              "      <td>...</td>\n",
              "      <td>...</td>\n",
              "      <td>...</td>\n",
              "      <td>...</td>\n",
              "      <td>...</td>\n",
              "      <td>...</td>\n",
              "      <td>...</td>\n",
              "      <td>...</td>\n",
              "      <td>...</td>\n",
              "      <td>...</td>\n",
              "      <td>...</td>\n",
              "      <td>...</td>\n",
              "      <td>...</td>\n",
              "    </tr>\n",
              "    <tr>\n",
              "      <th>243</th>\n",
              "      <td>SUZLON</td>\n",
              "      <td>EQ</td>\n",
              "      <td>2021-05-26</td>\n",
              "      <td>5.40</td>\n",
              "      <td>5.40</td>\n",
              "      <td>5.90</td>\n",
              "      <td>5.35</td>\n",
              "      <td>5.90</td>\n",
              "      <td>5.90</td>\n",
              "      <td>5.76</td>\n",
              "      <td>55685268</td>\n",
              "      <td>3.205e+08</td>\n",
              "      <td>17667</td>\n",
              "      <td>23083757</td>\n",
              "      <td>41.45</td>\n",
              "      <td>9.259</td>\n",
              "    </tr>\n",
              "    <tr>\n",
              "      <th>247</th>\n",
              "      <td>SUZLON</td>\n",
              "      <td>EQ</td>\n",
              "      <td>2021-06-01</td>\n",
              "      <td>5.70</td>\n",
              "      <td>5.75</td>\n",
              "      <td>6.05</td>\n",
              "      <td>5.65</td>\n",
              "      <td>6.00</td>\n",
              "      <td>5.90</td>\n",
              "      <td>5.86</td>\n",
              "      <td>46123605</td>\n",
              "      <td>2.704e+08</td>\n",
              "      <td>30584</td>\n",
              "      <td>19726067</td>\n",
              "      <td>42.77</td>\n",
              "      <td>3.509</td>\n",
              "    </tr>\n",
              "    <tr>\n",
              "      <th>248</th>\n",
              "      <td>SUZLON</td>\n",
              "      <td>EQ</td>\n",
              "      <td>2021-06-02</td>\n",
              "      <td>5.90</td>\n",
              "      <td>6.05</td>\n",
              "      <td>6.45</td>\n",
              "      <td>5.90</td>\n",
              "      <td>6.45</td>\n",
              "      <td>6.45</td>\n",
              "      <td>6.32</td>\n",
              "      <td>173915134</td>\n",
              "      <td>1.100e+09</td>\n",
              "      <td>64645</td>\n",
              "      <td>64040564</td>\n",
              "      <td>36.82</td>\n",
              "      <td>9.322</td>\n",
              "    </tr>\n",
              "    <tr>\n",
              "      <th>249</th>\n",
              "      <td>SUZLON</td>\n",
              "      <td>EQ</td>\n",
              "      <td>2021-06-03</td>\n",
              "      <td>6.45</td>\n",
              "      <td>6.65</td>\n",
              "      <td>7.05</td>\n",
              "      <td>6.45</td>\n",
              "      <td>7.05</td>\n",
              "      <td>7.05</td>\n",
              "      <td>6.89</td>\n",
              "      <td>185927034</td>\n",
              "      <td>1.281e+09</td>\n",
              "      <td>79425</td>\n",
              "      <td>79015251</td>\n",
              "      <td>42.50</td>\n",
              "      <td>9.302</td>\n",
              "    </tr>\n",
              "    <tr>\n",
              "      <th>250</th>\n",
              "      <td>SUZLON</td>\n",
              "      <td>EQ</td>\n",
              "      <td>2021-06-04</td>\n",
              "      <td>7.05</td>\n",
              "      <td>7.20</td>\n",
              "      <td>7.60</td>\n",
              "      <td>7.05</td>\n",
              "      <td>7.35</td>\n",
              "      <td>7.35</td>\n",
              "      <td>7.35</td>\n",
              "      <td>204370435</td>\n",
              "      <td>1.502e+09</td>\n",
              "      <td>94237</td>\n",
              "      <td>61778354</td>\n",
              "      <td>30.23</td>\n",
              "      <td>4.255</td>\n",
              "    </tr>\n",
              "  </tbody>\n",
              "</table>\n",
              "<p>110 rows × 16 columns</p>\n",
              "</div>"
            ],
            "text/plain": [
              "     Symbol Series       Date  Prev Close  Open Price  High Price  Low Price  \\\n",
              "0    SUZLON     EQ 2020-06-05        3.30        3.55        3.60       3.50   \n",
              "1    SUZLON     EQ 2020-06-08        3.60        3.95        3.95       3.95   \n",
              "2    SUZLON     EQ 2020-06-09        3.95        4.30        4.30       3.95   \n",
              "3    SUZLON     EQ 2020-06-10        4.30        4.50        4.50       4.25   \n",
              "4    SUZLON     EQ 2020-06-11        4.50        4.70        4.70       4.60   \n",
              "..      ...    ...        ...         ...         ...         ...        ...   \n",
              "243  SUZLON     EQ 2021-05-26        5.40        5.40        5.90       5.35   \n",
              "247  SUZLON     EQ 2021-06-01        5.70        5.75        6.05       5.65   \n",
              "248  SUZLON     EQ 2021-06-02        5.90        6.05        6.45       5.90   \n",
              "249  SUZLON     EQ 2021-06-03        6.45        6.65        7.05       6.45   \n",
              "250  SUZLON     EQ 2021-06-04        7.05        7.20        7.60       7.05   \n",
              "\n",
              "     Last Price  Close Price  Average Price  Total Traded Quantity   Turnover  \\\n",
              "0          3.60         3.60           3.59               19670851  7.068e+07   \n",
              "1          3.95         3.95           3.95                7283069  2.877e+07   \n",
              "2          4.30         4.30           4.19               58781511  2.462e+08   \n",
              "3          4.50         4.50           4.46               41054393  1.833e+08   \n",
              "4          4.70         4.70           4.69               18177685  8.533e+07   \n",
              "..          ...          ...            ...                    ...        ...   \n",
              "243        5.90         5.90           5.76               55685268  3.205e+08   \n",
              "247        6.00         5.90           5.86               46123605  2.704e+08   \n",
              "248        6.45         6.45           6.32              173915134  1.100e+09   \n",
              "249        7.05         7.05           6.89              185927034  1.281e+09   \n",
              "250        7.35         7.35           7.35              204370435  1.502e+09   \n",
              "\n",
              "     No. of Trades Deliverable Qty % Dly Qt to Traded Qty  Perc_Change  \n",
              "0             4908        10876037                  55.29        9.091  \n",
              "1             3807         7249225                  99.54        9.722  \n",
              "2            26681        37218299                  63.32        8.861  \n",
              "3            16508        19589782                  47.72        4.651  \n",
              "4             7623        10569158                  58.14        4.444  \n",
              "..             ...             ...                    ...          ...  \n",
              "243          17667        23083757                  41.45        9.259  \n",
              "247          30584        19726067                  42.77        3.509  \n",
              "248          64645        64040564                  36.82        9.322  \n",
              "249          79425        79015251                  42.50        9.302  \n",
              "250          94237        61778354                  30.23        4.255  \n",
              "\n",
              "[110 rows x 16 columns]"
            ]
          },
          "metadata": {
            "tags": []
          },
          "execution_count": 56
        }
      ]
    },
    {
      "cell_type": "code",
      "metadata": {
        "colab": {
          "base_uri": "https://localhost:8080/"
        },
        "id": "9HuANrGkkDNb",
        "outputId": "9ff2eb9a-81bf-472a-ca28-7d60d0b3e08d"
      },
      "source": [
        "df_perc['Perc_Change']=((df_perc['Close Price']-df_perc['Prev Close'])/df_perc['Prev Close'])*100\n",
        "\n",
        "#(df['Close Price']/df['Prev Close'])*100\n",
        "\n",
        "df_perc['Perc_Change']\n",
        "#df_perc['Close Price']-df_perc['Prev Close']"
      ],
      "execution_count": 57,
      "outputs": [
        {
          "output_type": "stream",
          "text": [
            "/usr/local/lib/python3.7/dist-packages/ipykernel_launcher.py:1: SettingWithCopyWarning: \n",
            "A value is trying to be set on a copy of a slice from a DataFrame.\n",
            "Try using .loc[row_indexer,col_indexer] = value instead\n",
            "\n",
            "See the caveats in the documentation: https://pandas.pydata.org/pandas-docs/stable/user_guide/indexing.html#returning-a-view-versus-a-copy\n",
            "  \"\"\"Entry point for launching an IPython kernel.\n"
          ],
          "name": "stderr"
        },
        {
          "output_type": "execute_result",
          "data": {
            "text/plain": [
              "152   -4.969\n",
              "153   -4.575\n",
              "Name: Perc_Change, dtype: float64"
            ]
          },
          "metadata": {
            "tags": []
          },
          "execution_count": 57
        }
      ]
    },
    {
      "cell_type": "code",
      "metadata": {
        "colab": {
          "base_uri": "https://localhost:8080/",
          "height": 500
        },
        "id": "o018IT9ikpnp",
        "outputId": "e9714ecf-607e-428b-d03a-8e06f11ccc40"
      },
      "source": [
        "#setting index as date\n",
        "df['Date'] = pd.to_datetime(df.Date,format='%Y-%m-%d')\n",
        "df.index = df['Date']\n",
        "\n",
        "#plot\n",
        "plt.figure(figsize=(16,8))\n",
        "plt.plot(df['Close Price'], label='Close Price history')"
      ],
      "execution_count": 59,
      "outputs": [
        {
          "output_type": "execute_result",
          "data": {
            "text/plain": [
              "[<matplotlib.lines.Line2D at 0x7f37acceaf10>]"
            ]
          },
          "metadata": {
            "tags": []
          },
          "execution_count": 59
        },
        {
          "output_type": "display_data",
          "data": {
            "image/png": "[encoded data removed]",
            "text/plain": [
              "<Figure size 1152x576 with 1 Axes>"
            ]
          },
          "metadata": {
            "tags": [],
            "needs_background": "light"
          }
        }
      ]
    },
    {
      "cell_type": "code",
      "metadata": {
        "colab": {
          "base_uri": "https://localhost:8080/"
        },
        "id": "2ZPv1yDLn7p9",
        "outputId": "44532eae-5e65-471a-bb5d-73c807134392"
      },
      "source": [
        "#importing required libraries\n",
        "from sklearn.preprocessing import MinMaxScaler\n",
        "from keras.models import Sequential\n",
        "from keras.layers import Dense, Dropout, LSTM\n",
        "\n",
        "#creating dataframe\n",
        "data = df.sort_index(ascending=True, axis=0)\n",
        "new_data = pd.DataFrame(index=range(0,len(df)),columns=['Date', 'Close'])\n",
        "for i in range(0,len(data)):\n",
        "    new_data['Date'][i] = data['Date'][i]\n",
        "    new_data['Close'][i] = data['Close Price'][i]\n",
        "\n",
        "#setting index\n",
        "new_data.index = new_data.Date\n",
        "new_data.drop('Date', axis=1, inplace=True)\n",
        "\n",
        "#creating train and test sets\n",
        "dataset = new_data.values\n",
        "\n",
        "train = dataset[0:160,:]\n",
        "valid = dataset[160:,:]\n",
        "\n",
        "#converting dataset into x_train and y_train\n",
        "scaler = MinMaxScaler(feature_range=(0, 1))\n",
        "scaled_data = scaler.fit_transform(dataset)\n",
        "\n",
        "x_train, y_train = [], []\n",
        "for i in range(60,len(train)):\n",
        "    x_train.append(scaled_data[i-60:i,0])\n",
        "    y_train.append(scaled_data[i,0])\n",
        "x_train, y_train = np.array(x_train), np.array(y_train)\n",
        "\n",
        "x_train = np.reshape(x_train, (x_train.shape[0],x_train.shape[1],1))\n",
        "\n",
        "# create and fit the LSTM network\n",
        "model = Sequential()\n",
        "model.add(LSTM(units=50, return_sequences=True, input_shape=(x_train.shape[1],1)))\n",
        "model.add(LSTM(units=50))\n",
        "model.add(Dense(1))\n",
        "\n",
        "model.compile(loss='mean_squared_error', optimizer='adam')\n",
        "model.fit(x_train, y_train, epochs=1, batch_size=1, verbose=2)\n",
        "\n",
        "#predicting 246 values, using past 60 from the train data\n",
        "inputs = new_data[len(new_data) - len(valid) - 60:].values\n",
        "inputs = inputs.reshape(-1,1)\n",
        "inputs  = scaler.transform(inputs)\n",
        "\n",
        "X_test = []\n",
        "for i in range(60,inputs.shape[0]):\n",
        "    X_test.append(inputs[i-60:i,0])\n",
        "X_test = np.array(X_test)\n",
        "\n",
        "X_test = np.reshape(X_test, (X_test.shape[0],X_test.shape[1],1))\n",
        "closing_price = model.predict(X_test)\n",
        "closing_price = scaler.inverse_transform(closing_price)"
      ],
      "execution_count": 61,
      "outputs": [
        {
          "output_type": "stream",
          "text": [
            "100/100 - 22s - loss: 0.0380\n"
          ],
          "name": "stdout"
        }
      ]
    },
    {
      "cell_type": "code",
      "metadata": {
        "colab": {
          "base_uri": "https://localhost:8080/"
        },
        "id": "6PmxrjCkrn6v",
        "outputId": "c94b0178-fda7-4774-b9ba-49bf0ac4fec9"
      },
      "source": [
        "rms=np.sqrt(np.mean(np.power((valid-closing_price),2)))\n",
        "rms"
      ],
      "execution_count": 62,
      "outputs": [
        {
          "output_type": "execute_result",
          "data": {
            "text/plain": [
              "0.5781946915463316"
            ]
          },
          "metadata": {
            "tags": []
          },
          "execution_count": 62
        }
      ]
    },
    {
      "cell_type": "code",
      "metadata": {
        "colab": {
          "base_uri": "https://localhost:8080/",
          "height": 401
        },
        "id": "GnC5cf01rcs7",
        "outputId": "ee296ac2-e462-4c6a-9dba-e8db3bdbdc7c"
      },
      "source": [
        "#for plotting\n",
        "train = new_data[:160]\n",
        "valid = new_data[160:]\n",
        "valid['Predictions'] = closing_price\n",
        "plt.plot(train['Close'])\n",
        "plt.plot(valid[['Close','Predictions']])"
      ],
      "execution_count": 65,
      "outputs": [
        {
          "output_type": "stream",
          "text": [
            "/usr/local/lib/python3.7/dist-packages/ipykernel_launcher.py:4: SettingWithCopyWarning: \n",
            "A value is trying to be set on a copy of a slice from a DataFrame.\n",
            "Try using .loc[row_indexer,col_indexer] = value instead\n",
            "\n",
            "See the caveats in the documentation: https://pandas.pydata.org/pandas-docs/stable/user_guide/indexing.html#returning-a-view-versus-a-copy\n",
            "  after removing the cwd from sys.path.\n"
          ],
          "name": "stderr"
        },
        {
          "output_type": "execute_result",
          "data": {
            "text/plain": [
              "[<matplotlib.lines.Line2D at 0x7f37696c7690>,\n",
              " <matplotlib.lines.Line2D at 0x7f37696c7b90>]"
            ]
          },
          "metadata": {
            "tags": []
          },
          "execution_count": 65
        },
        {
          "output_type": "display_data",
          "data": {
            "image/png": "[encoded data removed]",
            "text/plain": [
              "<Figure size 432x288 with 1 Axes>"
            ]
          },
          "metadata": {
            "tags": [],
            "needs_background": "light"
          }
        }
      ]
    },
    {
      "cell_type": "code",
      "metadata": {
        "id": "-JGa4A0Jr1c4"
      },
      "source": [
        ""
      ],
      "execution_count": null,
      "outputs": []
    }
  ]
}