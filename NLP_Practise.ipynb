{
  "nbformat": 4,
  "nbformat_minor": 0,
  "metadata": {
    "kernelspec": {
      "display_name": "Python 3",
      "language": "python",
      "name": "python3"
    },
    "language_info": {
      "codemirror_mode": {
        "name": "ipython",
        "version": 3
      },
      "file_extension": ".py",
      "mimetype": "text/x-python",
      "name": "python",
      "nbconvert_exporter": "python",
      "pygments_lexer": "ipython3",
      "version": "3.8.5"
    },
    "colab": {
      "name": "NLP Practise.ipynb",
      "provenance": [],
      "include_colab_link": true
    }
  },
  "cells": [
    {
      "cell_type": "markdown",
      "metadata": {
        "id": "view-in-github",
        "colab_type": "text"
      },
      "source": [
        "<a href=\"https://colab.research.google.com/github/thiyagi9/PythonPractises/blob/main/NLP_Practise.ipynb\" target=\"_parent\"><img src=\"https://colab.research.google.com/assets/colab-badge.svg\" alt=\"Open In Colab\"/></a>"
      ]
    },
    {
      "cell_type": "code",
      "metadata": {
        "id": "8IXzQLCx3tWP"
      },
      "source": [
        "a = (\"John\", \"Charles\", \"Mike\")\n",
        "b = (\"Jenny\", \"Christy\", \"Monica\", \"Vicky\")\n",
        "\n",
        "x = zip(a, b)"
      ],
      "execution_count": null,
      "outputs": []
    },
    {
      "cell_type": "code",
      "metadata": {
        "id": "1F77Mo-F3tWc"
      },
      "source": [
        "import nltk as nk"
      ],
      "execution_count": null,
      "outputs": []
    },
    {
      "cell_type": "code",
      "metadata": {
        "id": "-JiP0bnq3tWe",
        "outputId": "67827513-4eaa-4a60-ca86-38a4ce6d5f16"
      },
      "source": [
        "for i in x:\n",
        "    print(i)"
      ],
      "execution_count": null,
      "outputs": [
        {
          "output_type": "stream",
          "text": [
            "('John', 'Jenny')\n",
            "('Charles', 'Christy')\n",
            "('Mike', 'Monica')\n"
          ],
          "name": "stdout"
        }
      ]
    },
    {
      "cell_type": "code",
      "metadata": {
        "id": "5NabCdPH3tWh"
      },
      "source": [
        "from nltk.tokenize import sent_tokenize, word_tokenize"
      ],
      "execution_count": null,
      "outputs": []
    },
    {
      "cell_type": "code",
      "metadata": {
        "id": "KJnpgQWZ3tWj"
      },
      "source": [
        "example_text='Hello there Mr. Thiyag Python learning Pythonly, how are you? The Pythonlo is great. I am good. What are you doing. '"
      ],
      "execution_count": null,
      "outputs": []
    },
    {
      "cell_type": "code",
      "metadata": {
        "id": "gZ4UT0Gh3tWk",
        "outputId": "3f10bc11-46fc-4ea3-fecf-f16e18b8dc46"
      },
      "source": [
        "print(sent_tokenize(example_text))\n",
        "print(word_tokenize(example_text))"
      ],
      "execution_count": null,
      "outputs": [
        {
          "output_type": "stream",
          "text": [
            "['Hello there Mr. Thiyag, how are you?', 'The weather is great.', 'I am good.', 'What are you doing.']\n",
            "['Hello', 'there', 'Mr.', 'Thiyag', ',', 'how', 'are', 'you', '?', 'The', 'weather', 'is', 'great', '.', 'I', 'am', 'good', '.', 'What', 'are', 'you', 'doing', '.']\n"
          ],
          "name": "stdout"
        }
      ]
    },
    {
      "cell_type": "code",
      "metadata": {
        "id": "w25sjJVv3tWm",
        "outputId": "c6890dbd-397a-40f3-b427-9709be17e575"
      },
      "source": [
        "for i in word_tokenize(example_text):\n",
        "    print(i)"
      ],
      "execution_count": null,
      "outputs": [
        {
          "output_type": "stream",
          "text": [
            "Hello\n",
            "there\n",
            "Mr.\n",
            "Thiyag\n",
            ",\n",
            "how\n",
            "are\n",
            "you\n",
            "?\n",
            "The\n",
            "weather\n",
            "is\n",
            "great\n",
            ".\n",
            "I\n",
            "am\n",
            "good\n",
            ".\n",
            "What\n",
            "are\n",
            "you\n",
            "doing\n",
            ".\n"
          ],
          "name": "stdout"
        }
      ]
    },
    {
      "cell_type": "code",
      "metadata": {
        "id": "lTqyEz3S3tWo"
      },
      "source": [
        "from nltk.corpus import stopwords\n",
        "from nltk.tokenize import word_tokenize"
      ],
      "execution_count": null,
      "outputs": []
    },
    {
      "cell_type": "code",
      "metadata": {
        "id": "3Sqo8Z833tWp",
        "outputId": "00ee5bd0-bfca-4609-c1ca-73e436a864c1"
      },
      "source": [
        "stop_words=set(stopwords.words('english'))\n",
        "\n",
        "words=word_tokenize(example_text)\n",
        "filtered_words=[]\n",
        "\n",
        "for w in words: \n",
        "    if w not in stop_words:\n",
        "        filtered_words.append(w)\n",
        "        \n",
        "filtered_words\n",
        "\n",
        "#print(stope_words)"
      ],
      "execution_count": null,
      "outputs": [
        {
          "output_type": "execute_result",
          "data": {
            "text/plain": [
              "['Hello',\n",
              " 'Mr.',\n",
              " 'Thiyag',\n",
              " ',',\n",
              " '?',\n",
              " 'The',\n",
              " 'weather',\n",
              " 'great',\n",
              " '.',\n",
              " 'I',\n",
              " 'good',\n",
              " '.',\n",
              " 'What',\n",
              " '.']"
            ]
          },
          "metadata": {
            "tags": []
          },
          "execution_count": 41
        }
      ]
    },
    {
      "cell_type": "code",
      "metadata": {
        "id": "PycXBKdf3tWs"
      },
      "source": [
        "from nltk.stem import PorterStemmer\n",
        "from nltk.tokenize import word_tokenize\n",
        "\n",
        "example_text='Hello pythoning is good to  Python learning Pythonly, how are you Python? The Pythonlo is great. I am good. What are you doing. '"
      ],
      "execution_count": null,
      "outputs": []
    },
    {
      "cell_type": "code",
      "metadata": {
        "id": "y2v8GhcZ3tWt",
        "outputId": "19f8b30a-f3a1-4bc9-9dab-6e83bef6a32b"
      },
      "source": [
        "stop_words=set(stopwords.words('english'))\n",
        "ps=PorterStemmer()\n",
        "\n",
        "print(example_text)\n",
        "words=word_tokenize(example_text)\n",
        "\n",
        "filter_words=[]\n",
        "for i in words:\n",
        "    if i not in stop_words:\n",
        "        filter_words.append(i)\n",
        "print(filter_words)\n",
        "\n",
        "stem_words=[]\n",
        "\n",
        "for w in filter_words: \n",
        "    stem_words.append(ps.stem(w))\n",
        "print(stem_words)\n",
        "    "
      ],
      "execution_count": null,
      "outputs": [
        {
          "output_type": "stream",
          "text": [
            "Hello pythoning is good to  Python learning Pythonly, how are you Python? The Pythonlo is great. I am good. What are you doing. \n",
            "['Hello', 'pythoning', 'good', 'Python', 'learning', 'Pythonly', ',', 'Python', '?', 'The', 'Pythonlo', 'great', '.', 'I', 'good', '.', 'What', '.']\n",
            "['hello', 'python', 'good', 'python', 'learn', 'pythonli', ',', 'python', '?', 'the', 'pythonlo', 'great', '.', 'I', 'good', '.', 'what', '.']\n"
          ],
          "name": "stdout"
        }
      ]
    },
    {
      "cell_type": "code",
      "metadata": {
        "id": "lpeWzatx3tWu",
        "outputId": "1c6efafc-71f1-4bb7-c3a0-27cc90be11ea"
      },
      "source": [
        "#import nltk\n",
        "#nltk.download('punkt')\n",
        "nltk.download('stopwords')\n",
        "\n"
      ],
      "execution_count": null,
      "outputs": [
        {
          "output_type": "stream",
          "text": [
            "[nltk_data] Downloading package stopwords to\n",
            "[nltk_data]     C:\\Users\\Thiyagi\\AppData\\Roaming\\nltk_data...\n",
            "[nltk_data]   Unzipping corpora\\stopwords.zip.\n"
          ],
          "name": "stderr"
        },
        {
          "output_type": "execute_result",
          "data": {
            "text/plain": [
              "True"
            ]
          },
          "metadata": {
            "tags": []
          },
          "execution_count": 33
        }
      ]
    },
    {
      "cell_type": "markdown",
      "metadata": {
        "id": "f_2neDI_3tWv"
      },
      "source": [
        "In your choice of language, write a program that prints the numbers ranging from one to 50.\n",
        "But for multiples of three, print \"Fizz\" instead of the number, and for the multiples of five, print \"Buzz.\" For numbers which are multiples of both three and five, print \"FizzBuzz\" \n",
        "\n",
        "The code is shown below:"
      ]
    },
    {
      "cell_type": "code",
      "metadata": {
        "id": "z6Qnk5Va3tWw",
        "outputId": "b0b0d493-45ce-45d9-c593-bf78933ecf23"
      },
      "source": [
        "for i in range(1,51):\n",
        "    if i%3==0 and i%5==0:\n",
        "        print('FizzBUzz')\n",
        "        continue\n",
        "    elif i%3==0:\n",
        "        print('Fizz')\n",
        "        continue\n",
        "    elif i%5==0:\n",
        "        print('Buzz')\n",
        "    print(i)"
      ],
      "execution_count": null,
      "outputs": [
        {
          "output_type": "stream",
          "text": [
            "1\n",
            "2\n",
            "Fizz\n",
            "4\n",
            "Buzz\n",
            "5\n",
            "Fizz\n",
            "7\n",
            "8\n",
            "Fizz\n",
            "Buzz\n",
            "10\n",
            "11\n",
            "Fizz\n",
            "13\n",
            "14\n",
            "FizzBUzz\n",
            "16\n",
            "17\n",
            "Fizz\n",
            "19\n",
            "Buzz\n",
            "20\n",
            "Fizz\n",
            "22\n",
            "23\n",
            "Fizz\n",
            "Buzz\n",
            "25\n",
            "26\n",
            "Fizz\n",
            "28\n",
            "29\n",
            "FizzBUzz\n",
            "31\n",
            "32\n",
            "Fizz\n",
            "34\n",
            "Buzz\n",
            "35\n",
            "Fizz\n",
            "37\n",
            "38\n",
            "Fizz\n",
            "Buzz\n",
            "40\n",
            "41\n",
            "Fizz\n",
            "43\n",
            "44\n",
            "FizzBUzz\n",
            "46\n",
            "47\n",
            "Fizz\n",
            "49\n",
            "Buzz\n",
            "50\n"
          ],
          "name": "stdout"
        }
      ]
    },
    {
      "cell_type": "code",
      "metadata": {
        "id": "XHXiCvcY3tWw",
        "outputId": "1e32735d-5bbe-43b7-a5f8-bc379945250e"
      },
      "source": [
        "add=lambda x,y:x+y\n",
        "print(add(2,3))\n",
        "\n",
        "type(add)\n",
        "\n"
      ],
      "execution_count": null,
      "outputs": [
        {
          "output_type": "stream",
          "text": [
            "5\n"
          ],
          "name": "stdout"
        },
        {
          "output_type": "execute_result",
          "data": {
            "text/plain": [
              "function"
            ]
          },
          "metadata": {
            "tags": []
          },
          "execution_count": 2
        }
      ]
    }
  ]
}