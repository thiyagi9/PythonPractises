{
  "nbformat": 4,
  "nbformat_minor": 0,
  "metadata": {
    "colab": {
      "name": "Reliance.ipynb",
      "provenance": [],
      "authorship_tag": "ABX9TyN+BS8izI0jWt4yn9pHJdq4",
      "include_colab_link": true
    },
    "kernelspec": {
      "name": "python3",
      "display_name": "Python 3"
    },
    "language_info": {
      "name": "python"
    }
  },
  "cells": [
    {
      "cell_type": "markdown",
      "metadata": {
        "id": "view-in-github",
        "colab_type": "text"
      },
      "source": [
        "<a href=\"https://colab.research.google.com/github/thiyagi9/PythonPractises/blob/main/Reliance.ipynb\" target=\"_parent\"><img src=\"https://colab.research.google.com/assets/colab-badge.svg\" alt=\"Open In Colab\"/></a>"
      ]
    },
    {
      "cell_type": "code",
      "metadata": {
        "id": "5-vE48r9I40O"
      },
      "source": [
        " #library imports\n",
        "import seaborn as sns\n",
        "import matplotlib.pyplot as plt\n",
        "import numpy as np\n",
        "import pandas as pd\n",
        "pd.set_option('max_columns', 140)\n",
        "pd.set_option('precision', 3)"
      ],
      "execution_count": 1,
      "outputs": []
    },
    {
      "cell_type": "code",
      "metadata": {
        "colab": {
          "resources": {
            "http://localhost:8080/nbextensions/google.colab/files.js": {
              "data": "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",
              "ok": true,
              "headers": [
                [
                  "content-type",
                  "application/javascript"
                ]
              ],
              "status": 200,
              "status_text": ""
            }
          },
          "base_uri": "https://localhost:8080/",
          "height": 72
        },
        "id": "A_UMp4PwI5uC",
        "outputId": "84e048fa-5156-4898-daa3-cde57f60aabc"
      },
      "source": [
        "# Uploading \"Working hours\" from the working machine. This can be replaced by having the file in GDrive itself\n",
        "from google.colab import files\n",
        "f1 = files.upload()"
      ],
      "execution_count": 2,
      "outputs": [
        {
          "output_type": "display_data",
          "data": {
            "text/html": [
              "\n",
              "     <input type=\"file\" id=\"files-75e37d16-1606-4224-a9bb-fa9b4cda46f9\" name=\"files[]\" multiple disabled\n",
              "        style=\"border:none\" />\n",
              "     <output id=\"result-75e37d16-1606-4224-a9bb-fa9b4cda46f9\">\n",
              "      Upload widget is only available when the cell has been executed in the\n",
              "      current browser session. Please rerun this cell to enable.\n",
              "      </output>\n",
              "      <script src=\"/nbextensions/google.colab/files.js\"></script> "
            ],
            "text/plain": [
              "<IPython.core.display.HTML object>"
            ]
          },
          "metadata": {
            "tags": []
          }
        },
        {
          "output_type": "stream",
          "text": [
            "Saving 06-06-2019-TO-04-06-2021RELIANCEALLN.csv to 06-06-2019-TO-04-06-2021RELIANCEALLN.csv\n"
          ],
          "name": "stdout"
        }
      ]
    },
    {
      "cell_type": "code",
      "metadata": {
        "id": "1dCZF5w2I9wy"
      },
      "source": [
        "df=pd.read_csv('06-06-2019-TO-04-06-2021RELIANCEALLN.csv',parse_dates=True, error_bad_lines=False)\n",
        "df['Perc_Change']=((df['Close Price']-df['Prev Close'])/df['Prev Close'])*100\n",
        "df['returns']=df['Close Price'].pct_change()"
      ],
      "execution_count": 6,
      "outputs": []
    },
    {
      "cell_type": "code",
      "metadata": {
        "id": "jDdNKFhopHQx"
      },
      "source": [
        "df['Date']=pd.to_datetime(df['Date'])"
      ],
      "execution_count": 7,
      "outputs": []
    },
    {
      "cell_type": "code",
      "metadata": {
        "colab": {
          "base_uri": "https://localhost:8080/",
          "height": 365
        },
        "id": "C4Mg-y3vBbVr",
        "outputId": "5e0acd63-8382-4128-908d-08b10ff28c7d"
      },
      "source": [
        "df.describe()"
      ],
      "execution_count": 8,
      "outputs": [
        {
          "output_type": "execute_result",
          "data": {
            "text/html": [
              "<div>\n",
              "<style scoped>\n",
              "    .dataframe tbody tr th:only-of-type {\n",
              "        vertical-align: middle;\n",
              "    }\n",
              "\n",
              "    .dataframe tbody tr th {\n",
              "        vertical-align: top;\n",
              "    }\n",
              "\n",
              "    .dataframe thead th {\n",
              "        text-align: right;\n",
              "    }\n",
              "</style>\n",
              "<table border=\"1\" class=\"dataframe\">\n",
              "  <thead>\n",
              "    <tr style=\"text-align: right;\">\n",
              "      <th></th>\n",
              "      <th>Prev Close</th>\n",
              "      <th>Open Price</th>\n",
              "      <th>High Price</th>\n",
              "      <th>Low Price</th>\n",
              "      <th>Last Price</th>\n",
              "      <th>Close Price</th>\n",
              "      <th>Average Price</th>\n",
              "      <th>Total Traded Quantity</th>\n",
              "      <th>Turnover</th>\n",
              "      <th>No. of Trades</th>\n",
              "      <th>Deliverable Qty</th>\n",
              "      <th>% Dly Qt to Traded Qty</th>\n",
              "      <th>Perc_Change</th>\n",
              "      <th>returns</th>\n",
              "    </tr>\n",
              "  </thead>\n",
              "  <tbody>\n",
              "    <tr>\n",
              "      <th>count</th>\n",
              "      <td>506.000</td>\n",
              "      <td>506.000</td>\n",
              "      <td>506.000</td>\n",
              "      <td>506.000</td>\n",
              "      <td>506.000</td>\n",
              "      <td>506.000</td>\n",
              "      <td>506.000</td>\n",
              "      <td>5.060e+02</td>\n",
              "      <td>5.060e+02</td>\n",
              "      <td>5.060e+02</td>\n",
              "      <td>5.060e+02</td>\n",
              "      <td>506.000</td>\n",
              "      <td>506.000</td>\n",
              "      <td>5.050e+02</td>\n",
              "    </tr>\n",
              "    <tr>\n",
              "      <th>mean</th>\n",
              "      <td>1697.690</td>\n",
              "      <td>1701.949</td>\n",
              "      <td>1723.153</td>\n",
              "      <td>1677.820</td>\n",
              "      <td>1699.347</td>\n",
              "      <td>1698.970</td>\n",
              "      <td>1700.644</td>\n",
              "      <td>1.352e+07</td>\n",
              "      <td>2.319e+10</td>\n",
              "      <td>3.175e+05</td>\n",
              "      <td>4.682e+06</td>\n",
              "      <td>37.457</td>\n",
              "      <td>0.107</td>\n",
              "      <td>1.281e-03</td>\n",
              "    </tr>\n",
              "    <tr>\n",
              "      <th>std</th>\n",
              "      <td>363.057</td>\n",
              "      <td>364.854</td>\n",
              "      <td>366.104</td>\n",
              "      <td>361.202</td>\n",
              "      <td>362.663</td>\n",
              "      <td>362.866</td>\n",
              "      <td>363.737</td>\n",
              "      <td>9.306e+06</td>\n",
              "      <td>1.733e+10</td>\n",
              "      <td>1.860e+05</td>\n",
              "      <td>2.792e+06</td>\n",
              "      <td>11.197</td>\n",
              "      <td>2.413</td>\n",
              "      <td>2.410e-02</td>\n",
              "    </tr>\n",
              "    <tr>\n",
              "      <th>min</th>\n",
              "      <td>884.050</td>\n",
              "      <td>916.200</td>\n",
              "      <td>950.000</td>\n",
              "      <td>875.650</td>\n",
              "      <td>891.000</td>\n",
              "      <td>884.050</td>\n",
              "      <td>899.320</td>\n",
              "      <td>1.378e+06</td>\n",
              "      <td>1.982e+09</td>\n",
              "      <td>3.953e+04</td>\n",
              "      <td>3.473e+05</td>\n",
              "      <td>11.480</td>\n",
              "      <td>-13.154</td>\n",
              "      <td>-1.315e-01</td>\n",
              "    </tr>\n",
              "    <tr>\n",
              "      <th>25%</th>\n",
              "      <td>1385.688</td>\n",
              "      <td>1378.250</td>\n",
              "      <td>1403.050</td>\n",
              "      <td>1369.525</td>\n",
              "      <td>1386.875</td>\n",
              "      <td>1387.688</td>\n",
              "      <td>1388.497</td>\n",
              "      <td>7.299e+06</td>\n",
              "      <td>1.174e+10</td>\n",
              "      <td>2.026e+05</td>\n",
              "      <td>2.786e+06</td>\n",
              "      <td>28.570</td>\n",
              "      <td>-1.013</td>\n",
              "      <td>-9.972e-03</td>\n",
              "    </tr>\n",
              "    <tr>\n",
              "      <th>50%</th>\n",
              "      <td>1614.950</td>\n",
              "      <td>1616.700</td>\n",
              "      <td>1642.000</td>\n",
              "      <td>1599.100</td>\n",
              "      <td>1613.525</td>\n",
              "      <td>1616.525</td>\n",
              "      <td>1617.905</td>\n",
              "      <td>1.064e+07</td>\n",
              "      <td>1.839e+10</td>\n",
              "      <td>2.669e+05</td>\n",
              "      <td>3.819e+06</td>\n",
              "      <td>37.895</td>\n",
              "      <td>0.002</td>\n",
              "      <td>6.846e-05</td>\n",
              "    </tr>\n",
              "    <tr>\n",
              "      <th>75%</th>\n",
              "      <td>2006.700</td>\n",
              "      <td>2014.425</td>\n",
              "      <td>2043.875</td>\n",
              "      <td>1991.500</td>\n",
              "      <td>2007.338</td>\n",
              "      <td>2007.825</td>\n",
              "      <td>2018.130</td>\n",
              "      <td>1.615e+07</td>\n",
              "      <td>2.862e+10</td>\n",
              "      <td>3.783e+05</td>\n",
              "      <td>5.743e+06</td>\n",
              "      <td>45.210</td>\n",
              "      <td>1.150</td>\n",
              "      <td>1.153e-02</td>\n",
              "    </tr>\n",
              "    <tr>\n",
              "      <th>max</th>\n",
              "      <td>2324.550</td>\n",
              "      <td>2325.000</td>\n",
              "      <td>2369.350</td>\n",
              "      <td>2310.550</td>\n",
              "      <td>2324.900</td>\n",
              "      <td>2324.550</td>\n",
              "      <td>2339.460</td>\n",
              "      <td>6.523e+07</td>\n",
              "      <td>1.473e+11</td>\n",
              "      <td>1.428e+06</td>\n",
              "      <td>1.920e+07</td>\n",
              "      <td>74.180</td>\n",
              "      <td>14.718</td>\n",
              "      <td>1.472e-01</td>\n",
              "    </tr>\n",
              "  </tbody>\n",
              "</table>\n",
              "</div>"
            ],
            "text/plain": [
              "       Prev Close  Open Price  High Price  Low Price  Last Price  Close Price  \\\n",
              "count     506.000     506.000     506.000    506.000     506.000      506.000   \n",
              "mean     1697.690    1701.949    1723.153   1677.820    1699.347     1698.970   \n",
              "std       363.057     364.854     366.104    361.202     362.663      362.866   \n",
              "min       884.050     916.200     950.000    875.650     891.000      884.050   \n",
              "25%      1385.688    1378.250    1403.050   1369.525    1386.875     1387.688   \n",
              "50%      1614.950    1616.700    1642.000   1599.100    1613.525     1616.525   \n",
              "75%      2006.700    2014.425    2043.875   1991.500    2007.338     2007.825   \n",
              "max      2324.550    2325.000    2369.350   2310.550    2324.900     2324.550   \n",
              "\n",
              "       Average Price  Total Traded Quantity   Turnover  No. of Trades  \\\n",
              "count        506.000              5.060e+02  5.060e+02      5.060e+02   \n",
              "mean        1700.644              1.352e+07  2.319e+10      3.175e+05   \n",
              "std          363.737              9.306e+06  1.733e+10      1.860e+05   \n",
              "min          899.320              1.378e+06  1.982e+09      3.953e+04   \n",
              "25%         1388.497              7.299e+06  1.174e+10      2.026e+05   \n",
              "50%         1617.905              1.064e+07  1.839e+10      2.669e+05   \n",
              "75%         2018.130              1.615e+07  2.862e+10      3.783e+05   \n",
              "max         2339.460              6.523e+07  1.473e+11      1.428e+06   \n",
              "\n",
              "       Deliverable Qty  % Dly Qt to Traded Qty  Perc_Change    returns  \n",
              "count        5.060e+02                 506.000      506.000  5.050e+02  \n",
              "mean         4.682e+06                  37.457        0.107  1.281e-03  \n",
              "std          2.792e+06                  11.197        2.413  2.410e-02  \n",
              "min          3.473e+05                  11.480      -13.154 -1.315e-01  \n",
              "25%          2.786e+06                  28.570       -1.013 -9.972e-03  \n",
              "50%          3.819e+06                  37.895        0.002  6.846e-05  \n",
              "75%          5.743e+06                  45.210        1.150  1.153e-02  \n",
              "max          1.920e+07                  74.180       14.718  1.472e-01  "
            ]
          },
          "metadata": {
            "tags": []
          },
          "execution_count": 8
        }
      ]
    },
    {
      "cell_type": "code",
      "metadata": {
        "id": "s40FA9pXJGrI",
        "colab": {
          "base_uri": "https://localhost:8080/",
          "height": 340
        },
        "outputId": "85bb5ce1-e1c5-4cf0-e399-c93e7fc787fb"
      },
      "source": [
        "df.head()"
      ],
      "execution_count": 9,
      "outputs": [
        {
          "output_type": "execute_result",
          "data": {
            "text/html": [
              "<div>\n",
              "<style scoped>\n",
              "    .dataframe tbody tr th:only-of-type {\n",
              "        vertical-align: middle;\n",
              "    }\n",
              "\n",
              "    .dataframe tbody tr th {\n",
              "        vertical-align: top;\n",
              "    }\n",
              "\n",
              "    .dataframe thead th {\n",
              "        text-align: right;\n",
              "    }\n",
              "</style>\n",
              "<table border=\"1\" class=\"dataframe\">\n",
              "  <thead>\n",
              "    <tr style=\"text-align: right;\">\n",
              "      <th></th>\n",
              "      <th>Symbol</th>\n",
              "      <th>Series</th>\n",
              "      <th>Date</th>\n",
              "      <th>Prev Close</th>\n",
              "      <th>Open Price</th>\n",
              "      <th>High Price</th>\n",
              "      <th>Low Price</th>\n",
              "      <th>Last Price</th>\n",
              "      <th>Close Price</th>\n",
              "      <th>Average Price</th>\n",
              "      <th>Total Traded Quantity</th>\n",
              "      <th>Turnover</th>\n",
              "      <th>No. of Trades</th>\n",
              "      <th>Deliverable Qty</th>\n",
              "      <th>% Dly Qt to Traded Qty</th>\n",
              "      <th>Perc_Change</th>\n",
              "      <th>returns</th>\n",
              "    </tr>\n",
              "  </thead>\n",
              "  <tbody>\n",
              "    <tr>\n",
              "      <th>0</th>\n",
              "      <td>RELIANCE</td>\n",
              "      <td>EQ</td>\n",
              "      <td>2019-06-06</td>\n",
              "      <td>1351.65</td>\n",
              "      <td>1361.90</td>\n",
              "      <td>1361.90</td>\n",
              "      <td>1321.1</td>\n",
              "      <td>1326.15</td>\n",
              "      <td>1327.35</td>\n",
              "      <td>1335.47</td>\n",
              "      <td>7664319</td>\n",
              "      <td>1.024e+10</td>\n",
              "      <td>199549</td>\n",
              "      <td>3562547</td>\n",
              "      <td>46.48</td>\n",
              "      <td>-1.798</td>\n",
              "      <td>NaN</td>\n",
              "    </tr>\n",
              "    <tr>\n",
              "      <th>1</th>\n",
              "      <td>RELIANCE</td>\n",
              "      <td>EQ</td>\n",
              "      <td>2019-06-07</td>\n",
              "      <td>1327.35</td>\n",
              "      <td>1325.95</td>\n",
              "      <td>1327.25</td>\n",
              "      <td>1305.6</td>\n",
              "      <td>1311.00</td>\n",
              "      <td>1314.90</td>\n",
              "      <td>1314.55</td>\n",
              "      <td>6730595</td>\n",
              "      <td>8.848e+09</td>\n",
              "      <td>180263</td>\n",
              "      <td>1966742</td>\n",
              "      <td>29.22</td>\n",
              "      <td>-0.938</td>\n",
              "      <td>-0.009</td>\n",
              "    </tr>\n",
              "    <tr>\n",
              "      <th>2</th>\n",
              "      <td>RELIANCE</td>\n",
              "      <td>EQ</td>\n",
              "      <td>2019-06-10</td>\n",
              "      <td>1314.90</td>\n",
              "      <td>1320.90</td>\n",
              "      <td>1327.00</td>\n",
              "      <td>1310.1</td>\n",
              "      <td>1320.50</td>\n",
              "      <td>1319.15</td>\n",
              "      <td>1319.50</td>\n",
              "      <td>5380148</td>\n",
              "      <td>7.099e+09</td>\n",
              "      <td>151279</td>\n",
              "      <td>1985597</td>\n",
              "      <td>36.91</td>\n",
              "      <td>0.323</td>\n",
              "      <td>0.003</td>\n",
              "    </tr>\n",
              "    <tr>\n",
              "      <th>3</th>\n",
              "      <td>RELIANCE</td>\n",
              "      <td>EQ</td>\n",
              "      <td>2019-06-11</td>\n",
              "      <td>1319.15</td>\n",
              "      <td>1321.85</td>\n",
              "      <td>1334.50</td>\n",
              "      <td>1318.0</td>\n",
              "      <td>1329.55</td>\n",
              "      <td>1329.15</td>\n",
              "      <td>1327.51</td>\n",
              "      <td>5253790</td>\n",
              "      <td>6.974e+09</td>\n",
              "      <td>136433</td>\n",
              "      <td>1979424</td>\n",
              "      <td>37.68</td>\n",
              "      <td>0.758</td>\n",
              "      <td>0.008</td>\n",
              "    </tr>\n",
              "    <tr>\n",
              "      <th>4</th>\n",
              "      <td>RELIANCE</td>\n",
              "      <td>EQ</td>\n",
              "      <td>2019-06-12</td>\n",
              "      <td>1329.15</td>\n",
              "      <td>1334.70</td>\n",
              "      <td>1338.40</td>\n",
              "      <td>1325.0</td>\n",
              "      <td>1333.20</td>\n",
              "      <td>1332.15</td>\n",
              "      <td>1332.57</td>\n",
              "      <td>4707716</td>\n",
              "      <td>6.273e+09</td>\n",
              "      <td>125940</td>\n",
              "      <td>1470130</td>\n",
              "      <td>31.23</td>\n",
              "      <td>0.226</td>\n",
              "      <td>0.002</td>\n",
              "    </tr>\n",
              "  </tbody>\n",
              "</table>\n",
              "</div>"
            ],
            "text/plain": [
              "     Symbol Series       Date  Prev Close  Open Price  High Price  Low Price  \\\n",
              "0  RELIANCE     EQ 2019-06-06     1351.65     1361.90     1361.90     1321.1   \n",
              "1  RELIANCE     EQ 2019-06-07     1327.35     1325.95     1327.25     1305.6   \n",
              "2  RELIANCE     EQ 2019-06-10     1314.90     1320.90     1327.00     1310.1   \n",
              "3  RELIANCE     EQ 2019-06-11     1319.15     1321.85     1334.50     1318.0   \n",
              "4  RELIANCE     EQ 2019-06-12     1329.15     1334.70     1338.40     1325.0   \n",
              "\n",
              "   Last Price  Close Price  Average Price  Total Traded Quantity   Turnover  \\\n",
              "0     1326.15      1327.35        1335.47                7664319  1.024e+10   \n",
              "1     1311.00      1314.90        1314.55                6730595  8.848e+09   \n",
              "2     1320.50      1319.15        1319.50                5380148  7.099e+09   \n",
              "3     1329.55      1329.15        1327.51                5253790  6.974e+09   \n",
              "4     1333.20      1332.15        1332.57                4707716  6.273e+09   \n",
              "\n",
              "   No. of Trades  Deliverable Qty  % Dly Qt to Traded Qty  Perc_Change  \\\n",
              "0         199549          3562547                   46.48       -1.798   \n",
              "1         180263          1966742                   29.22       -0.938   \n",
              "2         151279          1985597                   36.91        0.323   \n",
              "3         136433          1979424                   37.68        0.758   \n",
              "4         125940          1470130                   31.23        0.226   \n",
              "\n",
              "   returns  \n",
              "0      NaN  \n",
              "1   -0.009  \n",
              "2    0.003  \n",
              "3    0.008  \n",
              "4    0.002  "
            ]
          },
          "metadata": {
            "tags": []
          },
          "execution_count": 9
        }
      ]
    },
    {
      "cell_type": "code",
      "metadata": {
        "id": "p48ff0xAJTeq"
      },
      "source": [
        "df_max1 = df.sort_values('High Price', ascending=False).head(1)\n",
        "\n",
        "df_maxQty=df.sort_values('Total Traded Quantity',ascending=False).head(10)"
      ],
      "execution_count": null,
      "outputs": []
    },
    {
      "cell_type": "code",
      "metadata": {
        "id": "ZUYXpeNaiouB"
      },
      "source": [
        "df_maxQty"
      ],
      "execution_count": null,
      "outputs": []
    },
    {
      "cell_type": "code",
      "metadata": {
        "id": "bhGK4KKFjl7u"
      },
      "source": [
        "df_perc=df[df['Date'].isin(['08-Jan-2021','11-Jan-2021'])]\n",
        "\n",
        "df_perc\n"
      ],
      "execution_count": null,
      "outputs": []
    },
    {
      "cell_type": "code",
      "metadata": {
        "id": "vPGnovdtl3q-"
      },
      "source": [
        "df[df['Perc_Change']>0]"
      ],
      "execution_count": null,
      "outputs": []
    },
    {
      "cell_type": "code",
      "metadata": {
        "colab": {
          "base_uri": "https://localhost:8080/"
        },
        "id": "9HuANrGkkDNb",
        "outputId": "79d69026-cd90-43c1-d5d9-55191c8e47f3"
      },
      "source": [
        "df_perc['Perc_Change']=((df_perc['Close Price']-df_perc['Prev Close'])/df_perc['Prev Close'])*100\n",
        "\n",
        "#(df['Close Price']/df['Prev Close'])*100\n",
        "\n",
        "df_perc['Perc_Change']\n",
        "#df_perc['Close Price']-df_perc['Prev Close']"
      ],
      "execution_count": null,
      "outputs": [
        {
          "output_type": "stream",
          "text": [
            "/usr/local/lib/python3.7/dist-packages/ipykernel_launcher.py:1: SettingWithCopyWarning: \n",
            "A value is trying to be set on a copy of a slice from a DataFrame.\n",
            "Try using .loc[row_indexer,col_indexer] = value instead\n",
            "\n",
            "See the caveats in the documentation: https://pandas.pydata.org/pandas-docs/stable/user_guide/indexing.html#returning-a-view-versus-a-copy\n",
            "  \"\"\"Entry point for launching an IPython kernel.\n"
          ],
          "name": "stderr"
        },
        {
          "output_type": "execute_result",
          "data": {
            "text/plain": [
              "397   -4.969\n",
              "398   -4.575\n",
              "Name: Perc_Change, dtype: float64"
            ]
          },
          "metadata": {
            "tags": []
          },
          "execution_count": 129
        }
      ]
    },
    {
      "cell_type": "code",
      "metadata": {
        "id": "VPdvhH0kHQX9"
      },
      "source": [
        "df['log_returns']=np.log(1+df['returns'])\n",
        "\n",
        "X=df[['Close Price','log_returns']]"
      ],
      "execution_count": null,
      "outputs": []
    },
    {
      "cell_type": "code",
      "metadata": {
        "colab": {
          "base_uri": "https://localhost:8080/",
          "height": 285
        },
        "id": "yYBNnaE1IxkG",
        "outputId": "e33ad012-abb6-4fb5-c787-1c992bbd87c1"
      },
      "source": [
        "plt.figure(1,figsize=(16,4))\n",
        "plt.plot(df['log_returns'])"
      ],
      "execution_count": null,
      "outputs": [
        {
          "output_type": "execute_result",
          "data": {
            "text/plain": [
              "[<matplotlib.lines.Line2D at 0x7f8d298c2ed0>]"
            ]
          },
          "metadata": {
            "tags": []
          },
          "execution_count": 8
        },
        {
          "output_type": "display_data",
          "data": {
            "image/png": "[encoded data removed]",
            "text/plain": [
              "<Figure size 1152x288 with 1 Axes>"
            ]
          },
          "metadata": {
            "tags": [],
            "needs_background": "light"
          }
        }
      ]
    },
    {
      "cell_type": "code",
      "metadata": {
        "colab": {
          "base_uri": "https://localhost:8080/"
        },
        "id": "ZkYxkiSYIglH",
        "outputId": "e520be87-4223-46e4-c5b4-73cd46398faa"
      },
      "source": [
        "X_bk=X.copy()\n",
        "X.dropna(axis=0,inplace=True)"
      ],
      "execution_count": null,
      "outputs": [
        {
          "output_type": "stream",
          "text": [
            "/usr/local/lib/python3.7/dist-packages/ipykernel_launcher.py:2: SettingWithCopyWarning: \n",
            "A value is trying to be set on a copy of a slice from a DataFrame\n",
            "\n",
            "See the caveats in the documentation: https://pandas.pydata.org/pandas-docs/stable/user_guide/indexing.html#returning-a-view-versus-a-copy\n",
            "  \n"
          ],
          "name": "stderr"
        }
      ]
    },
    {
      "cell_type": "code",
      "metadata": {
        "colab": {
          "base_uri": "https://localhost:8080/",
          "height": 419
        },
        "id": "YEperZ5-QtsQ",
        "outputId": "ea03d10e-501a-485f-bfb4-cc528fb405ad"
      },
      "source": [
        "X"
      ],
      "execution_count": null,
      "outputs": [
        {
          "output_type": "execute_result",
          "data": {
            "text/html": [
              "<div>\n",
              "<style scoped>\n",
              "    .dataframe tbody tr th:only-of-type {\n",
              "        vertical-align: middle;\n",
              "    }\n",
              "\n",
              "    .dataframe tbody tr th {\n",
              "        vertical-align: top;\n",
              "    }\n",
              "\n",
              "    .dataframe thead th {\n",
              "        text-align: right;\n",
              "    }\n",
              "</style>\n",
              "<table border=\"1\" class=\"dataframe\">\n",
              "  <thead>\n",
              "    <tr style=\"text-align: right;\">\n",
              "      <th></th>\n",
              "      <th>Close Price</th>\n",
              "      <th>log_returns</th>\n",
              "    </tr>\n",
              "  </thead>\n",
              "  <tbody>\n",
              "    <tr>\n",
              "      <th>1</th>\n",
              "      <td>5.20</td>\n",
              "      <td>-0.028</td>\n",
              "    </tr>\n",
              "    <tr>\n",
              "      <th>2</th>\n",
              "      <td>4.65</td>\n",
              "      <td>-0.112</td>\n",
              "    </tr>\n",
              "    <tr>\n",
              "      <th>3</th>\n",
              "      <td>4.80</td>\n",
              "      <td>0.032</td>\n",
              "    </tr>\n",
              "    <tr>\n",
              "      <th>4</th>\n",
              "      <td>4.45</td>\n",
              "      <td>-0.076</td>\n",
              "    </tr>\n",
              "    <tr>\n",
              "      <th>5</th>\n",
              "      <td>4.35</td>\n",
              "      <td>-0.023</td>\n",
              "    </tr>\n",
              "    <tr>\n",
              "      <th>...</th>\n",
              "      <td>...</td>\n",
              "      <td>...</td>\n",
              "    </tr>\n",
              "    <tr>\n",
              "      <th>491</th>\n",
              "      <td>5.70</td>\n",
              "      <td>0.000</td>\n",
              "    </tr>\n",
              "    <tr>\n",
              "      <th>492</th>\n",
              "      <td>5.90</td>\n",
              "      <td>0.034</td>\n",
              "    </tr>\n",
              "    <tr>\n",
              "      <th>493</th>\n",
              "      <td>6.45</td>\n",
              "      <td>0.089</td>\n",
              "    </tr>\n",
              "    <tr>\n",
              "      <th>494</th>\n",
              "      <td>7.05</td>\n",
              "      <td>0.089</td>\n",
              "    </tr>\n",
              "    <tr>\n",
              "      <th>495</th>\n",
              "      <td>7.35</td>\n",
              "      <td>0.042</td>\n",
              "    </tr>\n",
              "  </tbody>\n",
              "</table>\n",
              "<p>495 rows × 2 columns</p>\n",
              "</div>"
            ],
            "text/plain": [
              "     Close Price  log_returns\n",
              "1           5.20       -0.028\n",
              "2           4.65       -0.112\n",
              "3           4.80        0.032\n",
              "4           4.45       -0.076\n",
              "5           4.35       -0.023\n",
              "..           ...          ...\n",
              "491         5.70        0.000\n",
              "492         5.90        0.034\n",
              "493         6.45        0.089\n",
              "494         7.05        0.089\n",
              "495         7.35        0.042\n",
              "\n",
              "[495 rows x 2 columns]"
            ]
          },
          "metadata": {
            "tags": []
          },
          "execution_count": 11
        }
      ]
    },
    {
      "cell_type": "code",
      "metadata": {
        "id": "OIxO7_f2IJLr"
      },
      "source": [
        "from sklearn.preprocessing import MinMaxScaler"
      ],
      "execution_count": null,
      "outputs": []
    },
    {
      "cell_type": "code",
      "metadata": {
        "id": "HDrlxm-aIOiD"
      },
      "source": [
        "scaler_new=MinMaxScaler(feature_range=(0,1)).fit(X)\n",
        "\n",
        "X_scaled=scaler_new.transform(X)"
      ],
      "execution_count": null,
      "outputs": []
    },
    {
      "cell_type": "code",
      "metadata": {
        "colab": {
          "base_uri": "https://localhost:8080/"
        },
        "id": "eGFE3q3NJIFl",
        "outputId": "95d7cee9-a224-4bc4-c13a-e2a375f7c6f5"
      },
      "source": [
        "X_scaled[:5]"
      ],
      "execution_count": null,
      "outputs": [
        {
          "output_type": "execute_result",
          "data": {
            "text/plain": [
              "array([[0.54761905, 0.31319012],\n",
              "       [0.46031746, 0.06478756],\n",
              "       [0.48412698, 0.49255294],\n",
              "       [0.42857143, 0.17230871],\n",
              "       [0.41269841, 0.33020561]])"
            ]
          },
          "metadata": {
            "tags": []
          },
          "execution_count": 14
        }
      ]
    },
    {
      "cell_type": "code",
      "metadata": {
        "id": "x7X6ODrGJTJO"
      },
      "source": [
        "y=[x[0] for x in X_scaled]"
      ],
      "execution_count": null,
      "outputs": []
    },
    {
      "cell_type": "code",
      "metadata": {
        "colab": {
          "base_uri": "https://localhost:8080/"
        },
        "id": "QqIUxOktJXfb",
        "outputId": "87314d62-dcda-4b20-d226-f72be9e30be8"
      },
      "source": [
        "y[:5]"
      ],
      "execution_count": null,
      "outputs": [
        {
          "output_type": "execute_result",
          "data": {
            "text/plain": [
              "[0.5476190476190476,\n",
              " 0.46031746031746035,\n",
              " 0.4841269841269841,\n",
              " 0.4285714285714286,\n",
              " 0.41269841269841256]"
            ]
          },
          "metadata": {
            "tags": []
          },
          "execution_count": 16
        }
      ]
    },
    {
      "cell_type": "code",
      "metadata": {
        "colab": {
          "base_uri": "https://localhost:8080/"
        },
        "id": "aTavrzCOJxyz",
        "outputId": "4baf95cd-9ec6-44c8-ceaa-de6cc0d5c28e"
      },
      "source": [
        "split=int(len(X_scaled)*0.8)\n",
        "split"
      ],
      "execution_count": null,
      "outputs": [
        {
          "output_type": "execute_result",
          "data": {
            "text/plain": [
              "396"
            ]
          },
          "metadata": {
            "tags": []
          },
          "execution_count": 17
        }
      ]
    },
    {
      "cell_type": "code",
      "metadata": {
        "id": "2UwSvPHuKAum"
      },
      "source": [
        "X_train=X_scaled[:split]\n",
        "X_test=X_scaled[split:len(X_scaled)]\n",
        "y_train=y[:split]\n",
        "y_test=y[split:len(y)]\n",
        "#X_train"
      ],
      "execution_count": null,
      "outputs": []
    },
    {
      "cell_type": "code",
      "metadata": {
        "colab": {
          "base_uri": "https://localhost:8080/"
        },
        "id": "Y7mM05WoKM1-",
        "outputId": "f9bf7623-ee94-43a4-d0cb-31b434498b79"
      },
      "source": [
        "print(X_test.shape,X_train.shape)\n",
        "print(len(y_train),len(y_test))"
      ],
      "execution_count": null,
      "outputs": [
        {
          "output_type": "stream",
          "text": [
            "(99, 2) (396, 2)\n",
            "396 99\n"
          ],
          "name": "stdout"
        }
      ]
    },
    {
      "cell_type": "code",
      "metadata": {
        "id": "ymrDHoyrKqCN"
      },
      "source": [
        "assert len(X_train)==len(y_train)\n",
        "assert len(X_test)==len(y_test)\n",
        "\n"
      ],
      "execution_count": null,
      "outputs": []
    },
    {
      "cell_type": "code",
      "metadata": {
        "id": "MWUYc2zFMwC2"
      },
      "source": [
        "n=3\n",
        "Xtrain=[]\n",
        "ytrain=[]\n",
        "Xtest=[]\n",
        "ytest=[]\n",
        "\n",
        "for i in range(n,len(X_train)):\n",
        "  Xtrain.append(X_train[i-n:i,:X_train.shape[1]])\n",
        "  ytrain.append(y_train[i])\n",
        "\n",
        "for j in range(n,len(X_test)):\n",
        "  Xtest.append(X_test[j-n:j,:X_test.shape[1]])\n",
        "  ytest.append(y_test[j])\n",
        "  #print(X_train[i-n:i,:X_train.shape[1]])\n",
        "  #print(i,n,i-n)\n",
        "  \n"
      ],
      "execution_count": null,
      "outputs": []
    },
    {
      "cell_type": "code",
      "metadata": {
        "colab": {
          "base_uri": "https://localhost:8080/",
          "height": 204
        },
        "id": "iI1AyNcnTFwq",
        "outputId": "0e542152-2a77-4da8-e02b-2f1a35b045bd"
      },
      "source": [
        "X.head()"
      ],
      "execution_count": null,
      "outputs": [
        {
          "output_type": "execute_result",
          "data": {
            "text/html": [
              "<div>\n",
              "<style scoped>\n",
              "    .dataframe tbody tr th:only-of-type {\n",
              "        vertical-align: middle;\n",
              "    }\n",
              "\n",
              "    .dataframe tbody tr th {\n",
              "        vertical-align: top;\n",
              "    }\n",
              "\n",
              "    .dataframe thead th {\n",
              "        text-align: right;\n",
              "    }\n",
              "</style>\n",
              "<table border=\"1\" class=\"dataframe\">\n",
              "  <thead>\n",
              "    <tr style=\"text-align: right;\">\n",
              "      <th></th>\n",
              "      <th>Close Price</th>\n",
              "      <th>log_returns</th>\n",
              "    </tr>\n",
              "  </thead>\n",
              "  <tbody>\n",
              "    <tr>\n",
              "      <th>1</th>\n",
              "      <td>5.20</td>\n",
              "      <td>-0.028</td>\n",
              "    </tr>\n",
              "    <tr>\n",
              "      <th>2</th>\n",
              "      <td>4.65</td>\n",
              "      <td>-0.112</td>\n",
              "    </tr>\n",
              "    <tr>\n",
              "      <th>3</th>\n",
              "      <td>4.80</td>\n",
              "      <td>0.032</td>\n",
              "    </tr>\n",
              "    <tr>\n",
              "      <th>4</th>\n",
              "      <td>4.45</td>\n",
              "      <td>-0.076</td>\n",
              "    </tr>\n",
              "    <tr>\n",
              "      <th>5</th>\n",
              "      <td>4.35</td>\n",
              "      <td>-0.023</td>\n",
              "    </tr>\n",
              "  </tbody>\n",
              "</table>\n",
              "</div>"
            ],
            "text/plain": [
              "   Close Price  log_returns\n",
              "1         5.20       -0.028\n",
              "2         4.65       -0.112\n",
              "3         4.80        0.032\n",
              "4         4.45       -0.076\n",
              "5         4.35       -0.023"
            ]
          },
          "metadata": {
            "tags": []
          },
          "execution_count": 22
        }
      ]
    },
    {
      "cell_type": "code",
      "metadata": {
        "colab": {
          "base_uri": "https://localhost:8080/"
        },
        "id": "KwZ0JCXtNZGB",
        "outputId": "8656dce5-1be8-4f6a-c28a-853bdd449194"
      },
      "source": [
        "Xtrain[100]"
      ],
      "execution_count": null,
      "outputs": [
        {
          "output_type": "execute_result",
          "data": {
            "text/plain": [
              "array([[0.17460317, 0.346109  ],\n",
              "       [0.17460317, 0.39793831],\n",
              "       [0.1984127 , 0.550798  ]])"
            ]
          },
          "metadata": {
            "tags": []
          },
          "execution_count": 345
        }
      ]
    },
    {
      "cell_type": "code",
      "metadata": {
        "colab": {
          "base_uri": "https://localhost:8080/"
        },
        "id": "WyzSsMYBSoSt",
        "outputId": "6f295a89-268a-4aac-de09-e739637ef53c"
      },
      "source": [
        "ytrain[0]"
      ],
      "execution_count": null,
      "outputs": [
        {
          "output_type": "execute_result",
          "data": {
            "text/plain": [
              "0.4285714285714286"
            ]
          },
          "metadata": {
            "tags": []
          },
          "execution_count": 346
        }
      ]
    },
    {
      "cell_type": "code",
      "metadata": {
        "colab": {
          "base_uri": "https://localhost:8080/"
        },
        "id": "qlXLj_B0StWp",
        "outputId": "89be73dc-3dcb-4130-d9d2-94942c6aeae2"
      },
      "source": [
        "val=np.array(ytrain[0])\n",
        "val=np.c_[val,np.zeros(val.shape)]\n",
        "scaler_new.inverse_transform(val)"
      ],
      "execution_count": null,
      "outputs": [
        {
          "output_type": "execute_result",
          "data": {
            "text/plain": [
              "array([[ 4.45      , -0.13353139]])"
            ]
          },
          "metadata": {
            "tags": []
          },
          "execution_count": 23
        }
      ]
    },
    {
      "cell_type": "code",
      "metadata": {
        "id": "CQ59UMaLYEnl"
      },
      "source": [
        "Xtrain,ytrain=(np.array(Xtrain),np.array(ytrain))\n",
        "Xtrain=np.reshape(Xtrain,(Xtrain.shape[0],Xtrain.shape[1],Xtrain.shape[2]))\n",
        "\n",
        "Xtest,ytest=(np.array(Xtest),np.array(ytest))\n",
        "Xtest=np.reshape(Xtest,(Xtest.shape[0],Xtest.shape[1],Xtest.shape[2]))\n"
      ],
      "execution_count": null,
      "outputs": []
    },
    {
      "cell_type": "code",
      "metadata": {
        "colab": {
          "base_uri": "https://localhost:8080/"
        },
        "id": "fKWCdqqKYgLj",
        "outputId": "aec783c7-7067-45bd-93aa-a5b60e135384"
      },
      "source": [
        "print(Xtrain.shape)\n",
        "print(ytrain.shape)\n",
        "print(\"-----------\")\n",
        "print(Xtest.shape)\n",
        "print(ytest.shape)\n",
        "\n"
      ],
      "execution_count": null,
      "outputs": [
        {
          "output_type": "stream",
          "text": [
            "(393, 3, 2)\n",
            "(393,)\n",
            "-----------\n",
            "(96, 3, 2)\n",
            "(96,)\n"
          ],
          "name": "stdout"
        }
      ]
    },
    {
      "cell_type": "code",
      "metadata": {
        "colab": {
          "base_uri": "https://localhost:8080/"
        },
        "id": "aht8A9Ida_Mu",
        "outputId": "53df5fd3-eaf5-416f-90e0-2a06f88bc8fa"
      },
      "source": [
        "from sklearn.preprocessing import MinMaxScaler\n",
        "from keras.models import Sequential\n",
        "from keras.layers import Dense, Dropout, LSTM\n",
        "\n",
        "# create and fit the LSTM network\n",
        "model = Sequential()\n",
        "model.add(LSTM(4, input_shape=(Xtrain.shape[1],Xtrain.shape[2])))\n",
        "model.add(Dense(1))\n",
        "#model.add(LSTM(units=50))\n",
        "\n",
        "model.compile(loss='mean_squared_error', optimizer='adam')\n",
        "model.fit(Xtrain, ytrain, epochs=100,validation_data=(Xtest,ytest) ,batch_size=6, verbose=1)"
      ],
      "execution_count": null,
      "outputs": [
        {
          "output_type": "stream",
          "text": [
            "Epoch 1/100\n",
            "66/66 [==============================] - 3s 12ms/step - loss: 0.1989 - val_loss: 0.4466\n",
            "Epoch 2/100\n",
            "66/66 [==============================] - 0s 3ms/step - loss: 0.0858 - val_loss: 0.2186\n",
            "Epoch 3/100\n",
            "66/66 [==============================] - 0s 3ms/step - loss: 0.0388 - val_loss: 0.1179\n",
            "Epoch 4/100\n",
            "66/66 [==============================] - 0s 3ms/step - loss: 0.0281 - val_loss: 0.0919\n",
            "Epoch 5/100\n",
            "66/66 [==============================] - 0s 3ms/step - loss: 0.0211 - val_loss: 0.0749\n",
            "Epoch 6/100\n",
            "66/66 [==============================] - 0s 3ms/step - loss: 0.0212 - val_loss: 0.0642\n",
            "Epoch 7/100\n",
            "66/66 [==============================] - 0s 3ms/step - loss: 0.0145 - val_loss: 0.0434\n",
            "Epoch 8/100\n",
            "66/66 [==============================] - 0s 3ms/step - loss: 0.0116 - val_loss: 0.0314\n",
            "Epoch 9/100\n",
            "66/66 [==============================] - 0s 3ms/step - loss: 0.0088 - val_loss: 0.0216\n",
            "Epoch 10/100\n",
            "66/66 [==============================] - 0s 3ms/step - loss: 0.0061 - val_loss: 0.0103\n",
            "Epoch 11/100\n",
            "66/66 [==============================] - 0s 3ms/step - loss: 0.0034 - val_loss: 0.0057\n",
            "Epoch 12/100\n",
            "66/66 [==============================] - 0s 3ms/step - loss: 0.0026 - val_loss: 0.0034\n",
            "Epoch 13/100\n",
            "66/66 [==============================] - 0s 3ms/step - loss: 0.0023 - val_loss: 0.0024\n",
            "Epoch 14/100\n",
            "66/66 [==============================] - 0s 3ms/step - loss: 0.0018 - val_loss: 0.0025\n",
            "Epoch 15/100\n",
            "66/66 [==============================] - 0s 3ms/step - loss: 0.0019 - val_loss: 0.0022\n",
            "Epoch 16/100\n",
            "66/66 [==============================] - 0s 3ms/step - loss: 0.0018 - val_loss: 0.0022\n",
            "Epoch 17/100\n",
            "66/66 [==============================] - 0s 3ms/step - loss: 0.0015 - val_loss: 0.0022\n",
            "Epoch 18/100\n",
            "66/66 [==============================] - 0s 3ms/step - loss: 0.0017 - val_loss: 0.0021\n",
            "Epoch 19/100\n",
            "66/66 [==============================] - 0s 3ms/step - loss: 0.0016 - val_loss: 0.0020\n",
            "Epoch 20/100\n",
            "66/66 [==============================] - 0s 3ms/step - loss: 0.0017 - val_loss: 0.0021\n",
            "Epoch 21/100\n",
            "66/66 [==============================] - 0s 3ms/step - loss: 0.0015 - val_loss: 0.0020\n",
            "Epoch 22/100\n",
            "66/66 [==============================] - 0s 3ms/step - loss: 0.0014 - val_loss: 0.0019\n",
            "Epoch 23/100\n",
            "66/66 [==============================] - 0s 3ms/step - loss: 0.0016 - val_loss: 0.0019\n",
            "Epoch 24/100\n",
            "66/66 [==============================] - 0s 3ms/step - loss: 0.0014 - val_loss: 0.0019\n",
            "Epoch 25/100\n",
            "66/66 [==============================] - 0s 3ms/step - loss: 0.0014 - val_loss: 0.0018\n",
            "Epoch 26/100\n",
            "66/66 [==============================] - 0s 3ms/step - loss: 0.0014 - val_loss: 0.0019\n",
            "Epoch 27/100\n",
            "66/66 [==============================] - 0s 3ms/step - loss: 0.0013 - val_loss: 0.0018\n",
            "Epoch 28/100\n",
            "66/66 [==============================] - 0s 3ms/step - loss: 0.0013 - val_loss: 0.0018\n",
            "Epoch 29/100\n",
            "66/66 [==============================] - 0s 3ms/step - loss: 0.0013 - val_loss: 0.0017\n",
            "Epoch 30/100\n",
            "66/66 [==============================] - 0s 3ms/step - loss: 0.0012 - val_loss: 0.0018\n",
            "Epoch 31/100\n",
            "66/66 [==============================] - 0s 3ms/step - loss: 0.0014 - val_loss: 0.0017\n",
            "Epoch 32/100\n",
            "66/66 [==============================] - 0s 3ms/step - loss: 0.0013 - val_loss: 0.0017\n",
            "Epoch 33/100\n",
            "66/66 [==============================] - 0s 3ms/step - loss: 0.0012 - val_loss: 0.0016\n",
            "Epoch 34/100\n",
            "66/66 [==============================] - 0s 3ms/step - loss: 0.0012 - val_loss: 0.0017\n",
            "Epoch 35/100\n",
            "66/66 [==============================] - 0s 3ms/step - loss: 0.0012 - val_loss: 0.0016\n",
            "Epoch 36/100\n",
            "66/66 [==============================] - 0s 3ms/step - loss: 0.0012 - val_loss: 0.0016\n",
            "Epoch 37/100\n",
            "66/66 [==============================] - 0s 3ms/step - loss: 9.7462e-04 - val_loss: 0.0016\n",
            "Epoch 38/100\n",
            "66/66 [==============================] - 0s 3ms/step - loss: 0.0011 - val_loss: 0.0015\n",
            "Epoch 39/100\n",
            "66/66 [==============================] - 0s 3ms/step - loss: 9.1797e-04 - val_loss: 0.0015\n",
            "Epoch 40/100\n",
            "66/66 [==============================] - 0s 3ms/step - loss: 0.0012 - val_loss: 0.0015\n",
            "Epoch 41/100\n",
            "66/66 [==============================] - 0s 3ms/step - loss: 8.6437e-04 - val_loss: 0.0017\n",
            "Epoch 42/100\n",
            "66/66 [==============================] - 0s 3ms/step - loss: 9.9219e-04 - val_loss: 0.0015\n",
            "Epoch 43/100\n",
            "66/66 [==============================] - 0s 3ms/step - loss: 0.0011 - val_loss: 0.0015\n",
            "Epoch 44/100\n",
            "66/66 [==============================] - 0s 3ms/step - loss: 8.9309e-04 - val_loss: 0.0015\n",
            "Epoch 45/100\n",
            "66/66 [==============================] - 0s 4ms/step - loss: 9.3463e-04 - val_loss: 0.0014\n",
            "Epoch 46/100\n",
            "66/66 [==============================] - 0s 3ms/step - loss: 9.5958e-04 - val_loss: 0.0015\n",
            "Epoch 47/100\n",
            "66/66 [==============================] - 0s 3ms/step - loss: 9.0294e-04 - val_loss: 0.0014\n",
            "Epoch 48/100\n",
            "66/66 [==============================] - 0s 3ms/step - loss: 9.1448e-04 - val_loss: 0.0014\n",
            "Epoch 49/100\n",
            "66/66 [==============================] - 0s 3ms/step - loss: 8.8030e-04 - val_loss: 0.0015\n",
            "Epoch 50/100\n",
            "66/66 [==============================] - 0s 3ms/step - loss: 8.3570e-04 - val_loss: 0.0014\n",
            "Epoch 51/100\n",
            "66/66 [==============================] - 0s 3ms/step - loss: 9.2443e-04 - val_loss: 0.0014\n",
            "Epoch 52/100\n",
            "66/66 [==============================] - 0s 3ms/step - loss: 7.4093e-04 - val_loss: 0.0014\n",
            "Epoch 53/100\n",
            "66/66 [==============================] - 0s 3ms/step - loss: 8.4110e-04 - val_loss: 0.0014\n",
            "Epoch 54/100\n",
            "66/66 [==============================] - 0s 3ms/step - loss: 8.7015e-04 - val_loss: 0.0014\n",
            "Epoch 55/100\n",
            "66/66 [==============================] - 0s 3ms/step - loss: 6.7343e-04 - val_loss: 0.0014\n",
            "Epoch 56/100\n",
            "66/66 [==============================] - 0s 3ms/step - loss: 6.7658e-04 - val_loss: 0.0014\n",
            "Epoch 57/100\n",
            "66/66 [==============================] - 0s 3ms/step - loss: 9.7970e-04 - val_loss: 0.0013\n",
            "Epoch 58/100\n",
            "66/66 [==============================] - 0s 3ms/step - loss: 8.2734e-04 - val_loss: 0.0013\n",
            "Epoch 59/100\n",
            "66/66 [==============================] - 0s 3ms/step - loss: 7.9324e-04 - val_loss: 0.0013\n",
            "Epoch 60/100\n",
            "66/66 [==============================] - 0s 3ms/step - loss: 7.2842e-04 - val_loss: 0.0016\n",
            "Epoch 61/100\n",
            "66/66 [==============================] - 0s 3ms/step - loss: 6.6071e-04 - val_loss: 0.0013\n",
            "Epoch 62/100\n",
            "66/66 [==============================] - 0s 3ms/step - loss: 7.5912e-04 - val_loss: 0.0014\n",
            "Epoch 63/100\n",
            "66/66 [==============================] - 0s 3ms/step - loss: 7.2458e-04 - val_loss: 0.0013\n",
            "Epoch 64/100\n",
            "66/66 [==============================] - 0s 3ms/step - loss: 6.8617e-04 - val_loss: 0.0013\n",
            "Epoch 65/100\n",
            "66/66 [==============================] - 0s 3ms/step - loss: 8.2357e-04 - val_loss: 0.0013\n",
            "Epoch 66/100\n",
            "66/66 [==============================] - 0s 4ms/step - loss: 7.1980e-04 - val_loss: 0.0013\n",
            "Epoch 67/100\n",
            "66/66 [==============================] - 0s 3ms/step - loss: 8.7876e-04 - val_loss: 0.0013\n",
            "Epoch 68/100\n",
            "66/66 [==============================] - 0s 3ms/step - loss: 6.9860e-04 - val_loss: 0.0012\n",
            "Epoch 69/100\n",
            "66/66 [==============================] - 0s 3ms/step - loss: 6.1041e-04 - val_loss: 0.0013\n",
            "Epoch 70/100\n",
            "66/66 [==============================] - 0s 3ms/step - loss: 6.3497e-04 - val_loss: 0.0013\n",
            "Epoch 71/100\n",
            "66/66 [==============================] - 0s 3ms/step - loss: 6.9422e-04 - val_loss: 0.0012\n",
            "Epoch 72/100\n",
            "66/66 [==============================] - 0s 3ms/step - loss: 7.0152e-04 - val_loss: 0.0012\n",
            "Epoch 73/100\n",
            "66/66 [==============================] - 0s 3ms/step - loss: 6.7097e-04 - val_loss: 0.0012\n",
            "Epoch 74/100\n",
            "66/66 [==============================] - 0s 3ms/step - loss: 7.1836e-04 - val_loss: 0.0012\n",
            "Epoch 75/100\n",
            "66/66 [==============================] - 0s 3ms/step - loss: 6.3848e-04 - val_loss: 0.0012\n",
            "Epoch 76/100\n",
            "66/66 [==============================] - 0s 3ms/step - loss: 6.8066e-04 - val_loss: 0.0013\n",
            "Epoch 77/100\n",
            "66/66 [==============================] - 0s 3ms/step - loss: 6.8623e-04 - val_loss: 0.0014\n",
            "Epoch 78/100\n",
            "66/66 [==============================] - 0s 3ms/step - loss: 6.6696e-04 - val_loss: 0.0012\n",
            "Epoch 79/100\n",
            "66/66 [==============================] - 0s 3ms/step - loss: 6.2799e-04 - val_loss: 0.0013\n",
            "Epoch 80/100\n",
            "66/66 [==============================] - 0s 3ms/step - loss: 6.4771e-04 - val_loss: 0.0012\n",
            "Epoch 81/100\n",
            "66/66 [==============================] - 0s 3ms/step - loss: 8.1643e-04 - val_loss: 0.0013\n",
            "Epoch 82/100\n",
            "66/66 [==============================] - 0s 3ms/step - loss: 6.2701e-04 - val_loss: 0.0012\n",
            "Epoch 83/100\n",
            "66/66 [==============================] - 0s 3ms/step - loss: 7.3868e-04 - val_loss: 0.0013\n",
            "Epoch 84/100\n",
            "66/66 [==============================] - 0s 3ms/step - loss: 6.4597e-04 - val_loss: 0.0015\n",
            "Epoch 85/100\n",
            "66/66 [==============================] - 0s 3ms/step - loss: 6.1684e-04 - val_loss: 0.0013\n",
            "Epoch 86/100\n",
            "66/66 [==============================] - 0s 3ms/step - loss: 5.5195e-04 - val_loss: 0.0012\n",
            "Epoch 87/100\n",
            "66/66 [==============================] - 0s 3ms/step - loss: 5.6983e-04 - val_loss: 0.0012\n",
            "Epoch 88/100\n",
            "66/66 [==============================] - 0s 3ms/step - loss: 6.6396e-04 - val_loss: 0.0013\n",
            "Epoch 89/100\n",
            "66/66 [==============================] - 0s 3ms/step - loss: 6.2778e-04 - val_loss: 0.0014\n",
            "Epoch 90/100\n",
            "66/66 [==============================] - 0s 4ms/step - loss: 5.7439e-04 - val_loss: 0.0013\n",
            "Epoch 91/100\n",
            "66/66 [==============================] - 0s 3ms/step - loss: 5.6549e-04 - val_loss: 0.0012\n",
            "Epoch 92/100\n",
            "66/66 [==============================] - 0s 3ms/step - loss: 6.0832e-04 - val_loss: 0.0012\n",
            "Epoch 93/100\n",
            "66/66 [==============================] - 0s 3ms/step - loss: 6.5017e-04 - val_loss: 0.0012\n",
            "Epoch 94/100\n",
            "66/66 [==============================] - 0s 3ms/step - loss: 6.7076e-04 - val_loss: 0.0013\n",
            "Epoch 95/100\n",
            "66/66 [==============================] - 0s 4ms/step - loss: 6.5533e-04 - val_loss: 0.0013\n",
            "Epoch 96/100\n",
            "66/66 [==============================] - 0s 3ms/step - loss: 5.2194e-04 - val_loss: 0.0013\n",
            "Epoch 97/100\n",
            "66/66 [==============================] - 0s 3ms/step - loss: 5.2248e-04 - val_loss: 0.0016\n",
            "Epoch 98/100\n",
            "66/66 [==============================] - 0s 3ms/step - loss: 5.9016e-04 - val_loss: 0.0012\n",
            "Epoch 99/100\n",
            "66/66 [==============================] - 0s 4ms/step - loss: 5.7488e-04 - val_loss: 0.0013\n",
            "Epoch 100/100\n",
            "66/66 [==============================] - 0s 3ms/step - loss: 6.1027e-04 - val_loss: 0.0012\n"
          ],
          "name": "stdout"
        },
        {
          "output_type": "execute_result",
          "data": {
            "text/plain": [
              "<keras.callbacks.History at 0x7f371b685110>"
            ]
          },
          "metadata": {
            "tags": []
          },
          "execution_count": 72
        }
      ]
    },
    {
      "cell_type": "code",
      "metadata": {
        "colab": {
          "base_uri": "https://localhost:8080/"
        },
        "id": "d6nyokeBbZjC",
        "outputId": "dff5aac8-df1f-459d-d11b-71571bcff20d"
      },
      "source": [
        "model.summary()"
      ],
      "execution_count": null,
      "outputs": [
        {
          "output_type": "stream",
          "text": [
            "Model: \"sequential_6\"\n",
            "_________________________________________________________________\n",
            "Layer (type)                 Output Shape              Param #   \n",
            "=================================================================\n",
            "lstm_9 (LSTM)                (None, 4)                 112       \n",
            "_________________________________________________________________\n",
            "dense_6 (Dense)              (None, 1)                 5         \n",
            "=================================================================\n",
            "Total params: 117\n",
            "Trainable params: 117\n",
            "Non-trainable params: 0\n",
            "_________________________________________________________________\n"
          ],
          "name": "stdout"
        }
      ]
    },
    {
      "cell_type": "code",
      "metadata": {
        "id": "lFXBGxBNbxep"
      },
      "source": [
        "trainPredictF=model.predict(Xtrain)\n",
        "testPredictF=model.predict(Xtest)"
      ],
      "execution_count": null,
      "outputs": []
    },
    {
      "cell_type": "code",
      "metadata": {
        "colab": {
          "base_uri": "https://localhost:8080/"
        },
        "id": "5X_Ug5_acIIX",
        "outputId": "807d51bd-3435-44f0-c069-4b5d02cdc12b"
      },
      "source": [
        "trainPredictFi=np.c_[trainPredictF,np.zeros(trainPredictF.shape)]\n",
        "testPredictFi=np.c_[testPredictF,np.zeros(testPredictF.shape)]\n",
        "\n",
        "print(len(testPredictFi),len(trainPredictFi))"
      ],
      "execution_count": null,
      "outputs": [
        {
          "output_type": "stream",
          "text": [
            "96 393\n"
          ],
          "name": "stdout"
        }
      ]
    },
    {
      "cell_type": "code",
      "metadata": {
        "id": "xXqL0AgPfRDl"
      },
      "source": [
        "trainPredict_RM=scaler_new.inverse_transform(trainPredictFi)\n",
        "trainPredict_RM=[x[0] for x in trainPredictFi]\n",
        "\n",
        "testPredict_RM=scaler_new.inverse_transform(testPredictFi)\n",
        "testPredict_RM=[x[0] for x in testPredictFi]\n"
      ],
      "execution_count": null,
      "outputs": []
    },
    {
      "cell_type": "code",
      "metadata": {
        "id": "I286S_MQfzo1"
      },
      "source": [
        "from sklearn.metrics import mean_squared_error "
      ],
      "execution_count": null,
      "outputs": []
    },
    {
      "cell_type": "code",
      "metadata": {
        "colab": {
          "base_uri": "https://localhost:8080/"
        },
        "id": "OgNT2X1kgFrp",
        "outputId": "40349171-d900-4b2b-8451-8bca768959a7"
      },
      "source": [
        "trainScore=mean_squared_error([x[0][0] for x in Xtrain],trainPredict_RM,squared=False)\n",
        "print('Train Score : %2f RMSE'%(trainScore))\n",
        "testScore=mean_squared_error([x[0][0] for x in Xtest],testPredict_RM,squared=False)\n",
        "print('Test Score : %2f RMSE'%(testScore))"
      ],
      "execution_count": null,
      "outputs": [
        {
          "output_type": "stream",
          "text": [
            "Train Score : 0.052612 RMSE\n",
            "Test Score : 0.061296 RMSE\n"
          ],
          "name": "stdout"
        }
      ]
    },
    {
      "cell_type": "code",
      "metadata": {
        "colab": {
          "base_uri": "https://localhost:8080/"
        },
        "id": "J_MKS72ajwsR",
        "outputId": "ef6a3198-639d-4ed1-dc0a-cf5d1eaf959d"
      },
      "source": [
        "tP=np.array(testPredict_RM)\n",
        "\n",
        "#type(X_test)\n",
        "valid_new=Xtest\n",
        "\n",
        "#valid_new['Pred']=testPredict_RM\n",
        "print(type(valid_new),len(valid_new))\n",
        "#print(type(tP),len(tP))\n",
        "#print(valid_new[:])\n"
      ],
      "execution_count": null,
      "outputs": [
        {
          "output_type": "stream",
          "text": [
            "<class 'numpy.ndarray'> 96\n"
          ],
          "name": "stdout"
        }
      ]
    },
    {
      "cell_type": "code",
      "metadata": {
        "colab": {
          "base_uri": "https://localhost:8080/"
        },
        "id": "FMOEaIbHTuDB",
        "outputId": "dd22dda7-0d1f-4295-86bf-c559faf5da28"
      },
      "source": [
        "print(type(testPredict_RM),\n",
        "type(trainPredict_RM))"
      ],
      "execution_count": null,
      "outputs": [
        {
          "output_type": "stream",
          "text": [
            "<class 'list'> <class 'list'>\n"
          ],
          "name": "stdout"
        }
      ]
    },
    {
      "cell_type": "code",
      "metadata": {
        "id": "FGRw_rKPmkHq"
      },
      "source": [
        "\n",
        "valid = np.append(valid_new, tP)"
      ],
      "execution_count": null,
      "outputs": []
    },
    {
      "cell_type": "code",
      "metadata": {
        "colab": {
          "base_uri": "https://localhost:8080/",
          "height": 516
        },
        "id": "9-k8dEgQhCuJ",
        "outputId": "c2964113-cfe2-45c8-bce6-afba57930d0b"
      },
      "source": [
        "\n",
        "\n",
        "#for plotting\n",
        "plt.figure(figsize=(16,8))\n",
        "#train = Xtrain[0]\n",
        "#valid = X_test\n",
        "#valid['Predictions'] = tP\n",
        "plt.plot(trainPredict_RM,'g')\n",
        "plt.plot(testPredict_RM)\n",
        "\n",
        "plt.title('Suzlon Prediction')\n",
        "plt.legend(['Close Price','Valid_Close Price','Predict Price'])"
      ],
      "execution_count": null,
      "outputs": [
        {
          "output_type": "execute_result",
          "data": {
            "text/plain": [
              "<matplotlib.legend.Legend at 0x7f3726e71ed0>"
            ]
          },
          "metadata": {
            "tags": []
          },
          "execution_count": 78
        },
        {
          "output_type": "display_data",
          "data": {
            "image/png": "[encoded data removed]",
            "text/plain": [
              "<Figure size 1152x576 with 1 Axes>"
            ]
          },
          "metadata": {
            "tags": [],
            "needs_background": "light"
          }
        }
      ]
    },
    {
      "cell_type": "markdown",
      "metadata": {
        "id": "SSy4k0Yb18qi"
      },
      "source": [
        "#original model"
      ]
    },
    {
      "cell_type": "code",
      "metadata": {
        "colab": {
          "base_uri": "https://localhost:8080/",
          "height": 500
        },
        "id": "o018IT9ikpnp",
        "outputId": "820bf3e8-1fe8-4f13-8362-dc8e5f1c026c"
      },
      "source": [
        "\n",
        "#setting index as date\n",
        "df['Date'] = pd.to_datetime(df.Date,format='%Y-%m-%d')\n",
        "df.index = df['Date']\n",
        "\n",
        "#plot\n",
        "plt.figure(figsize=(16,8))\n",
        "plt.plot(df['Close Price'], label='Close Price history')"
      ],
      "execution_count": 10,
      "outputs": [
        {
          "output_type": "execute_result",
          "data": {
            "text/plain": [
              "[<matplotlib.lines.Line2D at 0x7f27d9983350>]"
            ]
          },
          "metadata": {
            "tags": []
          },
          "execution_count": 10
        },
        {
          "output_type": "display_data",
          "data": {
            "image/png": "[encoded data removed]",
            "text/plain": [
              "<Figure size 1152x576 with 1 Axes>"
            ]
          },
          "metadata": {
            "tags": [],
            "needs_background": "light"
          }
        }
      ]
    },
    {
      "cell_type": "code",
      "metadata": {
        "id": "0H4s_pKYcHLh"
      },
      "source": [
        ""
      ],
      "execution_count": null,
      "outputs": []
    },
    {
      "cell_type": "code",
      "metadata": {
        "id": "xzskt4iGbYnC"
      },
      "source": [
        ""
      ],
      "execution_count": null,
      "outputs": []
    },
    {
      "cell_type": "code",
      "metadata": {
        "id": "xAK0kgLgINl0"
      },
      "source": [
        ""
      ],
      "execution_count": null,
      "outputs": []
    },
    {
      "cell_type": "code",
      "metadata": {
        "id": "P35l0Q--90M1"
      },
      "source": [
        "s=df.shape\n",
        "train_size=s[0]*0.8\n",
        "test_size=s[0]*.2\n",
        "train_size=int(train_size)\n",
        "test_size=int(test_size)\n"
      ],
      "execution_count": 11,
      "outputs": []
    },
    {
      "cell_type": "code",
      "metadata": {
        "colab": {
          "base_uri": "https://localhost:8080/"
        },
        "id": "2ZPv1yDLn7p9",
        "outputId": "20239938-d229-4c80-d5d0-8d479dec6473"
      },
      "source": [
        "#importing required libraries\n",
        "from sklearn.preprocessing import MinMaxScaler\n",
        "from keras.models import Sequential\n",
        "from keras.layers import Dense, Dropout, LSTM\n",
        "\n",
        "#creating dataframe\n",
        "data = df.sort_index(ascending=True, axis=0)\n",
        "new_data = pd.DataFrame(index=range(0,len(df)),columns=['Date', 'Close'])\n",
        "for i in range(0,len(data)):\n",
        "    new_data['Date'][i] = data['Date'][i]\n",
        "    new_data['Close'][i] = data['Close Price'][i]\n",
        "\n",
        "#setting index\n",
        "new_data.index = new_data.Date\n",
        "new_data.drop('Date', axis=1, inplace=True)\n",
        "\n",
        "#creating train and test sets\n",
        "dataset = new_data.values\n",
        "#size=size.astype(int)\n",
        "train = dataset[0:train_size,:]\n",
        "valid = dataset[train_size:,:]\n",
        "\n",
        "#converting dataset into x_train and y_train\n",
        "scaler = MinMaxScaler(feature_range=(0, 1))\n",
        "scaled_data = scaler.fit_transform(dataset)\n",
        "\n",
        "x_train, y_train = [], []\n",
        "for i in range(60,len(train)):\n",
        "    x_train.append(scaled_data[i-60:i,0])\n",
        "    y_train.append(scaled_data[i,0])\n",
        "x_train, y_train = np.array(x_train), np.array(y_train)\n",
        "\n",
        "x_train = np.reshape(x_train, (x_train.shape[0],x_train.shape[1],1))\n",
        "\n",
        "# create and fit the LSTM network\n",
        "model = Sequential()\n",
        "model.add(LSTM(units=50, return_sequences=True, input_shape=(x_train.shape[1],1)))\n",
        "model.add(LSTM(units=50))\n",
        "model.add(Dense(1))\n",
        "\n",
        "model.compile(loss='mean_squared_error', optimizer='adam')\n",
        "model.fit(x_train, y_train, epochs=100, batch_size=6, verbose=1)\n",
        "\n",
        "#predicting 246 values, using past 60 from the train data\n",
        "inputs = new_data[len(new_data) - len(valid) - 60:].values\n",
        "inputs = inputs.reshape(-1,1)\n",
        "inputs  = scaler.transform(inputs)\n",
        "\n",
        "X_test = []\n",
        "for i in range(60,inputs.shape[0]):\n",
        "    X_test.append(inputs[i-60:i,0])\n",
        "X_test = np.array(X_test)\n",
        "\n",
        "X_test = np.reshape(X_test, (X_test.shape[0],X_test.shape[1],1))\n",
        "closing_price = model.predict(X_test)\n",
        "closing_price = scaler.inverse_transform(closing_price)"
      ],
      "execution_count": 12,
      "outputs": [
        {
          "output_type": "stream",
          "text": [
            "Epoch 1/100\n",
            "58/58 [==============================] - 19s 29ms/step - loss: 0.0718\n",
            "Epoch 2/100\n",
            "58/58 [==============================] - 2s 30ms/step - loss: 0.0053\n",
            "Epoch 3/100\n",
            "58/58 [==============================] - 2s 30ms/step - loss: 0.0041\n",
            "Epoch 4/100\n",
            "58/58 [==============================] - 2s 30ms/step - loss: 0.0040\n",
            "Epoch 5/100\n",
            "58/58 [==============================] - 2s 30ms/step - loss: 0.0035\n",
            "Epoch 6/100\n",
            "58/58 [==============================] - 2s 30ms/step - loss: 0.0025\n",
            "Epoch 7/100\n",
            "58/58 [==============================] - 2s 30ms/step - loss: 0.0022\n",
            "Epoch 8/100\n",
            "58/58 [==============================] - 2s 30ms/step - loss: 0.0028\n",
            "Epoch 9/100\n",
            "58/58 [==============================] - 2s 30ms/step - loss: 0.0026\n",
            "Epoch 10/100\n",
            "58/58 [==============================] - 2s 30ms/step - loss: 0.0022\n",
            "Epoch 11/100\n",
            "58/58 [==============================] - 2s 30ms/step - loss: 0.0022\n",
            "Epoch 12/100\n",
            "58/58 [==============================] - 2s 30ms/step - loss: 0.0025\n",
            "Epoch 13/100\n",
            "58/58 [==============================] - 2s 30ms/step - loss: 0.0016\n",
            "Epoch 14/100\n",
            "58/58 [==============================] - 2s 29ms/step - loss: 0.0018\n",
            "Epoch 15/100\n",
            "58/58 [==============================] - 2s 29ms/step - loss: 0.0013\n",
            "Epoch 16/100\n",
            "58/58 [==============================] - 2s 30ms/step - loss: 0.0015\n",
            "Epoch 17/100\n",
            "58/58 [==============================] - 2s 30ms/step - loss: 0.0017\n",
            "Epoch 18/100\n",
            "58/58 [==============================] - 2s 30ms/step - loss: 0.0014\n",
            "Epoch 19/100\n",
            "58/58 [==============================] - 2s 30ms/step - loss: 0.0016\n",
            "Epoch 20/100\n",
            "58/58 [==============================] - 2s 30ms/step - loss: 0.0017\n",
            "Epoch 21/100\n",
            "58/58 [==============================] - 2s 30ms/step - loss: 0.0014\n",
            "Epoch 22/100\n",
            "58/58 [==============================] - 2s 30ms/step - loss: 0.0015\n",
            "Epoch 23/100\n",
            "58/58 [==============================] - 2s 30ms/step - loss: 0.0013\n",
            "Epoch 24/100\n",
            "58/58 [==============================] - 2s 30ms/step - loss: 0.0013\n",
            "Epoch 25/100\n",
            "58/58 [==============================] - 2s 30ms/step - loss: 0.0016\n",
            "Epoch 26/100\n",
            "58/58 [==============================] - 2s 30ms/step - loss: 0.0010\n",
            "Epoch 27/100\n",
            "58/58 [==============================] - 2s 30ms/step - loss: 0.0011\n",
            "Epoch 28/100\n",
            "58/58 [==============================] - 2s 30ms/step - loss: 0.0015\n",
            "Epoch 29/100\n",
            "58/58 [==============================] - 2s 30ms/step - loss: 0.0014\n",
            "Epoch 30/100\n",
            "58/58 [==============================] - 2s 30ms/step - loss: 0.0011\n",
            "Epoch 31/100\n",
            "58/58 [==============================] - 2s 30ms/step - loss: 9.3064e-04\n",
            "Epoch 32/100\n",
            "58/58 [==============================] - 2s 30ms/step - loss: 0.0011\n",
            "Epoch 33/100\n",
            "58/58 [==============================] - 2s 30ms/step - loss: 9.4319e-04\n",
            "Epoch 34/100\n",
            "58/58 [==============================] - 2s 30ms/step - loss: 0.0013\n",
            "Epoch 35/100\n",
            "58/58 [==============================] - 2s 30ms/step - loss: 9.6217e-04\n",
            "Epoch 36/100\n",
            "58/58 [==============================] - 2s 30ms/step - loss: 9.4682e-04\n",
            "Epoch 37/100\n",
            "58/58 [==============================] - 2s 30ms/step - loss: 7.5909e-04\n",
            "Epoch 38/100\n",
            "58/58 [==============================] - 2s 30ms/step - loss: 9.7763e-04\n",
            "Epoch 39/100\n",
            "58/58 [==============================] - 2s 30ms/step - loss: 7.3212e-04\n",
            "Epoch 40/100\n",
            "58/58 [==============================] - 2s 30ms/step - loss: 0.0012\n",
            "Epoch 41/100\n",
            "58/58 [==============================] - 2s 29ms/step - loss: 9.1732e-04\n",
            "Epoch 42/100\n",
            "58/58 [==============================] - 2s 30ms/step - loss: 7.2637e-04\n",
            "Epoch 43/100\n",
            "58/58 [==============================] - 2s 30ms/step - loss: 0.0010\n",
            "Epoch 44/100\n",
            "58/58 [==============================] - 2s 31ms/step - loss: 6.2266e-04\n",
            "Epoch 45/100\n",
            "58/58 [==============================] - 2s 30ms/step - loss: 7.5863e-04\n",
            "Epoch 46/100\n",
            "58/58 [==============================] - 2s 30ms/step - loss: 8.0232e-04\n",
            "Epoch 47/100\n",
            "58/58 [==============================] - 2s 30ms/step - loss: 6.4959e-04\n",
            "Epoch 48/100\n",
            "58/58 [==============================] - 2s 29ms/step - loss: 8.8963e-04\n",
            "Epoch 49/100\n",
            "58/58 [==============================] - 2s 30ms/step - loss: 9.3075e-04\n",
            "Epoch 50/100\n",
            "58/58 [==============================] - 2s 31ms/step - loss: 7.1480e-04\n",
            "Epoch 51/100\n",
            "58/58 [==============================] - 2s 31ms/step - loss: 7.4073e-04\n",
            "Epoch 52/100\n",
            "58/58 [==============================] - 2s 30ms/step - loss: 7.3734e-04\n",
            "Epoch 53/100\n",
            "58/58 [==============================] - 2s 30ms/step - loss: 8.0306e-04\n",
            "Epoch 54/100\n",
            "58/58 [==============================] - 2s 30ms/step - loss: 7.9640e-04\n",
            "Epoch 55/100\n",
            "58/58 [==============================] - 2s 31ms/step - loss: 8.9748e-04\n",
            "Epoch 56/100\n",
            "58/58 [==============================] - 2s 30ms/step - loss: 7.8250e-04\n",
            "Epoch 57/100\n",
            "58/58 [==============================] - 2s 30ms/step - loss: 5.8630e-04\n",
            "Epoch 58/100\n",
            "58/58 [==============================] - 2s 31ms/step - loss: 8.8578e-04\n",
            "Epoch 59/100\n",
            "58/58 [==============================] - 2s 31ms/step - loss: 6.0876e-04\n",
            "Epoch 60/100\n",
            "58/58 [==============================] - 2s 30ms/step - loss: 0.0015\n",
            "Epoch 61/100\n",
            "58/58 [==============================] - 2s 31ms/step - loss: 0.0013\n",
            "Epoch 62/100\n",
            "58/58 [==============================] - 2s 30ms/step - loss: 6.5237e-04\n",
            "Epoch 63/100\n",
            "58/58 [==============================] - 2s 30ms/step - loss: 8.7784e-04\n",
            "Epoch 64/100\n",
            "58/58 [==============================] - 2s 30ms/step - loss: 5.9669e-04\n",
            "Epoch 65/100\n",
            "58/58 [==============================] - 2s 30ms/step - loss: 7.7355e-04\n",
            "Epoch 66/100\n",
            "58/58 [==============================] - 2s 30ms/step - loss: 5.2942e-04\n",
            "Epoch 67/100\n",
            "58/58 [==============================] - 2s 30ms/step - loss: 8.6264e-04\n",
            "Epoch 68/100\n",
            "58/58 [==============================] - 2s 30ms/step - loss: 6.8402e-04\n",
            "Epoch 69/100\n",
            "58/58 [==============================] - 2s 30ms/step - loss: 0.0010\n",
            "Epoch 70/100\n",
            "58/58 [==============================] - 2s 30ms/step - loss: 0.0011\n",
            "Epoch 71/100\n",
            "58/58 [==============================] - 2s 30ms/step - loss: 7.5895e-04\n",
            "Epoch 72/100\n",
            "58/58 [==============================] - 2s 30ms/step - loss: 8.1052e-04\n",
            "Epoch 73/100\n",
            "58/58 [==============================] - 2s 30ms/step - loss: 6.8986e-04\n",
            "Epoch 74/100\n",
            "58/58 [==============================] - 2s 30ms/step - loss: 6.8521e-04\n",
            "Epoch 75/100\n",
            "58/58 [==============================] - 2s 30ms/step - loss: 6.1886e-04\n",
            "Epoch 76/100\n",
            "58/58 [==============================] - 2s 30ms/step - loss: 0.0011\n",
            "Epoch 77/100\n",
            "58/58 [==============================] - 2s 29ms/step - loss: 7.8092e-04\n",
            "Epoch 78/100\n",
            "58/58 [==============================] - 2s 30ms/step - loss: 7.7014e-04\n",
            "Epoch 79/100\n",
            "58/58 [==============================] - 2s 30ms/step - loss: 5.8370e-04\n",
            "Epoch 80/100\n",
            "58/58 [==============================] - 2s 30ms/step - loss: 6.7985e-04\n",
            "Epoch 81/100\n",
            "58/58 [==============================] - 2s 30ms/step - loss: 7.6485e-04\n",
            "Epoch 82/100\n",
            "58/58 [==============================] - 2s 31ms/step - loss: 6.4065e-04\n",
            "Epoch 83/100\n",
            "58/58 [==============================] - 2s 30ms/step - loss: 8.5403e-04\n",
            "Epoch 84/100\n",
            "58/58 [==============================] - 2s 30ms/step - loss: 0.0010\n",
            "Epoch 85/100\n",
            "58/58 [==============================] - 2s 30ms/step - loss: 9.0152e-04\n",
            "Epoch 86/100\n",
            "58/58 [==============================] - 2s 30ms/step - loss: 0.0010\n",
            "Epoch 87/100\n",
            "58/58 [==============================] - 2s 31ms/step - loss: 7.8109e-04\n",
            "Epoch 88/100\n",
            "58/58 [==============================] - 2s 30ms/step - loss: 7.8695e-04\n",
            "Epoch 89/100\n",
            "58/58 [==============================] - 2s 30ms/step - loss: 6.8819e-04\n",
            "Epoch 90/100\n",
            "58/58 [==============================] - 2s 30ms/step - loss: 0.0011\n",
            "Epoch 91/100\n",
            "58/58 [==============================] - 2s 30ms/step - loss: 6.8594e-04\n",
            "Epoch 92/100\n",
            "58/58 [==============================] - 2s 30ms/step - loss: 6.3551e-04\n",
            "Epoch 93/100\n",
            "58/58 [==============================] - 2s 31ms/step - loss: 5.9685e-04\n",
            "Epoch 94/100\n",
            "58/58 [==============================] - 2s 30ms/step - loss: 7.3813e-04\n",
            "Epoch 95/100\n",
            "58/58 [==============================] - 2s 30ms/step - loss: 8.5108e-04\n",
            "Epoch 96/100\n",
            "58/58 [==============================] - 2s 31ms/step - loss: 5.2700e-04\n",
            "Epoch 97/100\n",
            "58/58 [==============================] - 2s 30ms/step - loss: 7.1506e-04\n",
            "Epoch 98/100\n",
            "58/58 [==============================] - 2s 30ms/step - loss: 7.4847e-04\n",
            "Epoch 99/100\n",
            "58/58 [==============================] - 2s 30ms/step - loss: 6.0243e-04\n",
            "Epoch 100/100\n",
            "58/58 [==============================] - 2s 30ms/step - loss: 9.1097e-04\n"
          ],
          "name": "stdout"
        }
      ]
    },
    {
      "cell_type": "code",
      "metadata": {
        "colab": {
          "base_uri": "https://localhost:8080/"
        },
        "id": "6PmxrjCkrn6v",
        "outputId": "15d3d8f4-32ee-4159-ee7a-b96076bbdf3f"
      },
      "source": [
        "rms=np.sqrt(np.mean(np.power((valid-closing_price),2)))\n",
        "rms"
      ],
      "execution_count": 13,
      "outputs": [
        {
          "output_type": "execute_result",
          "data": {
            "text/plain": [
              "36.12951775254251"
            ]
          },
          "metadata": {
            "tags": []
          },
          "execution_count": 13
        }
      ]
    },
    {
      "cell_type": "code",
      "metadata": {
        "colab": {
          "base_uri": "https://localhost:8080/",
          "height": 618
        },
        "id": "GnC5cf01rcs7",
        "outputId": "703bb61f-ad30-44ea-f813-9b6fac2e0e1a"
      },
      "source": [
        "#for plotting\n",
        "plt.figure(figsize=(16,8))\n",
        "train = new_data[:train_size]\n",
        "valid = new_data[train_size:]\n",
        "valid['Predictions'] = closing_price\n",
        "plt.plot(train['Close'],'g')\n",
        "plt.plot(valid[['Close','Predictions']]\n",
        ")\n",
        "plt.title('Reliance Prediction')\n",
        "plt.legend(['Close','Valid_Close Price','Predict Price'])"
      ],
      "execution_count": 15,
      "outputs": [
        {
          "output_type": "stream",
          "text": [
            "/usr/local/lib/python3.7/dist-packages/ipykernel_launcher.py:5: SettingWithCopyWarning: \n",
            "A value is trying to be set on a copy of a slice from a DataFrame.\n",
            "Try using .loc[row_indexer,col_indexer] = value instead\n",
            "\n",
            "See the caveats in the documentation: https://pandas.pydata.org/pandas-docs/stable/user_guide/indexing.html#returning-a-view-versus-a-copy\n",
            "  \"\"\"\n"
          ],
          "name": "stderr"
        },
        {
          "output_type": "execute_result",
          "data": {
            "text/plain": [
              "<matplotlib.legend.Legend at 0x7f2795221650>"
            ]
          },
          "metadata": {
            "tags": []
          },
          "execution_count": 15
        },
        {
          "output_type": "display_data",
          "data": {
            "image/png": "[encoded data removed]",
            "text/plain": [
              "<Figure size 1152x576 with 1 Axes>"
            ]
          },
          "metadata": {
            "tags": [],
            "needs_background": "light"
          }
        }
      ]
    },
    {
      "cell_type": "code",
      "metadata": {
        "colab": {
          "base_uri": "https://localhost:8080/"
        },
        "id": "9yrZIPEH5xN8",
        "outputId": "c0ac27ac-3f89-42a8-9d1c-8fa6545d6681"
      },
      "source": [
        "valid['Predictions'].tail(10)"
      ],
      "execution_count": 18,
      "outputs": [
        {
          "output_type": "execute_result",
          "data": {
            "text/plain": [
              "Date\n",
              "2021-06-07    2186.503\n",
              "2021-06-08    2192.291\n",
              "2021-06-09    2191.394\n",
              "2021-06-10    2191.870\n",
              "2021-06-11    2192.062\n",
              "2021-06-14    2192.313\n",
              "2021-06-15    2192.490\n",
              "2021-06-16    2192.591\n",
              "2021-06-17    2192.607\n",
              "2021-06-18    2192.548\n",
              "Name: Predictions, dtype: float32"
            ]
          },
          "metadata": {
            "tags": []
          },
          "execution_count": 18
        }
      ]
    },
    {
      "cell_type": "code",
      "metadata": {
        "id": "-JGa4A0Jr1c4"
      },
      "source": [
        "\n",
        "\n",
        "#dataset = new_data.values\n",
        "#size=size.astype(int)\n",
        "train = dataset[0:size,:]\n",
        "valid = dataset[size:,:]\n",
        "\n",
        "#converting dataset into x_train and y_train\n",
        "scaler = MinMaxScaler(feature_range=(0, 1))\n",
        "scaled_data = scaler.fit_transform(dataset)\n",
        "\n",
        "x_train, y_train = [], []\n",
        "for i in range(60,len(train)):\n",
        "    x_train.append(scaled_data[i-60:i,0])\n",
        "    y_train.append(scaled_data[i,0])\n",
        "x_train, y_train = np.array(x_train), np.array(y_train)\n",
        "\n",
        "x_train = np.reshape(x_train, (x_train.shape[0],x_train.shape[1],1))\n",
        "\n",
        "# create and fit the LSTM network\n",
        "model = Sequential()\n",
        "model.add(LSTM(units=50, return_sequences=True, input_shape=(x_train.shape[1],1)))\n",
        "model.add(LSTM(units=50))\n",
        "model.add(Dense(1))\n",
        "\n",
        "model.compile(loss='mean_squared_error', optimizer='adam')\n",
        "model.fit(x_train, y_train, epochs=100, batch_size=6, verbose=1)\n",
        "\n",
        "#predicting 246 values, using past 60 from the train data\n",
        "inputs = new_data[len(new_data) - len(valid) - 60:].values\n",
        "inputs = inputs.reshape(-1,1)\n",
        "inputs  = scaler.transform(inputs)\n",
        "\n",
        "X_test = []\n",
        "for i in range(60,inputs.shape[0]):\n",
        "    X_test.append(inputs[i-60:i,0])\n",
        "X_test = np.array(X_test)\n",
        "\n",
        "X_test = np.reshape(X_test, (X_test.shape[0],X_test.shape[1],1))\n",
        "closing_price = model.predict(X_test)\n",
        "closing_price = scaler.inverse_transform(closing_price)"
      ],
      "execution_count": null,
      "outputs": []
    }
  ]
}