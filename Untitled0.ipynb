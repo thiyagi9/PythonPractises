{
  "nbformat": 4,
  "nbformat_minor": 0,
  "metadata": {
    "colab": {
      "name": "Untitled0.ipynb",
      "provenance": [],
      "authorship_tag": "ABX9TyOtaj3V9C83bJ2I3M/hQpfC",
      "include_colab_link": true
    },
    "kernelspec": {
      "name": "python3",
      "display_name": "Python 3"
    },
    "language_info": {
      "name": "python"
    }
  },
  "cells": [
    {
      "cell_type": "markdown",
      "metadata": {
        "id": "view-in-github",
        "colab_type": "text"
      },
      "source": [
        "<a href=\"https://colab.research.google.com/github/thiyagi9/PythonPractises/blob/main/Untitled0.ipynb\" target=\"_parent\"><img src=\"https://colab.research.google.com/assets/colab-badge.svg\" alt=\"Open In Colab\"/></a>"
      ]
    },
    {
      "cell_type": "code",
      "metadata": {
        "colab": {
          "base_uri": "https://localhost:8080/",
          "height": 197
        },
        "id": "1cmJR7iaowRC",
        "outputId": "a9ca2e68-e65f-486c-f015-e44180d02560"
      },
      "source": [
        "import re\n",
        "\n",
        "#pattern= \"\\b['[A-Z]+']\\b\"\n",
        "\n",
        "pattern=\"(\\b(?:[A-Z]+[a-z]?[A-Z]*|[A-Z]*[a-z]?[A-Z]+)\\b(?:\\s+(?:[A-Z]+[a-z]?[A-Z]*|[A-Z]*[a-z]?[A-Z]+)\\b)*)\"\n",
        "#import re\n",
        "#text = \"tHE following words aRe aLL CaPS. ThE following word Is in CAPS.\"\n",
        "#matches = re.findall(r\"(\\b(?:[A-Z]+[a-z]?[A-Z]*|[A-Z]*[a-z]?[A-Z]+)\\b(?:\\s+(?:[A-Z]+[a-z]?[A-Z]*|[A-Z]*[a-z]?[A-Z]+)\\b)*)\",text)\n",
        "#print matches\n",
        "\n",
        "#\\b[A-Z]+[0-9]+\\b\n",
        "\n",
        "sentence='An EXAMPLE to select all-uppercase word'\n",
        "def uppercaseselections(pattern, sentence):\n",
        "\n",
        "    for p in pattern:\n",
        "        match= re.findall(p, sentence)\n",
        "        print(match)\n",
        "\n",
        "\n",
        "\n",
        "findmatches(patterns, sentence)"
      ],
      "execution_count": 2,
      "outputs": [
        {
          "output_type": "error",
          "ename": "NameError",
          "evalue": "ignored",
          "traceback": [
            "\u001b[0;31m---------------------------------------------------------------------------\u001b[0m",
            "\u001b[0;31mNameError\u001b[0m                                 Traceback (most recent call last)",
            "\u001b[0;32m<ipython-input-2-31598e8e5be2>\u001b[0m in \u001b[0;36m<module>\u001b[0;34m()\u001b[0m\n\u001b[1;32m     20\u001b[0m \u001b[0;34m\u001b[0m\u001b[0m\n\u001b[1;32m     21\u001b[0m \u001b[0;34m\u001b[0m\u001b[0m\n\u001b[0;32m---> 22\u001b[0;31m \u001b[0mfindmatches\u001b[0m\u001b[0;34m(\u001b[0m\u001b[0mpatterns\u001b[0m\u001b[0;34m,\u001b[0m \u001b[0msentence\u001b[0m\u001b[0;34m)\u001b[0m\u001b[0;34m\u001b[0m\u001b[0;34m\u001b[0m\u001b[0m\n\u001b[0m",
            "\u001b[0;31mNameError\u001b[0m: name 'findmatches' is not defined"
          ]
        }
      ]
    },
    {
      "cell_type": "code",
      "metadata": {
        "colab": {
          "base_uri": "https://localhost:8080/"
        },
        "id": "-xjBFxL7tsjS",
        "outputId": "235ce9b3-f9c7-4a2f-b253-37014076b2a7"
      },
      "source": [
        "import re\n",
        "x=[]\n",
        "string = \"An EXAMPLE to select all-uppercase word, THANKS for considering my application\"\n",
        "result = filter(None,[x.strip() for x in re.findall(r\"\\b[A-Z\\s]+\\b\", string)])\n",
        "\n",
        "for words in result:\n",
        "  x.append(words)\n",
        "\n",
        "print(x)"
      ],
      "execution_count": 5,
      "outputs": [
        {
          "output_type": "stream",
          "text": [
            "['EXAMPLE', 'THANKS']\n"
          ],
          "name": "stdout"
        }
      ]
    },
    {
      "cell_type": "code",
      "metadata": {
        "colab": {
          "base_uri": "https://localhost:8080/"
        },
        "id": "QMt9rPxIo2AE",
        "outputId": "2a7e504f-73ed-464b-de95-9fe8310638a4"
      },
      "source": [
        "for x in re.findall(r\"\\b[A-Z\\s]+\\b\",string):\n",
        "  print(filter(None,x.strip()))"
      ],
      "execution_count": 32,
      "outputs": [
        {
          "output_type": "stream",
          "text": [
            "<filter object at 0x7f47d2aaf590>\n",
            "<filter object at 0x7f47d2acdd90>\n",
            "<filter object at 0x7f47d2acd550>\n",
            "<filter object at 0x7f47d2aaf4d0>\n",
            "<filter object at 0x7f47d2acd550>\n",
            "<filter object at 0x7f47d2acdd90>\n",
            "<filter object at 0x7f47d2acd550>\n",
            "<filter object at 0x7f47d2acdd90>\n",
            "<filter object at 0x7f47d6b0a1d0>\n"
          ],
          "name": "stdout"
        }
      ]
    },
    {
      "cell_type": "code",
      "metadata": {
        "id": "z0iW7dk9vx6e"
      },
      "source": [
        ""
      ],
      "execution_count": null,
      "outputs": []
    }
  ]
}