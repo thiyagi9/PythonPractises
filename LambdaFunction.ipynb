{
  "nbformat": 4,
  "nbformat_minor": 0,
  "metadata": {
    "kernelspec": {
      "display_name": "Python 3",
      "language": "python",
      "name": "python3"
    },
    "language_info": {
      "codemirror_mode": {
        "name": "ipython",
        "version": 3
      },
      "file_extension": ".py",
      "mimetype": "text/x-python",
      "name": "python",
      "nbconvert_exporter": "python",
      "pygments_lexer": "ipython3",
      "version": "3.8.5"
    },
    "colab": {
      "name": "LambdaFunction.ipynb",
      "provenance": [],
      "include_colab_link": true
    }
  },
  "cells": [
    {
      "cell_type": "markdown",
      "metadata": {
        "id": "view-in-github",
        "colab_type": "text"
      },
      "source": [
        "<a href=\"https://colab.research.google.com/github/thiyagi9/PythonPractises/blob/main/LambdaFunction.ipynb\" target=\"_parent\"><img src=\"https://colab.research.google.com/assets/colab-badge.svg\" alt=\"Open In Colab\"/></a>"
      ]
    },
    {
      "cell_type": "code",
      "metadata": {
        "id": "LjiNvRpE3Ug9",
        "outputId": "62336b35-5e31-4071-bcab-1bbb3753cf56"
      },
      "source": [
        "def multiply2(x):\n",
        "  return x * 2\n",
        "    \n",
        "list(map(multiply2,[2,3])) # Output [2, 4, 6, 8]\n",
        "\n"
      ],
      "execution_count": null,
      "outputs": [
        {
          "output_type": "execute_result",
          "data": {
            "text/plain": [
              "[4, 6]"
            ]
          },
          "metadata": {
            "tags": []
          },
          "execution_count": 32
        }
      ]
    },
    {
      "cell_type": "code",
      "metadata": {
        "id": "aMuxgVzT3UhF"
      },
      "source": [
        "def multiply2(x):\n",
        "  return x * 2\n",
        "    \n",
        "list(map(multiply2,[2,3])) # Output [2, 4, 6, 8]\n",
        "\n"
      ],
      "execution_count": null,
      "outputs": []
    },
    {
      "cell_type": "code",
      "metadata": {
        "id": "faFob3G-3UhG",
        "outputId": "1f91145a-062d-4205-81cd-449bac1e1529"
      },
      "source": [
        "list(map(lambda x : x*2, [1, 2, 3, 4])) #Output [2, 4, 6, 8]\n"
      ],
      "execution_count": null,
      "outputs": [
        {
          "output_type": "execute_result",
          "data": {
            "text/plain": [
              "[2, 4, 6, 8]"
            ]
          },
          "metadata": {
            "tags": []
          },
          "execution_count": 33
        }
      ]
    },
    {
      "cell_type": "code",
      "metadata": {
        "id": "O245OqDc3UhH",
        "outputId": "0229faa9-d4dc-4816-d454-f49ea086dfe0"
      },
      "source": [
        "list(map(lambda x : x*2, [1, 2, 3, 4] )) #Output [2, 4, 6, 8])\n"
      ],
      "execution_count": null,
      "outputs": [
        {
          "output_type": "execute_result",
          "data": {
            "text/plain": [
              "[2, 4, 6, 8]"
            ]
          },
          "metadata": {
            "tags": []
          },
          "execution_count": 34
        }
      ]
    },
    {
      "cell_type": "code",
      "metadata": {
        "id": "zw18KSmK3UhI",
        "outputId": "105e7b9e-f839-408c-e5cc-eea4f13c7c53"
      },
      "source": [
        "f=lambda x,y:x+y\n",
        "f(1,1)\n",
        "\n"
      ],
      "execution_count": null,
      "outputs": [
        {
          "output_type": "execute_result",
          "data": {
            "text/plain": [
              "2"
            ]
          },
          "metadata": {
            "tags": []
          },
          "execution_count": 18
        }
      ]
    },
    {
      "cell_type": "code",
      "metadata": {
        "id": "zqt0YVN13UhJ",
        "outputId": "f707a99e-9d79-4089-a954-2b7792d2f6b7"
      },
      "source": [
        "def fahrenheit(T):\n",
        "    return ((float(9)/5)*T + 32)\n",
        "def celsius(T):\n",
        "    return (float(5)/9)*(T-32)\n",
        "temp = (36.5, 37, 37.5,39)\n",
        "\n",
        "F = map(fahrenheit, temp)\n",
        "C = map(celsius, F)\n",
        "\n",
        "Celsius = [39.2, 36.5, 37.3, 37.8]\n",
        "Fahrenheit = map(lambda x: (float(9)/5)*x + 32, Celsius)\n",
        "print(Fahrenheit)"
      ],
      "execution_count": null,
      "outputs": [
        {
          "output_type": "stream",
          "text": [
            "<map object at 0x000002178EEA0D30>\n"
          ],
          "name": "stdout"
        }
      ]
    },
    {
      "cell_type": "code",
      "metadata": {
        "id": "3nNUJfQW3UhK",
        "outputId": "bab66182-7c69-485c-d2f8-2f96fb84b7b7"
      },
      "source": [
        "\n",
        "list(filter(lambda x: x%2==0,[2,5,4,3,6,77,54]))"
      ],
      "execution_count": null,
      "outputs": [
        {
          "output_type": "execute_result",
          "data": {
            "text/plain": [
              "[2, 4, 6, 54]"
            ]
          },
          "metadata": {
            "tags": []
          },
          "execution_count": 38
        }
      ]
    },
    {
      "cell_type": "code",
      "metadata": {
        "id": "f0oNxI3N3UhL",
        "outputId": "2b78725e-6aa7-418f-d469-7f9cccc802a6"
      },
      "source": [
        "import functools as ft\n",
        "L=[1,2,3,4]\n",
        "ft.reduce(lambda x,v:x*v,L,1)"
      ],
      "execution_count": null,
      "outputs": [
        {
          "output_type": "execute_result",
          "data": {
            "text/plain": [
              "24"
            ]
          },
          "metadata": {
            "tags": []
          },
          "execution_count": 48
        }
      ]
    }
  ]
}