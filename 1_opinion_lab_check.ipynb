{
  "nbformat": 4,
  "nbformat_minor": 0,
  "metadata": {
    "colab": {
      "name": "1_opinion_lab_check.ipynb",
      "provenance": [],
      "collapsed_sections": [
        "ZwNfCgBU9IOR",
        "Qr17VRMp9IOw"
      ],
      "toc_visible": true,
      "include_colab_link": true
    },
    "kernelspec": {
      "display_name": "Python 3",
      "language": "python",
      "name": "python3"
    },
    "language_info": {
      "codemirror_mode": {
        "name": "ipython",
        "version": 3
      },
      "file_extension": ".py",
      "mimetype": "text/x-python",
      "name": "python",
      "nbconvert_exporter": "python",
      "pygments_lexer": "ipython3",
      "version": "3.7.10"
    }
  },
  "cells": [
    {
      "cell_type": "markdown",
      "metadata": {
        "id": "view-in-github",
        "colab_type": "text"
      },
      "source": [
        "<a href=\"https://colab.research.google.com/github/thiyagi9/PythonPractises/blob/main/1_opinion_lab_check.ipynb\" target=\"_parent\"><img src=\"https://colab.research.google.com/assets/colab-badge.svg\" alt=\"Open In Colab\"/></a>"
      ]
    },
    {
      "cell_type": "markdown",
      "metadata": {
        "id": "9Ff1tWjz9IMU"
      },
      "source": [
        "# Opinion Mining & Sentiment Analysis: Lab Activities\n",
        "\n",
        "**Text Mining unit**\n",
        "\n",
        "_Prof. Gianluca Moro, Dott. Ing. Nicola Piscaglia – DISI, University of Bologna_\n",
        "\n",
        "**Bologna Business School** - Alma Mater Studiorum Università di Bologna"
      ]
    },
    {
      "cell_type": "markdown",
      "metadata": {
        "id": "UNVEJNfK9IMV"
      },
      "source": [
        "## Setup\n",
        "\n",
        "Import external libraries (thus verifying they are correctly installed)"
      ]
    },
    {
      "cell_type": "code",
      "metadata": {
        "id": "mahnniQH9IMV"
      },
      "source": [
        "import pandas as pd\n",
        "import matplotlib.pyplot as plt\n",
        "import sklearn\n",
        "import nltk"
      ],
      "execution_count": 1,
      "outputs": []
    },
    {
      "cell_type": "markdown",
      "metadata": {
        "id": "LqGAJAwE9IMY"
      },
      "source": [
        "If using IPython/Jupyter, run the following to render plots inline"
      ]
    },
    {
      "cell_type": "code",
      "metadata": {
        "id": "4F4jCZtw9IMY"
      },
      "source": [
        "%matplotlib inline"
      ],
      "execution_count": 2,
      "outputs": []
    },
    {
      "cell_type": "markdown",
      "metadata": {
        "id": "7XQSMiSN9IMa"
      },
      "source": [
        "Set some options in pandas for printing DataFrames"
      ]
    },
    {
      "cell_type": "code",
      "metadata": {
        "id": "p72mmuD39IMb"
      },
      "source": [
        "pd.options.display.max_colwidth = 100\n",
        "pd.options.display.precision = 3"
      ],
      "execution_count": 3,
      "outputs": []
    },
    {
      "cell_type": "markdown",
      "metadata": {
        "id": "naIH999P9IMd"
      },
      "source": [
        "Define a utility function to download data files if they are not already present in working directory"
      ]
    },
    {
      "cell_type": "code",
      "metadata": {
        "id": "N8v0EsMy9IMd"
      },
      "source": [
        "import os\n",
        "from urllib.request import urlretrieve\n",
        "def download(file, url):\n",
        "    if not os.path.exists(file):\n",
        "        urlretrieve(url, file)"
      ],
      "execution_count": 5,
      "outputs": []
    },
    {
      "cell_type": "markdown",
      "metadata": {
        "id": "ELPuiZa99IMf"
      },
      "source": [
        "## Activity 1: Twitter Opinion Mining\n",
        "\n",
        "**Goal:** evaluate from Twitter how much customers are satisfied of airline companies\n",
        "\n",
        "1. Collect tweets citing airline companies\n",
        "2. Define lists of opinion keywords\n",
        "3. Evaluate sentiment of each tweet\n",
        "4. Summarize sentiment for each airline company\n",
        "5. Extract customer satisfaction for companies from the ACSI website\n",
        "6. Compare scores estimated from Twitter with those extracted from ACSI"
      ]
    },
    {
      "cell_type": "markdown",
      "metadata": {
        "id": "wAkDuqRx9IMf"
      },
      "source": [
        "This is a list of the Twitter accounts of airline companies taken into consideration"
      ]
    },
    {
      "cell_type": "code",
      "metadata": {
        "id": "EZwtwx3F9IMg"
      },
      "source": [
        "airlines = [\n",
        "    \"delta\",\n",
        "    \"americanair\",\n",
        "    \"jetblue\",\n",
        "    \"southwestair\",\n",
        "    \"united\"\n",
        "]"
      ],
      "execution_count": 4,
      "outputs": []
    },
    {
      "cell_type": "markdown",
      "metadata": {
        "id": "VeYYAQJN9IMj"
      },
      "source": [
        "### Collect tweets citing airline companies\n",
        "\n",
        "Recent tweets matching a given query can be searched using the Twitter Search API; many libraries exist for Python and other languages providing easy access to the API\n",
        "\n",
        "We see here how to obtain tweets using the `TwitterSearch` package, installable with `pip install TwitterSearch`; a Twitter account with an associated mobile number is needed in order to use the API\n",
        "\n",
        "If you can't or don't want to use your Twitter account and/or install the package, you can use a set of pre-collected tweets we provide"
      ]
    },
    {
      "cell_type": "code",
      "metadata": {
        "colab": {
          "base_uri": "https://localhost:8080/"
        },
        "id": "-OoGLa6FsR9P",
        "outputId": "91691792-e4e9-4092-eb96-277b5023a1f4"
      },
      "source": [
        "!pip install TwitterSearch==1.0.2"
      ],
      "execution_count": null,
      "outputs": [
        {
          "output_type": "stream",
          "text": [
            "Collecting TwitterSearch==1.0.2\n",
            "  Downloading https://files.pythonhosted.org/packages/52/77/3731f0d25c97ef1d1e5d034563f9e8ec2445946c1633b3813c22c7f363ee/TwitterSearch-1.0.2.tar.gz\n",
            "Requirement already satisfied: requests>=1.0.0 in /usr/local/lib/python3.7/dist-packages (from TwitterSearch==1.0.2) (2.23.0)\n",
            "Requirement already satisfied: requests-oauthlib>=0.3.0 in /usr/local/lib/python3.7/dist-packages (from TwitterSearch==1.0.2) (1.3.0)\n",
            "Requirement already satisfied: urllib3!=1.25.0,!=1.25.1,<1.26,>=1.21.1 in /usr/local/lib/python3.7/dist-packages (from requests>=1.0.0->TwitterSearch==1.0.2) (1.24.3)\n",
            "Requirement already satisfied: certifi>=2017.4.17 in /usr/local/lib/python3.7/dist-packages (from requests>=1.0.0->TwitterSearch==1.0.2) (2020.12.5)\n",
            "Requirement already satisfied: chardet<4,>=3.0.2 in /usr/local/lib/python3.7/dist-packages (from requests>=1.0.0->TwitterSearch==1.0.2) (3.0.4)\n",
            "Requirement already satisfied: idna<3,>=2.5 in /usr/local/lib/python3.7/dist-packages (from requests>=1.0.0->TwitterSearch==1.0.2) (2.10)\n",
            "Requirement already satisfied: oauthlib>=3.0.0 in /usr/local/lib/python3.7/dist-packages (from requests-oauthlib>=0.3.0->TwitterSearch==1.0.2) (3.1.0)\n",
            "Building wheels for collected packages: TwitterSearch\n",
            "  Building wheel for TwitterSearch (setup.py) ... \u001b[?25l\u001b[?25hdone\n",
            "  Created wheel for TwitterSearch: filename=TwitterSearch-1.0.2-cp37-none-any.whl size=18462 sha256=7b3157fb8a03698f2c6e33c3430950870450817e3ceb04cd2b7e72efb3fa6b53\n",
            "  Stored in directory: /root/.cache/pip/wheels/4e/98/87/016442cb92cf56a0e262e7d68ad00b3701928e247d04955fdb\n",
            "Successfully built TwitterSearch\n",
            "Installing collected packages: TwitterSearch\n",
            "Successfully installed TwitterSearch-1.0.2\n"
          ],
          "name": "stdout"
        }
      ]
    },
    {
      "cell_type": "markdown",
      "metadata": {
        "id": "HORmDG1V9IMj"
      },
      "source": [
        "#### Creating a Twitter application\n",
        "\n",
        "In order to use Twitter APIs you need API keys: follow these steps to obtain one\n",
        "\n",
        "1. Go to https://developer.twitter.com/en/apps and login with your Twitter account\n",
        "2. Click the \"Create New App\" button, fill the form with short descriptive values (you may use e.g. \"http://example.com\" as the URL) and confirm\n",
        "3. Click on the app you just created and open the \"Key and Access Tokens\" tab\n",
        "4. For better security, ensure to set the Access Level to Read-only\n",
        "5. Click on the \"Create my access token\" button below\n",
        "\n",
        "You will need strings labeled with _Consumer Key_, _Consumer Secret_, _Access Token_ and _Access Token Secret_ shown in the page to use the API"
      ]
    },
    {
      "cell_type": "markdown",
      "metadata": {
        "id": "2tCYLFbaTyZ2"
      },
      "source": [
        "#### Loading keys\n",
        "\n",
        "Load the necessary Twitter security keys from file. \n",
        "\n",
        "*Software Security note*: avoid to leave secret keys hardcoded or write them in shell commands. Prefer keeping them in protected files or using secrets management tools"
      ]
    },
    {
      "cell_type": "code",
      "metadata": {
        "id": "e4T4LzxiT1UX",
        "colab": {
          "base_uri": "https://localhost:8080/",
          "height": 214
        },
        "outputId": "08a92de8-2ca2-422e-b848-5788a49dbeaf"
      },
      "source": [
        "import json\n",
        "\n",
        "with open('twitter_keys.json') as f:\n",
        "  keys = json.load(f)"
      ],
      "execution_count": null,
      "outputs": [
        {
          "output_type": "error",
          "ename": "FileNotFoundError",
          "evalue": "ignored",
          "traceback": [
            "\u001b[0;31m---------------------------------------------------------------------------\u001b[0m",
            "\u001b[0;31mFileNotFoundError\u001b[0m                         Traceback (most recent call last)",
            "\u001b[0;32m<ipython-input-8-7c235d384e25>\u001b[0m in \u001b[0;36m<module>\u001b[0;34m()\u001b[0m\n\u001b[1;32m      1\u001b[0m \u001b[0;32mimport\u001b[0m \u001b[0mjson\u001b[0m\u001b[0;34m\u001b[0m\u001b[0;34m\u001b[0m\u001b[0m\n\u001b[1;32m      2\u001b[0m \u001b[0;34m\u001b[0m\u001b[0m\n\u001b[0;32m----> 3\u001b[0;31m \u001b[0;32mwith\u001b[0m \u001b[0mopen\u001b[0m\u001b[0;34m(\u001b[0m\u001b[0;34m'twitter_keys.json'\u001b[0m\u001b[0;34m)\u001b[0m \u001b[0;32mas\u001b[0m \u001b[0mf\u001b[0m\u001b[0;34m:\u001b[0m\u001b[0;34m\u001b[0m\u001b[0;34m\u001b[0m\u001b[0m\n\u001b[0m\u001b[1;32m      4\u001b[0m   \u001b[0mkeys\u001b[0m \u001b[0;34m=\u001b[0m \u001b[0mjson\u001b[0m\u001b[0;34m.\u001b[0m\u001b[0mload\u001b[0m\u001b[0;34m(\u001b[0m\u001b[0mf\u001b[0m\u001b[0;34m)\u001b[0m\u001b[0;34m\u001b[0m\u001b[0;34m\u001b[0m\u001b[0m\n",
            "\u001b[0;31mFileNotFoundError\u001b[0m: [Errno 2] No such file or directory: 'twitter_keys.json'"
          ]
        }
      ]
    },
    {
      "cell_type": "markdown",
      "metadata": {
        "id": "JYBhW_i09IMk"
      },
      "source": [
        "#### Authenticating\n",
        "\n",
        "Import the necessary classes and create a `TwitterSearch` object providing the API codes obtained above"
      ]
    },
    {
      "cell_type": "code",
      "metadata": {
        "id": "o5muh0UR9IMk"
      },
      "source": [
        "from TwitterSearch import TwitterSearch, TwitterSearchOrder\n",
        "\n",
        "ts = TwitterSearch(\n",
        "    consumer_key = keys[\"consumer_key\"],\n",
        "    consumer_secret = keys[\"consumer_secret\"], \n",
        "    access_token = keys[\"access_token\"], \n",
        "    access_token_secret = keys[\"access_token_secret\"] \n",
        ")"
      ],
      "execution_count": null,
      "outputs": []
    },
    {
      "cell_type": "markdown",
      "metadata": {
        "id": "wnKcbMR79IMm"
      },
      "source": [
        "#### Obtaining tweets\n",
        "\n",
        "Create a `TwitterSearchOrder` indicating the tweets to search: we start for example by searching tweets about Delta Air Lines, whose Twitter account is \"@delta\"; by default the search will return up to 100 tweets, the upper limit set by Twitter for each request"
      ]
    },
    {
      "cell_type": "code",
      "metadata": {
        "id": "bfMohlNI9IMn",
        "colab": {
          "base_uri": "https://localhost:8080/",
          "height": 231
        },
        "outputId": "e17da1be-3e77-41fc-d64c-bbdc47ac552c"
      },
      "source": [
        "tso = TwitterSearchOrder()\n",
        "tso.set_keywords([\"@delta\"])\n",
        "tso.set_language(\"en\")\n",
        "tso.set_include_entities(False)\n",
        "tso.set_count(5) # To limit the search to five tweets"
      ],
      "execution_count": null,
      "outputs": [
        {
          "output_type": "error",
          "ename": "NameError",
          "evalue": "ignored",
          "traceback": [
            "\u001b[0;31m---------------------------------------------------------------------------\u001b[0m",
            "\u001b[0;31mNameError\u001b[0m                                 Traceback (most recent call last)",
            "\u001b[0;32m<ipython-input-7-f85efd7b2f8e>\u001b[0m in \u001b[0;36m<module>\u001b[0;34m()\u001b[0m\n\u001b[0;32m----> 1\u001b[0;31m \u001b[0mtso\u001b[0m \u001b[0;34m=\u001b[0m \u001b[0mTwitterSearchOrder\u001b[0m\u001b[0;34m(\u001b[0m\u001b[0;34m)\u001b[0m\u001b[0;34m\u001b[0m\u001b[0;34m\u001b[0m\u001b[0m\n\u001b[0m\u001b[1;32m      2\u001b[0m \u001b[0mtso\u001b[0m\u001b[0;34m.\u001b[0m\u001b[0mset_keywords\u001b[0m\u001b[0;34m(\u001b[0m\u001b[0;34m[\u001b[0m\u001b[0;34m\"@delta\"\u001b[0m\u001b[0;34m]\u001b[0m\u001b[0;34m)\u001b[0m\u001b[0;34m\u001b[0m\u001b[0;34m\u001b[0m\u001b[0m\n\u001b[1;32m      3\u001b[0m \u001b[0mtso\u001b[0m\u001b[0;34m.\u001b[0m\u001b[0mset_language\u001b[0m\u001b[0;34m(\u001b[0m\u001b[0;34m\"en\"\u001b[0m\u001b[0;34m)\u001b[0m\u001b[0;34m\u001b[0m\u001b[0;34m\u001b[0m\u001b[0m\n\u001b[1;32m      4\u001b[0m \u001b[0mtso\u001b[0m\u001b[0;34m.\u001b[0m\u001b[0mset_include_entities\u001b[0m\u001b[0;34m(\u001b[0m\u001b[0;32mFalse\u001b[0m\u001b[0;34m)\u001b[0m\u001b[0;34m\u001b[0m\u001b[0;34m\u001b[0m\u001b[0m\n\u001b[1;32m      5\u001b[0m \u001b[0mtso\u001b[0m\u001b[0;34m.\u001b[0m\u001b[0mset_count\u001b[0m\u001b[0;34m(\u001b[0m\u001b[0;36m5\u001b[0m\u001b[0;34m)\u001b[0m \u001b[0;31m# To limit the search to five tweets\u001b[0m\u001b[0;34m\u001b[0m\u001b[0;34m\u001b[0m\u001b[0m\n",
            "\u001b[0;31mNameError\u001b[0m: name 'TwitterSearchOrder' is not defined"
          ]
        }
      ]
    },
    {
      "cell_type": "markdown",
      "metadata": {
        "id": "B_MWWTcN9IMo"
      },
      "source": [
        "We can now issue the request to the Twitter API\n",
        "\n",
        "**Warning:** the Twitter API has usage rate limitations, `search_tweets` and other API methods will temporarily stop working if executed many times in few minutes"
      ]
    },
    {
      "cell_type": "code",
      "metadata": {
        "colab": {
          "base_uri": "https://localhost:8080/",
          "height": 180
        },
        "id": "w2GkB71N9IMp",
        "outputId": "d126aa3a-7eb5-4e0e-a3d5-4121b9c65403"
      },
      "source": [
        "tsresp = ts.search_tweets(tso)\n",
        "tsresp # Print the search result retrieved as JSON object"
      ],
      "execution_count": null,
      "outputs": [
        {
          "output_type": "error",
          "ename": "NameError",
          "evalue": "ignored",
          "traceback": [
            "\u001b[0;31m---------------------------------------------------------------------------\u001b[0m",
            "\u001b[0;31mNameError\u001b[0m                                 Traceback (most recent call last)",
            "\u001b[0;32m<ipython-input-8-7d5a7a623c50>\u001b[0m in \u001b[0;36m<module>\u001b[0;34m()\u001b[0m\n\u001b[0;32m----> 1\u001b[0;31m \u001b[0mtsresp\u001b[0m \u001b[0;34m=\u001b[0m \u001b[0mts\u001b[0m\u001b[0;34m.\u001b[0m\u001b[0msearch_tweets\u001b[0m\u001b[0;34m(\u001b[0m\u001b[0mtso\u001b[0m\u001b[0;34m)\u001b[0m\u001b[0;34m\u001b[0m\u001b[0;34m\u001b[0m\u001b[0m\n\u001b[0m\u001b[1;32m      2\u001b[0m \u001b[0mtsresp\u001b[0m \u001b[0;31m# Print the search result retrieved as JSON object\u001b[0m\u001b[0;34m\u001b[0m\u001b[0;34m\u001b[0m\u001b[0m\n",
            "\u001b[0;31mNameError\u001b[0m: name 'ts' is not defined"
          ]
        }
      ]
    },
    {
      "cell_type": "markdown",
      "metadata": {
        "id": "sDdUPf659IMq"
      },
      "source": [
        "We obtain an object with detailed information about the request and the response by Twitter, to obtain the list of tweets:"
      ]
    },
    {
      "cell_type": "code",
      "metadata": {
        "colab": {
          "base_uri": "https://localhost:8080/",
          "height": 180
        },
        "id": "AWwj7bEy9IMr",
        "outputId": "cd35ba45-5d1d-46ff-9abc-1cdc1b3dc5cb"
      },
      "source": [
        "delta_tweets = tsresp[\"content\"][\"statuses\"]\n",
        "delta_tweets[0] # First tweet data"
      ],
      "execution_count": null,
      "outputs": [
        {
          "output_type": "error",
          "ename": "NameError",
          "evalue": "ignored",
          "traceback": [
            "\u001b[0;31m---------------------------------------------------------------------------\u001b[0m",
            "\u001b[0;31mNameError\u001b[0m                                 Traceback (most recent call last)",
            "\u001b[0;32m<ipython-input-9-18e8e4840449>\u001b[0m in \u001b[0;36m<module>\u001b[0;34m()\u001b[0m\n\u001b[0;32m----> 1\u001b[0;31m \u001b[0mdelta_tweets\u001b[0m \u001b[0;34m=\u001b[0m \u001b[0mtsresp\u001b[0m\u001b[0;34m[\u001b[0m\u001b[0;34m\"content\"\u001b[0m\u001b[0;34m]\u001b[0m\u001b[0;34m[\u001b[0m\u001b[0;34m\"statuses\"\u001b[0m\u001b[0;34m]\u001b[0m\u001b[0;34m\u001b[0m\u001b[0;34m\u001b[0m\u001b[0m\n\u001b[0m\u001b[1;32m      2\u001b[0m \u001b[0mdelta_tweets\u001b[0m\u001b[0;34m[\u001b[0m\u001b[0;36m0\u001b[0m\u001b[0;34m]\u001b[0m \u001b[0;31m# First tweet data\u001b[0m\u001b[0;34m\u001b[0m\u001b[0;34m\u001b[0m\u001b[0m\n",
            "\u001b[0;31mNameError\u001b[0m: name 'tsresp' is not defined"
          ]
        }
      ]
    },
    {
      "cell_type": "markdown",
      "metadata": {
        "id": "FjUN5pSD9IMs"
      },
      "source": [
        "For each tweet we have an object with many details: among the key ones we have its unique ID, the name of the author and its actual text"
      ]
    },
    {
      "cell_type": "code",
      "metadata": {
        "colab": {
          "base_uri": "https://localhost:8080/"
        },
        "id": "ncZvBikP9IMt",
        "outputId": "a57484bf-dd37-4314-ca05-3b6104b69ac2"
      },
      "source": [
        "delta_tweets[0][\"id\"]"
      ],
      "execution_count": null,
      "outputs": [
        {
          "output_type": "execute_result",
          "data": {
            "text/plain": [
              "1402521011090821121"
            ]
          },
          "metadata": {
            "tags": []
          },
          "execution_count": 13
        }
      ]
    },
    {
      "cell_type": "code",
      "metadata": {
        "colab": {
          "base_uri": "https://localhost:8080/",
          "height": 35
        },
        "id": "7MjVSGsJ9IMv",
        "outputId": "c0d46448-c634-4ff7-926c-ae48e2b54a3a"
      },
      "source": [
        "delta_tweets[0][\"user\"][\"name\"]"
      ],
      "execution_count": null,
      "outputs": [
        {
          "output_type": "execute_result",
          "data": {
            "application/vnd.google.colaboratory.intrinsic+json": {
              "type": "string"
            },
            "text/plain": [
              "'Hurricane of Lions'"
            ]
          },
          "metadata": {
            "tags": []
          },
          "execution_count": 14
        }
      ]
    },
    {
      "cell_type": "code",
      "metadata": {
        "colab": {
          "base_uri": "https://localhost:8080/",
          "height": 52
        },
        "id": "HMTV3-cQ9IMx",
        "outputId": "78e63307-ae41-4653-9a65-f17ddeb9c2a4"
      },
      "source": [
        "delta_tweets[0][\"text\"]"
      ],
      "execution_count": null,
      "outputs": [
        {
          "output_type": "execute_result",
          "data": {
            "application/vnd.google.colaboratory.intrinsic+json": {
              "type": "string"
            },
            "text/plain": [
              "'@Delta Please call me at your earliest convenience and leave a message with a call back number. There were much big… https://t.co/Tgkm4kAC5F'"
            ]
          },
          "metadata": {
            "tags": []
          },
          "execution_count": 15
        }
      ]
    },
    {
      "cell_type": "markdown",
      "metadata": {
        "id": "KTfoH9L89IMz"
      },
      "source": [
        "Define a function to repeat the operations given above on any search string and return a list of the contents of each tweet (without metadata)"
      ]
    },
    {
      "cell_type": "code",
      "metadata": {
        "id": "dIJlfOIX9IMz"
      },
      "source": [
        "def get_recent_tweets(query):\n",
        "    print(\"getting tweets for '{}' ... \".format(query), end=\"\")\n",
        "    tso = TwitterSearchOrder()\n",
        "    tso.set_keywords([query]) # the keywords of our tweets search\n",
        "    tso.set_language(\"en\") # fetch only english tweets\n",
        "    tso.set_include_entities(False) # Entities provide metadata and additional contextual information about content posted on Twitter (e.g. hashtags, urls, user_mentions, symbols). https://developer.twitter.com/en/docs/twitter-api/v1/data-dictionary/object-model/entities\n",
        "    tso.set_count(5) # the number of tweets we want to get. If ommitted it is set to 100 that is also the maximum value\n",
        "    tsresp = ts.search_tweets(tso)\n",
        "    texts = [status[\"text\"] for status in tsresp[\"content\"][\"statuses\"]]\n",
        "    print(\"{} retrieved\".format(len(texts)))\n",
        "    return texts"
      ],
      "execution_count": null,
      "outputs": []
    },
    {
      "cell_type": "markdown",
      "metadata": {
        "id": "xDC-Z8Md9IM1"
      },
      "source": [
        "Use then this function to create a dictionary mapping airline names to list of relevant tweets"
      ]
    },
    {
      "cell_type": "code",
      "metadata": {
        "colab": {
          "base_uri": "https://localhost:8080/",
          "height": 374
        },
        "id": "HeWeR8-h9IM1",
        "outputId": "aa0cb822-5acc-47a3-ae74-c8ea04a615a6"
      },
      "source": [
        "current_tweets = {\n",
        "    airline: get_recent_tweets(\"@\" + airline)\n",
        "    for airline in airlines\n",
        "}"
      ],
      "execution_count": null,
      "outputs": [
        {
          "output_type": "stream",
          "text": [
            "getting tweets for '@delta' ... "
          ],
          "name": "stdout"
        },
        {
          "output_type": "error",
          "ename": "NameError",
          "evalue": "ignored",
          "traceback": [
            "\u001b[0;31m---------------------------------------------------------------------------\u001b[0m",
            "\u001b[0;31mNameError\u001b[0m                                 Traceback (most recent call last)",
            "\u001b[0;32m<ipython-input-11-48093e82e59a>\u001b[0m in \u001b[0;36m<module>\u001b[0;34m()\u001b[0m\n\u001b[1;32m      1\u001b[0m current_tweets = {\n\u001b[1;32m      2\u001b[0m     \u001b[0mairline\u001b[0m\u001b[0;34m:\u001b[0m \u001b[0mget_recent_tweets\u001b[0m\u001b[0;34m(\u001b[0m\u001b[0;34m\"@\"\u001b[0m \u001b[0;34m+\u001b[0m \u001b[0mairline\u001b[0m\u001b[0;34m)\u001b[0m\u001b[0;34m\u001b[0m\u001b[0;34m\u001b[0m\u001b[0m\n\u001b[0;32m----> 3\u001b[0;31m     \u001b[0;32mfor\u001b[0m \u001b[0mairline\u001b[0m \u001b[0;32min\u001b[0m \u001b[0mairlines\u001b[0m\u001b[0;34m\u001b[0m\u001b[0;34m\u001b[0m\u001b[0m\n\u001b[0m\u001b[1;32m      4\u001b[0m }\n",
            "\u001b[0;32m<ipython-input-11-48093e82e59a>\u001b[0m in \u001b[0;36m<dictcomp>\u001b[0;34m(.0)\u001b[0m\n\u001b[1;32m      1\u001b[0m current_tweets = {\n\u001b[1;32m      2\u001b[0m     \u001b[0mairline\u001b[0m\u001b[0;34m:\u001b[0m \u001b[0mget_recent_tweets\u001b[0m\u001b[0;34m(\u001b[0m\u001b[0;34m\"@\"\u001b[0m \u001b[0;34m+\u001b[0m \u001b[0mairline\u001b[0m\u001b[0;34m)\u001b[0m\u001b[0;34m\u001b[0m\u001b[0;34m\u001b[0m\u001b[0m\n\u001b[0;32m----> 3\u001b[0;31m     \u001b[0;32mfor\u001b[0m \u001b[0mairline\u001b[0m \u001b[0;32min\u001b[0m \u001b[0mairlines\u001b[0m\u001b[0;34m\u001b[0m\u001b[0;34m\u001b[0m\u001b[0m\n\u001b[0m\u001b[1;32m      4\u001b[0m }\n",
            "\u001b[0;32m<ipython-input-10-d4fabc697260>\u001b[0m in \u001b[0;36mget_recent_tweets\u001b[0;34m(query)\u001b[0m\n\u001b[1;32m      1\u001b[0m \u001b[0;32mdef\u001b[0m \u001b[0mget_recent_tweets\u001b[0m\u001b[0;34m(\u001b[0m\u001b[0mquery\u001b[0m\u001b[0;34m)\u001b[0m\u001b[0;34m:\u001b[0m\u001b[0;34m\u001b[0m\u001b[0;34m\u001b[0m\u001b[0m\n\u001b[1;32m      2\u001b[0m     \u001b[0mprint\u001b[0m\u001b[0;34m(\u001b[0m\u001b[0;34m\"getting tweets for '{}' ... \"\u001b[0m\u001b[0;34m.\u001b[0m\u001b[0mformat\u001b[0m\u001b[0;34m(\u001b[0m\u001b[0mquery\u001b[0m\u001b[0;34m)\u001b[0m\u001b[0;34m,\u001b[0m \u001b[0mend\u001b[0m\u001b[0;34m=\u001b[0m\u001b[0;34m\"\"\u001b[0m\u001b[0;34m)\u001b[0m\u001b[0;34m\u001b[0m\u001b[0;34m\u001b[0m\u001b[0m\n\u001b[0;32m----> 3\u001b[0;31m     \u001b[0mtso\u001b[0m \u001b[0;34m=\u001b[0m \u001b[0mTwitterSearchOrder\u001b[0m\u001b[0;34m(\u001b[0m\u001b[0;34m)\u001b[0m\u001b[0;34m\u001b[0m\u001b[0;34m\u001b[0m\u001b[0m\n\u001b[0m\u001b[1;32m      4\u001b[0m     \u001b[0mtso\u001b[0m\u001b[0;34m.\u001b[0m\u001b[0mset_keywords\u001b[0m\u001b[0;34m(\u001b[0m\u001b[0;34m[\u001b[0m\u001b[0mquery\u001b[0m\u001b[0;34m]\u001b[0m\u001b[0;34m)\u001b[0m \u001b[0;31m# the keywords of our tweets search\u001b[0m\u001b[0;34m\u001b[0m\u001b[0;34m\u001b[0m\u001b[0m\n\u001b[1;32m      5\u001b[0m     \u001b[0mtso\u001b[0m\u001b[0;34m.\u001b[0m\u001b[0mset_language\u001b[0m\u001b[0;34m(\u001b[0m\u001b[0;34m\"en\"\u001b[0m\u001b[0;34m)\u001b[0m \u001b[0;31m# fetch only english tweets\u001b[0m\u001b[0;34m\u001b[0m\u001b[0;34m\u001b[0m\u001b[0m\n",
            "\u001b[0;31mNameError\u001b[0m: name 'TwitterSearchOrder' is not defined"
          ]
        }
      ]
    },
    {
      "cell_type": "code",
      "metadata": {
        "colab": {
          "base_uri": "https://localhost:8080/"
        },
        "id": "6WUU2w7RlJFE",
        "outputId": "0b380ca7-fa8c-4dd4-f239-b66809b76854"
      },
      "source": [
        "current_tweets"
      ],
      "execution_count": null,
      "outputs": [
        {
          "output_type": "execute_result",
          "data": {
            "text/plain": [
              "{'americanair': ['@AmericanAir Please tell me why I was taken off an out going flight, threatened with jail and having child services… https://t.co/KD2XQX0FUX',\n",
              "  '1/2 @AmericanAir  how is it that my teenage daughter arrives PDX to find out her bag never left the origin airport… https://t.co/VVkhGqBOEw',\n",
              "  'A fine #CEO who I greatly respect after stood up for my right to vote in Texas! Charles Koch 1/10th of 1% defacto l… https://t.co/1LghvbFmvt',\n",
              "  '@seacoast86 @AmericanAir Exactly.',\n",
              "  '@AmericanAir please do better!'],\n",
              " 'delta': ['@Delta Please call me at your earliest convenience and leave a message with a call back number. There were much big… https://t.co/Tgkm4kAC5F',\n",
              "  'RT @Wolf6_Actual: Been on hold with @Delta for over 2 and a half hours... all I know is pain https://t.co/LCsSgcbtn8',\n",
              "  '@Delta \\U0001f972💀 y’all won. Goodnight. https://t.co/D3AfiLTx1J',\n",
              "  '@Delta @ndbekah Will digital attestation process be easily conducted thru the mobile app at check-in time?',\n",
              "  '.@staceyabrams IF big companies like @delta, @cocacola, @att, @homedepot, etc. stand for #votingrights &amp; want to se… https://t.co/9feXkhMuGL'],\n",
              " 'jetblue': [\"Hellooooo, when you're using your computer what icon is for @ChipotleTweets and @JetBlue team up to create a hot new brand, @tonyhsieh\",\n",
              "  \"RT @TheTailoryNYC: @IanDeason  Our bag has been held up in ATL for 3 days now, since Sunday. We've heard no word from your team after calli…\",\n",
              "  '@JetBlue Your airline lost my bags 2 days ago. There’s been no response from your end to the connecting airline des… https://t.co/pbr56AEOFJ',\n",
              "  'Does anyone know if ur allowed to bring hot pockets in ur carry on @JetBlue',\n",
              "  'RT @qatarairways: Our strategic partnerships with @AlaskaAir, @AmericanAir and @JetBlue enable us to connect to more points in the United S…'],\n",
              " 'southwestair': ['@AnthonyJMarohn @cswildfeuer @SouthwestAir There were certain requirements and that ended in December 2020.',\n",
              "  '@SouthwestAir I got an email that I canceled my flight, which was incorrect. I then had to wait on hold for over 30… https://t.co/q5hMprbFDd',\n",
              "  'Thank you @SouthwestAir for opening travel for the West Coast.  Prices are great! https://t.co/ZOVO6derQC',\n",
              "  'RT @SouthwestAir: Happy 50th Birthday to us! Between now and June 18, over 50 million Rapid Rewards® bonus points are up for grabs. Enter d…',\n",
              "  'What is your dream airplane to go on? Mine is @SouthwestAir 😍 https://t.co/igsWu4O4gW'],\n",
              " 'united': ['RT @boomaero: Destinations around the globe, accessible in half the time. Meet the future @united Overture fleet. https://t.co/zVG2aMCVKx #…',\n",
              "  '@EatingAsia @united Ouch. Take care and hope you get home soon.',\n",
              "  '@united having trouble using my flight credit for a new flight.',\n",
              "  'Ok @united . I’m feeling the love as I approach 2,000,000 in 2021. https://t.co/ttkxneuxn5',\n",
              "  '@FlyFrontier @Delta @united @SpiritAirlines Whats with all the red eye onlys from san diego to orlando ? who wants… https://t.co/zdfJlShD1a']}"
            ]
          },
          "metadata": {
            "tags": []
          },
          "execution_count": 18
        }
      ]
    },
    {
      "cell_type": "code",
      "metadata": {
        "colab": {
          "base_uri": "https://localhost:8080/",
          "height": 163
        },
        "id": "hW7g6aIYleKr",
        "outputId": "2eb2c5d2-112d-42e3-cd48-af1f839ec9c6"
      },
      "source": [
        "current_tweets[\"delta\"][:3]"
      ],
      "execution_count": null,
      "outputs": [
        {
          "output_type": "error",
          "ename": "NameError",
          "evalue": "ignored",
          "traceback": [
            "\u001b[0;31m---------------------------------------------------------------------------\u001b[0m",
            "\u001b[0;31mNameError\u001b[0m                                 Traceback (most recent call last)",
            "\u001b[0;32m<ipython-input-12-d0abc69b7ba9>\u001b[0m in \u001b[0;36m<module>\u001b[0;34m()\u001b[0m\n\u001b[0;32m----> 1\u001b[0;31m \u001b[0mcurrent_tweets\u001b[0m\u001b[0;34m[\u001b[0m\u001b[0;34m\"delta\"\u001b[0m\u001b[0;34m]\u001b[0m\u001b[0;34m[\u001b[0m\u001b[0;34m:\u001b[0m\u001b[0;36m3\u001b[0m\u001b[0;34m]\u001b[0m\u001b[0;34m\u001b[0m\u001b[0;34m\u001b[0m\u001b[0m\n\u001b[0m",
            "\u001b[0;31mNameError\u001b[0m: name 'current_tweets' is not defined"
          ]
        }
      ]
    },
    {
      "cell_type": "markdown",
      "metadata": {
        "id": "pjfbPhaw9IM4"
      },
      "source": [
        "### Using pre-collected tweets\n",
        "\n",
        "For convenience, we provide a set of precollected tweets about the airline companies as an alternative to latest tweets"
      ]
    },
    {
      "cell_type": "code",
      "metadata": {
        "id": "rJXE4I_I9IM4"
      },
      "source": [
        "download(\"tweets.zip\", \"https://github.com/unibodatascience/BBS-TextMining/raw/3ad6643b698f652f200dfbf463a3cb49de8c0e9f/05%20-%20Opinion%20Mining%20with%20Python%20(part%201)/data/tweets.zip\")"
      ],
      "execution_count": 6,
      "outputs": []
    },
    {
      "cell_type": "markdown",
      "metadata": {
        "id": "4sEkMrRK9IM6"
      },
      "source": [
        "The ZIP archive contains a `company_name.txt` file for each airline company, each with a list of tweets (one per line): we load them into a dict mapping the name of each company to the list of relevant tweets"
      ]
    },
    {
      "cell_type": "code",
      "metadata": {
        "id": "MQzbR0hz9IM7"
      },
      "source": [
        "from zipfile import ZipFile\n",
        "archive_tweets = {}\n",
        "with ZipFile(\"tweets.zip\") as zipf:\n",
        "    for airline in airlines:\n",
        "        with zipf.open(airline + \".txt\") as f:\n",
        "            archive_tweets[airline] = list(line.decode().strip() for line in f)"
      ],
      "execution_count": 7,
      "outputs": []
    },
    {
      "cell_type": "code",
      "metadata": {
        "colab": {
          "base_uri": "https://localhost:8080/"
        },
        "id": "cf7f-0qAVtCp",
        "outputId": "1ec55082-6279-4b9c-aeea-0675c83bd05a"
      },
      "source": [
        "archive_tweets.values()\n",
        "    "
      ],
      "execution_count": 8,
      "outputs": [
        {
          "output_type": "execute_result",
          "data": {
            "text/plain": [
              "dict_values([['\"@LAKings: Are you the #LAKings biggest fan? Prove it and win a trip on @Delta to see the Kings vs Rangers in NY - http://t.co/JXBc5kDXnZ\"RT', '@AneetharPweety am @delta state buh on ma way to benin city now', 'RT @iamdiddy: If you’re flying out of JFK on @Delta you NEED to check out the new @CIROC VIP lounge at @Delta terminal at JFK. http://t.co/…', 'RT @schipholpics: @Delta time!! (Bad quality) #M http://t.co/mSX5F02mpC', '@Delta @DeltaAssist In Kona for IM world champ; you sent bike to Japan. $150 charge for active mil &amp; no idea when bike gets here. V upset', 'Plane ticket? Check. Am I going home now? Doesn\\'t look like it. No seat for me, guess buying a ticket means \"maybe\" on @delta @klm #AMS', 'However, ongoing #FAA #furloughs are delaying #aircraft deliveries to @Delta, @AmericanAir, @USAirways, and @JetBlue: http://t.co/jQhuriZbL0', 'Just booked a FREE flight to Vegas thanks to @Delta with @chadstirling and @theIanhough !!', \"If I were a male-prostitute, I'd position myself like @Delta economy comfort: For $19 you can enjoy up to 4''.\", '@LAKings @Delta why cant fans outside of the USA enter? #biggestfan #devastated', '@Delta Launches \"Pink Plane\" Commemorating Breast Cancer Research Foundation\\'s 20th Anniversary http://t.co/l4ys0BAFpH', 'RT @LAKings: Are you the #LAKings biggest fan? Prove it and win a trip on @Delta to see the Kings vs Rangers in NY - http://t.co/pG8bRHnxJF', '@dmscott - @delta googled me and didnt hassle me about a last minute request for service dog accessible seats! @delta #winning', 'RT @iamdiddy: If you’re flying out of JFK on @Delta you NEED to check out the new @CIROC VIP lounge at @Delta terminal at JFK. http://t.co/…', 'Woot! YES! Just hit #silvermedallion status w/@Delta !! /cc @GinormousSky  @accarrino', '@LAKings @Delta no', \"@DeltaAssist @Delta Hi! I'm mid trip w/ you, first class booked, and I need to change my flight, fam med emergency. Can you help?  Fees? Pls\", 'Thank you @Delta and @Alaskaair for making my reservation for a traveling w/a service dog easy. You googling who I was was smart!', \"@TweetRDC you'd think they'd be full Y fares at that price  @Delta\", '@saab007 @Delta yikes! I think that exceeds both PNRs per person on this current trip. But not by much.', '@TweetRDC niiiiiice! Wish I was flying to LAX. Out of curiosity I just looked at @Delta airfare $1045 H class n/s for day trip tomorrow', '@DeltaAssist does @Delta offer group discounts? If so how many people? #Conference #StLouis #NSMH #JMU', 'RT @LAKings: Are you the #LAKings biggest fan? Prove it and win a trip on @Delta to see the Kings vs Rangers in NY - http://t.co/pG8bRHnxJF', '@Delta another oversold flight ... #elite #fullfare #vegas ...would be nice to know I have a seat...#medallion #Elite', '@dvirreznik @Delta BTW- @DeltaAssist claim 2 be online 24/7, but only tweet every 4-5 days - they must not get many complaints..#servicefail', 'RT @JySbr: @mihkell RT @airfarewatchdog: SFO-Miami $262 RT over July 4th 2014 on @Delta other #travel dates available. http://t.co/YDuOq5ro…', \"@dvirreznik so I shouldn't fly with @Delta when I take my wife and baby to NYC in a few months?\", 'RT @LAKings: Are you the #LAKings biggest fan? Prove it and win a trip on @Delta to see the Kings vs Rangers in NY - http://t.co/pG8bRHnxJF', 'HUGE thanks @delta @mspairport for taking amazing care of me yesterday. Unexpected overnight stay due to illness &amp; they took care of it ALL', 'RT @airfarewatchdog: SFO-Miami $262 RT over July 4th 2014 on @Delta other #travel dates available. http://t.co/N51XYpKNrJ', '@airfarewatchdog @Delta they never run specials out of msp', '@airfarewatchdog @Delta Yes! Thank you.', 'RT @airfarewatchdog: SFO-Miami $262 RT over July 4th 2014 on @Delta other #travel dates available. http://t.co/N51XYpKNrJ', 'RT @LAKings: Are you the #LAKings biggest fan? Prove it and win a trip on @Delta to see the Kings vs Rangers in NY - http://t.co/pG8bRHnxJF', '@DeltaAssist @Delta #AboutTime! http://t.co/ToEV1dNNHx', 'RT @LAKings: Are you the #LAKings biggest fan? Prove it and win a trip on @Delta to see the Kings vs Rangers in NY - http://t.co/pG8bRHnxJF', 'RT @Delta: Take in the majesty as the sun sets on another glorious day in aviation. #AVGeek #Delta #Aviation http://t.co/e0DkxfQpa1', \"@spg @DeltaAssist Sorry, it's points earned on @Delta that are not showing up on my SPG account.\", \"@LAKings @Delta I doubt it. I'm only five eight, maybe 200 lbs. I know I've seen bigger fans than that at games before.\", '#LAKings RT\"Are you the #LAKings biggest fan? Prove it and win a trip on @Delta to see the... http://t.co/S9r06jejkn \" #SportsRoadhouse', 'RT @LAKings: Are you the #LAKings biggest fan? Prove it and win a trip on @Delta to see the Kings vs Rangers in NY - http://t.co/pG8bRHnxJF', \"@LAKings @Delta say I prove I'm a Rangers fan instead..\", \"@LAKings @Delta No but I'd still like to win\", 'RT @LAKings: Are you the #LAKings biggest fan? Prove it and win a trip on @Delta to see the Kings vs Rangers in NY - http://t.co/pG8bRHnxJF', 'RT @LAKings: Are you the #LAKings biggest fan? Prove it and win a trip on @Delta to see the Kings vs Rangers in NY - http://t.co/pG8bRHnxJF', 'Are you the #LAKings biggest fan? Prove it and win a trip on @Delta to see the Kings vs Rangers in NY - http://t.co/pG8bRHnxJF', 'A big F you to the @Delta flight attendants for stealing my iPad. Never fly this airline. Their service has always been awful.', '@HPTFred @Delta bag***', 'RT @iamdiddy: If you’re flying out of JFK on @Delta you NEED to check out the new @CIROC VIP lounge at @Delta terminal at JFK. http://t.co/…', \"@Delta can i just say i love your header so much, it's so high quality\", '@Calum5SOS was it @Delta', \"Hey @Delta, mind helping me out with the brunette from the safety video's phone number? #ImOnlyHalfJoking\", '@Delta thank you for helping me get a \"hi holiday\" flight for under $400 Step up ur game competition @UnitedAirlines #keepclimbing #success', 'RT @Billyy_Harriss: “@BestProHumor: Ridiculous http://t.co/pPR7anD8za', \"hat's why I fly @Delta\", 'Thank you @Delta for taking good care of my bags. All of my #Wine from @seaveyvineyard @LancasterEstate and @ConnValley arrived intact!', '“@BestProHumor: Ridiculous http://t.co/pPR7anD8za', \"hat's why I fly @Delta\", 'The United-Delta Grudge Match Escalates (DAL, UAL): http://t.co/do00LBd9Z1 Fight Flight Flight!! DL Wins! @Delta', 'safe flight + trip! @tessa @Delta @airfrance', 'No wait what? RT @unitednoodles: 9 yr old who stowed away on @Delta flight also stole the truck from United Noodles Wholesale last week.', 'Glad my @delta flight is being operated by @airfrance — lovely breakfast! My favorite inflight. #travel', '@iamdiddy @Delta @Ciroc good shit but doing deleon tequila is a bad move man.  shitty tasting tequila diddy.  why you buy that garbage?', 'Doing a @Delta #mileagerun JFK &gt; LAX &gt; ANC &gt; MSP &gt; LGA this weekend, Sat/Sun in ANC. Anything a must see for a short stay in Anchorage?', \"If you're going to be delayed 7 hrs, do it on @Delta ! Their service has been great! Thanks @DeltaAssist &amp; Sky Club staying open later!\", 'can we fly these families to Dover?  Dont think they want 2 fly in a C-130  http://t.co/b8YRzvYgkV @SouthwestAir @AmericanAir @Delta @united', '@HPTFred @Delta id never leave my bad on a plane bro. Wife has a delta flight out tomorrow. I prefer southwest usually.', '@Delta DD forgot her blue ipod at Minn St Paul Airport Gate B10 flight to Toronto at 735pm. Would you have it? Lost+Found is closed...', \"RT @hurray4beer: Hey @Delta you really should give priority boarding to uniformed military. Didn't happen on DL2389 even when it was brough…\", 'That moment when you check in with @Delta and change your seat from a middle seat to an window seat on a 3+ hour flight #beautiful', '@Delta I only fly Delta and I listen to music on Spotify. Great combo :)', '.@Delta costs me over $500, COMPLETELY their fault and response is “we’re sorry.” Worst customer service ever. @DeltaAssist #BoycottDelta', 'Ok @delta you have redeemed yourself  tweets deleted thank you', '@meronek @Delta Southern CA 3 more times and your there!', '@Delta Can You Please RT? This Family Lost Their Home To A Fire During The South Dakota Blizzard - http://t.co/x0cQkxOXeH  #Tragedy', '@Delta No biscoff cookies on DL1669 from ATL to MCO tonight? Might as well fly Southwest! #cookieaddict', 'RT @Delta: Take in the majesty as the sun sets on another glorious day in aviation. #AVGeek #Delta #Aviation http://t.co/e0DkxfQpa1', 'RT @DanteoftheWest: @Delta You guys lost my bag on a flight to Texas, then when I got it back, it appears someone rummaged inside and stole…', 'RT @DanteoftheWest: @Delta So am I ever going to hear back from you people about the camera stolen from my luggage when I flew with you guy…', 'Trying to book a flight to Montana... I hate airline websites... Yeah @Delta I mean you.', \"Dear @Delta, y'all have done a great job this evening! Thanks for the awesome service! Cc @DeltaAssist\", \"Started out an AWFUL airline experience, but @Delta made it right today! @United should take note (yes, I'm still bitter). #DeltaDifference\", '@courtenay_c22 @Delta #jealous! @VirginAmerica I expect Beer on my flight tonight :) LAX to JFK! #takenotes!', 'RT @matteoarrotta: First #Boeing 717 in @Delta Airlines colours. Great bird! #avgeek http://t.co/Lt8ZR4Xohb', 'RT @BowMaoTruthTeam: @megynkelly #KellyFile until @BarackObama can get his head out of his ass soldiers deaths #shutdown @Delta @DeltaAssis…', '@megynkelly #KellyFile until @BarackObama can get his head out of his ass soldiers deaths #shutdown @Delta @DeltaAssist @AmericanAir @united', '@TheRealDDuff805 when in doubt...ALWAYS fly @Delta', \"Grounded til midnight! Come on, @Delta  , you can do better! I've been at ATL airport since 3 today!\", \"@Delta is ready when they are. Here's hoping my bag is in the flight they say it's on. Should be here soon.\", \"H-2 POKOK'E JOGET @DELTA CAFE 5\", '@Delta this has been a rough day and it appears as it is only getting worse...b/c of no flight attendant. Seriously? #stayingpositive', 'Thank you @Delta for offering @WoodfordReserve. #greatflight http://t.co/eQFh6o37AV', '@lorrainecladish @USAirways good for you girl! I have yet to hear from them. Sticking with @Delta for all future flights.', 'RT @Delta: Take in the majesty as the sun sets on another glorious day in aviation. #AVGeek #Delta #Aviation http://t.co/e0DkxfQpa1', 'Booking travel and the cheapest option for @Delta is 2.5x the cost of a flight with American for similar times…. ???', 'Moon shot from 35k feet. @delta http://t.co/VDz3PKrMT1', '@Delta and row 50 something can also accommodate two bassinets. In short: why bring a single bassinet to a JFK-TLV flight?! Seriously?? #fb', '@Delta the couple on row 35 booked their row yesterday on the phone, not at the checkin nor the gate. And 35 can have two bassinets. (2/3)', \"@Delta best friends wedding is Nov. 7-9th in mich &amp;I'm a poor New Yorker..Can u pull a favor &amp; comp me a ticket?!? Discount? #ImTotesSerious\", '@Delta @DeltaAssist I don’t understand you and NOT flying with you again! There are 5 screaming babies on board, one bassinet.. (1/3)', 'In the middle of my trip back home to Jax via @Delta from LA. A tip of the hat for a pleasant flight!', '@minutemaid_us pink lemonade &amp; @Delta what a winning combination... Delicious pink martini #BreastCancerAwareness http://t.co/sh8guruc6c', 'what sort of *idiot* airline loads people onto a known broken plane. oh, that would be @delta.', \"It's time to introduce your @SPG Rewards to your @Delta Skymiles. Read about Crossover Rewards here to benefit now: http://t.co/HanmcGMUto\", '@Delta already resend?', '@Delta knows what’s up! http://t.co/ilOMrVOXbs', 'RT @iamdiddy: If you’re flying out of JFK on @Delta you NEED to check out the new @CIROC VIP lounge at @Delta terminal at JFK. http://t.co/…', \"Flying @Delta?  DTW &gt; OKC is 'mobile boarding pass ready', MeeRobot has  processed another mobile boarding pass for that route!  #MeeTicket\", '@Delta @DeltaAssist why do u have to do a security sweep of your own aircraft? Our 5;05 departure will now be at least 2 hrs late.', \"@Delta in flight cookies!  They won't let you forget which airline you're flying! http://t.co/0AVzpd1PIt\", 'Been sitting on a hot plane on a runway with 300+ people for two hours. Would like nothing more than a glass of water. Thanks @Delta!', \"Flying @Delta?  LGA &gt; DTW is 'mobile boarding pass ready', MeeRobot has  processed another mobile boarding pass for that route!  #MeeTicket\", '@AirlinesDotOrg @Delta @BCRFcure Do it up Delta. Heighten awareness...', 'book flight via phone with @delta last wk. decide to check ticket bc what are the chances my name is misspelled? told there is a fee! #wtf', \"Unfreaken believe able!! @Delta didn't load one of my bags coming out of Atlanta. This is twice in two weeks that they have screwed me!\", 'RT @BaileyLAKings: Are you the #LAKings biggest fan? Prove it and win a trip on @Delta to see the Kings vs Rangers in NY - http://t.co/NWpa…', '@delta jobs are like winning the lottery. buying a ticket = getting an employee referral. #canihaveyournumber', 'Thanks @Delta for the free beer on the #shuttle from ORD to LGA! http://t.co/TX0Tu2i4l4', \"@delta an entire empty row and I can't sit there because it cost extra? Crazy! I tried to buy it when I checked in but it wasn't available?\", \"@Delta my flight is canceled and I'm stranded and need to get to Syracuse tonight!\", '@Delta Had a great experience with supervisor Ken in the Customer service call center today.  Creative solutions to a complex issue.', 'Boarding DL 5700, LGA to JAX, 1A.  Thanks @Delta as always for the ride in first.   Time to relax and get some work done.', \"@Delta got me home w/out luggage. It's on the next flight but they won't deliver it tonight. Long, lousy trip on Delta\", 'Patiently waiting for new aircraft on DL4464 in SLC @Delta @DeltaAssist', 'Watchin @WNBA finals on #watchespn app on iPad mini on @delta. Great full day of hoops! @AtlantaDream @minnesotalynx http://t.co/hDLUei8NEo', '@Delta @DeltaAssist Atlanta based ticket agent Fred Dawson is a great agent. He went out of his way to help me. Above and beyond! Thanks!', 'A moment of beauty @Delta Sky Club Tetminal 4 at @NY_NJairports with @iphixbrl #travel #photography http://t.co/znYEhaMcJX', '@Delta thanks for the upgrade! Sometimes flight delays help :) allowed me to go direct and arrive earlier than planned! Thanks!', '@iamdiddy @Delta @Ciroc  omg', '@Delta Terminal 4 at @NY_NJairports http://t.co/dYpSBEbsGe', \"@delta @deltaassist Seat 5A on today's DL370 inbound LAX from ATL ate my iphone.  Could you send an angel from DL LAX maint to help?\", 'RT @iamdiddy: If you’re flying out of JFK on @Delta you NEED to check out the new @CIROC VIP lounge at @Delta terminal at JFK. http://t.co/…', \"@meronek @Delta I'm sure you can find an excuse to go somewhere...\", \"@delta @deltaassist Seat 5A on today's DL370 inbound LAX from ATL ate my iphone.  Could you send an angel from DL LAX maint to help? @\", 'Landed almost 30 min early - yah @Delta. Good to be home if ku for few hrs', '@VirginAustralia why is it ur planes r great and ur partner @Delta are terrible? Im on 1 now its so old its got side burns. #14hrs #letdown', '@DeltaAssist @Delta the absolute worst flight of my life. DL 1499. Cramped.  Uncomfortable. Freezing cold. The worst!! You need better seats', \"Round two - and I'll be here for a minute since I missed my connection. (at @Delta Sky Club w/ 2 others) http://t.co/KAXhQWv3za\", \"I'm at @Delta Sky Club (Atlanta, GA) w/ 3 others http://t.co/bwmLXfIFHd\", 'Jeez @delta! Flight crew told us to leave our bags on the plane, now they’re making us go back on to get our bags. 1st day on the job?', 'RT @AirlinesDotOrg: .@Delta launches \"Breast Care One\" in honor of @bcrfcure\\'s 20th anniversary: http://t.co/cpIVosT6vV #pinkplane http://t…', '@Delta can you tell me how many miles I have my sky miles number is 2247929009 thank you', 'Great! @Delta assigned us a row that cannot accommodate bassinets.. @Delta @DeltaAssist, WTF?! http://t.co/6uSzdwAjAR', '@NoamKaiser @Delta glad to hear!', 'RT @NYDailyNews: 9-year-old boy who sneaked onto @Delta flight has rap sheet: report. http://t.co/GzhiW4nmJ8', \"@Delta's new restaurant-style waiting areas with free iPad use at selected gates at MSP - very classy. http://t.co/CCrCQd9aAF\", 'Just 8k miles to Diamond status and I got no more trips this year, damn. Hook up honorary status @delta ??? http://t.co/EeU88xCP7Q', 'I have to brag on @Delta &amp; @DeltaAssist: after a missed flight, easy re-scheduling &amp; a travel voucher as well - good business #bestmarketing', 'Ugh @Delta. Flight home is delayed because they needed to get a new plane. Then they just made us all get off the plane for a security check', \"I'm at @Delta Sky Club (Atlanta, GA) http://t.co/MbSNuvBDHO\", '@boytoyjesse @iamdiddy @Delta @Ciroc Sorry Im still #turntup from the Lebron Jameson I had after the Ciroc Obama.  My bad...boy records', 'So @Delta @DeltaAssist saved my ass today. Left my keys on flt 5256 into IAH today. They were waiting at ticketing counter upon my return.', '@iamdiddy @Delta @Ciroc CHILL OUT @SonicOnAir, imm tryna get a lil love from puffY. your gonna mess me up. he was about to RT me.', 'I meet her on a @Delta flight to NYC.', '@boytoyjesse @iamdiddy @Delta @Ciroc I had a Ciroc Obama...so good.  Nice touch on the Fresh Lemonade Mixer!!!', '@hypersem @Delta OK Scary :) though should point out delay was eventually minor and flight experience great.', 'RT @bdrayt2: Pretty sure @IntlFlyer is never going to take off his @Delta jacket. #passion not obsession', '@NoamKaiser @Delta 1 month ago, same route, I think one wheel was busted b4 takeoff; flight canceled night before (other mechanical failure)', '@Delta !!! I just buy my ticket to \"Colombia\" ✈️✌️', \"@iamdiddy @Delta @Ciroc yo man the new lounge is BANANAS! Me and my girl were bummed there wasn't a hotel attached... great mojitos!\", '9yr old flights @delta from Minneapolis to Vegas with no ticket.  http://t.co/I2yxgCaNRO', 'Thanks @delta for being a part of my first first class experience #BallSoHard #DeltaMedallion', '@Delta \\\\ Heal the body from all the Radiation Flying &amp; Flu, makes Glutathione in the body,all natural http://t.co/ovksmdEyeN', \"I'm at @Delta Sky Club (Atlanta, GA) http://t.co/qzUJEyOLb3\", '@AirlinesDotOrg @Delta @BCRFcure I love the support out there for @bcrfcure!', 'RT @AirlinesDotOrg: .@Delta launches \"Breast Care One\" in honor of @bcrfcure\\'s 20th anniversary: http://t.co/cpIVosT6vV #pinkplane http://t…', 'I love @delta so much. Thanks for the lift! ✈️ #skymiles', 'I wonder what @Delta 1st class is like? Gonna try my luck ha!!', 'Tedeschi/Trucks band on Delta flight rulez. Good move @Delta', 'Pretty sure @IntlFlyer is never going to take off his @Delta jacket. #passion not obsession', 'RT @GDClearedToLand: @Delta #MD-90 rockets out of #MSP on a clear fall day. @airlinegeeks #avgeek http://t.co/kHD6jy1IZz', 'RT @DFWHeavy: A @Delta #McDonnellDouglas MD-90-30 [N948DN] landing on 18R @dfwairport on June 23, 2013: http://t.co/q43W1oHady #avgeek', 'RT @DontenPhoto: @Delta Flight 2298 (N960DN) departs Sarasota-Bradenton International Airport enroute to @Atlanta_Airport http://t.co/Eei3e…', 'RT @DFWHeavy: A @Delta #McDonnellDouglas MD-88 [N959DL] departing on 19 from @Reagan_Airport on August 25, 2013: http://t.co/lfpd8hu8sx #av…', \"@DeltaAssist  @Delta  here's to hoping for an upgrade tomorrow from gsp to dtw!\", 'RT @AirlinesDotOrg: .@Delta launches \"Breast Care One\" in honor of @bcrfcure\\'s 20th anniversary: http://t.co/cpIVosT6vV #pinkplane http://t…', \"@AliceHoleFrost @Delta and this is EXACTLTY I'm not flying @Delta in 2 weeks! Wouldn't if you paid me!\", \"So should I not be offended that this @Delta white flight attended just asked me is my credit card mine &amp; didn't even ask to see ID?\", '.@Delta launches \"Breast Care One\" in honor of @bcrfcure\\'s 20th anniversary: http://t.co/cpIVosT6vV #pinkplane http://t.co/uce7RAL3C7', 'Very relaxing to spend our long layover in the @Delta Sky Club at JFK. Onward to Barcelona!', 'Thank you @Delta 1420 crew for reporting on @tigers score. Plane back from SanFran just erupted in cheers. #ThisPlaneBelievesDET', \"Couldn't resist the comfort of roaring plane engines and a glass of wine. (@ The Sky Deck at @Delta Sky Club) [pic]: http://t.co/F5sg8ffJQj\", 'Flight delayed, but thanks for the treats while we wait @Delta! #sfo to #msp', '“@NYDailyNews: 9-year-old boy who sneaked onto @Delta flight has rap sheet: report. http://t.co/kZqrQdO80i” smart kid', '@NYDailyNews @Delta He probably will be charged with a failed hi-jacking attempt.', 'Just wanted to do hoodrat things RT @NYDailyNews: 9-year-old boy who sneaked onto @Delta flight has rap sheet: report http://t.co/GWk6mT0r78', 'RT @Delta: Take in the majesty as the sun sets on another glorious day in aviation. #AVGeek #Delta #Aviation http://t.co/e0DkxfQpa1', 'RT @NYDailyNews: 9-year-old boy who sneaked onto @Delta flight has rap sheet: report. http://t.co/GzhiW4nmJ8', 'Thx u @Delta for getting my Mom home safely today.', '@Delta is really disappointing me. My 5:55 flight is still loading passengers at 6:20.', 'RT @NYDailyNews: 9-year-old boy who sneaked onto @Delta flight has rap sheet: report. http://t.co/GzhiW4nmJ8', 'RT @NYDailyNews: 9-year-old boy who sneaked onto @Delta flight has rap sheet: report. http://t.co/GzhiW4nmJ8', 'Young G\\' \"@NYDailyNews: 9-year-old boy who sneaked onto @Delta flight has rap sheet: report. http://t.co/fwbNu7QFRh\"', \"Hey @Delta you really should give priority boarding to uniformed military. Didn't happen on DL2389 even when it was brought up to agent.\", '@Delta Premium Sales &amp; Service totally made my day. #StressRelief', 'RT @NYDailyNews: 9-year-old boy who sneaked onto @Delta flight has rap sheet: report. http://t.co/GzhiW4nmJ8', \"RT @e_russell: ...am referring to @Delta's prev announcement of new SFO-SEA service, AS has increased freq as well. Only one route of many.…\", 'RT @NYDailyNews: 9-year-old boy who sneaked onto @Delta flight has rap sheet: report. http://t.co/GzhiW4nmJ8', '9-year-old boy who sneaked onto @Delta flight has rap sheet: report. http://t.co/GzhiW4nmJ8', \"...am referring to @Delta's prev announcement of new SFO-SEA service, AS has increased freq as well. Only one route of many...\", '@Gogo @Delta wow, connection now down to 24 mbps.  like the old AOL dial up days...', \"First delay with @Delta for the year!  No rush to get to STL so I'm OK with it. I've had good luck flying, unlike @Russostrib\", \"Had a blast with @arcchurches at 2.0. Check it out if you haven't heard about it! Conversely, avoid @Delta airlines if at all possible! :)\", 'RT @Swabbies: Got this article on Sac from @Delta Airlines Magazine from @KJ_MayorJohnson today, check it out! http://t.co/RuxhfcMlYz #SMF', \"I just bought GoGo in flight wifi cause my @Delta @DeltaAssist  headrest screen isn't working on my flight and not able to watch movies\", \"RT @airlinewriter: I return from a few days at @mcuban's trial to find @Delta and @united attacking each others hubs: http://t.co/AyprHsd7Da\", \"2 for 2, @United can't keep a schedule through Memphis. Apparently any aircraft running 2+ hours late, breaks upon landing here. Hi @Delta!\", 'RT @LAKings: 8 #LAKings SuperFans will be chosen to compete 1 on 1 for a trip to NY on @Delta to see the Kings play the @NYRangers http://t…', \"@delta You know where I live. Don't tease me with airfare sales when there aren't any relevant to my city. It simply wastes my time.\", 'Thanks @delta for showing me a seatmap with two seats in this row only to find i paid up for a middle seat http://t.co/1mDipA2r9L', 'RT @pichetong: Oh no! No #crabs on the #plane @delta #narita #tokyo #東京 #baggage #成田市#travel #law #pet #food #omg… http://t.co/nTnLrvyT7t', 'RT @iamdiddy: If you’re flying out of JFK on @Delta you NEED to check out the new @CIROC VIP lounge at @Delta terminal at JFK. http://t.co/…', 'Dear @Delta, I love that your power outlets actually work &amp; u have @gogo #inflightwifi. This means I can work the entire fli- wait a minute.', 'S/O to my flight attendants for the extra pack of peanuts and cookies. @Delta EUG to SLC flight attendants ROCK.', 'RT @TravelingGlenn: @flightstats says @delta saw 89.32% of flights on time in Sept. Just .11% cancelled', '@Delta  - you need livelier hold music!', '@gogo DL6287 3rd @delta flt this week which cant SUPPORT VPN connection.  36 mbps speed. UNACCEPTABLE. @GOGO MUST DO BETTER. #epicfail', '@Delta Kudos for supporting the cause! Great to see all the crew members in pink. #MinuteMaid #BreastCancerAwareness http://t.co/7mzLrIALIy', \"I'm at @Delta Sky Club (Atlanta, GA) http://t.co/IkgcI4GIAT\", 'RT @iamdiddy: If you’re flying out of JFK on @Delta you NEED to check out the new @CIROC VIP lounge at @Delta terminal at JFK. http://t.co/…', 'Got this article on Sac from @Delta Airlines Magazine from @KJ_MayorJohnson today, check it out! http://t.co/RuxhfcMlYz #SMF', 'RT @BaileyLAKings: Are you the #LAKings biggest fan? Prove it and win a trip on @Delta to see the Kings vs Rangers in NY - http://t.co/NWpa…', 'Oh no! No #crabs on the #plane @delta #narita #tokyo #東京 #baggage #成田市#travel #law #pet #food #omg… http://t.co/nTnLrvyT7t', '@DeltaAssist @Delta the cabin crew aboard DL2168 LAX-MSP (10/8) is FANTASTIC.  Well done! Thanks to them for making this a terrific flight!', '@Delta Just asked the flight attendant if I could -unboard instead of de-plane.  Love your fun safety video.  Great idea!', 'Have to say @Delta and @Fedex are pretty great. Getting me and my passport where they need to be today. Same day delivery is f$#%ing magical', \"Didn't love getting home at 1a after 3.5-hr flight delay BUT @Delta crew did a great job of diffusing tension w/ humor and free food/drinks.\", 'RT @zerocollective: Late night, but the @Delta Sky Deck is now ready for service tomorrow at #LeadersSportSummit at @chelseafc. http://t.co…', 'Late night, but the @Delta Sky Deck is now ready for service tomorrow at #LeadersSportSummit at @chelseafc. http://t.co/vOiaGCd8gF', 'RT @iamdiddy: If you’re flying out of JFK on @Delta you NEED to check out the new @CIROC VIP lounge at @Delta terminal at JFK. http://t.co/…', 'RT @Delta: Take in the majesty as the sun sets on another glorious day in aviation. #AVGeek #Delta #Aviation http://t.co/e0DkxfQpa1', '@Delta I have a 45 minute layover at JFK tomorrow for an international flight. Will that be enough time?', 'RT @BaileyLAKings: Are you the #LAKings biggest fan? Prove it and win a trip on @Delta to see the Kings vs Rangers in NY - http://t.co/NWpa…', 'RT @ICLV2013: Thx @KittyBeltmann &amp; rock stars at @delta #iclv2013 bags lined up alpha &amp; ready for delegates to show their id! http://t.co/I…', 'RT @iamdiddy: If you’re flying out of JFK on @Delta you NEED to check out the new @CIROC VIP lounge at @Delta terminal at JFK. http://t.co/…', '@flightstats says @delta saw 89.32% of flights on time in Sept. Just .11% cancelled', '@BaileyLAKings @Delta @cld9kingsfan @AlexSuarSuar', \"In 25+ yrs I've never been a rude passenger because I know these things happen but @Delta's gross incompetence is rightfully infuriating.\", 'RT @iamdiddy: If you’re flying out of JFK on @Delta you NEED to check out the new @CIROC VIP lounge at @Delta terminal at JFK. http://t.co/…', 'RT @LAKings: 8 #LAKings SuperFans will be chosen to compete 1 on 1 for a trip to NY on @Delta to see the Kings play the @NYRangers http://t…', 'Few things enrage me as much as the unreasonable charges to change airline reservations. I dream of never again flying @united or @Delta.', 'RT @girardhardy: Not very impressed with @delta customer service.', 'RT @Delta: Take in the majesty as the sun sets on another glorious day in aviation. #AVGeek #Delta #Aviation http://t.co/e0DkxfQpa1', \"@AliceHoleFrost @Delta How do you really feel?! Yeah I've had a crap time flying with them recently too.\", \"Need to cancel an @Delta miles ticket for Th, because the person we are supposed to meet has cancelled.  Delta doesn't allow, even for a fee\", '@lbanks6 I get the sense that @Delta exists on a different plane (haha) than the rest of us basically.', 'Not very impressed with @delta customer service.', 'RT @Delta: Take in the majesty as the sun sets on another glorious day in aviation. #AVGeek #Delta #Aviation http://t.co/e0DkxfQpa1', '@BaileyLAKings @Delta ...And if you \"Bronx cheered\" Quick last night, please don\\'t apply. You\\'re looking for the \"fair-weather fan\" contest.', \"@allyzay @JetBlue @Delta - do you get the sense @delta doesn't know that you have a lot of followers on Twitter and that we read what u say?\", \"@BaileyLAKings @Delta Don't worry, I already filled out the form! :)\", '@MiggityMike11 @Delta go to the link!!', 'I would like to thank @JetBlue for responding kindly to a non-complaint I made! I would like to throw @Delta into the pits of hell still.', 'Things I could have been doing instead of waiting for @Delta to get their act together: write a book, watch grass grow, root canal...', 'Flying on @delta from #BHM to #LAS @wandfc going to go see WAND!! #THEPEOPLESCHAMPION #WARWAND #LASVEGAS', 'RT @BaileyLAKings: Are you the #LAKings biggest fan? Prove it and win a trip on @Delta to see the Kings vs Rangers in NY - http://t.co/NWpa…', 'RT @Delta: Take in the majesty as the sun sets on another glorious day in aviation. #AVGeek #Delta #Aviation http://t.co/e0DkxfQpa1', 'RT @LAKings: 8 #LAKings SuperFans will be chosen to compete 1 on 1 for a trip to NY on @Delta to see the Kings play the @NYRangers http://t…', 'My @Delta flight to Charlotte engaged the landing gear MIDFLIGHT. Now delayed 6hrs coming OUT of Charlotte bc of a faulty door. Terrible.', 'AyeeKo @delta RT @Kwabena: Delta Airlines to fly Accra-Atlanta. http://t.co/JVQL9YE0vr #Ghana', '@BaileyLAKings @Delta ME, ME, ME! I AM! Just look at my profile picture, it has the best mascot ever on it! #LAKings', '@delta @DeltaAssist - Flying 3303 to MSP, got notification that flight is landing 30 minutes later but taking off same time.  Mistake?', 'RT @BaileyLAKings: Are you the #LAKings biggest fan? Prove it and win a trip on @Delta to see the Kings vs Rangers in NY - http://t.co/NWpa…', 'Are you the #LAKings biggest fan? Prove it and win a trip on @Delta to see the Kings vs Rangers in NY - http://t.co/NWpasPAWIb', \"RT @Delta: Spotify // October Boarding Music - Here's whats playing on board this month\", 'ttp://t.co/UZdmewLmL6', 'RT @iamdiddy: If you’re flying out of JFK on @Delta you NEED to check out the new @CIROC VIP lounge at @Delta terminal at JFK. http://t.co/…', 'Thx @KittyBeltmann &amp; rock stars at @delta #iclv2013 bags lined up alpha &amp; ready for delegates to show their id! http://t.co/I58dDwdfY3', '@Delta, what does \"pre-board\" mean? Isn\\'t it just \"board\"?', \"I spoke 2 a supervisor in person&amp; over the phone. The most help I've received from @Delta has been over twitter. Pathetic. #stillnotreolved\", 'And a woman just stole my seat @delta', 'RT @LAKings: 8 #LAKings SuperFans will be chosen to compete 1 on 1 for a trip to NY on @Delta to see the Kings play the @NYRangers http://t…', '@jaimeinatlanta @Delta Esa compañía siempre da problemas. El trato es pésimo y el servicio peor.', 'RT @Delta: Take in the majesty as the sun sets on another glorious day in aviation. #AVGeek #Delta #Aviation http://t.co/e0DkxfQpa1', 'Second time this year that @Delta has lost my luggage abroad and no apology, no compensation, nothing. Really disappointed. Again. #FAIL', 'That amazing practice of @Delta flight attendants to stop passenger flow when we have already a delayed flight departure time.', \"I'm smiling now but this @Delta lady has one more time to give me a friggin attitude.\", 'I absolutely hate @Delta and their baggage drop system.  Please look into a better solution', '@Delta I still let people know the fantastic service I received from @DeltaAssist during flood and funeral in Sept. Thank you again!', 'RT @LAKings: 8 #LAKings SuperFans will be chosen to compete 1 on 1 for a trip to NY on @Delta to see the Kings play the @NYRangers http://t…', '#LAKings RT\"8 #LAKings SuperFans will be chosen to compete 1 on 1 for a trip to NY on @Delta... http://t.co/b12JQqbZqc \" #SportsRoadhouse', 'RT @LAKings: 8 #LAKings SuperFans will be chosen to compete 1 on 1 for a trip to NY on @Delta to see the Kings play the @NYRangers http://t…', 'RT @LAKings: 8 #LAKings SuperFans will be chosen to compete 1 on 1 for a trip to NY on @Delta to see the Kings play the @NYRangers http://t…', 'RT @LAKings: 8 #LAKings SuperFans will be chosen to compete 1 on 1 for a trip to NY on @Delta to see the Kings play the @NYRangers http://t…', '8 #LAKings SuperFans will be chosen to compete 1 on 1 for a trip to NY on @Delta to see the Kings play the @NYRangers http://t.co/pG8bRHnxJF', '@Alitalia for our next trip to Italy we will only use your airlines. We have learned not to use @delta their poor cust service spks volumes.', \"Planning my route home from Alaska. It's going to be quite a journey. Can't wait to get on that @Delta flight. #travel #alaska #texas #yep\", '@KateGardiner @Delta @united Those are fighting words!', '@delta and @DeltaAssist once again your poor customer service rears its ugly head. Mr. Russo at JFK was incredibly rude. Shame on you.', 'Two @Delta aircrafts at CDG airport ! So beautiful (^_−)−☆ http://t.co/HpoXBp7aK0', 'RT @RyanSloaneCNN: .@MSP Airport says 9yo stowaway sneaked past distracted @Delta gate agent, allowing him to get on Vegas-bound plane.', '.@MSP Airport says 9yo stowaway sneaked past distracted @Delta gate agent, allowing him to get on Vegas-bound plane.', 'RT @Delta: Take in the majesty as the sun sets on another glorious day in aviation. #AVGeek #Delta #Aviation http://t.co/e0DkxfQpa1', 'RT @Delta: Take in the majesty as the sun sets on another glorious day in aviation. #AVGeek #Delta #Aviation http://t.co/e0DkxfQpa1', '@RobLayer @Delta perfect, you can take me to Paris now #goldmedallion', 'RT @Delta: Take in the majesty as the sun sets on another glorious day in aviation. #AVGeek #Delta #Aviation http://t.co/e0DkxfQpa1', \"RT @dkMOMUS: Um. There's about 3 more hours of sun in ATL and yet @delta posts the day is closing.   :-/ http://t.co/GlwinPow2q\", 'Headed to #NYC and the view out my window this morning on @delta #goodmorning #clouds #view http://t.co/bPTp5Rqz47', \"RT @RobLayer: What a special day. I'd like to thank my parents, @delta and most importantly @lindseywolff for always being there http://t.c…\", '“@KasimReed: There is no place like home. http://t.co/UcDdaqzKOu” @Delta', '“@Delta: Take in the majesty as the sun sets on another glorious day in aviation. #AVGeek #Delta #Aviation http://t.co/xyhxQWgO1u” greatness', 'RT @Delta: Take in the majesty as the sun sets on another glorious day in aviation. #AVGeek #Delta #Aviation http://t.co/e0DkxfQpa1', 'RT @Delta: Take in the majesty as the sun sets on another glorious day in aviation. #AVGeek #Delta #Aviation http://t.co/e0DkxfQpa1', 'RT @Delta: Take in the majesty as the sun sets on another glorious day in aviation. #AVGeek #Delta #Aviation http://t.co/e0DkxfQpa1', 'RT @Delta: Take in the majesty as the sun sets on another glorious day in aviation. #AVGeek #Delta #Aviation http://t.co/e0DkxfQpa1', 'RT: @PepsiCo #AdelanteHispanicEmployeeGroup Now a #Sponsor of #2013HOLAAwards (presented by @Delta', '', 'ttp://t.co/pzwcTAsZxJ', 'RT @Delta: Take in the majesty as the sun sets on another glorious day in aviation. #AVGeek #Delta #Aviation http://t.co/e0DkxfQpa1', 'RT @Delta: Take in the majesty as the sun sets on another glorious day in aviation. #AVGeek #Delta #Aviation http://t.co/e0DkxfQpa1', 'RT @Delta: Take in the majesty as the sun sets on another glorious day in aviation. #AVGeek #Delta #Aviation http://t.co/e0DkxfQpa1', \"What a special day. I'd like to thank my parents, @delta and most importantly @lindseywolff for always being there http://t.co/eS3eeRz2u1\", 'RT @Delta: Take in the majesty as the sun sets on another glorious day in aviation. #AVGeek #Delta #Aviation http://t.co/e0DkxfQpa1', 'RT @Delta: Take in the majesty as the sun sets on another glorious day in aviation. #AVGeek #Delta #Aviation http://t.co/e0DkxfQpa1', \"@vm_mattb @Delta That's where I usually fly out. Big win at SEA!\", \"You know you're in an old plane when there's an ash tray built into the bathroom. @Delta\", 'Curious marketing strategy, @Delta - you sent a marketing email to me, a frequent flier (FF) from MSP, with 0 specials from MSP. #alienateFF', \"@Delta you're better than the other majors in the US, but you NEED power outlets! At least in Business class. On Connection too. NEED!\", \"@timantz Used to be checkpoint 3 only, but now chkpt 2 as well. Handy if you're headed to S gates for a @delta flight\", '@Delta Could you please explain why we are delayed on DL2347 LGA to ATL?   We have pulled from gate but sitting on runway.', \"I'm at @Delta Sky Club (Jamaica, NY) http://t.co/3ngfe9JZyh\", 'Hehe just got the @Delta app. So excited for my trip #35days #pickedmyseat', 'Really hoping this new @Delta terminal at JFK has better airport drinking options than Laguardia. Or at least a Starbucks.', 'STL -&gt; JFK on @Delta', \"@SouthwestAir @Delta love how price gouging is allow for your companies come thanksgiving. That isn't giving thanks for ur customers! #fail\", \"I'm flying @Delta on my fearless and fabulous breast cancer survivor book tour. @DeltaAssist show me some TLC\", '@Delta @DeltaAssist can u use a credit on a different website other than delta', 'RT @LifetimeTrvls: @Delta  I just booked my flight to #Jamaica with you this morning.  Ready to fly to the #Caribbean with you all!  #Trave…', '@iamdiddy @Delta @Ciroc my star how long are you going to come in africa', \"@Crash_Games @Delta @AmericanAir I'd make the decision based on the plane and the seats.\", '@Crash_Games @Delta @AmericanAir I prefer @Delta as I am closer to a hub.', 'RT @iamdiddy: If you’re flying out of JFK on @Delta you NEED to check out the new @CIROC VIP lounge at @Delta terminal at JFK. http://t.co/…', \"@Delta how do you run out of food on a full cross-country flight when you haven't even got half way through the plane?\", 'RT @iamdiddy: If you’re flying out of JFK on @Delta you NEED to check out the new @CIROC VIP lounge at @Delta terminal at JFK. http://t.co/…', '@DTWeetin @Delta enjoying my Detroit layover this afternoon...the balloons are great! Go Tigers! http://t.co/jAkR4seTn2', '@united @Delta  home to DC in first class on both flights', 'RT @iamdiddy: If you’re flying out of JFK on @Delta you NEED to check out the new @CIROC VIP lounge at @Delta terminal at JFK. http://t.co/…', '@united @Delta  and I was freaking out because I have Aspergers, OCD, and anxiety and the ticket agent for United put me on a Delta flight', 'RT @iamdiddy: If you’re flying out of JFK on @Delta you NEED to check out the new @CIROC VIP lounge at @Delta terminal at JFK. http://t.co/…', '@Crash_Games @Delta @AmericanAir British Airways (awesome food).', 'Thank you to the friendly @united  and @Delta  employees in Syracuse airport who helped me yesterday. My United flight was delayed', \"For International Flights who's better @Delta or @AmericanAir GO!\", 'RT @iamdiddy: If you’re flying out of JFK on @Delta you NEED to check out the new @CIROC VIP lounge at @Delta terminal at JFK. http://t.co/…', 'Did @Delta reintroduce their medallion travel companion upgrades already? Or is there a catch?', '@iamdiddy @Delta @Ciroc', '@Delta  I just booked my flight to #Jamaica with you this morning.  Ready to fly to the #Caribbean with you all!  #TravelTuesday', 'On board my @Delta flight home to Seattle... See you all when we land, international plane no wifi. #homewardbound', '$1000 per person to fly to Montana  during the Christmas holiday. What the hell!?!! I just want 2 see my family. @Delta @united', 'Amazing this can happen...child gets to #Vegas (thru security), no boarding pass @Delta @PatPheifer #travel http://t.co/m63wMm9KaG', \"RT @Delta: Spotify // October Boarding Music - Here's whats playing on board this month\", 'ttp://t.co/UZdmewLmL6', '#AvSLM @Delta Air Lines 11,000 @Surface tablet deal marks end of #iPad in Aviation and #Apple weakness in enterprise http://t.co/ywubq24CZC', 'RT @dotloop: @JohnHouseman @skynnard this was huge for us. Have you heard the @delta story from @unmarketing? Good stuff #genblue', '@JohnHouseman @skynnard this was huge for us. Have you heard the @delta story from @unmarketing? Good stuff #genblue', '@Delta any deals going on?', '@khelene @Delta 22 of the accidents involving animals occurred on Delta :(', '@alglatz Eek. Why?! I have always had good experiences with @Delta in the past.', 'Heading across the Pacific #LAX - #NRT @delta @ Los Angeles International Airport (LAX) http://t.co/HQETjlzSv4', \"RT @Delta: Spotify // October Boarding Music - Here's whats playing on board this month\", 'ttp://t.co/UZdmewLmL6', 'Apparently, @delta did not accept my $6000 bid on what I would be willing to take to wait on the next flight... http://t.co/XGTqQYZlwv', \"lesson: don't fly @delta. #smcstl\", \"RT @Delta: Spotify // October Boarding Music - Here's whats playing on board this month\", 'ttp://t.co/UZdmewLmL6', \"@Delta Since I only fly Delta, I think you guys should play my music whilst boarding. Who should I talk to? Let's make dreams come true!\", \"RT @Delta: Spotify // October Boarding Music - Here's whats playing on board this month\", 'ttp://t.co/UZdmewLmL6', '@KLM thank you; please note that the experience was mainly with @Delta your partner.', 'RT @iamdiddy: If you’re flying out of JFK on @Delta you NEED to check out the new @CIROC VIP lounge at @Delta terminal at JFK. http://t.co/…', 'RT @ArmasAgustin: \"@radiominutotwit: El viatge d\\'una maleta des d\\'Atlanta a Nova York amb la companyia @Delta Bon vídeo! http://t.co/n2tDPa…', \"RT @openingnight: Read TRAVEL NOW ▸ today's top stories via @Greece4Holidays @sonjaswisslife @fallowfieldsuk @destinationsmag @delta ▸ http…\", \".@Delta confirms that skates are safe for flight. Terrorists don't play hockey, apparently\", 'Officially spending NYE in Hawaii! Thanks for the #skymiles @delta cc @kristinbinns #78moredays', '\"@radiominutotwit: El viatge d\\'una maleta des d\\'Atlanta a Nova York amb la companyia @Delta Bon vídeo! http://t.co/n2tDPalCur\" #aviones', 'RT @iamdiddy: If you’re flying out of JFK on @Delta you NEED to check out the new @CIROC VIP lounge at @Delta terminal at JFK. http://t.co/…', '@iamdiddy @Delta @CirocDo it Diddy!!!U sure kno how 2 resurrect a brand. Burger King nd Ciroc not 2 mention the remiX.', 'RT @iamdiddy: If you’re flying out of JFK on @Delta you NEED to check out the new @CIROC VIP lounge at @Delta terminal at JFK. http://t.co/…', 'RT @iamdiddy: If you’re flying out of JFK on @Delta you NEED to check out the new @CIROC VIP lounge at @Delta terminal at JFK. http://t.co/…', 'RT @iamdiddy: If you’re flying out of JFK on @Delta you NEED to check out the new @CIROC VIP lounge at @Delta terminal at JFK. http://t.co/…', '@AmericanAir Again, I have already received my response. @Delta was able to help their customers with this issue while you all did not.', 'RT @iamdiddy: If you’re flying out of JFK on @Delta you NEED to check out the new @CIROC VIP lounge at @Delta terminal at JFK. http://t.co/…', \"RT @airfarewatchdog: Any idea what your airline's policy is on flight attendants accepting gratuities? @AmericanAir @United @JetBlue @Delta\", \"RT @diloreto: @Delta - please help! I've been screwed over by #SpiritAirlines. I want to get home on a #Delta flight instead.\", '@iamdiddy @Ciroc @Delta @funkmasterflex and that everyone who boards the plane with u has a ticket!', 'RT @iamdiddy: If you’re flying out of JFK on @Delta you NEED to check out the new @CIROC VIP lounge at @Delta terminal at JFK. http://t.co/…', 'RT @iamdiddy: If you’re flying out of JFK on @Delta you NEED to check out the new @CIROC VIP lounge at @Delta terminal at JFK. http://t.co/…', '@UN @FoxNews @AmericanAir @UnitedAirElite @Delta @AeroMexico_com@SouthwestAir @FlyFrontier @JetBlue @British_Airways  http://t.co/UjZCMbxNB7', '@airfarewatchdog @AmericanAir @United @JetBlue @Delta mt GF is a CP at #NH and they willingly accept all the time. she scored #vueve once', \"@lonelyplanet You want help. You've got it! @delta http://t.co/c4P4vswrab @airlineroute @iata@CNTraveler #airportassistance #flyme #airlines\", 'RT @iamdiddy: If you’re flying out of JFK on @Delta you NEED to check out the new @CIROC VIP lounge at @Delta terminal at JFK. http://t.co/…', 'RT @iamdiddy: If you’re flying out of JFK on @Delta you NEED to check out the new @CIROC VIP lounge at @Delta terminal at JFK. http://t.co/…', 'RT @FriscoFoodie: Why the ash tray? Seems like a dare @Delta http://t.co/Y2M01rWsOk', '@delta &gt;&gt;&gt;&gt;&gt; @AmericanAir', 'RT @iamdiddy: If you’re flying out of JFK on @Delta you NEED to check out the new @CIROC VIP lounge at @Delta terminal at JFK. http://t.co/…', 'RT @iamdiddy: If you’re flying out of JFK on @Delta you NEED to check out the new @CIROC VIP lounge at @Delta terminal at JFK. http://t.co/…', 'RT @iamdiddy: If you’re flying out of JFK on @Delta you NEED to check out the new @CIROC VIP lounge at @Delta terminal at JFK. http://t.co/…', 'Oh goodie, all set with my @Delta skymiles acct merge and flight to Sacramento next week.', 'RT @iamdiddy: If you’re flying out of JFK on @Delta you NEED to check out the new @CIROC VIP lounge at @Delta terminal at JFK. http://t.co/…', 'Chillen in the @Delta sky club before my flight home to Seattle... There is something so nice about finding a quiet spot in JFK.', 'Airlines should let folks order lunch online in flight, hand out bag on arrival. “Here’s your @ChickfilA, Mr. Vance.” Get on this, @Delta.', '@AmericanAir I received my response. I standby my original tweet. @Delta was able perform better for my friend than your customer service.', 'RT @iamdiddy: If you’re flying out of JFK on @Delta you NEED to check out the new @CIROC VIP lounge at @Delta terminal at JFK. http://t.co/…', '@iamdiddy @Delta @Ciroc do they have Ciroc on Gläce', 'VIPONLY', 'RT @iamdiddy: If you’re flying out of JFK on @Delta you NEED to check out the new @CIROC VIP lounge at @Delta terminal at JFK. http://t.co/…', 'RT @iamdiddy: If you’re flying out of JFK on @Delta you NEED to check out the new @CIROC VIP lounge at @Delta terminal at JFK. http://t.co/…', 'RT @iamdiddy: If you’re flying out of JFK on @Delta you NEED to check out the new @CIROC VIP lounge at @Delta terminal at JFK. http://t.co/…', 'Remind me to never fly @Delta again, okay? Ridiculous.', 'RT @iamdiddy: If you’re flying out of JFK on @Delta you NEED to check out the new @CIROC VIP lounge at @Delta terminal at JFK. http://t.co/…', '#5Star #Hustle RT @iamdiddy: If you’re flying out of JFK on @Delta you NEED to check out the new (cont) http://t.co/WabNXkzn3u', 'RT @iamdiddy: If you’re flying out of JFK on @Delta you NEED to check out the new @CIROC VIP lounge at @Delta terminal at JFK. http://t.co/…', 'RT @iamdiddy: If you’re flying out of JFK on @Delta you NEED to check out the new @CIROC VIP lounge at @Delta terminal at JFK. http://t.co/…', 'RT @iamdiddy: If you’re flying out of JFK on @Delta you NEED to check out the new @CIROC VIP lounge at @Delta terminal at JFK. http://t.co/…', 'RT @iamdiddy: If you’re flying out of JFK on @Delta you NEED to check out the new @CIROC VIP lounge at @Delta terminal at JFK. http://t.co/…', 'Does Twitter IPO mean lots more such pollution? MT @iamdiddy If you’re flying out of JFK on @Delta NEED to check out new @CIROC VIP lounge', 'RT @iamdiddy: If you’re flying out of JFK on @Delta you NEED to check out the new @CIROC VIP lounge at @Delta terminal at JFK. http://t.co/…', 'RT @iamdiddy: If you’re flying out of JFK on @Delta you NEED to check out the new @CIROC VIP lounge at @Delta terminal at JFK. http://t.co/…', '@iamdiddy @Delta @Ciroc you full of shit right', 'RT @iamdiddy: If you’re flying out of JFK on @Delta you NEED to check out the new @CIROC VIP lounge at @Delta terminal at JFK. http://t.co/…', 'RT @iamdiddy: If you’re flying out of JFK on @Delta you NEED to check out the new @CIROC VIP lounge at @Delta terminal at JFK. http://t.co/…', 'RT @iamdiddy: If you’re flying out of JFK on @Delta you NEED to check out the new @CIROC VIP lounge at @Delta terminal at JFK. http://t.co/…', 'RT @iamdiddy: If you’re flying out of JFK on @Delta you NEED to check out the new @CIROC VIP lounge at @Delta terminal at JFK. http://t.co/…', '@EritreanExpress @Delta you hatin and cause gill laughed he not gettin my buddy pass.', 'RT @iamdiddy: If you’re flying out of JFK on @Delta you NEED to check out the new @CIROC VIP lounge at @Delta terminal at JFK. http://t.co/…', '@iamdiddy @Delta @Ciroc so diddy has a VIP Ciroc lounge at JFK? #LikeABoss', 'RT @iamdiddy: If you’re flying out of JFK on @Delta you NEED to check out the new @CIROC VIP lounge at @Delta terminal at JFK. http://t.co/…', '@Delta app is awesome!', 'RT @iamdiddy: If you’re flying out of JFK on @Delta you NEED to check out the new @CIROC VIP lounge at @Delta terminal at JFK. http://t.co/…', 'RT @iamdiddy: If you’re flying out of JFK on @Delta you NEED to check out the new @CIROC VIP lounge at @Delta terminal at JFK. http://t.co/…', '@iamdiddy @Delta @Ciroc stays making moves #muchrespect', 'Check in the mail. From Delta or Ciroc? MT @iamdiddy If you’re flying out of JFK on @Delta you NEED to check out the new @CIROC VIP lounge.', '@iamdiddy @Delta @Ciroc YO...who closed that deal they need a s/o sir.', 'RT @iamdiddy: If you’re flying out of JFK on @Delta you NEED to check out the new @CIROC VIP lounge at @Delta terminal at JFK. http://t.co/…', '@iamdiddy @Delta @Ciroc its awesome me &amp; Gappy sleep there most nights. http://t.co/9vgUAqqYz4', 'RT @iamdiddy: If you’re flying out of JFK on @Delta you NEED to check out the new @CIROC VIP lounge at @Delta terminal at JFK. http://t.co/…', '@iamdiddy @Delta @Ciroc', 'RT @SuarezMDaniel: #Aviatio', 'Delta to equip 11,000 pilots with Microsoft Surface 2 electronic flight bag', 'ttp://t.co/TsN0gH6Z01', 'RT @iamdiddy: If you’re flying out of JFK on @Delta you NEED to check out the new @CIROC VIP lounge at @Delta terminal at JFK. http://t.co/…', 'RT @iamdiddy: If you’re flying out of JFK on @Delta you NEED to check out the new @CIROC VIP lounge at @Delta terminal at JFK. http://t.co/…', 'RT @iamdiddy: If you’re flying out of JFK on @Delta you NEED to check out the new @CIROC VIP lounge at @Delta terminal at JFK. http://t.co/…', 'RT @iamdiddy: If you’re flying out of JFK on @Delta you NEED to check out the new @CIROC VIP lounge at @Delta terminal at JFK. http://t.co/…', 'RT @iamdiddy: If you’re flying out of JFK on @Delta you NEED to check out the new @CIROC VIP lounge at @Delta terminal at JFK. http://t.co/…', 'RT @iamdiddy: If you’re flying out of JFK on @Delta you NEED to check out the new @CIROC VIP lounge at @Delta terminal at JFK. http://t.co/…', 'RT @iamdiddy: If you’re flying out of JFK on @Delta you NEED to check out the new @CIROC VIP lounge at @Delta terminal at JFK. http://t.co/…', 'RT @iamdiddy: If you’re flying out of JFK on @Delta you NEED to check out the new @CIROC VIP lounge at @Delta terminal at JFK. http://t.co/…', 'RT @iamdiddy: If you’re flying out of JFK on @Delta you NEED to check out the new @CIROC VIP lounge at @Delta terminal at JFK. http://t.co/…', 'RT @iamdiddy: If you’re flying out of JFK on @Delta you NEED to check out the new @CIROC VIP lounge at @Delta terminal at JFK. http://t.co/…', 'RT @iamdiddy: If you’re flying out of JFK on @Delta you NEED to check out the new @CIROC VIP lounge at @Delta terminal at JFK. http://t.co/…', 'RT @iamdiddy: If you’re flying out of JFK on @Delta you NEED to check out the new @CIROC VIP lounge at @Delta terminal at JFK. http://t.co/…', \"@iamdiddy: If you're flying out of JFK on @Delta you NEED to check out the new @CIROC VIP lounge at @Delta terminal at JFK.\", 'RT @iamdiddy: If you’re flying out of JFK on @Delta you NEED to check out the new @CIROC VIP lounge at @Delta terminal at JFK. http://t.co/…', 'RT @iamdiddy: If you’re flying out of JFK on @Delta you NEED to check out the new @CIROC VIP lounge at @Delta terminal at JFK. http://t.co/…', 'If you’re flying out of JFK on @Delta you NEED to check out the new @CIROC VIP lounge at @Delta terminal at JFK. http://t.co/XPVuKq5ull', '@Delta I woudl love help reporting damaged luggage. I did not have a chance to report it right away at the airport. Please help', \"@Delta since updating your iPhone app it won't refresh. What gives?\", 'Manual footrest and xtra legroom in crew rest seat aboard select @Delta 757 https://t.co/wvvJVj62S1', '#Aviatio', 'Delta to equip 11,000 pilots with Microsoft Surface 2 electronic flight bag', 'ttp://t.co/TsN0gH6Z01', 'RT @EritreanExpress: Taking all Bets.. Josh vs @Delta. 1 week? 2 weeks?  #bitchtakeyourownadvice', \"I usually love @Delta, but not today. Been on the plan for nearly 1.5 hours and haven't taken off yet. Making me late for my hot date.\", 'Your friendly reminder never fly @delta. If you want comfort and great customer service choose @jetblue', '#Aviación @Delta dotará con Tablets Microsoft Surface 2 a sus pilotos en un Kit Electrónico de Vuel', 'ttp://t.co/Z65sG7JW8', 'ia @Aviacol', '“@EritreanExpress: Taking all Bets.. Josh vs @Delta. 1 week? 2 weeks?  #bitchtakeyourownadvice ” lmao', 'Taking all Bets.. Josh vs @Delta. 1 week? 2 weeks?  #bitchtakeyourownadvice', 'Thanks @DeltaAssist @Delta for flight 1702 being incredibly delayed.  May not get home tonight due to your shody planes and service.', 'I fly @delta too much for work for them to be unreliable like this.', \"when @Delta doesn't even have your scheduled flight in their computer system&lt;&lt;&lt; #wtf\", \"Final touches to our @Delta Sky Deck at @chelseafc for tomorrow's #LeadersSportSummit. http://t.co/mH3newXf1b\", 'So now I’m going to be late to my work meeting (that I’m supposed to manage) because @delta had a plane with no functioning toilets. Smh.', '@Delta once again another delay with you. Really can you ever get it right', 'deltasucks', '@Delta @DeltaAssist please come back to LBB .....#imbegging', \"RT @airlinewriter: I return from a few days at @mcuban's trial to find @Delta and @united attacking each other's hubs: http://t.co/2F92J9dF…\", \"DL1864 MSP to DCA.        Don't ask. (at @Delta Sky Club) http://t.co/pf7M79PY0g\", 'jamming the new @WhereisADTR at 35K feet on this @delta flight from PHL to ATL… then back north to GSO. Then drive to CLT. whew...', 'On our way to VA for a shoot, tweeting from 36,974 feet on Delta!  Gotta love technology! @Delta http://t.co/fMpHUM4RYO', 'Office Du Jour Making good use of the Gogo Inflight wifi w @Delta! #TeamDuJour Coast to Coast http://t.co/K1Qq8IIokN', 'Revija macaka #najlepsa#catwalk #petshow #chanel @Delta @ Delta City http://t.co/pweML7FWKQ', \"RT @airlinewriter: I return from a few days at @mcuban's trial to find @Delta and @united attacking each other's hubs: http://t.co/2F92J9dF…\", \"I return from a few days at @mcuban's trial to find @Delta and @united attacking each other's hubs: http://t.co/2F92J9dFiw\", '@Delta makes preferred members wait until 30 mins b4 flight for upgrade. Awful. Just another reason to keep flying @USAirways. #FlyUSAirways', \"@DeltaAssist @Delta I'm silver medallion traveling round trip SJO-HND, how many bags and weight can I bring?\", \"Still sitting at the gate, they're having problems with the plane pressurizer. Thanks @delta, feeling REAL safe right now.\", 'En route to #NYC via @Delta. Thank goodness for @Gogo &amp; their pet friendly flight attendants. http://t.co/avvOecHXZN', '@delta @DeltaAssist Ref#ROCDL 37175 sent message with address of next hotel near Syracuse, NY', \"@Delta I hope they don't have to shut them off below 10,000 ft. :-)\", '@UnitedAirFAIL @united incompetence abounds today at the gate for this flight. This is why I prefer to fly @DeltaAssist @Delta', '@Delta over here, handing out bagels and news http://t.co/8ofp68BUuX', '@saab007 @Hack_Travel @jenniparks @Delta @skyteam @AlaskaAir #Kettle', '@Delta CEO Richard Anderson I know Deltas founder is from Macon,GA. I was born in Hawkinsville, GA. Will that help get my bag? @DeltaAssist', 'Weirdest flight crew ever today on @Delta makes it a funny flight', 'Stoked to score standby seat from @delta for #recordrun! http://t.co/i1JHE8snKj', '@Delta CEO Richard Anderson I know you used to live in MN and so did I will that help get my bag? Start of Day 3.', 'Best flight in a long time.  Row all to myself=major nappage.  Could se more of that. Thanks @Delta #fb', '@Delta great flight! #travel #orlando http://t.co/kUOdavuVF1', \"I'm at @Delta Sky Club (Atlanta, GA) w/ 2 others http://t.co/EVeIhF1lnz\", 'RT @PaulSkrbec: Talking about the fun surprise and delight @delta brings to customers with @Lebeaucarnews http://t.co/5ihw1zEYJX', 'Spent eight rather expensive and quite valuable hours in London today.  Now headed home with some @Delta air miles.', \"Why does my @Delta #EconomyComfort seat feel like I'm riding @SpiritAirlines?\", \"What's with the @Delta heavies rotating like crazy in NOV &amp; DEC on domestic routes. 764/76W/330's. Interesting.\", 'Feds storm our plane to remove passenger!  @Delta pilots and crew handled the crisis great!  Thanks guys!', 'Talking about the fun surprise and delight @delta brings to customers with @Lebeaucarnews http://t.co/5ihw1zEYJX', \"but, legit. this december is the last time I fly @Delta . I'm so sick of their shit. time to switch to @JetBlue\", \"@DeltaAssist @Delta Hi let's begin again. The start of day 3 and still no luggage. I move on to Syracuse. Think I can get my bag today?\", '#TravelTues: Did you know @Delta will begin operating nonstop flights to the Caribbean (Cancun, Nassau, Punta... http://t.co/NcqZ4W4TyT', '@Delta self-help... &gt;&gt; JFK gets automated passport system to reduce delays http://t.co/ZIjp5JLEjT', '@delta #flynorthwest', '@delta #flysouthwest', 'RT @Elizabeth1263: @MrDrewScott @Delta @MrSilverScott what the heck was he excitable about? Do tell?  hahaha', '@Delta amazing how many open compartments on my flight 1767 and yet you made check a bag?  Price gouging for lousy service!', 'The captain just did his pre flight announcements to first class passengers in person on @Delta flight. Never seen that before.', '@Delta if a bag fits on the same flight three days ago, it will do so again.  How many rumors did you eat for breakfast?', '@Delta CEO invests at home to succeed abroa', 'ttp://t.co/lSQVrWtMt1 @IATA @AirlinesDotOrg via @IBTMoney', '@Delta will never fly your crap airline again.  Lousy employees.', '@Delta flight 1767 has the worst gate crew.  Officious jerks.', 'RT @IBTMoney: Delta Air Lines CEO Richard Anderson takes the road less traveled. @delta @deltanewsroom http://t.co/csShQmyI3X', 'I like flying @delta butnthe wifi so so soooo sloooowwwww ugh', '@Delta iPhone ap is excellent. Very pleased.', 'If I miss the #SEA connection in #ATL, #WIGS will be snatched!!! @Delta', 'Delta Air Lines CEO Richard Anderson takes the road less traveled. @delta @deltanewsroom http://t.co/csShQmyI3X', 'Delta Air Lines CEO Richard Anderson takes the road less traveled. @delta @deltanewsroom http://t.co/1S3o2fEYTj', '@delta has been a pleasure to fly. HNL 2 JFK &amp; back. Great team of pros.', \"@TweetRDC I sit corrected, haven't had my coffee yet ☕️  @Hack_Travel @jenniparks @Delta @skyteam @AlaskaAir\", '@Delta First flight with u, had worst experience, affected my health, in so much pain, u lied, compensation needed, worst airline ever!!', '@saab007 @Hack_Travel @jenniparks @Delta @skyteam @AlaskaAir Alaska is not a SkyTeam member. Granted they have relationships w many partners', 'So @Delta. Which one am I drinking? [pic] — https://t.co/fn2oAj2QS0', 'Also loved the TV screens..wish I had a longer flight to watch monsters university! @Delta', '@Delta sky lounge ad. \"Great for getting work done. Even better to avoid it\"', '@Delta i just did -- flying to aruba tomorrow !', 'Do you still remember? @LockheedMartin @Delta L-1011-500 #TriSta', \"nly a model, but I'm so happy: it's mine! :oD http://t.co/dzrgPZ4wlD\", 'Congress is accomplishing more than @Delta right now. Why the crap is it so difficult to get out of #BHM?!?! #2DaysInARow', '@Delta your terminal at LaGuardia Airport is really nice. Enjoying the free internet on the iPads. Well done! #nyc', 'RT @GlobalPittsbrgh: You could win 2 tickets to Paris on @Delta when you come to GlobalPittsburgh CultureFest Oct. 24. Register now at http…', \"Wow! @Delta pilots are going to use #surface2 with the weather app that comes in box! that's a good weather app\", 'ttp://t.co/Aej5uNWzjp', '@Delta Looking to rep some companies for our military veteran team the entire COD Ghost eSporting Season! Interested?', '@theryanedward @Delta hahaha - I know the feeling!', '@Hack_Travel @jenniparks I had heard through a source that @Delta plans to loosen its @skyteam relationship with @AlaskaAir', 'RT @GlobalPittsbrgh: You could win 2 tickets to Paris on @Delta when you come to GlobalPittsburgh CultureFest Oct. 24. Register now at http…', 'I hate buying airlines tickets! The price went back down to the original price  AFTER the purchase I made last night. @Delta', '@paullyoung @Delta -- Had my own row of seats for flight from Manila to New York and I cried for 35 minutes straight.', '@Delta thanks for all the help as of late', 'Loving @delta today. Empty middle seat next to me for long flight from Sydney, got into LA to score an earlier flight &amp; upgrade', \"@chicoharris @Delta If I don't get back to #SEA today, you just might. I will rip that weird T-Rex head off the wall!!!\", '@MrDrewScott @Delta @MrSilverScott what the heck was he excitable about? Do tell?  hahaha', 'You could win 2 tickets to Paris on @Delta when you come to GlobalPittsburgh CultureFest Oct. 24. Register now at http://t.co/axEJ9zfgV4', 'Another flawless trip with @Delta', 'WiFi at 25,000 feet is not as good.  Just landed on a flight with @Delta!', \"I'm at @Delta Sky Club (East Elmhurst, NY) http://t.co/TwLFTX8wYJ\", \"Wow, @Delta won't let me speak to a supervisor. What company won't let a customer speak to management? Never fly with #Delta!!\", 'RT @CNNTravel: Delta reviewing video to determine how boy hopped flight to Las Vegas: http://t.co/0E12ukhkUE @TSA @Delta @mspairport', 'I finally took the time to claim by @Delta Platinum gift. Happy @TiffanyAndCo Tuesday to me!', 'Thank you Seiko O. @Delta in SFO for making my flight to MSP that much better by upgrading my 1 yo daughter and I!', '@Gogo @delta @virginamerica @amazon how and when will we know go won the gift cards?', 'Delta reviewing video to determine how boy hopped flight to Las Vegas: http://t.co/0E12ukhkUE @TSA @Delta @mspairport', 'Well look at that: @SouthwestAir is having a fare sale with flights as low as $49. Oh, how I hope that @Delta will match it! #travel', \"@Delta you want me to buy Internet on my 9 hour flight to Hawaii but this hoop-D doesn't have an outlet to charge my phone?  #DeltaAirlines\", 'Only going to be about 2 hours late today. Strong work, @delta.', '#nw gravity @delta :D', 'SCRATCH THAT. Just booked a @Delta trip on hold to BOS for tomorrow for work.  #CantSitStill #ADD ✈️', 'RT @prensalideresmx: #LaCavaDeLíderes apoya la industria del vino @AeroMexico_com @Delta @Taittinger_NL @cuna_de_tierra @vinoteca_mexico @L…', '@Delta thank you to Jason Hausner for having a reply sent to me. I appreciate the response', \"@Delta broke my bag (that's the bad news) but promptly settled my claim with very little fuss (great customer service).  Thank you :-)\", \"Two days in a row of delays out of #BHM on @Delta.... This is a #MAJORCLUSTER. I will yank someone's #WIG!!!\", 'A fee for my carry-on-bag? Classy move @FlyFrontier. Definitely a good reason to stick with @delta.', 'not a single soul at any of the @Delta desks in austin. is there a bell or something i can ring to get someone to come verify my passport?', 'Boarding my @delta flight in #SLC next stop #minneapolis', 'Japan Airlines higher productivity thru mutiple devices, one experience #BYOD #SPFestChi @Delta pilots will use tablets soon. &amp; cabin crew 2', 'It costs less to book an entirely new flight on @Delta than it does to change my domestic ticket by one day. #youlllovethewaywefly', '@MPCAACA I’ll have to consult @delta on that!', 'RT @DiegoNSanchez: DC-bound to continue to fight 4 #ImmigrationReform! On a delayed flight. No surprise with @Delta, particularly in Atlant…', 'ON THE PLANE!LETS GET THIS PARTY STARTED! But first, yes thank you nice @Delta flight attendant I WOULD like some cookies :) #Hawaiianvaca', 'I will never be flying @Delta ever again. By far my worst airline experience', '@Delta @DeltaAssist  Busy month of travel for me but not going through JFK at all. How can I purchase the pink headphones?!', 'The seats on my @Delta flight to #ATL look brand new. #greatday', 'RT @BBC_Travel: 9-year-old boy fools @TSA &amp; @Delta, flies to #Vegas alone, without ticket. http://t.co/qVofoqwyjT @gadling #BBCinbrief', 'It would be nice to fly @Delta one time without my flight being delayed or having my connecting flight switched.  Always something with them', 'Totally felt insulted by a @Delta  CS rep the other day when I called them to change a flight. Worst CS experience EVER!', 'Calculating the flights needed to achieve Platinum status on @Delta is an absurd first world problem.', '\"Keep Climbing\" @Delta http://t.co/RWyTy5UKJP', \"If you are flying @Delta today out of JFK, I'll be on the outside deck of T4 from 3-6 spreading the good word about #cocktails!\", '@delta two maintenance issues on first flight of day to New Orleans? Not very good maintenance planning.', 'RT @Delta: We’re launching up to 9 daily flts b/t #NYC area &amp; #LHR w/ @VirginAtlantic! New sched starts 4/1 but you can book now http://t.c…', 'Never a positive sign when @Delta stops boarding &amp; deplanes everyone already onboard. #joysoftravel', 'Yay! Enjoy your trip! RT “@oojessicaa: @Nikluk my bag arrived!! #lostluggage thanks @Delta...”', 'even when schedules change @Delta @DeltaAssist seems to be able to get things sorted out - thanx #FLL #ATL', 'I hate the cattle flights to ATL.  Need larger plane for first flight of the am from DTW. @Delta', 'RT @AirlinesDotOrg: .@Delta CEO says government shutdown has had no effect on air travel demand. http://t.co/FfIv82VGXV @DallasNews #airlin…', \"@delta I was charged $200 each because I wasn't going to be on the DC flight. Definitely not nice.\", '@delta I had a flight from DCA to JFk and from JFk to SJU. Plans changed and ended up in NY.', 'DL48 DTW-MSP (at @Delta Sky Club) http://t.co/o5uZg1T8TI', \"Don't slurp your coffee.  Sip. @Delta #businesstravel #firstclassupgrade #NYC #lga #coffee\", '@DENAirport Missed flight out. Thank you @Delta for booking me on the next flight.', \"@DOriginalDonald @DLoesch @Delta That'd be the Jet Blue where the flt. attendants cuss out the pass. &amp; then abruptlyslide/exit the plane?\", \"@kyleporter wow, @AirTran , that's @salesloft caliber customer service right there!!! @delta better be listening...\", '@Phil_Zieber @DLoesch @Delta is worse #ILoveJetBlue', '@Nikluk my bag arrived!! #lostluggage thanks @Delta...', '@DLoesch Definitely, fly @Delta.', \"@Delta I've been cast to be u guys cover girl for some billboards! Yayyyy Let's share some strength together! #shareyourstrong #modelchic\", 'Out at ATL with @Lebeaucarnews today to surprise some @delta customers with a Porsche pick-up. http://t.co/qmLymnEMMw', 'RT @BillClemens: This is a messed up way to treat this guys family, way to represent #ATL #Delta @Delta  - http://t.co/GE86RyWAy9', 'Extremely disappointed that @Delta  will not refund my skymiles due to unforeseen circumstances. Looks like I will find another airline.', 'Super impressed with the new charging tables at @CVGAirport @delta #travel http://t.co/7o7Fqsiyyu', 'October. One of the biggest reasons I am forever loyal to @Delta #BCRF #pink #October', '@Delta the vote is in. Most desired addition to Sky Club: Bacon. #breakfastmeat', 'Candy at checkin at the @delta. Very nice http://t.co/nRN60ZiAOZ', 'RT @LuxuryPRGal: . @Delta Air Lines CEO: No impact on #travel by government shutdown http://t.co/uKvKy6bg2j', '@DJNoah80 @AlaskaAir @Delta @DeltaPoints I think it was the second leg of my trip to Seattle - from MSP-SEA.  It was fine.', 'RT @daging_rendang: \"Pokok\\'e joget\\\\', '2 oktober 2013 @delta cafe 5 sidoarj', '4.00-22.0', 'TM : 5000 + sticker presale terbatas cuma 100', '@katruns26point2 I think u flew @AlaskaAir 1st recently. How was it? May route SEA-FLL after @Delta PEK to save 5 hrs in ATL. @DeltaPoints✈️', '@Delta a bit over half-way home JNB-ATL-SLC-FCA. Thanks for the ride!', '\"Pokok\\'e joget\\\\', '2 oktober 2013 @delta cafe 5 sidoarj', '4.00-22.0', 'TM : 5000 + sticker presale terbatas cuma 100', 'Early day getting ready for @Delta 1859. Follow @modhop for pics from crew rest seats aboard a 757. http://t.co/Kx765eBnV4', 'Just discovered the observation deck on concourse D @mspairport, good morning #mpls, see you soon #Baltimore @Delta http://t.co/A79TfbYvVy', \"Alright @delta let's try this again. #readytobehome #traveladventures\", '@delta waiting on a jet plane #cvg http://t.co/7lyxaPH0dW', '@FLAadventurer @Delta “Make voyages! Attempt them… there’s nothing else.” ~ T.Williams  #TravelTuesday http://t.co/rHGFRI6RLf', \"RT @BowMaoTruthTeam: That's NOT nice @Delta You just jacked up the price of a ticket to #DCA #Reagan National by $110 #ObamaCare #WWIIMemor…\", '@JohnnyJet @Delta @united @Gogo Yes you are losing your mind, but I think that ship sailed a long time ago ;-)', \"Read TRAVEL NOW ▸ today's top stories via @Greece4Holidays @sonjaswisslife @fallowfieldsuk @destinationsmag @delta ▸ http://t.co/4Q90SItiFT\", 'Nice job @Delta - finally enough power available while waiting to board. http://t.co/bb5zEAc6Uj', '@Delta hi we follow you  feel free to follow our best #hotels review and luxury  #travel twitter of our mag http://t.co/nbIw6HVsl3', 'Love #TSA pre screen. Thanks @Delta for supporting #lga  through security in 2 minutes!', 'Ft. Myers bound! @Delta', '@mhsutton cool. Chat at 34k feet! @Delta', '@mvizdos @delta absolutely. Will send you email first, read and then we can chat', '@mhsutton let me get to plus 10k feet with @delta. Loading plane now. Half hour? @ServiceChat', '@Delta i did not recieve silver medallion kit yet', 'http://t.co/YJ0a1JJASC further proof of incompetence. @delta, u never cease to amaze me.', '@Delta, thanks for a comfortable flight from LA to GA, so caring for your passengers...good job!', 'RT @LuxuryPRGal: . @Delta Air Lines CEO: No impact on #travel by government shutdown http://t.co/uKvKy6bg2j', '@Delta Why do you always seem so relieved to offer ridiculous \"fixes\" to your sched screw-ups?  3 more stops and a day late?  Fantastic!', \"I'm at @Delta Sky Club (East Elmhurst, NY) http://t.co/jjgTwFNGc9\", 'Standard call from @Delta this morning to say flight was canceled.  Every time!  The way they do business would be \"malpractice\" in medicine', 'The @americaneagle terminal at #lax is just depressing! Reminder to self: always fly @delta to msp', \"RT @radiominutotwit: El viatge d'una maleta des d'Atlanta a Nova York amb la companyia @Delta Bon vídeo! http://t.co/3Sar40Ol4L\", \"@Delta Hey, are y'all hiring?\", 'I know all of the flight attendants on @delta', 'didnt miss my flight. thanks for holding the door, @delta. #thatwasclose', 'So now @Delta takes no responsibility for golf clubs unless they are in \"the coffin\" shell case #medallionmember #urwelcome #stillhadtopay35', '@Gogo is there any #promos for my @delta flight laxdtw sunday?!', \"@Delta @KoreanAir_KE What's the point of having a codeshare if I no longer get MQMs for my flights to BKK? Might as well fly @staralliance.\", 'All ready for our @Delta @DeltaAssist flight to #NYC http://t.co/pOolGEQRxo', \"RT @CNNTravel Siri's identity revealed -- and she's a voice of @Delta too! http://t.co/J23CJBZ8jK  #ATL24\", 'Molt curiós!!! ;) @mdolors @radiominutotwit @Delta', '@skyteam all over the place..@Delta first in line :) love this pic http://t.co/WvNABQnE9V', \"@jordivisit Em fa por mirar-me'l! XDD @radiominutotwit @Delta\", \"“@radiominutotwit: El viatge d'una maleta des d'Atlanta a Nova York amb la companyia @Delta Bon vídeo! http://t.co/QgswfNNhVT”\", \"El viatge d'una maleta des d'Atlanta a Nova York amb la companyia @Delta Bon vídeo! http://t.co/3Sar40Ol4L\", '. @Delta Air Lines CEO: No impact on #travel by government shutdown http://t.co/uKvKy6bg2j', \"That's NOT nice @Delta You just jacked up the price of a ticket to #DCA #Reagan National by $110 #ObamaCare #WWIIMemorial #SpiteHouse\", 'RT @ProductPoet: Paying it forward', 'ears flowing like a faucet', 'ever turn a cheek. #haik', '', 'yezdance @deltafaucet @delta', '@ScanSnap @Delta @slashgear #paperless - Join 4th #WPFD World Paper Free Day http://t.co/2O6eYDGeap - Oct 24, 2013 http://t.co/HVbK3hufIr', '.@Delta seems to be the carrier of choice for MLB Postseason. Future World Champion Oakland @Athletics chartered DL8892, a B752 to Motown!', 'RT @theteesmith: just saw @TAshley30', \"he was hilarious! but she STILL doesn't have her bag\", 'Delta get on that! she needs her bag!!', 'RT @Kogglogs: @Delta are awesome! When I arrived in #Denver,  they gave me this cool shirt &amp; toiletry pack in lieu of my suitcase. http://t…', 'RT @Stephen13George: @TAshley305 you were HILARIOUS! @Delta @DeltaAssist SHE NEEDS HER LUGGAGE!! SHE DID THE SHOW IN UNDIES!! HELP HER NOW!', \"Didn't notice till mid flight. Wtf is wrong with the kids parents, TSA, @Delta. My stepkids r 11 &amp; 13. We always get a pass to walk them in.\", '@Delta are awesome! When I arrived in #Denver,  they gave me this cool shirt &amp; toiletry pack in lieu of my suitcase. http://t.co/mt61RwZDYN', '@Delta about time to retire this bird #as5320 http://t.co/AQrupMUDCw', 'Julianne Moore for feck sake Riccardo Tisci needed to @Delta Dash you this SS14 baby. http://t.co/UFJXz0gAli #Givenchy #Carrie', 'Yo @Delta that flight from #LA to #ATL tomorrow is gonna be empty!!!! #Dodgers #Braves', 'It would be nice if @Delta or @USAirways could find our luggage. I likes this outfit, but not enough to wear it for a week.', '@Delta thank you for 4 flights with great customer service. Keep up the good work.', 'Sweet! A #glutenfree snack from my fav spot @lyfekitchen on our @delta flight. http://t.co/J1TG4vsbRq', 'Not sure why we received it, but thanks @delta for the upgrade to biz class on tonight’s flight.', 'RT @TripIt @Delta’s automated passport machines are up and running today at JFK International http://t.co/RsBXE44unV @TravlandLeisure', '¿Es posible que sólo queden estos asientos disponibles a falta de 1 semana para el checkin? Buff @Delta @DeltaAssist http://t.co/OgSmS5VBuP', 'No entiendo cómo funciona @Delta: Me dicen que faltan 6 días para el checkin online pero ya se puede reservar asiento y sólo quedan 4.', 'Just got my @AmericanExpress @Delta Gold card in the mail. I was offered 50k Skymiles after $1k spend in 3 months, so kinda had to say yes.', \"@tom_hart @Delta The Sheraton/Hilton/Westin or wherever you're staying at LAX is apparently calling your name for another night.\", '@tom_hart @Delta or pants', \"RT @tom_hart: Donny Ballgame is the Honey Badger when it comes to my @Delta flight tonight. He don't give a shirt if I miss it.\", \"Donny Ballgame is the Honey Badger when it comes to my @Delta flight tonight. He don't give a shirt if I miss it.\", 'Blue Jean Soul http://t.co/tGavGEmlXM @JetBlue @Delta @AmericanAir @USAirways @SouthwestAir @travelocity', 'Had the worst customer service experience on @Delta today. No 1 is helpful there! Delta, teach your employees manners, tact, &amp; how to smile!', 'I actually watched an airplane safety video all the way thru. @Delta airlines  bc they clearly put effort in it.', 'I wonder if @delta flies to the moon', \"Bummer, @Delta broke a souvenir that I bought for @FilthyHound but it's going to cost more just to drive back to MCO than it's worth.\", \"@DOMENOMUSIC @Delta yea that's not cool dude\", \"@Delta @DeltaAssist I lost my iPad on flight 80 from LAX to ATL, I've filed a claim but any help would be greatly appreciated\", 'So after a suuuuper long day of traveling....my luggage ends up in Detroit. Super not happy with @Delta right now :( #justwantmybed', 'There is no other airline like @Delta', \"My dad flew @Delta internationally recently and loved the service and people. Can't wait to jet set with them too!!! ★★★★★\", '@TonyCruz22 @NO_Airport lucky dog! just getting boarded at #jfk thanks to @Delta', '9-Year-Old Outsmarts the TSA http://t.co/V8UQsBRcLg via @YahooNew', '', 'c: @delta', 'RT @DrunkBoysBBQ: @JustinDwyer thats the reason @delta  has flights on the hr evry hr 2 laguardia from atl cause we cant get u fukrs outta …', '@JustinDwyer thats the reason @delta  has flights on the hr evry hr 2 laguardia from atl cause we cant get u fukrs outta atl quick enuff', '@Delta - Not happy that nonstop MCO-BOS flight I paid for was rerouted w/a stop in Detroit. @DeltaAssist can anything be done about this?', 'In-flight wifi is the best. When will you get chargers put in under your seats though, @delta?', \"I'm currently on VX413, my feedback is that Gogo keeps getting worse &amp; worse.  Lost connection &gt; 25x. :( @Gogo @Delta @VirginAmerica @amazon\", \"Gave @Delta a chance, huge mistake won't happen again!! Apologies @united @FlyFrontier @SouthwestAir won't doubt you again\", 'ugh do not book flights with @Delta! The price to change my flight is the same as buying a whole new flight. $200 change fee is crazy.', '@Delta Would u like to sponsor a very important charity by donating 250 tote bags for our upcoming NYC event? http://t.co/P026INFYk8', 'Delta MQD Now Displayed on http://t.co/hm7NSt92Oz http://t.co/d0UjV0xyzC why is @Delta complicating an already ridiculous system?', 'just saw @TAshley30', \"he was hilarious! but she STILL doesn't have her bag\", 'Delta get on that! she needs her bag!!', \"“@Stapleton831: Thank you delta! I didn't want to go home tonight anyways...” @Delta\", \"RT @airlinegeeks: A sad day for DC-9 fans: @Delta's last DC-9 flight will be from ATL-CLT on the 5th of January. #DC9LastFlight\", 'RT @cjmcginnis: \"#Travel demand is strong all over the world at the moment,\" says @Delta CEO Richard Anderson http://t.co/kzCazytFDm', '@Delta really needs to step their game up with the International Wi-Fi!', '@TAshley305 you were HILARIOUS! @Delta @DeltaAssist SHE NEEDS HER LUGGAGE!! SHE DID THE SHOW IN UNDIES!! HELP HER NOW!', 'Very satisfied with the customer service of @Delta.', '@Delta part of the plane fell and hit me in the head twice. Flight 4163 Tonight seat 11a. Might wanna fix that. http://t.co/8rRalDDbm1', '#waitingagain @mspairport on @Delta only 1/2 hour delay 2nite #yay', '@BWJones @Delta @Boeing #Asia - the former Northwest routes.', '@Delta sends me email about making their London flights more smooth... Like stop tempting me and let me go back to LA first!', 'Paying it forward', 'ears flowing like a faucet', 'ever turn a cheek. #haik', '', 'yezdance @deltafaucet @delta', 'An @delta liveried @boeing 747. Need to find out which routes they fly and go for a ride. http://t.co/Zml2jQUBMq', 'Hey, @Delta, you suck and this is why I never book my flights with you - 3 hour delay and still no plane.  #flight3304 #jfk #msy', 'RT @yezdance: @ProductPoet @Delta my did I make a boo boo?  Twas the faucet folks who were so good   and helped me when no one else would o…', 'RT @ProductPoet: @yezdance: The faucet or the plane, which @Delta is it, to fly or to wash, which gave you a chit?', \"Suppose to be departing now, but won't be leaving for another 20 mins. Come on @Delta #tiredtraveler #justwanttobehome\", '@ProductPoet @Delta my did I make a boo boo?  Twas the faucet folks who were so good   and helped me when no one else would or could.', '@PeterSGreenberg legacy airlines? @AmericanAir @united @Delta @USAirways ??', 'Thank you to the @Delta agent who rescued my forgotten wallet from the plane!  You saved my night!!!  #imadork http://t.co/NBRuMrlKxw', 'Would You Give @Delta Your Twitter Handle? - Jeffsetter Travel Blog http://t.co/Y2jc3VggDG', 'All booked on @delta for my first class trip to Atlanta!', \"@MrDrewScott @Delta @MrSilverScott thanx,guys!That's the funniest thing I've seen in a long time.Jonathan u look positively demented\", '@Delta  way to lie re 3395 was delayed. gate says weather, but pilot says mech at MSP. F-ing worst flight ever. @DeltaAssist', 'Airbus 9-mth orders top 1,000 aircraft, beating target http://t.co/GvoRUItUJQ via @reuters @AirbusInTheUS @Airbus @Delta #bizav #business', 'Come on @Delta I just want to get home to my babies and you keep delaying my flight', \"@JasonBacke: Dear @Delta, the moment I walked into FLL terminal 2 I've had an #amazing experience! From check in to flight attendants -  ...\", \"@AmericanAir Hope @Delta under performs at your level. Hopefully their navigation system won't go out over the Atlantic ocean as yours did.\", 'RT @AirlinesDotOrg: .@Delta CEO says government shutdown has had no effect on air travel demand. http://t.co/FfIv82VGXV @DallasNews #airlin…', 'Is @Delta doing \"casual Mondays\" because of the #shutdown? I don\\'t understand.', '@yezdance: The faucet or the plane, which @Delta is it, to fly or to wash, which gave you a chit?', 'Look and learn @AmericanAir, @Delta, @alitalia. #emirates #economy class #JFK - #MXP. http://t.co/paGdOyTZC2', '@Emirates #B777 #economy class #JFK-#MXP. Why fly @AmericanAir, @Delta, @alitalia!? #PaxEx http://t.co/KeYsrXfx0M', '@Delta @SouthwestAir Is there are legitimate reason why electronic devices must be powered during takeoff? Seems antiquated #boycottingnook?', 'But of course I still feel safe at MSP Airport flying @Delta to Las Vegas  #SorryNotSorry', \"Let's go @Braves bring the @Delta jet back to ATL tonight for game 5!! #FearTheChop #postseason\", \"i like the new American Airlines commercial, but it's not enough for me to leave @Delta\", 'RT @AirlinesDotOrg: .@Delta CEO says government shutdown has had no effect on air travel demand. http://t.co/FfIv82VGXV @DallasNews #airlin…', 'Welp, staying in Minneapolis for the night but @Delta put me up in a hotel and gave me food vouchers.  #goodstuff', '8:24. Now boarding my 7:08 @delta flight. #gottaloveflying', '@DannyBarenoize Fucking @Delta', '@Delta how about direct Athens flights @AthensAirport this winter? And @AmericanAir  , @UnitedAirlines u too!', 'RT @TripIt: .@Delta’s automated passport machines are up and running today at #JFK International Airport: http://t.co/XOCa9X2Ws9 via @Travl…', 'had to get my @Delta flight re-routed 3 times today and was denied any kind of compensation!!', 'OMG, got flight re-routed, got on that one and we had to get off that before take off due to electrical fault! wow @Delta shocking!', '@e_russell - More than a year from my recollection.... I fly @Delta from LAX  weekly and I definitely confirm my gate before arriving...', 'Just a million iPads (wifi for free on them) at my layover in Minneapolis. @Delta really stepping their game up. http://t.co/Nneufahdmg', 'Well hey there Atlanta @delta #windowseat #delta #atl @ Up http://t.co/nvQyUwZa0H', 'Hey @delta &amp; @DeltaAssist not cool - no hotel voucher &amp; no red coats assist @ DTW need help center - am I stuck in hotel overnite?', 'RT @TripIt: .@Delta’s automated passport machines are up and running today at #JFK International Airport: http://t.co/XOCa9X2Ws9 via @Travl…', '@TripIt @Delta @TravlandLeisure is that different from global entry kiosks?', \"Flew @Delta from ATL 2 SLC. No TV, No wifi. No food WTH???  4 flights to and from. Nothing. I'll b on @FlyFrontier next time.\", 'Made it to Minneapolis &amp; almost had to spend night here. @Delta saved the day &amp; booked me on a diff airline. Should get to PDX at midnight.', \"Dear @Delta, the moment I walked into FLL terminal 2 I've had an #amazing experience! From check in to flight attendants - all exceptional!\", '@KimberlyTaylor @Delta I am going to say, not Atlanta', 'RT @TripIt: .@Delta’s automated passport machines are up and running today at #JFK International Airport: http://t.co/XOCa9X2Ws9 via @Travl…', '.@Delta’s automated passport machines are up and running today at #JFK International Airport: http://t.co/XOCa9X2Ws9 via @TravlandLeisure', 'Hey @Delta! If you cause me to be late to my layover flight home and I have to stay in an airport overnight, at least pay for my dinner', 'My third attempt at an ATL-bound @Delta flight today. Who wants odds on where my bags end up?', '@Delta pilots can fly fast!!! Swear they just saved us 45 min and got us on the connector', \"I'm at @Delta Sky Club (Nashville, TN) http://t.co/efPLcLoIKC\", \"RT @AlecMapa: A 9 year old boy stowed away on a @Delta  flight to Vegas. So what I'm hearing is, I have a chance of getting away with this …\", 'RT @Delta: We’re launching up to 9 daily flts b/t #NYC area &amp; #LHR w/ @VirginAtlantic! New sched starts 4/1 but you can book now http://t.c…', 'Made it finally to new York...to bad @delta sent my bag to Milwaukee! !', \"After a botched rebooking by @Delta,I'm stuck in StL all night,12hrs,until the next plane @ 6am. Seeing @joemanganiello is now in jeopardy.\", '@richardmaspero @Delta Enjoy bro.', '@Delta we arrived yesterday from atlanta flight 131 and all our luggage was wet! We dont have any dry clothes!', 'Flew @Delta from SFO to ATL recently and had a great experience! I was injured and needed wheelchair assistance. Crew was helpful. Thanks!', 'RT @emmyrossum: Fangirl-ing!! So starstruck to meet @tysonchandler just now at the @Delta party!! @nyknicks #pinchme #Knicks #nba http://t.…', \"And I'm giving them back a seat one way! From one of the biggest delta hubs in the world?!?!?! #skymilesmyass @delta\", \"I hate @Delta. It's cheaper to buy a completely new flight from another airline, then it is to change 1 part of my flight.\", '@Delta for @TAshley305', 'Best of luck to @HughAcheson and @chefhopkins! @Delta @FoodAndWineMag Cabin Pressure Cook Off. http://t.co/X738jFoVyP', 'New @delta sheep commercial: nothing like comparing passengers to farm animals', '#Airline rebooking fees are pushing $200 domestic to $300 international on @Delta - ouch! #PaxEx #Fail @PeterSGreenberg', '@Delta Hey not impressed lose my friends luggage then get smart say shop but be reasonable, find her luggage, flying to FL spring Delta NOT', 'Finding a healthy meal at the airport... Almost as easy as departing on time with @delta #badluckflightday #ineedgreens', \"@Delta awful awful - delayed with no communication. People just getting off &amp; on the plane. Where's order &amp; structure? #delta #awful\", 'The pilot on my @delta flight personally walked my guitar to the guys loading luggage to make sure it was taken care of. Awesome sevice', 'Ck ck \"@BBC_Travel: 9-year-old boy fools @TSA &amp; @Delta, flies to #Vegas alone, without ticket. http://t.co/VXC2ansSWp @gadling #BBCinbrief\"', \"Could have spent the last 3 hrs with my family who I rarely see, but instead I'm sitting in TYS praying my flight isn't cancelled thx @Delta\", '@BBC_Travel @TSA @Delta @Gadling , but if a kid sneaks in, the end. My fear is terrorists could use little kids for their own purpose.', '@BBC_Travel @TSA @Delta @Gadling Unaccompanied minors are physically handed over from guardians to the airline staff. This procedure is good', '@belk @Delta Can you please tell me if company is still participating in the Delta sky miles shopping program? http://t.co/Rsmzo0jAOc', '@Delta gave me a part for fre', 'an`t beat them for a good compan', 'ProductPoet may also give them a boost', 'elta has good products produced', 'I\\'ve spent over $8000 dollars w: @Delta this year however that doesn\\'t guarantee me the seat I purchase if a \"better customer wants it', \"@Delta Please improve your customer service.  I fly Delta almost every week and can't believe the service I received today. Just horrible.\", '@ogiovetti @KLM @Delta http://t.co/BAM6xrIDHx', \"@Delta @DeltaAssist Bag was sent to Burlington, flight was cancelled. On to Syracuse in the am. That's closer right? #whyisthissohard\", 'RT @Gogo: Using @Gogo on a @Delta or @VirginAmerica flight before 10/31? Give us your feedback for a $250 @Amazon gift card http://t.co/8Z8…', '@Delta  Cecelia at Delta helped me with a faucet problem and gave me a part at no cost. Delta is sooooooooooo great.', '@PIX11Narmeen @DeltaAssist @Delta but a 9 year old flies for free', 'RT @Gogo: Using @Gogo on a @Delta or @VirginAmerica flight before 10/31? Give us your feedback for a $250 @Amazon gift card http://t.co/8Z8…', 'RT @TedVincent: @Delta where is @TAshley305 bag?  This is why nobody likes you.', \"And now @KLM/@Delta is playing Robin Thicke. I feel like they're just trying to mess with me now. #jofjiwaofrjwiaorf\", \"I bought a business class ticket, but #delta ( @Delta ) doesn't see a need to honor that.\", 'Fly @Delta if you want poor service and a coach seat when you buy a biz class ticket. Not to mention the rudest flight attendants in the biz', \"Arrested Development on the @delta TV's right now. Oh how I've missed you, Buster Bluth. http://t.co/sjiCxaF6Nx\", 'Hours spent so far on the phone with @KLM/@Delta: 1.5', 'RT @BBC_Travel: 9-year-old boy fools @TSA &amp; @Delta, flies to #Vegas alone, without ticket. http://t.co/qVofoqwyjT @gadling #BBCinbrief', '@DinaBrown32 @Delta I hope so!! I already have a Delta flight booked!', 'After all that, @KLM/@Delta sends me my new ticket and they GOT THE NAME WRONG.', 'RT @BBC_Travel: 9-year-old boy fools @TSA &amp; @Delta, flies to #Vegas alone, without ticket. http://t.co/qVofoqwyjT @gadling #BBCinbrief', 'Cool luggage tag from @Delta #BreastCancerAwareness http://t.co/wnrvB1PuIv', \"Finally, our aircraft has arrived in NYC. It's only two hours past my original boarding time, after all. #DL3513 @delta\", '@CBSEveningNews @Delta I wonder what the heck a nine year old wanted to go to Vegas for?', 'RT @BBC_Travel: 9-year-old boy fools @TSA &amp; @Delta, flies to #Vegas alone, without ticket. http://t.co/qVofoqwyjT @gadling #BBCinbrief', 'RT @BBC_Travel: 9-year-old boy fools @TSA &amp; @Delta, flies to #Vegas alone, without ticket. http://t.co/qVofoqwyjT @gadling #BBCinbrief', 'RT @BBC_Travel: 9-year-old boy fools @TSA &amp; @Delta, flies to #Vegas alone, without ticket. http://t.co/qVofoqwyjT @gadling #BBCinbrief', '@Delta @DeltaAssist All of these itinerary changes are crazy! 1 flight arriving at 9p now 2 arriving at 11:40! Gah! Just want to go to #sswr', 'Just got bumped to first class from @Delta @DeltaAssist #winning #thisistheonlywaytofly', 'RT @BerBRB: #FF  @CindyAusMarzahn @Cut_The_Rope @CustomsBorder @USDA @DHSgov @DellU_ME @DellHomeUS @Delta @NHLFlyers @BillShieldsTX @Tshehl…', 'Photoset: So glad to have @KumaSnowCream from @jettila before flying home on @delta (Rocking the medium size... http://t.co/LekeMetXfa', 'Wifi on planes is such a mixed blessing but @Delta can be counted on for productive flights.', 'Nashville: where all @Delta planes go to break down. #twooftwo', 'So sorry - what happened to \"helpful\"? @ogiovetti @KLM @Delta', '@isaias_nyy @airlineguys @delta They are fun to stare at! http://t.co/isPjj9if3u', '@Delta LGA Terminal C is a light-years win over the former experience.  High-end food and drink options, lively music, wide open spaces.', 'RT @BBC_Travel: 9-year-old boy fools @TSA &amp; @Delta, flies to #Vegas alone, without ticket. http://t.co/qVofoqwyjT @gadling #BBCinbrief', '9-year-old boy fools @TSA &amp; @Delta, flies to #Vegas alone, without ticket. http://t.co/qVofoqwyjT @gadling #BBCinbrief', 'Just get me to Charlotte @delta', '@pichetong @TheHungryTiger @DuckDynastyAE @Delta amazing', \"@Delta I need to change a reservation for my family.  I don't think I should pay for 4 change fees! The fees cost more than my ticket. $800!\", \"@TheHungryTiger @ad454 @DuckDynastyAE @Delta  OMG it's like #real ity http://t.co/ud2Xm0ZvwC\", '@DanteoftheWest @Delta yeah! Talk about shitty \"customer service\"...', '@lucyschaufer @KLM No wonder: I got the @Delta hotline versus @KLM. Nightmare.', '@BC_Durbin @SouthwestAir @AirTran economy airline, economy service. @Delta just got a new loyal customer', '@Delta &gt; @united', '@cdjames @Delta since we started selling them!', 'Woo, earlier flight for free!  Thanks @Delta!', '.@delta nice choice on keeping things healthy with @lyfekitchen http://t.co/npGoW7Pq7m http://t.co/CGoT2zMYxk', '“@maricelaluna: Reactiva @Delta vuelos directos Bajío -Atlanta y Bajío-Los Angeles/ora vamos a los Universal Studios !!!!!!', \"Amazingly, my flight out of LaGuardia looks like it's on time after all! Great job @Delta\", '@Delta Little wacky on the website :: http://t.co/QOrQwtWpAM', '@CBSEveningNews @Delta How? One word - Minnesota', 'Sitting here in Cincinnati stranded at the airport cause @Delta cancelled my flight because of a tornado FML', \"Delayed flight! I really hope I don't miss my connection to SFO @Delta\", 'Having an awesome time being stranded at #DFW. Now that #LGA is OK my 4:30 @Delta flight is further delayed until 8p for maintenance.', '@FriscoFoodie @Delta Cuz the freaking planes are SO OLD!!!! @Delta Get some new planes!', 'Getting the news you need to be on a flight in 4hrs: meh.  Finding out you got the first class upgrade: ok that helps... @delta', \"There's a total douchenozzle on the phone yelling at @Delta customer service because his aisle seat is one row back. Keep climbing, bro.\", 'Why the ash tray? Seems like a dare @Delta http://t.co/Y2M01rWsOk', 'RT @CBSEveningNews: How did a 9-yr-old pass through security and get on a @Delta plane to Las Vegas without a ticket? Dean Reynolds reports…', '@Delta What will be the first route for the first 737-900ER? #delta #boeing', \"16 hours in worst economy class ever (@Delta), then back in SA. #PresCup was great! Last USA trip this year is over, but I'll be back soon!\", \"I don't know why everyone is giving @Delta a hard time about the 9-year-old stowaway ... Um what about the TSA? That's the bigger problem!\", \"I'm not surprised this 9-year-old snuck onto a @delta flight. My son basically did the same thing a few weeks ago.\", 'RT @CBSEveningNews: How did a 9-yr-old pass through security and get on a @Delta plane to Las Vegas without a ticket? Dean Reynolds reports…', 'How did a 9-yr-old pass through security and get on a @Delta plane to Las Vegas without a ticket? Dean Reynolds reports. #EveNews', 'I hate @Delta so much, $200 change fees are total bullshit. Sticking with @SouthwestAir for all future travels. Got screwed this time', \"RT @airlinegeeks: A sad day for DC-9 fans: @Delta's last DC-9 flight will be from ATL-CLT on the 5th of January. #DC9LastFlight\", 'Reactiva @Delta vuelos directos Bajío -Atlanta y Bajío-Los Angeles http://t.co/WdAXOOXV5A', '@Delta thank you - the staff at Lost &amp; Found contacted me after filled out online form - getting e-reader back :-)', \"@AfternoonNapper @stales @jodyms @Delta if the proceeds are going to a legit cause I'm ok with it\", 'Hey, @DeltaAssist @Delta, an hour delay of our flight, a full hour on the tarmac, and now chilling out on the tarmac AGAIN in Maine? Boo.', \"Seriously @Delta? ! You lost my bag?! 1.5 hr layover &amp; you couldn't get a priority tagged bag to the next flight?! #rage #rahhh!\", '+1 to the @Delta gate agent with a sense of humor in MSP: \"we have a new policy of actually checking your boarding passes.\"', 'I’ve used @gogoinflight twice in the last 4 days and it’s felt slower than my last @delta flight a few months ago. Status: #sluggish', '“@magankeith: Dear @Delta please get my husband home safe soon. These flight delays have been ridiculous today!!!” // AGREED!!', 'I like the old @Delta video too http://t.co/FFpoQXIBF1 #astdatl', '@Delta safety video- example given by @markmyette #astdatl http://t.co/EXGLwAiH5E', '@Delta at the gate for my flight and every comfort seat is open. I ask the gate agent what happens if no one buys.. They stay empty.. Thanks', 'A big thank you to the @delta crew flight 489 for the excellent service #deltawhereservicemater http://t.co/6AYXLgTMAT', '@AudiUpdate that was in a @delta #sky magazine a few months ago...', 'RT @cjmcginnis: \"#Travel demand is strong all over the world at the moment,\" says @Delta CEO Richard Anderson http://t.co/kzCazytFDm', '@seacoastrunner I am assuming my next @Delta flight, the security will be much tighter! ;)', '@brijh @kare11 @Delta Now you know they are throughly embarrassed that', 'y/o accomplished all of that. I would be camera shy too.', \"@corbett3000 had to pay exactly that for a change today on @Delta. Change! Not like they're losing money on my reservation. They're thieves!\", \"Apperantly one of our engines didn't start properly on @Delta flight from @TLV to @NY. But I don't see how this could possibly go wrong.\", 'RT @pichetong: You want one of these @DuckDynastyAE #book for @Delta #vegas to #JFK @TheHungryTiger ? http://t.co/GUFqr2aEnU', 'RT @corbett3000: The @usairways cancelation fee on a $330 flight is $200. Where do you get off stealing from people like that? &lt; And @delta!', \"RT @airlinegeeks: A sad day for DC-9 fans: @Delta's last DC-9 flight will be from ATL-CLT on the 5th of January. #DC9LastFlight\", 'Trapped at LGA for over 4 hours due to @delta delays. Is there some form of \"Travel Bingo\" I should be playing?', 'You want one of these @DuckDynastyAE #book for @Delta #vegas to #JFK @TheHungryTiger ? http://t.co/GUFqr2aEnU', '@Delta @DeltaAssist @SusanGKomen how about a RT??', 'Our $.02 on @Delta’s Expansion at Alaska’s Home Base #airlines http://t.co/NqW7JSVKB1 via @AirlineReporter', \"What's up @delta I will take that upgrade! #firstclass #itsanhourflightbutstillprettysweet\", '@NoPhux2Give2U So, our Airport Peeps would not speak to @kare11. @Delta released a statement, yet, camera shy on 9 y/o. #MSP ✈', 'Dear @Delta please get my husband home safe soon. These flight delays have been ridiculous today!!!', '@Delta @DeltaAssist dl17 is not a flatbed and community tv again.  Thanks for bait and switch.  No power too http://t.co/P0JIfP8L1l', \"WHAT?!?! Free @SierraNevada on a @Delta @Compassairlines flight? This passenger couldn't be happier...\", 'thanks @Delta for changing my flight for the 100th time. now I have a connecting flight and get back home 2 hours later. #DeltaIsTheWorst', \"@stales @jodyms @DrAttai Was #pinkwashed on my @Delta flights but glad to see they're not attached to Komen.\", \"RT @Rymo63: Great feature on @pointreyes by @cheezelady n @Delta 's SKY Magazine. Mentions @CowgirlCreamery @PointReyesBooks etc http://t.c…\", 'cont. Interesting approach by @delta to measure #customer satisfaction by empowering the consumer to judge if the  associate provided value.', '@Delta  @DeltaAssist #pinklemonade supporting the cause #BreastCancerAwareness @SusanGKomen http://t.co/LZ3dRDGTeV', \"Note to @delta and @DeltaAssist  there is NO need to put an arm rest in A or F of the 757 exit rows.  I have no F'in room!!!\", \"Just had a @LYFEKitchen snack on @Delta @Compassairlines flight to #SanFrancisco - talk about legit! Free beer doesn't hurt either. #posh\", '@Delta Thank you to your pilots, attendants, &amp; gate agent (funny guy) for making my most recent trip (ORD--&gt;LGA roundtrip) enjoyable.', \"@airlineguys @airlinegeeks @Delta Boooo, sadly the MD's are right behind them too.\", 'Boarding @Delta  2291 to #Cleveland.', \"RT @Rymo63: Great feature on @pointreyes by @cheezelady n @Delta 's SKY Magazine. Mentions @CowgirlCreamery @PointReyesBooks etc http://t.c…\", '@lionelhutzskis @Delta ouch!', 'So sad @Delta cust svc agents at PHL offered anything but this afternoon! #patience Thru these moments we learn our resolve #trialbyfire', 'New @United MSP-LAX flight takes aim at @Delta: http://t.co/aiItJma49l', \"RT @Rymo63: Great feature on @pointreyes by @cheezelady n @Delta 's SKY Magazine. Mentions @CowgirlCreamery @PointReyesBooks etc http://t.c…\", \"@Delta @DeltaAssist UI issue when buying PB + Wifi. Looks like $21 each direction. Can't buy PB for connect flights. http://t.co/iTyBMS3trE\", '@airlinegeeks No more loud roaring takeoffs! @Delta', \"RT @airlinegeeks: A sad day for DC-9 fans: @Delta's last DC-9 flight will be from ATL-CLT on the 5th of January. #DC9LastFlight\", 'Departure is certain. Thanks to @Delta for the scramble to get me home despite ground stops and weather. http://t.co/4OE69yXSUS', '@Delta  Stuck enroute to Philly due to weather, Ground stop. Kudos to Captain Allen Praff for info and greetings up &amp; down the aisle.', 'Grounded due 2 mechanical issues on @delta flight. Called agent. Survey asked \"On a scale of 1-to-5 would u hire this person?\" #consumerism', \"A sad day for DC-9 fans: @Delta's last DC-9 flight will be from ATL-CLT on the 5th of January. #DC9LastFlight\", 'First time ever flying @Delta. Obviously MSP-San Antonio would be delayed at least 30 minutes.', '@Delta flight DL928. Send the male flight attendant to conflict management class. Pretty hostile towards passengers.', '@Delta Flight 6062 has been sitting in CLT for the past 30 minutes waiting on a gate. Are there no other gates you can send us to???', 'After a run of very very good luck on @delta flights I seem to have hit a rough spot. Going on 7 hrs of delays in last two tries. #baddelta', \"Holy crap, Delta has semi-affordable beer that you can take and drink at the gate? Why aren't they advertising this more? @Delta\", 'This is why I hate flying @Delta out of LEX. The planes are literally taped together http://t.co/UGQVqtL9gr', \"Frustrated!! Don't understand why @Delta wants to charge me over $500 to switch to a flight that has more seats available then my current 1.\", '@Delta free wi-fi for pre-boarded delays would be fantastic #hinthint', \"Yup. That's right (at @Delta Sky Club) http://t.co/CJ5NsfWIhL\", \"@gogo ATG4 can't come fast enough. 2 @delta flights with crappy internet connections. Need to keep up with demand. Unacceptable service.\", \"After a 2 hr layover, my flight was delayed an hour. Just before takeoff, we learn it will be another 2, and we're stuck on the plane @Delta\", \"Booked a flight for two non-stop to Orlando for only $217 each with @SouthwestAir from MEM. Nice! Couldn't do that with @Delta\", 'My flight was cancelled wow. Thanks a lot @Delta ... Now layover in Atlanta! Ughhhhh', 'RT @LaLaLa_Lita: Way to have the worst service in America @delta.', 'RT @AirlinesDotOrg: .@Delta CEO says government shutdown has had no effect on air travel demand. http://t.co/FfIv82VGXV @DallasNews #airlin…', '@e_russell @lwhiteman_TD @Delta Except to mention that AAG would be a formidable competitor if approved, which contradicts DOJ view.', \"Thanks @Delta for the extra seatbelt material. Can't be too sure.  God bless America! #waistlinesecurity http://t.co/n6WtBwwRlj\", 'Thanks @Delta for the in-flight entertainment on our 4hr 50min flight from DTW to SFO.  #butigotpeanutsthough http://t.co/OwCtX3ycQS', \"@fuhdawin @Delta Apparently now it's because of weather, but if flight had left at original time would have missed storm!\", 'Follow back pls @Delta', 'I live in the #delta hub city, but yet @delta SFO employee decided to give me a bad experience! Very disgruntled customer today!', 'RT @AirlinesDotOrg: .@Delta CEO says government shutdown has had no effect on air travel demand. http://t.co/FfIv82VGXV @DallasNews #airlin…', \"Never experienced such distaste before a @delta flight!The lady knew she was wrong and didn't make no one size there bags however chose me!\", 'RT @AirlinesDotOrg: .@Delta CEO says government shutdown has had no effect on air travel demand. http://t.co/FfIv82VGXV @DallasNews #airlin…', '@Sam_Ponedal @Delta Complain to them! Southwest basically delayed my flight for no reason! I complained and got an apology and $75.', '@delta I was singled out over my carry bag at SFO airport! Forced to pay 25$ when others clearly had same size if not bigger Carry on bags!', 'RT @AirlinesDotOrg: .@Delta CEO says government shutdown has had no effect on air travel demand. http://t.co/FfIv82VGXV @DallasNews #airlin…', \"Only in Vegas! How did boy, 9, get on @Delta flight w/o ticket? (Helps that flight wasn't full)   http://t.co/3r6LsKPKLB\", 'I am a very unhappy frequent flier with @Delta today!! I was singled out over my carry bag at SFO airport! Forced to pay 25$ discrimination', '.@United’s new seat + @Delta dumps SFO-NRT + New Star Lounge at LAX http://t.co/014IuoCBzX The BAT!', '@DeltaAssist @Delta Was reminded today that air travel is no joke.  Was one tough flight into Philly.  Grateful to be on land once again!', 'Come on @Delta!  Get my man home!!', 'RT @AirlinesDotOrg: .@Delta CEO says government shutdown has had no effect on air travel demand. http://t.co/FfIv82VGXV @DallasNews #airlin…', '@DeltaAssist help! Currently in flight w/ award tix (me &amp; girlfriend) &amp; will miss connection. Need to be rebooked on same flight. @Delta', 'RT @AirlinesDotOrg: .@Delta CEO says government shutdown has had no effect on air travel demand. http://t.co/FfIv82VGXV @DallasNews #airlin…', 'RT @NuanceDrew: Hey @delta - Samantha N at gate A14 in YYZ is doing you proud today! Amazing service, and decked out in pink for breast can…', \"I'm at @Delta Air Lines - Flight 706 (Queens, NY) http://t.co/UTYgesGpKy\", '#StevieAwards #CustomerServiceAward #ProfessionaloftheYear Profile: Edgar Perez of @Delta http://t.co/mPZWSBhXGh http://t.co/6jpiaFHVV2', \"Great feature on @pointreyes by @cheezelady n @Delta 's SKY Magazine. Mentions @CowgirlCreamery @PointReyesBooks etc http://t.co/27QgTzErKU\", 'Quote of the day...Pilot \"remember the next time @Delta is late, this time we got you in 15 minutes early.\\\\', '', 'planes #travel #delta', '.@Delta CEO says government shutdown has had no effect on air travel demand. http://t.co/FfIv82VGXV @DallasNews #airlines #shutdown', \"@DeltaAssist @Delta If they are going to cancel DL 5886 can they just go ahead and do it while there's still time to catch a train to #BOS?\", '9 yr old boards @Delta flight in Chicago passing through 3 check points and sitting in an empty seat to Vegas. Mother never knew he was gone', '@Delta had an amazing flight from Sydney to LA! Thank you! Also, Sue at Sydney, NSW check in is amazing!!! Just lovely! :) :) :)', \"@Delta doesn't have enough agents working the baggage line in Boston and the wait is excessive.\", 'RT @cjmcginnis: \"#Travel demand is strong all over the world at the moment,\" says @Delta CEO Richard Anderson http://t.co/EEQuugRTeJ', '\"#Travel demand is strong all over the world at the moment,\" says @Delta CEO Richard Anderson http://t.co/kzCazytFDm', 'Haha! RT @Chris_Chmura:  \"I\\'m meeting a friend in Vegas. He\\'s flying @Delta.\" http://t.co/gOMSejRAcL', 'Ugh! @Delta flight to LGA was delayed an hour at DFW. Time to hit the Delta Lounge for Cabernet and power.', 'Waiting for my flight to HIB (via MSP) at STL.  Pretty sweet Aerostar van, @Delta http://t.co/zPYaP0yz7r', '@Delta just treated rudely &amp; unprofessionally at gate e67 SLC, female agent. Simply wanted ask question, turse and rushed, had \"2 (1/2)', '@LaLaLa_Lita @Delta AGREED 100%', 'Way to have the worst service in America @delta.', \"The bit I dislike about flying domestically in the #USA is that frequently you're seated in row 6, but your carry on is in row 15 :/ @Delta\", '2nd #Delta flight today w/ mechanical probs. I hope they asked if this replacement has any issues! #planahead @Delta @DeltaAssist @Stackify', 'Did you know @Delta BNA to LAX flight now leaves BNA @ 7am &amp; LAX @ 5:10pm for a 11pm return to BNA? VERY convenient for business travelers!', 'RT @roger_hutchison: @Delta @DeltaAssist On #5207 sitting in the plane in LaGuardia. Ready to be off of this plane. PLEASE send us back to …', 'RT @Delta: We’re launching up to 9 daily flts b/t #NYC area &amp; #LHR w/ @VirginAtlantic! New sched starts 4/1 but you can book now http://t.c…', '@delta great customer service today from Jerry on flight 5398 to TriCities - his service should be the standard.  Well done!', '@KwameSomPimpong @MacJordaN Rumors about Accra flight not true according to @Delta. http://t.co/BtfnapmrfY More to come...', '@MrDrewScott @Delta @MrSilverScott Love it! You always make us smile.', '@DeltaAssist @Delta what are the chances the 3pm shuttle from #LGA to #BOS actually leaves tonight? Been sitting on the Tarmac for a while.', \"@delta has THE slowest service ever. Why wouldn't you just assign a seat when I purchase my flights? #annoyed #frustrated Get it together!\", '@Delta The breast cancer awareness plane , by far the coolest plane ever , I am hoping to fly after my battle ! http://t.co/19pYxzqDch', 'RT @Microsoft: Weekend Reading: @Delta soars with @Surface 2: http://t.co/MYX0kBeyWj', \"Once again delayed using @Delta! So far they're 100% when I use them on being delayed several hours! #WorstAirline #WorstStaff #WorstService\", 'As every hour passes @Delta @AmericanAir @VirginAmerica @SouthwestAir gain a old @united passenger. So disappointed. #customerservice', \"RT @wilkinsvasquez: Latin Grammy's Mode On con @HBOatlatino y @Delta #MissRDUS #MMDUS lets have fun!!!! thatiana_diaz… http://t.co/0xOcONCn…\", 'RT @siliconchef: I assume the bar at the @delta Sky Club is playing Nick Jr. at the bar to reduce tantrums thrown by frequent flyers in Atl…', 'RT @FlyerTalk: ICYMI: 9-Year-Old #Minneapolis Boy Walked Thru Airport Security and Onto @Delta Plane for #Vegas Without Ticket http://t.co/…', \"@AndreaRussett lemme guess you're flying @Delta\", 'RT @DiegoNSanchez: DC-bound to continue to fight 4 #ImmigrationReform! On a delayed flight. No surprise with @Delta, particularly in Atlant…', 'I assume the bar at the @delta Sky Club is playing Nick Jr. at the bar to reduce tantrums thrown by frequent flyers in Atlanta :-)', '@USATOpinion #tellusatoday I think parents need to be more responsible for their children and the TSA &amp; @Delta need to check their security.', 'RT @MissRDUS: Oficial! @TheRealMissRDUS y @TheRealMMDUS estarán en Las Vegas para los Latin Grammy con @HBOatsLatino, viajando x @Delta #Mi…', \"RT @AirlineReporter: Our $.02 on @Delta's Expansion at @AlaskaAir'sHome Base at @SeaTacAirport by @bnickeson http://t.co/KfyOzgVxpg\", 'Another airline will fly to Fortaleza after @delta gave up. Flew Delta many times. Always full flights. http://t.co/WNvY8ZCFao @diarioonline', \"52 miles into my flight I'm going to become a @Delta Silver Medallion Member. One step closer to invincibility and total world domination!\", 'DONE! JFK to Salt Lake City To LAX and then to Honolulu! Thanks @Delta ! @JanePalinski', '@DeltaPoints @Delta @VirginAtlantic When hell freezes over, probably. @DeltaAssist', '@airwaysmagazine @united @Delta united will never beat @Delta out of their hubs. trust me united is going to fall right on their backs!!!!!!', \"Latin Grammy's Mode On con @HBOatlatino y @Delta #MissRDUS #MMDUS lets have fun!!!! thatiana_diaz… http://t.co/0xOcONCnbI\", \"RT @TheRealMissRDUS: It's official, I will be going to the @LatinGrammys with @HBOatsLatino &amp; @delta ! #MissRDUS\", '@airlinegossip I live in Toledo but I fly out of DTW hope they flew @Delta', 'tomorrow is my first flight ever on @Delta and its a red eye. Hoping to a nice easy flight from West Coast to East Coast!', 'RT @aldrivas: Countdown begins for the #LatinGRAMMY flying to Vegas thanks to @Delta @HBOatsLatino and of course @MissRDUS @epayano @wilkin…', 'RT @DiegoNSanchez: DC-bound to continue to fight 4 #ImmigrationReform! On a delayed flight. No surprise with @Delta, particularly in Atlant…', 'RT @MissRDUS: Oficial! @TheRealMissRDUS y @TheRealMMDUS estarán en Las Vegas para los Latin Grammy con @HBOatsLatino, viajando x @Delta #Mi…', 'RT @TheRealMMDUS: Ya es oficial voy a Las Vegas a los Latin Grammy con @HBOatlatino y @Delta #MissRDUS #MMDUS13', 'Oficial! @TheRealMissRDUS y @TheRealMMDUS estarán en Las Vegas para los Latin Grammy con @HBOatsLatino, viajando x @Delta #MissRDUS #MMDUS', 'About to board an @Delta flight to Houston for #NRPACongress, stop by the @wtiworld booth number 1038', '@Delta @aclfestival the one at T3 at JFK.', 'everytime i fly @Delta there is always a problem. shoot...should say problemS. get it together. i wanna go home. delayed since yesterday.', 'Took this this morning @Delta http://t.co/VHIFZAXwDQ', \"Missing the consistent #custserv of @Southwest as I experience the chaos of a @Delta flight. Left hand does not know there's a Right hand\", \"9seats avail and I'm 14 on standby, yeah, I think I should go get a drink and hope for the next flight. @Delta #buddypassdiaries\", '@shakeshack is now in @Delta Terminal 5 at JFK. Enjoyed a nice pre-flight meal there. #foodonthefly', 'Suddenly remember why I only fly @Delta, every single @USAirways flight in this terminal is delayed. #getittogether', \"@Delta @DeltaAssist Okay...time to send #5207 back to the gate.  Too many storms.  I'm not feeling safe.  Please.\", 'RT @amybrownSU16: We bleed orange in section 108 row L seat 103! #lovethetrainhorn #tweetyourseat @cuse @delta @miabugge http://t.co/g6iWhP…', 'You get what you pay for with @Delta. Cheap flights = consistently horrendous customer service!', 'De-boarded. Got a $6 voucher for my coffee. Now re-boarding. @Delta has actually been pretty helpful through ordeal.', 'RT @DiegoNSanchez: DC-bound to continue to fight 4 #ImmigrationReform! On a delayed flight. No surprise with @Delta, particularly in Atlant…', 'RT @aldrivas: Countdown begins for the #LatinGRAMMY flying to Vegas thanks to @Delta @HBOatsLatino and of course @MissRDUS @epayano @wilkin…', 'Countdown begins for the #LatinGRAMMY flying to Vegas thanks to @Delta @HBOatsLatino and of course @MissRDUS @epayano @wilkinsvasquez', \"it's official! I will be going to Las Vegas for @LatinGrammys with @hboatslatino &amp; @delta ! #MissRDUS\", \"Not surprised @AP. @Delta @DeltaAssist is probably the WORST airline I've ever flown. Worse than @AirTran &amp; that's saying something. #travel\", '@Delta horrible customer service! No help!! #delta', \"It's official, I will be going to the @LatinGrammys with @HBOatsLatino &amp; @delta ! #MissRDUS\", 'RT @jmspool: I can see how ATL @Delta has been greatly influenced by the techniques used to ready cattle for slaughter.', 'RT @Delta: We’re launching up to 9 daily flts b/t #NYC area &amp; #LHR w/ @VirginAtlantic! New sched starts 4/1 but you can book now http://t.c…', 'Ya es oficial voy a Las Vegas a los Latin Grammy con @HBOatlatino y @Delta #MissRDUS #MMDUS13', \"@KeithBBQMillard @Delta They're fine. Never had an issue\", 'RT @DiegoNSanchez: DC-bound to continue to fight 4 #ImmigrationReform! On a delayed flight. No surprise with @Delta, particularly in Atlant…', 'Ya es oficial voy a Las Vegas a los @LatinGrammys con @HBOatsLatino y @Delta ! #MissRDUS', '@Delta @DeltaAssist if you make us sit on a plane for over an hour on the tarmac, why not at least have free wifi?', '@Emsie_Daisy @Delta  oh my that would really REALLY suck...crossing my fingers for you', '@Delta struggling today??? Last minute delay of flight! High probability of a missed connector!', \"Fail that @Delta can't figure out which carousel has Tokyo bags in ATL. Has announced 3 different carousels.\", \"@evanmg84_evan @Delta True. But I'm afraid we won't be able to catch our next flight. Oh well.\", 'Flying @Delta tomorrow  SLC - DFW seems to becoming a regular thing.... yet to try Economy Comfort, still waiting for a 1st class upgrade ;)', 'What?@?@?@ @Delta/@DeltaAssist now lets you get a same day confirm for a new flight24 hours in advance. Best present ever!', '@dabitch01 @Delta have fun!!!!', '@Emsie_Daisy @Delta you are still pretty lucky, I have two more blasted hours :-(', '@KeithBBQMillard Tomorrow morning @Delta', '@evanmg84_evan @Delta We are just barely boarding and we were supposed to take off right now.', 'DC-bound to continue to fight 4 #ImmigrationReform! On a delayed flight. No surprise with @Delta, particularly in Atlanta.', '@Delta How long are you able to keep a plane full of people on a runway when there is a flight delay?', \"RT @AirlineReporter: Our $.02 on @Delta's Expansion at @AlaskaAir'sHome Base at @SeaTacAirport by @bnickeson http://t.co/KfyOzgVxpg\", '@NatBCo @AFARmedia @Stacey_Ebert @Delta that sounds so yummy! this chat is making me hungry haha #foodonthefly', '@incblot @Delta maybe BDSM-air.', 'Omg Delayed again till 1:30  y god y?????? @delta #djskribble @ Delta Sky Club http://t.co/PEZ0XeTODN', 'I was just hoping to spend 2 more hours in the airport, have to sprint to make my connection and no longer have a ride home. Thanks @Delta!', 'RT @NatBCo: @AFARmedia @Stacey_Ebert @Delta had a strozzapreti pasta w/ eggplant, cherry tomato sauce, &amp;ricotta on my last flight #foodonth…', \"RT @AirlineReporter: Our $.02 on @Delta's Expansion at @AlaskaAir'sHome Base at @SeaTacAirport by @bnickeson http://t.co/KfyOzgVxpg\", '@Delta Great flight to JNB. Pitty special meals not loaded. 15 hours without a meal, a bit rough. Lucky had some scraps in my bag.', '@AFARmedia @Stacey_Ebert @Delta had a strozzapreti pasta w/ eggplant, cherry tomato sauce, &amp;ricotta on my last flight #foodonthefly', '@Delta @DeltaAssist On #5207 sitting in the plane in LaGuardia. Ready to be off of this plane. PLEASE send us back to the gate.  #rentacar', '@Emsie_Daisy @Delta what delay?', \"@Delta your self check in machines are horrible. People want to deal with other people, not machines that don't work correctly.\", '@Delta -flight attendant  Charlene on 1402 ATLLAS was wonderful flight attendant -- so was the whole crew great flight on delta !!', \"Our $.02 on @Delta's Expansion at @AlaskaAir'sHome Base at @SeaTacAirport by @bnickeson http://t.co/KfyOzgVxpg\", 'RT @micheleherrmann: A1: It was more of a treat but on @Delta international flight I got an ice cream shaped as a plane on a stick. #foodon…', 'Hey @Delta thanks for being a #liferuiner. You ruin peoples lives!', \"@AFARmedia The best in-flight meal I've ever had: Cheese plate and port on a @Delta flight to Moscow #foodonthefly\", 'I better not miss my connecting flight because of this little delay. @Delta', '@Delta what is wrong with Endeavor Air. Third delay in three trips! Now DL4064! Three strikes!', 'GO @jenniparks! ✈️ @Delta #DiamondMedallion', 'A1: It was more of a treat but on @Delta international flight I got an ice cream shaped as a plane on a stick. #foodonthefly', \"Much appreciation to @Delta for waving change fees to cancel a flight due to my dad's passing.Much relief during this time /cc @DeltaAssist\", '@united @Delta @AmericanAir  have u started discussing use of electronics during t/o &amp; landing since FAA research has come out R u open 2 it', \"@chrisunwired @Delta Something was free, and I'm super grateful.\", \"I'm at @Delta Sky Club (Miami, FL) http://t.co/PTxDDNbIbu\", '@chrisunwired @Delta True. Delta gave me the inches for free when I came home in July with the ruptured disc. Or changed my flight for free.', \"@DirtyGeoffT @Delta but of you're paying extra for it...\", 'Gold elite on @Delta. 150k mi so far this yr. 20 on upgrade list. A) feel sorry for the 19 ahead of me b) care less if I make gold again', '@chrisunwired @Delta Sometimes you have to take what you can get.', 'RT @chrisunwired: Ima need more than 4 inches, Delta. “@Delta: Upgrade to Economy Comfort and enjoy up to 4 inches...\"', 'Ima need more than 4 inches, Delta. “@Delta: Upgrade to Economy Comfort and enjoy up to 4 inches...\"', 'RT @Delta: We’re launching up to 9 daily flts b/t #NYC area &amp; #LHR w/ @VirginAtlantic! New sched starts 4/1 but you can book now http://t.c…', \"I know I don't use twitter hardly ever but @Delta It would have been nice to get a response at least. No worries you just got an email!!!\", \"Very impressed by the fellow sitting ahead of me in @Delta's BusinessElite unabashedly using @Grindr as we approach JFK... #umWOW\", \"RT @AlecMapa: A 9 year old boy stowed away on a @Delta  flight to Vegas. So what I'm hearing is, I have a chance of getting away with this …\", \"@AlecMapa @Delta Me three! I'm the height of a tree stomp, finally it pays off. LOL\", '@Delta nosotros tenemos la culpa por elegir a incompetentes', 'RT @Delta: We’re launching up to 9 daily flts b/t #NYC area &amp; #LHR w/ @VirginAtlantic! New sched starts 4/1 but you can book now http://t.c…', \"@AlecMapa @Delta Sweet! Me, too... I'm about the height of a 9-year-old.\", \"RT @AlecMapa: A 9 year old boy stowed away on a @Delta  flight to Vegas. So what I'm hearing is, I have a chance of getting away with this …\", \"Just 2500 miles to go for Diamond requalification w @delta. I can almost taste the biz class entrees on next year's upgrades. :)\", \"I'm at @Delta Sky Club (Atlanta, GA) http://t.co/3b6DZd1BTY\", \"A 9 year old boy stowed away on a @Delta  flight to Vegas. So what I'm hearing is, I have a chance of getting away with this too.\", 'JFK Airport Gets Automated Passport System To Reduce Delays: http://t.co/cvRq1TjibA @CNBC @NY_NJairports @Delta #travel #efficiency', 'Sad to see the @Delta San Francisco - #Tokyo route will be dropped in Spring 2014. #travel #Asia', 'How long has @Delta been in business? How do their employees not not how to handle luggage?? @DeltaAssist http://t.co/BSUol4LqNB', 'RT @Delta: We’re launching up to 9 daily flts b/t #NYC area &amp; #LHR w/ @VirginAtlantic! New sched starts 4/1 but you can book now http://t.c…', 'RT @Delta: We’re launching up to 9 daily flts b/t #NYC area &amp; #LHR w/ @VirginAtlantic! New sched starts 4/1 but you can book now http://t.c…', 'A 9 year old boy walked through @TSA \"Security\" without #ID or a #Ticket in Minneapolis #MSP Wake-up Call @Delta Flight  Attendant found him', \"@christhile @delta all the way. You won't be disappointed.\", 'Said my goodbyes to Jonesboro, AR and now enjoying some delay @MemphisAirport with good updates from @Delta about my flight', 'Why I pick @Delta more and more.  I used to love @united ESPNCaddie: Now go wait for your carry on outside. http://t.co/Vfq1czdvfT”', \"@Delta Can I declare the expenses (underwear, socks, shirt, hair gel) I made to live 1,5 day without my luggage? It's about $50 in total.\", 'Getting our #delta @delta \"surprise and delight\" program up and running at MSP today with brand new… http://t.co/qSQnXBjYdS', '@cjmcginnis @united @Delta Let the fare wars commence! Great time for a MR before year end.', \"@therichbrooks Is that a new @Delta partner carrier? I kid! In Nashville next week for a conference, here's hoping my travel isn't impacted!\", 'RT @cjmcginnis: .@United hits back @Delta, adding new nonstops to/fr Delta hubs in Atlanta &amp; Minneapolis http://t.co/GbH9rd1wkU', '.@cjmcginnis @Delta I think people like visiting Seattle more than Atlanta. Maybe @united could stop operating RJs on LAX-SEA', '.@United hits back @Delta, adding new nonstops to/fr Delta hubs in Atlanta &amp; Minneapolis http://t.co/GbH9rd1wkU', \"While it's amazing a boy managed to board a plane unnoticed , it's more amazing a @delta flight left on time\", 'The http://t.co/QEGnMSHi5U Daily is out! http://t.co/SYTbK3qoUi ▸ Top stories today via @Delta', 'Kudos to @Delta on going #Pink #ForTheCure in October #Delta @ Hartsfield-Jackson Atlanta… http://t.co/Rg06AtYePX', \"Glad you're there! Enjoy the event! #DeltaAmexEvents RT @jeffsettravel Beautiful fall day on the links with @Delta http://t.co/dqwTJ7RT0B\", \"@delta we just got checked in by Cheyenne at lga. She's an angel.\", 'News I can use! @Delta: We’re launching up to 9 daily flts b/t #NYC area &amp; #LHR w/ @VirginAtlantic! New sched starts 4/1.', \"I hate @Delta . Why can't we ever have one trip without issues.\", 'RT @doublewidesfly: Could the new competition on @AlaskaAir routes by @Delta sour their relationship? http://t.co/6b6vzOiyxA  #avgeek #avia…', 'Hey @delta - Samantha N at gate A14 in YYZ is doing you proud today! Amazing service, and decked out in pink for breast cancer awareness!', 'What great customer service from Mercedes in #Dallas with @Delta! #custserv', 'RT @Delta: We’re launching up to 9 daily flts b/t #NYC area &amp; #LHR w/ @VirginAtlantic! New sched starts 4/1 but you can book now http://t.c…', 'Beautiful fall day on the links with @delta http://t.co/AsVBX5e9sz', 'RT @Delta: We’re launching up to 9 daily flts b/t #NYC area &amp; #LHR w/ @VirginAtlantic! New sched starts 4/1 but you can book now http://t.c…', '@delta gate staff wearing an awesome all-pink uniform for breast-cancer awareness!', 'U R Crazy @JohnnyJet FACT: I just booked a @Delta flight that was $100 more expensive than a @United flight because Delta has WiFi...', '@Delta @VirginAtlantic when will we see low level, sorry, saver biz seats open up on VA for Skymiles?', 'RT @JohnnyJet: Automated passport reading machines rolling out at #JFK airport today. http://t.co/khoVE77SRP @CNBC @hbaskas KUDOS to @Delta!', 'Once again @Delta is doing a great job of placing the blame on the customer. Awesome!', 'RT @Delta: We’re launching up to 9 daily flts b/t #NYC area &amp; #LHR w/ @VirginAtlantic! New sched starts 4/1 but you can book now http://t.c…', 'Evo smo na reviji macaka #chanel @Delta', 'RT @Delta: We’re launching up to 9 daily flts b/t #NYC area &amp; #LHR w/ @VirginAtlantic! New sched starts 4/1 but you can book now http://t.c…', '@delta how far back can you add tepid to your mileage/rewards?', '@united fires a few warning shots @delta - SFO-ATL, LAX-MSP and up gauging &amp; more frequency SEA-SFO. @AlaskaAir should do the same....', 'RT @doublewidesfly: Could the new competition on @AlaskaAir routes by @Delta sour their relationship? http://t.co/6b6vzOiyxA  #avgeek #avia…', 'RT @Atlantic_LIVE: Thanks for joining us for our #AtlanticCornerOffice with UTA CEO Jeremy Zimmer! @Delta @Atlantic_LIVE', 'RT @incblot: Inexplicably, there is a guy on my plane in street clothes with handcuffs on. @Delta did you put me on Con-Air?', '@Gogo @Delta @amazon Okay. I filled out the survey. How do I receive the gift card?'], ['@AmericanAir someone would have to pay me a lot of money to fly another airline. #dedicated #grateful', 'Hello @AmericanAir from London. Nice paint job! http://t.co/BCWMlOJg2G', '@americanair can you follow me!!', '@AmericanAir thanks for your help :)', 'RT @wanderingshane: Open Faced Turkey Sandwich on @AmericanAir #food #travel http://t.co/Cu32ETccOt', '@AmericanAir they did reply, and told me how to get my refund, so i sent my details over 3 weeks ago and havent heard anything', 'RT @gneil45: Great early morning light on a @AmericanAir Boeing 777 back in October 2011. #avgeek #aviation #photography  http://t.co/l63bA…', '@AmericanAir AA Ref#1-992265586', '@AmericanAir Just wanted to wish you a great second half of the week #Enjoy', \"@AmericanAir Well I guess it wasn't me then, was it? ;)\", '@AmericanAir to a woman called connie grady', '@AmericanAir Did you ever announce the winner for the #HollywoodGlamour photo competition?', 'RT @AmericanAir: @gneil45 Our B777 looks great in the early morning sky, Neil. Thanks for sharing!', 'RT @AmericanAir: Delicious pasta at 36k feet? You bet. A Texas-based chef created 4 new dishes for domestic travelers. Bon appetit! http://…', 'RT @gneil45: Great early morning light on a @AmericanAir Boeing 777 back in October 2011. #avgeek #aviation #photography  http://t.co/l63bA…', '@AmericanAir You know what would make EXP requal easier? Double EQM promo, or just Double EQM for me #WouldBeAwesome', 'Great early morning light on a @AmericanAir Boeing 777 back in October 2011. #avgeek #aviation #photography  http://t.co/l63bAplgNN', 'Big thanks to Paul Del Rosario @AmericanAir  for helping me switch to more convenient flights after my JFK to CDG flight got cancelled :)', '“@AmericanAir: Pride &amp; honor. That’s what flight attendants feel throughout their careers. Earn your wings at the #newAmerican @UPtheBanner', '@AmericanAir See your staff tommorow! #NewAmerican', \"RT @kressie42: This Tumblr photo of an @americanair winglet has 205,000 notes on it. That's some serious free branding right there. http://…\", 'New flights booked in my quest to requal by years end on @AmericanAir. Good thing they fly to places I want to go. #FlyingIsFun', 'I am not pleased with @AmericanAir at ALL! Inconsistent, no follow through, and not helpful. Not looking forward to my flight tomorrow #LAX', '@AmericanAir It was my fly-out flight so in 1 day i will have a return flight!', '@AmericanAir I have arrived safely after a wonderful Free wi-fi flight with you! Have a great day!', 'However, ongoing #FAA #furloughs are delaying #aircraft deliveries to @Delta, @AmericanAir, @USAirways, and @JetBlue: http://t.co/jQhuriZbL0', 'Stopover at #SFO from #LAX done..now flying home #SAT mileage redeem! @AmericanAir @AAdvantage', '@AmericanAir  Thanks AA', '@AmericanAir Thanks!  Hope to see an AA team out there! :)', '@AmericanAir  yes I am!', '@PamelaGrints @AmericanAir  you will always have good chances, just continue to stay focus!', \"@AmericanAir I'll be at the L.A. AIDS Walk this Sunday, and I'm raising money to support HIV/AIDS orgs. RT? http://t.co/xf6Ng1aCto\", '@AmericanAir 291', \"@AmericanAir arrived in DUB 7 hrs late, now departing at least 2 hrs late! Really?? Customers' time of no value?\", \"@AmericanAir certainly cares about their customers...I can't wait to plan another trip .. in today's world of AIR TRAVEL, it's nice to know.\", \"RT @AmericanAir: @awriterchick We couldn't agree more, Leia! That sunset is gorgeous. Have a great week.\", \"@AmericanAir its my nite off I'm having a @GrainBeltBeer out back by a fire. No #waiting @mspairport\", 'Hey @AmericanAir u up 2nite?', 'RT @airfarewatchdog: New Orleans to Miami $130 RT nonstop @AmericanAir wide open even for summer #travel ! http://t.co/ySRvvXtD3W', 'RT @sscalise88: @FabuFashionista @nickverreos1 @AmericanAir Oooh! Sounds Great! #FabuFashionista Great!', \"@tjoelchris I think that lady deserves a bonus for making y'all look good @AmericanAir\", '@AmericanAir', '@AmericanAir thought it was 9/11 all over again with all the shaking', '@FabuFashionista @nickverreos1 @AmericanAir Oooh! Sounds Great! #FabuFashionista Great!', '@AmericanAir thanks:) although I recommend not flying through so much turbulence next time', 'RT @Foodtriping: @CollCostello @AmericanAir.  Fab....we are waiting for our assignments AA!....', '@AmericanAir so much in common', '@AmericanAir can you give me a shoutout ?', '@tyvanwieren @AmericanAir lol', 'RT @airchive: As of now, @AmericanAir plans to retire their last @BoeingAirplanes 767-200 on May 7, 2014 as AA030 from @LAX_Official to JFK.', '@AmericanAir you already do silly goose', '@AmericanAir get me more followers or get me free tix for another flight', 'Awful flight @AmericanAir', '@sscalise88 @nickverreos1 @AmericanAir College Homecoming Weekend #RollTide had a #FABU time! #AmericanAirlines #FirstClass #SimplyTheBest', 'RT @sscalise88: @FabuFashionista @nickverreos1 @AmericanAir Where Are You Heading? Or Coming Back From? :) #Travel #Fahionista #FashionStar…', 'Miami to San Fran - great job @AmericanAir #10Xseminar in Oakland tomorrow', 'RT @nickverreos1: @FabuFashionista @AmericanAir AWWWW!!!!! LOVE! You are my Muse Miss Camerone! Double Warm Nuts Kisses xoxo', '@FabuFashionista @nickverreos1 @AmericanAir Where Are You Heading? Or Coming Back From? :) #Travel #Fahionista #FashionStar #Fashion', '@AmericanAir yes...just not satisfactorily. Is there a human to talk to?', '@AmericanAir Red tape! Thanks.', 'RT @airfarewatchdog: New Orleans to Miami $130 RT nonstop @AmericanAir wide open even for summer #travel ! http://t.co/ySRvvXtD3W', \"@AmericanAir reservations didn't stick- hope its better next time\", '@AmericanAir That was where I originally sent the form with the issues....', '@AmericanAir it is a no reply email. Can you confirm I can reply to it?', 'RT @airfarewatchdog: New Orleans to Miami $130 RT nonstop @AmericanAir wide open even for summer #travel ! http://t.co/ySRvvXtD3W', 'RT @airfarewatchdog: New Orleans to Miami $130 RT nonstop @AmericanAir wide open even for summer #travel ! http://t.co/ySRvvXtD3W', '@AmericanAir unsatisfactory response to email I sent. Is there someone I can speak with?', '@AmericanAir :( I had a ticket on hold but a storm knocked out our power/Internet last weekend. The hold expired and the price doubled :(', '@AmericanAir is offering some great Main Cabin prices to Lima, #Peru! http://t.co/ifW9OQs0Qg #traveldeals', \"Hey @AmericanAir and @AAdvantage don't you guys want to give a loyal customer and 3 time Gold member a $200 discount voucher???\", \"@AmericanAir what's the easiest way to look up my AAdvantage number? I'm trying to register my startup at http://t.co/GPGBjeQL6Y. Thanks!\", '@AmericanAir @PamelaGrints an awesome courage never give up!', '@AmericanAir I was able to get a round trip for $280! Awesome deal! #jetsetter', 'RT @tjoelchris: Hey @AmericanAir, your stewardess on my flight from Reagan to DFW found my phone after I thought it was gone for good! Made…', 'Hey @AmericanAir, your stewardess on my flight from Reagan to DFW found my phone after I thought it was gone for good! Made my night!', \"Love flying first class on @AmericanAir  I'm sad to be leaving Wish there were more last minute flight fares to CMH # http://t.co/52tfUGS2Qd\", '@AmericanAir I had a problem with a flight', '@AmericanAir do you have those tv things now like in front of you bc united does', '@AmericanAir well @united is better so hm', '@AmericanAir oh wow, good to know, thanks!', \"@AmericanAir you said you'd give me 2 first class tickets to LAX and I never got them\", '@AmericanAir I had a chance to meet some of your new flight attendants.....what great group of people!', '@AmericanAir  thanks for the upgrade - you made a man very happy after too many miles!', \"My day was fantastic @AmericanAir here's today's sunset in West Marin! The Pacific Ocean makes me HAPPY! http://t.co/8fyXZjgVgy\", 'RT @AmericanAir: @awriterchick Thanks for the shout-out, Leia. We hope you have a great day!', '@AmericanAir Please bring American Airlines to #BlackBerry10', \"So @DeltaAssist @americanair @united who wants to win a lifelong customer? @airtran messed up my honeymoon flight and won't help me. HELP!!\", '@AmericanAir the check in message for pre-reserve seats is confusing- do I still have a seat if the pre reserved seats are gone? #clarify', '@AmericanAir Im a frequent Flyer and always demand my company to book my flights with your airline.And this is how you treat your customers?', '@AmericanAir but with @united the magic word is FREE :)', '@Welbycakes @united I had none on my @AmericanAir flights to and fro Iowa.', '@brucery @AmericanAir http://t.co/YIsMYDohZE', \"@AmericanAir I don't think your people are sorry. I talked SEVERAL TIMES before. And now, your best recomendation is to do the same?!\", '@AmericanAir - I love flying real @AmericanAir flights, but from SEA, YVR-NRT is much faster than SEA-DFW-NRT.  :)', 'RT @AmericanAir: Pride &amp; honor. That’s what flight attendants feel throughout their careers. Earn your wings at the #newAmerican: http://t.…', 'RT @RobertIrvine: @AmericanAir we need a first class Robert Irvine menu for all of American', 'I just booked an @AmericanAir AAdvantage award trip on JAL with a British CSR who sounded like Mrs. Doubtfire. Finished - Phew!', 'LOL \"@AmericanAir: @csherburne We wish we could from here, Cary. We\\'ll try to put in a good word with the Twitter fairies.\"', 'Can you pull strings? :-) \"@AmericanAir: @csherburne They sure are beautiful! Hope you\\'ll ride on a new one tomorrow, Cary.\"', '@AmericanAir me2', \"@AmericanAir I'm hoping\", '@AmericanAir My flight tom morn is delayed to w/i 6 minutes of my connecting flight in DFW. Are you all optimists about my terminal change?', 'Seeing a lot more @AmericanAir planes with the new trade dress.  Not mine today, tho. Maybe tomorrow #DFW 2 #SJC http://t.co/R0KEZuv8z4', 'RT @AmericanAir: Pride &amp; honor. That’s what flight attendants feel throughout their careers. Earn your wings at the #newAmerican: http://t.…', \"@AmericanAir that's my original problem. Remember? Maybe you didn't really read &amp; comprehend my initial 2 tweets… here's your card…\", \"RT @AmericanAir: @jonpritikin We're happy to hear our Captain impressed you so. We'll see you soon!\", '@AmericanAir yes please. I need 2 tix at the price we got our 1st tix for from SLC to DFW. Can you do that from wherever \"here\" is?', \"@AmericanAir It's unbelievable that I've been waiting for almost 3 months to accumulate the miles of a flight I did. COMPLETELY DISAPPOINTED\", '@AmericanAir calling and talking to your rep &amp; their supervisor was even more frustrating. Not a pleasant experience at all.', 'Waiting 4U @AmericanAir I hope you can study my problem and give me a positive answer', 'can we fly these families to Dover?  Dont think they want 2 fly in a C-130  http://t.co/b8YRzvYgkV @SouthwestAir @AmericanAir @Delta @united', '@AmericanAir 181', '@AmericanAir, the crew on #AA4299 from SAT to ORD was amazing', '@AmericanAir just touched down to ORD from DCA. Thanks for a great flight and a fabulous flight crew.', 'Stuck in the plane on the tarmac in LA for an hour @AmericanAir really sucks. This whole thing makes no sense. The pilot keeps apologizing', \"@AmericanAir  follow me please and I'll follow back\", \"Hey @AmericanAir why do you publish one rate and then raise it before I can check out? Is business that bad that you're scamming us now?\", \"@AmericanAir can't believe AA is playing second fiddle to B6 in the Carib. Very disappointing. A shame you're forcing people to switch.\", 'Landed at LAX 52 minutes ago and still sitting on Tarmac.  Great Job @AmericanAir @LAX_Official', '@AmericanAir  Flying over 9 hours over the Atlantic with 2 kids and no personal entertainment system in 2013 is inexcusable.', '@AmericanAir  Slapping a new sleek paint job on the outside, but still have the same old crappy interior will not change your image.', '@AmericanAir No thanks.', \"RT @AmericanAir: @hiqutipie Hi, we hope you're having a great evening!\", 'RT @Hiqutipie: @greensboro_nc @T_O_D_A_Y @TwiterHero @Trans1110 Ya think o_O LOL @AmericanAir Hi AA &lt;333', 'RT @airchive: As of now, @AmericanAir plans to retire their last @BoeingAirplanes 767-200 on May 7, 2014 as AA030 from @LAX_Official to JFK.', \"@AmericanAir I wish your baggage handlers took a little pride in not breaking people's luggage. Another bag in my party is broken as well.\", '@AmericanAir OK. Just sent. Thanks.', '@AmericanAir thanks!', '@AmericanAir just DMed. Hope you can help.', \"@AmericanAir I really don't appreciate the complete lack of care when it comes to taking care of oversize luggage!\", '@AmericanAir just broke my flight case! http://t.co/eS8c2mgmxa', '@AmericanAir by then I will be flying but thanks for your answer.', '$6.99 to hold my flight @United? One more reason to fly @AmericanAir. 1 click, 24 hour hold: FREE.', '@AmericanAir just checked seats for flight 54 from ORD to MAN on Saturday. 2 together but mom and 1 year old away from us. Can you change?', 'We welcome our new Governor designate Peter Beckingham and Mrs Beckingham to TCI http://t.co/uJEqPSFCdr photo via @TCIGO @AmericanAir', '@AmericanAir has been great today! Had to change my flight 2 times &amp; had an AMAZING experience both times!', '@AmericanAir Sensational flight attendants on 931. Makes all the difference in the world!', '@AmericanAir you are too late and have already ruined this trip for me', '@AmericanAir It gave me a 404 claiming it could not be found.', '@AmericanAir I sent it. Any help is appreciated.', '@AmericanAir on hold for over 1.5 hrs last night w/ no resolution. Sent an email in this AM via AAdvantage. #Disappointment #fail', '@AmericanAir why did you give up on ur non stop JFK to BGI route and cede it to B6? No one wants to change in MIA! #YoullLoseBusiness', 'RT @AmericanAir: Pride &amp; honor. That’s what flight attendants feel throughout their careers. Earn your wings at the #newAmerican: http://t.…', '@AmericanAir unfortunately a issues with the flight attendants happen so I had to cancel my trip but the Captain was awesome!', 'RT @AmericanAir: @greggarman Anything is possible, Greg! We hope it makes for a very comfortable flight.', 'The @AmericanAir early arrival gate not available #debAacle strikes again', 'RT @AmericanAir: @greggarman Anything is possible, Greg! We hope it makes for a very comfortable flight.', \"I'm at American Airlines Admirals Club - @americanair (Chicago, IL) http://t.co/ZtMF2kH0qe\", \"@AmericanAir $200 to correct a last name on a ticket? That's half what the ticket costs. I understand fees but thats seems excessive.\", '@AmericanAir , Do you guys happen to have student discounts? I am trying to find a good fare while looking at a college I might transfer 2.', '@AmericanAir But, what language was it?', '@AmericanAir Ah a bit of good news then! Have you still been able to take delivery of new Airbus aircraft with the FAA furloughs?', 'RT @EttyLauFarrell: Clever @AmericanAir. The 1st class amenity bag doubles up as an IPad cover! #enroutetosaopaulo http://t.co/0ZhpHb0gI6', 'Clever @AmericanAir. The 1st class amenity bag doubles up as an IPad cover! #enroutetosaopaulo http://t.co/0ZhpHb0gI6', 'RT @AmericanAir: @kylafrye7 We appreciate you sharing the kudos for our team at gate 28 in DFW, Kyla!', '@AmericanAir Your office in Quito, Ecuador is supposed to close at 20:30. Today I went 19:55 and closed…', \"@AmericanAir I'm happy to do so! Have a great night! ^JH\", '@airchive @AmericanAir @BoeingAirplanes @LAX_Official Can you tell me how to handle these retired planes?', \"@AmericanAir As am I. Worsening now delayed even further. Happy to discuss over DM. A real shame as I've been advocating you of late.\", \"@AmericanAir @AirbusInTheUS Are test flights of the AA A319 and A321 being halted or affected by the US gov't #shutdown?\", \"RT @AmericanAir: @imperatorechico We love hearing this, Francisco. We're always happy to see you on board!\", 'thought I boarded @AmericanAir Indianapolis-Tokyo but glad it was just my normal IND-DFW #HowDidYouGetHere #coke http://t.co/1prwSvMcmg', 'RT @airchive: As of now, @AmericanAir plans to retire their last @BoeingAirplanes 767-200 on May 7, 2014 as AA030 from @LAX_Official to JFK.', \"@iamwandasykes @TAshley305 @AmericanAir Oh No, Hope you're able to have them back you really soon. You're AWESOME to be put through this!\", 'RT @airchive: As of now, @AmericanAir plans to retire their last @BoeingAirplanes 767-200 on May 7, 2014 as AA030 from @LAX_Official to JFK.', 'As of now, @AmericanAir plans to retire their last @BoeingAirplanes 767-200 on May 7, 2014 as AA030 from @LAX_Official to JFK.', '@megynkelly #KellyFile until @BarackObama can get his head out of his ass soldiers deaths #shutdown @Delta @DeltaAssist @AmericanAir @united', '@AmericanAir thanks for seat shuffle to get open aisle to spread out today DFW to BOS. #roomtowork big laptop http://t.co/S3AMOzidXU', 'RT @AmericanAir: @ImperatoreChico Thanks for the love for our #737, Francisco! We appreciate it, we think its pretty fabulous too.', '@AmericanAir My best flights are on AA in all planes and classes #AAStyle', \"@AmericanAir I don't know the families...I just thought it would be nice to see corporate America step up when the govt drops the ball.\", \"RT @magolnick: Well @AmericanAir I'm back on board for another day trip.\", 'I am so impressed with the @AmericanAir employees at @dfwairport gate 28 right now handling a customer complaint. Very Professional!', 'RT @HeatherFilkins: I used to think @AmericanAir was the worst at #customerservice... Turns out @comcast gives em a run for the money. #fail', \"RT @AmericanAir: @itsthe187 That's too bad. We'd love to have seen it!\", '@ChrisKuc why do you bother flying @united I always fly @AmericanAir. Much better', '@AmericanAir thanks, but seeing as I am sitting in front of the gate I already had that info.', '@AmericanAir #ThankYou AA New Livery 737 First Class｜旅行クチコミ動画「地球の歩き方LIVE！」: http://t.co/LsRuzIR2Hz via @news_arukikata', '@AmericanAir your B737-800s are the best! Love the interior lights.', '@AmericanAir AA New Livery 737 For business or tourism it is always a pleasure to fly #AmericanAirlines  http://t.co/cNmzIw4fd5 via @youtube', 'Flying at 36,000 feet with the most amazing Captain (Willie) and crew on flight 2466 from DFW to IND. Best flight EVER! @AmericanAir', '@AmericanAir you will! I only fly with you! :)', '@AmericanAir @HeatherFilkins nothing right now... Appreciate the response!', \"@AmericanAir no I didn't, I wih I could've have!!! My friend has it tho\", \"@AmericanAir appreciate the update, but can't be right. It's 9:17 and no plane at new gate yet. 2 days, 2 delayed flights with useless info\", \"RT @AmericanAir: @imperatorechico We can't see the link, but we sure do love our new livery, Francisco!\", \"I'm having one of the best flights of my life. #sonice @AmericanAir\", 'Hey @AmericanAir rice on salad? Really? The DFW to IND flight I am on just served it. The one thing I could eat w/o worrying about carbs.', \"RT @AmericanAir: @alex_almasri You're making us smile wing to wing, Alex! Have a great night.\", \"I have to say: after my sister's awful experience with @usair I love @AmericanAir even more!\", 'I used to think @AmericanAir was the worst at #customerservice... Turns out @comcast gives em a run for the money. #fail', 'Thanks @AmericanAir for the safe lift from LGA to XNA #tillnexttime #frequentflyer', 'RT @anthonydino: My dear friend @Sureshotstella and I are headed to Seattle! Working out way to #platinum status @AmericanAir http://t.co/u…', 'AA New Livery 737 First Class: http://t.co/cNmzIw4fd5 via @youtube @AmericanAir', '@AmericanAir 3934 from DCA. had the same issue getting updated flight info on my flight yesterday.', 'RT @AmericanAir: Delicious pasta at 36k feet? You bet. A Texas-based chef created 4 new dishes for domestic travelers. Bon appetit! http://…', \"Ain't going to happen, no matter what @AmericanAir app of suck says http://t.co/r2agnr69Xs\", '\"@airfarewatchdog: ! @AmericanAir  continues to reduce fares from @dfwairport ! Take a look! http://t.co/2TiJc1LWu2\"@NWilson314', '@AmericanAir lol, did u hear about that flight attendant dance on the Chicago flight, hilarious #oooh #killem', \"RT @AmericanAir: @jonpritikin We're happy to hear there was such great communication onboard. We're sorry for the delay, Jon.\", '@AmericanAir no worries I appreciate AA is about safety and customer service!  #bestairlineintheworld', 'My dear friend @Sureshotstella and I are headed to Seattle! Working out way to #platinum status @AmericanAir http://t.co/uVX4Zsje5Q', \"RT @AmericanAir: @elias_trejo We're not so sure we can help with that, Elias. We hope to see you on board with us soon.\", 'RT @Elias_Trejo: @AmericanAir Unless you can help someone with a weak arm and inability to read a blitz, I think it may be beyond your cont…', \"RT @AmericanAir: @Elias_Trejo We're not sure what you mean, Elias. Have Flynn contact us directly if assistance is needed.\", '@AmericanAir Why? Your app and phone system didn\\'t know, your agent said \"staffing issue.\" Surely you can do better.', '@AmericanAir on honeymoon and AA has an empty business class and charged me $600 for more legroom but not business. What friendly skies?', '@AmericanAir Por dois dias consecutivos vi o aviao da american se preparando para aterrizar . ....', \"@AmericanAir me too. Last time I used y'all was my trip to Scotland in April; amazing trip! So many movies I didn't want to sleep\", 'Plane at the gate. Departure in 15 min. Sign says on time. No gate agent. No updates. No info. I must be flying @AmericanAir', '@AmericanAir Thanks AA #MuchoLove Have a Wonderful Evening!!!', \"RT @AmericanAir: @hiqutipie Hi, we hope you're having a great evening!\", 'My @AmericanAir flight to Sioux City is delayed again (surprise). Anyone out there want to pick me up around 10?', '#ThankYouJesusFor @AmericanAir! #NumberOneAirline #TheyKnowWhyIFlyAA', '@AmericanAir , What language?', '@AmericanAir Finally in the air. Thanks for being so responsive the past few hours, although its still not fair. 11 hours New Orleans--&gt;NY', 'RT @WWERomanReigns: Still waiting........ @AmericanAir http://t.co/CfX4GQTt2C', \"Thanks! @AmericanAir I've attempted http://t.co/gCIq0fiBbb and it's not working and now 27min on hold for Reservations\", '@AmericanAir on delayed FLT 195 Captain came out &amp; greeted everyone personally explain the situation to each passenger This is why I love AA', \"@AmericanAir Indeed it is! And I've been studying German\", 'RT @Hiqutipie: @greensboro_nc @T_O_D_A_Y @TwiterHero @Trans1110 Ya think o_O LOL @AmericanAir Hi AA &lt;333', '@greensboro_nc @T_O_D_A_Y @TwiterHero @Trans1110 Ya think o_O LOL @AmericanAir Hi AA &lt;333', \"Thanks! @AmericanAir I'm attempting to book a new reservation\", \"@AmericanAir Well that's great to hear! And I am doing fantastic as well. Currently studying a new language!\", \"RT @kressie42: This Tumblr photo of an @americanair winglet has 205,000 notes on it. That's some serious free branding right there. http://…\", 'RT @MarioTravels: Whoa! @AmericanAir drops JFK-Barbados service: http://t.co/rhphDZHwZ8 via @LuxeTiffany @stephaniegmack #travel #Caribbean', \"I've been on hold for 18min for @AmericanAir customer service. Unusual.\", '@AmericanAir utterly ridiculous. staffing issue? will miss imp. interview. (@twitter how much for a promoted tweet?) http://t.co/fsk6nbmD4f', '@AmericanAir I shared it with my belly...', '@AmericanAir @moxie_marmalade see... I knew you guys were so smart.  ;)', \"This Tumblr photo of an @americanair winglet has 205,000 notes on it. That's some serious free branding right there. http://t.co/Y6LSiuRuZD\", '@AmericanAir Very kind of you to say that. Perhaps she was having a bad day. thanks', '✈MIA | LGA via @AmericanAir', 'What would be the best days to travel to ORD. @AmericanAir', '@AmericanAir How are my awesome friends at AA doing on this fine evening?', '@AmericanAir watching Denzel Washington star in the movie \"Flight\" makes me wanna work or fly with you guys one day.', 'Pues Honestamente muy entretenido hacer el budget de @AmericanAir :) #WorkingHard', \"@AmericanAir Second time in the H/K Admirals Club today. It's still unacceptably dirty... http://t.co/bkOhklj7eH\", 'Brian Urlacher just walked past me on the plane. My brush with celebrity. @AmericanAir', 'RT @AmericanAir: Pride &amp; honor. That’s what flight attendants feel throughout their careers. Earn your wings at the #newAmerican: http://t.…', \"@George_Torres87 @AmericanAir no they haven't. Abc15 is interviewing us about this tomorrow.\", \"@AmericanAir The new pastas are such an improvement from the stuffed shells! I can't wait to upgrade my #dinnerandamovie on AA!\", 'RT @JeffreyMVoth: .@deptofdefense consumed 4.7B gallons last year... more than @united and @AmericanAir combined. #EnergySecurity. http://t…', '“@AmericanAir: @kidjettin Welcome, Scott! Have a great evening.”', \"RT @AmericanAir: @manfromkrypton Congrats, Arjun! It's like watching the odometer turn over on your AAdvantage account. #virtualconfetti\", '@AmericanAir Stop the BS #travel @tvtoni', \"@AmericanAir I've spoken w/ managers. No satisfaction. Res supervisor Michelle Morgan hung up on me after 35 mins on phone! #travel @tvtoni\", \"@AmericanAir Can you expedite ticket issuance? Sent travel vouchers 2 months ago! Still no ticket. Can't get seat I want. #travel @tvtoni\", '@AmericanAir You could spell check, at least. And stop sending the same specious message when you do nothing substantive. #travel @tvtoni', '@AmericanAir 1650', '\"@airfarewatchdog: ATL-#Vegas on @AmericanAir $222 RT #travel thru mid May 2014 http://t.co/AEHPU4YMGA @Atlanta_Airport\"  any takers????', 'first plane broken.  Second plane.. No pilot.  Been waiting almost 4 hrs.  Not cool @AmericanAir #GetitTogether', 'RT @AmericanAir: @knmeyersfree We get your humor! We hope more flights open up between CHS and DTW.', \"Flying @americanair?  ORD &gt; MSP is 'mobile boarding pass ready', MeeRobot has  processed another mobile boarding pass for that route!\", '@AmericanAir was a gr8 flight', 'Live at @AmericanAir @ducidni!', \"@AmericanAir Ain't no thang.\", \"@Emily_Jeffords @AmericanAir Hahaha, you KNOW it :) And I live in Charleston, I'm planning trip(s) to Dallas, my hometown.\", \"RT @AmericanAir: @safimod Thanks for the kudos! We're in the bacon saving business.\", \"“@AmericanAir: @knmeyersfree Maybe the clouds over Dallas!” Finally... An airline that GETS my humor. Y'all need more CHS &gt; DTW flights ;)\", '@moxie_marmalade umm, Paige are you just chatting super chill with @AmericanAir?  ;). Also, Charleston is ALways a good idea!!', '@moxie_marmalade @AmericanAir nicely done!', '#Awesome! http://t.co/Vqi92wpnka #Portugal @AmericanAir @Jxnewton @captain_europe @One1Europe @IvanBotoucharov', '@moxie_marmalade @AmericanAir or cloud Dallas? #horriblejokes', 'RT @airfarewatchdog: ! @AmericanAir for whatever reason continues to reduce fares from @dfwairport ! Take a look! http://t.co/waKnpc8w23', \"@AmericanAir the air is part of what's broken on the plane. Waiting on someone to come start the engines apparently? Captain remains chill.\", \"RT @AmericanAir: @jovesi We're glad you like the #newAmerican. Have a great evening!\", \"@knmeyersfree @AmericanAir RIGHT?! I'm on Cloud 9!\", '@moxie_marmalade @AmericanAir that’s an insane deal!!!', \"Truly, yes! RT @AmericanAir: @moxie_marmalade We're excited for you too. It's like winning a small lottery. #jackpo\", '@AmericanAir FABULOUS fare! So excited :)', 'I finally found the elusive @AmericanAir $130 nonstop roundtrip flight from CHS to DFW. End of February. BOOKING IT HEYO!', '@AmericanAir I mostly fly AA and connect at DFW... But going to IAH is sometimes needed and users are very limited :-(', \"@AmericanAir it's pretty miserable stuck on this plane with no A/C but it's not like there's anything you can do about that.\", '\"@AmericanAir: Pride &amp; honor. That’s what flight attendants feel throughout their careers. Earn your wings at the. Woo hoo new class', '@AmericanAir biggest thing at this point would be to have our luggage found somewhere', '@AmericanAir It is taking over 12 hours to travel New Orleans to New York the to delays within your control. These arent weather related.', \"@AmericanAir it's not a checked bag, it's a bag that was left on an aircraft BPT to DFW.  Plane went to MLU afterward...but nothing?\", '@AmericanAir  love the brand new EMB 170 on eagle flight 4343.  Impressive. http://t.co/D7Rykmj6ku', 'Its hot in here on @AmericanAir flight 1148! This filter is quite appropriate.  http://t.co/EPm0jtNkIA #OtakuCamera', '@airlinegeeks Worry not, for time there is young Padawan learner (as would be spoken by Yoda) @AmericanAir', '@AmericanAir Is AA133 JFK-LAX on 1/7/14 the A321 inaugural?', '@CollCostello @AmericanAir.  Fab....we are waiting for our assignments AA!....', '@AmericanAir always great flying \"woth\" you!', '@AmericanAir @JustVaporlock I hear ye charge extra for wearing red shoes', \"@AmericanAir I'm going to reapply in 6 months. I tried but didn't have a good experience.\", '@AmericanAir yes and the same back too u', '@AmericanAir so i emailed your company back around 3 weeks ago because i was getting compensation and i havent heard anything, could u help?', \"@AmericanAir Let's say the little horses, they'd rock that look!\", '@AmericanAir .', '@airlineguys @americanair To bad there is something called \"ageism!\" ;-) ^RE', \"@AmericanAir I'm sure he is not high, he's just a jolly, amusing person. The plane hasn't taken off yet though, so that's an actual thing.\", 'En route to Hawaii (@ American Airlines Admirals Club - @americanair w/ 4 others) http://t.co/wc9eWGQsvE', \"ICYMI: @AmericanAir is hiring #flightattendants Click to apply http://t.co/PcnQmCXmgy #newAmerican &gt;&gt; tell 'em the airlineguys sent ya' ;-)\", \"@AmericanAir Waiting on O'Hare to New York flight now, need to know: would you rather fight 50 duck sized horses, or one horse sized duck?\", 'RT @AmericanAir: @NathanE_IA We have Military fares, Nathan. You can book by calling Reservations at 800-433-7300. We appreciate our servic…', '@AmericanAir Enjoy your day! Im off twitter now! Please leave me a tweet or DM now! I will tell you if i land safely!', 'RT @AmericanAir: Pride &amp; honor. That’s what flight attendants feel throughout their careers. Earn your wings at the #newAmerican: http://t.…', '@AmericanAir Morning now!', '@AmericanAir  I wish!  I might just break down and buy one of those inflight headsets.  BTW - the Pita chips rocked! I am working quietly.', \"@AmericanAir how come y'all don't offer flights between AUS and IAH? It would be so nice to have alternatives to United\", '@AmericanAir  Heal the body from all the Radiation Flying &amp; Flu, makes Glutathione in the body,all natural http://t.co/ovksmdEyeN', '@wchriswagner MT: @airfarewatchdog: @AmericanAir continues to reduce fares from @dfwairport! Take a look! http://t.co/jlHalHZbcW', '@AmericanAir gracias!', '@AmericanAir hi you too uncle gareth', '@AmericanAir I #love your new #branding and #great #service', 'Here we go.... (@ American Airlines - Admirals Club GIG - @americanair) http://t.co/dis9KBaTS4', '@AmericanAir :)', '@AmericanAir Thanks! You spelt flight wrong? I understand, im tired too, i wish i was at my hotel in bed now!', '@AmericanAir DCA-DFW-DCA next week, DCA-ORD-DCA in early Dec and SJU-MIA-DCA in F/C Thanksgiving! :) Thats all on AA metal', \"Wish that @AmericanAir would actually enforce groups when people board.  It's not that hard!\", '@AmericanAir hi you know the craic big man, some day some day', \"@AmericanAir yes and I'm not getting much help.  I called all airports that it could be at\", \"@AmericanAir don't have it yet .. this woulld be first time, will check with AAdvantage center tomm, thx. 6 upcoming AA flights through Dec\", '@AmericanAir. This is the view from my window. http://t.co/ya0a2Yqsrl', \"@airfarewatchdog that's great but hopefully @AmericanAir finds my golf clubs they lost today.\", 'RT @airfarewatchdog: ! @AmericanAir for whatever reason continues to reduce fares from @dfwairport ! Take a look! http://t.co/waKnpc8w23', \".@AmericanAir There any way to help families of fallen heroes? Govt won't help them travel to meet loved ones #DoGood http://t.co/aKBHN1ccJb\", 'RT @AmericanAir: Pride &amp; honor. That’s what flight attendants feel throughout their careers. Earn your wings at the #newAmerican: http://t.…', '@AmericanAir Thanks! Have a superb evening, just approaching the clouds!', '@AmericanAir Understood. Thanks for the feedback. Still a bit troubling after all the commercials with new planes. When do they arrive?', 'RT @airfarewatchdog: ! @AmericanAir for whatever reason continues to reduce fares from @dfwairport ! Take a look! http://t.co/O8Th5zNkm5', '@AmericanAir  Inside voices are needed on my flight otherwise I want to get paid for all the OJT I am getting!', 'RT @airfarewatchdog: ! @AmericanAir for whatever reason continues to reduce fares from @dfwairport ! Take a look! http://t.co/waKnpc8w23', '@AmericanAir 5321 Bag been found.  \"Ramp guys don\\'t drive all the way down here - try 9\" you posted claim 3 but ramp is going green!?', 'RT @AmericasAsia: @AmericanAir hmm. Its been great using WiFi on your planes but why are flights 1148 and earlier 150 both delayed? Overhea…', 'RT @airfarewatchdog: ! @AmericanAir for whatever reason continues to reduce fares from @dfwairport ! Take a look! http://t.co/waKnpc8w23', 'RT @RhTruman: @AmericanAir 27 hours with no clean clothes...', '@AmericanAir I left my bag on a plane yesterday and mysteriously nobody has seen it.  We were the last ones off....', '@AmericanAir do u fancy me ?', 'DFW - IND @AmericanAir flight 2466, our captain: allegedly from MN, potentially high as a kite, definitely a cool dude. #flyhighbro', '@AmericanAir how do I check my status in that gold fast track promo? I registered for it a while back', 'And @AmericanAir booked DCA-ORD-DCA in early December for a work trip - -that should also cement my gold fast track status :)', '@AmericanAir The video screens on the new Airbus are awesome today! #trickedout https://t.co/FSC1HTlvB6', '@AmericanAir Thanks! I am flying on that plane! Enjoying the free wi-fi!', 'Sitting on @AmericanAir 2283. Sun thru window shows eruption of dust from seat every time I move. Disgusting. Wonder if AA ever vacuums?', \"@AmericanAir It's been lovely, thank you for asking :)\", '@AmericanAir Great views from AA 131 over Crested Butte, Colorado! #AmericanViews http://t.co/p8GyFdR8VF', '@AmericanAir Im on the plane!', 'Love working for @AmericanAir all of my fellow agents are so helpful and management rocks! #newAmerican', \"@ryan_odonnell96 @AmericanAir that's nice, one question Ryan...why is aoife green?\", \"@holden_laurie I was pure bored but now @AmericanAir tweeted me so I'm happy now but hello\", '@Foodtriping @AmericanAir Moi aussi!', \"Ensconced in 17H on @AmericanAir 762 to SFO again 1st for upgrade. And I'm sitting next to DYKWIA type too! At least there's #gogo #fb\", 'RT @TravelEditor: @Foodtriping @AmericanAir Always good to hear a happy airline customer service story for once. :)', '@AmericanAir hmm. Its been great using WiFi on your planes but why are flights 1148 and earlier 150 both delayed? Overheating x2... Scary', '@AmericanAir broken jetway. Lost bag. #goodtimes', '“Wow, I flew with @AmericanAir and I made it on time for this once-in-a-lifetime special event”. Said no one ever.', '@NealDenton @AmericanAir Thank you very much for staying with us again!  Please have a safe trip back to your home.', '@AmericanAir Is it you again? http://t.co/MYfeKzHWFc', \"One of best parts of business trip is to head HOME. @AmericanAir @martplaza -- thx for hospitality. Let's get back to #DCA and home. #\", '@clairebearcook @AmericanAir such a small world! See you at the terminal, dahling.', \"@AmericanAir How has you're day been?\", 'Just got a tweet from @AmericanAir buzzing!!', '@AmericanAir Gate change RIGHT before flight. No announcement. Ran to gate, attendants were jerks. Had to check my bag because I was \"late\"', '@AmericanAir What is the Reg?', '@fmisle Indeed they are #AAwesome @ahadjiyska @AmericanAir', '@AmericanAir ok.. You should really sort this out w your alliance partner as this happens every time on the codeshares!', 'Hello @AmericanAir', '@AmericanAir Oh yeah, thanks :)', \"True #custserv story--&gt; RT @ahadjiyska: Admirations to the team behind @AmericanAir's Twitter acc, big leap towards brilliant cust service\", 'Thanks! Boarding! AA for all my flights! \"@AmericanAir: @Kellai36 Have a wonderful flight, Kelly!\"', '@AmericanAir Is this you? http://t.co/vNC89x7MyI', 'RT @AmericanAir: Pride &amp; honor. That’s what flight attendants feel throughout their careers. Earn your wings at the #newAmerican: http://t.…', '@AmericanAir Thanks, and how do you know my name? xD', '@AmericanAir you guys really outdid yourselves! http://t.co/rD92wZaEEy', \"Just booked my first trip on @AmericanAir Looking forward to trying it. Now I think I'm going to watch. Home Alone 2.\", '@americanAir Raleigh call center supervisor Michelle Morgan in hung up on me after 35 mins on phone trying to get ticketed #travel @tvtoni', '@AmericanAir thanks', '@AmericanAir I know it all looks so good can I have all of it?', '@AmericanAir that is what I did with all the details. However now got asked to fax ticket receipt. Can I email them instead?', \"Hoping to spot @strawkelly in the @AmericanAir int'l terminal at JFK.\", \"@AmericanAir thx ppl paid change fee 2 arrive earlier &amp; now they won't. Problem should've been detected before attempted take off. #notcool\", '@AmericanAir http://t.co/np7sYEX72J', '@AmericanAir Never once did I ask for a refund.  Just decent customer service. #apologizingisnotcustomerservice #ThingsThatAnnoyMe', \"I promised I'd tell, just got word that @Travelocity and @AmericanAir are refunding our unused airfare! Hooray for persistence! Thank you!\", '@AmericanAir stinks! I was on the phone for 35 minutes with an agent who then hung up on me. Not kidding. Not acceptable #travel @tvtoni', '@AmericanAir Thx for the info and attempted assist. Lost a day in Maui #OGG due to mech issue but at least we got rebooked to F!', '#TooFunny @americanair awesome exchange about Matt Flyn', '', 'ttp://t.co/np7sYEX72J', 'RT @AmericanAir: Pride &amp; honor. That’s what flight attendants feel throughout their careers. Earn your wings at the #newAmerican: http://t.…', '@AmericanAir is there any other way to deliver a copy than fax? This is very annoying as my AA number is already on the ticket receipt..', 'RT @ckgregory: @AmericanAir lower the bike fees! #enoughsaid', '@AmericanAir To change my mind: offer me full credit on my cancelled ticket with no change fee.  Then I am guaranteed to fly with you again!', 'Getting @AmericanAir mileage from a Finnair/AA codeshare seems to be even more challenging. Now need to fax a ticket receipt??', \"@AmericanAir Ah, no, it's @alixrose that is suffering. :)\", 'RT @VeronicaCruz_: @AmericanAir Thanks for making my 82 y/o grandma miss a flight b/c your wheel chair service was late plus making her pay…', 'RT @AmericanAir: @kari_hcflores We look forward to seeing you then!', '@AmericanAir 3672 to Nashville scheduled to depart at 3:50 no one has conveyed any information to us.', 'RT @AmericanAir: Delicious pasta at 36k feet? You bet. A Texas-based chef created 4 new dishes for domestic travelers. Bon appetit! http://…', \"RT @AmericanAir: @kari_hcflores We can't wait to see you , Kari! Be sure to Tweet us when you're on board!\", \"@AmericanAir For sure! I'll be live tweeting before I get on the plane!\", 'Just boarded AA2991 from CLT to ORD. This flight will put me over my first million miles on @AmericanAir !!', '@AmericanAir left passengers on flight while needing a problem fixed. Deplaned and still no flight information on when we can leave Chicago', '@AmericanAir Pride and honour is what it is all about. I love the way you American embrace service. Well done! #experience', \"@AmericanAir a classy car to go with a classy airplane with America's classiest  airline. http://t.co/jKh3bALbQs\", 'Just made my reservation with @AmericanAir. Flying out in the winter!', \"@AmericanAir Awesome news that you're hiring again! We'll help spread the word.\", 'RT @AmericanAir: Pride &amp; honor. That’s what flight attendants feel throughout their careers. Earn your wings at the #newAmerican: http://t.…', '@AmericanAir 190 CHI-PHL. Had to board another plane. Better safe than sorry. #scenicroute http://t.co/l2AllybC9c', '@AmericanAir Thanks guys :) look forward to traveling with you', '@AmericanAir I could not agree more. American understanding of the term \"service\" is far different than in the UK #understanding #service', 'RT @AmericanAir: Delicious pasta at 36k feet? You bet. A Texas-based chef created 4 new dishes for domestic travelers. Bon appetit! http://…', '.@deptofdefense consumed 4.7B gallons last year... more than @united and @AmericanAir combined. #EnergySecurity. http://t.co/t3Erhufura', \"RT @DublinAirport: @RoseofTralee_ Haley O'Sullivan and @AmericanAir pilot Kenneth Schroepfer leaving @DublinAirport for Chicago http://t.co…\", 'Thank you @AmericanAir, you guys are great understandable people who care and value your customers', 'The unprofessionalism of @AmericanAir is ridiculous. Such an unhappy customer. I just want to go home.', '@AmericanAir Are you kids items like pack and plays and car seats counted as baggage?', \"@AmericanAir They look so good! I don't know what to choose\", '@AmericanAir Well yes… Friday, when I come home from the UK. Another trip will have to wait!', '@AmericanAir  not very easy to move forward on this claim as AA will not offer me options. I have to pay towards a new suitcase regardless', 'RT @AmericanAir: Pride &amp; honor. That’s what flight attendants feel throughout their careers. Earn your wings at the #newAmerican: http://t.…', 'RT @airfarewatchdog: ATL-#Vegas on @AmericanAir $222 RT #travel thru mid May 2014 http://t.co/Psl9Pkd4L5 @Atlanta_Airport', 'RT @e_russell: .@AmericanAir reports 3.2% increase in PRASM in Sep. Follows DL up 5.5%, US 6%. @united PRASM continues to suffer, flat in S…', 'RT @AmericanAir: Pride &amp; honor. That’s what flight attendants feel throughout their careers. Earn your wings at the #newAmerican: http://t.…', \"@AmericanAir I just got a notification it's at 930. It was 730p\", '@AmericanAir haha. Thank you ;)', 'RT @AmericanAir: Pride &amp; honor. That’s what flight attendants feel throughout their careers. Earn your wings at the #newAmerican: http://t.…', \"@AmericanAir I don't see the link.\", \"After today, don't tempt me! LOL MT @AmericanAir: Pride &amp; honor. Earn your wings at the #newAmerican: http://t.co/xCjXLkibCd\", 'RT @AmericanAir: Pride &amp; honor. That’s what flight attendants feel throughout their careers. Earn your wings at the #newAmerican: http://t.…', \"@AmericanAir is there a way to re-apply if I didn't get it on the first try?\", 'RT @AmericanAir: Pride &amp; honor. That’s what flight attendants feel throughout their careers. Earn your wings at the #newAmerican: http://t.…', 'Why am I even bothering to read the airfare emails that come from @AmericanAir? I have no money. #traveladdict', 'RT @AmericanAir: Pride &amp; honor. That’s what flight attendants feel throughout their careers. Earn your wings at the #newAmerican: http://t.…', '@AmericanAir I gotta say I really like the new logo of the #newAmerican. Very striking. Looks great on the vertical stabilizer!', 'RT @AmericanAir: Pride &amp; honor. That’s what flight attendants feel throughout their careers. Earn your wings at the #newAmerican: http://t.…', '.@AmericanAir reports 3.2% increase in PRASM in Sep. Follows DL up 5.5%, US 6%. @united PRASM continues to suffer, flat in Sep.', '@AmericanAir Do you guys serve the coolest food ever?', '.@AmericanAir what a disaster. I should have stuck with United', '@AmericanAir 1593', '.@AmericanAir is really testing my loyalty this week.  5 hour delay coming and at least a 2 hour delay on the trip home.', 'Finally!  Trying out the new @AmericanAir scheme... 773 to LHR to start the Euro @Porsche trip.  Helmet in hand. http://t.co/nGIl4msuGG', '@AmericanAir @melisaobrate', '', 'n the Miami airport- on my way home!', \"@AmericanAir Also, (not) sorry that from now on, I'll only be buying @SouthwestAir: NO Change fees;CANCELED flights: full credit for future\", '@AmericanAir - Miami d30 club.', '@AmericanAir I think you missed the part where I said never again.', \"@AmericanAir I know you guys are. I'm sorry that I now won't be cancelling that ticket so you're unable to resell it and make more money.\", 'RT @AmericanAir: @lainalocz Thanks, Laina.', '@AmericanAir perfect :)', 'RT @AmericanAir: @greggarman Anything is possible, Greg! We hope it makes for a very comfortable flight.', \"@AmericanAir It's also a great time to visit Dallas ;)\", \"@AmericanAir 'rebooking' towards another flight PLUS an added $200 'change fee' is highway robbery and not the way to keep customers\", 'RT @AmericanAir: @lainalocz Our apologies again for your frustration, Laina.', \"RT @AmericanAir: @lainalocz We've received your DM and we'll respond shortly.\", '@AmericanAir Alright', 'I am sitting at the club at D30 with some of friendliest @AmericanAir bar staff I have seen in years!', \"@AmericanAir   $200 to CANCEL a ticket, on top of the already $175 for the ticket itself, doesn't really make me want to. #changefeesarebs\", '@AmericanAir what happened to Matt Flynn ??', 'RT @AmericanAir: @greggarman Anything is possible, Greg! We hope it makes for a very comfortable flight.', \"Mandatory $200 flight change fees are pointless. That's one less customer for @AmericanAir. Never will I fly with them again, ever.\", '@AmericanAir I was canceling a reservation.', \"@AmericanAir I followed y'all\", 'RT @AmericanAir: @lainalocz Our apologies for the typo, Laina, please follow and DM your details so we can take a look.', 'RT @AmericanAir: @greggarman Anything is possible, Greg! We hope it makes for a very comfortable flight.', 'RT @PARTNERSUSERGRP: PARTNERS is almost here. Are you registered?  Join @AmericanAir, @ProcterGamble and others in the data analytics conve…', '#Loyalty101 RT @AmericanAir: @RedCarpetAgency Please check with AAdvantage Customer Service at 800-882-8880 for any possible elite...', 'Thanks @AmericanAir for another great flight... ❤️✈️', '@AmericanAir  #ThingsThatAnnoyMe', '@AmericanAir hoping May for sure LHR-ATL via DFW ;)', \"@AmericanAir I checked in online tonight, how do I check if I've done this correct?\", 'After having problems with @AmericanAir, I have confirmed that @SouthwestAir is the ONLY way to fly!!', \"I'm at American Airlines Admirals Club - @americanair (Chicago, IL) w/ 2 others http://t.co/fk8DRwK740\", \"@AmericanAir I'm looking for a receipt for my bags and for my change fee, not my original ticket. The site only does it for my ticket.\", '@AmericanAir help would be appreciated', 'Finally getting to experience a new @AmericanAir plane - updated, modern features are nice!', 'How about reinstate my status, that would really show how you appreciate business and leisure travel loyalty #2Ktraveler RT @AmericanAir:...', 'Dear @AmericanAir, can I ask why it costs me $200 to CANCEL a flight, so you can just resell the ticket for another $300? #dumbbusiness', '@AmericanAir why was Matt Flynn moved from his first class to 3rd class and then cut??', '@AmericanAi', '', '1565. Please spare me the \"events happen that are beyond our control\" nonsense.   Regrettable decision once again.', '\"Everybody Hurts\" playing on delayed flight 931. Oh, @AmericanAir I still love you. #isntitironic', \"@AmericanAir I'm back in the UK, flew home Sunday but yes I really enjoyed myself :)\", \"RT @AmericanAir: @youngaj_aaron We're happy that you were entertained with the #WiFi! Thanks for flying.\", '\"@AmericanAir: @youngaj_aaron We\\'re happy that you were entertained with the #WiFi! Thanks for flying.\"', 'RT @WillBrinson: Love this. @AmericanAir tried to help \"Matt Flynn\" after his release &amp; seat downgrade http://t.co/n5OUIxcIby via @cbssports', '@alixrose I think this is for you... RT @AmericanAir: @DrewMcM  Wef appreciate your patience, Alix.', '@AmericanAir worth a try!  :-)', 'RT @FlyVPS: When can we expect you? MT @HiltonSandestin: Hey #Dallas! $130 Roundtrip from @dfwairport to @FlyVPS on @AmericanAir! #TravelTu…', \"@AmericanAir Siite won't let me request receipt. It says I'm not eligible for a refund, though I don't need a refund. Just receipts.\", 'RT @AmericanAir: @emilylreichert Have a great time in AUS with Elizabeth, Emily!', 'RT @avgeek777: Downtown Chicago @AmericanAir http://t.co/bGrPyBMIVv', \"@AmericanAir how do I check if I've checked in correctly?\", '@AmericanAir looking fine in the #London #fall sunshine :-) http://t.co/nHCtft6I69', '@AmericanAir You too!', 'RT @kidtravel: @CruiseRadio @CruiseGuy @OrlandoChris @AskJamaica @VegasBiLL @kurtkutay @jkheaton @AmericanAir @lohayes Happy #TT!', '@AmericanAir 3062 ORD-CVG', 'Downtown Chicago @AmericanAir http://t.co/bGrPyBMIVv', 'Heading to Miami, FL. (@ American Airlines Admirals Club DFW-C - @americanair w/ 2 others) http://t.co/fV0MziJLZ0', 'RT @AmericanAir: @emilylreichert Have a great time in AUS with Elizabeth, Emily!', \"@AmericanAir Thank you! I'll keep updating my application until I have the opportunity to join the #newAmerican.\", '@AmericanAir that and looking up a trip stateside', 'Crossing fingers @AmericanAir that AA2453 departs ASAP so I can make my connection to AA161 to Maui! Msg me for record locator and options.', 'I am counting on @AmericanAir to bring me good luck this month as I go to close some deals in Dallas and DC :)', \"@AmericanAir do you have a number I can call? I called customer services and they won't help me\", 'RT @AmericanAir: @thejohneustace We appreciate you taking the time to let us know, John. Have a great day! #TT', 'RT @ckgregory: @AmericanAir lower the bike fees! #enoughsaid', 'The @AmericanAir website is like a library without books. No information can be found there...', '@AmericanAir http://t.co/YmCXZaDjHa', \"@AmericanAir you're more then welcome, hope you've had a great day today?\", '@AmericanAir I will, thank you.', 'RT @airfarewatchdog: ATL-#Vegas on @AmericanAir $222 RT #travel thru mid May 2014 http://t.co/Psl9Pkd4L5 @Atlanta_Airport', \"@AmericanAir haha wow! Thank you! And likewise! See y'all again soon!✈️\", \"RT @AmericanAir: @nicapilot You're very welcome, Fernando! Enjoy your fligt\", 'An @AmericanAir delay caused me to miss my connecting flight at ORD. Been here all afternoon and now the rebooked flight is late. Not happy.', 'When can we expect you? MT @HiltonSandestin: Hey #Dallas! $130 Roundtrip from @dfwairport to @FlyVPS on @AmericanAir! #TravelTuesday #TTOT', 'RT @airfarewatchdog: ATL-#Vegas on @AmericanAir $222 RT #travel thru mid May 2014 http://t.co/Psl9Pkd4L5 @Atlanta_Airport', 'Understood but I was dropped from my status despite my 10+yrs of loyalty. So frustrating, loyalty means nothing today RT @AmericanAir:...', '@AmericanAir I hope so, after the day of traveling I had it would be nice to have my baggage back. Thanks.', 'RT @airfarewatchdog: ATL-#Vegas on @AmericanAir $222 RT #travel thru mid May 2014 http://t.co/Psl9Pkd4L5 @Atlanta_Airport', '@AmericanAir you think somebody could actually answer the phones? I have a broken chair that urgently needs replacing and nobody will help!', \"@AmericanAir I applied for my dream job as an #AAPilot. I hope to be part of the team soon. I'm current on the B-737 w/ international exp.\", \"@AmericanAir I'm sure it would be a cheesy elevator version if I did. Which is especially annoying when stuck on the Tarmac for an extra 40.\", \"RT @TobyKingslea: @AmericanAir Ok well I'm a student so free tickets would be brilliant\", \"I am so happy and surprised too!! '@AmericanAir: @jryannyc Jeffery-Ryan, we're glad you've received your iPad mini so quickly!”\", '@AmericanAir just got a call - has been found and forwarded to ORD. Lets hope it turns up!', 'RT @airfarewatchdog: ATL-#Vegas on @AmericanAir $222 RT #travel thru mid May 2014 http://t.co/Psl9Pkd4L5 @Atlanta_Airport', 'Maybe Julio can cum kick it? RT @airfarewatchdog: ATL-#Vegas on @AmericanAir $222 RT #travel thru mid May 2014', '@AmericanAir Nah, I wasnt that lucky!', '@bellawonder @AmericanAir Totally, after a delayed plane, a missed connection and getting home 4 hrs later than expected. So exhausting.', '@AmericanAir you guys saved my butt today when I missed my flight, thanks!!!!', '@alixrose @AmericanAir That is exhausting.', '@americanair I feel like I am cheating on you!  Exec plat and now taking my first trip on @united  I am sure they will take good care of me!', \"@AmericanAir Most times I do...Just don't report the mishaps cause I'm sure you already get those.  Ha!\", \"@DrewMcM @AmericanAir Thanks. Obviously there's nothing I can do, so deep breaths it is.\", \"@alixrose Deep breathes... It'll show up! @AmericanAir\", \"@AmericanAir Ok well I'm a student so free tickets would be brilliant\", \"One of Chicago's famous landmarks, Cloud Gate in Millennium Park otherwise known as The Bean @AmericanAir http://t.co/5F81s4d7HH\", '@mottiseligson @AmericanAir great pic!', '@AmericanAir Nice plane ;)', '@AmericanAir  Do you know anything about servicing clients and minimizing problems instead of being rude and unprofessional', '@AmericanAir well played', 'RT @AmericanAir: @elias_trejo Elias, check here for our travel deals: http://t.co/kD783cEPjD. We hope we see you on board with us', '@AmericanAir customer service via telephone was abrupt and rude and offered no compromise.', '@AmericanAir arrived one hour before my red eye from Sea-Tac. All kiosks were shut down and no attendants were working.  I missed my flight', \"@AmericanAir Sorrys don't mean anything without change. Have some accountability to your customers.\", \"Trying not to panic, but I just heard from @AmericanAir that my luggage has not been located. But they know it's in Dallas! I just can't....\", 'RT @MarshaCollier: #Sparkly \"From NY to the World\" Sculpture by Fazzino at JFK @AmericanAir http://t.co/pbsoBQ6W4T', '@AmericanAir 27 hours with no clean clothes...', '@AmericanAir  American Airlines: You are even worse than Qatar airlines in your treatment of passengers', \"@AmericanAir what's the point of having over 1K miles and not have priority boarding..#EPICFail\", \"@AmericanAir That's $500.00. Please remit at your convenience.\", 'Thank you @AmericanAir for this great view near ANC. It was a nice ride on a #newAmerican airplane. Great crew too! http://t.co/Xj7oDQRl6S', 'RT @MarshaCollier: #Sparkly \"From NY to the World\" Sculpture by Fazzino at JFK @AmericanAir http://t.co/pbsoBQ6W4T', 'YOU RAISE ME UP...ELEVATOR VERSION!!! WTF @AmericanAir #notAgain', '@AmericanAir No, my sister got married on Sunday!', '@MindyNicolet @AmericanAir when are they saying they can get you to Hawaii?', '@AmericanAir I enjoy your #GOGO In Flight Entertainment. Trip To Los Angeles #LAX !!!', '@AmericanAir  do you know anything about servicing clients and minimizing problems instead of being rude?', 'On a whim, checked flights for trip to Dallas. $130 roundtrip direct to/from DSM. How does @AmericanAir make profit on that? Not complaining', '@AmericanAir. American Airlines: You are even worse than Qatar airlines in your treatment of passengers', 'RT @Elias_Trejo: Hey, @AmericanAir the #Raiders play in London next year. I think the forces of the Universe are trying to tell us somethin…', '@AmericanAir I managed to get it to work. Keep your fingers crossed for me!!', \"@AmericanAir Oh I've never flown AA, I've just seen an advert.\", \"So since @AmericanAir ruined an otherwise great day yesterday I'm late to tweet this J-E-T-S JETS JETS JETS. and Wacha was amazing #Cards\", \"@JRyanNYC great work @FedEx @AmericanAir! And congrats on getting it back. That's fantastic.\", '@AmericanAir No first class, but row 11. Would accept an upgrade on my flight back to first class however!', 'Love this commercial by @AmericanAir http://t.co/YmCXZaDjHa @drenoto #BryantMarketing', \"RT @TedRubin: Doesn't help RT @AmericanAir: @tedrubin Next time ur flying w/us, reach out to @Gogo inflight. They'll respond back. Have a g…\", '@AmericanAir Also...Claudia, flight attendant on #2234 TPA-MIA was great. Please let her know.', \"RT @1to1Media: Tweeting About American Airlines' Social Strategy: http://t.co/csUHf6tZT5 @jonnorp @AmericanAir #traveltuesday #UNTJ4270\", '40 minutes of delay sitting on an @AmericanAir plane.  This sucks', '', 'troubledindustrywonderwhy', 'RT @Elias_Trejo: Hey, @AmericanAir the #Raiders play in London next year. I think the forces of the Universe are trying to tell us somethin…', \"The show must go on! @AmericanAir Antitrust Case Won't Be Delayed by Shutdown, Judge Says http://t.co/mDVp9VZ1fJ @ThaRealHeatFan22h\", '@AmericanAir My pleasure! Thx!  @Gogo', \"boycotting @AmericanAir these fuckers can't even get us out of Chicago #missingKona #unfuckinbelievable\", 'Hey, @AmericanAir the #Raiders play in London next year. I think the forces of the Universe are trying to tell us something. #2TicketsPlease', '@AmericanAir You guys too. I hope AA invites me someday for a ride in the simulator. I love those!', '@AmericanAir Forgot to mention from Sunday...Gena (flight attendant) on Flight 183 LAS-LAX is the best.  Please let her know.', '@AmericanAir thanks will do!', '@AmericanAir best airlines out there', 'Bueno afortunadamente todo salió bien para mi mamá, ya en Miami después de algunos tropiezos con @AmericanAir, @CopaAirlines fue la Solución', '@AmericanAir I have been a @SouthwestAir loyal for YEARS but if you guys impress me on my next flight to RNO you will pull me over for sure!', '@AmericanAir it took only one day for my iPad Mini (via @FedEx) to get to my door when I paid for 2-day delivery! You guys are amazing! xx', 'After this weekend and subsequent phone calls, I will NEVER fly @AmericanAir again! Terrible customer service at every level.', \"@olivergavin @AmericanAir Quite a month you've had.\", '@AmericanAir How do I know my document number?', \"RT @AmericanAir: @robertirvine We'll see what we can do about that!\", \"RT @RobertIrvine: @AmericanAir let's make it happen then , justin@chefirvine.com please\", '@AmericanAir Please bring American Airlines to #BlackBerry10. Yvu', \"RT @AmericanAir: @robertirvine We'd love that, Robert!\", 'RT @RobertIrvine: @AmericanAir we need a first class Robert Irvine menu for all of American', 'I just got home to an @FedEx package at my door! @AmericanAir MY iPad Mini has ARRIVED HOME SAFELY FROM OKC!!!! Thank you! xx', '@AmericanAir don’t try, help. Cc @jorilallo', 'RT @houndsandheroes: We had the honor to attend @AmericanAir Sky Ball! Our founder with GySgt Lucca &amp; SSG Chris Willingham. #Heroes  http…', '@AmericanAir Maybe, those sorts of experiences stick with kids. Thanks again!', '@AmericanAir 1515. I bill at $250/hour- where do I send my invoice for $9,000 for the 2013 delays?', 'RT @christhile: .@richardblocher @AmericanAir the problem with this philosophy is that many musicians can’t ignore music if it’s on, myself…', 'RT @Hiqutipie: ▐▀█▀▌╔═╗╦═╗╔═╗╗░', '░█░░║█║║░║╠═╣╚═', '░█░░╚═╝╩═╝╩░║══', '█▓#FoLLoW #Today▒▓█► @T_O_D_A_Y @greensboro_nc @AmericanAir …', \"@AmericanAir i've messaged/called you guys countless times about it and visited the desk at heathrow, you can't find it apparently!\", '@TedRubin What the heck is Gogo? @AmericanAir @Gogo', '#Sparkly \"From NY to the World\" Sculpture by Fazzino at JFK @AmericanAir http://t.co/pbsoBQ6W4T', '@AmericanAir thanks!  All those miles to &amp; from Australia means we get to travel in 1st!  Thanks for a great beginning &amp; end to vacation!', \"@TedRubin But...if you're flying and can't get on @Gogo how are you supposed to tweet them? @AmericanAir\", 'After 90 minutes of talking, your reservation supervisor finally helped out and did a great job. Thank you @AmericanAir.', \"Doesn't help RT @AmericanAir: @tedrubin Next time ur flying w/us, reach out to @Gogo inflight. They'll respond back. Have a great day, Ted.\", \"@SouthwestAir PLEASE add more (cheaper) flights from PNS to RNO. I am about to become an @AmericanAir loyal if choices don't get better\", \"@AmericanAir I'm trying to reserve seat for upcoming trip and it's not working, can you help?\", '@AmericanAir Can you reissue receipts for baggage fees and change fees? Trying to finalize an expense report!', '@AmericanAir thanks for the update', 'Broken aircraft= delayed and likely cancelled flight. Thanks again @AmericanAir. #laststraw', 'A big kudos to @AmericanAir for helping me out with a change to my flight today. #SavedMyBacon', \".@AmericanAir tried to help 'Matt Flynn' after release and downgrade http://t.co/77ZDfPze5k via @MarkZaiger\", \"@AmericanAir that's her connection that she's gonna miss .\", '@AmericanAir 1643', \"@AmericanAir Indeed it is.... It's a 777-300ER, you better watch it, I might steal this plane if I have the chance! LOL! ;)\", \"@Crash_Games @Delta @AmericanAir I'd make the decision based on the plane and the seats.\", \"So @AmericanAir did it again. Stranding my wife in an airport. She's not gonna make the #preds game tonight. I think they should repay us.\", '@Crash_Games @Delta @AmericanAir I prefer @Delta as I am closer to a hub.', 'Incredibly frustrating every time I try on @AmericanAir RT @scotharde: @TedRubin @Gogo I stopped using their svc on flights...No', '@AmericanAir I just landed at DFW with my new plane in my Flight Simulator! Look', \"I'm at American Airlines Admirals Club - @americanair (Los Angeles, CA) w/ 2 others http://t.co/9a0noXrLlc\", '@Crash_Games @Delta @AmericanAir British Airways (awesome food).', '@AmericanAir ...now delayed 45 min. High hopes shut down :/ #lowerexpectations', 'RT @Hiqutipie: ▐▀█▀▌╔═╗╦═╗╔═╗╗░', '░█░░║█║║░║╠═╣╚═', '░█░░╚═╝╩═╝╩░║══', '█▓#FoLLoW #Today▒▓█► @T_O_D_A_Y @greensboro_nc @AmericanAir …', '▐▀█▀▌╔═╗╦═╗╔═╗╗░', '░█░░║█║║░║╠═╣╚═', '░█░░╚═╝╩═╝╩░║══', '█▓#FoLLoW #Today▒▓█► @T_O_D_A_Y @greensboro_nc @AmericanAir @That_girl_me', \"I'm at American Airlines Admirals Club - @americanair (Chicago, IL) http://t.co/6ChBrV3Awq\", '@AmericanAir footer is the new header', \"For International Flights who's better @Delta or @AmericanAir GO!\", \"@AmericanAir I was able to but why in earth the check-in button is almost on the footer of the page? It's the call-to-action\", \"@AmericanAir My application keeps freezing half way through. I've completed the work experience/experience section...\", 'We have great sponsor supporting our event on Saturday October 12th. @AARP @AmericanAir @kroger @HomeDepot.', 'Not helping - “@AmericanAir: @jorilallo Our apologies for any difficulty checking in, Jori. Have a wonderful flight!”', \"“@AmericanAir: @bkoech We can understand your frustration, Bob. We hope you'll give us another try.” Refund and I'll keep you on the list!\", \"@AmericanAir new ios7 app doesn't refresh seat or gate changes in passbook.  Can you have the team look into it?  Thanks!!\", \"Delighted with @AmericanAir right now. Admirals club. Fast boarding w/ piped music/pics. Full row to myself. Keep it up and I'll be loyal!\", '@AmericanAir forced to upgrade seats due to no availability, yet several rows of seat vacant. Waste of $150. Last time flying this airline.', '@AmericanAir oh I found one. :) just a suggest watching others. Thanks for the reply', 'Flew in a brand new 777-300 with @AmericanAir this weekend, much improved product, but a very loud cabin.', \"@AmericanAir you should work with O'Hare to put in some additional phone/laptop charging stations. Hard to find a plug at most gates.\", \"@AmericanAir great. I'd recommend a policy that allows them and their families to board early. BTW, it wasn't me with the kids.\", 'RT @AlfredoFlores: @AmericanAir Tokyo.', '@AmericanAir Thank you', '@AmericanAir i am only traveling with carry on and now i need to be there 2h in advance and line up with the tourist......', '@AmericanAir seriously? Why make my life so complicated? Other airlines manage to do online check in.....i', 'RT @AmericanAir: @hiltonsandestin Thanks for the mention! Have a #TT.', \"RT @AmericanAir: @lesliesbrocco We're glad TSAPrecheck helped speed up you trip! #TT\", '@AmericanAir I am trying to check in for my flight to the US but I can not. Get error that I should register with ESTA but I have VISA!', '@AmericanAir and another great experience today! :)', '@AmericanAir ;) My 4-year-old has been telling everyone about your pilot who let him sit in the cockpit after our flight last Friday!', '.@AmericanAir we must have different definitions of help- but yeah I understand there is literally nothing you can do to fix your mistake', \"@AmericanAir Thanks for doing that.  She's a Shining Star &amp; deserves to be recognized as such.\", 'RT @AmericanAir: @christy_parrott We can offer help but no upgrades, Christy. Have a good day.', 'RT @AmericanAir: @raniadaboss Thanks for the love, Roni! You can check this link to see if we have any deals that fit your needs: http://t.…', 'Hey #Dallas! $130 Roundtrip from @dfwairport to @FlyVPS on @AmericanAir! Your #HiltonSandestin #beach trip awaits! #TravelTuesday #TTOT', 'Brands looking for Augmented Reality Print Advertising? http://t.co/bkr34iUKEa @AmericanAir @DellOutlet @Charmin @McDonalds @Skittles', 'empresarios sin ética no tienen buen final:Las tarifas de @AmericanAir ya no se ofrecen en @DespegarAr http://t.co/J1CkaiOgWO … @BajoConsumo', \"@AmericanAir I found Yadira Rodriguez @ the terminal. She's Having Lunch! How cute of her! Meanwhile I miss my business meeting.I AM LIVID!\", '@AmericanAir I already have three times.', '@AmericanAir I will let you know.', '@AmericanAir 2291after she got me changed. Sandra was working 1st Class ticketing/check-in at around 4:00pm at MCO. She was just the best!!', '@AmericanAir Her Response: \"Gate CLOSED\" and she rushed out, no help, nothing. I had to call the dreaded CS line to get rebooked. Shame!', '@AmericanAir Will do! The service on my inbound AA2240 was exemplary, so I like to let you guys know about the rare disappointments.', \"@Elias_Trejo @BHugh215 @FOXSports With Flynn's luck he will prob end up as President of @AmericanAir with a 100 million CEO Salary\", \"@BHugh215 @FOXSports Looks like we're getting some more love @AmericanAir\", '@AmericanAir flight number AA3340 to DTW! Check your log! She closed the Gate at 1:09pm! DEPARTURE was SUPPOSED TO BE 1:29pm!', 'RT @AmericanAir: @FernandoKnust Have a very productive day, Fernando! Enjoy the #AdmiralsClub.', '@AmericanAir Yadira Rodriguez has NO SENSE OF CUSTOMER SERVICE! I AM DISGUSTED!', 'First Class service SEA-JFK on @AmericanAir Flight 236 today was beyond exceptional! These guys know how to do it! #unexpectedupgrade', 'RT @FOXSportsLive: Best Customer Service of the day goes to @AmericanAir', '', \"t's just not Matt Flynn's day. (via @Elias_Trejo) http://t.co/…\", \"Flying Business!? STAY AWAY FROM @AmericanAir! Gate Agent Yadira Rodriguez didn't even ask if I wanted to be placed on another flight! SMFH!\", 'There is something special in the air, and It smells like extortion. What was the ticket price for, if not a seat on the plane @americanair?', \"@AmericanAir I'm loyal. 3M miles. I just want to make you better\", \"“@AmericanAir: Hi Leslie, hope you're not too close to departure. What's your flight?” I'll make it!! Benefits of EP status and @tsapre ;)\", '@AmericanAir Kudos to Sandra who was working 1st Class check-in yesterday afternoon at MCO. Magical customer service! Much appreciated!!', \"My Business Flight with @AmericanAir was scheduled for 1:29pm Departure out of LGA! Yadira Rodriguez Closed Gate at 1:09pm! I'm DISGUSTED!!\", \"Horrible Experience w/ @AmericanAir Gate Agent Yanira Rodriguez out of LGA! She Is The WORST Customer Service Person I've Ever Dealt With!\", '@AmericanAir Get the person a bike.', '@AmericanAir Again, I have already received my response. @Delta was able to help their customers with this issue while you all did not.', 'We had the honor to attend @AmericanAir Sky Ball! Our founder with GySgt Lucca &amp; SSG Chris Willingham. #Heroes  http://t.co/7GpQy2U0Pt', '@AmericanAir \"sent\"', '@AmericanAir Again? Just send another ping into this already endless DM thread with you guys. LMK if you still need the number.', '@AmericanAir :/ @gogo is the worst!', \"RT @airfarewatchdog: Any idea what your airline's policy is on flight attendants accepting gratuities? @AmericanAir @United @JetBlue @Delta\", 'On July 12 @AmericanAir promised me flight vouchers to heal a miserable overall experience. Asked 3 times. Never received. Feeling betrayed.', '@AmericanAir I was in H/K.', 'RT @the_anish: Thawing the frost: Behind the scenes of @AmericanAir’s landmark @Airbus order http://t.co/9pOKPEyD8f via @airchive #avgeek', '@AmericanAir Can I get a free day pass for wifi?  Or else I am going with United.  They have DirectTV…', '@AmericanAir And then what happens when there is no seat?', '@AmericanAir Seriously gotta do a better job cleaning up the Admirals Club, guys! Trash everywhere! http://t.co/lIEYZmyYpv', \"@AmericanAir I'm number 2 on the #list back to LA. Hope I don't get demoted ;)\", '@UN @FoxNews @AmericanAir @UnitedAirElite @Delta @AeroMexico_com@SouthwestAir @FlyFrontier @JetBlue @British_Airways  http://t.co/UjZCMbxNB7', 'RT @the_anish: Thawing the frost: Behind the scenes of @AmericanAir’s landmark @Airbus order http://t.co/9pOKPEyD8f via @airchive #avgeek', '@airfarewatchdog @AmericanAir @United @JetBlue @Delta mt GF is a CP at #NH and they willingly accept all the time. she scored #vueve once', \"@AmericanAir The tickets are already bought, so I am. I have flown with you all before, so I have. All I'm asking for is a simple credit.\", 'We had great experiences with @AmericanAir both ways. It made flying alone with the kids a lot easier on me!', '@AmericanAir just trying to book STL - DFW...the usual ;)', '@AmericanAir you guys are on-time ;) for the most part, anyway! And nicer.', '@delta &gt;&gt;&gt;&gt;&gt; @AmericanAir', '¡Mi primer check-in en Queens! (@americanair) http://t.co/jh8aGrs5Wd http://t.co/LikcxGL7WW', \"I'm at American Airlines Admirals Club - @americanair (Flushing, NY) http://t.co/6ncY22KYOI\", \"Uh oh... @AmericanAir's online booking is down... do I dare try @united? No, I'm just kidding. I'll wait. #UnitedSucks\", \"RT @AmericanAir: @addevilman For more information on traveling with medication, here's a link: http://t.co/IWG6DPGgOA.\", 'Thanks to our #SummitNYC contributing supporters: @AmericanAir @EnneadArch Extell @GoldmanSachs @HOKNetwork', \"@AmericanAir think I'll be ok, should make the connection in Chicago to Manchester, fingers crossed\", '@AmericanAir About to book a flight...  Was wondering if you had DirectTV', '@AmericanAir I received my response. I standby my original tweet. @Delta was able perform better for my friend than your customer service.', '@AmericanAir Why am I paying more $ for a seat and the flight is not close to full #moneyhungryairline', 'Mission cumplida @AmericanAir #1488 vía Miami.', \"@AmericanAir You'd already sent that link ... but thanks!\", 'Thanks @AmericanAir for the free upgrade today  !', 'Can\\'t wait for Cancun in 1st class now--- \"@EatsBeat: Those new @AmericanAir pasta dishes? They\\'re by chef @jivetacchino of @FerrarisVilla', \"@AmericanAir It's helpful, but I have an even better one ... how 'bout dropping the charge for 1st checked bag? More room in the cabin!\", '@AmericanAir and bag was #3 out in baggage claim.  Happy traveler!', '@AmericanAir you have done it again two trips in a row and the flight have been delayed. Would like to get home :-(', '@AmericanAir Ahh, good to know. I think the process has changed relatively recently, then.', \"Those new @AmericanAir pasta dishes? They're by chef @jivetacchino of @FerrarisVilla in Grapevine http://t.co/kju5YIIASK\", 'On time departures and early arrivals!  Thanks @AmericanAir.  #priorityaccess', 'RT @AmericanAir: Delicious pasta at 36k feet? You bet. A Texas-based chef created 4 new dishes for domestic travelers. Bon appetit! http://…', '@AmericanAir anytime...', '@AmericanAir Any chance any of them are vegan? Thanks!', \"@AmericanAir That's a great work! Will definitely expect more form you.\", 'RT @DJMARKDASPOT: Good Morning Everyone! Thx GOD For Another Day! Goodbye Dallas! Wheels up  @americanair - Next Stop #LAX http://t.co/lNpd…', \"@AmericanAir I'll play again if you can stop tony from throwing costly, 4th quarter interceptions.\", 'RT @USVITourism: #TravelTip Plan on island hopping? Book your @FlySeaborne through the @AmericanAir by selecting all carriers. #traveltuesd…', '@AmericanAir New colour scheme is quite fetching, too. Very smart. ...Well done!', \"@AmericanAir Thank you for making my once-in-a-lifetime trip to Paris absolutely miserable already by downgrading me! It's so appreciated!\", '@AmericanAir I sure hope u let people with weed can get on a plane that are legal to have its no difference in pills for medical needsthanks', \"@AmericanAir Can't wait to try it!  can you make it Gluten Free?\", '@AmericanAir ... just keep the Nightmareliners away from LHR, please ... they have to pass over my drum ...', '.@AmericanAir charges ~$200 to CANCEL a flight. They get to sell your seat to someone else, but you pay double. Customer Service #Fail', '@AmericanAir Oh! Forgot! Like your new advert (on UK TV), by the way. New kit, as well ...', 'RT @AmericanAir: Delicious pasta at 36k feet? You bet. A Texas-based chef created 4 new dishes for domestic travelers. Bon appetit! http://…', 'RT @AmericanAir: Delicious pasta at 36k feet? You bet. A Texas-based chef created 4 new dishes for domestic travelers. Bon appetit! http://…', '@AmericanAir As I have heard that AA cookies are on a par with @emirates apple pies...', 'RT @globalnomad: @americanair Honor Flight arrived this morning. Thanks for supporting such a great org!! @warriorgateway @wg_ceo #WW2 http…', '@AmericanAir Indeed, end October guys ! *^▁^*', '@AmericanAir Airlines are sooooo into rabbit food, these days (excluding cookies at tea time, of course)', '@AmericanAir .. preferably followed by a good pudding, with lumpy custard all washed down by a nice mug of tea.', '@AmericanAir fair enough. Thanks for getting back to me. I do appreciate it.', '@AmericanAir How do people survive? Pasta .... Meat, 2 veg, spuds and gravy  is what is required.', '@FlyEIA @AmericanAir they know Alberta  is beautiful destination!', \".@AmericanAir I already did at 2 am and they were just an absolute joy. But they couldn't do an upgrade? Any chances AA twitterverse?\", 'RT @AmericanAir: Delicious pasta at 36k feet? You bet. A Texas-based chef created 4 new dishes for domestic travelers. Bon appetit! http://…', 'RT @mobilityxchange: The #EMEUS are proud to announce that @AmericanAir will be joining us in Las Vegas #BYOD #MDM #mobileapps  Join them h…', \"@AmericanAir let's make it happen then , justin@chefirvine.com please\", '@AmericanAir you will for sure!!', \"@AmericanAir Probably! If you don't like Alberta weather, wait 5 minutes. Or take one of your flights to some place warm LOL\", 'Check out http://t.co/J9PtixktFA @AmericanAir #everyone #anyone best blog I have seen in a long while. Proud of her @ChristaTravels #travel', '@AmericanAir Yummy yummy', \"RT @AmericanAir: @flyeia Hopefully you'll have sunny skies soon! Have a great day.\", '@AmericanAi', \"ope so too; #Pasta dishes on AA int'l flights are the ones I have tasted &amp; like.\", \"@AmericanAir Nothing but that's a good link to have!  Bookmarked it! Thanks!\", '@RobertIrvine @AmericanAir YES!', 'RT @stephanieespo: PLZ RTAsk @americanair @SouthwestAir @JetBlue @USAirways tofly families of soldiers KIA to Dover. #governmentshutdown ht…', 'RT @mobilityxchange: The #EMEUS are proud to announce that @AmericanAir will be joining us in Las Vegas #BYOD #MDM #mobileapps  Join them h…', 'The #EMEUS are proud to announce that @AmericanAir will be joining us in Las Vegas #BYOD #MDM #mobileapps  Join them http://t.co/mDBF1mzs44', 'RT @AmericanAir: Delicious pasta at 36k feet? You bet. A Texas-based chef created 4 new dishes for domestic travelers. Bon appetit!...', '@AmericanAir so do I, so do I!', \"@AmericanAir I wonder how many people are working on your twitter account. I'm thinking, 5? You guys tweet ALOT! #greatcustomerservice\", \"@AmericanAir    If you need a brand Ambassador then I'm your gal!\", '@AmericanAir Port Columbus Ohio from Dallas Fort Worth!', '@MarkA380 @emirates @AmericanAir @British_Airways it definitely is and I love it', \"RT @AmericanAir: @elias_trejo We're here 24/7 to help when we can, but we can't read a blitz. Have a great day!\", \"RT @AmericanAir: @elias_trejo We're not so sure we can help with that, Elias. We hope to see you on board with us soon.\", 'RT @Elias_Trejo: @AmericanAir Unless you can help someone with a weak arm and inability to read a blitz, I think it may be beyond your cont…', '@lindzzescott @emirates @AmericanAir @British_Airways aviation is definitely the new cool!', \"RT @AmericanAir: @Elias_Trejo We're not sure what you mean, Elias. Have Flynn contact us directly if assistance is needed.\", '@ps92264 @AmericanAir @AirCanada Good to hear! Grey and overcast here', 'So today I have seen an @emirates @AmericanAir &amp; @British_Airways advert on the tv #avgeekstakingover', \"@AmericanAir Thanks.  Here's a pick of maintenance cleaning off goose no.2   #sorry @peta #gooseVS747 http://t.co/WB6sD6OLBz\", '@AmericanAi', 'Pasta on AA flights are one of my Favs &amp; delish as well !', 'Yes, but do you also have contaminated water? MT @AmericanAir Delicious pasta at 36k feet? You bet. Bon appetit! http://t.co/CYMpceTHfb', '@AmericanAir we need a first class Robert Irvine menu for all of American', '@AmericanAir  Any Paleo options?  Looking forward to my SFO-Rome trip next April.', 'RT @AmericanAir: Delicious pasta at 36k feet? You bet. A Texas-based chef created 4 new dishes for domestic travelers. Bon appetit! http://…', '@AmericanAir That\\'s what I mean by \"constructive ticketing\" ... you\\'ll work it out :-)', '@AmericanAir Exciting! When will it be rolled out? Will it be available on international flights to South American in December?', '@AmericanAir oh that sounds yummy :)', \"I guess the people at @AmericanAir aren't very big football fans: http://t.co/sf4O9whnxa\", 'So funny! MT: @WillBrinson: Love this. @AmericanAir tried to help \"Matt Flynn\" after his release &amp; seat downgrade http://t.co/02DFRfgdc7', 'RT @AmericanAir: Delicious pasta at 36k feet? You bet. A Texas-based chef created 4 new dishes for domestic travelers. Bon appetit! http://…', 'RT @AmericanAir: Delicious pasta at 36k feet? You bet. A Texas-based chef created 4 new dishes for domestic travelers. Bon appetit! http://…', \"@americanair can't view my account, can't book a flight or search for flgts.  Some areas are fine, some are broken.\", '@swearyexpat @AmericanAir @British_Airways working on an upgrade I see ;-)', '@AmericanAir What??? No Steak-and-Kidney pie???', '@AmericanAir @briankeithdiaz you guys are cute.', 'RT @AmericanAir: Delicious pasta at 36k feet? You bet. A Texas-based chef created 4 new dishes for domestic travelers. Bon appetit! http://…', '@AmericanAir @marcelohallais Ah, eu também quero, só falta o dinheiro. Mas pode deixar que quando eu tiver, eu viajo com vocês! HAHAHAHHAHA', '@carlmartin @AmericanAir have a great trip. My first #nyc visit was a few weeks ago. Great time had! (PS visit USS Enterprise #boystoys)', '@AmericanAir AA136 15NOV LAXLHR .... biz class cabin ....', 'RT @AmericanAir: @giuliahallais @marcelohallais Hackeou não, Giulia. Queremos que você viaje conosco no futuro. Esperamos vê-la!', 'Dallas-bound. Make it special, @AmericanAir! #1387', '@stephanieespo @AmericanAir @SouthwestAir @JetBlue @USAirways', 'Thanks @AmericanAir @Bob_Mayer @MrScottEddy for being top new followers in my community this week (insight via http://t.co/ToS8PZtS2D)', 'Absolutely Gorgeous Morning here in #PalmSprings @AmericanAir @AirCanada @FlyEIA #PSP', '@AmericanAir However this only occurred on @airberlin transatlantic flights from ORD to TXL &amp; back. Internal Germany flights were fine.', \"@ahadjiyska @AmericanAir @MarshaCollier They are #AAwesome, aren't they?\", \"Everyone is excited to book #SoFabCon14 flights on @AmericanAir for cheap today but it's still $450+ for me :(\", \"@AmericanAir it's not American's fault. I just expected the same great service I get from you and your other partner airlines I fly\", \"@AmericanAir it's Matt, and flight 1076\", \"Admirations to the team behind @AmericanAir's Twitter acc, big leap towards brilliant cust service /cc @MarshaCollier @fmisle\", '@AmericanAir sad but @airberlin provided no perks for platinum status, no room on planes, food was atrocious, &amp; overall bad experience', \"Hopefully @USAirways isn't using @AmericanAir flight attendants.  They have a nasty attitude today. #crabby #firstclass\", '@AmericanAir Exactly - equiv: GBP5700.00-odd. Now, I will do exactly the same, on AA,  for GBP3677-odd (USD 5929)', '@AmericanAir You as well. .. flying out of TPA next week', \"I expect better from @AmericanAir partner airlines than what I received on Air Berlin's transatlantic flight.\", 'DFW - DCA Giddyup! (@ American Airlines Admirals Club DFW-C - @americanair) http://t.co/YLymigKEAN'], ['@Delta . I have been a great customer , I book a non stop flight that gets changed to a 1 stop and offer no compensation. @JetBlue I chose u', \"@TonioMarrero @Lauralcbl @USAirways @lorrainecladish @JetBlue that was *greet* - I'm pissed lol\", '@JetBlue just checked in and got my passbook boarding pass! Great mobile app...', \"@JetBlue Couldn't be happier. I will go out of my way to fly with you in the future, especially during football season.\", \"@JetBlue measuring the impact of your CSR Report - contact us for a 3rd Party Assessment - Measuring CSR to 3BL w/ KPI's, RWA and Human Cap.\", 'Best flight ever thanks to @DenverBroncos @dallascowboys on @JetBlue. Was able to watch the whole game BOS to TPA.', 'Another successful flight @JetBlue just a bit #rainy #sundays http://t.co/L1tShyHH79', '@MikeDavis88 I watched the race at 33k on @JetBlue!', '@JetBlue YES  you never fail to make me happy', 'RT @JetBlue: @ZachGregg18 NBC is Channel 2! #withdrawalsbegone Have a great flight!', '@Jetblue Great flight crew flight 1185', 'On my way to JFK for @JetBlue flight to New Orleans to perform w/Jane Krakowski tomorrow! #ActorAnnouncement', \"@JetBlue better have NBC... I haven't watched football all day and I'm going through withdrawals\", \"@CookingInRedSox @JetBlue gotta love jetBlue! My kiddos r returning home today fully equipped w/children's shows for entertainment.\", \"I really dig @JetBlue, but wish they had more flights into LGA. Pretty economical though &amp; I don't feel the service/aircraft is cheap.\", '@JetBlue he made me wait until after the preferred members, more leg room, and parents with children, did not do silent boarding for me', 'JetBlue Will Codeshare On All Current Emirates Flights To/From The United States http://t.co/vv0dhXOdzn @JetBlue @emirates #businesstravel', '@JetBlue I was already aware of this, and was dismissed by the gate agent when I asked him. He told me I would be helped once I boarded', '@JetBlue Just finished flight #83 JFK-MCO. It. Was. Awesome! Crew was great &amp; Bonnie was a doll! Thanks for being consistently wonderful!', '@JetBlue funny... Flight crew confessed a BOS ground stop. They are much better at sharing info than the company is...', '@gracefullypapa @JetBlue saawweeeeettttt', 'Beautiful weekend in Santa Barbara. Huge thanks to @Hertz and @JetBlue for excellent service today! Heading back to NYC.', 'Off to Vegas on @jetblue.. Looking forward to watching football at my seat.. (at @jetBlue Airways) http://t.co/HydCiVEP3d', '@JetBlue 1484. Why did I and many others at the gate sign up for alerts? #jetblue has always been bad at sharing info.', '@929TheGame @BrookingsInst @creditcardmix @AdobeBra @adobebrowserlab @PokerAtlas @JetBlue @MiamiHEAT @CNBCFastMoney #MilleniumFALCONGAMEON$:', 'RT @maggielang: Love @Adweek piece on @JetBlue #SM strategy &amp; philosophy (echoes ours @Kimpton), featuring @martysg &amp; @MHJohnston: http://t…', \"@JetBlue #delta flight to Boston announced a ground stop in Boston.  Jetblue still hasn't told us ANYTHING. Signed up for alerts, too.\", \"RT @JetBlue: @carolynbpayne Not sure that would fly so well with the other customers on your flight. Don't worry though, we'll take you bac…\", \"@VisitSavannah @Jauntaroo @JetBlue I've lived in Georgia all my life and have never been! I hope to visit soon!\", \"Saw the very funny #TheHeatMovie on @JetBlue today. @melissaandben's punchlines sounded like an Osmond family domestic dispute! #BadDUBjob\", \"RT @VisitSavannah: @Jauntaroo We are so excited about @JetBlue starting service in #Savannah in Feb 2014! @Jauntarista, we'll be seeing you…\", 'RT @Jauntaroo: @Jauntarista @VisitSavannah Thanks Suzie! Savannah just announced @JetBlue service soon. Congrats! Would luv our #chiefworld…', '@JetBlue too bad for #jetblue. I will remember that and choose #delta next time I fly to Boston', '@CookingInRedSox @JetBlue LOVE JetBlue!!', 'Thanks to @JetBlue I got to watch my Broncos come back and start kicking some Cowboys across the field. #orangeandblue #broncosbaby', 'RT @EileenCCampos: @TonioMarrero @Lauralcbl @USAirways @lorrainecladish @JetBlue great me with a smile &amp; respect bc if NOT the #Brooklyn wi…', '@TonioMarrero @Lauralcbl @USAirways @lorrainecladish @JetBlue great me with a smile &amp; respect bc if NOT the #Brooklyn will come out!!!', 'Waiting out a rain delay at Boston Logan. @JetBlue still the only way to go.', '@TonioMarrero @Lauralcbl @USAirways @lorrainecladish @JetBlue yes!!! You know it brother!!!', 'RT @TonioMarrero: @EileenCCampos @Lauralcbl @USAirways there is no accounting for bad customer service! @lorrainecladish @JetBlue', \"@JetBlue keeps this flyer sane, safe &amp; respects us -don't trust the one @lorrainecladish has had problems with today!! #notsponsored\", 'An area for improvement @JetBlue: POWER OUTLETS!', '@JetBlue @vagabondish Thank you. I really do love JetBlue. My favorite airline, always will be. This was my first and only bad experience.', '@EileenCCampos @Lauralcbl @USAirways there is no accounting for bad customer service! @lorrainecladish @JetBlue', '@TonioMarrero @Lauralcbl @USAirways @lorrainecladish @JetBlue I always say the sane thing!!! @JetBlue loves this #latinablogger &amp; all cust!', 'RT @TonioMarrero: @Lauralcbl done! @USAirways  @lorrainecladish that is why I travel @JetBlue always customer 1st.', \"RT @dianalimongi: @lorrainecladish yaaaaaay for @jetblue my preferred airline. There are done I don't even bother with anymore. #boycottbad…\", '@JetBlue no one in the middle seat again! Best. Airline. Ever. #spacefordays', 'Spotted the @jetblue Red Sox plane on my way out of TF Green tonight. Love it! #rhodeisland #travel #GoSox', \"@lorrainecladish yaaaaaay for @jetblue my preferred airline. There are done I don't even bother with anymore. #boycottbadairlines\", '@JetBlue we found enough seats but it seems each time we come through T5 there are fewer chairs. Not sure where they are all running off too', '@JetBlue thank you!!!', '@JetBlue what happened to all the chairs in the T5 food court?  2/3 of the tables have no chairs', \"@airplanegod  yep, @JetBlue is going from 8 different tails to 2 on the E190 and A320, where's the fun in that? &amp; the A321 only has 1 tail\", 'Burbank bound on @JetBlue, gets a little harder to leave each time. NYC❤ #noplacelikehome #bicoastallife', 'Upgrade for my birthday!! @JetBlue is awesome!!! #jetsetblue #bday', '@TonioMarrero @Lauralcbl @USAirways @JetBlue I agree, Next time @Jetblue it is! (Again! Love them)', \"@Jauntaroo We are so excited about @JetBlue starting service in #Savannah in Feb 2014! @Jauntarista, we'll be seeing you soon! Cheers!\", 'Football on my flight. Thanks @JetBlue', '@Lauralcbl done! @USAirways  @lorrainecladish that is why I travel @JetBlue always customer 1st.', 'RT @EileenCCampos: @CarbonellDelfin @USAirways @lorrainecladish This is horrible!!!!! I say @JetBlue the best!! Hands down #notsponsored', '@CarbonellDelfin @USAirways @lorrainecladish This is horrible!!!!! I say @JetBlue the best!! Hands down #notsponsored', \"@JetBlue Yep. I fly to SEA a lot, and I really, really hope that this D gate is temporary. There's just not enough space.\", '@JetBlue + @birchbox = how to fly http://t.co/3R8rpxxs9t via @FastCompany', \"Getting a frustrated @JetBlue  keeps on repainting E190s from the old tails to the new tails, it's boring! #outwiththeold #inwiththeblue\", '@JetBlue Forgot to mention this last week…your new D gate at SEA sucks. A gates were much more comfy. #crammed', 'RT @JetBlue: @NiedriaKenny Glad you enjoyed the flight, Niedria! Welcome to the Big Apple, have a great time in the \"Big City\"!', 'Loving the new @JetBlue \"if you wouldn\\'t take it on the ground\" campaign', \"NYC &amp; BOS, it's the last day to book a Bermuda getaway with @JetBlue! Special 50% off flights &amp; select hotels: http://t.co/Iithgpsp5S +Restr\", 'RT @lorrainecladish: @febeccaglia @EileenCCampos @FabBloggers @SpanglishBeauty @USAirways @JetBlue I agree! I also love @JetBlue and @South…', '@JetBlue nevermind they found the captain! Enjoying the exit row with extra legroom', 'Everything you need to know about @JetBlue new business-class seats: http://t.co/7LuPMEm5Mc via @CNTraveler #Travel', '@JetBlue Gamifies the Customer Experienc', '', 'ttp://t.co/3Blj9NeYvr My favorite airline', 'In the ground - the bird has landed...✈️✈️ great flight @JetBlue @TrumpSoHo here I come for the #EscaladeReveal ... TB .....@Cadillac', \"Thank you @jetblue for delaying the flight for no apparent reason. Great way to ruin someone's day. #calimesh # jetblue #jetbluesucks\", '@JetBlue ? It needed the money, OH! #HackButStillFunny @adamferrara @Pilot_Jeff', 'We have built word-of-mouth marketing into our overall customer experience strategy - @jetblue http://t.co/jIgw6gwKVP via @Hyken #cx', '@febeccaglia @EileenCCampos @FabBloggers @SpanglishBeauty @USAirways @JetBlue I agree! I also love @JetBlue and @Southwestair.', '@JetBlue thank you so, so much.', 'RT @adamferrara: @JetBlue Very True! Love your planes &amp; people!', '#THNX for @JetBlue for being a great client  and #THNX to a great team @Globoforce. #HRTechConf is going to be a great show.', 'Take me home @JetBlue buh bye Seattle', \"@febeccaglia @FabBloggers @SpanglishBeauty @USAirways @lorrainecladish @JetBlue same for me!!! @JetBlue doesn't spon me! Lol\", '@EileenCCampos @FabBloggers @SpanglishBeauty @USAirways @lorrainecladish @JetBlue and no one paid me to say that!', '@Jauntarista @VisitSavannah Thanks Suzie! Savannah just announced @JetBlue service soon. Congrats! Would luv our #chiefworldexplorer 2 visit', \"@EileenCCampos @FabBloggers @SpanglishBeauty @USAirways @lorrainecladish i always fly @jetblue! Wish they'd travel everywhere though\", '@JetBlue I just need a company of your caliber to give me a chance.  so let me do a 15 sec commercial as part of the TV experience.', '@JetBlue ok so let me do a 15 sec commercial as part of the TV experience.', '@JetBlue Already have a flight booked next month! Thanks!', '@FabBloggers @SpanglishBeauty @USAirways @lorrainecladish @JetBlue I may have to shout out my @JetBlue for you!! Lol', '@FabBloggers @SpanglishBeauty @USAirways @lorrainecladish @JetBlue customer service is vital!!! I only fly with the best #BigBlue', '@FabBloggers @SpanglishBeauty @USAirways @lorrainecladish @JetBlue I agree!!! No one treats our @MAMIVERSE EIC this way or anyone!!!!', '@SpanglishBeauty @USAirways @lorrainecladish We hope they do something!!!! We pay airlines a lot of money. @jetblue is better', '@davidhoang @jetblue say hi to NYC for me!!', 'Thanks to @JetBlue, we can watch the Presidents Cup on our flight to Seattle!  #GoBeach #LBSU #WeWin', '@EileenCCampos @USAirways @JetBlue I miss the latter too. Thxx Eileen. Long day.', 'I think I see @jetblue more than my mother. Alright, Seattle to New York. ✈️', '@JetBlue competitive pricing should be a factor as to not drive loyal customers to competing airlines. Too bad.', '@JetBlue I am currently supposed to sit next to this woman who is actually in my seat as well. http://t.co/tWHGDXd5ea'], ['Darn you southwest and your cheap online deals! So tempting.. #travel @SouthwestAir', '@LedddyLuv @SouthwestAir so jealous', \"Ah, sales on @SouthwestAir - well, it's like the early Christmas gift you say you deserve to buy for yourself...in October. BOOKED!\", \"5) Stared for an hour at @SouthwestAir's sale calendar in paralyzing indecision\", '@LowGravityAscnt @SouthwestAir yeah but how many miles did you have to use? The rewards tix these days are ridiculous!', '\"I wish @SouthwestAir would give me 20 minutes of time and apologize about my lost bag\" @AlexPWold (disgruntled flyer)', 'RT @SouthwestAir: Sky’s the limit on savings! One-way fares start at $49.Book by 10/10. Restrictions/exclusions apply. #SouthwestSale http:…', 'RT @azcentral: RT @exploreaz: @SouthwestAir launches its winter fare sale. @DawnGilbertson has the details: http://t.co/k5OCRNDU6G', 'Can fly to LA, Vegas &amp; San Diego for just $49. I ❤ u @SouthwestAir.', '@rustysunshine @SouthwestAir That’s awesome! I took a pic of your arrival! http://t.co/pwl7MbnwuT', '#ColoradoOne brought us back home to Denver :) #LUVit  @FlyingPhotog\\xa0@SouthwestAir\\xa0 http://t.co/mFDIhOuL3G', 'Airplane sunsets are the best welcome back to the west. @SouthwestAir #Sunset http://t.co/gMDUAhDAHO', 'Happy to be home. Even happier that my @SouthwestAir flight attendant gave me a free drink. Thx, SW! #HRTechConf', 'RT @SouthwestAir: Sky’s the limit on savings! One-way fares start at $49.Book by 10/10. Restrictions/exclusions apply. #SouthwestSale http:…', 'RT @SouthwestAir: Sky’s the limit on savings! One-way fares start at $49.Book by 10/10. Restrictions/exclusions apply. #SouthwestSale http:…', 'Officially submitted my application for @SouthwestAir NoLimits Summer Internship program #soexcited ✈❤', 'RT @exploreaz: @SouthwestAir launches its winter fare sale. @DawnGilbertson has the details: http://t.co/k5OCRNDU6G', '@SouthwestAir Travelling from Australia I chose to fly with you inside US because of free bags. Getting free pretzels/peanuts is #bonus #luv', \"@SouthwestAir @airtran can't get me to Cancun for two days after scheduled departure. Offered to fly me during my wedding instead. How nice.\", \"@southwestair @airtran changed my honeymoon flight so that I had 1 minute to change plans in ATL. Won't offer me cost of new flights.\", \"Hey @SouthwestAir while I'm glad you have loaners, I would have preferred to drive baby home in her own carseat. Still love ya! #lostluggage\", 'RT @SouthwestAir: Sky’s the limit on savings! One-way fares start at $49.Book by 10/10. Restrictions/exclusions apply. #SouthwestSale http:…', '@SouthwestAir The #GovernmentShutdown ruined our trip to DC this weekend. Any recommendations on cheap last minute flights from KC?', '.@airtran @southwestair there is not a chance in hell I ever even ATTEMPT to fly one of your airlines again. #learnedmylesson #airtranfail', '@lvmuscfrevr @ddub_girl_69 Try @SouthwestAir they have $99 each way saldst', '.@SouthwestAir launches its winter fare sale. @DawnGilbertson has the details: http://t.co/cTdMOp24KF', 'Good night, everyone. And remember, Detroit loves you. ht @SouthwestAir  #Detroit http://t.co/G7SllMFCqP', '@Southwestair : Would you consider returning pet transport cages/carriers (at no charge) for rescue groups, when we drive animals?', '@alaueminden “@SouthwestAir: Sky’s the limit on savings! One-way fares start at $49.Book by 10/10. #SouthwestSale http://t.co/2mmy30uDr9”', '@TheBryanLove “@SouthwestAir: One-way fares start at $49.Book by 10/10.  #SouthwestSale http://t.co/2mmy30uDr9”', 'flying on @VirginAmerica is like @Uber, while flying on @SouthwestAir is like @GreyhoundBus', 'Coming home to #Detroit tonight was extra sweet. Thanks to our @SouthwestAir pilot for announcing the @Tigers won! http://t.co/C4kOXVjRPe', 'I see your sale...nicely played @SouthwestAir The time...is now! (echo effect) #LUV #LV @sjfrederick711 @Katerzzz http://t.co/XAyBTE5SLZ', 'can we fly these families to Dover?  Dont think they want 2 fly in a C-130  http://t.co/b8YRzvYgkV @SouthwestAir @AmericanAir @Delta @united', '@MoeMunyMoeProbs @SouthwestAir GOOD LUCK!!!', 'Just applied for a @SouthwestAir summer internship! #fingerscrossed', '@SouthwestAir please help me and my best friend reunite! #Nashville #providence #ding @afiske92', '@molly_jaffe @SouthwestAir I live for the ding. Ill be watching. They have to have a good deal soon!', 'RT @SamPeters82: Once again, @SouthwestAir steps up in the clutch after a huge @SpiritAirlines fail. #southwestisbest #neverflyspirit http:…', 'RT @HHFoundation: Thanks to @SouthwestAir for giving Ricardo from Sacramento High School a round trip ticket! #latinosinstem http://t.co/IV…', 'RT @SouthwestAir: Sky’s the limit on savings! One-way fares start at $49.Book by 10/10. Restrictions/exclusions apply. #SouthwestSale http:…', \"@afiske92 let's figure out plans! Watch your @SouthwestAir #ding !!!!!\", 'There would be a huge @SouthwestAir sale without the tickets I need on sale :/', 'Just got tickets from PHX to SAT for $98 each way! Thanks @SouthwestAir!', 'Now Boarding. Quick @SouthwestAir flight back to SD.', \"@SouthwestAir will you work with @NACENational to help families of deceased soldiers travel to DE? Can't go now because of shut down.\", '@SouthwestAir. Excellent crew on Oct 6 FLT3496 HOU to GSP. Handled med emergency very well.', '@SouthwestAir always takes such great care of me when I fly home!! Always a class act. Gonna enjoy my week in Arkansas. #homesweethome', 'Thanks to @SouthwestAir for giving Ricardo from Sacramento High School a round trip ticket! #latinosinstem http://t.co/IVmk5qSTGI', '.@SouthwestAir Luv when the redemption goes down and I can rebook at less poiints. Saved 8,040 points on two trips', \"@IRun4Wine @SouthwestAir that sounds like a fantastic trip - I'm jealous!\", '@southwestair Thank you for the current sale. ❤️', '.@SouthwestAir why are you the best right now?', '@SouthwestAir Can You Please RT? This Family Lost Their Home To A Fire During The South Dakota Blizzard - http://t.co/x0cQkxOXeH  #Tragedy', 'RT @SouthwestAir: Sky’s the limit on savings! One-way fares start at $49.Book by 10/10. Restrictions/exclusions apply. #SouthwestSale http:…', 'RT @jasonsamfield: @SouthwestAir @flightradar24 In person, the plane was still recognizable w/o radar even at 37K! https://t.co/L0b9ljO6S2 …', 'RT @SouthwestAir: Sky’s the limit on savings! One-way fares start at $49.Book by 10/10. Restrictions/exclusions apply. #SouthwestSale http:…', \"@SouthwestAir don't know if its just a problem with the Galaxy s3 but I can't download your android app http://t.co/dh31rkbmK8\", '@SouthwestAir @flightradar24 In person, the plane was still recognizable w/o radar even at 37K! https://t.co/L0b9ljO6S2 #Luv #aviation', 'Yikes @SouthwestAir keeping me on hold for 20+ minutes at 10PM at night?! LOL', 'Woo-hoo! Just booked 2 direct flights to #NOLA on @SouthwestAir, less than $100 per person round trip direct fights. Love their 3 day sales!', '@SouthwestAir ...can you please ensure your flight attendants know to tell people where they want you to sit before we all get in?!', 'Cindy and I entertained ourselves on the flight by crafting @SouthwestAir in-flight snacks. {cheesy… http://t.co/2nMKYby5np', 'Okay I love that the @SouthwestAir pilot on flight home to SJC just did his pre-flight annct standing at the front of the cabin. #nicetouch', 'RT @hollywood_trey: RT @HeyVernee: Hey, if youre debating on attending the @HoustonHangout @SouthwestAir has one way flights starting at $4…', 'RT @HeyVernee: Hey, if youre debating on attending the @HoustonHangout @SouthwestAir has one way flights starting at $49 starting today', '@NateDawgUS @SouthwestAir what??? I need this for a month from now!!', 'RT @NateDawgUS: $99 flights to warm places from @SouthwestAir. That sure sounds nice right about now.', '@SouthwestAir the past couple of days... http://t.co/e0IMfq9tvV', 'Thanks @SouthwestAir for the LUV:) Free drink coupons yesterday, $100 LUV voucher today! #agcatalyst recovery http://t.co/JG26CiWqPi', '@SouthwestAir great flight tonight! Crew was AWESOME! FFL to BNA!', 'RT @rshah17: #rootdown is open at the #Denver airport! Good reason  to fly @southwestair #dia http://t.co/0AaRFiN8Z1', '$99 flights to warm places from @SouthwestAir. That sure sounds nice right about now.', \"I can't express how much I love group texts with my @SouthwestAir intern family. #LaughingForDays #LUVthem #Memories #Summer2013\", \"Maybe I should only fly when injured. I'm getting that royal treatment. Thanks @SouthwestAir\", '@SouthwestAir when will you change your policy to allow use of cellphones (in airplane mode) during all aspects of flight, per FAA ruling?', 'Thank you @SouthwestAir for hookin it up with some sweet deals.', 'RT @IEG: Lifting of restrictions on @SouthwestAir should have big impact on #sponsorship strategy. New blog post: http://t.co/up9ook1zol', '@SouthwestAir really glad your systems with AirTran talk to eachother (gulp)', 'Sweet. @SouthwestAir jacked up the price of my flight by $50 as I was checking out. #SouthWorst #FeelsBadMan', '@SouthwestAir love this sale!  I changed my previously purchased tickets and got a $200 overall credit', '#rootdown is open at the #Denver airport! Good reason  to fly @southwestair #dia http://t.co/0AaRFiN8Z1', '@TheDevilsVoice @SouthwestAir Most of my childhood. Thought I had finally made it out of that kind of life. Guess I should stop trying.', 'and now @SouthwestAir number for Customer Relations that I was given to by customer service line is buys...', 'My first birthday card of the year, once again is from @SouthwestAir .  Definitely feeling the Luv! #RRbday http://t.co/LADV09AZhF', 'Pretty sure @SouthwestAir kept giving me an error on my purchase yesterday, so they can double the price of the tickets today.', '@J0hnnyXm4s @SouthwestAir Have you ridden Greyhound before? You know, for comparisons sake?', 'http://t.co/xPoDFEhKl7 How I did @EDC_LasVegas 4 under $600! More to come! #idontvacate @SouthwestAir @Airbnb @LuckyHueLV @festivaladvisor', \"I fly .@southwestair A LOT, yet it seems every time I do they have some new policy that makes me feel more &amp; more like I'm riding greyhound.\", '@SouthwestAir has it figured out. Smart airline. #lovesouthwest', '@SouthwestAir just emailed to let me know I can watch free movies on my flight tomorrow.', \"@AllegiantTravel you might be the worst company/airline on the entire planet. Never again. @SouthwestAir I'm yours for life. #Allegiantsucks\", '@SouthwestAir is selling $49 seats for 5 wks in Jan/Feb. I bought 23 flights for $1124 (Some people golf, I fly for fun)', \"RT @baygirlintx: @alleybravo @SouthwestAir we're going to try and get the same flight out.\", 'RT @KimberKnight: Hey guys! @SouthwestAir has sales today. Check your ressies to see if you can save some $$$ on existing travel', 'Awesome - my pilot on this @southwestair flight is a retired Blue Angel! So cool. #luvsouthwestair', 'RT @alleybravo: @baygirlintx  we just bought our tickets to #Vegas! We are flying @SouthwestAir I just earned 2347 points! Times two! Haha …', \"@alleybravo @SouthwestAir we're going to try and get the same flight out.\", '@JohnC0NN0R and my cocktails were freeeee @SouthwestAir #lovvveit', '@baygirlintx  we just bought our tickets to #Vegas! We are flying @SouthwestAir I just earned 2347 points! Times two! Haha so excited yay!', 'RT @rwang0: Kudos to @SouthwestAir   Late bag checkin w 10 mins to flight. You were kind enough to put the bag in the plane. #ThankYou #hrt…', \"@vanezzers TICKETS ON SALE FOR @SouthwestAir !!'\", 'I just booked a flight back from NOLA for 311 day FOR FREE cuz of all my southwest points. I love you @SouthwestAir', 'A-list so first on the plane, middle seat because its an @AirTran plane.  @SouthwestAir my preferences clearly say isle #fail #squished', '@SouthwestAir http://t.co/VbbmhuPfx4', 'Gorgeous sunset pic from my Mom @BWI_Airport waiting to board @SouthwestAir to head home #prettycolors http://t.co/NRNQ2tH68I', 'Flight delayed and stuck in the airport...but the sunset is pretty and the @SouthwestAir people are nice!', 'Just used my @SouthwestAir points to book my THIRD trip to #SanDiego for the year!! #BestAirline #BestCity ✈', 'Had a great experience with Jan at @SouthwestAir customer service on the phone today. Thanks for your help! It was a pleasure.', 'Booked my @SouthwestAir flight back to N.Y. for 11/26 to 12/8 at a steal. Now, #Cavs kick off preseason. Good day.', '\"@InNetworkInc  @Expedia, @SouthwestAir @HiltonHHonors if you like it, Take it, Or miss it?! http://t.co/o7w78c4W3W http://t.co/DWusiATPwa', '@SouthwestAir // Heal the body from all the Radiation Flying &amp; Flu, makes Glutathione in the body,all natural http://t.co/ovksmdEyeN', 'ayyyee @SouthwestAir why so good deals right meow!!!! #LasVegas #Colorado #Vacations #unplanned', 'Blogger Outreach Campaigns: @Expedia, @SouthwestAir and @HiltonHHonors - via @InNetworkInc http://t.co/3yxAzGm9rU', 'Blogger Outreach Campaigns: @Expedia, @SouthwestAir and @HiltonHHonors - via @InNetworkInc http://t.co/jUxxrg0rfH', '@SouthwestAir is having a sale: $49 for travel to destinations within 500 miles, $99 for 501-1000, $129 for 1001-1500, $149 for 1500+', \".@SouthwestAir Is there any way to help families of fallen heroes? Gov't won't help them travel to meet loved ones http://t.co/aKBHN1ccJb\", '@SouthwestAir you guys rock. Thanks for getting my bag to me on a 15 min pre flight checkin. #wn441 #las to #sjc http://t.co/ibZFBOpn8N', 'Pepinos con Chile instead of Peanuts? - Vegas figures prominently in @SouthwestAir plans to fly south of the border http://t.co/M3YHy0V9Xu', '@SouthwestAir great deals but looking for FLL to FNT!! #hopeful', 'I had the best flights today!! Love me some @SouthwestAir', '@jzimmermann11 @SouthwestAir seriously read it! He is such an awesome guy!', '@SouthwestAir, please start flying to Hawaii and Brazil. LUV a very loyal customer.', '@_BEAST_MODE_ I just so happen to be flying @SouthwestAir to Denver on Thursday morning so I’ll have to so that', 'If you fly @SouthwestAir this month read the article about Byron in Spirit Magazine. Love this guy, he is the definition of selfless at RMDH', 'RT @SouthwestAir: Sky’s the limit on savings! One-way fares start at $49.Book by 10/10. Restrictions/exclusions apply. #SouthwestSale http:…', 'The @SouthwestAir sale is super exciting, but the fact that I have to plan months into the future to take advantage is stressing me out. #ah', 'Great fare sale from @SouthwestAir http://t.co/c80cDctjPs', 'RT @SouthwestAir: @maddiepete We LUV you too. :)\\xa0\\xa0^AR', 'RT @Mommy_Points: Big @SouthwestAir sale today $49/$99/$129/$149 based on distance.  Watch for matches, too', 'ttp://t.co/DWuVfBBLKI', \"It's so great to see @SouthwestAir supporting #NDEAM  http://t.co/SQ6FA8TRbK\", '“@KimberKnight: @SouthwestAir has sales today. Check your ressies to see if you can save some $$$ on existing travel” cc @RyanKilpatrick', 'RT @KimberKnight: Hey guys! @SouthwestAir has sales today. Check your ressies to see if you can save some $$$ on existing travel', '@SouthwestAir I am so in love with you', 'Hey guys! @SouthwestAir has sales today. Check your ressies to see if you can save some $$$ on existing travel', \"This is why you're the best airline.  RT @SouthwestAir: One-way fares start at $49.Book by 10/10. #SouthwestSale http://t.co/vDvIdL80Nn\", 'I should be flying roundtrip for 200 dollars but no @SouthwestAir only wants to extend the deal to feb 12 SMDH', 'RT @Jstubbz1: Uhhmmmm @SouthwestAir has flights for $49 right now! Planning my Cali vacay right NOW!!!', \"Wondering why I'm the only one at the gate.... #presscheck  #kentucky @southwestair http://t.co/yzeE6XW6aH\", \"In flight magazine from @SouthwestAir - @acedtect said they're a thing.. http://t.co/X2OdnckCjI\", 'RT @AMAOKC: Last call for... no, not alcohol! To RSVP for this months #AMAOKC meeting 10/1 with @Munoz_Isaac from @southwestair http://t.co…', 'http://t.co/JhH6PSgdO4 - \"How I did @EDC_LasVegas for under $600.\" A true story &amp; a must read! @SouthwestAir @Airbnb - Please Retweet', \"my issue w/@SouthwestAir : they r a hop,skip&amp;jump airline &amp; U must hop &amp; skip in order to jump. No longer the lowest price-what's the VP?\", 'RT @AMAOKC: Last call for... no, not alcohol! To RSVP for this months #AMAOKC meeting 10/1 with @Munoz_Isaac from @southwestair http://t.co…', '@SouthwestAir great flight from BUF to MDW.  #TVfliesfree made it easier to leave the family.  Thank u SWA and @DishNetworkTV', 'Last call for... no, not alcohol! To RSVP for this months #AMAOKC meeting 10/1 with @Munoz_Isaac from @southwestair http://t.co/YjBnLgHq4j', 'Flying @united for the first time in a while makes me realize how much I appreciate @USAirways and @SouthwestAir #soslowandunorganized', '@SheridanLoveXXX @SouthwestAir @MrSheridanXXX yes dumb ass TED CRUZ', 'Maybe it is because @SouthwestAir is based out of TX. That state has laws against gay rights @MrSheridanXXX', 'RT @SouthwestAir: Sky’s the limit on savings! One-way fares start at $49.Book by 10/10. Restrictions/exclusions apply. #SouthwestSale http:…', \"@AmericanAir Also, (not) sorry that from now on, I'll only be buying @SouthwestAir: NO Change fees;CANCELED flights: full credit for future\", '@MrSheridanXXX @SouthwestAir GROSS', 'RT @MrSheridanXXX: Wow. @SouthwestAir hasn’t even bothered to address that their staff was discussing their anti-gay rights views in front …', 'RT @MrSheridanXXX: Wow. @SouthwestAir hasn’t even bothered to address that their staff was discussing their anti-gay rights views in front …', 'RT @SouthwestAir: Sky’s the limit on savings! One-way fares start at $49.Book by 10/10. Restrictions/exclusions apply. #SouthwestSale http:…', 'Josh Bodnar, Rick Lawley &amp; @SouthwestAir in @CampaignBrief — http://t.co/U3op75BnTU #JoshBodnar #RickLawley', 'as soon as @SouthwestAir lets me!! RT @brittneymemphis: @allicat_xo When are you coming to Memphis?! This time we are going to a Grizz game!', 'RT @SouthwestAir: Sky’s the limit on savings! One-way fares start at $49.Book by 10/10. Restrictions/exclusions apply. #SouthwestSale http:…', 'RT @SouthwestAir: Sky’s the limit on savings! One-way fares start at $49.Book by 10/10. Restrictions/exclusions apply. #SouthwestSale http:…', \"@SouthwestAir is so consistent and reliable; I've NEVER once had so much as a slight inconvenience. Truly my favorite airline... ♥\", 'Wow. @SouthwestAir hasn’t even bothered to address that their staff was discussing their anti-gay rights views in front of travellers', 'RT @SouthwestAir: Sky’s the limit on savings! One-way fares start at $49.Book by 10/10. Restrictions/exclusions apply. #SouthwestSale http:…', '@Minneapolete #carlsbad half!! @SouthwestAir is having a sale!', 'RT @SouthwestAir: Sky’s the limit on savings! One-way fares start at $49.Book by 10/10. Restrictions/exclusions apply. #SouthwestSale http:…', 'RT @SouthwestAir: Sky’s the limit on savings! One-way fares start at $49.Book by 10/10. Restrictions/exclusions apply. #SouthwestSale http:…', '“@squeezeinntruck: Squeeze lunch at the Sacramento Airport Southwest terminal http://t.co/iJGRImvkQi” @SouthwestAir', 'After having problems with @AmericanAir, I have confirmed that @SouthwestAir is the ONLY way to fly!!', 'So @SouthwestAir has deals on fares that make trip to PDX for MLS Cup feasible. Do I buy and hope or does the purchase jinx the whole thing?', 'RT @rwang0: Kudos to @SouthwestAir   Late bag checkin w 10 mins to flight. You were kind enough to put the bag in the plane. #ThankYou #hrt…', 'RT @SouthwestAir: Sky’s the limit on savings! One-way fares start at $49.Book by 10/10. Restrictions/exclusions apply. #SouthwestSale http:…', 'Kudos to @SouthwestAir   Late bag checkin w 10 mins to flight. You were kind enough to put the bag in the plane. #ThankYou #hrtechconf', '@SouthwestAir would really like to see you all implement mobile boarding passes; would streamline check-in much more', '@INYRMOUTH_ @SouthwestAir no way! I am flying up this weekend but bought my tickets a while ago. :(', \"@SouthwestAir  policy didn't pertain to me and they still refuse to give me a credit @CBS13CallKurtis\", '@SouthwestAir thanks for NOT letting me apply my travel funds. Pretty sketchy policy you have. #theft', '@SouthwestAir I need to know something. I have a 7-AM flight on Friday out of Newark to Nashville. Will it leave as planned?', 'Trying to figure out how to redeem my points from @SouthwestAir and getting no where.', '@ecampo4 @Priebsicle how horrible is the @SouthwestAir travel funds policy??', '@KpZichelli: Be careful with @SouthwestAir Their travel funds policy is almost as backwards as the congress.', \"@SouthwestAir is hosting a workshop for TLF in #Dallas this November! This is one workshop you don't wanna miss! http://t.co/SEM7lkQXFu\", \"Thank you @southwestair! So thoughtful of you. Does that mean you're sending me there? http://t.co/DGAyFUxLNw\", \"@SouthwestAir is lookin' joog right now. Had to cop a flight.\", '@SouthwestAir no solution for these jacked up prices 45 days out from hi holidays??', '@SouthwestAir thanks for stealing my travel funds from a flight I rescheduled last year.', 'Guess whose going back the bay??? Me! @SouthwestAir has 49 dollar one way tix', 'RT @CJSTexas: Join Agilists from @SouthwestAir, @Halliburton, @RallySoftware &amp; @MATRIXAtlanta in Houston for #AgileOnTheRocks 10/16 http://…', 'Props to @SouthwestAir for the early arrivals today...even after a hangout session on the Tarmac. #willflyagain', \"I'm about to to call the cbsnews @CBS13CallKurtis horrible customer service with @SouthwestAir on their policy... not a happy person\", \"Thank you @SouthwestAir for always emailing me ticket deals.........AFTER I'VE ALREADY BOOKED MY FLIGHT! #southwestfaillines\", \"No matter what I put in my bag it's always deemed #heavy at the airport. Gotta love @SouthwestAir- my heavy bag flies free!\", 'Flights from LAX to SMF and SFO just went on sale on @SouthwestAir $49/each way. Come Visit me! http://t.co/L8sORi1pEO', 'RT @SouthwestAir: Sky’s the limit on savings! One-way fares start at $49.Book by 10/10. Restrictions/exclusions apply. #SouthwestSale http:…', 'RT @hammerheel: Shout out to @SouthwestAir for $49 tickets for winter break. Doing this poor college kid a solid.', 'Thanks @SouthwestAir for reducing fares. Just exchanged trip and saved $10 and 5,880 #rapidreward points! #southwestair Every1 check urnow!', 'Join Agilists from @SouthwestAir, @Halliburton, @RallySoftware &amp; @MATRIXAtlanta in Houston for #AgileOnTheRocks 10/16 http://t.co/P1mf45EFKn', 'When I think of good branding, I think of @SouthwestAir  http://t.co/4fbPHcIySj', 'RT @SouthwestAir: Sky’s the limit on savings! One-way fares start at $49.Book by 10/10. Restrictions/exclusions apply. #SouthwestSale http:…', 'Shout out to @SouthwestAir for $49 tickets for winter break. Doing this poor college kid a solid.', 'Thanks for the pretzels! @southwestair #swapic @ 39,000 Ft in the air. http://t.co/frbRws2I1f', 'FYI: @SouthwestAir just posted a new sale starting with $49 flights!  #socialirl #smcstl', 'Uhhmmmm @SouthwestAir has flights for $49 right now! Planning my Cali vacay right NOW!!!', '@SouthwestAir will be the death of me. Every flight at least a half hour late take off. Every time!', '@SouthwestAir I have plans that travel literally the day before. 12/3 travel($211) vs 12/4 promo($129). DOH!!', \"@HaylieLynn @SouthwestAir @DyPrice30 @JeremyDresslaer what's this about ;)\", \"There's now a @jenisicecreams vending machine in the @SouthwestAir terminal at @PortColumbusCMH. Heart = deliciously happy.\", \"Woman was just clipping her nails on my flight to San Francisco @southwestair. That's just disgusting. At least it was not her toes :)\", 'Shop around fast for #airfares as @southwestAir and other carriers launch  sales for winter flights: http://t.co/DjVLWlrneY', 'Flying @SouthwestAir for the first time tomorrow. I hope they have wifi', 'RT @rungrateful: More #run #team members &lt;3 @oiselle @Feetures @traumeelusa @CrunchGym @CorePower @BODYGLIDE @SouthwestAir @MissionAthlete …', 'Booked my flight for a bachelorette trip and it only cost me $7.50! I LOVE my @SouthwestAir points!', '@AmericanAir I have been a @SouthwestAir loyal for YEARS but if you guys impress me on my next flight to RNO you will pull me over for sure!', '@jennifersterger I will never fly them again. EVER. I switched to @SouthwestAir and have not looked back. Awesome customer service.', 'RT @SouthwestAir: Sky’s the limit on savings! One-way fares start at $49.Book by 10/10. Restrictions/exclusions apply. #SouthwestSale http:…', 'More #run #team members &lt;3 @oiselle @Feetures @traumeelusa @CrunchGym @CorePower @BODYGLIDE @SouthwestAir @MissionAthlete @HankyPankyLtd', \"So much for working on homework I'm getting distracted by making plans for a girls trip to Vegas with these @SouthwestAir $49 flights!!\", 'I ♥ @SouthwestAir sales - bringing me &amp; my little sis together for under $100 RT!', 'Thank you @SouthwestAir for the reminder about my upcoming vacation. #perfecttiming #cantwait', 'RT @KCIAirport: Air fare deals from #kansascity from $49 on @SouthwestAir #kc #travel http://t.co/jFO62rXYaQ', 'Why advertise everywhere you have wifi on the plane if it costs $8 :( @SouthwestAir', 'I just got an email from @SouthwestAir about Vegas packages. I also just bought http://t.co/iqM39vqe26 . Coincidence? I think not… #vegas', 'RT @Tycoskunk: Hey @furcon, it seems that @SouthwestAir is doing a sale right now that lines up!', '@SouthwestAir. Paid for EarlyBird in MAY yet got A55? Shouldve been A20ish. Why pay EB if 24h ckin still needed? http://t.co/QDoGaotPIk', \"Round trip ticket to LA for my bday for $5.00?? Don't mind if I do! Perks of being a MileagePlus Member! Thanks @SouthwestAir\", 'RT @SouthwestAir: Sky’s the limit on savings! One-way fares start at $49.Book by 10/10. Restrictions/exclusions apply. #SouthwestSale http:…', 'RT @SouthwestAir: Sky’s the limit on savings! One-way fares start at $49.Book by 10/10. Restrictions/exclusions apply. #SouthwestSale http:…', 'RT @SouthwestAir: Sky’s the limit on savings! One-way fares start at $49.Book by 10/10. Restrictions/exclusions apply. #SouthwestSale http:…', '@Tycoskunk @HakuPamfer @furcon @SouthwestAir Lol I would only fly with them again if it was free. They almost killed me.', 'RT @Tycoskunk: Hey @furcon, it seems that @SouthwestAir is doing a sale right now that lines up!', \"@SouthwestAir PLEASE add more (cheaper) flights from PNS to RNO. I am about to become an @AmericanAir loyal if choices don't get better\", \"@hbaskas @NBCNewsTravel My fav @SouthwestAir did great compared to the rest.  I'll still buy bottled though! :)\", 'Hey @furcon, it seems that @SouthwestAir is doing a sale right now that lines up!', \"THIS! RT @stephaniebice: Super excited about Thursday's @AMAOKC meeting. @munoz_isaac w/@SouthwestAir will be speaking. Don't forget to RSVP\", 'Great sale right now on @SouthwestAir! I just bought my flights for @runDisney Disneyworld Marathon Weekend 2014!', 'RT @SouthwestAir: Sky’s the limit on savings! One-way fares start at $49.Book by 10/10. Restrictions/exclusions apply. #SouthwestSale http:…', 'RT @SouthwestAir: Sky’s the limit on savings! One-way fares start at $49.Book by 10/10. Restrictions/exclusions apply. #SouthwestSale http:…', \"@SouthwestAir @Delta love how price gouging is allow for your companies come thanksgiving. That isn't giving thanks for ur customers! #fail\", '@southwestair @boeing 737-300 \"Triple Crown One\" on the gate in Dallas, Texas #avgeek #dal http://t.co/dJT20k22tu', '@SouthwestAir has specials as low as $49 departing out of New Orleans. Grab your tickets!! Ends Thursday! #BatonRouge #NOLA #NewOrleans', 'Plane ticket to Nashville for my birthday has been purchased! Thank you @SouthwestAir for awesome deals!', 'How am I supposed to not travel for a little while when @SouthwestAir is giving me all these awesome specials!? #49dollarflights', 'RT @ashleypelech: As soon as @SouthwestAir emails me about flight sales, I quickly see when I can buy a flight or rather flights. #longdist…', 'RT @Chanceb737: Hanging out at work... @SouthwestAir #swapic http://t.co/4ULJtkkGXM', 'RT @SouthwestAir: Sky’s the limit on savings! One-way fares start at $49.Book by 10/10. Restrictions/exclusions apply. #SouthwestSale http:…', 'RT @SouthwestAir: Sky’s the limit on savings! One-way fares start at $49.Book by 10/10. Restrictions/exclusions apply. #SouthwestSale http:…', 'RT @Kaliber007: @SouthwestAir nice flight to San Diego. http://t.co/KjjcRxbhN1', '@Orel_ESPN @southwestair Thank you so much for being so nice and taking the time to take a pic and sign my baseball http://t.co/SQr48uRexb', \"@wiseacre Hey, if you're flying @SouthwestAir you just guaranteed that you'll have no one sitting next to you! #winning\", 'Look on @SouthwestAir @DyPrice30 @Bigdaddymaples @JeremyDresslaer', 'National flights from $49 are the order of the day with @SouthwestAir! Book extra cheap tickets now: http://t.co/5kUj4QzZP1 #dailydeal', 'Got my #GlobalEntry and #TSAPre...now, get on the #TSAPre wagon @SouthwestAir and @JetBlue!', 'RT @SouthwestAir: Sky’s the limit on savings! One-way fares start at $49.Book by 10/10. Restrictions/exclusions apply. #SouthwestSale http:…', 'RT @Arlissa_: If you fly @SouthwestAir from Lubbock to Dallas, tickets are super cheap right now.', 'Air fare deals from #kansascity from $49 on @SouthwestAir #kc #travel http://t.co/jFO62rXYaQ', '#FearOfPublicSpeaking? #SomeNerve excerpt in @SpiritMagazine Oct issue, avail on @SouthwestAir or online: http://t.co/uqmqZPlrWg', 'RT @SouthwestAir: Sky’s the limit on savings! One-way fares start at $49.Book by 10/10. Restrictions/exclusions apply. #SouthwestSale http:…', 'Up to $100 off All Destination Sale @SouthwestAir #Travel http://t.co/edLPoMlOEw', '@jmk08 @SouthwestAir Southwest Hates Milwaukee, this doesnt surprise me at all.', 'Thanks @SouthwestAir for making trips to see my sister in Nashville so effortless!', '@mollymcdeath CHS GSP \"@SouthwestAir: Sky’s the limit! One-way fares start at $49.Book by 10/10 #SouthwestSale http://t.co/AbgdVD63wS”', 'RT @SouthwestAir: Sky’s the limit on savings! One-way fares start at $49.Book by 10/10. Restrictions/exclusions apply. #SouthwestSale http:…', '@SouthwestAir not at all accustomed to this type of service with you.', '@SouthwestAir getting error message when trying 2 book flight on AT using points. Msg: Object reference not set to an instance of an object.', 'RT @SouthwestAir: Sky’s the limit on savings! One-way fares start at $49.Book by 10/10. Restrictions/exclusions apply. #SouthwestSale http:…', '@SouthwestAir to very rudely and wasnt at all interested in assisting.', '@SouthwestAir very disappointed at gate agent at gate C21 in MKE. Fiancé asked simple question regarding her wedding dress and was responded', 'RT @SouthwestAir: Sky’s the limit on savings! One-way fares start at $49.Book by 10/10. Restrictions/exclusions apply. #SouthwestSale http:…', '@SouthwestAir nice flight to San Diego. http://t.co/KjjcRxbhN1', 'Cutest older couple on my @SouthwestAir flight today the husband is making me smile!', \"@SouthwestAir great deals to #Vegas, sad not on days I'm going :-( but might have 2 book 2nd trip :-)\", 'RT @SouthwestAir: Sky’s the limit on savings! One-way fares start at $49.Book by 10/10. Restrictions/exclusions apply. #SouthwestSale http:…', \"@unitedair Flt 3494 now delayed til 3 pm. Flew you instead of @southwestair for convenience. Won't do that again.\", \"Need an excuse to visit us in #Chicago? @SouthwestAir is having an amazing #sale! http://t.co/fWD5frah0g Book now, we'd love to see you :)\", 'RT @PWallwork: When I think of good branding, I think of @SouthwestAir  http://t.co/EBCcBkLNGT', '@SouthwestAir how come Philadelphia to Tampa and vice-versa is never on sale?', 'RT @SouthwestAir: Sky’s the limit on savings! One-way fares start at $49.Book by 10/10. Restrictions/exclusions apply. #SouthwestSale http:…', \"@united Decided to fly you over @southwestair to DFW for convenience. Flt 3494 is now delayed til 3. Won't be making this mistake again.\", 'Hey rebel fans @SouthwestAir having specials to many cities we play for dec-feb. Book by thurs. #UNLVMBB', 'Huge sale on @SouthwestAir flights, with 2 free checked bags! #traveldeals (ends thursday)', 'Thanks to @SouthwestAir $49 flights, #snowboarding trip #1 for 2014 booked! #TahoeBound', 'RT @SouthwestAir: Sky’s the limit on savings! One-way fares start at $49.Book by 10/10. Restrictions/exclusions apply. #SouthwestSale http:…', 'When I think of good branding, I think of @SouthwestAir  http://t.co/EBCcBkLNGT', 'RT @SouthwestAir: Sky’s the limit on savings! One-way fares start at $49.Book by 10/10. Restrictions/exclusions apply. #SouthwestSale http:…', '@SouthwestAir why are they never good for flights to Memphis???', 'RT @SouthwestAir: Sky’s the limit on savings! One-way fares start at $49.Book by 10/10. Restrictions/exclusions apply. #SouthwestSale http:…', '\"@ksdknews: 72-hour sale at @SouthwestAir. http://t.co/84DHsIT1oq\" @rachelkatelyn check this out.', 'RT @rebekahjohansen: Still #libertarian, but boarding @SouthwestAir makes even me question spontaneous order', \"Leaving tomorrow to Florida for a funeral :/ Glad I'll be taking @SouthwestAir though!\", '@KamalaHarris @southwestair #Stateattorneygeneral You are so amazing and Beautiful. Thank you for your kindness! http://t.co/262LS5mSwA', 'RT @STEM08: #canesfam RT @SouthwestAir: One-way fares start at $49.Book by 10/10. Restrictions/exclusions apply. #SouthwestSale http://t.co…', 'RT @STEM08: #canesfam RT @SouthwestAir: One-way fares start at $49.Book by 10/10. Restrictions/exclusions apply. #SouthwestSale http://t.co…', 'I love @SouthwestAir #butreally http://t.co/2CfC32q1Xs', \"Hey @SouthwestAir your sale is #worthless if I can't use it Fridays or Sundays. #baitandswitch #misleading.\", '@rebekahjohansen I actually like it. @southwestair', 'RT @ksdknews: 72-hour sale at @SouthwestAir. http://t.co/IoGxNZrYKM', 'Planning a getaway? @SouthwestAir is having a 72 hour sale! http://t.co/Xzyufh2s88 #traveltuesday #travel #deals', '@SouthwestAir What places can we book for $49.', 'Still #libertarian, but boarding @SouthwestAir makes even me question spontaneous order', '#dork #loveitthough #iwish  @SouthwestAir http://t.co/KskCk3Abqz', 'RT @HeyoDavo: Woot! @SouthwestAir is doing $49 tx to/from Chicago again. Heck yeah!', '@SouthwestAir I love Southwest!  But why is there never a sale between LAX or BUR to CAK, CLE or PIT?', 'Mega sale @SouthwestAir - RT tix as low as 98 bucks!', 'RT @SouthwestAir: Sky’s the limit on savings! One-way fares start at $49.Book by 10/10. Restrictions/exclusions apply. #SouthwestSale http:…', \"Bought tickets to fly home in February for my sister and niece's birthday! So excited! Thanks @SouthwestAir for the great deal!\", 'RT @SouthwestAir: Sky’s the limit on savings! One-way fares start at $49.Book by 10/10. Restrictions/exclusions apply. #SouthwestSale http:…', 'RT @SouthwestAir: Sky’s the limit on savings! One-way fares start at $49.Book by 10/10. Restrictions/exclusions apply. #SouthwestSale http:…', \"@SouthwestAir Wish my getaway wasn't so last minute... Rather pay $49 than $104!!\", 'RT @SouthwestAir: Sky’s the limit on savings! One-way fares start at $49.Book by 10/10. Restrictions/exclusions apply. #SouthwestSale http:…', 'RT @SouthwestAir: Sky’s the limit on savings! One-way fares start at $49.Book by 10/10. Restrictions/exclusions apply. #SouthwestSale http:…', \".@SouthwestAir got y'all! RT @JazOuttaControl: For those looking to make that last minute trip to the #HoustonHangout http://t.co/eVHww5j7pF\", '#canesfam RT @SouthwestAir: One-way fares start at $49.Book by 10/10. Restrictions/exclusions apply. #SouthwestSale http://t.co/Qxq3xdooxg', '@JaegoMyEggo @aliii31 “@SouthwestAir: Sky’s the limit on savings! One-way fares start at $49. #SouthwestSale http://t.co/wdJqxaTLC3”', \"RT @TheRealMBB: Ya'll looking to hit a Jaguars road game, @SouthwestAir has a sale on right now. #DTWD\", 'RT @ksdknews: 72-hour sale at @SouthwestAir. http://t.co/IoGxNZrYKM', '@AirlinesDotOrg @SouthwestAir Great Job SWA! Our team shares your intense desire to get and keep this right!', 'RT @SouthwestAir: Sky’s the limit on savings! One-way fares start at $49.Book by 10/10. Restrictions/exclusions apply. #SouthwestSale http:…', 'RT @SouthwestAir: Sky’s the limit on savings! One-way fares start at $49.Book by 10/10. Restrictions/exclusions apply. #SouthwestSale http:…', 'RT @ksdknews: 72-hour sale at @SouthwestAir. http://t.co/IoGxNZrYKM', '@SouthwestAir Gotta give CRP some more love. At least to Dallas. These are just a tease for us! ;-)', \"@SouthwestVerity thanks for follow up to 216615664017. Don't worry I fly to Denver this Friday @SouthwestAir  from Tulsa.\", 'RT @SouthwestAir: Sky’s the limit on savings! One-way fares start at $49.Book by 10/10. Restrictions/exclusions apply. #SouthwestSale http:…', 'RT @SouthwestAir: Sky’s the limit on savings! One-way fares start at $49.Book by 10/10. Restrictions/exclusions apply. #SouthwestSale http:…', '“@SouthwestAir: Sky’s the limit on savings! One-way fares start at $49.Book by 10/10. http://t.co/zbFmacDhId” @TheAustinDoane @tomborns4', \"RT @VEGASINC: #LasVegas likely figures prominently in @SouthwestAir's plans to fly south of the border. --  http://t.co/jCfQLGVXrq\", 'RT @SouthwestAir: Sky’s the limit on savings! One-way fares start at $49.Book by 10/10. Restrictions/exclusions apply. #SouthwestSale http:…', 'RT @SouthwestAir: Sky’s the limit on savings! One-way fares start at $49.Book by 10/10. Restrictions/exclusions apply. #SouthwestSale http:…', 'RT @SouthwestAir: Sky’s the limit on savings! One-way fares start at $49.Book by 10/10. Restrictions/exclusions apply. #SouthwestSale http:…', 'RT @SouthwestAir: Sky’s the limit on savings! One-way fares start at $49.Book by 10/10. Restrictions/exclusions apply. #SouthwestSale http:…', 'RT @SouthwestAir: Sky’s the limit on savings! One-way fares start at $49.Book by 10/10. Restrictions/exclusions apply. #SouthwestSale http:…', 'Thank you @SouthwestAir for being dependable w/their miles sale...was able to afford my ticket to #alamw14', 'RT @SouthwestAir: Sky’s the limit on savings! One-way fares start at $49.Book by 10/10. Restrictions/exclusions apply. #SouthwestSale http:…', \"@SouthwestAir I can't plan my summer vacation this far in advance! Have this sale again closer to May, please! ^.^\", 'RT @SouthwestAir: Sky’s the limit on savings! One-way fares start at $49.Book by 10/10. Restrictions/exclusions apply. #SouthwestSale http:…', '@SouthwestAir   did you see this @erinalbano ?', 'RT @SouthwestAir: Sky’s the limit on savings! One-way fares start at $49.Book by 10/10. Restrictions/exclusions apply. #SouthwestSale http:…', '@TimKelly19 @cnevs77 \"@SouthwestAir: Sky’s the limit on savings! One-way fares start at $49.Book by 10/10.  http://t.co/Tn3afQdTdF\"', 'RT @SouthwestAir: Sky’s the limit on savings! One-way fares start at $49.Book by 10/10. Restrictions/exclusions apply. #SouthwestSale http:…', 'RT @SouthwestAir: Sky’s the limit on savings! One-way fares start at $49.Book by 10/10. Restrictions/exclusions apply. #SouthwestSale http:…', 'RT @SouthwestAir: Sky’s the limit on savings! One-way fares start at $49.Book by 10/10. Restrictions/exclusions apply. #SouthwestSale http:…', 'RT @SouthwestAir: Sky’s the limit on savings! One-way fares start at $49.Book by 10/10. Restrictions/exclusions apply. #SouthwestSale http:…', 'RT @AdobeAnalytics: Should business metrics focus on customer happiness? @Zappos and @SouthwestAir think so: http://t.co/I2yNXbIwp7 via @gu…', 'RT @SouthwestAir: Sky’s the limit on savings! One-way fares start at $49.Book by 10/10. Restrictions/exclusions apply. #SouthwestSale http:…', 'Listening to Howard Putnam of @SouthwestAir talk about leadership and integrity @BBBNE_SD_KS_IA http://t.co/zmYc8SH2Wa', 'Huge sale on @SouthwestAir  $49 flights out of Atlanta to a lot of destinations. #WSBTV', 'RT @SouthwestAir: Sky’s the limit on savings! One-way fares start at $49.Book by 10/10. Restrictions/exclusions apply. #SouthwestSale http:…', 'RT @SouthwestAir: Sky’s the limit on savings! One-way fares start at $49.Book by 10/10. Restrictions/exclusions apply. #SouthwestSale http:…', 'RT @SouthwestAir: Sky’s the limit on savings! One-way fares start at $49.Book by 10/10. Restrictions/exclusions apply. #SouthwestSale http:…', 'RT @SouthwestAir: Sky’s the limit on savings! One-way fares start at $49.Book by 10/10. Restrictions/exclusions apply. #SouthwestSale http:…', \"RT @TheRealMBB: Ya'll looking to hit a Jaguars road game, @SouthwestAir has a sale on right now. #DTWD\", 'RT @SouthwestAir: Sky’s the limit on savings! One-way fares start at $49.Book by 10/10. Restrictions/exclusions apply. #SouthwestSale http:…', 'RT @SouthwestAir: Sky’s the limit on savings! One-way fares start at $49.Book by 10/10. Restrictions/exclusions apply. #SouthwestSale http:…', 'RT @SouthwestAir: Sky’s the limit on savings! One-way fares start at $49.Book by 10/10. Restrictions/exclusions apply. #SouthwestSale http:…', \"Ya'll looking to hit a Jaguars road game, @SouthwestAir has a sale on right now. #DTWD\", 'RT @SouthwestAir: Sky’s the limit on savings! One-way fares start at $49.Book by 10/10. Restrictions/exclusions apply. #SouthwestSale http:…', 'RT @SouthwestAir: Sky’s the limit on savings! One-way fares start at $49.Book by 10/10. Restrictions/exclusions apply. #SouthwestSale http:…', 'RT @SouthwestAir: Sky’s the limit on savings! One-way fares start at $49.Book by 10/10. Restrictions/exclusions apply. #SouthwestSale http:…', 'RT @SouthwestAir: Sky’s the limit on savings! One-way fares start at $49.Book by 10/10. Restrictions/exclusions apply. #SouthwestSale http:…', 'RT @SouthwestAir: Sky’s the limit on savings! One-way fares start at $49.Book by 10/10. Restrictions/exclusions apply. #SouthwestSale http:…', 'As soon as @SouthwestAir emails me about flight sales, I quickly see when I can buy a flight or rather flights. #longdistanceprobs', \"Let's do this @southwestair! Bound for the #clickretreat. Yay!! #elevatetheeveryday http://t.co/NRKptbChGR\", \"Beautifully sunny view out of my @SouthwestAir plane's window. I'm back in Tucson! #Home http://t.co/xUb3dzSOzB\", \"Kendrick already has his first frequent traveler account and he's not even 1... @southwestair… http://t.co/L2MI7qS5lx\", '@ChrisHawk07 @SouthwestAir To SEA&gt;TPA', 'RT @Train5829: RT @ksdknews: 72-hour sale at @SouthwestAir. http://t.co/ODpKFX8IHe', 'RT @the_sca: Less than 24 hrs to enter the Got Dirt? Photo Contest for a chance at free airfare for 2 from @SouthwestAir! https://t.co/WdYn…', 'RT @ksdknews: 72-hour sale at @SouthwestAir. http://t.co/ODpKFX8IHe', 'RT @ksdknews: 72-hour sale at @SouthwestAir. http://t.co/IoGxNZrYKM', 'Southwest air flight 999 msy to stl - smoothest landing ever! @SouthwestAir', \"RT @ShaaySmif: You can't not plan a spontaneous vacay when @SouthwestAir has $49 flights...but where to is the question??\", 'RT @ksdknews: 72-hour sale at @SouthwestAir. http://t.co/IoGxNZrYKM', '72-hour sale at @SouthwestAir. http://t.co/IoGxNZrYKM', 'Anyone else that would prefer free wifi access codes vs. free drink coupons for loyal @SouthwestAir flyers? #salesproblems #dontcostnothing', \"RT @ShaaySmif: You can't not plan a spontaneous vacay when @SouthwestAir has $49 flights...but where to is the question??\", '@SouthwestAir @SpiritMagazine Art Director Emily Kimbro @ next @ILoveTexasPhoto workshop to tell the story of a place http://t.co/iz59hfK5Ru', \"@southwestgabe @southwestair Thanks, I've already looked at that. It doesn't seem to tell me if the wi-fi is free of charge?\", 'Just switched an existing flight for less miles and no fees. You rock! @SouthwestAir', 'RT @CoronadoTourism: Pssst.  @SouthwestAir is having a one-day sale on flights, including San Diego/Coronado! http://t.co/5C4kqG4g5e #pleas…', '.@SouthwestAir recognizes National #Disability Employment Awareness through open dialogue, conversations: http://t.co/pcqm5IzZZ5 #socialgood', 'RT @SouthwestAir: @KaitlynCarl Woohoo! Uh oh... Now you\\'ve got \"I\\'ll Be Home for Christmas\" stuck in my head!\\xa0\\xa0^AR', \"@SouthwestAir It's never too early for Christmas music! ;)\", '@SouthwestAir  So happy to deal with your customer service and customer relations, I love the way you steal $180 from a paying customer.', \"Hey @SouthwestAir can u send out a link for ur 3 day deal ending Thurs?! It's incredible -chk peeps, check online starting @ $49 one way!\", 'RT @FlyerTalk: Flights as Low as $49 Each Way During 72-Hour @SouthwestAir Winter #Sale http://t.co/BcuQq0aozN', '@SouthwestAir when are you guys gonna support passbook for iOS? Ever?', \"RT @TodayInTheSky: Rivals are matching @SouthwestAir's sub-$100 fare sales on many routes http://t.co/iUUxrsyKCl\", '@SouthwestAir Hey! Just wondering... is wi-fi free on air tran flights?', '@ReyRey_5 @SouthwestAir our options are endless. Cold or hot?', \"@ShaaySmif @SouthwestAir I'm down for a vacation!\", 'Pssst.  @SouthwestAir is having a one-day sale on flights, including San Diego/Coronado! http://t.co/5C4kqG4g5e #pleaseretweet', '@SouthwestAir another friendly gate agent this time at Houston on way to LAX. Makes a difference - thank you', 'RT @stephanieespo: PLZ RTAsk @americanair @SouthwestAir @JetBlue @USAirways tofly families of soldiers KIA to Dover. #governmentshutdown ht…', \"RT @SouthwestAir: LUVing @JackIngram's Freedom Story in this month's issue of @SpiritMagazine. Check it out on your next flight! http://t.c…\", \"Good stuff! RT @TodayInTheSky: Rivals are matching @SouthwestAir's sub-$100 fare sales on many routes http://t.co/3R7QOWesCu\", \"RT @TodayInTheSky: Rivals are matching @SouthwestAir's sub-$100 fare sales on many routes http://t.co/iUUxrsyKCl\", 'Should business metrics focus on customer happiness? @Zappos and @SouthwestAir think so: http://t.co/I2yNXbIwp7 via @guardian', \"RT @VEGASINC: #LasVegas likely figures prominently in @SouthwestAir's plans to fly south of the border. --  http://t.co/jCfQLGVXrq\", 'just had an awesome customer service experience with @SouthwestAir, which is kinda rare these days.', 'The @SouthwestAir Porch extends its hours this week and will close at 11pm. Come visit, we have heat lamps! http://t.co/6yUW29HpPX', \"RT @TodayInTheSky Rivals are matching @SouthwestAir's sub-$100 fare sales on many routes http://t.co/I4a8gZQPBh\", \"Rivals are matching @SouthwestAir's sub-$100 fare sales on many routes http://t.co/iUUxrsyKCl\", \"Have you RSVP'd to THIS Thursday's #AMAOKC event? Don't miss guest speaker @Munoz_Isaac w/ @southwestair ! http://t.co/yehV4h9NDB\", \"@SouthwestAir I'm A-list Pref, travelling evry wk this yr- I haven't been able to access http://t.co/MOEvfbFQh5 for abt a wk now- any idea?\", '@SouthwestAir fly #3609 awesome thank you !!, super attention', 'Hey @SouthwestAir, how about adding a Palm Springs route before you expand into the fucking third world? http://t.co/m5326AqipL', 'The winner at our EBWIBR luncheon for 2 RT tix from @Southwestair ...Kimberly Banks from AccentCare,Inc...1st... http://t.co/ItF6szMuhh', \"@KaitlynCarl @SouthwestAir only $99 both ways, that's a great deal!\", '@stephanieespo @AmericanAir @SouthwestAir @JetBlue @USAirways', '@SouthwestAir Hi, trying to fundraise for a volunteer program. Will you help me by donating or spreading the word? http://t.co/t7wao1G1aW', \"@SouthwestAir my coke cola promo code won't work.... I'm trying to book my flight today....\", \"btw, @southwestair offers live tv on some flights. maybe I'm easily fascinated, but this was the… http://t.co/LCV95S9mKp\", 'Loving the @SouthwestAir sale - just booked my flight home for Christmas for only $99!', 'Vacation days to burn? @SouthwestAir is having a 3-day winter fare sale. Holiday and wknd travel excluded. http://t.co/HTObzQO0fo', '@SouthwestAir  After completing your International terminal in Houston, where in Mexico will you be flying?  Is Cabo on your list?', '@SouthwestAir Thanks an airlines participation is probably the most significant reason I book an airlines flight.', 'cancelled flights just to re-book them using pts and saved $200! Thanks @SouthwestAir !!! #SWdaBEST', 'Just saved $100 by switching the dates to my already purchased Xmas break flights on @SouthwestAir - like legit. Its a saleeeee goin on!', '@NickStarr @SouthwestAir I hope you are flying farther than Portland.', 'Celebrating the #Entrepreneurial Spirit http://t.co/OaubsZnGXG via @sharethis @SouthwestAir', '@SouthwestAir a flight i booked yesterday is now much cheaper. can I get the rate adjusted?', '@SouthwestAir thanks for a wonderful flight from indy to Vegas! Outstanding!!! Loved the whole crew!! #southwest rocks', 'Woot! @SouthwestAir is doing $49 tx to/from Chicago again. Heck yeah!', \"@VisitAustinTX - we're giving away two #free @Southwestair tickets to a lucky #FB fan! Like our page &amp; share to win  http://t.co/Wd1ylezf1g\", 'Bought 8 drink tickets for our upcoming @SouthwestAir flight on eBay CHEAP! These are going to some fun flights ;)', \"RT @AMAOKC: There's still time to RSVP to Thursday's #AMAOKC event with @Munoz_Isaac from @southwestair http://t.co/2PrWzTnucs\", '@UnitedAirlines Seriously?  A 3 hour Turboprop flight from MCI to CLE?  You do realize its #2013 right?  Should have flown @SouthwestAir SMH', \"Just got 3600 @SouthwestAir points back by rebooking during fare sale. It's the little things.\", 'I\\'m in boarding group C on a @SouthwestAir fight or as I call it, \"I\\'ve reserved a middle seat\". Great. #travelerwoes', 'PLZ RTAsk @americanair @SouthwestAir @JetBlue @USAirways tofly families of soldiers KIA to Dover. #governmentshutdown http://t.co/yZGXZQxcOf', 'RT @SouthwestAir: Because of your #LUV, we’ve reached 60,000 followers on @instagram! Here’s a look some top #SWApic photos. http://t.co/sN…', 'Why, @SouthwestAir, do you tell me I get free Wi-Fi as an A-Lister but I never do? #systemnotworking #irritatedflyer', 'THANK YOU @SouthwestAir for your #awesome deals on airfare today!! I booked a trip to #NOLA (from TPA) in Feb for $49 each way!!', \"RT @AMAOKC: There's still time to RSVP to Thursday's #AMAOKC event with @Munoz_Isaac from @southwestair http://t.co/2PrWzTnucs\", 'Huge sale on @SouthwestAir… Vegas for the Super Bowl, anyone?', 'Spur of the moment Chicago trip booked :) Thank you @SouthwestAir', \"RT @AMAOKC: There's still time to RSVP to Thursday's #AMAOKC event with @Munoz_Isaac from @southwestair http://t.co/2PrWzTnucs\", \"RT @VEGASINC: #LasVegas likely figures prominently in @SouthwestAir's plans to fly south of the border. --  http://t.co/jCfQLGVXrq\", \"RT @AMAOKC: There's still time to RSVP to Thursday's #AMAOKC event with @Munoz_Isaac from @southwestair http://t.co/2PrWzTnucs\", \"RT @VEGASINC: #LasVegas likely figures prominently in @SouthwestAir's plans to fly south of the border. --  http://t.co/jCfQLGVXrq\", \"#LasVegas likely figures prominently in @SouthwestAir's plans to fly south of the border. --  http://t.co/jCfQLGVXrq\", '@LowGravityAscnt @SouthwestAir score!  Then coming to #ORShow is a no brainer!', '@wigirl4ever I fly @SouthwestAir a lot so I applied my rewards miles towards the ticket. $5 admin fee only.', '@LowGravityAscnt @SouthwestAir say what?!  How in the heck did you score that?', '@SouthwestAir the ONLY airline I travel for business and pleasure! http://t.co/4two5ybo8W', \"I love @southwestair's reward program. Round trip flight from DEN to SLC for $5. Yes, pls! #WinterORshow\", '6am @SouthwestAir flight this morning to #Chicago. So ready to do this @GLORY_WS! #GLORY11 http://t.co/zUdIHTleas', 'RT @SouthwestAir: Because of your #LUV, we’ve reached 60,000 followers on @instagram! Here’s a look some top #SWApic photos. http://t.co/sN…', 'RT @SouthwestAir: Just another day on the ramp... Celebrating new nonstop service from Des Moines to Las Vegas! http://t.co/X4U9mkJyXC', 'RT @MissMcDermott: Palm Springs, Vancouver, Chicago, NYC booked...thank goodness for @SouthwestAir @AirCanada and @USAirways aps! #tootired…', \"No matter how many times I call to unsubscribe, I still get bi-/tri-weekly mail from @SouthwestAir. I don't want your darn credit card!\", \"If i'm in a middle seat, this must be @southwestair. Why can't I get a seat assignment like a grown up?\", 'Less than 24 hrs to enter the Got Dirt? Photo Contest for a chance at free airfare for 2 from @SouthwestAir! https://t.co/WdYnkajPmN', 'RT @IEG: Lifting of restrictions on @SouthwestAir should have big impact on #sponsorship strategy. New blog post: http://t.co/up9ook1zol', 'RT @Mommy_Points: Big @SouthwestAir sale today $49/$99/$129/$149 based on distance.  Watch for matches, too', 'ttp://t.co/DWuVfBBLKI', 'Hey @SouthwestAir could you make the aisle a little smaller? I really enjoy the hits to my head and shoulders....', '#relief the ticket I bought on @SouthwestAir went up today, not down. Whew!', 'Lifting of restrictions on @SouthwestAir should have big impact on #sponsorship strategy. New blog post: http://t.co/up9ook1zol', '@Mommy_Points I saved @SouthwestAir points on award #travel with their sale.', 'When I think of good branding, I think of @SouthwestAir  http://t.co/5UKeQvLjeS', 'When I think of good branding, I think of @SouthwestAir  http://t.co/O8GdXblY0k', 'How does an airline oversell their flight?  @SouthwestAir can you explain?', '@stephaniegailll Hurry! Book your flight to #ct for just before Christmas and ride back with us. @SouthwestAir sale! http://t.co/EfnpDkJGVm', \"@LindseyMickels good thing I have 2 free checked bags on @SouthwestAir I may need both for the 2 days I'm in #nashville\", \"I'm breaking up with @southwestair  - they are destroying the usefulness of my airport #CAK. thanks for ruining my @airtran :-( #realtalk\", \"$6.09 for a small soda &amp; even smaller bag of chips yet @SouthwestAir still has $150 of mine held hostage. Our plane isn't even here yet.\", \"The @SouthwestAir secret: it's the sum of many little things done well http://t.co/yBYABAEiKN #customerexperience #cx #custexp\", '@SouthwestAir @AmericanAir @CirrusAviation1... my office today #loveflying #planes http://t.co/xc6REJUrqJ', '@southwestair lost my parents bags on vacation. Corporate: \"we can\\'t trace until you list everything (brand, purchase date) WITH RECEIPTS.\"', \"Heads up @SouthwestAir has literally the best fares I've found for Thanksgiving flights. It's worth checking out... saved me $/headaches.\", '@americanair @SouthwestAir @JetBlue @USAirways below is an opportunity to step up. Fly these families to Dover. #phl http://t.co/yZGXZQxcOf', \"You can't not plan a spontaneous vacay when @SouthwestAir has $49 flights...but where to is the question??\", 'Just had a meeting on Thursday cancelled. Thank you @SouthwestAir for making it SO easy to change my flight! #ILUVSWA', 'Usually a huge @SouthwestAir fan! Not so much this trip! #toomanydelays #nowofi #iwanttobehomw', '@Buenrostro_E @SouthwestAir they are the best! My in-laws fly with SWA exclusively because their customer service is stellar!', '@SouthwestAir When does Southwest join the TSA PreCheck Program', '@Frank_Cusumano You must not be flying @SouthwestAir', 'I love it when my air fare drops! Thanks! @SouthwestAir #wannagetaway', '.@SouthwestAir passengers may be able to fly to Mexico, Central America and possibly South America http://t.co/fnvasgl4wm #travel', 'Well look at that: @SouthwestAir is having a fare sale with flights as low as $49. Oh, how I hope that @Delta will match it! #travel', \"@ActorTrivia What he does have is a good heart! He'll be at the 2013 @SouthwestAir @SlimDownSouth celeb softball game for @Louies_Kids 11/9!\", 'RT @FlyerTalk: Flights as Low as $49 Each Way During 72-Hour @SouthwestAir Winter #Sale http://t.co/BcuQq0aozN', \"@SouthwestAir flight sale? I guess I'll be booking a weekend trip in December and MLK day in January. Where to go where to go...\", 'Suprise Surprise @USAirways will not be reimbursing for leaving me stranded in Vegas with no bags. glad @Southwestair is in DSM now', 'When I think of good branding, I think of @SouthwestAir  http://t.co/z5t8nlsBwM', 'Flights as Low as $49 Each Way During 72-Hour @SouthwestAir Winter #Sale http://t.co/BcuQq0aozN', '@SouthwestAir awesome flight thanks# 3609', 'Spent my morning calling multiple people at @SouthwestAir and @AirTran, but it was so worth it to save $300 and get a free flight home!', 'Watching the @TODAYshow LIVE while flying to Denver. Keep this up @SouthwestAir!', 'In 3 days I will be on @SouthwestAir to Michigan #flying #fun', '@AmericanAir ticket agents &amp; flight att. needs to learn a thing or two from @SouthwestAir about cust. service. My trip yesterday was a trip!', '. @SouthwestAir deals are crazy today!!!! Check it out.', 'Need an excuse to go on vacation?  @SouthwestAir  has tickets starting at $49!', '$49 Fares available on @SouthwestAir from @#RenoAirport to Vegas, LAX, Portland and San Diego! #cheapfares  http://t.co/31ny9Zzzrz', 'RT @wpac66: @SouthwestAir great flight 2181 PIT to TPA great crew..', \"You can always rely on @SouthwestAir's fleet at Burbank on any glorious morning! http://t.co/xZGEuPIgCN\", 'Huuuuge @SouthwestAir sale through Thursday!!! Flights Chicago---&gt;Nashville are $50! #travel ❤️', \"RT @SouthwestAir: LUVing @JackIngram's Freedom Story in this month's issue of @SpiritMagazine. Check it out on your next flight! http://t.c…\", '@SouthwestAir Why-O-Why are your flights from Denver to TX so expensive???', '@DLoesch I go out of my way to fly @SouthwestAir', '@SouthwestAir great flight 2181 PIT to TPA great crew..', 'I love @SouthwestAir   Even when things go wrong they tell the truth and keep you updated. Leaving @BWI_Airport', \"What do @SouthwestAir @PUMA @Virgin @MindValley have in common? They're amazing companies. Find out why #EngageBook http://t.co/mQhqYcLYpd\", \"You don't realize how much you miss free checked bags til you're hauling a big carry on around the airport. Miss you, @SouthwestAir!\", \"Viva @SouthwestAir!: Las Vegas figures prominently in Southwest's plans to fly south of the border http://t.co/MaYgtXFB9M via @vegasinc\", 'Sale on @SouthwestAir fares is on now thru Thursday. Fares as low as $49 each way. #SouthwestSale #LUV', '@SouthwestAir Can I use my SW airfare credit to book a rental car?', 'RT @kyleporter: Stellar customer experience w/ @airtran &amp; @SouthwestAir this morning. especially after significant user error on my end.', 'You know you\\'re dying to go home when you get the \"$49 flights with @SouthwestAir\" email and your day is made....', \"@SouthwestAir When do you plan to release airfares for May/June 2014? I'm researching flights from BWI-LAX for my wedding party\", 'Heads Up - @SouthwestAir is having a nice sale.  I was able to save about 8k rapid rewards points just by re booking my flight', 'Big @SouthwestAir sale today $49/$99/$129/$149 based on distance.  Watch for matches, too', 'ttp://t.co/DWuVfBBLKI', 'Thank goodness for @SouthwestAir. No change fees and reusable funds on their lowest fairs just got me out of an  expensive mistake.', 'Flying out of Detroit is such a calmer experience. Makes Midway seem like JFK. cc @southwestair (at @dtweetin) [pic]: http://t.co/seatRbKKM0', '@southwestAir fly if you want busted equipment when well labelled saw them throwing peli case through air http://t.co/rDdGRFeEjh', '@SouthwestAir it was not a pleasant boarding process. Still #LUV you!', '#SWA you need to help customers in #ICT  Customers are clueless on your boarding process. @SouthwestAir', \"Thanks @SouthwestAir. It's three times as expensive for me to fly home now that you're discontinuing service from ATL to Pensacola.\", '@ChiFireDrew @SouthwestAir makes sense, but I bought reward points so what could have been a $5 flight now cost me $100 no matter what', '@ChiFireRachel @SouthwestAir cancel and re-buy', \"Crazy.. Only 31 pax on this @SouthwestAir flight. 112 empty seats. Everyone's an A. This never happens.\", 'Hey @SouthwestAir! Im from Memphis and I wrote a song called #WannaGetAway. It would be perfect 4 an ad especially with service here now!', '@mrBobbyBones no reason to fly @SouthwestAir for turkey day come down 30 mins south of Franklin and get some good southern cooking', 'LUVing the low fares on @SouthwestAir - Booked a flight for my daughter to come home for the holidays $93 round trip! #travel', 'Fancy brand new 737-700 on @SouthwestAir today. Traveling home in style.', \"@SouthwestAir 2/2 As a frequent last minute biz flier I get dinged by last min price, it'd be nice to be rewarded for loyalty with discount.\", '@SouthwestAir 1/2..Would love to log on and automatically get rewarded with a 30% discount off retail price for flying thousands of miles.', '@SouthwestAir I LUV SWA, be awesome if I can earn a % discount as I fly more miles instead of credits for a free flight. Better incentive.', 'RT @StaxMemphis: Stax Museum of Americaqn Soul Music is 1 of 9 reasons to visit #Memphis via @Southwestair new $89 flights http://t.co/4U4r…', \"@dfwticket , can't wait to see you Thursday at @SouthwestAir - 2013 Southwest Airlines Pigskin Plane Pull!\", 'Ugh I got trigger happy last night and bought a flight on @SouthwestAir and 10 hrs later they have a sale #playedthegamebadly', 'Hanging out at work... @SouthwestAir #swapic http://t.co/4ULJtkkGXM', '@MrsAngervil: Omg it took 2 hrs to book a flight on southwest ....@SouthwestAir', 'Stellar customer experience w/ @airtran &amp; @SouthwestAir this morning. especially after significant user error on my end.', 'Time to get on @SouthwestAir to fly back to NOLA. By the way, the airfare for this trip was courtesy of Rapid Rewards. #lastpromoIpromise', '@SouthwestAir you have the most polite and friendly gate agent at DCA - nice way to start a long day', 'RT @FlyingPhotog: A @SouthwestAir pilot, Jack Billington recently retired with 34,895 block flight time hours in the 737 - the most in the …', '@SouthwestAir your checkin at bwi is painfully slow, employees just in a daze, going on 25 mins for 8 ppl', '@SouthwestAir not only do u open at 4:30- the staff was late and then felt it more important to wash the scales before opening #annoyed', 'Riddle me this @SouthwestAir why does your check in counter at MHT only open at 4:30a when you have flights departing as early as 6a!', 'RT @FlyingPhotog: A @SouthwestAir pilot, Jack Billington recently retired with 34,895 block flight time hours in the 737 - the most in the …', '#thingstodoinairport  waiting for @SouthwestAir ticket counter to open at 430a in tucson airport stream @BigDaddyGraham @SportsRadioWIP', 'RT @StaxMemphis: Stax Museum of Americaqn Soul Music is 1 of 9 reasons to visit #Memphis via @Southwestair new $89 flights http://t.co/4U4r…', 'Palm Springs, Vancouver, Chicago, NYC booked...thank goodness for @SouthwestAir @AirCanada and @USAirways aps! #tootiredtogetoffsofa #travel', 'RT @UnrealFehr: If u want to drink early and not be judged, I suggest HomeTurf in the @SouthwestAir terminal at LAX. Old, young, male, fema…', 'Someone should grab that one! RT @geoffnotkin: Yes @AZChallenger I was thinking about that since @SouthwestAir is my favorite airline BY FAR', 'Yes @AZChallenger I was thinking about that since @SouthwestAir is my favorite airline BY FAR', \"RT @SouthwestAir: LUVing @JackIngram's Freedom Story in this month's issue of @SpiritMagazine. Check it out on your next flight! http://t.c…\", 'Plane was supposed to be delayed 15mins. Left on time &amp; turns out arrived 15mins early. Thank you @SouthwestAir', '@SouthwestAir can we hope for a universal iOS 7 app from you in the near future? Untapped opportunity with your current iPhone app.', 'Dear @SouthwestAir', 'ou are making every person who lives in LA trying to travel to Tucson for HC miserable', 'incerely', 'of A Alumni', '@veritasium I always fly @SouthwestAir, even if it is more expensive, no matter what I go with them.', '@SouthwestAir you have great people working at customer relations :)', 'RT @StaxMemphis: Stax Museum of Americaqn Soul Music is 1 of 9 reasons to visit #Memphis via @Southwestair new $89 flights http://t.co/4U4r…', 'Jonathan quick. Wanna get away? @SouthwestAir', 'RT @FlyingPhotog: A @SouthwestAir pilot, Jack Billington recently retired with 34,895 block flight time hours in the 737 - the most in the …', \"@RunRocknRoll @chelseykelsey @southwestair you know what I'm psyched for? The photo op after LV. :) assuming I make it alright ha ha\", \"@ChelseyKelsey @VegasBJJGeek we love @SouthwestAir too! We're prepping final details to help #rnrsa runners recover + make it to flights.\", \"@ChelseyKelsey @runrocknroll @southwestair Oh! Interesting. luckily i live in vegas so I can pick up Friday. can't wait for this!!!\", \"@VegasBJJGeek @RunRocknRoll @SouthwestAir that's why I asked about double packet pick up. Haha close one is much cheaper\", \"@ChelseyKelsey @runrocknroll @southwestair I've already booked my flights, there are two.. one of them is a close shave time wise!\", \"@VegasBJJGeek @RunRocknRoll  wonder if they could get @SouthwestAir involved, since that's the flight everyone will want to be on!\", \"RT @AMAOKC: There's still time to RSVP to Thursday's #AMAOKC event with @Munoz_Isaac from @southwestair http://t.co/2PrWzTnucs\", 'Unable to travel because my job was affected by the #governmentshutdown, thank you @SouthwestAir for being so understanding. #TheyCARE :-)', '@kcasu13 @tcma @SouthwestAir Yup that was my flight. 5 1/2 hours on a plane is no bueno! Glad to be home!', 'Funny story, took @SouthwestAir from ONT to LAS. Plane went on to PHX and RNO. I got back in and sat in the same seat. My magazine there.', 'RT @FlyingPhotog: A @SouthwestAir pilot, Jack Billington recently retired with 34,895 block flight time hours in the 737 - the most in the …', 'Blue Jean Soul http://t.co/tGavGEmlXM @JetBlue @Delta @AmericanAir @USAirways @SouthwestAir @travelocity', 'RT @FlyingPhotog: A @SouthwestAir pilot, Jack Billington recently retired with 34,895 block flight time hours in the 737 - the most in the …', '@NWSBoston Holy Low Level Wind Shear at TF Green airport. Very interesting at landing. @SouthwestAir did an awesome job! #safelyhome', \"Happy anniversary, @MimiMM_ ! How fitting is it that I received notification of @SouthwestAir A-List status on 10/7? You're the best! #1year\", '@TWCInternships @SouthwestAir thank you for this surprise gift!', \"I hope I'm on the @SouthwestAir plane that looks like a whale. Fingers and dorsal fins crossed.\", 'RT @FlyingPhotog: A @SouthwestAir pilot, Jack Billington recently retired with 34,895 block flight time hours in the 737 - the most in the …', 'Tried to buy tix frm @SouthwestAir ALL DAY &amp; I keep getting an \"undefined error\". WTF guys, fix your shit. Cust Service was no help either!', 'Thanks @SouthwestAir :) #drinks http://t.co/1jLOHpvcjs', \"Trying to get my head around flying @SouthwestAir I'm in group B was hoping for the A list.\", 'THX @SouthwestAir for being fair. Just changed flights to NYC for marathon wknd @ no charge b/c that’s what the flight costs. Go figure!', '@SouthwestAir your flight crew from MKE to PHX rocked it today... Christy and Ryan were amazing and deserve a raise!', \"@USAirways Interesting as @SouthwestAir has same ticket prices, ZERO change fees. They will get every dime of my and my company's business.\", \"Gave @Delta a chance, huge mistake won't happen again!! Apologies @united @FlyFrontier @SouthwestAir won't doubt you again\", 'See the tweet i just RTed from @MrSheridanXXX. Kinda of a big deal to me @SouthwestAir', 'RT @MrSheridanXXX: Overheard my @SouthwestAir flt attendant voice her displeasure w/ gay marriage. Not sure i can use my fav airline if the…', 'Ugh still just sitting on an @SouthwestAir plane supposed to leave over an hour ago. #caniswitchtojetblue', 'RT @FlyingPhotog: A @SouthwestAir pilot, Jack Billington recently retired with 34,895 block flight time hours in the 737 - the most in the …', 'Overheard my @SouthwestAir flt attendant voice her displeasure w/ gay marriage. Not sure i can use my fav airline if they endorse that view', '@SouthwestAir @JackIngram @SpiritMagazine GREAT IDEA! Jack...r u reading about yourself in that pic??', \"@SouthwestAir flight canceled? At least I'm going to the Bay Area. Two airport to choose from. Otherwise I'd be mad.\", 'I just obtained a Rapid Rewards number for my daughter on @SouthwestAir. This is surreal... Baby girl is growing up!', 'Going through my mail and I found this from @SouthwestAir !!! Free drink coupons?? THANK YOU!! http://t.co/igmi67vAYR', '“@INYRMOUTH_: I missed school last week and it feels like I missed a lot :/', '', 'lame it on @SouthwestAir', 'RT @FlyingPhotog: A @SouthwestAir pilot, Jack Billington recently retired with 34,895 block flight time hours in the 737 - the most in the …', '@Hasteur @SouthwestAir Penalties for cancelled flight, not giving cash refunds. Paying DOUBLE TAXES on flights the voucher SHOULD cover...', '#Letsgoblue @dodgers @dodgerslakers @mlb @southwestair #delayed #ipadmini #smf #postseason #nlds @… http://t.co/BkUchHkLEJ', 'RT @FlyingPhotog: A @SouthwestAir pilot, Jack Billington recently retired with 34,895 block flight time hours in the 737 - the most in the …', 'RT @FlyingPhotog: A @SouthwestAir pilot, Jack Billington recently retired with 34,895 block flight time hours in the 737 - the most in the …', 'RT @FlyingPhotog: A @SouthwestAir pilot, Jack Billington recently retired with 34,895 block flight time hours in the 737 - the most in the …', 'RT @FlyingPhotog: A @SouthwestAir pilot, Jack Billington recently retired with 34,895 block flight time hours in the 737 - the most in the …', \"Apparently checking in at the airport 3 hours early isn't enough time for your bag to make it on the plane. Pls find our bag @SouthwestAir\", 'Just booked @SouthwestAir from @GoingPlacesCLE to #vegas staying at @MGMGrand @mlife #vegascountdown', 'RT @Sebelius: http://t.co/lTUYvKm3GB: 7 mill visitors in two days. More than visit @SouthwestAir site in a month.  People are excited to  #…', 'RT @Sebelius: http://t.co/lTUYvKm3GB: 7 mill visitors in two days. More than visit @SouthwestAir site in a month.  People are excited to  #…', \"Hey @SouthwestAir when I'm still sitting at the gate 30 minutes after departure that would be a delay.  We are not boarding yet\", 'Behind the scenes of a florist shipment from overseas - early start !! @SanDiegoAirport @SouthwestAir cargo http://t.co/tM1NGk2jcl', '\"Pls make sure your seat belts are fastened. Captain says he\\'s going to try something new that he saw in a movie one time\" Luv @SouthwestAir', 'Low fares, friendly service, free bags..why fly other than @SouthwestAir http://t.co/tkHVpNF7cO', '@Delta @SouthwestAir Is there are legitimate reason why electronic devices must be powered during takeoff? Seems antiquated #boycottingnook?', '@SouthwestAir CSRs get it together and stop cold transferring and help with a baggage issue that i have been trying to resolve for 7hrs', '@USAirways $200 \"change fee.\" Tickets cost $124 each. RIP-OFF! Never fly @USAirways again. Booking with @SouthwestAir http://t.co/7c0f6CAhk9', \"@SouthwestAir Hey guys! I had a flight refund on my account from months ago. I'm booking a new flight, but can't find my refund. Help? haha\", 'Finally got to ride on Lone Star One. Thanks @SouthwestAir', 'Stax Museum of Americaqn Soul Music is 1 of 9 reasons to visit #Memphis via @Southwestair new $89 flights http://t.co/4U4r0KIwyh', \"@JoeDonRooney there's an interview with Jack Ingram in the @SouthwestAir Spirit magazine &amp; he says a lot of people think he looks like you.\", '@SouthwestAir When y\\'all are sending IM\\'s or mailing each other in the office, and some1 has a good idea do you guys say \"I LUV it?\"', \"WTF literally my 5th flight in a row with a month and a half on @SouthwestAir and it's a 737-300 which mean no wifi. #amateurhour\", 'one down one to go @SouthwestAir http://t.co/N1cu2bNhEz', 'What do you know my @SouthwestAir flight was delayed twice. Again.', '@benrector take note @SouthwestAir', \"I love @southwestair I mean LOVE. But the wifi today is terrible. Can't even get a google search to go... Or tweets http://t.co/uPLmk7KeRy\", '11 @SouthwestAir flights between now and mid-January #experttraveler #travelhalo', \"Love how people 'reserve' good seats for other passengers getting on the plane later in line on @SouthwestAir #jumpseat\", 'RT @FlyingPhotog: A @SouthwestAir pilot, Jack Billington recently retired with 34,895 block flight time hours in the 737 - the most in the …', '@FlyingPhotog @jamesheath @SouthwestAir And to think if he would have taxied at \"normal\" speed it could have been a whole lot more!', \"@FlyingPhotog @SouthwestAir He's got more time in the flare than most young pilots have total.\", '@SouthwestAir how do I go about getting refund for non existent wifi that I purchased?', 'RT @TWCInternships: Karen Price-Ward, TWC alumna and @SouthwestAir corporate community affairs manager, gifts $100 southwest vouchers to al…', 'Karen Price-Ward, TWC alumna and @SouthwestAir corporate community affairs manager, gifts $100 southwest vouchers to all #gala guests!', \"@BradHubbard @SouthwestAir @Mis_Lissah @mradmanovich And @Jon_Anik missed it he's so mad!!!!\", \"I know @SouthwestAir cant control those who don't stop yapping to strangers from get to gate, but that TPA 2 MHT flight was so hot! #fixit\", '@BradHubbard @SouthwestAir @mradmanovich ooooh!  And I bet it was received with the typical canned laughter.', 'I spy my favorite bridge #goldengate #oak #flyinghome @southwestair http://t.co/ha84q74gVT', \"Praying I don't fly on a 737-300 with no wifi again on @SouthwestAir tonight. STL-MCI✈️ #MondayNightFootball\", '@SouthwestAir another beautiful evening on the 737. Thanks for always getting me there safely. http://t.co/n2kLdf9MWG', '@opry @BryantParkNYC @SouthwestAir @NASHFM947NY  I hope this is the start of an ongoing relationship!', 'My compass always points southwest @southwestair #Seattle #SpaceNeedle @ Space Needle http://t.co/5foidjFtpY', '@Reichsbrenner @SouthwestAir Go On...', \"If anyone reading this is flying anywhere please DO NOT fly on @SouthwestAir. They basically stole money from me. I'll never fly them again.\", 'Sound familiar, @cliquekaila? \"@tcma: Stuck on @SouthwestAir 1382 for 2 hrs now in ATL. Mechanic is \"optimistic\". Passengers are sweaty\"', '77 hours until I fly on @SouthwestAir for Nashville, Tennessee for @Stryper Fan Weekend. Please God let me make it there.', \"I'm happy to see @SouthwestAir be on time! #seeya #vegasbound\", 'Grrrrrrrrr my flight is delayed!!! Aw man @SouthwestAir this stinks!', '@Jenn_Stratton @SouthwestAir Never had a bad experience with them!', 'Btwn 1 cancelled flight &amp; 2 delayed ones @SouthwestAir &amp; @AirTran are plaguing my fun long weekend with miserable travel experiences.', \"@SouthwestAir keeps jerkin' our flight around. I suppose it could be worse.\", \"@SouthwestAir seriously has the best customer service! I'm always so impressed with them.\", \"@SouthwestAir here's an awesome sunset shot of you're 737 boeing's at ATL! http://t.co/BETyLvkfRZ\", \"My @SouthwestAir flight is delayed. I hope it's not delayed more. I just wanna go home. I have work tomorrow.\", 'Huge thank you @SouthwestAir for the only standby seat to SFO. Way better than waiting around in the airport', 'on my way back to Seattle for my final time in Seattle hoping for a great flight @SouthwestAir', 'Shoutout to @southwestair ...my flight got delayed, so they comped the alcoholic drinks', '@cmcniece @southwestair Just earned A-List with them - makes traveling MUCH easier - find me a convention!', '@lessonpix @SouthwestAir\\xa0is starting TPA-MEM service soon. Anytime you want to eat BBQ in MEM let me know.', '@The_RHLP @SouthwestAir Well, I guess SOMEONE has to!!  lmao.. You go girl!  Soon u will be in a SWairlines commercial as their spokeswoman!', \"@charleegirly @SouthwestAir I did! I think I fund their pensions at this rate so I'm glad they appreciate me.\", '@The_RHLP @SouthwestAir last time u posted u were watching an inflight show, they posted back to you saying THANKS!  Did you see that?', '@alexajamesmusic The view from my window!! On way to Nashville today! Yay for @SouthwestAir :) http://t.co/3geGsnCZGN', 'Here in #PNS prepping for the big day! Less than one month and we begin @southwestair LUV jet service… http://t.co/ajEQa5jDJO', '@charleegirly not yet... I have 9 @SouthwestAir flights in 2 weeks.. I hope they love me!', \"YAY! BOARDING! You've been nothing but cool/polite thru this delay, @SouthwestAir. As for @fly2midway, please get a decent noodle joint.\", \"Left my copy of @OITNB (the book) on my flight home from Scottsdale last night.  You're welcome, random @SouthwestAir passenger. @Piper\", '@SouthwestAir has 0 control of weather,100% over the information it passes to customers. Poorly played Southwest. #disgruntled#fumbled', \"Well, I'm here in Charlotte for 1 more night! Thanks to @SouthwestAir Maintenance on my first flight!! #Thanks #JB\", 'Beautiful Clouds! #clouds @southwestair @ Dallas Love Field (DAL) http://t.co/FuOGR3BbYb', '@losco @SouthwestAir @southwestgabe Thanks!', 'I credit @SouthwestAir w/  fun jovial atmosphere but why am I always stuck on the plane for an hr? Im done #schedulekiller #CylindricalJail', 'Paid $750 for flights on @SouthwestAir got nothing in return. Watch out for policy changes. Not happy at all.', '@AlzValz @SouthwestAir They do! Its @southwestgabe', \"Should've flown @SouthwestAir\", '@SouthwestAir do you have a special twitter account for customer service?', '@SouthwestAir any specials for veterans flying the weekend before Veterans Day?', 'Thanks @SouthwestAir for making up time and getting me in early to KC. Always always always fly #Southwest.', '@BC_Durbin @SouthwestAir @AirTran economy airline, economy service. @Delta just got a new loyal customer', '@combs_brandon @SouthwestAir @united @AmericanAir Southwest Cust Service surely, no never, OK 60/40 likelihood.....', \"&amp; yes the flight attendant said 'lost wages' after we landed in Lad Vegas. How original. @SouthwestAir @Mis_Lissah @mradmanovich\", 'Thank you @SouthwestAir for not charging extra to switch flights around', '@SI_JimTrotter @SouthwestAir what will you miss? Your thoughts on @TwentyFourWines', 'RT @shreya_kandi: @SouthwestAir pls make my flight take off soon damn', '@SouthwestAir pls make my flight take off soon damn', \"RT @HOUhobby: '(Houston) is well located to serve as a Latin American gateway' #OpportunitiesWithoutBorders @SouthwestAir http://t.co/mdmd3…\", 'RT @jonahedwards: Tried to book a hotel in Chicago through a @SouthwestAir offer-- price on their site was faked high to make it seem like …', '@farrellillusion Ha!! Oh the PHL airport!! I fly @SouthwestAir when I can so I rarely go to the F terminal!', 'Email from @SouthwestAir about free Dish TV on my flight is making it *really* difficult to stay motivated to work from plane. #travelprob', '@SouthwestAir if my flight is through you but serviced by AirTran, do I still get 2 checked bags?!', 'Emily, Becky &amp; Jay on your ABQ-LAX flight today were fabulous! Thanks for the ride home @SouthwestAir #nonrev http://t.co/ogdTevWgX9', 'Huge kudos to attendants on @SouthwestAir from MKE to LGA on 10/3. Wife was ill and she said you were OUTSTANDING!  Thank you Southwest Air!', 'RT @markjohnson319: @southwestair \"Illinois One\" @boeing 737-700. Photo from May of this year at Dallas Love Field. http://t.co/rqHmmfXL9C …', '@triBC @SouthwestAir Positive thinking.', \". @united is the worst airline service. Don't even tell you that your gate is changed or flight is delayed. @AmericanAir &amp; @SouthwestAir &gt;&gt;&gt;\", 'Time for @SouthwestAir to get with the program! RT @StewartVerdery: No pre-check at Southwest to get thru TSA... #slowlanefornoreason', 'Email from @SouthwestAir about having wifi/free TV on my plane tomorrow! #win', '@southwestair \"Illinois One\" @boeing 737-700. Photo from May of this year at Dallas Love Field. http://t.co/rqHmmfXL9C #avgeek', 'At least when @SouthwestAir  loses my bike on the way home it makes it easier to take the bus.', '.@SouthwestAir Your \"customer service\" guy at gate 28 in Oakland right now is a jerk. Maybe I should fly @United or @AmericanAir? #AList', \"Watch my well marked fragile peli camera case get thrown by @SouthwestAir staff 5ft to belt on flight 836 don't fly them if u can help it\", '@si_jimtrotter @southwestair You and Matt Flynn on same the flight?', \"@SouthwestAir it's my first time flying and I'm scared\", \"@SouthwestAir  I'm scared to fly on Thursday :(\", 'I hate @Delta so much, $200 change fees are total bullshit. Sticking with @SouthwestAir for all future travels. Got screwed this time', '@SI_JimTrotter @SouthwestAir you can always listen to the game on the radio too, yes?', '@SI_JimTrotter @SouthwestAir godspeed.', 'Trying to get home from Oakland in time for MNF. Will I make it? Counting on @SouthwestAir and light highway traffic.', \"'(Houston) is well located to serve as a Latin American gateway' #OpportunitiesWithoutBorders @SouthwestAir http://t.co/mdmd3IgCIs\", 'Big shoutout to @SouthwestAir for canceling my flight #363 to BUR and forcing me to take a shuttle home from LAX.', '@SouthwestAir Would totally appreciate an accurate update. \"Ready in a few minutes\" isn\\'t accurate. Been sitting here for over an hour.', \"RT @opry: A huge thanks to @BryantParkNYC @SouthwestAir &amp; @NASHFM947NY for helping bring Nashville's new music to NYC! #NashvilleNYC\", 'Tried to book a hotel in Chicago through a @SouthwestAir offer-- price on their site was faked high to make it seem like a good discount.', '@TWCInternships @SouthwestAir Congratulations Karen Price-Ward! TWC Alumni are very proud of you! Well-deserved honor http://t.co/MtheyI3iPw', 'RT @FlyingPhotog: A @SouthwestAir pilot, Jack Billington recently retired with 34,895 block flight time hours in the 737 - the most in the …', \"@KMFreaney Kevin, not sure about @SouthwestAir but @AirTran has #notweetsin4yrs - can't help ya with the pants!\", 'Stuck on @SouthwestAir 1382 for 2 hrs now in ATL. Mechanic is \"optimistic\". Passengers are sweaty. http://t.co/K6fQeaWYnU', '@SouthwestAir not a happy camper right now. Stuck on flight from ATL to PHX and no updates on ETA! 1 hour and counting.....', '@SouthwestAir now that 2987 was cancelled are our bags stuck in ONT or did they get rerouted to LAS with us?', 'Staying connected via @SouthwestAir Fly-Fi Wi-Fi Hotspot™', 'Dear @SouthwestAir, I understand that times for airlines are rough, but keeping my $300 credit and giving me 0 in return is just wrong.', 'Emergency row! @SouthwestAir', '@SouthwestAir when will you be opening up July to purchase tickets?', 'Houston to Atlanta now offered by @SouthwestAir. Boom!', \"@SouthwestAir  due 2 location hv 2 fly 'nother carrier. I miss you. #swarocks\", 'Wow…per usual flights by @USAirways DELAYED. No longer surprised by this and thank God I booked @SouthwestAir home. #annoyed #neveragain', \"RT @opry: A huge thanks to @BryantParkNYC @SouthwestAir &amp; @NASHFM947NY for helping bring Nashville's new music to NYC! #NashvilleNYC\", 'Delayed on my way to #astricon, so I get to spend many hours at LAS now and will get in after midnight. At least @SouthwestAir found a way.', \"RT @KMFreaney: Still nothing from socia media #airtran or #southwest team. Proving my point @SouthwestAir doesn't care to help customers\", \"RT @KMFreaney: @SouthwestAir do not fly. Baggage handlers steal from luggage. Customer support doesn't help #southwest #airtran\", 'RT @KMFreaney: @SouthwestAir why do you refuse to help. You are owned by same company.', 'RT @KMFreaney: @SouthwestAir flew AirTran yesterday. Two pairs of designer jeans and 300 worth of makeup stolen out of check bag. Baggage w…', \"@_caitlincarter_ @SouthwestAir go to the back of the plane.that's usually the last place people tend to sit. You may be able to get an aisle\", \"Still nothing from socia media #airtran or #southwest team. Proving my point @SouthwestAir doesn't care to help customers\", \"@TheKenChilds @southwestair As if tmrw wasn't already going to be a long &amp; awful enough day.... I'll be keeping my fingers crossed.\", '@_caitlincarter_ @SouthwestAir That said, when you show up tomorrow you might be able to pay the $10 for early boarding? Probably stuck, tho', \"Can't wait for my flight to FL on Wed and TX on Sat with @SouthwestAir\", '@TheKenChilds @southwestair Well shoot. :(', \"@_caitlincarter_ @SouthwestAir If it's already checked in I'm not sure\", \"Anyone know if I can pay for a better boarding position w/ @SouthwestAir the day of a flight?? I can't do a middle seat for 7 hrs.\", \"Booked a flight for two non-stop to Orlando for only $217 each with @SouthwestAir from MEM. Nice! Couldn't do that with @Delta\", '@SouthwestAir #getaclue lga to chi #gatechange', 'RT @Greg_Byrne: On a much less serious note…come on @SouthwestAir. Can we not do something about having to go through security again for Ga…', \"@SouthwestAir What's up with ur flight from FtL-Tampa?? Been waiting &amp; the customer svce guy is nasty!! Supposed to b boarding now#wtfswa\", 'On a much less serious note…come on @SouthwestAir. Can we not do something about having to go through security again for Gates 1 &amp; 2 #Tunnel', \"@southwestgabe you're amazing!  Thank you. &lt;3 Twitter and @SouthwestAir!\", 'Kudos to @SouthwestAir and @SouthwestVerity for listening when things went awry. Knuckle bumps for making it right. *bump*', 'Thank you, @SouthwestAir for your great customer service and getting us home in a rough situation!! #IFlySWA #Nashville #HartfordBDL', 'RT @Cool_Papa_Bear: Officially done with @SouthwestAir I cannot believe the way I was just treated in Denver.', \"RT @SouthwestAir: LUVing @JackIngram's Freedom Story in this month's issue of @SpiritMagazine. Check it out on your next flight! http://t.c…\", '@SheridanLoveXXX @SouthwestAir @MrSheridanXXX Did they say if the weather clears, flights will go out?', \"RT @opry: A huge thanks to @BryantParkNYC @SouthwestAir &amp; @NASHFM947NY for helping bring Nashville's new music to NYC! #NashvilleNYC\", '@ToddNJ @SouthwestAir @MrSheridanXXX yep', '@SheridanLoveXXX @SouthwestAir @MrSheridanXXX Is it a weather delay or something?', \"RT @SouthwestAir: LUVing @JackIngram's Freedom Story in this month's issue of @SpiritMagazine. Check it out on your next flight! http://t.c…\", \"@SouthwestAir can I add a completed trip to my rewards total?  I'm on the site and I don't see that option...thx\", \"This weather is stressing me out. I need to be on a @SouthwestAir flight early Friday morning. I won't feel good until I am in flight.\", 'Thank you @SouthwestAir for the ride home! You guys are amazing! #nonrev #travel #ABQtoLAX', '@SouthwestAir Any plans for iOS passbook support for boarding passes anytime soon.  It appears most major carriers already do.', 'Wow @PITAirport. Your preferred line is always closed &amp; no @SouthwestAir A-List checkin line. Great… http://t.co/w8BSHS1SJr', '@SheridanLoveXXX @SouthwestAir @MrSheridanXXX Maybe something will come up', '@ToddNJ @SouthwestAir @MrSheridanXXX more hassle than its worth', \"RT @opry: A huge thanks to @BryantParkNYC @SouthwestAir &amp; @NASHFM947NY for helping bring Nashville's new music to NYC! #NashvilleNYC\", \"@SheridanLoveXXX @SouthwestAir @MrSheridanXXX What about train? If you're willing. Maybe Amtrack? They're usually fast\", \"A huge thanks to @BryantParkNYC @SouthwestAir &amp; @NASHFM947NY for helping bring Nashville's new music to NYC! #NashvilleNYC\", \"RT @SouthwestAir: LUVing @JackIngram's Freedom Story in this month's issue of @SpiritMagazine. Check it out on your next flight! http://t.c…\", '@SheridanLoveXXX @SouthwestAir @SIENNAWESTLAND Dam! I thought I was hoping you did know her', 'Officially done with @SouthwestAir I cannot believe the way I was just treated in Denver.', 'RT @Chanceb737: Where can we take you? @SouthwestAir #swapic http://t.co/k7TxTvnjwK', '@ToddNJ @SouthwestAir @MrSheridanXXX nooe. Nothing. Everything is way delayed here', '...@SouthwestAir lost my luggage  Not a good flying experience with them this trip. they act like its not a HUGE inconvenience.', '@ToddNJ @SouthwestAir @SIENNAWESTLAND i wouldn’t ask that of her. We do not know each other', '@SheridanLoveXXX @SouthwestAir @MrSheridanXXX Dam! What about another airline?', '@ToddNJ @SouthwestAir @MrSheridanXXX already tried. No options available', 'Where can we take you? @SouthwestAir #swapic http://t.co/k7TxTvnjwK', '@SheridanLoveXXX @SouthwestAir or ask @SIENNAWESTLAND if you can sleep over her house. She lives in Denver, right?', \"@SheridanLoveXXX @SouthwestAir An extra flight but at least you'll get home\", '@SheridanLoveXXX @SouthwestAir Ask if they can get you to another airport that has a flight going to your destination after.', \"Book a flight on @southwestair online, run by Airtran u can't get a seat til the day of the flight!  #unfair #baddisclosure\", 'RT @bhath97: Over an hour late, medical problems onboard, and still Warrior Spirit and great experience @SouthwestAir Thanks captain and cr…', '@SheridanLoveXXX @SouthwestAir no problem', 'A great prize is up for grabs! Like the @BenchmarkRecCen FB page to enter to win two #free @southwestair tickets: http://t.co/rWZbZHcYhn', 'This + slow @southwestair wifi = KJ nightmare. RT @MLB: 15 up, 15 down for @Cardinals starter @MichaelWacha. Watch on @MLB_TBS. #NLDS', \"@SouthwestAir do not fly. Baggage handlers steal from luggage. Customer support doesn't help #southwest #airtran\", '@SouthwestAir why do you refuse to help. You are owned by same company.', \"@SouthwestAir flew AirTran yesterday. Two pairs of designer jeans and 300 worth of makeup stolen out of check bag. Baggage won't answer\", \"You don't have to tell me twice, @SouthwestAir ! WOO  http://t.co/4nOxw2D69f\", 'Debating on how to use the rest of my @SouthwestAir giftcard. #wheretogo', \"RT @SouthwestAir: LUVing @JackIngram's Freedom Story in this month's issue of @SpiritMagazine. Check it out on your next flight! http://t.c…\", '@SouthwestAir @JackIngram @SpiritMagazine Would love to be on a flight to Texas and then Nashville in that order yesterday!', \"RT @SouthwestAir: LUVing @JackIngram's Freedom Story in this month's issue of @SpiritMagazine. Check it out on your next flight! http://t.c…\", '@SouthwestAir For the first time in years, i have no drink coupons.  #help!', 'Squeeee! Me too! RT @SouthwestAir: @TM_Erin We are excited for #clickretreat too! ^AW', \"I'm so mad! I waited ONE day to buy my plane ticket and @SouthwestAir tickets went up an extra $100!! Now I can't even buy the damn ticket\", 'RT @airlineguys: And in this corner...@SouthwestAir Prepares to Take on @United in Houston http://t.co/eeNA1Jv5M6 #airlines', '@SouthwestAir When will you add an app for @windowsphone ? I am A-Preferred and could use an app on my Nokia Lumia 1020.', 'RT @zwpittman: Thankful to @SouthwestAir! Facing a 45min delay and missing a conn. flight, we were moved to an earlier direct flight. #awes…', 'Thankful to @SouthwestAir! Facing a 45min delay and missing a conn. flight, we were moved to an earlier direct flight. #awesome #flynoother', 'Go Paul! @FlyingPhotog @SouthwestAir pilot, Jack Billington retired w/34,895 block flight time hours in the 737 most in industry! #avgeek', 'Best flight crew EVER on my @SouthwestAir flight back to LA. \"Remember there is no smoking or twerking on the aircraft.\" #wewanthannahback', '@united Hope you achieve the goal--the thinner seats on @southwestair are downright city bus awful, though.', '@southwestair Hi!Do u offer smthg like a commuter pass between LAX and Denver,CO?', '@SouthwestAir in ONT put the checked bags for the ppl on THIS plane over in THAT plane.  Turned back to gate to try this 1 more time. SMH', 'As every hour passes @Delta @AmericanAir @VirginAmerica @SouthwestAir gain a old @united passenger. So disappointed. #customerservice', 'RT @airlineguys: And in this corner...@SouthwestAir Prepares to Take on @United in Houston http://t.co/eeNA1Jv5M6 #airlines', '@BradHubbard @SouthwestAir Im telling you, getting a \"C\" boarding assignment is not a punishment, but rather sets you free #RadManTheory', '@SouthwestAir How can I get help using unused flight funds when customer service wont ?', '.@SouthwestAir Reports September Traffic http://t.co/qik2fo9VBr', '@the_Veryniceguy @SouthwestAir let ya know if it gets to that', '@SouthwestAir in #StLouis on the way to Kansas City, then Des moines, then Chicago. #arewethereyet', '@SouthwestAir http://t.co/kpKyydIpCh', 'RT @airlineguys: And in this corner...@SouthwestAir Prepares to Take on @United in Houston http://t.co/eeNA1Jv5M6 #airlines', 'And in this corner...@SouthwestAir Prepares to Take on @United in Houston http://t.co/eeNA1Jv5M6 #airlines', \"I'm praying to all the gods of country music please don't let the @CassadeePope performance be cancelled @opry @BryantParkNYC @SouthwestAir\", 'The redesigned WiFi portal looks great and is much easier to navigate. Nice work @SouthwestAir', \"@SheridanLoveXXX @SouthwestAir no way that's not KOOL want me to cuss them out✈️✈️\", '#Free trip of your choice! Like our #Facebook page to win two @SouthwestAir tickets: http://t.co/ARqoNia7CZ Who loves to #travel?!', 'Great. Delayed longer. Now missing my 2nd flight in denver again. @SouthwestAir won’t pay for my hotel!', 'Once again @SouthwestAir got me home early. I love that in an airline.', 'Over an hour late, medical problems onboard, and still Warrior Spirit and great experience @SouthwestAir Thanks captain and crew of 3496.', '@SouthwestAir has created a Pavlovian reaction involving flight attendants, a basket and peanuts/#cheesenips. #salivatingPassenger #nomnom', 'Hey, @SouthwestAir and @Dish! Thanks for the free TV! 12 live channels and 22 shows?!? I’m feelin’ the LUV. #SWApic http://t.co/umDsgCmbuF', '@FrontierCare and no wifi? @SouthwestAir - I miss you', 'Like usual, thin blonde girl takes the center seat behind me &amp; 240lbs guy takes center next 2 me. #RadManTheory @SouthwestAir @mradmanovich', 'Thanks @SouthwestAir for getting me &amp; my bag home quickly despite extremely long lines @ ticket counter &amp; security all w/ excellent service', 'When you arrive on an early am @SouthwestAir flight and hours later get a \"Your trip is around the corner!\" email for the weekend. #jetset', \"Figure this out @SouthwestAir ..... I paid for a ticket 6 months ago and can't sit by my husband on a 3 hour flight? Thanks\", \"RT @WeAre_Adventure: Peanuts! :P cc: @SouthwestAir Also the #MaiTai from @HawaiianAir was awesome! #foodonthefly Can't say there's been man…\", 'Ever try to \"check in\" on a jet w wi-fi? Kinda cool seeing the little blue dot move faster than places on map. @SouthwestAir @foursquare', \"Peanuts! :P cc: @SouthwestAir Also the #MaiTai from @HawaiianAir was awesome! #foodonthefly Can't say there's been many full meals... #food\", '@jessnj10: If you want to sit by the person you are traveling with.... Do not pick @SouthwestAir', 'Awesome to see @SouthwestAir supporting #NDEAM! http://t.co/xw0QzTDqPI', 'RT @DaveQuinn247: Finally made it to the city of brotherly love for #IEDCphl thanks @southwestair for the lift. http://t.co/euQ0AIZImG', '@saramillerb @SouthwestAir Safe travels!', 'RT @the_sca: Enter the Got Dirt? Photo Contest by 9AM Wednesday for a chance to win free airfare for 2 from @SouthwestAir! https://t.co/l04…', 'RT @saramillerb: THIS PLANE IS ADVERTISING SEAWORLD AND IT LOOKS LIKE A KILLER WHALE. @SouthwestAir http://t.co/NJy83131K5', 'THIS PLANE IS ADVERTISING SEAWORLD AND IT LOOKS LIKE A KILLER WHALE. @SouthwestAir http://t.co/NJy83131K5', \"I'mma enjoy this flight back on @SouthwestAir, I came I saw I conquered #Vegas\", \"@SouthwestAir Last few flights very late, but you're keeping it classy. #iflyswa\", \"@USAirways won't waive fees to change flights for loved ones of the military who had deployments extended. Shoulda flown @SouthwestAir\", '@Churific @SouthwestAir lmao!!!', 'Finally made it to the city of brotherly love for #IEDCphl thanks @southwestair for the lift. http://t.co/euQ0AIZImG', 'A little tired of jerks on @SouthwestAir not letting me sit by my husband on 3 hour flights..... #fixit', 'Still a #bargain: @SouthwestAir Begins Enforcing No-Show Policy http://t.co/PP2sBj9FZI #businesstravel #airline', 'Worse customer service ever! just finished playing hot potatoe on the phone w/CSR and still nothing resolved @SouthwestAir #southwestair', 'Yesterday, my flight attendant on @SouthwestAir was entertaining even with weird emergency info; I made him a tribute http://t.co/taWiclakg6', 'Bless you @SouthwestAir', '@SouthwestAir just flew #1978 from PIT to MDW...Regina the flight attendant is an absolute treasure!', 'Heading home @SouthwestAir http://t.co/tb2qmwxphp', 'bought my ticket. Want to get away with @SouthwestAir is the way to go!', 'Best way to get a free flight and miles is taken the next flight when they overbook  I did it a few times especially @SouthwestAir', 'Hotel booked! Now time for the flight. Stop being so expensive @SouthwestAir', 'RT @FlyingPhotog: A @SouthwestAir pilot, Jack Billington recently retired with 34,895 block flight time hours in the 737 - the most in the …', 'RT @FlyingPhotog: A @SouthwestAir pilot, Jack Billington recently retired with 34,895 block flight time hours in the 737 - the most in the …', \"@SouthwestAir I hope you're happy you stranded me with a brain injury and made my mom wait at the airport and make a million trips\", \"@SouthwestAir rerouted us to Pittsburgh and didn't bother putting this on their website. Stuck in Steelers hell and missing neurologist appt\", 'How much is the air fare for a 3 year old @SouthwestAir ?', 'RT @FlyingPhotog: A @SouthwestAir pilot, Jack Billington recently retired with 34,895 block flight time hours in the 737 - the most in the …', 'RT @InternshipKing: @SouthwestAir  @CareersUnilever @WalmartCareers @3MNews @millercoorsjobs Congrats! Top 60 Internship Programs: http://t…', \"@SouthwestAir five hour delay from ONT. what's up?\", 'Enter the Got Dirt? Photo Contest by 9AM Wednesday for a chance to win free airfare for 2 from @SouthwestAir! https://t.co/l04tFlNTSR', 'RT @UnrealFehr: If u want to drink early and not be judged, I suggest HomeTurf in the @SouthwestAir terminal at LAX. Old, young, male, fema…', 'If u want to drink early and not be judged, I suggest HomeTurf in the @SouthwestAir terminal at LAX. Old, young, male, female #justboozing', 'Love the Maryland Pride plane @SouthwestAir http://t.co/bvkzRwxu8f', 'MSP--&gt;MDW on @SouthwestAir =best crew! \"if you\\'re traveling with small children today....why??? why would you do that?!?!\"', '@SouthwestAir hoping that BigDeal40 comes around again this year.  I would love to scoop some cheap winter travel.', \"Dear @SouthwestAir It's been awhile. Whadya say we get together over a $79 flight fare from Omaha to Vegas? #WorthATry\", 'RT @FlyingPhotog: A @SouthwestAir pilot, Jack Billington recently retired with 34,895 block flight time hours in the 737 - the most in the …', 'RT @opry: @IamMEGANf @BryantParkNYC @SouthwestAir @NASHFM947NY We are keeping our eyes on the sky and our fingers crossed.', '@IamMEGANf @BryantParkNYC @SouthwestAir @NASHFM947NY We are keeping our eyes on the sky and our fingers crossed.', 'RT @FlyingPhotog: A @SouthwestAir pilot, Jack Billington recently retired with 34,895 block flight time hours in the 737 - the most in the …', 'RT @FlyingPhotog: A @SouthwestAir pilot, Jack Billington recently retired with 34,895 block flight time hours in the 737 - the most in the …', 'A @SouthwestAir pilot, Jack Billington recently retired with 34,895 block flight time hours in the 737 - the most in the industry! #avgeek', '@BryantParkNYC @SouthwestAir @opry @NASHFM947NY is the preform still happen with the rain??', 'RT @Jaunted: Southwest Breaks Ground On Its First Ever International Terminal in #Houston @SouthwestAir http://t.co/jMsmRc9sKI', \"@SouthwestAir I've never waited this long at baggage claim before. #annoyed   25 minutes and counting.\", 'Meanwhile, at 35,000 feet...  @SouthwestAir http://t.co/OeNNDRq6Nk', '@CalEvans I’d definitely leave feedback for @SouthwestAir. They might be able to fix it.', '@brandonsavage Me too! @SouthwestAir', '@CalEvans :( That’s really unfortunate. I love @SouthwestAir usually.', 'Love A-List preferred status from @SouthwestAir', 'RT @Jaunted: Southwest Breaks Ground On Its First Ever International Terminal in #Houston @SouthwestAir http://t.co/jMsmRc9sKI', 'First time I have EVER been disappointed in @southwestair. :(', \". @SouthwestAir I &lt;3 ur '2 bags for free' policy, but fleecing me for $75 when checking 1 bag that's 0.5lbs overweight just isn't cool.\", 'Dang it! I forgot my @SouthwestAir drink coupons, again! #bummer', \"@SouthwestAir how 'bout and RT for this amazing picture! Our favorite airline! http://t.co/7IiFpvgdrx\", '@sjbauman @AmericanAir @SouthwestAir American is always a hassle I stop using them completely and just use united now. much better!', '@SouthwestAir hurting their most loyal clients by reducing the value of their points come 3/31. #FAIL', 'Greetz to .@chase and .@SouthwestAir for their RapidRewards card: Super-low hold time, easy-to-understand, friendly reps and instant fixes.', \"So annoyed with @AmericanAir! Never thought using our miles would be so difficult. Next time we're flying @SouthwestAir!\", \"@weatherchannel let's move #TropicalStormKaren out of the East! Grounded at Newport News @SouthwestAir 50 large pizzas w/ everything please?\", \"Not good @SouthwestAir  I'm in the process of switching to you and you're 2 for 2 in delayed flights.\", 'We\\'re talking Gandhi, @SouthwestAir &amp; \"sugary treats\" at @delightconf. Random? Yes. Insightful? Yes. #delightftw #treatyoself', '@airlinegossip Good for @SouthwestAir .', \"@SouthwestAir want to sponsor my #studyabroad and I'll be an ambassador for you??? I'm going to @ICMS_Campus #australia\", '.@SouthwestAir rolls out a facelift for its IFE and WiFi menus: http://t.co/8TafvdLjLg #PaxEx', \"RT @tylerpete0717: @SouthwestAir let me get some peanuts on flight 418 to #bwi we're delayed in #mht\", '@SouthwestAir After dealing with unparalleled incompetence from MEM AirTran agents this morning, SWA FAs on flt 1916 MDW-STL were refreshing', 'Best description of @SouthwestAir ever: \"We stand by a pole like it\\'s Festivus, and we guard our pole as our own\" #delightFTW #CX #HXD', \"RT @tylerpete0717: @SouthwestAir let me get some peanuts on flight 418 to #bwi we're delayed in #mht\", 'Wanna work with me? @SouthwestAir is hiring Ramp Agents in Denver, Colorado! Visit http://t.co/006qLbd2MK (REQ # 21352) for info. #jobs', \"@SouthwestAir let me get some peanuts on flight 418 to #bwi we're delayed in #mht\", 'On time and great service, as usual @SouthwestAir #luv', 'Eek might miss our @SouthwestAir flight home... No cabs at @ExcaliburVegas! Wth?', '@AirTran @SouthwestAir now we are having to take care of our 1 month old and 2yr old on a plane completely away from each other...bad svc', 'Add another one to the have never seen on a plane list. Bulkhead row on @SouthwestAir a guy has a giant cello case seat belted in.', \"@SouthwestAir @AirTran rep told me that it was because I booked thru southwest and other ppl had paid seats! So what did I pay for!!'\", '@SouthwestAir traveling with two infants, me and my wife had two seats together and you split us up @AirTran', 'I got lucky today! @SouthwestAir just changed me to a direct flight from AUS to DCA. No more 3hr delay in HOU. Thank you #southwestairlines!', '@SouthwestAir Thx 4 the in-flight WiFi &amp; microwave. Eatin @AmericanRoyal BBQ leftovers &amp; makin my neighbors drool. @VisitKC @HolidayGoddess', 'Southwest Breaks Ground On Its First Ever International Terminal in #Houston @SouthwestAir http://t.co/jMsmRc9sKI', \"I'm about to start flying @SouthwestAir because @Delta doesn't appreciate their customers...\", \"@leahack @SouthwestAir I'm going to the chi in nov too! Vets wknd.i wanna go to vegas next year!!\", '@SouthwestAir. (@ Kansas City International Airport) on #Yelp http://t.co/slJPDwO88R', \"@SouthwestAir Chi in November, Dallas in December! #jetsetlifestyle Where do you wanna go, @BanksButNotTyra? I'm thinking Vegas for my bday\", '@leahack @SouthwestAir lets gooooooooooooo', 'Thank you, airline gods, for bring @SouthwestAir  to #desmoines. You make my wallet and me very happy. #ineedavacation', \"@Heather_Poole @SouthwestAir haha I'm envisioning this. Boarding passes based on RSVP times.\", 'Did you know Branson Airport (BKG) has 2 major airlines flying in &amp; out daily? @FlyFrontier &amp; @SouthwestAir #travelnews #travel #flights', \"This dude was rockin the mic on flight 3682 to BWI. Best @SouthwestAir MC I've heard yet. Thanks4fun! http://t.co/0PKLMRaaMn\", \". @ChelseyKelsey too bad you can't do it the same way @SouthwestAir boards its flights. #Weddings #SeatingCharts\", '@SouthwestAir A list, Bus select, yep  Asked to move seats for others boarding as I sit in 1st row on connecting flight. Poor form!!!!!!', 'I have never ever waited so long to board a flight as I have with Frontier the past week. I vote everyone does it like @SouthwestAir!', 'RT @Nyccountrymusic: FREE performance by @CassadeePope tonight in @BryantParkNYC 6pm for @opry @NASHFM947NY @SouthwestAir #NashvilleNYC @Bi…', 'FREE performance by @CassadeePope tonight in @BryantParkNYC 6pm for @opry @NASHFM947NY @SouthwestAir #NashvilleNYC @BigMachine', 'RT @SouthwestAir: Yeehaw, NYC! The country music fun at the Southwest Porch @BryantPark continues tonight with @Opry and @LoveandTheft! htt…', 'Very disappointed with @SouthwestAir. Not only did their baggage department steal items, they have declined to assist me in replacing them', 'booked the 7:20 @SouthwestAir flight to BUR. Still at SJC, watching the 9:30 flight prep. #shouldhavesleptin', \"RT @shepd1: @BroadCloud en route to @MSPWorld via @SouthwestAir @MokaFive let's rock! http://t.co/4ZRqFvhgWF\", 'Heavy turbulence on my @SouthwestAir flight to IAD. Bumpy rides are never fun. #stomachinthroat', '@SouthwestAir it might be time for a deep clean.  Who knows what is living on that. http://t.co/CbGQKbtIpT', '@SouthwestAir love #Southwest and have tweeted and complimented on past pos exp. these late evening flights rough though.', '@SouthwestAir what was up with flight 466 being late yesterday from BNA to MCO? Could have drove trip in time wasted related to flying.', \"RT @shepd1: @BroadCloud en route to @MSPWorld via @SouthwestAir @MokaFive let's rock! http://t.co/4ZRqFvhgWF\", 'Es una pena de que @AirTran  se fuera de Puerto Rico para traer a @SouthwestAir pq esta aerolínea es lo peor que he visto', 'cfcruz73.', 'Why would Anyone fly Without an extension cord for the gate? Better question, why hasnt @USAirways made charging stations like @SouthwestAir', \"@BroadCloud en route to @MSPWorld via @SouthwestAir @MokaFive let's rock! http://t.co/4ZRqFvhgWF\", '@alexmulhearn @SouthwestAir Nice winglet bro.', 'On @SouthwestAir to Las Vegas; my kingdom for a highlighter! #gah! #studentstudyfail', \"@chelseaharms @JetBlue @SouthwestAir oh good to know. I'd love to as well!\", \"ur my fav airline @SouthwestAir but can I plz fly 1 of ur planes? I'm good pilot and will be careful :)\", 'RT @NCDJ_ASU: . @SouthwestAir to recognize National Disability Employment Awareness Month #NDEAM http://t.co/J7if3PFM92', \"RT @BryantParkNYC: If you like country music, you'll love Cassadee Pope tonight at @SouthwestAir Porch with @opry and @NashFM947NY http://t…\", \"@BenVolin @united you haven't learned yet.. you can only fly @SouthwestAir ... no other airlines compares ben!\", \"@JohnnyJet @Delta @united @Gogo I'd pay $100 more just to not fly @SouthwestAir #notjudging\", 'Wheels up, @SouthwestAir. http://t.co/5ff90XszpP', '6 flights in 3 weeks all delayed. When will @SouthwestAir be on time? #whenpigsfly  Time to find a new airline.', \"@eatlivemake *le sigh* yes I'm not surprised :( the best airlines for here are @JetBlue , Spirit and @SouthwestAir .\", 'I DARE @SouthwestAir to misplace my baggage again.', \"@SouthwestAir Flight booked...can't wait to be in Nashville in several weeks! new songs to be written w/ @paulsikes &amp; @tonyalynette3\", \"@SouthwestAir why you give me sooooo much stress.... H.E.L.P!!!! :'(\", \"@southwestair it's truly time for your boarding procedures &amp; operational values to permeate the @AirTran acquisition. It's rough treading!\", \"RT @BryantParkNYC: If you like country music, you'll love Cassadee Pope tonight at @SouthwestAir Porch with @opry and @NashFM947NY http://t…\", \"RT @BryantParkNYC: If you like country music, you'll love Cassadee Pope tonight at @SouthwestAir Porch with @opry and @NashFM947NY http://t…\", '@SouthwestAir Friendly crew, smooth trip, and 20 min early arrival? Well done, SWA. Thank you. #WN270 #DENtoSAN', \"So resort airline check in at @WaltDisneyWorld can't check us in! WTF @southwestair?!?!? Fix this!!!!\", 'Even tho we booked flights on @southwestair website as 1 reservation. It gets flagged as potential security risk. WTF?!?!', '@TamaraLush @SouthwestAir Where to?', 'unfinished @southwestair &amp; @airtran merger strikes us again! we flew airtran here &amp; flying SWA home, this counts as 2 different airlines', '@SouthwestAir  thx for a great flight on #349 out of NOLA. Personnel on the ground &amp; in the air were great. #LoveNOLA  #LoveSWA', '@SouthwestAir So we do our dance again... Can we get No Expiration Drink Tickets again... PLEASE??? :) http://t.co/Um4Oe2MnQ5', \"When I fly @SouthwestAir, my ticket says I'm Joel Christ Hoffmann. Trying to give me a messianic complex or is this a repeat flyer bonus?\", 'No cost idea for @southwestair, make passengers show their boarding number on their forehead, like Indian poker', 'Flying! @SouthwestAir http://t.co/1QPKogyQvC', \"RT @BryantParkNYC: If you like country music, you'll love Cassadee Pope tonight at @SouthwestAir Porch with @opry and @NashFM947NY http://t…\", 'Info sessions today: @VectorMarketing, @SouthwestAir, &amp; @RolandBergerNA. Check CareerCat for details - http://t.co/87C6WRTZLh', \"RT @BryantParkNYC: If you like country music, you'll love Cassadee Pope tonight at @SouthwestAir Porch with @opry and @NashFM947NY http://t…\", 'Best commute ever. @southwestair #monday #yayforwifi http://t.co/bx8omz7ij8', \"If you like country music, you'll love Cassadee Pope tonight at @SouthwestAir Porch with @opry and @NashFM947NY http://t.co/HFY8Efizs3\", 'Good morning @SouthwestAir from #vegas http://t.co/9QYZX2atIK', \"Why can't @SouthwestAir Make it easy To get from Oklahoma City to Albuquerque?\", 'First Alumni Engagement Award presented to Karen Price-Ward,  corporate community affairs manager at @SouthwestAir! http://t.co/7x0FF3FP2U', \"There's still time to RSVP to Thursday's #AMAOKC event with @Munoz_Isaac from @southwestair http://t.co/2PrWzTnucs\", 'WoW!Played this while getting my desk amped &amp; ready for my Biz week  @SouthwestAir http://t.co/9tletEKWSb #HeartFull #BusinessSuccess #Shine', 'RT @Tampa_Chamber: Getting ready to board our @SouthwestAir flight!  #TPA2Nashville http://t.co/5gbQS7GIQI', \"@richardbranson WTF $100 to switch to a flight cheaper than the one I originally booked? should've flown @SouthwestAir. they do it for FREE.\", '@Tampa_Chamber @SouthwestAir Safe travels to our chamber!', '@SouthwestAir flight crew for #3244 was nothing short of amazing #keeponkeepinon', 'The AirTran people in #Memphis have a lot to learn before they reach the @SouthwestAir standards of customer service excellence.', 'Really late check-in but awesome @SouthwestAir @BostonLogan  employees still got my bag to my flight on time. Thanks! #luvSW', 'Getting ready to board our @SouthwestAir flight!  #TPA2Nashville http://t.co/5gbQS7GIQI', '@SouthwestAir Nevada One was the proud carrier of #HonorFlight WWII Veterans on their flight home! @RenoAirport http://t.co/E30SkXGarB', \"@SouthwestAir Hey SW!  What's the status on getting synched up with TSA pre-check?  Sure would be nice to use as an A lister.\", 'It is 7:40, and I  already experienced a great @SouthwestAir flight, 2 taxi rides, and a shuttle. #sunrisetravel #happymonday', \"Dear @SouthwestAir, u r bringing 3 precious pieces of cargo down to me that I haven't seen in 2wks! Take care, pls! http://t.co/W1noFcm0bQ\", 'Another flawless experience with @SouthwestAir And a crew who genuinely appears to love what they do. #welldone', \"@mjtam @SouthwestAir I feel for you.  Storms have been horrible at O'Hare lately.  Two 8 hr days in the past month for me. #needablowdryer\", '@southwestair Silly question ... But I just found these and I was wondering if they are still valid… http://t.co/5vkS7nRVd7', '@SouthwestAir  @CareersUnilever @WalmartCareers @3MNews @millercoorsjobs Congrats! Top 60 Internship Programs: http://t.co/jqWQC1rRwT &amp; Vote', '@kevinjohnrogers @Sebelius @SouthwestAir Even Adult websites are jealous of the traffic.', 'Both flights delayed this weekend on @SouthwestAir @AirTran only flying @JetBlue now', '@SouthwestAir - how am I supposed to have fresh breath for the flight attendants when you take away my toothpaste?', \"This is the last time I ever fly @Delta - I'm sorry I cheated on you, @SouthwestAir - Please forgive me.\", 'RT @Sebelius: 7 mill visitors in two days. More than visit @SouthwestAir site in a month.  People are excited to #GetCovered! #ncpol #hrc', 'Good morning Tampa from @SouthwestAir Gate C33 at TPA. #itsgonnabeagreatday http://t.co/Me4ibMiiKi', \"WTF @VirginAmerica? $100 to switch to a flight cheaper than the one I originally booked? should've flown @SouthwestAir. they do it for FREE.\", \"Not sure I think paying for early boarding wasn't a waste  since @SouthwestAir clearly hold best number and sells at the gate.\", '@SouthwestAir some lady just collapsed on the flight. Waiting for an ambulance for a twisted knee. DELAYED ONLY ON SWA.', \"@SouthwestAir What's the rationale behind no standby on cheap fares? If I take an earlier flight, no cost to you &amp;you can sell my seat again\", 'Kansas City bound for a week! #bestairline @SouthwestAir ✈️', \"Oh, no way! No @DunkinDonuts!? @christy_taylor: SanDiego doesn't run on #Dunkin' yet.... One last cup before for I catch my @SouthwestAir\", '@SouthwestAir #CMH really needs an Alist line at security. Like every other #airport in the country.', \"RT @christy_taylor: Since #SanDiego doesn't run on #Dunkin' yet.... One last cup before for I catch my @southwestair… http://t.co/T5EEXKgchK\", 'Cbus @PortColumbusCMH @SouthwestAir packed this morning, everyone leaving @PresidentsCup #earlymorning #worthit', 'RT @SouthwestAir: @kbartsurf This is a great pic!! LUV it! Thanks for sharing. ^AW', 'Tired ... And work until 2 pm lol and its only 5:48 am lollll #vacation #Orlando #Kissimmee #October12th @SouthwestAir  #Travel #Florida :))', \"Since #SanDiego doesn't run on #Dunkin' yet.... One last cup before for I catch my @southwestair… http://t.co/T5EEXKgchK\", 'Why @SouthwestAir Is Winning #NapkinThoughts  - #BIG http://t.co/FLBJXMFvbe', \"Gotta' love @SouthwestAir approach to boarding. moooving\", 'Ah @SouthwestAir I would like to thank u for my lack of sleep and hold u accountable for my caffeine intake this morning! #Moanday for sure!', \"Got to #SanDiego Airport late, checked in my bag after 30 min deadline; it still made the flight &amp; I'm grateful to @SouthwestAir ground crew\", '@SouthwestAir my bags still not have arrived in Las Vegas from Phoenix. WTF! I demand an explanation. I could driven here and made it faster', 'Productiva cena con Director Gral de @aeropuertosGAP y los equipos de Planeación y MKT de @SouthwestAir @Interjet_mx y @WestJet #WorldRoutes', \"I should've joined up with @SouthwestAir... Man, if have so many fuckin points right now ✈\", 'Can @SouthwestAir  help get my F-I-L from #Wilmington, NC to #Birmingham, AL to see his daughter? Retired Vietnam vet, cancer relapse. #help', '@SouthwestAir flight delays lately have been unacceptable.', \"@meganhuntley @SouthwestAir haha same here! They've been good to me whenever I travel for @backstreetboys :)\", 'RT @mc_rusky: Hala back fam HUD? RT @jaypulse01: Wadup FAM South @Shoneydouglas. @mc_rusky @provabs. @SouthwestAir @SouthwestAir', 'I swear ive never had such a horrible experience flying never again @SouthwestAir  ..... Let people kno dnt book me SWA ever!!!', \"RT @TexasOne: Dallas-based @SouthwestAir breaks ground @HobbyAirport on company's 1st International terminal #jobs #business http://t.co/3G…\", \"Can't say my $4 @SouthwestAir purchase was all that great...just wish my @nflredzone audio wasn't completely chopped up...kind of a waste\", \"@SouthwestAir lol! I love it. I'll book once tour dates come out! Hopefully I can go to their Vegas show if there is one :D\", 'what was up with atlanta airport yesterday (10/5)? our @SouthwestAir flight waited on the tarmac for 30 minutes due to another plane there!', \".@SouthwestAir you are failing...flight 6842 was over an hour late and it's been an hour for baggage. It's 1am - not good!\", '@berrydelicious @SouthwestAir @onedirection @Harry_Styles Man I wish I had those for when One Direction starts touring!  Planning on a few!!', '@BETHxNESS @SouthwestAir Thanks for all your help! :)', \"Mother nature's fault that my @SouthwestAir flight delayed for hours fr @ ATL to Chi due to rain but soaking wet luggages inside/out? Ugh!\", '@hannalo630 @SouthwestAir yayyyyyyyy!!!!!! hard earned!! :D', 'On approach at Chicago midway. Birds eye flight at night. @SouthwestAir http://t.co/u3Uu6P0uJi', 'Flight on a brand new @SouthwestAir @Boeing 737-800...cool lights! #howmuch http://t.co/x2BoAeaXwO', 'Thanks Big G! @SouthwestAir http://t.co/szxDIVrr9C', \"RT @Grandma_Juice: SHAME @SouthwestAir Is Robbing #MilitaryMoms Leaving #Vegas 2 C Your Injured Son Shouldn't Cost An Arm &amp; Leg He Just Gav…\", 'RT @SouthwestAir: @hannalo630 Congrats! Thank you for your loyalty! ^AW', \"RT @SouthwestAir: @berrydelicious Quit playing games....and, get to booking cause backstreet's back, alright! Our way of saying we're excit…\", 'RT @SouthwestAir: @seanpharkin Congrats and thank you for your loyalty! ^AW', 'Hey @SouthwestAir , I’m really missing that direct route from FTL to PHL right now. Stuck in ATL for the night. :(', \"@SouthwestAir How did you know what I wanted for my birthday? Cause even I didn't know I didn't want to go home to Columbus!\", '@SouthwestAir I really wanted to spend my birthday stranded in Atlanta and not be able to get competent workers to book us on a flight home!', '@SouthwestAir Help us fight the battle against mental illnes', 'ttp://t.co/3rLigsMKw', '', 'CAMH #Stigma #mentlahealth #toronto', 'Well now I know to never fly @SouthwestAir again this is pathetic!  Horrible airline, exhausting experience!', \"@SouthwestAir and airbuses are ugly as hell come on tell that's not the ugliest plane ever http://t.co/Tz07Wv1iAt\", \"Good luck! @cisboomblam: Applied to the 2014 summer mkt/ad internship with @SouthwestAir. Couldn't be more excited about the possibility!\", '@LAX_Official on a Sunday night at the @SouthwestAir shuttle pickup curb is less fun than the wedding we were at all weekend. #idiotdrivers', 'Should have flown @SouthwestAir', \"@SouthwestAir 498 landed @ MDW @ 9:20p. Bag didn't show up on claim until         10:03p. Shouldn't take so long. http://t.co/sr6DeRpa3r\", \"True story: @southwestair kicked the guy behind me off my flight. Why? Couldn't figure out how to work the seatbelt, despite the safety demo\", '@SouthwestAir Lost iPhone showing at Midway.  Can you help?', '\"@SouthwestAir: @seanpharkin Congrats and thank you for your loyalty! ^AW\" #bigtime #ding', \"Applied to the 2014 summer mkt/ad internship with @SouthwestAir. Couldn't be more excited about the possibility! #media #bestairline\", 'RT @SouthwestAir: @KJuds Gorgeous! Thanks for sharing and for flying with us. ^AW', \"@SouthwestAir very disappointed in you guys losing my luggage today. It finally arrived in Seattle at 1640 but not to me till 2130 I'm told\", 'Thank you @SouthwestAir for letting me check my luggage for free......for that reason alone I will continue to fly with you. #cantpacklight', 'Stuck @fly2ohare thanks to @united after running @PDXMarathon today. Should have flown to @fly2midway  on @SouthwestAir', 'First class @SouthwestAir style #tallpersonproblems http://t.co/iggG8qS3qg', \"@SouthwestAir 737's are more beautiful than any Lamborghini or any famous art even more beautiful than a supper model ✈\", \"@martymikles @SouthwestAir I'll never fly Southwest again if I can help it. Let's just say that.\", '@BTRowland @SouthwestAir wow. That must have been a baaad flight.', '@southwestair Home sweet home yay :) #southwestairlines #niceandwarmhere #orlando http://t.co/0nhBspGzOF', \"Can't decide if I'm having more fun right now or in the middle of my @SouthwestAir flight last Sunday. It's a photo finish.\", 'Thanks @southwestair for the lift home. #Luv Brandon. :-) @ Denver International Airport (DEN) http://t.co/W4aGcHDEC6', 'When you get a really good deal on a @SouthwestAir flight home! :D', '@SouthwestAir just saw a photo of #NevadaOne she is a beaut!  Tyvm', \"@e_russell @SouthwestAir southwest holds gates at bna and don't even use them.\", \"@SouthwestAir @Atlanta_Airport two hours late to the gate and I'm sitting on the runway? U can't find another gate?\", 'Wheels down in O-Town, and a few minutes early. Thanks @SouthwestAir Much #Luv #goodnight', '@CodeAngry :) Nice. @SouthwestAir', 'RT @LuxuryPRGal: You too! :) RT @SouthwestAir: @LuxuryPRGal Beautiful pic! Thanks for sharing! Have a great night. ^AW', '@CalEvans @SouthwestAir auto alcohol(reinterpret_cast&lt;drink tickets*&gt;(points)); // points is a pointer', 'Dear @southwestair, can I convert points into drink tickets? :)', 'Hey @SouthwestAir not a fan of@AirTran  every inch of their planes make noise. Thus far every flight has been late.', 'FINALLY GOT MY @SouthwestAir COMPANION PASS!!! #happy #twoforone', \"Yay I got my 50k @SouthwestAir bonus miles! I can't wait to use them for @backstreetboys travel :p\", 'You too! :) RT @SouthwestAir: @LuxuryPRGal Beautiful pic! Thanks for sharing! Have a great night. ^AW', 'Flight passengers just applauded both the pilot for landing the plane AND a boy for turning 9. We have some high standards. @SouthwestAir', '@SouthwestAir A-List status is finally mine', 'I do know better... I normally fly @SouthwestAir. What was I thinking? #neveragain', 'Home sweet home! Thanks for a quick &amp; safe flight @SouthwestAir (at @BobHopeAirport (BUR) w/ 10 others) [pic]: http://t.co/k5QRAmfNbm', '@SouthwestAir ruined my checked bag on my flight from ORD to IND, how is that possible? #thanksfornothing #moneydoesntgrowontrees', \"RT @SMein556: @SouthwestAir a great flying experience,my first and certainly won't be my last #greatservice #friendlystaff #flightsontime #…\", 'Both of my @SouthwestAir flights 1615 and 231 delayed today. Very annoying.', '@Tvbona @SouthwestAir dude, SW is the stuff!!', '\"If it matters to you, it matters to us.\" LUV it @SouthwestAir! I appreciate companies who abide by that.', '@shaunosullivan @brewstress @southwestair Except you are having an IPA.', 'The crew on @SouthwestAir flight 1103 got us to MKE 10 minutes early, and then a flight attendant serenaded us. Great work as always!', '@MajorJipp @Brewstress @SouthwestAir Everything was fine up here today. http://t.co/c50QENbp9e', '@USAirways is like that jealous friend everyone has- \"oh she rebooked with @SouthwestAir I\\'m gonna cancel her return flight\"', '@MajorJipp @Brewstress @SouthwestAir best they’ve got is tanqueray or wild turkey if I’m remembering right. Not bad but not great.', \"@IpheliaPaine whoa, it's been a minute since your luggage came up missing by @SouthwestAir!\", '@SouthwestAir #southwestbadcustomerservice', 'Good to read that @SouthwestAi', 'ontinues to have confidence in @IFlyBeaches as a destination - http://t.co/f6jlpQEe6N #travel', '@alisonhaislip @wilw @united go @SouthwestAir', '@LizCRaynolds @SouthwestAir Whoa, woof.', '@SouthwestAir delays, equipment failure, plane change... slippin. In-flight drinks on you guys?', 'Well I did get my luggage back through @SouthwestAir, like 2am. I suppose ASAP meant something. Good job.', \"Took this pic on my @SouthwestAir flight home. I was feeling inspired...lol. I'm loving this picture! http://t.co/8atWifwjoI\", '.@SouthwestAir with free live TV on the iPad is a gamechanger #bouttime #SNF', 'I think @SouthwestAir has found a new spokesman: Matt Schaub. #wannagetaway?', '@SouthwestAir Fun, happy &amp; helpful crew DIA-AMA. Beats sour puss crew from SEA-DIA. Thankful for plane change. Good attitude appreciated.', '@LizCRaynolds Wow that sucks! I use to really like @southwestair but not so much anymore.', 'RT @SouthwestAir: @TM_Erin We are excited for #clickretreat too! ^AW', 'Row 1, seat D on the aisle.  My favorite. @SouthwestAir', 'Another day another messed up plane with engine trouble from @SouthwestAir funny no other airline has these issues.', '@SouthwestAir needs to rectify this. I missed an entire day of activities in SFO and Napa.', '@SouthwestAir terrible customer service in ATL. Stuck overnight. Lost bags. Probably fly another airline next time.', '#watdahell is this a joke 4th delay 4:14 4:48 6:44 7:11 7:30 @SouthwestAir @AirTran http://t.co/BR4sgeNrTn', 'RT @SouthwestAir: @saraleshea LUV it! Thanks for sharing. Have a great night! ^AW', 'RT @JvilleRocks: @Jeff_Hood @AmericanAir @SouthwestAir @JR_Hinkson our last trip was disastrous too! They need to apply their soc.media ski…', \"Anyone from @SouthwestAir responsible for AirTran?? We've been sitting on the runway at BWI for almost 40 mins!! #frustratedbeyondbelief\", \"RT @SMein556: @SouthwestAir a great flying experience,my first and certainly won't be my last #greatservice #friendlystaff #flightsontime #…\"], [\"@united I am! But she's gaining. Next flight is on the 26th. And a while bunch in November.\", 'me and my fellow waiting travelers have decided we would like consolation snacks @united', 'My \"on-time\" flight was supposed to leave and we haven\\'t boarded yet @united #missingmyconnection?', 'Would love for someone @united to explain to me how I can have seats reserved for 2 return flights but only one \"there\" flight.', '@jscurry44 @rolandsmartin @united  lol', 'hey @united can you email my teacher, because I have class tomorrow and your delays are killing me #3amarrival', 'DC bound w/@united @ George Bush Intercontinental Airport (IAH) http://t.co/PFXZEEvle9', 'I can say from my most recent air travels, @AmericanAir is going to be my sole airline for business travel and pleasure over @united xx', 'Thanks, I will!  SO MANY FREE COOKIES. RT  @united Enjoy the club. Thank you for flying with us today. ^MK”', '@rolandsmartin @United #hatecowboys When you land, you can celebrate. Romo comes through again(guess what).', '@united I will continue to tweet about my how utterly useless united is when it comes to customer service and remind them of their options', '@united additionally as a seasoned business traveler I will continue to let my colleagues and business associates about united poor service', '@pvdrl @united ! The one that had me delayed in Houston for 24 hours (!) last month. Never heard so much as a sorry. Nice huh? #whatsnext', '@united that exactly what they said do I have taking the liberty of disputing the baggage charge and reporting the incident to the FAA', \"@united = poopy. Offered $200 voucher for a dif flight. didn't let me board. now: no voucher, 3 new stops and 10 hours added to itinerary.\", \"RT @PhilKeoghan: What flight? RT @Reds7477 thx @united  for DirectTV so I can keep up on @AmazingRace_CBS  Too bad can't live tweet with @P…\", \"What flight? RT @Reds7477 thx @united  for DirectTV so I can keep up on @AmazingRace_CBS  Too bad can't live tweet with @PhilKeoghan though\", '@united flat beds are great and all but how about you take a little longer to get the bags out at LAX - 35 mins and counting...', \"@umaynotagree @rolandsmartin @united I'm going to start calling you the Mentalist.  LOL.\", \"Thanks @united  for DirectTV so I can keep up on @AmazingRace_CBS  Too bad I can't live tweet with @PhilKeoghan though\", '@rolandsmartin @united @HoustonTexans no worries. ...I will keep you posted....', '@timtim32488 @united maybe @UpgradeSoldiers can help out for a guy in our military.', \"@jscurry44 @rolandsmartin @united here's the chance for Romo to be Romo. Int I'm sure is coming.\", '3rd trip in a row @united plane had mechanical issues and flight delayed. #UnitedFail @UnitedFail', 'Crazy long line @United customer service counter b/c @United had yet another major #UnitedFail', 'Robo de pertenencias en @United Airlines. Muy mal', '@united Consider opening a non-stop between SFO and DTW. Delta is always full, and their service is terrible because there is no competition', '@united AND 4923344', \"@rolandsmartin @United #hatecowboys Unless there's a miracle by Manning, you could be in for a surprise when you land\", '@united no tv or wifi on a 6 hr flight in a brand new plane? Welcome to the 21st century? #fail #lockitup', '@united Following! You can chat with me now via DM.', 'Getting my free drink on. (at @United Club w/ 2 others) http://t.co/FFbe98pg6C', \"I'll never fly @united. They delayed my parents flight twice, won't be getting into Vegas tonight &amp; hasn't done anything for inconvenience.\", '@united up to 5\" of extra legroom #flyerfriendly', '@united up to 5 more inches. #flyerfriendly', 'Hey @united how could I try and get my buddy upgraded to first class flying from DC to Kabul??', \"RT @rolandsmartin: No Wi Fi on this @United flight so I'll see y'all at 9 pm est when we land. I'll say it now: COWBOYS LOSE! COWBOYS LOSE!…\", 'Really enjoying all of these new @united commercials. #greatthemesong', '@united A mini plane from San Fran to H-town and NO TV to watch the Texans? Continental had great planes, where r they? YOU STINK #pissed', 'Flight to Louisville from CLE was delayed several hours.  As a doctoral student, this is a near catastrophic occurrence @united', 'Well there was room for bags. The flt today the crew did everything they could to get bags on. Huge differenceRT @united: @redsolediary Ther', '@united We RESERVED and PAID EXTRA for seats to make 6 hr flight w/infant tolerable, you changed W/OUT PERMISSION and now refuse to fix.', '@united ANOTHER mechanical issue! Seriously?!?! #UnitedFail', \".@united changed our paid seats for infant w/out permission, supervisor on phone straight up lied and said he changed them back and didn't.\", '@united now we r in ground stop in sav due to weather in atl.  If delta cancels can we get back on ual direct in the morning??', '@cindy8000 @united u have wifi?', \"Flights delayed again. C'mon @united http://t.co/rr2Q4AihgV\", 'My @united flight may have been a bit delayed but as always a safe comfortable trip with great staff! Thanks #united l', '@united thanks for checking! Very much appreciated.', 'Fastest flight ever! Watching @FoodNetwork #Chopped on in flight TV and blogging. Thanks @United! #travel #multitasking', 'Missed it by 2- oh well @united least I have the bulkhead #goinghome http://t.co/GSK4rnLeFT', '@rolandsmartin @united Lmboo...they will..Denver is striaght killing the game!', '@united I reported immediately and was told it was not covered. I paid $60 dollars to check bags one of the bags has been rendered useless', '@united 6', '“@ChristinaRealNJ: Love it! @TonyCarrini and the Godmother comparing travel miles! http://t.co/U679Pn16eQ” @united   #roadwarriors', \"Hey @united, any word re SFO/JFK PS flights? They've virtually disappeared. Redeye w/wireless/plugs helped heaps w/time away from fam.\", \"I'm at @United Club (Chicago, IL) w/ 4 others http://t.co/ETwXV9NRT5\", \"@united it's been three months!!!!!  You guys are incompetent idiots! Unbelievable!!!\", \"@united Please see my evidence! It's like making fun of people! Thanks for making me waste my time!\", '@united Hi! I came to buy a Ticket with reservation expires today, it just 6pm and its already close!! BAD SERVICE!! http://t.co/Fg2t5eEgTg', '@rolandsmartin @united what?!! I hope you ask for reimbursement of the wifi fee embedded in the tix price LOL!', 'Flying the friendly skies of @united  Love the view at 30,000 feet ! http://t.co/Q1SsTFai6F', \"@1morequietnight @thatgirlismegan @united yes starting tomorrow for Wed's flights #feelon http://t.co/7uWliBOKUC\", '@united Thank you.  I really use this app to track my monthly flights.', '@Delta @AmericanAir @united could learn a lesson or two from @LANAirlinesUSA ! We will miss flying LAN in the US. Better service hands down!', '@thatgirlismegan @united wait you can look standby list on the app', '@united flight 4571 from PIT-ORD on 10.5 smells like a county fair ports John. Its awful! Absolutely sickening. People r nauseous.', 'My experiences with @united have been really good lately. I really enjoy the new planes with power outlets. Thanks @united!', '@united #conoce la novia de colombia, parque nacional tayrona en santa marta colombia, jasayma hostal ven y disfruta....', '@united Thanks for the response. I just sent a message to customer care', \"I'm at @United Club (Houston, TX) http://t.co/XZYQP9SzHt\", \"@United States Postal Service tracking system hates me &amp;amp;amp;amp;amp;amp; for what will forever be nknown. I'm a valued customer tho\", 'RT @FCilona: @united I\\'m still waiting on your CC team to \"follow up\".  Did you mean this year or next?? #terriblecustomerservice', '@united Thanks for a great flight from SLC to ORD! And a special thanks to check in agent Dave Hansen!', '@united cancelled flt 5724 sav to ord and gave 2hrs notice/called cust svc and got disconnect 4 times/now on delta to atl/mdw..stress', '@united And no, I would not like to upgrade for an additional $4k. You cray?', \"@teamoncology @united you know when you have a fav airline meal you're very well travelled!!\", '@united why are the days of getting an exit row at the gate without a charge, gone? I\\'m 6\\'7\". Not a good change for your loyal fliers.', '@wingedbabie @WanderngAramean @united Yikes!', \"@united No offense, but you've used up all our patience this week.  Lessons in customer service are sorely needed, guys.\", '@shawnn75 @rolandsmartin @united @txgirly lol nice', \"@united I guess the agent shouldn't have announced preboarding for families would start soon if you've done away with preboarding 4 families\", '@cowboysfansite @rolandsmartin @unite', \"hould burn Jerrah's draft board!!!\", '@elizabeth_sage @united me too!! See you Tuesday morning!', '@united Have known traveler number on profile. just checked in and again no precheck. Did my number get put in the reservation? Frj1w6 thx', '@rolandsmartin @united @JansHoneyBee @txgirly we hate them too!!! #RedskinsfromCT#RedskinsNation#HTTR', \"RT @rolandsmartin: No Wi Fi on this @United flight so I'll see y'all at 9 pm est when we land. I'll say it now: COWBOYS LOSE! COWBOYS LOSE!…\", \"RT @rolandsmartin: No Wi Fi on this @United flight so I'll see y'all at 9 pm est when we land. I'll say it now: COWBOYS LOSE! COWBOYS LOSE!…\", '@united Love how flight prices rise when you enter an offer code. Sneaky.', \"@thatgirlismegan @united thought we did yesterday? make sure you're looking @ flight status, not booking a flight?\", \"@froggyradio @united haha can't wait to see you! Hope your flight is better than mine home from Vegas last week. I'm still traumatized!\", \"RT @rolandsmartin: No Wi Fi on this @United flight so I'll see y'all at 9 pm est when we land. I'll say it now: COWBOYS LOSE! COWBOYS LOSE!…\", 'U still burning Shaub jerseys? RT@rolandsmartin: on this @united flight so I\\'ll see y\\'all at 9p I\\'ll say it now: COWBOYS LOSE! #hatecowboys\"', '@united 6\"', '@elizabeth_sage @united great! I’m on there tomorrow…coming to see you! Lol', '@united I\\'m still waiting on your CC team to \"follow up\".  Did you mean this year or next?? #terriblecustomerservice', '@rolandsmartin @united hopefully you make it in time to see the TEXANS go down right along with the boys #whereistheLOVE', \"RT @rolandsmartin: No Wi Fi on this @United flight so I'll see y'all at 9 pm est when we land. I'll say it now: COWBOYS LOSE! COWBOYS LOSE!…\", \"No Wi Fi on this @United flight so I'll see y'all at 9 pm est when we land. I'll say it now: COWBOYS LOSE! COWBOYS LOSE! #hatecowboys\", \"“@united: @jimmyswan2 What's your flight number? ^MO”ua4870\", '@United MileagePlus members get TRIPLE MILES just for renting with us! #dollardeals http://t.co/O8HjpzEbDX', '@united', '@united thanks. Flying too much with you. :) When you know the staff and menu that is a red flag. LOL', '@SaaS_Technology @shaneheule @Delta @united @HersheysKisses see you in Vegas. Flight delays but will land later tonight.', \"@rwang0 @shaneheule @Delta @united @HersheysKisses  Wow! that does look good. Good thing I'm headed to #HRTechConf. Tasty food in vegas.\", \"@united I know, but it doesn't mean I have to like it! What chance if some change in the rules? :)\", '@rwang0 @americanair @united @delta  ok good to note.', 'RT @united: Tweet the amount of extra legroom in Economy Plus w/ #flyerfriendly for a chance to win. http://t.co/KpIAo2k5BS http://t.co/3P7…', '@united #flyerfriendly 5 extra inches in economy plus and I love it!', '@rwang0 @shaneheule @Delta @UnitedAirlines @mortonsalts @united That looks good. Not a choice for me. #fail', \"Every flight btween SFO and DTW is overbooked, yet Delta is still the only non-stop btween MI and SF Bay. @AmericanAir &amp; @United, what's up?\", 'RT @united: @andrearuizdlpea We appreciate you flying with us. Thanks. We look forward to having you on board soon. ^MO', \"@SaaS_Technology @shaneheule @Delta @United @HersheysKisses nice. here's a pork chop for lunch on United. Very good. http://t.co/oFFEbMKXyz\", '@united I have never been more unhappy with an airline than with my most recent flights--ALL were delayed or canceled. Expect an email :-(', \"@SaaS_Technology @shaneheule @Delta @UnitedAirlines @mortonsalts here's what's on @united for B-class lunch. http://t.co/Edw4ff4Vqc\", '@united United can replace the bag they destroy and train the baggage handing staff at La Gaurdia basis customer service', 'hey @united... figure out how to fuel your planes and stay on time. hour+ behind schedule now.', \"What's the point of having power outlets in seats if they don't work? @united\", '@united charge me $50 luggage for international flight? I went sfo IAH to Istanbul . Who go international without luggage?', \"I'm at @United Club - Terminal B (Houston, TX) http://t.co/mNGBownftu\", \"I'm never so convinced that I'm a snob as when I sit in the @united lounge. #goldstatus\", \"@united I get that, but it's taken 3 months and then I was told I'd get an email end of last week :-(\", \"@united she claimed she didn't have the time to make a lot change. Stood there til she closed the door, period of 10mins.\", '@united #flyerfriendly...5 extra inches', '@united 36 inches or more? Varies according to aircraft flown based on seat guru info.', 'A long road ahead. View from  @united airline in Texas. http://t.co/EywmDHFerl', 'RT @airlineguys: \"Rhapsody\" -- @United Launches Luxury and Lifestyle Magazine http://t.co/GS8zYIsUwI #airlines #PaxEx', 'My favorite first class domestic meal @united airline. Shrimp salad and tortilla soup. http://t.co/OvTJxF7ZRz', '@united someone got in touch with me after reading my facebook message..will let you know if I need any help..thx', '@united That simple gesture would have made a world of difference on my already disastrous trip.', \"RT @united: @sfpelosi You're welcome. ^MO\", 'Wishing Premier Silver had access to the @united lounge. #DelayedatOHare #boredanduncomfortable #wheresmyfreewifi?', '@WanderngAramean From @united \"Status: Estimated Departure 3 Hours 45 Minutes Late (Delayed - Aircraft servicing)\"', \"@elizabeth_sage @united why can't the fee be waived this ONE time?\", 'RT @sfpelosi: Finally! Air Bella en route to DC. Thx @united for sorting us out! http://t.co/kMKBIZTI6r / Simply gorgeous!', \"My connecting flight is on @United this afternoon. I'm looking forward 2 seeing what they got for me. Don't wanna spend the night in Houston\", 'Finally! Air Bella en route to DC. Thx @united for sorting us out! http://t.co/6RqMSywhyL', 'Pilots need rest too! @WanderngAramean: Fully boarded and a 90 minute delay just posted awaiting our pilots. Not cool, @united.', '@united Can you tell me why UA3333 PHL-IAD is delayed so much?', \"RT @rolandsmartin: Headed back to DC on 5 pm @United flight. Will miss the kickoff of @houstontexans vs 49'ers. Can't wait to see us kick s…\", 'RT @airlineguys: \"Rhapsody\" -- @United Launches Luxury and Lifestyle Magazine http://t.co/GS8zYIsUwI #airlines #PaxEx', '\"We are being held on the Tarmac by Dulles traffic air control for control at LaGuardia to call them back...\" A+ @united shutdown adventure', \"I'm at @United Club (Jamaica, NY) http://t.co/3p5neL3Oo4\", '@WanderngAramean Think of the miles. Think of the status. @united', 'RT @WanderngAramean: Fully boarded and a 90 minute delay just posted awaiting our pilots. Not cool, @united.', 'Finally remade my #Goldstatues  on @united ... so Just hanging out in the Chicago Airport !', \"@kevtothec Vs. @americanair and @united, I do have to say @delta is lacking. Can't even get priority baggage right in super hub #ATL\", '@united What are the restrictions with having fly fishing gear in my carry-on? Example: flies with very small hooks on them.', 'Fully boarded and a 90 minute delay just posted awaiting our pilots. Not cool, @united.', \"@united Some bad customer service, flight gate still open can't get me on a plane with empty seats\", 'Pretty sure @Warcraft has some asshole from @AmericanAir @united or @SouthwestAir planning their non-direct flights. http://t.co/rbe4a9lc5Y', \"By far the worse flying experience with @united starting from 5 am to 5 pm and I'm still not at my destination when I should have been @ 1pm\", 'Traveling to Florida...and remind me in the future never to use @united. Terrible!', '@united Heading to #sxsw #eco (at @United Club) http://t.co/d20I20n0rM', '@united how many miles do you need for a domestic flight?', \"@united (@ Chicago O'Hare International Airport (ORD) w/ 215 others) http://t.co/JAtXXFj3q0\", \"@united why do you put the worst planes on the EWR-GVA route? It's a really long flight and no IFE/power just makes it worse\", 'Awesome wknd in LA with @PrimeReserveBen and @danieltabib ! Headed back to NY and excited for 5hrs of r&amp;r on @united @star-alliance', 'Thanks for the rid', 'united and what a beautiful day in #Seattle @SeaTacAirport http://t.co/cvWFTJ3szs', 'From natural beauty and hardly a person in sight, to the madness they call air travel. (at @United Club w/ 6 others) http://t.co/hJbei3TsZo', '@united is going to be my best friend for the month of December!! #lotsofflying', '@rolandsmartin @united are u in the air now? Tell the flight attendants I said to take care of you. :)', 'Hahaha seriously! “@rcampbell0920: @elizabeth_sage @united Hello Lady!! Can she transfer the miles or no!!”', '@elizabeth_sage @united Hello Lady!! Can she transfer the miles or no!!', 'Correction: my flight that was supposed to leave at 5:02 is now at 7:37. #ihateohare #worstairportever #travel @fly2ohare @united', 'I do want to thank @united for putting @DIRECTV on my flight to IAH tonight.  #mlbplayoffs #Pirates', \"I'm at @United Club (Newark, NJ) w/ 4 others http://t.co/PtBHGncrvO\", '@rolandsmartin @united @HoustonTexans this is COOOOOOOOLTS COUNTRY!!!!!', \"RT @rolandsmartin: Headed back to DC on 5 pm @United flight. Will miss the kickoff of @houstontexans vs 49'ers. Can't wait to see us kick s…\", \"RT @rolandsmartin: Headed back to DC on 5 pm @United flight. Will miss the kickoff of @houstontexans vs 49'ers. Can't wait to see us kick s…\", \"Headed back to DC on 5 pm @United flight. Will miss the kickoff of @houstontexans vs 49'ers. Can't wait to see us kick some Bay Area butt!\", '@united 551 SFO &gt; EWR without tv?! The wooorst. Ugh.', '@united yes, I want to transfer miles without paying $15 for every 1,000 miles.', 'There is more chance of getting a personalised response from Santa Claus than a reply from @united Customer Care team. #3months #mythical', '@united 2 days and waiting. Uniteds Customer Care team is as mythical as a Narnia!', 'I hate @united airlines #yousuck', \"@united Why does certain cell phones have different features to your app? Trying to find standby list &amp; can't on an iphone, but can on droid\", 'Big Thanks to @united for the #nyerunited lounge, so lovely!! #NYerFest @NewYorkerFest http://t.co/Go89aZgGDu', \"Hey @united, if you're gonna codeshare things, mention it in the reservation email so I know where to check in? Also stop being late.\", '@united I was and I realize it will be delivered but I find the lack of communication disappointing and frustrating', 'Thanks, @united, for providing good options to make up for the unexpected San Fran stop on my EWR-HNL flight last week', \"@united @flowerstrewn wow ya gotta admit it though that it's cool that United @ replied you. At least United is trying to right any wrongs.\", '@united Flight back was wonderful. Thank you and the crew.', 'On our way home amd MORE delays!! (Delayed for TWO days on our way out!--due to mechanics) Terrible service @united !!', \"@united My family and I all fly with you pretty regularly and I've always been pleased. But the customer care in this instance is terrible.\", '@united customers would have been a proactive response rather than leaving them waiting endlessly in baggage claim with no knowledge?', 'Hey @united - you knowingly left multiple passenger checked bags from flight 1082 Boston-ewr still in Boston. Perhaps alerting those', '@united Was the correct answer an extra 5 inches? thanks for the chance! woot!', 'Sitting in a plane w/o working air conditioning for 30 mins is near torture in the Texas heat, fix your planes! @united  #unitedairlines', 'Thanks to Renee Petty at CLE for being so helpful on my flight. Flyer friendly for real  @united', \"@Craig_in_EP @united Hong Kong flight? Me too - I'm stuck with a 4 hour wait and not a lot of sympathy/help from United\", 'Seriously, airlines can get bent. (Today, I mean @united. But in general, all of them.)', '@united Do you not offer preboarding to passengers with infants? Just ridiculed by gate agent when trying to board UA 3642. Nice service', '@united email response sent.', \"But if @united phone reps won't take my money .... How do I not get refused boarding by @AIRNZUSA at lax\", '@united five more inches on E+ #flyerfriendly', \"Hmm now the current phone rep tells me that I don't need a lap infant ticket.  @united I know this to be false.\", 'MCO --&gt; EWR Home I go! #jetsetter @united', \"RT @united: @stealeyreed We're sure you've made someones day. It certainly does pay to be nice. Have a wonderful flight. ^MK\", \"@united @rippatip I can't believe united tweeted at you for that #celebrityStatus #unitedairlines\", '@united not very helpful', \"RT @united: @rippatip We hope you'll have a great day. ^MO\", 'Ugh.  Not only is a lap infant $600 @united award phone keeps hanging up on me ...', '@united I sent you the claim number', '@united up to 5 inches of extra legroom! #flyerfriendly', \"@united the rebooking was not helpful. Doesn't get them home until tomorrow\", '@united Appreciate communication, but getting message: ‘Tough about the iPad, Dr. Fuka. Be less stupid.” Helpful in a way, I suppose.', '@united is rolling out GLOBAL wifi on their flights. They just won back my business.', '@united would it kill ya to put some foam in my seat or send your surly, never helpful flight attendants to smile,customer service school?', '@united pls help w canceled flight. Family confirm #s: bmj1n9 &amp; bmr2gw can u get them to COS tonight? Thx!', '“@united: Be connected while you fly with satellite Wi-Fi. #flyerfriendly http://t.co/9SMY1xygoK”. this GS flyer is connected right now!', \"RT @united: Today's 30 Days of Friendly giveaway is over. Check back tomorrow for more.\", 'RT @airlineguys: \"Rhapsody\" -- @United Launches Luxury and Lifestyle Magazine http://t.co/GS8zYIsUwI #airlines #PaxEx', '@airlineguys How interesting. So @United is essentially copying the concept that @FlySWISS has w/ their SWISS Universe magazine?', '@united 3-5 inches more legroom on Economy plus!  #flyerfriendly', '@united Up to 5 extra inches. #FlyerFriendly', '@united “up to 5 inches of additional legroom” #flyerfriendly http://t.co/NqiOPzpi0q', '@united thank YOU. my uncle was a pilot with United for 30 years. He would be proud.', '@United Airlines 10/4/13 LAS&gt;IAD 2 delays crew needs legal rest-1 cancellation in Denver due 2 weather-had 2 fly 2 BWI 2 avoid 5 hr wait #BS', '@united up to 5 extra inches of bliss! :-) #flyerfriendly', \"I'm tweeting from 39k feet on @AmericanAir hey @united more of your flights should have #wifi\", 'Sort of half way there. One big Lufthansa leg and I can forget long haul for a couple of weeks. (at @United Club) http://t.co/s2SuFqcZop', '@JR_Hinkson @Jeff_Hood seeing tweets of your troubles with @AmericanAir brings back memories of my own struggles with @united', 'RT @united: Tweet the amount of extra legroom in Economy Plus w/ #flyerfriendly for a chance to win. http://t.co/KpIAo2k5BS http://t.co/3P7…', \"@SeeLB @VerizonFiOS Worse than @coxcable?? Worse than @united? I can't believe it.\", 'Waiting for the Vegas flight with a headache! #jetlag #backtobacktravels @united', \"RT @united: We're hosting the next 30 Days of Friendly giveaway for our fans and flyers from 12 p.m. to 3 p.m. CT today. Stay tuned.\", '@united Your cust svc agents are always very nice, and always equally totally unhelpful.', '@united love it!', '@united Delay out of PIA ruined my entire travel schedule.  Rebooking completed already.  Hoping my bags make it to LGA.', '@united #flyerfriendly Up to an extra 5 inches of legroom', '@united 4-5 extra inches #flyerfriendly', '@United economy plus offers up to 5\" more leg room than standard economy flights #flyerfriendly', '@united E+ offers up to 5\" more than standard economy flights.  #flyerfriendly', '@united  Up to an extra 5 inches of legroom!! #flyerfriendly', '@united 3-5 in extra leg room woohoo!!!!', '@united worst customer service-lost my bags &amp; refuse to reimburse me for the items I had to purchase - unreal', 'New club, new terminal... Nice! (No TSA Pre-Check) (at @United Club) http://t.co/oxcqDgsZQQ', 'RT @Anathemapth: @united if only you had wifi on domestics, we could follow along. Please expedite the wifi. It’s almost enough for me to s…', '@united #flyerfriendly up to 5 extra inches!', \"@jablow @united Well, that's a bummer!\", '@united: 5 extra inches of extra legroom in Economy Plus #flyerfriendly http://t.co/3MqgfhknHL', '@phil_rosenthal @united LMAO.', \"Why Hello Dallas! Don't you look pretty today!! Looking forward to 3 more @united flights taking me… http://t.co/ZqsPqfjEt5\", 'Finally in Los Angeles. Thanks for a great flight @united @ Los Angeles International Airport (LAX) http://t.co/zH8hsWf1it', '@united Economy Plus gives you up to 5 extra inches.  #flyerfriendly Did I win the upgrade?', \"@united It's up to 5 inches. Which doesn't sound like much, but I suppose it is delightful. #flyerfriendly\", '@united up to an extra 5\" #flyerfriendly', '@united 3-5” of extra legroom. I get it everytime i can! #flyerfriendly', '@united was not fun yesterday. UA1267 2 hrs delayed and even as 1K on an international itinerary was refused entry to the united club :(', \"There's mean flight attendants and then there's Willy. #unitedairlines @united #meanashell\", '@united up to 5 extra inches of legroom #flyerfriendly', '@bmvaughn @united 3-6\" extra #flyerfriendly', '@united up to 5 extra inches of extra legroom in Economy Plus  #flyerfriendly  http://t.co/ZIaiZIruCF http://t.co/P65A6TlJ8F', '@united Left iPad mini in setback pocket Sept21. Didn’t realize until Sept22 morn. Filed form. Form feels like brush-off.', 'I love an easy day of travel. Thanks @FlyGreatLakes and @united for smooth flights and connections.', \"I'm at @United Club (DFW Airport, TX) w/ 3 others http://t.co/XADliSwJBQ\", '@FlyYMM  What time does security open for your early morning flights? Trying @united for the first time next Sunday!', \"@united I've never seen more employees that lack accountability, from bag loaders to mgmt it's nobodies fault &amp;they won't remedy it\", '@united lets make this round trip extra special to NYC??', \"I'm talkin to you. @united\", '@united up to 5 inches #flyerfriendly', '“@united: Tweet the amount of extra legroom in Economy Plus w/ #flyerfriendly for a chance to win.           5 inches', '@united up to 5 inches extra legroom! #flyerfriendly', 'Thanks @united for helping me out when mech difficulties made me miss my connecting flight.', '@united Thanks—the telephone &amp; online form experience don’t really convey that sentiment. Obviously shoulda tweeted earlier :-).', '@united up to 5 inches.  Thanks!', '@united 5\"!', '@united 5 extra inches in Economy Plus #flyerfriendly', \"@united I book two tkts I got an email if I change my flight I will get 400 travel cert  its 6 wks haven't recd anyThing. calling evry wk\", '@united #flyerfriendly 6inches', '@united I voluntary would put my bags underneath the plane but was denied! Ridiculous.', \"@united forced to eat junk food..7$ voucher when it is UA's fault..disappointing for a star gold member\", '@united Up to 5\" of extra legroom in Economy Plus - yes  #flyerfriendly', 'We physicists are an arrogant bunch. Good of @united to make one feel one’s humanity. At least the absent-minded &amp; pissed-off parts.', \"@united Wow. Plane isn't even half full yet I'm boarding and overheads are already being shuffled around by flight attendants.\", 'Back to Washington. Great work out this am. #RnRCLE @United Excited for flight home. #drmarathon http://t.co/8AmtItj23i', '@united 6 inches #flyerfriendly', \"SO ANNOYED with @united. Flights delayed so I'm going to miss my connecting flight. Wonderful.\", \"@united can't figure out how much gas is on a plane that is only set for an hour flight #fail\", '@united lost my wifes bag on honeymoon stated it was a \"courtesy\" they returned the bag &amp; will not reimburse $$ we spent on necessities.', '@united Up to 5\". But given the choice, I\\'d take standard economy on @JetBlue with more pitch than UA for no extra charge. #flyerfriendly', 'RT @ShortyRossi: Watching Golden Girls on my @united flight to Los Angeles. @ Terminal 1 http://t.co/MYuBGCX0GH', '@united up to 5\" of extra legroom!  #flyerfriendly', 'I get it: I was an idiot to leave my iPad Mini in my seatback pocket. Thanks, @united for making sure I know it!', 'I got to enjoy Roseanne for 3 hours on my flight. Thanks @united !! http://t.co/IkowhT5y15', '@Money_Traveler @twinship @united that\\'s not 31\" legroom, that\\'s seat pitch!!', 'The @united lost&amp;found procedure amply demonstrates that 1000s of items are left on their planes &amp; they don’t give a damn about yours.', '@united Economy Plus offers up to 5 inches more than standard economy flights! #flyerfriendly', 'That extra 5 inches of legroom in Economy Plus on @united is wonderful on long flights. #flyerfriendly', 'Thanks to @united we are still on the ground in sunny #philly #fail #dontruinmyhoneymoon', '@united 5 extra inches #flyerfriendly', \"there's lots o' room in #economyplus @united . i did more enjoying than measuring on my recent trip. #flyerfriendly.  i want 2 win :)\", '@united up to 5 extra inches! #flyerfriendly', '#flyerfriendly Enjoy up to 5\" of extra legroom with @united Economy Plus seating - https://t.co/RaotjxsEvZ', 'This is my 10th flight in a row with no Direct tv, no wifi and no chargers. Also the movie didnt work @united', \"Nice fleet @united. #ua889 on a 747 built circa '89. No tv's, old plane.\", '@united United Economy Plus offers up to extra 5 inches of legroom! #flyerfriendly Of course, you gotta pay for it :-)', '@united thanks. We certainly did and the agent even checked that, but still said no.', '@united up to 5 inches of extra legroom #flyerfriendly', '@united thanks. I certainly will this evening when I return home and look forward to their response.', '@united Economy Plus offers up to 5\" more than standard economy flights.  #flyerfriendly', '@united Hello. Please check DMs.', '@united odds are the overhead bins will be full and we will gate check the bags. Happens every flight!', '@united up to 6 inches extra #flyerfriendly', '@united 16\"', '@united up to 5 extra inches of legroom!  #flyerfriendly', '@united 2feet #flyerfriendly', '@united extra 6 inches', '@united nor do I understand the logic in not giving us the free checked bags.', \"@united now I'm lugging around bags and lost my fiancees favorite perfume. Didn't have this issue on Friday on our first flight.\", \"@united I've flown many times and never had an issue before with the free bags.\", '@united up to 5inches! #flyerfriendly', \"@united credit card has middle initial. Flight reservation had whole name. Both gate agent and his lead stated couldn't do it.\", '@united Five inches of extra legroom #flyerfriendly', 'RT @united: Be connected while you fly with satellite Wi-Fi. #flyerfriendly http://t.co/LdM4uE4ITs', '@united Well the pain for this is over...but if you really wanted to help--hire new customer service reps.', \"@united no, that's not the issue. I have a chase united mileage plus card and was denied the free bags cuz the names did not 100% match\", \"@united @DownHomeTravel good luck Diana... I've been waiting over 3 months. The customer care team doesn't even exist!!!\", \"@united @annmp just the thousands my friend. I've been waiting 3 months. I don't think the customer care team even exist!!\", '@united 5inches', \"@united @APGkelley don't spout that rubbish United. I've been waiting 3 months to hear back on my complaint. You really do not care!!!\", '@united maaaan, fuck off.', '@united @bodelou always blame someone else united. Never your fault! Worst company ever!!', '@united Up to 5 extra inches #flyerfriendly', '@united unfortunately we we are not on @SouthwestAir otherwise we would not of had this problem', '@united shows off their global satellite-fed Wi-Fi in new commercial: http://t.co/PnXnwdHNQW #flyerfriendly #friendlyskies', '@united 3-5\" of extra legroom in Economy Plus #flyerfriendly', '@united @SmallLady0 worst company ever!', \"@united stellar flight crew today.  Didn't think anyone could be that pleasant on a 6AM. Flight 350 PHX -&gt; EWR\", '@united well now we are upset. The bag we had to check had my fiancees perfume which was discontinued and now in the trash', '@united up to 5\" extra of legroom! #flyerfriendly', 'Waiting at Boston for my New Delta flight to AMS. Not happy with the seats arranged by @united # very bad service from #united', '@united #flyerfriendly About an extra 5 inches in legroom', \"@united @chrisje_29 21 days? I've been waiting 3 months and still no response!!! I hope you have better luck. Worst company ever!!\", '@united Up to five inches #flyerfriendly', '@united, any other possibility? Via website Will take up to 21 days!!', \"@rcb38 Correct! #YMM has USA residents who fly @united regularly. I'll be sure to mention that in future tweets! Thanks pointing this out!\", \"I'm at @United Airlines (Chicago, IL) http://t.co/qIhodtnPAU\", 'RT @airlineguys: \"Rhapsody\" -- @United Launches Luxury and Lifestyle Magazine http://t.co/GS8zYIsUwI #airlines #PaxEx', 'RT @united: Tweet the amount of extra legroom in Economy Plus w/ #flyerfriendly for a chance to win. http://t.co/KpIAo2k5BS http://t.co/3P7…', '@united if only you had wifi on domestics, we could follow along. Please expedite the wifi. It’s almost enough for me to switch to sthwst.', '@united ok. Thank you!', '@FlyYMM @united  FYI. READ the rules THE contest iS for USA Residents only', '@united 3 inches', '@united Guess your team needs to do a better job of estimating. Changing the flight time 5, actually 6, times erodes consumer confidence.', '@ManUtd  fellani is a good player but he is not what united need @united need a player like orders Herrera #not fellani', '@united has one of the WORST customer service lines ever....English speaking ability at all time low.', '@united TY! I hope you have a safe great day too! Happy Travels! Much love to the UAL Family!', '@united Looking forward to staying up to date on email, but you have to keep the cell phones off!!', \"Up to 5 inches of extra legroom in economy plus - I'm a fan!  @united #flyerfriendly\", \"RT @united: @OCN4LFE We hope you'll have a great day. ^MO\", '#YMM chance to WIN from @united. Tweet about ExtraLegRoom in Economy Plus with #flyerfriendly. http://t.co/idKPb1VN6u http://t.co/bsZVebritb', '@united #flyerfriendly up to 5 extra inches', '@united #flyerfriendly There is 5 extra inches of leg room in economy plus seating.', '@united Hub says 65% A319, 22% A320, 54% 747, &amp; 3% remaining Boeing fleet have wifi. Plans for United Express or new A350?', '@united we did fill out a form. The reason this is a huge problem is because our car and house keys are in the delayed bag. :(', '@united 4-6 additional inches #flyerfriendly', '@united 564y', \"He says..I got 2tix to paradise Wont u pack ur bags we'll leave tonight! I got 2tix to paradise..for life❤️ @united http://t.co/tXhkQGC2Kw\", '@united up to 5 extra inches! #flyerfriendly', '@united  3-5” of extra legroom! #flyerfriendly', 'Landed in #LasVegas for the @BI_NEXT Idea Slam. See @DanielleRugoff and @liz_fisher soon. Thank you @united as always for a safe flight.', '@united #flyerfriendly 34-36 inches of legroom depending on the flight!', '53K air miles travelled this year @united', '@united And why were you incrementally delaying it? All customers want to know is how long it will take. Changing the flight time 5 times?', '@united up to 5\" more of leg room. #flyerfriendly', \"@united @Chase been at counter for 10 MIN trying to get my bags checked. I've gotten free bags numerous times before. Wheres the service?\", 'RT @SmallLady0: Wut. I have to pay $8 just to watch the flight map. I hate you @united', '@SmallLady0 @united The grossest.', 'RT @united: Tweet the amount of extra legroom in Economy Plus w/ #flyerfriendly for a chance to win. http://t.co/KpIAo2k5BS http://t.co/3P7…', '@united Up to ~5 inches! #flyerfriendly', '@united offers up to 6 inches of extra legroom in Economy Plus #flyerfriendly', 'Wut. I have to pay $8 just to watch the flight map. I hate you @united', '@united up to 5\" extra legroom in E+ #flyerfriendly', '@united up to 5 extra inches of legroom #flyerfriendly', 'Photo: Thanks for the upgrade @united now @lufthansa show some love &amp; upgrade me on my flight to Europe in a... http://t.co/lX87vTk1zy', 'Thanks for the upgrade @united now @lufthansa show some love &amp; upgrade me on my flight to Europe in a… http://t.co/ck5yvZuR95', 'One of the best parts of the @united flight to #GartnerSYM: Mozart! Free #classical #music! Thanks, #United! http://t.co/h63117k1fj', 'First 2 flights SFO to HNL delayed \"aircraft servicing\". Maybe they should check planes before boarding... Bad day to fly @united', '@united I love this airline !#greatfares#flyerfriendly#alwaysontime#friendlycrew', '5\" more RT @united: Tweet the amount of extra legroom in Economy Plus w/ #flyerfriendly  http://t.co/8GiD6MBQLB http://t.co/K2VfSaovbQ', '@united $50 worth of legroom #flyerfriendly', \"Wow. @united not only did you make up the time from late EWR start. We landed early in PDX. I'm impressed. Thanks!\", \"@united : are you going to have prizes that interest a 1K - Million Miler? We don't need premier access or economy plus seating upgrades\", '@united up to 5 extra inches of legroom #flyerfriendly', '@united 6\"', '@united up to 5\" #flyerfriendly', \"@united then you shouldn't have customer service who admit to your mistakes over the phone.\", \"Now @united moved us so we can't see the gates. They are all still open. #stuckonplane #customerservice\", '@united up to 5 inches', '@united up to 5 inches #flyerfriendly', \"@united thank you for losing our checked bag. I can't wait to choose a different airline for my next trip. #unitedsucks @UnitedAirFAIL\", 'Flight rerouted to DEN b/c of a sick pilot. Back in the air in less than an hour. Thanks, @united!', '@united @chase have united credit card and being denied free baggage that is a benefit of card.', \"@united Who couldn't use an extra 4-6 inches? #flyerfriendly\", '@united someone mentioned yellow baggage handle wraps for premier platinum and above, how can I get mine?', 'Another miserable travel experience thanks to @United. #delays #missedconnection #joysofflying', '@united Flight 6202 out of Denver.', \"Absolutely! :) RT @united: @badonlinedates We're happy to know you're loving them. If you ever need assistance with anything possible,...\", \"@united 3-5 inches if leg room! I love  united. I'll be using them@in Dec.#flyerfriendly\", 'Sitting on an @united flight waiting for gate to open in Denver, looked out window see at min 5 open gates! #customerservice #stuckonplane', '@united #flyerfriendly up to 5 inches more', '@united up to 6 extra inches #flyerfriendly', '@united Loving that extra 3 to 5 inches of goodness. #flyerfriendly', 'RT @united: Tweet the amount of extra legroom in Economy Plus w/ #flyerfriendly for a chance to win. http://t.co/KpIAo2k5BS http://t.co/3P7…', '@Bachelorsaurus @united hate to admit it, but you have what seems to the least available planes with WIFI', '@united 5 delays for the same flight in one morning with no good explanation or plan is not a way to get people to fly with you again.', '@united up to 5 inches of extra legroom #flyerfriendly', '.@united Up to 5 inches of additional legroom in United Economy Plus! #flyerfriendly', \"@united I have written to your CEO a while back and all I got was sorry and we'll relay to Customer Care and still the same.#givenup\", '@united Extra 3-5 inches of legroom in economy plus #flyerfriendly', '@united Please PLEASE tell me that people will not be able to use this Internet connection to make phone calls.', 'Thank you @united for absolutely no assistance in correcting your mistake', 'Well @united airlines, you are successfully sucking at communicating with passengers you have stranded for 2nd straight day.', '#flyerfriendly @united up to 5 inches', \"RT @united: We're hosting the next 30 Days of Friendly giveaway for our fans and flyers from 12 p.m. to 3 p.m. CT today. Stay tuned.\", 'YW! By the way loving all the changes. Job well done! :) RT @united: @badonlinedates Thank you. ^MO', '@united Unveils New Seat Design...Which Airline Has Your Favourite Interior', 'ttp://t.co/WFlBOLptQM', '@united 5extra inches #flyerfriendly', \"#YMM Some fun for #DEN flyers! RT @united: We're hosting the next 30 Days of Friendly giveaway for our fans and flyers.\", '@united #flyerfriendly up to 5\"', '@united gives you 4-5 extra inches in Economy Plus. #flyerfriendly', '@united Up to 6 inches of extra legroom! #flyerfriendly', '@united 5 inches', 'Up to five #flyerfriendly more inches in @united Economy Plus!', '@united up to 6 additional inches #flyerfriendly', 'Thanks @United for another glorious fail in getting @Adam_Fn_Green &amp; I home. Thanks @Jetblue for swooping in to save our Sunday!', '@united thank you!!', '@united up to 5 extra inches of legroom. #flyerfriendly', \"@united #flyerfriendly up to 5 inches of additional legroom! I'll enjoy that on my trip to Japan later this month!\", '@united up to 5 inches of extra legroom in economy plus #flyerfriendly', 'Staying in Houston one more Day thanks to @united !!!!! Yayyyyy', '@united 3-5\" of extra legroom #flyerfriendly', 'TY! Have a wonderful day! :) RT @united: @badonlinedates Enjoy. We appreciate you flying with us. Thanks. We look forward to having you...', '@united #flyerfriendly Up to an extra 5 inches of legroom', '@united Up to 5\" more legroom. And I love every inch of it. #flyerfriendly', '@united    absolutely useless in resolving issues.  very \"unfriendly\"', '@united 5 inches of extra awesome legroom! #flyerfriendly', '@united BNA at about 8:30 CST through to Gunnison, CO.', '@united I really don’t appreciate you screwing up my wife’s hiking vacation. You really need your bags for that kind of thing.', '@united 3_5 inches extra, total of 34-36 inches of legroom', '@united #flyerfriendly 5 inches', '@united 5\" of extra legroom! Please :) #flyerfriendly', '@united @annmp 4972696', 'The extra 3\" of leg room in @United Economy Plus definitely makes them more #flyerfriendly', 'RT @objkshn: @sfpelosi @united Careful w/ criticism of airlines on twitter or you might not be allowed to board in future: see  http://t.co…', '@united will this aircraft have inflight wifi?', '@united No wi-fi on your 777 SFO to HNL', '@united Up to an additional 5 inches #flyerfriendly', '@united Thanks for quick twitter response. Got off hold, but still have to pay $212 cancellation fee for a $190 flight. Not happy.', \".@united terminal in Syracuse is the seventh circle of hell. The employees are fighting each other. At least there's a show.\", '@united 5 inches', '@united an extra 12 inches. #flyerfriendly', '@united up to 5 extra inches #flyerfriendly', \"@united Depending on the aircraft you'll get 3 to 6 inches of extra legroom in Economy Plus. #flyerfriendly\", '@united up to 5 more inches #flyerfriendly', '@united Up to five extra inches of legroom in economy plus #flyerfriendly', '@united 5-6 inches of legroom.  #flyerfriendly', '@united up to 5 inches of extra legroom #flyerfriendly', '@united 4\" #flyerfriendly', '@united 3-5\" extra legroom #flyerfriendly', \"@united 40+ UA segments so far this year. You've had WiFi on 1. I'm ready for the rollout to pick up some steam.\", '@united 5 inches', \"@united What if I don't have an extra leg? What perk will you give me instead?\", '@united up to 5 extra inches of legroom  #flyerfriendly', '@united up to 5 extra inches! #flyerfriendly', '@united economy plus has 2-3\" extra legroom compared to economy!! #flyerfriendly', 'RT @NewYorkerPromo: Speak with master sommelier Doug Frost at the @United Lounge at The Cell (338 W. 23rd St) #NYerFest http://t.co/lmw4fkc…', '@united - your SFO international terminal lounge sucks! You not only use plastic cups, styropor bowls, your food is bleah! #Shameless', '@united economy plus gas 34-36 inches of legroom.', 'An extra 5\" of legroom with @united Economy Plus? Don\\'t mind if I do. #flyerfriendly', '@united A MUCH NEEDED 5 extra inches for big guys like me! #flyerfriendly #flyerfriendly', 'RT @united: Tweet the amount of extra legroom in Economy Plus w/ #flyerfriendly for a chance to win. http://t.co/KpIAo2k5BS http://t.co/3P7…', '@united you get an extra 5 inches in Economy Plus #flyerfriendly', '@united up to 5 inches of more legroom than economy #flyerfriendly', '@united up to 5\" #flyerfriendly', '@united 5 extra inches #flyerfriendly', '@united 5\"', '#flyerfriendly @united up to five', '@united ~5\" #flyerfriendly', '@united 18\"', 'RT @united: Tweet the amount of extra legroom in Economy Plus w/ #flyerfriendly for a chance to win. http://t.co/KpIAo2k5BS http://t.co/3P7…', 'Nothing better than @DIRECTV on a Sunday flight. Thank you @united  #football', '@united up to 5\" of extra leg room #flyerfriendly', '\"@united: Tweet the amount of extra legroom in Economy Plus w/ #flyerfriendly\" I reckon additional 3-5 inches ... 7,6-12,5cm ;)', '@united 4-6\" for a total of 35-37. #flyerfriendly', 'Speak with master sommelier Doug Frost at the @United Lounge at The Cell (338 W. 23rd St) #NYerFest http://t.co/lmw4fkcTuc', '@united up to 5 inches of extra legroom #flyerfriendly', '@United Up to 5 inches extra leg room in Economy Plus #flyerfriendly', '@united #flyerfriendly 5 extra inches', '@united 5 inches #flyerfriendly', '@united 3-5” extra #flyerfriendly', '@united 5 extra inches.', '@united 5\" of extra legroom! #flyerfriendly', '@united 5 inches! Makes a world of difference #flyerfriendly', '5 inches  RT @united: Tweet the amount of extra legroom in Economy Plus w/ #flyerfriendly for a chance to win.', 'Dear @united I am a little upset that I believe a pass rider was prioritized over me on standby for flight #4305', '@united up to 5\" of extra seat legroom.  #flyerfriendly', '@united You get up to five inches of extra leg room in economy plus #flyerfriendly', '“@united: Tweet the amount of extra  in Economy Plus w/ #flyerfriendly\" 4 inches more', '@united up to 5\" of extra legroom #flyerfriendly', '@united 5-6 inches  #flyerfriendly', '@united #flyerfriendly 52 inches extra legroom', 'RT @united: Tweet the amount of extra legroom in Economy Plus w/ #flyerfriendly for a chance to win. http://t.co/KpIAo2k5BS http://t.co/3P7…', '@united 5 inches of extra legroom #flyerfriendly #economyplus', \"@united i'm going with up to 5 extra inches i.e. 36 in total #flyerfriendly\", 'Never seen worse customer service in my entire life than at @united gate 21 right now. They just ripped a guys ticket and took his seat.', '@united there is a difference of 5 inches of extra space with economy plus #flyerfriendly', '@united 52 inches', '@united 6\"', \"RT @united: We're hosting the next 30 Days of Friendly giveaway for our fans and flyers from 12 p.m. to 3 p.m. CT today. Stay tuned.\", '@united what does it cost $$$', '@united 3-5 inches xtra room!  #flyerfriendly   Buying tickets for family this week!  Would love to fly United from Houston.  #favairline', '@united Up to 5 inches of extra legroom in United EconomyPlus ✈ #flyerfriendly', 'Up to five inches additional legroom. #flyerfriendly @united', '@united up to 5 inches extra legroom #flyerfriendly', 'RT @united: Tweet the amount of extra legroom in Economy Plus w/ #flyerfriendly for a chance to win. http://t.co/KpIAo2k5BS http://t.co/3P7…', '@united up to 5 extra inches! #flyerfriendly', '@united up to five extra inches #flyerfriendly', '@united 3-5 extra inches on legroom #FlyerFriendly', '@united 5 inches #flyerfriendly', '@united 5inches #flyerfriendly', '#flyerfriendly 5\" of extra legroom! @united', '@united you get 4-6 additional inches of legroom in Econ-Plus #flyerfriendly', \"@united   I've totally reversed my opinion on United. We've been on 3 flights recently and all of them ewe nice. Plus lie flat beds good job\", '@united 11:20 ??? No way ! There is no aircraft at gate. The level of confidence from gate agent was not very promising either.', '@united legroom in Economy cabin is 31-32\".', '@united 5-6 inches  #flyerfriendly', 'RT @united: Tweet the amount of extra legroom in Economy Plus w/ #flyerfriendly for a chance to win. http://t.co/KpIAo2k5BS http://t.co/3P7…', '@united Flight no #UA1494 from BOS to AUS we had an unruly older gentleman sitting in exit row 21. Very nasty man. Melinda handled very well', '@united Up to 5 inches of extra leg room. Its worth it too. #flyerfriendly', '@united 4-6 inches #flyerfriendly - depending upon aircraft !', '@united: up to 5\"!\\r #flyerfriendly  http://t.co/AyZOnTAs5u http://t.co/OPObh0mzcQ', '@united 34 - 36 inches which is up to 5 inches more #flyerfriendly', '@united in economy plus I can actually stretch my legs! #somuchroom #TallGirlProblems', '@united 34\" to 36\" extra legroom #flyerfriendly', '@united #flyerfriendly enough to stretch n relax during flight journey', '@united extra 4\" of legroom #flyerfriendly', '@united 3-5 inches more', '@united 5\" #flyerfriendly', '@united 5 inches! #flyerfriendly', '@united 25th anniver trip stopt,no connecting flight,addl hotel &amp; unused hotelnite at Munich,return flight fiasco,united custcare no respond', '@united #flyerfriendly 3\"-5\"', 'Up to 5 more inches #flyerfriendly @united', '@united cool', 'RT @united: Tweet the amount of extra legroom in Economy Plus w/ #flyerfriendly for a chance to win. http://t.co/KpIAo2k5BS http://t.co/3P7…', '@united #flyerfriendly up to 5\" of legroom', \"RT @united: We're hosting the next 30 Days of Friendly giveaway for our fans and flyers from 12 p.m. to 3 p.m. CT today. Stay tuned.\", '@united I have a quick question if I am all ready in the Milage plus program is there a way I can change my seat to first class?', '@united 34-36 inches of legroom depending on the plane.#flyerfriendly', '@united 5 inches extra #flyerfriendly', '@united 3 - 5 inches. #flyerfriendly', '@united  5 inches!!! #flyerfriendly', 'RT @united: Tweet the amount of extra legroom in Economy Plus w/ #flyerfriendly for a chance to win. http://t.co/KpIAo2k5BS http://t.co/3P7…', '@united ...5extra inches', '@united between 3 and 5 extra inches. #flyerfriendly I love economy plus! I just bought it for all my holiday travels!', '@united up to 5 extra inches #flyerfriendly', '@united is it 7 inches?', '@united 5 inches #flyerfriendly', 'RT @united: Tweet the amount of extra legroom in Economy Plus w/ #flyerfriendly for a chance to win. http://t.co/KpIAo2k5BS http://t.co/3P7…', 'RT @united: Tweet the amount of extra legroom in Economy Plus w/ #flyerfriendly for a chance to win. http://t.co/KpIAo2k5BS http://t.co/3P7…', '@united raise those long legs in a cheer for United!', '@united #flyerfriendly 34-36', '@united up to 5\" of additional legroom! #flyerfriendly', '@united 34-36 inches #flyerfriendly', '@united 34-36 inches!!! ✈️', '@united up to 5 extra inches of legroom!  #flyerfriendly', '@united 3-5” of extra legroom! #flyerfriendly', '@united 5\" extra #flyerfriendly', '@united  #flyerfriendly 34-36 inches', '@united 34-36 inches. Book it!!!', '@united #flyerfriendly 34-36 depending on plane', '4 inches \"@united: Tweet the amount of xtra legroom in Economy Plus w/ #flyerfriendly to win. http://t.co/5x27zLFXfq http://t.co/lJlxoSsMAL”', '@united 3-5” of extra legroom! #flyerfriendly', '@united 5 inches #flyerfriendly', 'RT @united: Tweet the amount of extra legroom in Economy Plus w/ #flyerfriendly for a chance to win. http://t.co/KpIAo2k5BS http://t.co/3P7…', 'Overheard @united is in process of removing on-board video on all narrow-body aircraft. True?', \"RT @united: We're hosting the next 30 Days of Friendly giveaway for our fans and flyers from 12 p.m. to 3 p.m. CT today. Stay tuned.\", 'Time to catch my BOS to DAY on @united', 'RT @united: Be connected while you fly with satellite Wi-Fi. #flyerfriendly http://t.co/LdM4uE4ITs', 'Wow @united for making me miss my trip from Cleveland - Montreal because YOUR @united Airplane had a loose switch in Orlando #checkurplanes', \"RT @united: We're hosting the next 30 Days of Friendly giveaway for our fans and flyers from 12 p.m. to 3 p.m. CT today. Stay tuned.\", '@united still have not received a response and its been longer than 21 days. Customer service??', '@united Despite delay on 1281 yesterday, very  impressed w/ crew &amp; passengers who helped folks make connections. Free DirecTV by Capt nice 2', '@united the flight 6202 is getting delayed every hr by another hr. Hard to believe such delay in a hub like DEN. #frustrated #sleepy', '@united ahhhhh yes. Gonna tweet from the air', '@united, my flight has officially been delayed so many times that I could have gone to my destination and back by this point. Ridiculous.', 'RT @ScottMitchell89: Chaotic @BritishGT finale. Congrats to the champion @BeechdeanAH. @mattbellracing brilliantly won the race for @United…', '@united Finally - either coincidence or twitter gets better results than phone calls.', \"@united in the last 2 weeks I've been Bos to sfo and today Bos to me  and your promise of wifi hasn't happened #brokenpromises #wifime\", \"RT @united: We're hosting the next 30 Days of Friendly giveaway for our fans and flyers from 12 p.m. to 3 p.m. CT today. Stay tuned.\", 'Taste @United Airlines signature wines all day at The Cell, 338 W 23rd St. #NYerUnited #NYerFest @ The… http://t.co/kvsJVPeI6a', '@united has the nicest customer service that helped me sooooo much today', \"RT @united: We're hosting the next 30 Days of Friendly giveaway for our fans and flyers from 12 p.m. to 3 p.m. CT today. Stay tuned.\", 'Been on hold with @united for 40 minutes.  Did you forget about me or punishing unhappy customers?', \"RT @united: We're hosting the next 30 Days of Friendly giveaway for our fans and flyers from 12 p.m. to 3 p.m. CT today. Stay tuned.\", \"RT @united: We're hosting the next 30 Days of Friendly giveaway for our fans and flyers from 12 p.m. to 3 p.m. CT today. Stay tuned.\", \"RT @united: We're hosting the next 30 Days of Friendly giveaway for our fans and flyers from 12 p.m. to 3 p.m. CT today. Stay tuned.\", \"@united Any word? It's been a couple weeks....\", \"RT @united: We're hosting the next 30 Days of Friendly giveaway for our fans and flyers from 12 p.m. to 3 p.m. CT today. Stay tuned.\", '@united great deal', \"RT @united: We're hosting the next 30 Days of Friendly giveaway for our fans and flyers from 12 p.m. to 3 p.m. CT today. Stay tuned.\", \"RT @united: We're hosting the next 30 Days of Friendly giveaway for our fans and flyers from 12 p.m. to 3 p.m. CT today. Stay tuned.\", '@united canceling (not changing!) a segment of my tckt shouldnt cost me anything (let alone 3x another tckt) .. reconsider your policies!', \"@united yesterday online i was able to upgrade and now you're telling me it was a computer glitch and its not available? Not acceptable\", 'RT @objkshn: @sfpelosi @united Careful w/ criticism of airlines on twitter or you might not be allowed to board in future: see  http://t.co…', '@united Timpani, of course! #flyerfriendly', '@united what a joke if I was late getting to my plane they would leave without me  not cool', 'RT @united: Be connected while you fly with satellite Wi-Fi. #flyerfriendly http://t.co/LdM4uE4ITs', \"RT @CMPunk: Hello @united.I have a flight tomorrow morning on your airline. YYZ to ORD.So I'm driving.Right now. Because I want to get to t…\", 'If you want a heart attack .. fly @united', '@united on hold with your reps now...you better fix this upgrade!', '@united  was on phone with agent for an hour last night.  Never got an emailed confirmation.  Lost wages by not getting home on time', '@objkshn @sfpelosi @united Well, easyJet is off my list of potential airlines.', 'RT @objkshn: @sfpelosi @united Careful w/ criticism of airlines on twitter or you might not be allowed to board in future: see  http://t.co…', '@united Didnt mean a waive in change fees, just meant transfering one ticket in one persons name to another person because they cant use it', '@united Loved the wifi a few days ago, super fast! Your customers going to love it! Keep up the awesome work, you guys do :-)', \"RT @united: @jhoopdaley Thanks for sharing your feedback with us. We're happy to hear this. We hope you'll have a great day. ^MO\", 'Thankfully United is cooler than EasyJet tho I suspect the latter has learned their lesson @objkshn @united', 'What the heck @united ? Hour and half delay on a sunny day?', 'RT @objkshn: @sfpelosi @united Careful w/ criticism of airlines on twitter or you might not be allowed to board in future: see  http://t.co…', 'Intg indeed -- but all good now -- social media FTW @aravosis @united', 'RT @united: Be connected while you fly with satellite Wi-Fi. #flyerfriendly http://t.co/LdM4uE4ITs', 'RT @airlineguys: \"Rhapsody\" -- @United Launches Luxury and Lifestyle Magazine http://t.co/GS8zYIsUwI #airlines #PaxEx', '@united lmao nvm...', \"@united you're doing a much better job today.\", '@united so I gathered.', '@BaadalPatel: @united 1576 to SAN captain just came out and gave a very personal overview of flight #friendlyskies #nicetouch', '@sfpelosi @united Careful w/ criticism of airlines on twitter or you might not be allowed to board in future: see  http://t.co/1UzstAVajE', 'Customer service report: Travel issues getting to Ft. Worth. @united helped me in 90 second call. @Hertz-problems ongoing 6 days later.', 'RT @airlineguys: \"Rhapsody\" -- @United Launches Luxury and Lifestyle Magazine http://t.co/GS8zYIsUwI #airlines #PaxEx', 'RT @united: Be connected while you fly with satellite Wi-Fi. #flyerfriendly http://t.co/LdM4uE4ITs', '@sfpelosi @united oh that is intg', 'But - thanks to the magic of twitter, the @united twitter folks told us what our own flight attendant &amp; gate agent would not. @aravosis', 'RT @united: Be connected while you fly with satellite Wi-Fi. #flyerfriendly http://t.co/LdM4uE4ITs', 'No / they knew fog was heavy and decided to \"go for it\" - we ended up where we started @aravosis @united', '@united Is there anyway to alow transfer of unused tickets from one person to another due to certain circumstances?', 'RT @united: Be connected while you fly with satellite Wi-Fi. #flyerfriendly http://t.co/LdM4uE4ITs', \"@united on what... 10% of your aircraft? You've got a lot of catching up to do...\", '\"Rhapsody\" -- @United Launches Luxury and Lifestyle Magazine http://t.co/GS8zYIsUwI #airlines #PaxEx', \"@sfpelosi @united wow, so rather than not taking off at all, they took off knowing you weren't heading to portland as planned?\", '@united Currently En-route to KJFK in a 757 (FSX) http://t.co/IQazyvAsyT', '@United took off to Portland knowing it was foggy &amp; pilot could not land safely. Tho we were rebooked they would not say where! @aravosis', 'RT @united: Be connected while you fly with satellite Wi-Fi. #flyerfriendly http://t.co/LdM4uE4ITs', 'RT @united: Be connected while you fly with satellite Wi-Fi. #flyerfriendly http://t.co/LdM4uE4ITs', \"RT @smagdali: @tomcoates @united indonesia's 'budget' airlines have better seats, legroom, facilities. also, this plane is *filthy* #UA862\", 'will DEN-&gt;LGA route have this? RT @united: Be connected while you fly with satellite Wi-Fi. #flyerfriendly http://t.co/9pId1WHbGJ', 'My @United 12-hr flight takes off 2 1/2 hours late. Missed connection. Now tell me I will have an over 8-hour layover before my next flight', \"@united I sure wish you'd emailed my club passes instead of mailed them. Could use them now.\", '@united many of the passengers almost or may have missed connecting flights because we ended up unloading almost 30 minutes late.', '@united I get that but it ended up being 50 minutes of waiting. Flight 6160. He requested another gate but was told no.', '@united thank you.', '. @united is becoming more like Continental used to be. Their treatment of customers both in the air and online has improved so much lately.', '@united http://t.co/pvTCRtzpc8 judging by the oily handprints all over the ceiling panels, Maintenance might  be the problem ;)', 'EWR --&gt; YYZ (@united)', 'Great service today @United...', 'RT @planesafeorg: MT @ERAUWorldwide: @United plans 787 base in Los Angeles http://t.co/TBQOB2UA4y via @Flightglobal', '@united thank you!', \"$75 standby fee per person - thanks @united you're doings great job of jamming it to your customers for a convenience.\", 'Cancelled flights, 3 broken planes, aborted landing, redirect, delays, closed airport, bus ride home but @united got me home safely. Thanks.', 'RT @united: Did you join the #unitedplanechat about our new #flyerfriendly campaign? If you missed it, get a recap on the Hub. http://t.co/…', 'RT @united: Have you tried the new fall-inspired items on our \"Bistro on Board\" menu? The chef selections are made fresh daily. http://t.co…', \"@united I'm trying hard to like you. Flying across the country every week, but still group 5. Just now was awarded seat 34e to Orlando.\", \"Join us at The Cell (338 23rd St) and master sommelier Doug Frost for a tasting of @United's signature wines. #nyerunited\", \"RT @sfpelosi: Hey @united your pilot couldn't land plane &amp; we are back on original tarmac; your so-called customer service people won't tel…\", '@united Done . Have sent the details', 'Hope #Januzaj signs a new contract deal with @United before \"OTHERS\" try to bid for him', '@united The attitude, lack of compassion were much more bothersome than 30m delay.', 'And whoops, missed the new LAX-MSP service on @united as well. cc @AirlineFlyer', '@united 4305-Inbound flt delayed to gate after on time arr. Agent offered series of wrong estimates then no sympathy for missed cnxns.', '@united So, after getting me to SFO 2 and 1/2 hours late, I will then have a 8 hour layover? Unacceptable! #UA862', 'Tit for tat. @united to launch SFO-ATL from Apr14, announced days aftr @Delta announced new SEA-SFO service. Competition is alive and well!', 'RT @sfpelosi: Lousy @united \"service\" deeply disappointing to all on this messed up flight. Why hide the ball from your customers?', '@united Thank you. Will do.', 'RT @sfpelosi: Lousy @united \"service\" deeply disappointing to all on this messed up flight. Why hide the ball from your customers?', '@united thank you x', '@united \"over promise and under deliver\" should not be an employee strategy to deal with frustrated passengers, endless delays #ord #fail', 'Clever new @united commercial - what a ride to the #airport looks/sounds like around the world.', 'Lousy @united \"service\" deeply disappointing to all on this messed up flight. Why hide the ball from your customers?', \"Hey @united your pilot couldn't land plane &amp; we are back on original tarmac; your so-called customer service people won't tell us rebooking!\", \"@united Chicago's Englewood International Film Festival Oct 24-27 The only festival aimed at destroying violence in inner city\", '@PoeSchmoops @united No such thing as too much bread! Carbo load for DU.', '@united hi can you tell me if the 4517 from TVC to  ORD is likely to be on time? Thanks', 'Shout out to Waqar at @united ORD - that guy knows how to give great service!!', '@united just tried it on my computer too. Same error. Where can I call that i wont get a machine?', '@united out of 5 #united segments 4 were sharp on time - but the last one DEN - YYC is delayed now.', 'RT @taylorgilland: Packed flight delayed because of a \"printer issue.\" Come on @united, it\\'s 2013.', 'RT @ScottMitchell89: Chaotic @BritishGT finale. Congrats to the champion @BeechdeanAH. @mattbellracing brilliantly won the race for @United…', \"@united just when I think it can't be anymore fun, you add to it.  Yes. Sarcasm. Worse customer service I've dealt with when flying.\", 'On an airfield filled with regional jets, a @united 767 stands out... @KCChiefs charter #NFL #avgeek #BNA http://t.co/TbvmmEODPy', '@united safari on the iphone', '@united I am on delayed flight #UAL862 i have a connection in SFO to PDX. Can you tell me which flight i am rebooked on?', 'RT @ShortyRossi: Watching Golden Girls on my @united flight to Los Angeles. @ Terminal 1 http://t.co/MYuBGCX0GH', 'MT @ERAUWorldwide: @United plans 787 base in Los Angeles http://t.co/TBQOB2UA4y via @Flightglobal', 'Packed flight delayed because of a \"printer issue.\" Come on @united, it\\'s 2013.', '@united guess your partner systems are not working the way it should be, have been trying to get miles on a UA code share can you help?', 'RT @Money_Traveler: 31\" of legroom is paltry RT @twinship .@United’s New Coach Seat Fails the ‘Friendly’ Test http://t.co/rUHhOTAxM8  #flye…', \"Hey @united your pilots got us to chicago early: awesome. Now we've been sitting on the plane for 40 minutes waiting for a gate.\", 'One day after my @united flight was delayed 5 hours then cancelled I get this email. #worstairline http://t.co/fyA91bLtab', \"@united Just figured it out...it's gotta be the @KCChiefs charter\", '@united just got home (amsterdam) this morning. Great flights&amp;crew (like allways..!).', \"RT @fedebizzocchi: @united @TangoBusiness I've just sent you a DM! Please take a look as you offered!\", '@united #united #lasvegas #houston #omw #home #dutch #schiphol #boeing #777 #usa #vacation http://t.co/83G7It78fm', '@united thanks for the unexpected, but welcome, upgrade.', 'Watching Golden Girls on my @united flight to Los Angeles. @ Terminal 1 http://t.co/MYuBGCX0GH', 'Hey @united I did, but side gave me a 19D seat and boarding pass a 55H, which is a big difference, if you follow me, we can do this over DM.', '@united I am talking about the arrivals lounge in T1. After you get through customs.', '@united already tried both. None of them work.', 'Blew past @United Premier Silver, clear shot at Gold by end of year - from cold start in June. Balance? Not really... #worklifeintegration', '@united and a 9 hour delay in arrival time is acceptable to you??? Hint: it is not for me. There are other airlines...', 'RT @EduSlam: Hey @united you really have to equip your planes with Internet! You make it hard to choose you when others have it and you don…', 'Reassuring to see an @united pilot outside walking around checking out his plane before departure.', \"@united Here at BNA...all regional jets on the tarmac...&amp; then there's one random 767/777?? Is it a charter or something?\", \"RT @fedebizzocchi: @united @TangoBusiness I've just sent you a DM! Please take a look as you offered!\", \"@united I already did! That is the message I'm getting after submitting that form!\", '@united Does a domestic 1st class ticket allow you access to First Class Lounge in SFO?', 'Day 1 of 14 of 40 degree weather! Eeek!!! @united', 'As usual, @united is worse than @alaskaair. (Picture taken at 7:08). At least Alaska off only by minutes. [pic]: http://t.co/iQqGgXINLJ', 'Never had a cancelled flight before and @united took care of everything... no stress! Bring on #NYC and #Csuite w @JeffreyHayzlett premiere!', 'RT @EduSlam: Hey @united you really have to equip your planes with Internet! You make it hard to choose you when others have it and you don…', '@united flight 4935F was already boarding and your pilot called in sick, WTH?  Now half the flight is missing connections including me...', '@united @emelemel: @united ua902 FRA-SFO tomorrow that is. ;-)', '@united ua902 FRA-SFO', '@united ARE YOU SERIOUS? tryin to get thru to you with the \"appreciation\" link for over an hour. Not workig! http://t.co/zM57zYUygy', 'Oh @united, you may want to tell your loyal customers that they have no access to the arrivals lounge at Heathrow b/c you close at 2pm.', '@united This plus 7 time changes, 3 gate changes, &amp; a gate agent who left 15 minutes before departure on my outbound flight is the issue.', \"RT @Wynnphotography: Dear Linda @united your customer service sucks! I'm 1k flying on a paid first class ticket. No need to a pain in my as…\", '.@united So friendly! Warm bread to go with your FC breakfast sandwich. #breadwithbread', \"Hey @united you really have to equip your planes with Internet! You make it hard to choose you when others have it and you don't\", 'Oh shocking. My @united flight coming back SAV-ORD is delayed. So nice for both ends of my itinerary to be crappy...', \"Thanks .@united gate agent. You're a rock star! #happygirl\", '@BobbyGatesGolf @united Bobby, we must both be at IAH. Safe travels my friend and #gigem #hitemstraight', '@united about an hour before the flight. That was when my nconnection got there. When does a flight \"clear for upgrades\"', '@united I asked at the gate if I could buy an upgrade for the flight an she said it was full then upgraded people for free with status. Why?', '@united @Kern0827 hate to say it but continental used to have great customer service but it has gone way down hill since the merger', '@WanderngAramean how about @united 757 PHL-JFK?', '@united I did already and I got a second equally uncaring response. I will try one more time, but then I give up!', 'Being a @united mileage plus member is awesome!', 'On my @united flight bound for #CEBsummit in Vegas. Going to be a great week!', '@lufthansa @United pointing to each other for on-line checkin is not funny. Even not when it goes wrong and your contact centres do the same', '@united just had breakfast at the united club lounge in ORD since when did it become motel 6 style?? #cheap', '@StarAlliance is there an alliance?! extremely poor communication between @United &amp; @SingaporeAir . #staralliancemismanaged', '@dmbriguy7 @united @DIRECTV @JetBlue I agree.went 3family wedding in Mexthis sum&amp;was thrilled 2have it on our plane. Until I saw I had 2pay', 'A first for everything: Great service in the @United Express pit at IAD Terminal A. Barbara working A5 this morning was fantastic.', '@AirlineReporter @united Great job! This 23 year Active AF Member (aviator) is proud of you!', \"RT @AirlineReporter: Our friends @united have offered to fly the shutdown-grounded Air Force Academy's football team in for Navy game. Awes…\", '@united not really worth it. Flight about to take off. If you have DirectTv on your flights, you may as well make it free instead of a tease', 'Primera escala Los Angeles, a darle... (at @United Club w/ 2 others) http://t.co/yG0KNVvmP6', 'The cold front is here.. Hope @united gets me out this morning! http://t.co/w2HOQZTZWo', 'This is a new @united plane with @DIRECTV. Cool...except apparently you have to purchase it. Uh, no thanks. @jetblue does it right. #fail', 'RT @JumpSmokers: Just boarded our @United flight at #ORD - next stop for the #JumpSmokers: #NYC!!!!! (for a private party)', 'Waiting and working while Barb goes home. (at @United Club) http://t.co/BYoa5VEvQC', \"@united and what will they do? I am beyond unimpressed. I didn't get up at 5am and pay good money to be treated so horribly\", 'Boarding in Washington ... Stairs to go on the plane are an accident waiting to happen @united. Gotta have something better than this.', 'The 1st said \"shit\" when serving us, the 2nd didn\\'t help us when we asked &amp; the 3rd said \"what do you want? I was ignoring you\" @united', 'Thank you @united for finally including Pensacola in your last minute flight deals! #happygirl', '@united what can i do when i miss things in my bag after flying with united?', '@united on phone with Tierra in booking not much help wants to refer me to when they are open - jeepers - normally great service - confused', '@united we ended up going Delta. They were the only ones who could get us in to Tampa on time. 3 for 3 on missed United flights', 'Looking for an airline with employees who are rude and have no customer service skills? Then you should fly @united', 'RT @AlMehairiAUH: @UNITED to start 2xdaily #CRJ700 flights from #LosAngeles @LAX_official to #Minneapolis @MSPairport on 1APR #avgeek', 'Shocker. Another missed @united flight. Maybe they can give a flight for my cousins wedding since I get to miss it now', \"@united @TangoBusiness I've just sent you a DM! Please take a look as you offered!\", \"@united Don Holden says can't ship equipment when I did it from DC to Houston - why on flight 380 to DCA from IAH http://t.co/87aydir9kr\", 'RT @AlMehairiAUH: @UNITED to start 2xdaily #CRJ700 flights from #LosAngeles @LAX_official to #Minneapolis @MSPairport on 1APR #avgeek', '@UNITED to start 2xdaily #CRJ700 flights from #LosAngeles @LAX_official to #Minneapolis @MSPairport on 1APR #avgeek', 'Why do all the good priced flights to Cali have to be through @united?? I absolutely refuse to fly with then again!', '@UNITED to resume 2xdaily #boeing #B737-800 flights from #SanFrancisco @flySFO to #Atlanta @Atlanta_Airport on 1APR #avgeek', \"@United Very disappointed with Coors Lt as only comp'd beer considering $400 year fee. Btr to go airpt bar w no yearly fee and pay for beer\", 'Nothing like waking up to @united yelling at everyone to pre check bags', 'Also the @united gate agent here in Columbus is a cunt', '@united @jlhansen929 We tried that before too Jennie. You fill out a form and get a \"Thanks for sharing your concerns\" email.', 'メキシコのユナイテッドラウンジは酒も軽食もある。ないと思って軽く食べたのがもったいなかった。。とりあえずビール、テキーラ飲むぞ！ (at @United Club w/ 2 others) [pic]: http://t.co/BU87YPnFBp', 'Love the direct connection to the big apple from Belfast but we need more destinations @united @UniStudios  #Florida #universal #keywest', \"@Wynnphotography @united reason number 81610 why I don't fly them anymore. Worst customer service in the biz.\", 'RT @united: @Airline_ratings Thanks for sharing, we appreciate it.^AB', \"Dear Linda @united your customer service sucks! I'm 1k flying on a paid first class ticket. No need to a pain in my ass at 4:30am\", '@united partial refund processed. Thanks!  Other compensation was disappointing...almost insulting. Sigh...  A computer glitch...really!?!?', 'Home away from home. (at @United Club) http://t.co/A35HroSPBb', 'Thx @united! such a lovely surprise at 5:30am to be upgraded on my 6.5 hr leg from BOS-&gt;SFO!', 'RT @MickieJames: My love/hate relationship w/Canada. Love 2 have me. Hate letting me in. Love/hate w/ @united &amp; my luggage. Love me 2 pay. …', '@united Yes! How can I reach customer service?', '@united hoping for a pleasant experience in globalfirst', 'On board on a 777 for Colombia with @united . Looking forward to the Latin America event! Watch the space for updates #avmro #avgeek', 'Last leg of trip @jettfrogg 1 got @Lufthansa_USA  first #amazing #luxurytravel.  @jettfrogg 2 gets @united first,', '@united  Strain of this is too much. I ended up in Accident &amp; Emergency with heart problems. There is a slew of charges on 19/9.Will contest', \"I'm on @United #UA197 (B737-800) NRT-GUM. (1556miles, 3h11m).  Track my flight:  http://t.co/5u1kJq8Qna\", 'I just noticed it! Driver gave me wrong info \"@CJayFla: Not true! @Delta, @USAirways, @united, Etihad &amp; Emirates here too! @DublinAirport\"', '@JohnnyJet Not true! @Delta, @USAirways, @united, Etihad &amp; Emirates here too! @DublinAirport', 'Moyes has future @united#SQ1#Sanjay Singhania.', '@teedubya curious to see how @united and Scott helped out your airline reservation situation.', '@united canceled my flight.  Gave me hotel&amp;taxi vouchers plus 2 meal vouchers worth $7 apiece.  Pls suggest where I can eat in DC for $7!', 'RT @SERCH_: @united please confirm the time of our flight to SJO. There is an entire flight waiting at our hotel for confirmartion.', '@united please confirm the time of our flight to SJO. There is an entire flight waiting at our hotel for confirmartion.', 'MT @DanCottom: An @United  #747-400 in @StarAlliance livery gets a push at @NRT http://t.co/4KKIi1l8jT @TomPodolec @JeffTaylorTPS Nice pic!', '@AKinkhabwala heck yeah.  One time, @united gave us drinks and DVD players.  I watched a whole movie before take-off.', \"@united - Didn't the FAA just announce that electronic devices pose no harm?\", '@FreemaOfficial @united united is evil. #worsemergeEVER', 'It really is unbelievable that @SingaporeAir is in the same group as @united !! Singapore air is 10 levels above them!', \"@united i hope I at least get miles back for such incompetence! You can't leave your passengers with no information.\", 'رسول للہ ص نے فرمای', 'دکار عالم بدترین انسان ہے', '', 'حق', '', 'United People of Pakistan', 'Stuck with @united in Nicaragua and everthing has been handled terribly! No info whatsoever! I dont even lnow at ehat time i leave tomorrow', \"@united seriously?? Delayed flight, will miss connection to Hawaii and you won't even find a way to sit me with my companion to compensate??\", 'An @United @BoeingAirplanes #747-400 in @StarAlliance livery gets a push at @NRT http://t.co/nbubxEqik9', 'Landed 20 minutes ago, still waiting for the door to open @united', \"Cheapest flight out to Baltimore in March is on @united thus far! I'll wait till January to book all this.\", 'RT @Wilkinson_Golf: More time in bed.  @united flight 36 two 1/4  hours late into #edinburgh http://t.co/emrUjVAHiu', '@united thanks but I am meeting golfers off the flight that is 2 hours late to Edinburgh. Hope they still make their tee time @KingsbarnsGL', \"lol? Did @united just advertise wifi on international flights? As a 1k+'er I've never seen that. Ever.\", \".@united the flight went very smoothly but the hosts weren't very friendly or polite! Good price though.\", 'Adan Janazuj is a 17year old winger who is a star in the making @UNITED he is legible to play for Belgium,... http://t.co/T8cp1gL642', 'いつもはANAラウンジなので、比べるとUAラウンジはしょぼい、、 (at @United Club) http://t.co/TKeXeEKu4y', '@Colbyodonis @ERINYVONNE @united wow que Pena', 'RT @four33sports: Adan Janazuj is a 17year old winger who is a star in the making @UNITED he is legible to play for Belgium,... http://t.co…', 'More time in bed.  @united flight 36 two 1/4  hours late into #edinburgh http://t.co/emrUjVAHiu', 'Adan Janazuj is a 17year old winger who is a star in the making @UNITED he is legible to play for Belgium,... http://t.co/WdFtaAnLa3', '@mikulaja @REALChaseAdams @SMSJOE @BethGrangerSays @Galactic @united American carrier are all pretty poor unfortunately', '@united My party of 9 had a terrible experience flying today. ALL our luggage is missing and have been sent to the wrong destination. #upset', '@mikulaja @TomMoradpour @REALChaseAdams @SMSJOE @BethGrangerSays @Galactic @united #United is awful. #Sears is worse!!! #custserv @sears', 'Increasingly convinced that @united systematically fail to credit partner flight miles. Increase hassle = give out fewer miles and benefits.', \"@TomMoradpour @REALChaseAdams @SMSJOE @BethGrangerSays @Galactic  y'all should tell @united to get real w their #custserv\", \"@united Thank you but I'm now home. Just next time, don't cancel my original connection please!\", \"@united I want a call with my credit in the next 24.I know offshoring jobs and bad CS are cost saving measures,but they don't kept customers\", '@united I already did', '@united Love this! Answer the positive tweets. Ignore the negative ones. What a business plan. \"We\\'re not happy \\'til you\\'re not happy.\"', '@united reason for delay = aircraft was closed without the captain jet bridge reattached 45mins after dept 4 captain to board #embarrassing', 'RT @united: @GucciClass1A Looks like you are on your way. Let us know if we can assist you. ^LS', 'You dont even want to know how bad this @united flight was! (@ Colorado Springs Airport (COS)) http://t.co/PQVLXbll2H', 'Thank-you @united - just saw your DM and the staff at airnz are just awesome! Saved the day', \"RT @united: @raffamadrid Beautiful. Who doesn't love San Francisco and coffee? Have a wonderful flight. ^MK\", \"@united Understand that, but your call center rep (outsourced, I'm assuming) is now accusing me of being a liar &amp; has me on hold for 20 mins\", '@TravlandLeisure when in SF got to go to @tacolicious @united', \"@united since I'm trapped here, i'll take pictures and post them on the internet for you and maintenance.\", \"@united A) bad dev work that it only accepts the entry once B) terrible cust serv, per usual. I'll fly Virgin in the future if I came. Thx!\", '@FreemaOfficial @united lol I think you can assist the lady with getting her bags you know.......doubt she posted this cause she was bored.', '@united Now I\\'m trying to claim my \"customer service credit\", and y\\'all are saying since I didn\\'t make an immediate selection, I forfeit it', \"@tomcoates @united indonesia's 'budget' airlines have better seats, legroom, facilities. also, this plane is *filthy* #UA862\", \"First time i've ever flown @united . We haven't even left the ground and I decided 'never again' - what a terrible service.\", 'Vacation in Hawaii is over - @ Kona airport waiting for @united flight to Denver. http://t.co/i9hSYss8LM', 'I just landed and someone in here farted CC: @united', '@KristenRitter @LifeFromAbove @StineStephens Some amazing stories. Like when we were up at 2 am hanging new @united signs up at #SFO ...', '@maggielang @LifeFromAbove @StineStephens @united what an axing story!! Wishing them a lifetime of happiness!', 'I was right, best @united crew that I can remember in a long time.  Kudos to them', 'Pleasant evening flight home from San Francisco. Thanks, .@united crew of UA1483!', 'RT @jtmoney4421: @HermieSadler @united hermie u have no luck with flights my man have your brother hook u up with a private jet lol', \"Some years ago I introduced @lifefromabove &amp; @stinestephens as we formed @united 's new brand team. Tonite they got married. Congrats!! &lt;3\", 'Forever alone @united square mugging. #grilledfish #rosti http://t.co/tMY667Ctww', 'Flight was delayed five hours, but was pleasantly surprised when I landed and had an apology and $75 voucher in my inbox. Thanks, @united!', 'Check out my review of the new @United club in SAN on LoungeTi.me, the Airport Lounge Guide http://t.co/Dw3PWL431i #PaxEx via @LoungeTi_me', 'Wow I got @FreemaOfficial responding to my tweet. And @united following me. I just. Wow.... ❤️❤️❤️❤️', '@HermieSadler @united i wouldnt call being in chicago \"stranded\", its a fun place to be! well every now and then, in small doses lol', '@HermieSadler @united hermie u have no luck with flights my man have your brother hook u up with a private jet lol', 'RT @HermieSadler: Thanks JGR for the ride back to NC after @united canceled ANOTHER flight and offered to strand me in Chicago.', 'RT @KnayandSfay: Half a year late and I still hate @united  ✈ #gimmeadeal #impissed', 'Thanks JGR for the ride back to NC after @united canceled ANOTHER flight and offered to strand me in Chicago.', 'Half a year late and I still hate @united  ✈ #gimmeadeal #impissed', 'RT @united: Name the drum in our Orchestra ad w/ #flyerfriendly for a chance to win Premier Access. http://t.co/MYqOSHivVf http://t.co/Ur41…', '@united indeed, perfect conditions !', '@IntlFlyer @united @Delta The delta shops has great prices. ^RE', \"@united Scott is an asset to your call center.  Very empathetic and helpful.  I'll be flying United more frequently. Thank you.\", '@airlinegeeks The @United striped beanie is cool or the shoulder backpack! I just bought the soft shell jacket on the @Delta shop! #avgeeks', \"@FreemaOfficial @united I'd ask if @TSA knew about this, but they're probably short staffed. #TeaPartyShutdown\", \"I am thinking of buying something on the @United shop, but don't now what to buy. Any suggestions? ^RE\", 'Wanted to share a great experience w/ @united rep Scott Black. He was very willing to help out whereas Amarisa at @USAirways was not at all.', 'RT @RangersRul: @united #flyer friendly timpani', '@FreemaOfficial @united how are they even still in business #worstairlineever', '@FreemaOfficial @united I love you please notice me...', \"How many times a day do passengers use connecting flights? Thousands! &amp; u still haven't mastered the art of gettin their bags on too @united\", 'Fantastic customer service from @united employee Dylan Shaw, @Dulles_Airport, #thanks!', 'Is @United trying to lure @piersmorgan from @Delta? A fawning article in @hemispheresmag suggest so! #airlines http://t.co/mcQK3tgpml', 'Perfect finish to a dinner on @united. Offsets all the calories burned running through EWR. http://t.co/pRH1V6tYnF', '@united ha, not your fault I didn’t like the movie. Great flight, thanks for the upgrade', \"Haven't yet taken off but I can tell the crew of @united flight 522 is going to be awesome!\", '@united UA964 &gt;6hrs late, &gt;2hrs on tarmac, connections missed, still waiting to leave. Business trip massively impacted.', \"@united  I haven't forgotten you. Just gathering receipts and building my case #thisaintoveryet #iwillhavesatisfaction\", '@united ok', 'Thanks! Please take “Now You See Me” out of the movie rotation. RT @united: @cuppycup Congrats on the upgrade. Have a great flight. ^MK', 'Hey @united, trying to fix a major customer service issue with an auto-bot response is just about the dumbest thing you can do. #irate', '@AirlineFlyer @ssegraves @united one of my fav articles: http://t.co/X6z1fcC9fy', '#Friendly RT @ssegraves: Disappointed in @united. Tons of misconnects tonight and all of the clubs are closed.', 'Disappointed in @united. Tons of misconnects tonight and all of the clubs are closed.', '@ssegraves @airlinegeeks @united unacceptable. If there is a bird in the air or on the ground, there better be crew to service them.', \"@united DM s not working, mails to the LHR team not coming back, what's next with my mishandled baggage claim ? #disappointed\", '@united the least united could do is provide sometime of voucher', '@united I literally could have driven to kc by the time were going to get there', 'RT @ssegraves: We arrive on @united at Dulles with tons of connections. No ground crew to tow us in. Like a kick in the gut.', '@ssegraves @united That really disappointing because Dulles is my local airport. *RE', 'We arrive on @united at Dulles with tons of connections. No ground crew to tow us in. Like a kick in the gut.', 'Nice ! @united we have a flight &amp; a scenic sunset over KFSO ! #avgeek #avgeeks http://t.co/AbFtzdRso5', '@united for reference, I cleared this morning for this flight http://t.co/zHmYgXDfis', \"@united I am a Plat. Why haven't I cleared? http://t.co/btvWLWWh7i\", \"Uh oh.. I found the @HammesNotreDame catalog I'm about to earn some @united miles but go broke at the same time! http://t.co/GFlDYMRLnC\", '@united timpani', 'RT @unitedsux: @united yeah you are pretty gay', \"RT @GeorgeGitchel: Worst part was, @united didn't even announce the cancelation until asked.  Now waiting in line with 300+ for rebooking. …\", \"@united thanks a lot for quick response. In my case it was one week ago, so it doesn't help if still I report my loss ?\", '@united after today\\'s horrible treatment in Houston of all the passengers going to Vegas, are you still claiming \"we r the best\"?', '@united thanks!  Hoping I win during this months contests!  Love that you are doing it!', '@united stuck on UA694 after 4h delay. UA interested in position their jets then getting customers to destinations.  3rd 777 with problems', \"@farktronix @thermalia and that's assuming @united actually confirms my trip tickets. 2.5 hours and counting.\", \"@united Oh, I didn't fly with them, just worked with them on the ground. They were flying a football team.\", \"Generic: “@united: @Angiologist We know that delays can e annoying. We'll get you there as soon as we can. ^MK”\", '@united  otherwise she will be sleeping in airport tonight! Very unsatisfactory after she was left at wrong gate. Becky unwilling to help.', \"@united, how about a free pass to the united club?  After dealing with your exceptionally rude agent, I think that's the least you could do\", '@united  otherwise she will be sleeping in airport tonight! Very unsatisfactory after she was left at wrong gate. Becky unwilling to help', '@united arrived @ NRT found my luggage cracked and broken. How do I process a claim?', '@united  would like to get Asuncion Quispe on 9 pm flight to dfw. Missed her original flight as she was left at wrong gate! Please help', '@united @TomReis1 would like my MIL on 9pm flight tonight', \"@united If I wanted to pay $14 for a drink, i'd go down to the regular airport bar and pay $9.\", \"@united My concern is that I paid $50 to get in, and now you want me to pay more for a decent drink. I'd buy annual pass if no nickel &amp; dime\", '@united I have contacted customer care. I hope United will help @AlchemyPictures produce a documentary for a charity called One Heart', '@rbranson well, @united are having a hard time getting a hold of their design firm... http://t.co/Qky1ehrZST', 'Trying to get to #viva13 but @united flight delayed. #newarkairport http://t.co/odvsJgkJ7b', '@united finally got my flight rebooked  and your customer service person tried to do as much as possible', '@united and the national flights were a nightmare too, the flight wwas late, your staff is ruuude', '@united I went to Colombia last month with United, it was horrible, both going there and coming back here', 'RT @airlineguys: The @United w/ \"tulip\" of course! RT @SpeedBirdHD Which #747 carrier would you rather fly on? #Boeing  #AvGeeks http://t.c…', 'Really @united, could you have LESS leg room?!? http://t.co/CbTSuQMnK4', '@united hortible staff in the Salt Lake airport, and your planes are the smallests and older for international long flights', 'Can your muscles move a 737? Hundreds pull plane in Newark to help Special Olympics @united  http://t.co/C6esGc6XZn', 'As the line grows longer still, 3 @united customer service reps just left for the night.  Just gets worse...', '@united And I need a window seat. (Seeing the ground helps me keep calm)', '@united when will you announce the winners each day?', '@united when I checked in online, it said my flight may be over booked and wouldn’t let me pick a seat. I have really bad flight anxiety', \"@united Once again, it wasnt the delay. It was the lack of information OF the delay, which clearly  United had and passengers didn't.\", \"Yo @united, I'm starting to feel like Tom Hanks in 'The Terminal'.... Please let me go home..\", '3,2,1 go! (at @United Club) http://t.co/7de8Gswz6i', '@united Unbelievable lousy service no way to treat an international senior citizen,,,typical airline failure!!!!!!!', '@united MAJOR FAIL! 72 YO MIL abandoned at GB Intercontinental Airport for the night thanks to Becky!', '@united I paid $700 and got nothing.I cannot re-book ticket if cannot go to country. Get it? Refund or credit is fine, which you denied.', '.@united are \"looking for a plane\" for us. Did anybody see one lately? #lostandfound', 'Took a cue from our brilliant friend &amp; brought chocolates for @united 925 crew! @daynasteele It pays to be nice :) @norcalwhiteboy', '@united buyer beware fr United Air.  No refund for tix purchased and travel visa denied. Extrmly disappointed United stole $700 of my money', \"I'm at @United Club (Guarulhos, SP) http://t.co/vxxVdyG74L\", 'Just in: Deplaned from @united after \"light\" problem developed to hydraulic issue. #willwegetfreefood?', '@COFlyerCLE @united They have been up to this point. Great staff workin tonight', 'This is what a regular coach seat looks like on @united. #sardines http://t.co/ZxHHaOHvVE', '@VinnieP52 Safe flight.  The @united people in CLE will take great care of you!', \"RT @GeorgeGitchel: Worst part was, @united didn't even announce the cancelation until asked.  Now waiting in line with 300+ for rebooking. …\", \"Worst part was, @united didn't even announce the cancelation until asked.  Now waiting in line with 300+ for rebooking.  #customerservice?\", 'The new @united club in Seattle is downright spectacular. Now if only the good drinks were free. $3 for a Heineken is a regular bar price.', 'RT @vicegotbeats: Recognize Grind feat. Kawand Washington of http://t.co/BnVxS11wou | http://t.co/IjcZ7mqTdh http://t.co/40TBWuivLw @United…', \"3 delays, many hours, and now canceled flight in Chicago.  It took @united 3 hours to tell us the plane hadn't left its origin. #pathetic\", 'Chicago @united http://t.co/ICnHL0KLUi', '@united thank you. Sent DM', \"Hey @united why if you guys delay my flight I don't get money back but if I miss my flight by 5 mins I have to pay you more money? Terrible\", '@united One of your birds in on a charter flight. Nice crew to work with. http://t.co/tlmLn0efnR', '. @united and @SAS are Star Alliance partners but they can’t mange to call each other at SFO airport - was running between them #fail', '@KayleaNixon @united Did they say how much longer?', 'Yay! RT @cuppycup: Well, they just came and upgraded me to First Class so maybe @united is following me.', '@united big bunch of idiots I have ever had to do business with. tried to book a flight 5 times, and each time I get an error.', 'Well, they just came and upgraded me to First Class so maybe @united is following me.', 'Dear @united Thanks for making my trip 100x more stressful just though the online check-in process. #flightanxiety #overbooked', '@KayleaNixon @united Hopefully u take off soon,I feel bad for u :(', '@intentionalTJS @USAirways @staralliance yep, had the same experience yesterday. And, I booked through @united. Sorry friend!', 'Liking the new @united seat design for 737/CRJ700 - hope Airbus gets them too https://t.co/LC7gnMdKnM', \"@united never mind! All good! That's was quick! http://t.co/lgsI5LsQ8e\", '@united finally got through on the phone, and now sorted - thanks.', 'My flight is still on the ground, delayed 4 hrs &amp; the pilots just came around w/ beverages. I ❤️@united! http://t.co/x9G7YESt0y', '@united: Thank you for driving our bags toTVC! @bigfin Matt, your request is better suited for onboard/gate staff. Please inquire with them.', \"@united I'm currently on UA659 delayed in YUL. Connecting to UA511. Will they hold the aircraft?\", 'The @united eco skies plane is outside the SFO lounge window. | http://t.co/FD83H23kjg', '@united flight 450 to OMA. Row 30 seat D busted arm rest. http://t.co/3hktD7EcvJ', \"@DaleDudley You weren't kidding about @united and their terrible, terrible customer service. Almost missed my flight home because of them.\", '@united i know but at least you can makwe sure i have a hotel booked in houston tonight, rec C64BTH it was a mechanical problem by you guys.', \"RT @united: @mariosantana (1/2) Unfortunately, we can't reimburse you for the missed hotel night. We can assist you with rebooking a differ…\", 'Hate u @united cancelled flight again, lost upgrade, 22 hrs in hell ahead of me gold status why do I fly with you??', 'Landed back on Maui. Mahalo @united Great crew - only drawback was delay.', 'Great customer service exp today w/ @united rep at @CHOAirport. Flight to Dulles delayed, got me &amp; 8 others cabs to DC for flight home.', 'Waiting for Hou - Gru flight (at @United Club) http://t.co/s2h42zwdXL', '@sideshowg @united @GoingPlacesCLE Did he buzz the tower?', 'RT @MickieJames: My love/hate relationship w/Canada. Love 2 have me. Hate letting me in. Love/hate w/ @united &amp; my luggage. Love me 2 pay. …', '@united   email contact for billing?', '@thingsMChates also @united when they are too stupid to treat their best customers properly', 'RT @DFWHeavy: A @United #Boeing 787-824 [N27908] #Dreamliner landing on 34 @CFWMeacham on October 05, 2013: http://t.co/Tq6nLc2JfU #avgeek', 'RT @DFWHeavy: The @DenverBroncos @United 757-324 ]N75854] charter landing on 36L @dfwairport on October 05, 2013: http://t.co/hdP5NaBioe #a…', \"@united sitting on UA681 with rolling delays. No WX issues now. Capt doesn't know why the delay and company won't tell him. Not friendly.\", \"@united still hasn't cleared\", 'I should have taken the private jet to Chicago. @united &amp; this weather is going to make me miss preaching in the morning at #BiG', 'Sweaty, starving, and no time to stop at the bathroom. Thanks @united, this is exactly how I wanted to end my relaxing vacation.', '@united Thanks for a great First Class experience today from RSW-CLE. The mushroom soup and chicken wrap were delicious! #flyerfriendly', '@united #GameOn', \"RT @united: @jamisonstrain Glad you had a great time in ATL. We're wishing you a great flight home to Texas. ^MK\", 'a REALLY last-minute aborted landing + 50 min late arrival...and I couldnt be happier.  Tnx @united for getting me home safely. #BadWeather', 'Flew LHR-ORD on @united today in business class.  All I have to say is WOW. #LovedIt', 'A @United #Boeing 787-824 [N27908] #Dreamliner landing on 34 @CFWMeacham on October 05, 2013: http://t.co/Tq6nLc2JfU #avgeek', 'My @united boarding pass says 5:30pm is boarding time- Gate is empty of staff. Gste is current. Flight is on time.  What are we missing?', 'The @DenverBroncos @United 757-324 ]N75854] charter landing on 36L @dfwairport on October 05, 2013: http://t.co/hdP5NaBioe #avgeek', 'RT @gregde: Nicer than biz on @United http://t.co/7n6vOVPEwj', '@united I used to track flights on Paageonce now Check app Trip Tracker.  You now block it now.  Please unblock this service.', \"We're flying high! Check out the 40 page #Newark feature in @United Hemispheres &amp;find out why Newark's rising http://t.co/gnJpPRpsMC #Travel\", '@united @SCFCmedia Thank you very much !!', '@united thx folks.  C u again in 4 days.', 'Thanks for a great week ATL!! This Texas boy is H-Town bound!! ✈️✈️ #wheelsup @united @… http://t.co/hR9tYinn3d', \"@united lax to ewr redeye seat recline doesn't work. 2nd time in 2 months-Replace the seats-not pleased to be a premier gold member\", 'RT @christinercoy: I hope to never fly @united again.  Had to pay for my bag and then they lost it.  What a bad deal.  #Badservice #dissapo…', 'RT @christinercoy: I hope to never fly @united again.  Had to pay for my bag and then they lost it.  What a bad deal.  #Badservice #dissapo…', 'RT @RKimberling: \"@TexasTechVideo: Headed back to the lbk.  #wreckem http://t.co/pn5ZsdLX7U\" Thanks for flying my Red Raiders @united! #5-0', '@AirlineFlyer @WanderngAramean @united still saw a lot of tulips out there today, including on a 767-300.', '@MrMelz420z @saefarq @united I thought they were just offering it for the players', 'hat offer was for the whole college?', \"Thank you @united for playing #UGAvsTENN in the club. You're my favorite :) #EWR #GoDawgs\", '\"@TexasTechVideo: Headed back to the lbk.  #wreckem http://t.co/pn5ZsdLX7U\" Thanks for flying my Red Raiders @united! #5-0', 'RT @christinercoy: I hope to never fly @united again.  Had to pay for my bag and then they lost it.  What a bad deal.  #Badservice #dissapo…', '@MrMelz420z @saefarq @united as they should. Law enforcement &amp; military.More companies should help those who help us the way they do.', \"@ablondebabe @saefarq @united I'm talking about the university not the players\", \"@united It's mostly just that its too high given that the avg. price per mile is about 8 or 9 cents per mile, aprx $2000 per 25,000 miles\", 'The best part of sitting in the @united Club Lounge at SFO is watching the planes taxi past the window. Just saw @lufthansa A380 go by.', 'I hope to never fly @united again.  Had to pay for my bag and then they lost it.  What a bad deal.  #Badservice #dissapointed #Ineedclothes', \"@MrMelz420z @saefarq @united hooking people up that don't need it?!?!! Those who put their life on the line for us,don't get paid as much\", 'Just watched guy w orange sticks guide in this @united plane... quite poetic actually.  #BeautyIsEverywhere http://t.co/14pb7T1cnV', '@united I have completed my submission. Thank you for the opportunity to share my experience.', 'RT @FeedingAmerica: Thank you @united for participating during #HungerAction Month!', 'In the midst of packing, and get a text saying my initial flight tomorrow is cancelled. @united website is all sorts of fail; phone is worse', 'A little bit of history for @united fans. #avgeek http://t.co/c6MW4XXEhF', '@united timpani #flyerfriendly', 'RT @united: Name the drum in our Orchestra ad w/ #flyerfriendly for a chance to win Premier Access. http://t.co/MYqOSHivVf http://t.co/Ur41…', '@AirlineFlyer @WanderngAramean @united @FakeUnitedJeff fake united Jeff will be so proud', 'RT @MercedesTouro: Great flight @united to NYC to see my 1st Grandchild and a 4-0 win for @SCFCmedia   . #greatday', '@united I am a gold elite  - 25 years and counting - your Manila office for mileage plus is causing me to never fly your airline again', \"Alright, @united, get my sister to CDG safely. She's the only one I have! #ualpilotskids\", 'Great flight @united to NYC to see my 1st Grandchild and a 4-0 win for @SCFCmedia   . #greatday', 'RT @dallant: Once again, my fellow travelers gave me the CSOUAPS Award (Coolest Socks on @United PS) http://t.co/Cy8Fmyk7gg #1K', 'Di acara @united destroyer #1 http://t.co/szRqvnAyFn', '@united thanks! Cross your fingers that my cashing miles gets me an upgrade.', 'Good man Seth!  MT \"@WanderngAramean: Pretty sure that tonight will be the first time I ever buy LiveTV programming on a @united flight.\"', '@united Thanks! It was a long rough day, but my agent at DIA was fabulous and got me on standby!', \"@WanderngAramean @united Gators? Really? Didn't they lose their QB? Although I can't fault college pride... will be rooting for Notre Dame!\", 'Pretty sure that tonight will be the first time I ever buy the LiveTV programming on a @united flight. Go Gators!', 'Nicer than biz on @United http://t.co/7n6vOVPEwj', 'Browse the gallery of New Yorker covers and cartoons in the @United Lounge at The Cell - open until… http://t.co/K3FD2DWe2l', '@united Flight Attendant Katherine aboard UA343 KEWR-&gt;KMCO today deserves special mention. Exemplary #service', \"@united The 2+ hour delay didn't come out of the blue. You knew. We didn't.\", \"@united But you didn't.  You had to have known about the  fog delay for the plane's previous flight well ahead of its next flight (mine).\", '@PaulaJacobson also @united does MSP-SFO now I believe.', \"I'm on the @nanog charter flight...or so it seems. Hi everyone from IAD-PHX on @united\", '@united good to know. Thanks!', 'Once again, my fellow travelers gave me the CSOUAPS Award (Coolest Socks on @United PS) http://t.co/Cy8Fmyk7gg #1K', '@united great flights today with United about to break the 300k mark. On the way to a million!', \"@wphaup I'm plannin an Epic Race w/ @VailResorts I need @united help to make it fly. Got 10 mins? http://t.co/TyGaxZQ78i\", 'RT @bgolbourne: So everyone keeps saying. I just has to buy a new one. “@united: @bgolbourne.  If you completed the lost item form, we will…', '@united ok, thanks.', 'At least one other person on this @united flight headed to #WorldRoutes', 'Today I found out why @united will always be known as the company that broke a guitar and treats their costumers like sh*! Thanks, @united.', \"You're welcome @united, ^MO.\", \"For some reason, today's @united flights have had the september hemispheres (in flight mag) on board, not october.\", '@CRC_III @united that sounds about right. They treat their customers like #homeless beggars. United is the #WorstAirline ever!!!', 'Bad experience flying with @united and @Lufthansa_USA  @united takes forever to get refund processed!', 'Currently in @united lounge. Hydrating pre flight. Already seen a book industry friend.', 'RT @MarkFrisch10: @united @Freestyleandrew Nice! Hook him up!!', 'RT @united: Name the drum in our Orchestra ad w/ #flyerfriendly for a chance to win Premier Access. http://t.co/MYqOSHivVf http://t.co/Ur41…', \"@VirginAmerica Not your fault! 2 tweet series re: how @united sux, u missed tweet 1 ;) I could've spent a few hundred more to fly virgin...\", 'RT @FeedingAmerica: Thank you @united for participating during #HungerAction Month!', 'RT @BizTravelerNA: .@United unveils new signature design for its seats: http://t.co/WS7Qca92Zr #BizTravel #Airlines', 'Nada del otro mundo!! (at @United Club w/ 2 others) http://t.co/gDjGHxluI1', 'Yup. RT @nyc2theworld: @joelfreak @WanderngAramean @united EWR airport rail station...i recognize the dunkin doughnuts.', \"Thanks for canceling my MEL to LAX flight @united. You're helping me get home to NOLA four hours earlier via @qantas! #PlanB\", '@united, had a good time at #AirportDay. #EWR http://t.co/eKAoGtjEEc', \"@united ok, thanks. Does that mean you can ticket their premium economy cabin with miles? If so, what's the redemption rate. Thanks.\", '@joelfreak @WanderngAramean @united EWR airport rail station...i recognize the dunkin doughnuts.', 'About that Tesla Model S that caught fire… not looking so hot for Elon Musk to offer his help to @united  http://t.co/jj9hhjyST0', \"We'll do what we want, We'll do what we waaant, We're Man United, We'll do what we want. @united #GGMU\", '@united Thanks they book me ok. No way to get there today, but hotel in Sjo said will charge the night', 'Last day of #gpbrisbane then flying back tomorrow. Fingers crossed for an upgrade to flatbed for my SYD-&gt;LAX leg. @united ;)', '@alexisbeffer @lululemon @united @24sevendance how you will be in Dallas! You can stay with Tana!!', 'Thank you @united for participating during #HungerAction Month!', '@united yes, but my question is whether United can ticket that fare bucket for travel with Air New Zealand?', '@united ua4439 delay makes me miss my connection to Costa Rica, so getting there tomorrow, but the hotel there will charged me the night.', '@united Reservation in BCJRTC. Most concerned about making the LAX to MEL leg, as delayed 75 minutes leaving ATL for OR', 'hanks', '@united yeop.  Have that.  Thanks.', '@united Thanks for trying to sell me an upgrade for $1200 then hooking it up for free when I declined it. #nicetry #bestairline', '@united @Freestyleandrew Nice! Hook him up!!', '.@United unveils new signature design for its seats: http://t.co/WS7Qca92Zr #BizTravel #Airlines', 'My @united flight has been canceled from Houston to London Heathrow!Any chance of the world champion gettin booked in business 4 the next 1?', '@united thanks for your response JP.  Could you please DM your contact information so I can email you further information?', \"@united is there a number to call to speak to a real person about a delayed flight and connections? Your IVR doesn't understand Australian\", '@united @nomoredebts_org Me and my luggage arrived on time! Thanks for the tip to have the agent check that my luggage was tagged right!', '@united timpani #flyerfriendly', 'Remind me never to connect at IAD again. The labyrinth at Knossos has nothing on this maze! @WanderngAramean @united', '@united timpani #flyerfriendly', '@betespora @united woohoo', \"RT @united: @go_combs We're glad you like it, thanks for flying with us.^AB\", 'Hard to resist better times &amp; lower cost of @united in SFO when booking but often regret it when flying,CUN check-in http://t.co/jaPundUkXc', 'Thank you @united for upgrading us to the premium seats so we could sit together :) #lovethelegroom http://t.co/pnjrTGSmxL', 'RT @NickfromIslands: Complaining about an inept, clown-college-staffed airline (I.E. @united/@AirCanada) is sooooo 2010.', '@szakacsashley @united finally made it, 4 hour flight that turned into 7 1/2....I appreciate the apology but sadly you have lost a customer', '@WanderngAramean @united Where?', 'Waiting on my connection to SFO (at @United Club w/ 2 others) http://t.co/7FmzSwWoNF', \"RT @united: Today's 30 Days of Friendly giveaway is over. Check back tomorrow for more.\", \"At Washington Dulles airport about to leave on @United for Brussels to work on the quiet car issue.  It's time to make the streets safe.\", '@united 30 Days Of Friendly - is that your standard amount of annual customer service? Because 335 Days of Useless might be more accurate.', '@united I entered last year. I won a night on a bench in Denver Airport.', '@united please may I have a follow ??', 'Baneasa Cricket Club Romani', 'he Match will start 2:00 PM - Baneasa Cricket Club Romania Vs @United Cricket Club... http://t.co/85F48r4okW', 'soooo excited for #NYC @MattChandler_ @kattw3ll @united', '@united so who won?', \"RT @united: Today's 30 Days of Friendly giveaway is over. Check back tomorrow for more.\", '@WanderngAramean @united Leave them, we like them just the way they are. :-)', \"RT @united: We're proud to be a sponsor and the exclusive airline partner of the 2014 #GayGames in Cleveland. @GG9Cleveland http://t.co/sDl…\", 'Thanks, @united. Flight 5217 from Queretaro to Houston delayed.', '@united connecting flight CM643  panama-MDE on 12/17/13, was it cancelled by ur partner(Copa),getting mixed information from ur repshelp!', '@united wants me to finish my flight before giving me any real answer about my reimburse. The best CS you could wish. For your enemies.', \"I'm at UA 275 @United (ORD-LAS) (Chicago, IL) http://t.co/cDyT0jtxdH\", 'Yeah @united. For more \"friendly\" skies, why don\\'t you stop being so stingy on seat pitch! http://t.co/KgbgGFGQ6z', \"RT @FlyerTalk: Guide to @United's Premier Status Levels http://t.co/AlrAeKaMFz\", 'RT @blootch: Spotted one of the S Class vehicles used to transfer @united Global Services members at ORD http://t.co/yTY429TEEW', 'RT @AirlineFlyer: Is this a joke? How many years now? RT @WanderngAramean Time for these @united kiosks to get the new branding. Oops. http…', 'Spotted one of the S Class vehicles used to transfer @united Global Services members at ORD http://t.co/yTY429TEEW', \"@WanderngAramean @united At EWR? Didn't think those still existed, particularly in a hub. Cool.\", 'Is this a joke? How many years now? RT @WanderngAramean Time for these @united kiosks to get the new branding. Oops. http://t.co/vWolQPx015', '@united Timpani #flyerfriendly', 'The garden is open at The @United Lounge at The Cell. Perfect place to enjoy that Häagen-Dazs… http://t.co/AZFwTWw2Xu', 'Time for these @united kiosks to get the new branding. Oops. http://t.co/hTAikAgFWG', 'Holy shit @united... your hold music is EXCRUCIATING. The same terrible song, looping!? And the crescendo at the end is the WORST. I live...', 'Excellent!! RT @SweeterCherise: I have my luggage! Thank you @united for rushing my suitcase to me. http://t.co/GoBaI33hgX', \"A timpani drum is used in @united's #flyerfriendly ad campaign!\", '@united your code share flights suck 93c for a gold premier??? Seriously?', '@united i wish this was a reality #waitingforacure#impinkforoctober#walkingforacure http://t.co/9F6dXg6TOg', '@united Timpani #flyerfriendly', '@jacknicas Has any @united premium flier ever thought, \"Hemispheres just isn\\'t good enough for me. Not enough ads for overpriced products.\"', 'I have my luggage! Thank you @united for rushing my suitcase to me. http://t.co/0r9wlpyCfo', \"“@united: @ChristiBland We don't like delays either. You'll receive bag asap. Thank you for your patience.^JT @united kiss my ass\", 'my christmas list consists of @lululemon  and @united airline tickets to @24sevendance conventions. ha', 'RT @BChivu: @Sportsfeednow @united good perfomance 2half', 'Relax and have a drink in The @United Lounge across from SVA Theatre at The Cell #NYerUnited #NYerFest… http://t.co/80Rnjyzdff', '@united  timpani #flyerfriendly', '@united  per wiki :kettledrums, timpani, temple drums, or simply timps. #flyerfriendly', 'Delayed flight, rerouted, rechecked baggage, went back thru security, ran to meet flight...made it to Hayden...no BAGS! Thanks @united', '@united Timpani #flyerfriendly', '#PaxEx RT @united: @gonzalu The A319/A320 are scheduled to have outlets installed from the exit row forward in 2014. ^JJ', \"@noplasticshower @united @nabilhannan Well I'm  a skippy guy but will stay with @delta as much as possible. Planes actually leave on time.\", '@Sportsfeednow @united good perfomance 2half', '@united #flyerfriendly timpani', '@united If you are flying internationally make sure you give time for customs.  Current wait time for US Customs at AUA is 2.5 hours', '@hadejumo @united thank you for checking-it should be here this afternoon', '@united kettle drum #flyerfriendly', '@united ^MK I can if you follow me. And thanks for responding.', '@united Bass Drum.', '@united #flyerfriendly Timpani Drum', '@united timpani AkA kettle drum.. #flyerfriendly', 'Hanging a field day in the all u can eat and drink excellent @united lounge @EWR before hitting the sunshine state! http://t.co/O0B4iYc5GU', '@united Timpani drum. #flyerfriendly', 'Just boarded our @United flight at #ORD - next stop for the #JumpSmokers: #NYC!!!!! (for a private party)', '@danieltyree @united sounds like a nightmare, hope u made it!', 'RT @airlineguys: A @united 787 in \"Friendship One\" livery? Yes! The \"tulip\" would be even nicer ;-) #avgeek http://t.co/Zst2lbFsA0', '@united Timpani #flyerfriendly', '@united no #USB or A/C outlets on A320 front seats? :(', '@united  timpani drum   #flyerfriendly', '@united #flyerfriendly bass', '@united timpani drum', \"RT @united: We're hosting the next 30 Days of Friendly giveaway for our fans and flyers from 12 p.m. to 3 p.m. CT today. Stay tuned.\", '@united PERCUSSION DRUM', 'RT @BlayneBeal: @united with a nice touch to the airplane this week. Wheels up to Kansas City! #WreckEm http://t.co/M4XlNP4C1A', '@united united lounge in san fran great view thx! http://t.co/U6ajBM8nDj', '@united delay Chicago great service puts us on different plane. Yay csr', 'Good news -  United unveils new #seat #desig', '', 'ttp://t.co/l1w9FqSCTE @united #travel #airlines', '@united Timpani #flyerfriendly', '@united still no update from my lost suitcase, its been 3 days, what do I do next?', '10/4 RT @united: @redsolediary Jennifer, what was the day of your flight? ^SL', '@united my mother and brother are flying with a star alliance airline can I add my frequent flyer # to their boarding pass?', \"RT @BrettGreene: Loved you in 80's; hope U can get back to that level of #custserv RT @united: @BrettGreene Thanks for sharing the news, we…\", \"Loved you in 80's; hope U can get back to that level of #custserv RT @united: @BrettGreene Thanks for sharing the news, we appreciate it.^AB\", 'my @united flight from DC almost turned in to Lord of the Flies. 2 delays, 2 planes, No AC, 1 screaming baby and grown ups acting like kids', '@united Timpani, I used to play one in school band :) #flyerfriendly', 'Dat striker called #Altidore is a big #goat he destroyed d #Sunderland# showing. #congrats @united, guess you guys were truly a beta #team.', '@united Baggage Claim  #addawordruinamovie', '@united timpani #flyerfriendly', '@united had great flights T/F san francisco no delays no problems Thank u', '@united timpani', \"@united Going around in circles at Burlington waiting for a UA gate to open. We're in a Q400 and could park anywhere. Must cost in fuel...\", '@united timpani', '@united thanks for the form response. #unitedsucks #useless #nocustomerservice', 'RT @sideshowg: Congrats to Capt. Paul who is retiring after this last @united flight  #1462 to @GoingPlacesCLE #BringItHome', '@jaymelamm @united agreed.  I miss Continental.  A lot.', 'Congrats to Capt. Paul who is retiring after this last @united flight  #1462 to @GoingPlacesCLE #BringItHome', \"Because flying coach isn't enough like being a sardine already? @united new thinner seats http://t.co/CeP4canBH3  via @consumerist\", 'RT @CMPunk: Every single voicemail is a delay. Flight was for 6am. Gets in around 2pm now. @united http://t.co/d66T3i3gTP', '@TorreElDorado @united @BOG_ELDORADO que', 'Hmm just heard @united mht gate agent blame atc/weather for delay of flt 4612. Equipment delay is b/c of late crew, not atc/weather', 'Just a glimpse of the @united nightmare yesterday. Still waiting my reimburse. I should just probably make a video! http://t.co/Oogmjn6gN7', '@united Timpani #flyerfriendly', '\"@united: Name the drum in our Orchestra ad w/ #flyerfriendly : timpani', '@united timpani drum #friendlyflyer', 'Hi @united I have a question. Are you able to ticket premium economy fare buckets with @AIRNZUSA via the phone?', \"@united @tarinaplin why do you keep lying to people saying that you are here to help? You're quite clearly not!! NEVER EVER!!\", \"RT @FakeUnitedAir: @OriginalHua @united @AlaskaAir United is just trying to remake #PeopleExpress again, maybe we'll add drop down seats fo…\", '@united thank you very much for the new handle cover. I just learned why I want it on my bag today from a great United Rep at JAX', '@united Guess is Timpani #flyerfriendly', \"@OriginalHua @united @AlaskaAir United is just trying to remake #PeopleExpress again, maybe we'll add drop down seats for the aisles!\", 'Hmmmm. Something and Coke. Whatever could it be?  @United. #chillaxing (at @United Club w/ 2 others) [pic]: http://t.co/uC1Hq5LhAo', \"@united It's gotta be Timpani, yeah? #flyerfriendly\", \"Wow. Sassy flight attendant @united  And we're just boardning. He's not even addressing an issue.  just scolding everyone.\", '@united excellent. Thanks!', '@rit @united can you repost this with #FirstWorldProblems', \"@jaymelamm @united I utterly loathe this airline. The worst of the worst. I'd rather walk.\", \"RT @jaymelamm: Nothing like @united's new boarding process to make you feel like a second-rate human. Amazing considering the $ of this las…\", 'Boom boom boom goes the Timpani! @United has always been #flyerfriendly.', \"RT @united: @maryszhi We're happy to hear this. Thanks for sharing your feedback with us. ^MO\", '@united I understand that, but do they also count towards Million Miler status?']])"
            ]
          },
          "metadata": {
            "tags": []
          },
          "execution_count": 8
        }
      ]
    },
    {
      "cell_type": "markdown",
      "metadata": {
        "id": "ScC5ge499IM8"
      },
      "source": [
        "You can read for example some tweets about Delta airlines:"
      ]
    },
    {
      "cell_type": "code",
      "metadata": {
        "colab": {
          "base_uri": "https://localhost:8080/"
        },
        "id": "3rg0Nu9e9IM9",
        "outputId": "f48567c8-e2f1-49c6-a8f4-afb332ac4ee1"
      },
      "source": [
        "archive_tweets[\"delta\"][:3]"
      ],
      "execution_count": 9,
      "outputs": [
        {
          "output_type": "execute_result",
          "data": {
            "text/plain": [
              "['\"@LAKings: Are you the #LAKings biggest fan? Prove it and win a trip on @Delta to see the Kings vs Rangers in NY - http://t.co/JXBc5kDXnZ\"RT',\n",
              " '@AneetharPweety am @delta state buh on ma way to benin city now',\n",
              " 'RT @iamdiddy: If you’re flying out of JFK on @Delta you NEED to check out the new @CIROC VIP lounge at @Delta terminal at JFK. http://t.co/…']"
            ]
          },
          "metadata": {
            "tags": []
          },
          "execution_count": 9
        }
      ]
    },
    {
      "cell_type": "markdown",
      "metadata": {
        "id": "9-dWEteC9IM-"
      },
      "source": [
        "In the following we will work on these `archive_tweets`, replace that in the line below with `current_tweets` if you want to use downloaded tweets instead"
      ]
    },
    {
      "cell_type": "code",
      "metadata": {
        "id": "qO407nji9IM-"
      },
      "source": [
        "tweets = archive_tweets # current_tweets"
      ],
      "execution_count": 10,
      "outputs": []
    },
    {
      "cell_type": "markdown",
      "metadata": {
        "id": "khZAVoZV9INA"
      },
      "source": [
        "To better deal with them later, we represents tweets into a pandas DataFrame with two columns\n",
        "- a `text` column with the text of the tweet\n",
        "- an `airline` column with the airline each tweet refers to"
      ]
    },
    {
      "cell_type": "code",
      "metadata": {
        "id": "6_q-5J0N9INA"
      },
      "source": [
        "tweets = pd.DataFrame(\n",
        "    {\"airline\": airline, \"text\": text}\n",
        "    for airline, tweetlist in tweets.items()\n",
        "    for text in tweetlist\n",
        ")"
      ],
      "execution_count": 11,
      "outputs": []
    },
    {
      "cell_type": "code",
      "metadata": {
        "colab": {
          "base_uri": "https://localhost:8080/",
          "height": 142
        },
        "id": "BVxwWYH79INC",
        "outputId": "a9016d00-0386-4a72-d222-251d34c6815a"
      },
      "source": [
        "tweets.head(3)"
      ],
      "execution_count": 12,
      "outputs": [
        {
          "output_type": "execute_result",
          "data": {
            "text/html": [
              "<div>\n",
              "<style scoped>\n",
              "    .dataframe tbody tr th:only-of-type {\n",
              "        vertical-align: middle;\n",
              "    }\n",
              "\n",
              "    .dataframe tbody tr th {\n",
              "        vertical-align: top;\n",
              "    }\n",
              "\n",
              "    .dataframe thead th {\n",
              "        text-align: right;\n",
              "    }\n",
              "</style>\n",
              "<table border=\"1\" class=\"dataframe\">\n",
              "  <thead>\n",
              "    <tr style=\"text-align: right;\">\n",
              "      <th></th>\n",
              "      <th>airline</th>\n",
              "      <th>text</th>\n",
              "    </tr>\n",
              "  </thead>\n",
              "  <tbody>\n",
              "    <tr>\n",
              "      <th>0</th>\n",
              "      <td>delta</td>\n",
              "      <td>\"@LAKings: Are you the #LAKings biggest fan? Prove it and win a trip on @Delta to see the Kings ...</td>\n",
              "    </tr>\n",
              "    <tr>\n",
              "      <th>1</th>\n",
              "      <td>delta</td>\n",
              "      <td>@AneetharPweety am @delta state buh on ma way to benin city now</td>\n",
              "    </tr>\n",
              "    <tr>\n",
              "      <th>2</th>\n",
              "      <td>delta</td>\n",
              "      <td>RT @iamdiddy: If you’re flying out of JFK on @Delta you NEED to check out the new @CIROC VIP lou...</td>\n",
              "    </tr>\n",
              "  </tbody>\n",
              "</table>\n",
              "</div>"
            ],
            "text/plain": [
              "  airline                                                                                                 text\n",
              "0   delta  \"@LAKings: Are you the #LAKings biggest fan? Prove it and win a trip on @Delta to see the Kings ...\n",
              "1   delta                                      @AneetharPweety am @delta state buh on ma way to benin city now\n",
              "2   delta  RT @iamdiddy: If you’re flying out of JFK on @Delta you NEED to check out the new @CIROC VIP lou..."
            ]
          },
          "metadata": {
            "tags": []
          },
          "execution_count": 12
        }
      ]
    },
    {
      "cell_type": "markdown",
      "metadata": {
        "id": "qKrg7s8f9INF"
      },
      "source": [
        "### Estimating sentiment using lists of opinion words\n",
        "\n",
        "Several methods and algorithms have been proposed in literature to estimate the sentiment of a document (or sentence), usually quite complex.\n",
        "\n",
        "To get started, we will use a trivial lexicon-based method which assigns a score by counting known positive and negative words in each tweet.\n",
        "\n",
        "Hu and Liu made available for download a list of about 6,800 words labeled as either positive or negative.\n",
        "\n",
        "- **Positive:** love, best, cool, great, good, amazing, ...\n",
        "- **Negative:** hate, worst, sucks, awful, nightmare, ..."
      ]
    },
    {
      "cell_type": "markdown",
      "metadata": {
        "id": "ZrgWberF9INF"
      },
      "source": [
        "We write\n",
        "- a function used to process word lists, ignoring lines either empty or starting with \";\" (comments)\n",
        "- another function using the first one to get a set of words contained in a named file"
      ]
    },
    {
      "cell_type": "code",
      "metadata": {
        "id": "BBxH-BSW9ING"
      },
      "source": [
        "def scan_hu_liu(f):\n",
        "    for line in f:\n",
        "        line = line.decode(errors=\"ignore\").strip() # strip() function removes spaces at the beginning and at the end of the string\n",
        "        if line and not line.startswith(\";\"):\n",
        "            yield line\n",
        "\n",
        "def load_hu_liu(filename):\n",
        "    with open(filename, \"rb\") as f:\n",
        "        return set(scan_hu_liu(f)) # set(...) is the build function to create a new Python set {}"
      ],
      "execution_count": 13,
      "outputs": []
    },
    {
      "cell_type": "markdown",
      "metadata": {
        "id": "mqbslQd69INI"
      },
      "source": [
        "We then download the two sets (one for positive words and one for negative ones) and use the latter function to load them"
      ]
    },
    {
      "cell_type": "code",
      "metadata": {
        "colab": {
          "base_uri": "https://localhost:8080/"
        },
        "id": "xAfuoln99INI",
        "outputId": "1ffecba3-d82c-48d7-b8c9-f75ea527229a"
      },
      "source": [
        "download(\"positive-words.txt\", \"https://raw.githubusercontent.com/unibodatascience/BBS-TextMining/3ad6643b698f652f200dfbf463a3cb49de8c0e9f/05%20-%20Opinion%20Mining%20with%20Python%20(part%201)/data/positive-words.txt\")\n",
        "download(\"negative-words.txt\", \"https://raw.githubusercontent.com/unibodatascience/BBS-TextMining/3ad6643b698f652f200dfbf463a3cb49de8c0e9f/05%20-%20Opinion%20Mining%20with%20Python%20(part%201)/data/negative-words.txt\")\n",
        "\n",
        "hu_liu_pos = load_hu_liu(\"positive-words.txt\")\n",
        "print('Positive words')\n",
        "print(hu_liu_pos)\n",
        "\n",
        "print()\n",
        "\n",
        "hu_liu_neg = load_hu_liu(\"negative-words.txt\")\n",
        "print('Negative words')\n",
        "print(hu_liu_neg)"
      ],
      "execution_count": 14,
      "outputs": [
        {
          "output_type": "stream",
          "text": [
            "Positive words\n",
            "{'pleasurable', 'rewarding', 'dashing', 'cleanest', 'promise', 'solidarity', 'bolster', 'smoothly', 'hooray', 'gorgeously', 'rightful', 'exultation', 'decisive', 'endorse', 'amenity', 'agreeable', 'elegantly', 'striving', 'cost-effective', 'steadfastness', 'sparkling', 'lucid', 'reputation', 'astonished', 'blameless', 'capably', 'congratulation', 'integrated', 'honest', 'interesting', 'glimmering', 'amicably', 'pride', 'enjoying', 'promised', 'graceful', 'pepped', 'encouragingly', 'streamlined', 'prestigious', 'overture', 'paradise', 'liberation', 'appreciative', 'expansive', 'leads', 'coolest', 'navigable', 'rejoicing', 'triumphant', 'enthusiasm', 'bonuses', 'worthy', 'righteous', 'relish', 'sporty', 'exalt', 'rapt', 'beautify', 'sprightly', 'gorgeous', 'valuable', 'thoughtful', 'undaunted', 'consummate', 'examplary', 'reform', 'interests', 'crisp', 'led', 'gaiety', 'important', 'empathy', 'undamaged', 'gallant', 'enthusiastically', 'glitz', 'compactly', 'magnificence', 'punctual', 'reaffirm', 'easing', 'wholeheartedly', 'encouraging', 'astonishingly', 'buoyant', 'effusiveness', 'serenity', 'masterful', 'wholesome', 'peaceful', 'gleeful', 'bountiful', 'pardon', 'valiant', 'enviable', 'excites', 'favor', 'goodly', 'immaculate', 'counter-attack', 'luminous', 'qualified', 'bonus', 'adroitly', 'creative', 'keenly', 'tops', 'gain', 'harmoniously', 'incredibly', 'reliable', 'productively', 'ecstasy', 'improved', 'festive', 'accurate', 'prudence', 'poeticize', 'brilliance', 'adoringly', 'flexible', 'kindly', 'angelic', 'proficiently', 'nourish', 'piety', 'upgraded', 'outshone', 'affable', 'convience', 'exceedingly', 'admirable', 'leverage', 'jovial', 'mercy', 'erudite', 'solid', 'mesmerized', 'guiltless', 'passion', 'energy-efficient', 'kindliness', 'bloom', 'fame', 'awestruck', 'humble', 'conscientious', 'humility', 'better-than-expected', 'affability', 'clears', 'reassure', 'talented', 'fabulously', 'continuity', 'thankful', 'reclaim', 'tantalizingly', 'feasibly', 'peach', 'accurately', 'sublime', 'clear', 'easy', 'loveliness', 'clean', 'endorses', 'godlike', 'unabashedly', 'low-price', 'eagerness', 'superiority', 'spellbound', 'beautiful', 'meritorious', 'dextrous', 'stylish', 'individualized', 'cleared', 'astoundingly', 'convenient', 'respite', 'greatness', 'blissful', 'loyalty', 'articulate', 'feat', 'dumbfounding', 'advantages', 'conciliatory', 'avidly', 'exceptional', 'beckoned', 'unselfish', 'joyously', 'radiance', 'remarkable', 'savings', 'gallantly', 'resourceful', 'maneuverable', 'ebullience', 'glitter', 'fortunate', 'stability', 'twinkly', 'hands-down', 'altruistic', 'revives', 'easiness', 'promptly', 'dedicated', 'adored', 'self-determination', 'intelligible', 'originality', 'affordable', 'bright', 'euphoria', 'deservedly', 'cool', 'majesty', 'triumph', 'alluringly', 'well-established', 'fashionably', 'swift', 'fantastically', 'loving', 'warmhearted', 'surpass', 'astounded', 'world-famous', 'upgradeable', 'cherub', 'reforms', 'pleasing', 'astonish', 'accessible', 'handsome', 'finest', 'appealing', 'gains', 'merit', 'stylishly', 'impresses', 'blithe', 'heartfelt', 'breathtakingly', 'firmer', 'flashy', 'usable', 'perseverance', 'heartwarming', 'unconditional', 'enhanced', 'lover', 'classic', 'respectfully', 'warm', 'noiseless', 'blissfully', 'dazzled', 'preferable', 'gooood', 'enrich', 'commend', 'contribution', 'inspirational', 'ideally', 'improves', 'inpressed', 'painless', 'fortunately', 'humor', 'noble', 'kudos', 'portable', 'gainful', 'amiability', 'appreciate', 'proud', 'bravery', 'appreciated', 'stately', 'terrifically', 'flourishing', 'brand-new', 'pamper', 'famed', 'witty', 'prefered', 'happier', 'awesomely', 'astonishing', 'dead-cheap', 'correctly', 'proven', 'redeem', 'upbeat', 'smiles', 'fascinatingly', 'wondrous', 'patriot', 'surreal', 'winner', 'patiently', 'victory', 'winning', 'self-satisfaction', 'intuitive', 'likes', 'calm', 'passionately', 'salute', 'civilize', 'instructive', 'virtuous', 'genial', 'awesome', 'glorify', 'precise', 'tickle', 'smile', 'abundant', 'softer', 'tantalize', 'cohere', 'faith', 'blessing', 'intricate', 'benefit', 'believeable', 'rock-stars', 'glad', 'achievement', 'rapid', 'adulation', 'amusing', 'amiable', 'diplomatic', 'remarkably', 'beautifully', 'elevate', 'astonishment', 'deginified', 'wellbeing', 'audible', 'suavely', 'advocate', 'stabilize', 'honorable', 'unforgettable', 'well-bred', 'merrily', 'illustrious', 'well-informed', 'affection', 'unbiased', 'topnotch', 'prudent', 'preferably', 'efficacious', 'assure', 'maturely', 'amazed', 'beneficial', 'wise', 'prominence', 'hardy', 'thumbs-up', 'sensational', 'eagerly', 'praising', 'bravo', 'pep', 'zest', 'considerate', 'high-spirited', 'meticulous', 'amuse', 'exuberance', 'wins', 'awed', 'marvelously', 'reconciliation', 'protection', 'romantic', 'daring', 'famously', 'glee', 'deserving', 'finely', 'hardier', 'ftw', 'delectable', 'fairness', 'luster', 'champion', 'variety', 'dignity', 'inviolate', 'friendly', 'faithful', 'plusses', 'poised', 'invigorating', 'knowledgeable', 'competitive', 'outstanding', 'righteousness', 'dazzling', 'autonomous', 'beckons', 'sociable', 'affluent', 'bonny', 'immense', 'pleasurably', 'well-managed', 'honesty', 'commendably', 'congratulate', 'elate', 'panoramic', 'fascination', 'amazingly', 'magic', 'top-quality', 'dotingly', 'pleased', 'chaste', 'idolized', 'stupendous', 'well', 'posh', 'rapturous', 'rejoice', 'succeeded', 'gladness', 'lovely', 'invincibility', 'refined', 'soothe', 'illuminati', 'reforming', 'spectacular', 'dominated', 'plush', 'recommended', 'flexibility', 'idealize', 'miraculousness', 'fashionable', 'cure', 'eases', 'impartially', 'tidy', 'justly', 'fond', 'miracles', 'deference', 'agreeably', 'reasonable', 'invigorate', 'sincerely', 'keenness', 'dead-on', 'titillate', 'overtakes', 'amaze', 'accomplishment', 'exquisite', 'principled', 'fortitude', 'impressive', 'won', 'resounding', 'permissible', 'smoothest', 'likable', 'best', 'non-violent', 'spotless', 'unparalleled', 'poetic', 'approval', 'temptingly', 'acclaim', 'unrestricted', 'desiring', 'enjoyable', 'cozy', 'neat', 'compact', 'tender', 'subsidized', 'transparent', 'tempt', 'enchant', 'marvelous', 'thriving', 'refine', 'champ', 'profusion', 'confidence', 'gentlest', 'neatest', 'cheer', 'satisified', 'timely', 'razor-sharp', 'novelty', 'vibrant', 'easier', 'fervidly', 'titillatingly', 'youthful', 'crisper', 'rewardingly', 'excited', 'nicely', 'support', 'effectiveness', 'satisfies', 'expeditiously', 'favorited', 'simplifying', 'easiest', 'gratefully', 'faultless', 'detachable', 'loved', 'engrossing', 'complement', 'restructure', 'gladden', 'compliant', 'courtly', 'mature', 'luxuriant', 'fervently', 'rosy', 'super', 'better', 'simplest', 'effective', 'accomplishments', 'greatest', 'protect', 'heal', 'gratitude', 'better-known', 'recommendations', 'efficiently', 'pleasant', 'awsome', 'redemption', 'rectifying', 'fondly', 'tingle', 'veritable', 'richer', 'agility', 'traction', 'quiet', 'danke', 'best-selling', 'swankiest', 'irresistibly', 'modest', 'upscale', 'useful', 'worth', 'empower', 'ardently', 'celebrate', 'ingenuity', 'polished', 'afford', 'dynamic', 'fancier', 'restructuring', 'elegance', 'nicer', 'tenderly', 'intimacy', 'ready', 'advantage', 'exceeded', 'uplifting', 'painlessly', 'heartening', 'recommend', 'triumphantly', 'hotcake', 'foolproof', 'fascinate', 'simplify', 'effortlessly', 'aspirations', 'earnestly', 'pretty', 'staunchly', 'simplifies', 'spellbinding', 'diligence', 'aver', 'elegant', 'upheld', 'enchanted', 'relent', 'glamorous', 'strikingly', 'venerate', 'admirer', 'feature-rich', 'happy', 'loves', 'robust', 'first-rate', 'steadiness', 'humourous', 'revel', 'love', 'kid-friendly', 'openly', 'fervor', 'jaw-dropping', 'dumbfounded', 'qualify', 'auspicious', 'tougher', 'obtainable', 'felicity', 'adore', 'gem', 'intelligent', 'rightfully', 'shine', 'sincere', 'roomier', 'charisma', 'cheapest', 'liberate', 'wonderfully', 'prodigy', 'honored', 'reverence', 'irreplaceable', 'pleasure', 'attune', 'successfully', 'faster', 'polite', 'revolutionize', 'stimulative', 'renown', 'outperforming', 'magnanimously', 'revolutionary', 'approve', 'sensationally', 'complementary', 'carefree', 'geeky', 'successes', 'flourish', 'inventive', 'nourishing', 'excellence', 'breathlessness', 'inestimably', 'vigilance', 'impressively', 'civility', 'trusty', 'energy-saving', 'prestige', 'desirable', 'jubilation', 'overtaking', 'courageous', 'rectification', 'commendable', 'beauteous', 'gratified', 'prodigious', 'lawful', 'first-in-class', 'enthuse', 'seasoned', 'spontaneous', 'innocuous', 'stupendously', 'sane', 'patience', 'impeccably', 'fascinating', 'improvement', 'willingness', 'excellant', 'eulogize', 'enlightenment', 'worthwhile', 'thrifty', 'peacekeepers', 'outstrip', 'paramount', 'handier', 'dummy-proof', 'resound', 'luxury', 'yay', 'multi-purpose', 'refresh', 'refreshed', 'unassailable', 'stimulate', 'entertaining', 'envy', 'ingenuous', 'praise', 'effortless', 'enticingly', 'enhancement', 'hopeful', 'expertly', 'helped', 'large-capacity', 'monumental', 'innovative', 'euphoric', 'warmth', 'grateful', 'issue-free', 'attractively', 'excels', 'vivid', 'jubilant', 'ecstatic', 'monumentally', 'worth-while', 'fearless', 'unfettered', 'evaluative', 'thoughtfulness', 'frugal', 'smartest', 'redeeming', 'zeal', 'feisty', 'proving', 'breeze', 'harmonious', 'convienient', 'excitedly', 'motivated', 'mercifully', 'empowerment', 'low-priced', 'progress', 'divine', 'rectify', 'exultant', 'audibly', 'hero', 'refund', 'soundness', 'congenial', 'happily', 'outstandingly', 'regally', 'favour', 'good', 'fancy', 'salutary', 'idolize', 'intimate', 'user-replaceable', 'avid', 'realizable', 'favored', 'spellbindingly', 'pampers', 'nurturing', 'self-respect', 'succes', 'beneficiary', 'miracle', 'prosper', 'valor', 'encouragement', 'gratifies', 'luck', 'comprehensive', 'exaltation', 'humour', 'unrivaled', 'positively', 'heroine', 'outwit', 'stable', 'receptive', 'effusive', 'praiseworthy', 'worthiness', 'resplendent', 'tranquility', 'steadfast', 'laud', 'sensibly', 'courageousness', 'well-intentioned', 'formidable', 'revolutionized', 'fav', 'elation', 'free', 'imaculate', 'steadfastly', 'renewed', 'regard', 'dazzle', 'self-sufficiency', 'unaffected', 'willing', 'diversified', 'cleaner', 'mind-blowing', 'wonder', 'insightfully', 'masterpieces', 'enrapture', 'restored', 'assuredly', 'skillfully', 'persevere', 'flatteringly', 'jolly', 'speedily', 'thrilling', 'nimble', 'apotheosis', 'credence', 'flatter', 'exhilarating', 'a+', 'personalized', 'accolade', 'abundance', 'energize', 'prefers', 'charming', 'enraptured', 'adorable', 'saint', 'righteously', 'believable', 'promoter', 'soothingly', 'lush', 'loyal', 'convient', 'sturdy', 'suave', 'endorsing', 'pleasantly', 'effusion', 'boundless', 'prowess', 'infallibility', 'illuminating', 'valiantly', 'ennoble', 'freedoms', 'trump', 'accomplish', 'prominent', 'reconcile', 'embolden', 'suffices', 'cooperatively', 'flawlessly', 'workable', 'saver', 'grandeur', 'pain-free', 'smitten', 'brainy', 'effectual', 'liking', 'brilliant', 'lavishly', 'invaluable', 'proper', 'rich', 'heroic', 'lucrative', 'dirt-cheap', 'captivate', 'trumpet', 'upgradable', 'uplift', 'extraordinarily', 'eye-catch', 'diligently', 'straighten', 'altruistically', 'amazement', 'ardor', 'halcyon', 'excite', 'amicable', 'distinctive', 'marvel', 'benefits', 'exonerate', 'inspiration', 'staunch', 'powerfully', 'richness', 'adorer', 'cure-all', 'plentiful', 'effusively', 'lucidly', 'sumptuously', 'privilege', 'afordable', 'long-lasting', 'right', 'desirous', 'cushy', 'gentle', 'tolerable', 'well-backlit', 'ingenious', 'spellbind', 'suitable', 'tempting', 'ambitiously', 'exuberantly', 'prosperous', 'responsive', 'gutsy', 'spirited', 'gloriously', 'rapture', 'invaluablely', 'futuristic', 'levity', 'aspire', 'enticed', 'dependable', 'appreciates', 'authoritative', 'endear', 'stellarly', 'peaceable', 'congratulatory', 'togetherness', 'fast-growing', 'darling', 'fancinating', 'breakthrough', 'ethical', 'bless', 'educated', 'seamless', 'momentous', 'tenacity', 'lyrical', 'optimal', 'boom', 'luxuriously', 'selective', 'abound', 'thrill', 'succeeds', 'truthfulness', 'evenly', 'merciful', 'wonderous', 'reverent', 'commodious', 'adequate', 'quieter', 'encourage', 'supurbly', 'sharpest', 'winnable', 'admiration', 'cashback', 'commitment', 'phenomenally', 'light-hearted', 'modesty', 'ardent', 'precisely', 'savior', 'enjoyment', 'fresher', 'entertains', 'excel', 'comforting', 'non-violence', 'sturdier', 'prosperity', 'dote', 'exalting', 'premier', 'earnestness', 'opulent', 'felicitous', 'goodwill', 'unreal', 'finer', 'treasure', 'risk-free', 'profound', 'cooperative', 'gracefully', 'elatedly', 'beutifully', 'joyous', 'soundly', 'titillating', 'immaculately', 'favorable', 'adroit', 'enviously', 'luckiness', 'dauntless', 'tremendously', 'sagely', 'trustworthiness', 'reaffirmation', 'promising', 'notably', 'elan', 'astounding', 'adaptable', 'first-class', 'genius', 'friendliness', 'unabashed', 'impassioned', 'holy', 'alluring', 'enlighten', 'bliss', 'compliment', 'achievible', 'playfully', 'savvy', 'classy', 'ovation', 'efficient', 'handy', 'affinity', 'peerless', 'fine-looking', 'joyful', 'poignant', 'exhilaratingly', 'unquestionable', 'poise', 'unbound', 'harmonize', 'indebted', 'adventuresome', 'decisiveness', 'thoughtfully', 'hale', 'benifits', 'vibrantly', 'gainfully', 'truthful', 'courageously', 'admirably', 'masterfully', 'adoring', 'well-run', 'serene', 'brilliances', 'impress', 'smooth', 'tantalizing', 'luckiest', 'lionhearted', 'mesmerize', 'matchless', 'fave', 'thrilled', 'excallent', 'dominates', 'infallible', 'joy', 'attractive', 'deft', 'unequivocally', 'outsmart', 'wonderful', 'oasis', 'hug', 'inestimable', 'nice', 'idol', 'resilient', 'ingeniously', 'outdone', 'toughest', 'counter-attacks', 'courteous', 'supurb', 'state-of-the-art', 'breathtaking', 'unmatched', 'bullish', 'decency', 'undisputed', 'blossom', 'perfection', 'rock-star', 'felicitate', 'supremely', 'zippy', 'simplified', 'flattering', 'recover', 'sensitive', 'vouchsafe', 'charmingly', 'recomend', 'empathize', 'solicitous', 'jubilate', 'smiling', 'openness', 'merriment', 'sensible', 'upliftment', 'dignified', 'irresistible', 'luckier', 'headway', 'satisfactorily', 'pure', 'cherish', 'wisely', 'excellently', 'rapturously', 'well-balanced', 'delightfulness', 'covenant', 'cohesive', 'well-mannered', 'affirmative', 'enchantingly', 'gaily', 'innovation', 'smarter', 'glimmer', 'fiery', 'complements', 'respect', 'outperformed', 'marvelled', 'productive', 'ease', 'magnificent', 'mighty', 'saintliness', 'overjoyed', 'calmness', 'astutely', 'clever', 'striking', 'stellar', 'pros', 'rapport', 'compassion', 'humorously', 'homage', 'achievements', 'complemented', 'eased', 'logical', 'powerful', 'truthfully', 'euphorically', 'quicker', 'glowingly', 'marvels', 'prudently', 'revelation', 'idyllic', 'enrapt', 'gaining', 'fertile', 'readily', 'gifted', 'awe', 'revere', 'optimistic', 'welcome', 'cajole', 'cheerful', 'complimentary', 'excellency', 'accolades', 'assuring', 'balanced', 'miraculous', 'soulful', 'pre-eminent', 'adaptive', 'brave', 'everlasting', 'exuberant', 'grace', 'lean', 'cheery', 'decent', 'capability', 'optimism', 'fabulous', 'harmony', 'overtake', 'enhance', 'sweeten', 'brisk', 'shiny', 'nifty', 'heaven', 'celebratory', 'well-being', 'renaissance', 'pleasingly', 'well-regarded', 'advanced', 'splendid', 'rightly', 'survival', 'mightily', 'trustworthy', 'generosity', 'comfy', 'visionary', 'liberty', 'fans', 'smoothes', 'ecstasies', 'celebrated', 'enjoyed', 'terrific', 'godsend', 'cleanly', 'marvellous', 'enterprising', 'affably', 'smartly', 'booming', 'lower-priced', 'verifiable', 'cute', 'adulate', 'examplar', 'flawless', 'beneficially', 'staunchness', 'trouble-free', 'effectively', 'successful', 'adulatory', 'goood', 'keen', 'joyfully', 'eminent', 'enthralled', 'dawn', 'superior', 'beloved', 'entrust', 'excitingly', 'meaningful', 'remedy', 'steady', 'supports', 'profuse', 'regal', 'fervid', 'fruitful', 'excelent', 'endorsement', 'magnanimous', 'advantageous', 'top', 'reasonably', 'maturity', 'hallmark', 'raptureous', 'enjoys', 'defeating', 'splendor', 'consistent', 'skill', 'acclamation', 'coherent', 'fluent', 'phenomenal', 'relief', 'charm', 'reasoned', 'satisfactory', 'lustrous', 'enjoyably', 'galore', 'quaint', 'brighter', 'intrigue', 'bargain', 'obsession', 'comfort', 'conveniently', 'smart', 'thrive', 'worked', 'pleases', 'uncomplicated', 'realistic', 'safely', 'boost', 'recovery', 'snappy', 'success', 'revolutionizes', 'positive', 'shimmering', 'awards', 'stainless', 'advocated', 'enjoy', 'benevolence', 'trivially', 'unlimited', 'breakthroughs', 'enviousness', 'supporter', 'understandable', 'eloquence', 'unwavering', 'preferes', 'freedom', 'reformed', 'versatile', 'indulgence', 'defender', 'appreciable', 'edify', 'inexpensive', 'chic', 'agreeableness', 'survivor', 'wisdom', 'assurance', 'stimulating', 'authentic', 'sleek', 'feasible', 'prospros', 'instrumental', 'nourishment', 'assurances', 'glory', 'impartiality', 'swanky', 'instantly', 'priceless', 'proves', 'fortuitous', 'eyecatch', 'sexy', 'accessable', 'amenable', 'pamperedly', 'sweetness', 'undisputably', 'succeeding', 'mesmerizingly', 'convincingly', 'strongest', 'eyecatching', 'fanfare', 'sagacity', 'supremacy', 'fine', 'meticulously', 'catchy', 'enthusiastic', 'influential', 'rightness', 'supreme', 'outperforms', 'delightful', 'improving', 'kindness', 'invincible', 'triumphal', 'capable', 'diligent', 'laudable', 'gumption', 'amicability', 'cheaper', 'unbeatable', 'extoll', 'talent', 'spiritual', 'exellent', 'well-wishers', 'dexterous', 'sensation', 'hail', 'vouch', 'liked', 'enthrall', 'fragrant', 'intriguingly', 'virtuously', 'ultra-crisp', 'promises', 'endorsed', 'impressed', 'upliftingly', 'win', 'heros', 'incredible', 'easy-to-use', 'accommodative', 'faithfully', 'equitable', 'romanticize', 'marvelousness', 'fast-paced', 'renowned', 'brilliantly', 'heartily', 'correct', 'smoother', 'handsomely', 'distinguished', 'undisputable', 'admiring', 'cashbacks', 'delight', 'affectionate', 'hard-working', 'sensations', 'affordably', 'brotherly', 'hearten', 'peps', 'properly', 'scenic', 'privileged', 'colorful', 'modern', 'brightest', 'appeal', 'ecstatically', 'exemplar', 'self-sufficient', 'thank', 'handily', 'sweetheart', 'heavenly', 'futurestic', 'envious', 'silent', 'earnest', 'enthusiast', 'enticing', 'retractable', 'trusted', 'well-connected', 'wieldy', 'responsibly', 'pampered', 'trusting', 'captivating', 'thrills', 'sumptuousness', 'neatly', 'distinction', 'prodigiously', 'purposeful', 'awesomeness', 'tough', 'calming', 'jaw-droping', 'achievable', 'exemplary', 'swiftness', 'aspiration', 'humane', 'dependably', 'golden', 'comfortably', 'well-made', 'eminence', 'gems', 'appreciatively', 'impeccable', 'comely', 'snazzy', 'politeness', 'peppy', 'wowing', 'geekier', 'entice', 'favorite', 'subsidizes', 'respectable', 'relaxed', 'beckon', 'gratifyingly', 'abounds', 'record-setting', 'tenaciously', 'fantastic', 'well-positioned', 'chivalrous', 'frolic', 'hilarious', 'cleanliness', 'foremost', 'lively', 'fairly', 'elated', 'excitedness', 'agile', 'jubiliant', 'gold', 'guidance', 'rejoicingly', 'prolific', 'freed', 'glowing', 'eloquently', 'sufficed', 'enhances', 'beneficent', 'confident', 'acclaimed', 'extol', 'applaud', 'fecilitous', 'grand', 'well-educated', 'reassurance', 'sweetly', 'cuteness', 'entranced', 'mesmerizing', 'picturesque', 'amazing', 'respectful', 'sweeping', 'sufficient', 'contrasty', 'wonders', 'splendidly', 'award', 'supple', 'defeated', 'durable', 'courage', 'sharp', 'graciousness', 'delighted', 'profoundly', 'sophisticated', 'uphold', 'stunningly', 'reward', 'credible', 'unencumbered', 'unequivocal', 'morality', 'masterpiece', 'gleefully', 'easygoing', 'danken', 'spectacularly', 'stunned', 'impartial', 'groundbreaking', 'irreproachable', 'restructured', 'happiness', 'sumptuous', 'fearlessly', 'eventful', 'stirringly', 'subsidizing', 'laudably', 'satisfying', 'toll-free', 'whoooa', 'soft', 'perfectly', 'memorable', 'superbly', 'trustingly', 'beckoning', 'cost-saving', 'enviably', 'gratify', 'err-free', 'exhilarate', 'delicate', 'amply', 'propitious', 'wow', 'manageable', 'fastest-growing', 'astound', 'convenience', 'tenacious', 'judicious', 'honor', 'securely', 'windfall', 'outdo', 'propitiously', 'destiny', 'romantically', 'prettily', 'simpler', 'eloquent', 'flutter', 'ample', 'charitable', 'replaceable', 'hotcakes', 'well-received', 'preeminent', 'progressive', 'unquestionably', 'nobly', 'goodness', 'inspire', 'slick', 'best-known', 'whoa', 'engaging', 'blockbuster', 'devout', 'healthy', 'zenith', 'saintly', 'gusto', 'solace', 'fortuitously', 'humorous', 'like', 'heroize', 'overtaken', 'ameliorate', 'entertain', 'attentive', 'trust', 'thrillingly', 'skillful', 'statuesque', 'stronger', 'affectation', 'exceled', 'surmount', 'magnificently', 'obsessions', 'mesmerizes', 'prefer', 'ingenuously', 'passionate', 'perfect', 'personages', 'woo', 'evocative', 'top-notch', 'advocates', 'lavish', 'reliably', 'ecenomical', 'time-honored', 'resourcefulness', 'extraordinary', 'luxurious', 'thinner', 'eye-catching', 'fidelity', 'brighten', 'glorious', 'willingly', 'congratulations', 'coherence', 'healthful', 'gratifying', 'jollify', 'elite', 'helpful', 'restful', 'patriotic', 'thumb-up', 'constructive', 'ebulliently', 'problem-free', 'glisten', 'amity', 'insightful', 'backbone', 'suffice', 'shimmeringly', 'exquisitely', 'exceeding', 'merriness', 'preferring', 'wows', 'gladly', 'industrious', 'compassionate', 'unfazed', 'ilu', 'beautifullly', 'economical', 'marveled', 'enough', 'fortune', 'substantive', 'fun', 'refinement', 'generous', 'doubtless', 'outperform', 'lovable', 'accomplished', 'compatible', 'defeats', 'rejuvenating', 'secure', 'high-quality', 'excelled', 'sharper', 'solicitously', 'convincing', 'lifesaver', 'positives', 'vivacious', 'celebration', 'exaltedly', 'pinnacle', 'conciliate', 'jubilantly', 'raptureously', 'amusingly', 'illuminate', 'satisfy', 'delightfully', 'reachable', 'inviolable', 'stunning', 'masters', 'luxuriate', 'proficient', 'great', 'supported', 'sparkle', 'thrift', 'readable', 'concise', 'significant', 'lucky', 'enliven', 'affirm', 'works', 'infallibly', 'agilely', 'work', 'sufficiently', 'clarity', 'enrichment', 'prompt', 'well-known', 'steadiest', 'foresight', 'gratification', 'attraction', 'swankier', 'sweet', 'supportive', 'improve', 'user-friendly', 'facilitate', 'hospitable', 'affluence', 'contentment', 'winners', 'admire', 'exceed', 'freshest', 'guarantee', 'fair', 'excellent', 'protective', 'ideal', 'low-cost', 'low-risk', 'lovably', 'fastest', 'roomy', 'noteworthy', 'intelligence', 'palatial', 'precious', 'orderly', 'amiabily', 'adjustable', 'wonderously', 'god-send', 'helping', 'revival', 'eager', 'invulnerable', 'best-performing', 'well-behaved', 'well-rounded', 'intriguing', 'delicacy', 'brainiest', 'problem-solver', 'rational', 'ebullient', 'hottest', 'pluses', 'hot', 'famous', 'endearing', 'genuine', 'exult', 'peacefully', 'viewable', 'reputable', 'comfortable', 'faithfulness', 'benevolent', 'sustainability', 'clear-cut', 'versatility', 'affirmation', 'richly', 'imaginative', 'rockstars', 'refunded', 'all-around', 'merry', 'entrancing', 'inspiring', 'trophy', 'benefactor', 'improvements', 'hallowed', 'trendy', 'exceptionally', 'stylized', 'smilingly', 'excitement', 'acumen', 'miraculously', 'resolute', 'admiringly', 'fondness', 'dignify', 'dreamland', 'leading', 'fresh', 'succeed', 'cherished', 'radiant', 'available', 'energetic', 'refreshing', 'straightforward', 'delicious', 'subsidize', 'providence', 'awarded', 'clearly', 'hallmarks', 'peace', 'daringly', 'outshine', 'glow', 'supporting', 'exaltingly', 'appropriate', 'master', 'divinely', 'chivalry', 'exultingly', 'consistently', 'harmless', 'ambitious', 'magical', 'graciously', 'heroically', 'recommendation', 'popular', 'stimulates', 'exceeds', 'victorious', 'nicest', 'remission', 'cleverly', 'pepping', 'revitalize', 'vigilant', 'fervent', 'defeat', 'beauty', 'sustainable', 'warmly', 'exhilaration', 'lawfully', 'virtue', 'gracious', 'lead', 'gush', 'exalted', 'satisfied', 'dominate', 'spacious', 'generously', 'pamperedness', 'exciting', 'overtook', 'honoring', 'useable', 'wealthy', 'god-given', 'ergonomical', 'warmer', 'revive', 'proactive', 'integral', 'advantageously', 'fast', 'unity', 'standout', 'enthral', 'patient', 'talents', 'skilled', 'slammin', 'superb', 'reverently', 'rockstar', 'legendary', 'rejuvenate', 'fulfillment', 'rejuvenated', 'illumine', 'cornerstone', 'dexterously', 'gained', 'lighter', 'prize', 'righten', 'grin', 'enchanting', 'angel', 'wowed', 'accomodative', 'amazes', 'electrify', 'law-abiding', 'safe', 'whooa', 'purify', 'mastery', 'clearer', 'speedy', 'majestic', 'sincerity', 'remunerate', 'strong', 'tranquil', 'adventurous', 'charismatic', 'glistening', 'swank', 'impressiveness', 'playful', 'indulgent'}\n",
            "\n",
            "Negative words\n",
            "{'slogs', 'ulterior', 'unlawfulness', 'fiction', 'displaced', 'thug', 'aggrieve', 'unjustifiably', 'infamy', 'hate', 'sloww', 'stains', 'revengefully', 'scoffingly', 'tumble', 'unnoticed', 'unacceptablely', 'dejected', 'revolting', 'misfit', 'loopholes', 'ugliest', 'concern', 'smoulder', 'ruffle', 'coerce', 'clique', 'poor', 'disparaging', 'bitter', 'wretch', 'slaves', 'unbearablely', 'pessimistically', 'abysmal', 'crowded', 'contort', 'wrought', 'belie', 'occluding', 'wripping', 'dense', 'obstruct', 'ingrate', 'irritable', 'ugly', 'spurn', 'polluter', 'undercutting', 'annihilate', 'desperation', 'dissent', 'confess', 'overstates', 'plaything', 'rife', 'downer', 'barbarously', 'bias', 'sloow', 'defunct', 'worst', 'allergy', 'strange', 'douchebags', 'dogmatic', 'disrespecting', 'impasse', 'spitefully', 'damaging', 'plagiarize', 'brazenness', 'offender', 'gimmicking', 'ineffective', 'misunderstanding', 'rifts', 'swindle', 'sidetracked', 'sullen', 'underpaid', 'cuss', 'redundant', 'heartbreaker', 'nebulous', 'odder', 'fallacy', 'hoax', 'fissures', 'superstitious', 'spews', 'fractiously', 'absent-minded', 'haze', 'pugnacious', 'insinuate', 'craziness', 'hinder', 'sinful', 'bashing', 'cheated', 'indecent', 'dents', 'exhaustion', 'irretating', 'insult', 'insincere', 'odd', 'presumptuously', 'strangle', 'lazy', 'avariciously', 'inflexible', 'ignorance', 'jolt', 'commonplace', 'anger', 'mess', 'incense', 'sub-par', 'sickeningly', 'vociferously', 'myth', 'brutalize', 'emergency', 'warlike', 'hawkish', 'laughable', 'unconstitutional', 'infuriate', 'dim', 'disparagingly', 'distrusting', 'gloatingly', 'omit', 'harassment', 'inexpiable', 'lies', 'graceless', 'battering', 'dismaying', 'lengthy', 'abysmally', 'cunts', 'jerk', 'amputate', 'confrontational', 'misunderstood', 'disconcertingly', 'discouragement', 'illusion', 'unease', 'misaligns', 'blistering', 'lamentably', 'deceitful', 'prattle', 'lewd', 'murder', 'desolate', 'rascal', 'doubtfully', 'heartless', 'scarily', 'depression', 'domineer', 'contradictory', 'demeaning', 'imperious', 'unimaginable', 'fatcat', 'outraged', 'sputter', 'scandals', 'uncontrolled', 'crazy', 'mist', 'overheat', 'stagnation', 'corrosions', 'cautionary', 'burdensome', 'abrasive', 'asinine', 'devilry', 'bothering', 'calumniation', 'fat-cats', 'hard-liner', 'insincerely', 'intermittent', 'weaker', 'chafe', 'stubbornly', 'abomination', 'hysterics', 'accuse', 'bigotry', 'disoobedient', 'flaws', 'desultory', 'mistaken', 'damning', 'dumb', 'insufferably', 'shatter', 'asunder', 'undermines', 'growl', 'impossiblity', 'bellicose', 'disgusted', 'taint', 'abused', 'disses', 'laid-off', 'acerbically', 'devastating', 'disgust', 'inflationary', 'nonresponsive', 'enemies', 'mysteriously', 'idiots', 'ruinous', 'fanaticism', 'decadence', 'decrepit', 'hallucinate', 'malady', 'foolishness', 'tension', 'daunting', 'rhetoric', 'tainted', 'wound', 'crueler', 'paralize', 'substandard', 'flimflam', 'conspicuously', 'panick', 'inflame', 'wickedly', 'appalled', 'ding', 'condemnable', 'jaundiced', 'suspicion', 'pointless', 'loose', 'lapses', 'clouding', 'feverish', 'inescapably', 'tyrannically', 'posturing', 'nervousness', 'upsettingly', 'head-aches', 'insensitive', 'inflammatory', 'hassled', 'appalling', 'mulish', 'cheating', 'wariness', 'adulterier', 'thwart', 'confessions', 'direly', 'pauper', 'inarticulate', 'belittling', 'offensively', 'worn', 'disliking', 'pretence', 'extort', 'nettle', 'wrip', 'commotions', 'frown', 'hated', 'impulsively', 'ironically', 'shocking', 'temerity', 'hazardous', 'hysteria', 'wickedness', 'choppy', 'humiliating', 'condescending', 'stifle', 'childish', 'inexpertly', 'neurotic', 'pariah', 'debts', 'frustrating', 'infernal', 'unsecure', 'scathingly', 'pertinacity', 'repulsiveness', 'sagging', 'misinterpret', 'biases', 'overacted', 'bust', 'unusually', 'misuse', 'tarnishes', 'complacent', 'disagreement', 'crowdedness', 'patronize', 'stink', 'distrust', 'lurk', 'chastisement', 'plague', 'regrettable', 'interference', 'premeditated', 'slave', 'thoughtlessly', 'unjustly', 'sinking', 'disinclined', 'swipe', 'criticism', 'chilly', 'dogged', 'acridness', 'pricey', 'hogs', 'drones', 'difficulties', 'disputed', 'doubtful', 'feint', 'malodorous', 'misunderstand', 'annoying', 'hacks', 'startle', 'clogged', 'disruptive', 'intimidation', 'repetitive', '2-faces', 'bewilder', 'exagerated', 'lull', 'dissension', 'despoiler', 'disrespectablity', 'catastrophes', 'god-awful', 'absence', 'hastily', 'iniquity', 'admonishment', 'confront', 'deceitfully', 'judders', 'afflictive', 'lanky', 'grievances', 'condescend', 'leaky', 'ignoble', 'indignity', 'sloth', 'wiles', 'overthrow', 'bruises', 'testily', 'impolitic', 'scams', 'onerous', 'fascism', 'panicky', 'stymied', 'unfortunate', 'touted', 'unthinkable', 'animosity', 'aggression', 'expulse', 'fathomless', 'unimportant', 'degenerately', 'wounds', 'anguish', 'delays', 'tardy', 'extremists', 'scramble', 'destitution', 'invasive', 'missed', 'slow', 'friggin', 'zealot', 'cataclysmic', 'poorest', 'exagerates', 'retract', 'damage', 'flares', 'lacks', 'rue', 'object', 'undue', 'odor', 'contrariness', 'deprived', 'naive', 'infiltrator', 'disagreed', 'inessential', 'provocative', 'dispirit', 'desititute', 'insupportably', 'pillage', 'epidemic', 'shroud', 'boil', 'outcry', 'attack', 'irrationality', 'perturbed', 'polluters', 'disorderly', 'banal', 'swagger', 'traumatically', 'aimless', 'insubordinate', 'precariously', 'admonition', 'stalls', 'dazed', 'illusions', 'improbably', 'opponent', 'overtaxed', 'slap', 'confined', 'cave', 'skimpy', 'bitingly', 'jeeringly', 'lunaticism', 'selfish', 'dislikes', 'uneasiness', 'suicide', 'allergic', 'lethargic', 'repulsively', 'killing', 'regrettably', 'impious', 'stupified', 'damaged', 'unspeakablely', 'disaffirm', 'mercilessly', 'maniacal', 'ailing', 'mobster', 'slanders', 'darkened', 'forged', 'deviously', 'combust', 'ill-designed', 'swamped', 'tragically', 'less-developed', 'embattled', 'imbecile', 'matte', 'invidiousness', 'hothead', 'disquiet', 'inimically', 'grumpish', 'omission', 'scratchy', 'flair', 'blaspheme', 'slowwww', 'disturbed', 'pretentious', 'ashamed', 'aches', 'fleeing', 'opportunistic', 'smelled', 'straggle', 'crippled', 'bastards', 'hatefulness', 'despised', 'obstruction', 'bitterness', 'fell', 'awkwardness', 'deceivers', 'fright', 'dismal', 'backaches', 'bulkier', 'farcical-yet-provocative', 'notoriety', 'shady', 'smudged', 'hapless', 'controversy', 'ruts', 'doubts', 'frazzled', 'irregular', 'meddlesome', 'rage', 'headaches', 'dissed', 'jeopardize', 'regretful', 'invalid', 'consternation', 'irrecoverablenesses', 'picket', 'taunts', 'incorrect', 'shortchange', 'misinform', 'unwillingly', 'wane', 'assault', 'draconian', 'disorder', 'immoral', 'crisis', 'unneeded', 'discourage', 'unusably', 'depressing', 'lament', 'dissatisfactory', 'pig', 'suspicions', 'irately', 'traduce', 'blasphemy', 'self-criticism', 'longingly', 'irreversible', 'brash', 'antagonist', 'vice', 'pernicious', 'egocentric', 'gripe', 'deform', 'languor', 'hypocritically', 'abort', 'frost', 'pokey', 'restless', 'timidity', 'unsuccessfully', 'distressing', 'breach', 'defiant', 'depressingly', 'ineptly', 'numb', 'stump', 'askance', 'nasty', 'conceit', 'exorbitant', 'quash', 'restrict', 'destroy', 'sporadic', 'tramp', 'cliched', 'zombie', 'confounding', 'heathen', 'malignant', 'stooges', 'hard-hit', 'cruelties', 'flaking', 'funny', 'savaged', 'stupidest', 'tiring', 'flout', 'dismissively', 'bugging', 'demoralizing', 'dissemble', 'puzzled', 'renunciation', 'slumping', 'tanks', 'mindlessly', 'junk', 'conspiratorial', 'torture', 'brutally', 'creepy', 'self-humiliation', 'sedentary', 'confounded', 'contemptible', 'traumatic', 'devilishly', 'overrated', 'pretentiously', 'convoluted', 'nauseates', 'retreated', 'un-viewable', 'calamitously', 'illicit', 'disinterested', 'hefty', 'impulsive', 'indiscriminately', 'vomit', 'persecute', 'slanderously', 'impudence', 'unexpected', 'hubris', 'dissenter', 'bemoan', 'slothful', 'fateful', 'mistake', 'ignominiously', 'doldrums', 'apocalyptic', 'deformed', 'besmirch', 'fustigate', 'hurt', 'insurmountably', 'inability', 'nervously', 'unsteadily', 'dissapointed', 'mistrustfully', 'prate', 'guile', 'imperfect', 'secretive', 'pale', 'sicken', 'vibrate', 'unlamentably', 'attacks', 'oppressive', 'illegitimate', 'ruffian', 'miserable', 'instigate', 'disrespect', 'gasp', 'anti-israeli', 'debaser', 'crashing', 'unpleasantries', 'superstition', 'toil', 'villainously', 'cripple', 'dope', 'poisonous', 'ridiculously', 'sneaky', 'blurred', 'insufferable', 'queer', 'unforeseen', 'repulsing', 'sinisterly', 'jaded', 'tense', 'shirker', 'stolen', 'stutters', 'evil', 'freaking', 'insulting', 'ridiculous', 'fails', 'illiterate', 'demean', 'defect', 'quarrels', 'struggling', 'pertinaciously', 'absurdity', 'transgression', 'blah', 'injurious', 'caustically', 'creeps', 'spurious', 'uproarous', 'deceiving', 'irresolute', 'smack', 'dripping', 'offending', 'overreach', 'dispirited', 'undesirable', 'reviled', 'dead', 'hard', 'hating', 'bomb', 'nosey', 'scream', 'shortcoming', 'subversion', 'unobserved', 'outrages', 'cartoonish', 'repress', 'spoilages', 'gossip', 'flareups', 'egregiously', 'inhibition', 'irksomenesses', 'unwatchable', 'incongruous', 'hollow', 'lifeless', 'destroyer', 'imperfections', 'limp', 'breakups', 'flirty', 'cringe', 'needlessly', 'stubborn', 'primitive', 'sorely', 'fascist', 'angry', 'loath', 'disquietude', 'lemon', 'rancor', 'tediously', 'bearish', 'martyrdom', 'nepotism', 'bitterly', 'ugh', 'atrophy', 'scarred', 'unjustifiable', 'beg', 'demoralize', 'insatiable', 'implausibly', 'pitilessly', 'hopelessness', 'overpaid', 'simplistic', 'balk', 'mistakes', 'tenuously', 'gawky', 'cruelness', 'hairloss', 'manipulators', 'sin', 'delude', 'blinding', 'dirtbags', 'impermissible', 'disingenuous', 'conservative', 'maltreatment', 'mismanage', 'nitpick', 'shemale', 'concession', 'screw-up', 'devastate', 'corrupts', 'incautious', 'corrosion', 'propaganda', 'seedy', 'sick', 'disagreeable', 'disbelief', 'heartbreakingly', 'indifferent', 'regretted', 'liar', 'reprehensibly', 'blunt', 'deficiency', 'coercion', 'famine', 'berate', 'frustratingly', 'uncooperative', 'annoyances', 'discomfititure', 'displeasure', 'jealousy', 'motionless', 'embarrassment', 'degradingly', 'skeptic', 'bafflement', 'avarice', 'repulsive', 'irresponsible', 'tentative', 'wail', 'hardhearted', 'shit', 'bull----', 'outrageously', 'deviousness', 'mistress', 'vibrating', 'imbroglio', 'compulsive', 'nightmarish', 'troublemaker', 'loathsomely', 'reluctantly', 'unattractive', 'barren', 'grainy', 'exile', 'dying', 'notoriously', 'servitude', 'washed-out', 'obsolete', 'aversion', 'tantrum', 'rhapsodize', 'dissolution', 'rut', 'pretend', 'unfunded', 'asinininity', 'oversize', 'shocked', 'illegal', 'undissolved', 'disown', 'unhelpful', 'rumor', 'uneven', 'dissonantly', 'upheaval', 'rumple', 'importune', 'displeasing', 'nitpicking', 'humiliation', 'subdued', 'distraughtly', 'hopeless', 'corrode', 'disadvantage', 'splatter', 'uproariously', 'peeved', 'inelegance', 'appall', 'falter', 'stodgy', 'dire', 'slog', 'passive', 'detriment', 'horrible', 'scuff', 'craze', 'snarl', 'abuse', 'recalcitrant', 'demonized', 'concerned', 'fleer', 'forebodingly', 'tricky', 'irresolvable', 'unpopular', 'worryingly', 'inappropriate', 'indistinguishable', 'predatory', 'stupor', 'woe', 'enemy', 'short-lived', 'delirium', 'insultingly', 'unscrupulous', 'contortions', 'hindrance', 'crap', 'inappropriately', 'self-defeating', 'obsessive', 'insufficiency', 'lame-duck', 'nightmarishly', 'fabricate', 'delusion', 'war-like', 'degradation', 'emphatically', 'irritations', 'arduously', 'irrationalities', 'distaste', 'anti-occupation', 'fist', 'pitiless', 'scratched', 'indecorum', 'rabid', 'discriminate', 'disfavor', 'lame', 'indecently', 'rejection', 'stricken', 'despotic', 'wild', 'heckled', 'detract', 'implode', 'loveless', 'defiler', 'suicidal', 'tortuous', 'rile', 'rampant', 'unpredictable', 'lost', 'offensiveness', 'pleas', 'bewildered', 'perversion', 'over-acted', 'complaint', 'upsetting', 'complicated', 'downhill', 'disobey', 'intrude', 'loss', 'aggressiveness', 'deploringly', 'nag', 'intractable', 'petty', 'revulsion', 'unforgiving', 'wrinkles', 'disconsolately', 'lunatic', 'ill-usage', 'ruthless', 'discordant', 'despicable', 'disloyal', 'oversimplify', 'atrocity', 'unrelenting', 'skulk', 'foolishly', 'irritating', 'senseless', 'shrew', 'retards', 'scolded', 'acrimoniously', 'mudslinging', 'self-destructive', 'unjust', 'castigate', 'assassinate', 'nastily', 'hatefully', 'extravagantly', 'jutter', 'dismay', 'miser', 'infamously', 'daunt', 'self-serving', 'chunky', 'ignore', 'needy', 'uproarously', 'sickening', 'erase', 'dies', 'denial', 'subjection', 'oppositions', 'disconsolate', 'sickness', 'grumpier', 'rough', 'oppress', 'bleakness', 'antagonistic', 'ill-favored', 'frail', 'disrespectfully', 'loathly', 'violation', 'falls', 'bewilderingly', 'oddly', 'shame', 'conspire', 'devastates', 'disgustingly', 'furiously', 'gaffe', 'repression', 'sink', 'insurrection', 'irritated', 'hoard', 'zapped', 'squealing', 'unnatural', 'dehumanize', 'indiscriminate', 'sully', 'harmed', 'lechery', 'sucker', 'flare', 'malevolently', 'sillily', 'imprison', 'puzzling', 'blindingly', 'devious', 'martyrdom-seeking', 'painfully', 'denounce', 'abominable', 'pugnacity', 'afflict', 'invisible', 'unsure', 'acrimony', 'shambles', 'disapprove', 'obscures', 'erroneously', 'bitch', 'dearth', 'dubitable', 'inactive', 'squeals', 'concens', 'fuck', 'lackeys', 'brutalising', 'embroil', 'friction', 'puny', 'mortified', 'halfheartedly', 'jitter', 'untested', 'accusingly', 'atrocities', 'chide', 'throbbed', 'syndrome', 'torturing', 'unavailable', 'lecher', 'earsplitting', 'dizzy', 'lie', 'mistakenly', 'mordantly', 'inconsequently', 'cannibalize', 'lousy', 'warned', 'discontinuous', 'scandels', 'wayward', 'direness', 'perplexing', 'untrustworthy', 'nauseatingly', 'curse', 'insinuating', 'mislike', 'crumbling', 'gape', 'belated', 'depravedly', 'emphatic', 'facetiously', 'snub', 'vociferous', 'evildoer', 'overwhelmingly', 'disruption', 'headache', 'loot', 'dismally', 'ferocity', 'malicious', 'manipulate', 'messed', 'restricted', 'spewed', 'struck', 'insufficient', 'bump', 'inadverently', 'over-awe', 'presumptuous', 'coupists', 'exterminate', 'confound', 'denunciate', 'ramshackle', 'bitchy', 'revert', 'moribund', 'writhe', 'hater', 'glower', 'overkill', 'arrogance', 'tanked', 'discoutinous', 'gripes', 'slogged', 'sorry', 'disquietingly', 'smuttiest', 'indeterminably', 'slander', 'unwillingness', 'self-coup', 'nauseate', 'monstrosities', 'woeful', 'deadweight', 'congested', 'reproach', 'sty', 'admonishingly', 'knotted', 'malcontent', 'deficient', 'accost', 'defrauding', 'carelessness', 'fragmented', 'lurid', 'oblivious', 'uneventful', 'desert', 'frets', 'backache', 'impossible', 'jealous', 'forbid', 'vehement', 'wrestle', 'spiritless', 'ailment', 'sadly', 'worsening', 'bumped', 'boastful', 'despairingly', 'distorted', 'grating', 'ineffectually', 'disable', 'illogically', 'inopportune', 'scoff', 'preposterously', 'shirk', 'unnerving', 'wrongly', '2-faced', 'glare', 'unlikely', 'livid', 'die', 'fatigue', 'backwardness', 'hardball', 'mediocrity', 'mistified', 'dehumanization', 'taxing', 'sidetrack', 'difficult', 'disgustfully', 'contagious', 'discouragingly', 'flaky', 'risks', 'suppress', 'weep', 'clogs', 'extremism', 'villify', 'ambivalent', 'despondently', 'haggle', 'fearfully', 'procrastinate', 'recourses', 'regressive', 'fat', 'grievous', 'snappishly', 'miseries', 'reprehensible', 'suspiciously', 'refusing', 'burning', 'scarcity', 'pointlessly', 'frighten', 'creak', 'abscond', 'inconvenience', 'unproductive', 'refusal', 'stinging', 'subjugate', 'spewing', 'inoperable', 'debility', 'imminence', 'notorious', 'repudiate', 'insensitively', 'onerously', 'lewdly', 'sloppy', 'overturn', 'ultra-hardline', 'disintegrates', 'forsaken', 'freeze', 'hectic', 'hurting', 'immature', 'miserably', 'pompous', 'smelling', 'draining', 'anarchist', 'glibly', 'shiver', 'fallen', 'snobish', 'feign', 'compulsion', 'weaknesses', 'scant', 'inglorious', 'villian', 'oversimplification', 'puzzlement', 'capricious', 'undependability', 'deterioration', 'disaffect', 'disregardful', 'second-class', 'demonic', 'caricature', 'disquieting', 'appallingly', 'debatable', 'gibberish', 'inevitable', 'mystery', 'irking', 'raping', 'stagnate', 'toll', 'torturous', 'gallingly', 'risk', 'inconsequential', 'bs', 'heavyhearted', 'cutthroat', 'depressions', 'rift', 'niggles', 'blurring', 'siege', 'devastated', 'unprofitable', 'uncertain', 'blasphemous', 'backbiting', 'abuses', 'militancy', 'rumbling', 'unreadable', 'dissatisfying', 'frazzle', 'jarring', 'audaciously', 'perfunctory', 'provocation', 'grief', 'drain', 'disunity', 'antithetical', 'debasement', 'apologists', 'flawed', 'malign', 'dodgey', 'radical', 'disparage', 'unuseable', 'cash-strapped', 'jeopardy', 'malevolence', 'autocrat', 'cruelly', 'dented', 'murderer', 'plot', 'stumps', 'diss', 'stutter', 'teasingly', 'die-hard', 'misbehave', 'stun', 'losses', 'scam', 'treacherous', 'ungovernable', 'hardship', 'villianous', 'garish', 'cuplrit', 'extravagance', 'feeblely', 'vexation', 'deprave', 'punitive', 'vicious', 'slowly', 'choke', 'aggrivation', 'impolite', 'deviate', 'arduous', 'kills', 'leaking', 'outcast', 'suppression', 'undependable', 'unreliability', 'pugnaciously', 'scandal', 'iniquitous', 'unproven', 'reactionary', 'resigned', 'repugnant', 'punish', 'turbulent', 'tortures', 'wrangle', 'flicker', 'immodest', 'scorn', 'plebeian', 'selfinterested', 'viper', 'jumpy', 'enrage', 'grumpily', 'fib', 'sorrowfully', 'sourly', 'prohibitive', 'inconstant', 'throb', 'desolately', 'bloody', 'disoriented', 'sues', 'exploit', 'wrath', 'spook', 'aggravation', 'incivility', 'imposition', 'indiscernible', 'infuriatingly', 'smolder', 'regretfully', 'perverts', 'spoon-feed', 'sugar-coat', 'infuriated', 'manipulative', 'dump', 'incitement', 'lag', 'beggar', 'polemize', 'stab', 'inconsistency', 'declines', 'lier', 'achey', 'recant', 'incompetent', 'unfairly', 'hates', 'miserly', 'peevish', 'uglier', 'unproving', 'indiscreetly', 'imprecate', 'shoddy', 'damnable', 'obliterate', 'qualms', 'deaf', 'drastic', 'grumble', 'weaken', 'mystify', 'dissidence', 'disadvantaged', 'extortion', 'furor', 'brute', 'culpable', 'flagrantly', 'careless', 'idle', 'carnage', 'figurehead', 'insensitivity', 'ironical', 'so-cal', 'tetchy', 'unbearable', 'vindictively', 'zealously', 'cumbersome', 'deny', 'deteriorating', 'thoughtlessness', 'severity', 'foreboding', 'lagging', 'fatefully', 'delusions', 'dilly-dally', 'rattles', 'stresses', 'avalanche', 'abnormal', 'bleed', 'opinionated', 'paradoxical', 'hoodwink', 'suffered', 'fetid', 'despondent', 'blotchy', 'trauma', 'desiccate', 'addict', 'divisively', 'protest', 'contempt', 'heinous', 'angriness', 'discountenance', 'bickering', 'mockeries', 'debt', 'goad', 'obstructed', 'insolence', 'interruptions', 'disaster', 'outmoded', 'delirious', 'hateful', 'creeping', 'testy', 'hedonistic', 'betrays', 'assult', 'dejectedly', 'inexplainable', 'rupture', 'inattentive', 'bumping', 'guiltily', 'narrower', 'anti-us', 'radicalization', 'apathetic', 'dinky', 'downturn', 'inexcusably', 'standstill', 'exagerate', 'overzealously', 'betraying', 'blather', 'overloaded', 'traitor', 'treason', 'erode', 'obscure', 'unnerved', 'overdo', 'tacky', 'aghast', 'morbidly', 'upbraid', 'ridicules', 'unfortunately', 'complains', 'resentment', 'dings', 'savage', 'last-ditch', 'bluring', 'goon', 'parasite', 'perplexity', 'heavy-handed', 'smoke', 'incorrectly', 'malaise', 'rust', 'anemic', 'showdown', 'needless', 'brashness', 'terrible', 'tragedy', 'ill-natured', 'badly', 'ill-treated', 'inexperienced', 'hegemonism', 'embroiled', 'haunting', 'hum', 'misses', 'misguide', 'sucky', 'baffle', 'errant', 'gloom', 'degeneration', 'stupidity', 'awfully', 'infections', 'expire', 'rumours', 'skepticism', 'sneer', 'subjugation', 'sore', 'break', 'gruff', 'misread', 'disinclination', 'fatalistic', 'manic', 'deceive', 'expensive', 'issue', 'lose', 'shortsightedness', 'unintelligile', 'explode', 'killer', 'disrepute', 'venomously', 'violators', 'monstrously', 'shark', 'deadlock', 'flakieness', 'unskilled', 'guilty', 'eviscerate', 'snarky', 'entanglement', 'slaughter', 'topple', 'traumatize', 'harm', 'inaction', 'upseting', 'outbreak', 'lamentable', 'prik', 'insincerity', 'steeply', 'scolding', 'falsify', 'overawe', 'intrusive', 'dispiriting', 'excessive', 'irredeemable', 'miscalculation', 'junky', 'spendy', 'obscenity', 'incomparably', 'overdue', 'mocks', 'annoys', 'bemoaning', 'faulty', 'mad', 'anomalous', 'blandish', 'dangerous', 'brood', 'dumping', 'subordinate', 'unproves', 'itch', 'wreak', 'spilling', 'detrimental', 'chagrin', 'inefficacious', 'startlingly', 'picketed', 'aground', 'haste', 'interruption', 'cruelty', 'incomplete', 'plight', 'messes', 'discouraging', 'refutation', 'fool', 'intolerable', 'brutal', 'sardonic', 'detracting', 'little-known', 'wasting', 'idiocies', 'fallacies', 'spoils', 'butchery', 'fatuous', 'hazy', 'irrecoverably', 'scary', 'inflated', 'sugar-coated', 'disintegrated', 'precipitate', 'wripped', 'dishonor', 'emptiness', 'clash', 'discontentedly', 'hassle', 'blindside', 'travesty', 'deprive', 'galling', 'skinny', 'recessionary', 'lowly', 'jutters', 'toughness', 'fatcats', 'maniac', 'unsophisticated', 'burned', 'divisive', 'devilish', 'blurs', 'discrimination', 'fret', 'worrisome', 'ghosting', 'ambivalence', 'villainous', 'itching', 'blatant', 'eccentric', 'challenging', 'trap', 'demise', 'dishonorable', 'uncomfortably', 'dejection', 'disreputable', 'partisan', 'vibrated', 'irrelevance', 'maddeningly', 'critical', 'barbaric', 'unthinkably', 'defamation', 'disconcert', 'forgetfulness', 'inescapable', 'troublesome', 'bothered', 'treasonous', 'embarrassing', 'disillusions', 'useless', 'invalidate', 'discord', 'intimidate', 'brittle', 'menacingly', 'sloooooooooooooow', 'sass', 'squeak', 'egotistical', 'flaunt', 'insurmountable', 'noisy', 'squander', 'goof', 'crushed', 'wrong', 'awful', 'feebleminded', 'fusty', 'sagged', 'assail', 'gnawing', 'confused', 'perilous', 'disadvantageous', 'peeled', 'horrendous', 'blasted', 'busts', 'fume', 'terribleness', 'unsatisfactory', 'sulk', 'unwelcome', 'humiliate', 'contemptuously', 'enervate', 'worried', 'retard', 'implacable', 'isolated', 'weary', 'dropouts', 'worsen', 'grudging', 'juddering', 'dishonestly', 'extinguish', 'monstrous', 'sobering', 'anarchistic', 'molest', 'susceptible', 'vibrates', 'cons', 'accuses', 'unfriendly', 'uneasy', 'demonizing', 'dictator', 'mangles', 'calumny', 'disrespectfulness', 'dreadfulness', 'misconceptions', 'squash', 'kooky', 'conceited', 'helplessly', 'chastise', 'hatred', 'alarming', 'absentee', 'set-up', 'crappy', 'uncivil', 'complained', 'accusations', 'repulsed', 'mortifying', 'rumors', 'weariness', 'frightful', 'agony', 'conspiracy', 'eyesore', 'slumpping', 'revoke', 'unwell', 'simplistically', 'abyss', 'darken', 'bewail', 'dumbfound', 'boycott', 'disavow', 'outbursts', 'fatty', 'unbelievable', 'savagery', 'back-logged', 'limitation', 'frenetic', 'bicker', 'abrupt', 'bleeds', 'crumples', 'discombobulate', 'doggedly', 'nauseating', 'brat', 'prosecute', 'fastuous', 'nave', 'inundated', 'flaw', 'recklessly', 'declining', 'disasterous', 'imposing', 'annoy', 'displace', 'hiliarious', 'insubstantially', 'sarcastically', 'impose', 'sinister', 'injure', 'unkindly', 'miff', 'scaly', 'spoil', 'wreaks', 'rape', 'moronic', 'licentiously', 'scornfully', 'startling', 'complaints', 'underestimate', 'grudgingly', 'defamations', 'forswear', 'rattle', 'audiciously', 'retreat', 'faltered', 'decry', 'stressful', 'crass', 'belligerently', 'sad', 'clunky', 'wobble', 'downgrade', 'aborted', 'smash', 'hamper', 'bristle', 'importunate', 'complication', 'downfall', 'rocky', 'unsettle', 'dusty', 'clamor', 'covetous', 'disillusion', 'inundate', 'insolent', 'agonizing', 'backbite', 'evils', 'confession', 'gawk', 'debauch', 'imprudence', 'sneering', 'loneliness', 'helpless', 'scandalous', 'cancer', 'vehemently', 'critic', 'debase', 'cripples', 'frantically', 'quarrellously', 'sneeringly', 'dissatisfied', 'judder', 'chatterbox', 'spade', 'capitulate', 'offenses', 'trashy', 'ingratitude', 'angrily', 'ambush', 'hard-line', 'sunk', 'shortness', 'fictitious', 'interfere', 'deject', 'futile', 'unauthentic', 'wastefulness', 'lackluster', 'musty', 'vomiting', 'unacceptable', 'warp', 'shamelessness', 'ferociously', 'inexorable', 'awkward', 'impunity', 'sneak', 'stubbornness', 'cheat', 'indiscretion', 'dishonest', 'negation', 'ostracize', 'overweight', 'regress', 'lonely', 'fractious', 'viciousness', 'blunders', 'inhospitable', 'clog', 'inexorably', 'killed', 'chill', 'exaggerate', 'obtrusive', 'rebellious', 'shrilly', 'yawn', 'inconveniently', 'sensationalize', 'oversights', 'harden', 'fatalistically', 'feeble', 'rigidness', 'undocumented', 'virulent', 'capriciousness', 'miscreants', 'roadblocks', 'cloudy', 'horrifies', 'implicate', 'distortion', 'immovable', 'dumped', 'contaminates', 'fevers', 'bulkyness', 'indignantly', 'reject', 'terribly', 'hack', 'irredeemably', 'moot', 'decline', 'bothers', 'aborts', 'debauchery', 'acrimonious', 'hopelessly', 'inconsistence', 'languorously', 'dispensable', 'embroilment', 'mislead', 'inadequacy', 'overpriced', 'prejudicial', 'prickle', 'punishable', 'deteriorate', 'runaway', 'geezer', 'sceptical', 'regrets', 'shameful', 'broken', 'irritant', 'browbeat', 'contravene', 'slowed', 'smutty', 'poky', 'stringently', 'trick', 'blundering', 'indigent', 'lags', 'beggarly', 'deprecate', 'left-leaning', 'incompetently', 'trapped', 'spoilled', 'sadden', 'strident', 'unresponsive', 'irrationals', 'wrongful', 'throbs', 'bother', 'misguidance', 'mediocre', 'succumb', 'mangle', 'uncivilized', 'rubbish', 'calamitous', 'precarious', 'insults', 'confuses', 'concerns', 'cowardly', 'lone', 'bothersome', 'instigator', 'contamination', 'steals', 'devilment', 'usurp', 'jabber', 'obstinate', 'sham', 'whining', 'mispronounce', 'virus', 'infected', 'rigidity', 'split', 'stole', 'deter', 'troubling', 'freak', 'betrayals', 'hiss', 'ominously', 'pout', 'spotty', 'exhausted', 'ill-defined', 'demonizes', 'allergies', 'poisonously', 'prickles', 'sugarcoated', 'equivocal', 'contradiction', 'beware', 'bumpping', 'sunder', 'depress', 'murky', 'waste', 'rants', 'unusable', 'throttle', 'barbarically', 'paranoia', 'irreparable', 'contemptuous', 'scandalize', 'disappoints', 'freezes', 'mushy', 'sh*t', 'truant', 'bemused', 'inconsequent', 'damn', 'cringed', 'hurtful', 'flees', 'acrid', 'ridicule', 'gainsayer', 'illusory', 'prohibit', 'crude', 'jerky', 'screwed', 'demonize', 'raped', 'stalemate', 'tentatively', 'anarchy', 'tease', 'rampage', 'laughingstock', 'impotent', 'predicament', 'discrepant', 'sardonically', 'scourge', 'violently', 'watered-down', 'irrelevant', 'flounder', 'excessively', 'exclusion', 'distract', 'funnily', 'crashed', 'obstinately', 'insolently', 'sags', 'blemish', 'delinquent', 'fumble', 'litigious', 'precipitous', 'insidious', 'senselessly', 'zaps', 'jam', 'execrate', 'fanatics', 'meddle', 'blockage', 'glut', 'inaccuracy', 'twists', 'deplorably', 'improper', 'bleak', 'panicking', 'madder', 'remorseful', 'abrade', 'insanity', 'smudging', 'murderous', 'belittled', 'gibe', 'shallow', 'fatally', 'life-threatening', 'intolerance', 'wallow', 'dent', 'assassin', 'impedance', 'latency', 'gutter', 'overshadow', 'inordinately', 'unseemly', 'mock', 'antagonize', 'depressed', 'fraught', 'lawbreaker', 'smokescreen', 'repudiation', 'rhetorical', 'strike', 'unexpectedly', 'frustrations', 'complex', 'crummy', 'hardships', 'alienate', 'rusts', 'parody', 'relentlessness', 'irascible', 'timidness', 'nagging', 'lurking', 'filth', 'grievance', 'falsely', 'flicering', 'obscenely', 'raging', 'shrivel', 'wreaked', 'taboo', 'bereave', 'cheerless', 'despair', 'inequalities', 'scratches', 'vomited', 'infringement', 'tenuous', 'displeased', 'beset', 'incendiary', 'imperfectly', 'impiety', 'disabled', 'fever', 'abruptly', 'nemesis', 'underpowered', 'whiny', 'drawback', 'disprove', 'bruise', 'nettlesome', 'hustler', 'ignominy', 'horrendously', 'naughty', 'ruins', 'inconsistencies', 'incomprehensible', 'fawningly', 'cheap', 'run-down', 'ominous', 'shortage', 'aspersions', 'chaff', 'discontent', 'unraveled', 'discomfit', 'drop-out', 'forsake', 'ill-conceived', 'trickery', 'wasted', 'strife', 'oblique', 'downheartedly', 'ironic', 'smug', 'busybody', 'entangle', 'divergent', 'untruthful', 'disintegrate', 'hotheaded', 'irresponsibly', 'tangle', 'whimper', 'choleric', 'nefariously', 'impatient', 'mortification', 'disillusioned', 'worriedly', 'quack', 'perish', 'bland', 'raving', 'irrecoverable', 'ordeal', 'recoil', 'unuseably', 'cheater', 'stuck', 'uproarious', 'ineffectualness', 'woebegone', 'bonkers', 'irrecoverableness', 'degenerate', 'castrated', 'delaying', 'garbage', 'bungle', 'gullible', 'lumpy', 'scapegoat', 'apprehensively', 'excruciating', 'frantic', 'glib', 'eruptions', 'illegally', 'indifference', 'lapse', 'lukewarm', 'carp', 'devastation', 'harridan', 'steep', 'taunting', 'anarchism', 'traumatized', 'distraction', 'inferior', 'distrustful', 'emaciated', 'sever', 'disappointing', 'gimmicky', 'scandalously', 'snobby', 'over-balanced', 'skittish', 'oddities', 'blunder', 'extravagant', 'dislike', 'repulse', 'helplessness', 'hysteric', 'impeach', 'impetuously', 'trivial', 'enviously', 'bully', 'brashly', 'intoxicate', 'sufferer', 'deplorable', 'aggressor', 'uproar', 'vengeance', 'cataclysmically', 'impossibly', 'wedge', 'burn', 'byzantine', 'chaos', 'sting', 'undermine', 'flee', 'salacious', 'hypocrites', 'squabbling', 'fraudulent', 'furious', 'diappointed', 'slug', 'stringent', 'resignation', 'graft', 'barbarous', 'stunt', 'cry', 'fatal', 'imbalance', 'grisly', 'maddening', 'stormy', 'surrender', 'allege', 'unreasonable', 'stunted', 'wrest', 'bore', 'hostility', 'haters', 'irreconcilable', 'hellion', 'isolation', 'disadvantages', 'gibber', 'floored', 'pathetically', 'fuzzy', 'frustrated', 'perverse', 'loophole', 'curses', 'douchbag', 'stupidly', 'blur', 'fear', 'disordered', 'irreplacible', 'gangster', 'defame', 'drought', 'gruesome', 'impair', 'incompatible', 'insinuation', 'uncreative', 'wildly', 'panicked', 'freakish', 'deluded', 'outsider', 'tired', 'brainwash', 'unyielding', 'pathetic', 'unhappiness', 'failures', 'grouch', 'gimmick', 'smouldering', 'costlier', 'dissappointed', 'effigy', 'condemnation', 'forlorn', 'slashing', 'riled', 'immaterial', 'disapproving', 'disgracefully', 'puppets', 'poorly', 'contend', 'shadowy', 'anti-white', 'chronic', 'crooks', 'misdirection', 'profane', 'vestiges', 'wearisome', 'dissonant', 'felon', 'laconic', 'pitiable', 'spinster', 'unstable', 'pander', 'unsupported', 'selfishness', 'rip-off', 'chasten', 'retaliate', 'struggled', 'fiendish', 'ill-treatment', 'volatility', 'impoverished', 'prejudices', 'shameless', 'terrorism', 'pest', 'disgraceful', 'dissuasive', 'grind', 'gracelessly', 'irksome', 'spitefulness', 'horde', 'harpy', 'letch', 'treachery', 'banalize', 'dawdle', 'jitters', 'sag', 'fat-cat', 'miscellaneous', 'unreachable', 'disobedient', 'macabre', 'cancerous', 'scummy', 'bombard', 'deceiver', 'innuendo', 'trample', 'condemn', 'creep', 'haughtily', 'lackey', 'harrow', 'chatter', 'lurch', 'boggle', 'confrontation', 'screwy', 'unlawfully', 'adulteration', 'crabby', 'unequal', 'subservience', 'far-fetched', 'passe', 'provoke', 'menial', 'quitter', 'criticize', 'persecution', 'mockery', 'spoon-fed', 'lesser-known', 'troublesomely', 'bullyingly', 'belligerence', 'hoodium', 'inaccuracies', 'snobs', 'shimmy', 'prohibitively', 'conspiracies', 'fundamentalism', 'remorselessly', 'ugliness', 'painfull', 'distraught', 'corruption', 'entrapment', 'afraid', 'absurdness', 'spookily', 'negligent', 'ruin', 'midget', 'rant', 'unrealistic', 'fallaciousness', 'collapse', 'rebuff', 'smother', 'tempest', 'pricier', 'erosion', 'sluts', 'unfaithfully', 'reprovingly', 'sueing', 'tingling', 'bedlam', 'turmoil', 'torment', 'exploitation', 'preposterous', 'morons', 'inflammed', 'meaningless', 'disorient', 'incompatability', 'haunt', 'overact', 'foolish', 'downsides', 'ghetto', 'insupportable', 'leery', 'burdensomely', 'cracks', 'deception', 'scrambles', 'mists', 'objections', 'excuses', 'hallucination', 'troubles', 'losers', 'deride', 'mournfully', 'irragularity', 'timidly', 'craven', 'staid', 'biting', 'gutless', 'downbeat', 'mourn', 'mundane', 'opposition', 'pique', 'diabolically', 'refute', 'bullies', 'stingy', 'rival', 'dastard', 'vulnerable', 'monotonous', 'leakages', 'obnoxiously', 'complicit', 'wasteful', 'fatuously', 'absurd', 'plotters', 'baffled', 'disproportionate', 'restlessness', 'offence', 'leech', 'flimsy', 'wack', 'flat-out', 'excoriate', 'domineering', 'intefere', 'morbid', 'slogging', 'underlings', 'untimely', 'sorrowful', 'disappointingly', 'licentiousness', 'perverted', 'pittance', 'stiflingly', 'deluge', 'overthrows', 'tiringly', 'aggravating', 'embarrass', 'heartbreaking', 'explosive', 'violator', 'disturbance', 'usurper', 'enmity', 'controversial', 'implication', 'fastidious', 'culprit', 'boisterous', 'inconsolable', 'remorsefully', 'handicapped', 'displease', 'diametrically', 'tepid', 'insanely', 'reluctant', 'disdained', 'weak', 'goofy', 'scuffs', 'symptom', 'imprisonment', 'intrusion', 'joker', 'stingingly', 'dissembler', 'authoritarian', 'irregularity', 'incapably', 'despotism', 'broke', 'hang', 'peculiar', 'haggard', 'indecisively', 'lonesome', 'died', 'immorally', 'rip', 'flabbergast', 'besiege', 'cannibal', 'perversely', 'infringe', 'foe', 'plea', 'vibration', 'offensive', 'grouse', 'offend', 'befoul', 'incorrigibly', 'mire', 'virulently', 'wrinkled', 'disturbing', 'overstatements', 'picketing', 'refutes', 'misaligned', 'setbacks', 'shrill', 'defiance', 'disconcerting', 'entrap', 'insufficiently', 'phobic', 'mashed', 'censure', 'heresy', 'inferiority', 'inequitable', 'clumsy', 'disconsolation', 'foolhardy', 'scrambled', 'improbable', 'farfetched', 'scared', 'apologist', 'obsess', 'hideousness', 'terror', 'retardedness', 'hideously', 'picky', 'superficially', 'dispiritedly', 'craftly', 'grudge', 'ruining', 'uncomfy', 'droops', 'debilitating', 'extraneous', 'muddy', 'noise', 'conflicting', 'chintzy', 'contaminated', 'oddity', 'stress', 'impugn', 'dastardly', 'dark', 'inconsiderately', 'cliche', 'drab', 'overpower', 'fickle', 'inteferes', 'pain', 'craftily', 'miscreant', 'volatile', 'apprehensions', 'bedlamite', 'frozen', 'wheedle', 'unachievable', 'woefully', 'destitute', 'menace', 'semi-retarded', 'allegation', 'heckles', 'smudge', 'lambast', 'derogatory', 'subpoena', 'bloodshed', 'misreading', 'somber', 'infirm', 'sober', 'tragic', 'breakdown', 'wobbled', 'misalign', 'unfit', 'skeptically', 'untouched', 'inconsequentially', 'shortcomings', 'decrement', 'dissonance', 'annoyed', 'dungeon', 'sue', 'bogus', 'squeaky', 'unviewable', 'f**k', 'grieving', 'mortify', 'bizarre', 'fidget', 'forgetful', 'commiserate', 'betrayal', 'prick', 'shrouded', 'incessantly', 'disarray', 'invective', 'knife', 'superfluous', 'crumpled', 'dislocated', 'impediment', 'shaky', 'spoilage', 'thumb-down', 'hestitant', 'exorbitantance', 'sunken', 'illogic', 'lacking', 'apocalypse', 'fluster', 'infidels', 'distracting', 'mischief', 'unsettling', 'threats', 'peeve', 'undersized', 'corruptted', 'obtuse', 'audacious', 'flickers', 'denigrate', 'unwarranted', 'twist', 'perversity', 'confuse', 'apathetically', 'slowest', 'farcically', 'skeptical', 'venom', 'exhaust', 'multi-polarization', 'suspicious', 'mournful', 'invalidity', 'spite', 'derisively', 'disservice', 'sucked', 'criticized', 'dubiously', 'revolt', 'unsteady', 'worrier', 'uprising', 'anxious', 'concen', 'break-up', 'election-rigger', 'itchy', 'tumbled', 'unexplained', 'misapprehend', 'paucity', 'ultimatum', 'unnervingly', 'devil', 'inelegant', 'disdainfully', 'dunce', 'fake', 'adamantly', 'inhospitality', 'commotion', 'rantingly', 'calamity', 'onslaught', 'strangest', 'inordinate', 'tarnish', 'eschew', 'lividly', 'losing', 'bores', 'sleazy', 'stampede', 'misbegotten', 'exasperation', 'jeering', 'obstructing', 'irrationally', 'scandalized', 'exasperatingly', 'sued', 'negatives', 'heckle', 'incredulous', 'undermined', 'undercuts', 'flairs', 'conspicuous', 'scum', 'rattled', 'unclean', 'mocking', 'dread', 'scorching', 'upsets', 'stupid', 'swelled', 'seethe', 'unaffordable', 'wimpy', 'disregard', 'forgetfully', 'inexperience', 'destruction', 'ripped', 'reprehension', 'warped', 'indoctrination', 'irreformable', 'drawbacks', 'back-woods', 'poverty', 'complain', 'ill-advised', 'screech', 'neglect', 'disillusionment', 'viciously', 'destructive', 'derision', 'loathsome', 'reprehensive', 'dripped', 'cravenly', 'passiveness', 'procrastination', 'ineloquently', 'uncaring', 'lech', 'misinformed', 'traped', 'aggressive', 'spookiest', 'tattered', 'annoyance', 'anxiously', 'hell-bent', 'smut', 'faults', 'idiocy', 'repugnantly', 'finicky', 'diabolical', 'enraged', 'joke', 'strictly', 'insubstantial', 'fatuity', 'mischievous', 'nervous', 'straining', 'spank', 'malevolent', 'bereft', 'resurgent', 'impudently', 'twisted', 'brainless', 'snobbish', 'disinterest', 'dirts', 'disaffected', 'frenzied', 'reprimand', 'unnecessary', 'havoc', 'wince', 'unkind', 'superficiality', 'catastrophies', 'inefficiently', 'dispute', 'brutish', 'molestation', 'foul', 'pains', 'perilously', 'slower', 'broken-hearted', 'radically', 'unsupportive', 'obscene', 'stark', 'anti-american', 'denunciations', 'accusing', 'capsize', 'creaking', 'unconvincingly', 'fraud', 'over-priced', 'spoonfed', 'layoff-happy', 'weird', 'derisive', 'harms', 'jealously', 'apprehension', 'undetermined', 'intimidatingly', 'warning', 'butcher', 'contaminating', 'saggy', 'ineptitude', 'scarcely', 'nonexistent', 'clamorous', 'thumbs-down', 'defamatory', 'lugubrious', 'top-heavy', 'forbidding', 'infiltrators', 'glum', 'petrify', 'refused', 'vex', 'horrified', 'water-down', 'lagged', 'incompliant', 'disgruntled', 'erratic', 'tenderness', 'backwood', 'scathing', 'tormented', 'wily', 'frustrate', 'nebulously', 'steal', 'flake', 'reluctance', 'unscrupulously', 'cranky', 'gross', 'hazard', 'fiasco', 'cronyism', 'flak', 'irks', 'dirtbag', 'sanctimonious', 'thirst', 'slanderous', 'prison', 'galls', 'overwhelmed', 'anxiousness', 'fallout', 'misleading', 'flakey', 'stench', 'bruised', 'undefined', 'brazen', 'anti-proliferation', 'disconcerted', 'famished', 'autocratic', 'inefficiency', 'abusive', 'disgrace', 'egotistically', 'asperse', 'contaminate', 'false', 'inadequately', 'bewitch', 'incessant', 'hasseling', 'massacres', 'satirical', 'vindictive', 'anti-social', 'pessimistic', 'berserk', 'lethal', 'stranger', 'incognizant', 'painful', 'bleakly', 'prejudge', 'casualty', 'decrepitude', 'snappish', 'long-time', 'irritate', 'backwoods', 'touts', 'disputable', 'disavowal', 'mope', 'prideful', 'ill-fated', 'downfallen', 'inconsolably', 'blame', 'disorganized', 'dauntingly', 'ricer', 'arrogant', 'averse', 'pimple', 'extermination', 'languid', 'defects', 'inefficient', 'mocked', 'impurity', 'unproved', 'misfortune', 'two-faces', 'neurotically', 'bewilderment', 'frigging', 'indiscreet', 'moan', 'unprove', 'penalize', 'strut', 'gravely', 'questionable', 'threatening', 'prisoner', 'allegations', 'slowww', 'infested', 'contrived', 'despicably', 'curt', 'criticizing', 'slack', 'instable', 'nightmare', 'stumble', 'disgusting', 'oppose', 'disbeliever', 'donside', 'archaic', 'miserableness', 'mindless', 'pandemonium', 'quarrellous', 'submissive', 'calumnies', 'draconic', 'bastard', 'disappointments', 'slut', 'sly', 'uncomfortable', 'stereotypical', 'undecided', 'worry', 'muscle-flexing', 'unwanted', 'dullard', 'dick', 'harboring', 'brimstone', 'orphan', 'unprepared', 'enviousness', 'exhort', 'fallaciously', 'fierce', 'incompetence', 'involuntary', 'noxious', 'stereotype', 'ruined', 'frenzy', 'delusional', 'rejecting', 'mordant', 'limits', 'absurdly', 'dizzing', 'reticent', 'discriminatory', 'frightfully', 'neglected', 'bravado', 'procrastinates', 'bumps', 'scare', 'suffer', 'alienated', 'vengefulness', 'touchy', 'hobble', 'unorthodoxy', 'quarrelsome', 'condemns', 'unaccessible', 'dud', 'vagueness', 'coarse', 'cruelest', 'lacked', 'murderously', 'imperialist', 'accursed', 'cursed', 'fail', 'impatiently', 'rail', 'adversarial', 'vilify', 'dirty', 'oppressors', 'overbalance', 'sadness', 'slump', 'despise', 'diffidence', 'leer', 'outrage', 'discontinued', 'delayed', 'grimace', 'hardheaded', 'dismayed', 'indeterminable', 'streaky', 'bankrupt', 'motley', 'hostage', 'fanatically', 'fuss', 'glaringly', 'adamant', 'inculcate', 'leak', 'marginal', 'misjudgment', 'lapsed', 'obstructs', 'starve', 'gabble', 'severe', 'harangue', 'zealous', 'indolent', 'hypocricy', 'strangely', 'quandary', 'belittle', 'bombastic', 'cracked', 'temptation', 'defensive', 'misrepresent', 'breakup', 'barbarian', 'impoverish', 'mockingly', 'costly', 'sack', 'qualm', 'faithless', 'scrap', 'sneakily', 'flareup', 'unjustified', 'ho-hum', 'sucks', 'egregious', 'blab', 'lying', 'misguided', 'pertinacious', 'exacerbate', 'adversity', 'ludicrously', 'genocide', 'whips', 'greasy', 'inveigle', 'freaks', 'payback', 'debilitate', 'low-rated', 'deceit', 'incoherently', 'negative', 'rebuke', 'sour', 'pretense', 'traitorous', 'pity', 'screwed-up', 'faze', 'improperly', 'inextricable', 'threesome', 'totalitarian', 'dreadfully', 'fruitlessly', 'inequality', 'slooow', 'downturns', 'exasperated', 'declaim', 'inaudible', 'crippling', 'bleeding', 'disallow', 'bent', 'poison', 'sweaty', 'dissing', 'penalty', 'humming', 'restriction', 'unwilling', 'plunderer', 'suffocate', 'mourner', 'rigid', 'brutality', 'maliciousness', 'unwieldy', 'expropriation', 'fooled', 'spookier', 'undermining', 'cringes', 'failure', 'immoderately', 'deign', 'argumentative', 'second-tier', 'misrepresentation', 'prevaricate', 'contradict', 'disagreeing', 'madden', 'beleaguer', 'denying', 'hampered', 'instigators', 'bestial', 'stiffness', 'pry', 'leakage', 'misgivings', 'lied', 'fault', 'noisier', 'avaricious', 'disagrees', 'contention', 'crack', 'injustices', 'overzelous', 'unqualified', 'hardliners', 'falsehood', 'irk', 'bull****', 'horrifying', 'insecurity', 'calumnious', 'stigmatize', 'ill-formed', 'combative', 'adulterated', 'dragging', 'daze', 'longing', 'impenitent', 'unpleasant', 'problem', 'ruthlessness', 'unwisely', 'misgiving', 'impertinent', 'wretchedly', 'disgruntle', 'error', 'anxieties', 'inane', 'vent', 'vengeful', 'bad', 'sabotage', 'slanderer', 'baseless', 'drowning', 'discourteously', 'bewildering', 'pillory', 'taunt', 'rivalry', 'cheesy', 'dumps', 'pervert', 'arcane', 'temper', 'encroach', 'tricked', 'credulous', 'difficulty', 'bigotries', 'failed', 'blameworthy', 'exhausts', 'fall', 'lawless', 'frustrates', 'deadbeat', 'panders', 'disdainful', 'hypocrite', 'worries', 'enflame', 'unaccustomed', 'monstrosity', 'bait', 'floundering', 'melodramatically', 'counterproductive', 'bulky', 'douchebag', 'isolate', 'boring', 'tyrant', 'dupe', 'fugitive', 'stressfully', 'unrelentingly', 'drags', 'hothouse', 'insolvent', 'unlawful', 'smells', 'haphazard', 'downside', 'harried', 'antipathy', 'inconceivably', 'desolation', 'inadvisable', 'indecision', 'jobless', 'liars', 'stigma', 'bumpy', 'idiot', 'overwhelming', 'disrespectful', 'bashful', 'detesting', 'mar', 'doddering', 'malcontented', 'calamities', 'envious', 'disheartening', 'conscons', 'invidiously', 'irrational', 'rejected', 'victimize', 'wretched', 'uncouth', 'hostile', 'snob', 'unethical', 'cramping', 'regreted', 'risky', 'disloyalty', 'degrade', 'harbors', 'hooligan', 'addicts', 'collusion', 'subpoenas', 'unclear', 'negativity', 'dreadful', 'enraging', 'bribery', 'grievously', 'poorer', 'ineloquent', 'pales', 'meltdown', 'frictions', 'sticky', 'overstatement', 'overwhelm', 'vindictiveness', 'gloomy', 'impure', 'hardliner', 'limited', 'deplore', 'mangled', 'repel', 'addicting', 'braggart', 'whores', 'ambiguous', 'disastrous', 'glitch', 'buckle', 'erodes', 'filthy', 'problematic', 'defile', 'detraction', 'back-wood', 'jittery', 'unhappy', 'concessions', 'unlamentable', 'uproot', 'capriciously', 'fussy', 'mishandle', 'frightening', 'unimaginably', 'uncollectible', 'ill-used', 'vexing', 'wilt', 'shabby', 'mirage', 'antiquated', 'barbarity', 'disbelieve', 'unlicensed', 'brusque', 'evasion', 'freakishly', 'indelicate', 'discontinuity', 'spooky', 'inexcusable', 'imperil', 'harasses', 'enjoin', 'blackmail', 'naively', 'crafty', 'insane', 'condescendingly', 'sap', 'disappointment', 'discordance', 'tamper', 'inefficacy', 'tawdry', 'desertion', 'strain', 'wretchedness', 'messy', 'unnerve', 'irate', 'insociable', 'killjoy', 'conflict', 'strained', 'obsessively', 'gritty', 'bullshyt', 'heretical', 'uninsured', 'shortsighted', 'incomparable', 'racy', 'detracted', 'pervasive', 'grossly', 'crashes', 'imprudent', 'ragged', 'recklessness', 'drains', 'calumniate', 'vain', 'unconfirmed', 'limitations', 'crook', 'blurry', 'fainthearted', 'get-rich', 'indoctrinate', 'denies', 'gimmicks', 'funky', 'punch', 'radicals', 'unilateralism', 'paralyzed', 'outrageous', 'rude', 'liability', 'symptoms', 'bashed', 'mawkishness', 'occluded', 'ripoff', 'subversively', 'acerbic', 'adulterate', 'sinfully', 'dissidents', 'insulted', 'complaining', 'indecency', 'impetuous', 'loser', 'forlornly', 'annihilation', 'inclement', 'lecherous', 'stooge', 'bunk', 'bereavement', 'mistrust', 'uneasily', 'wreck', 'gall', 'deficiencies', 'distress', 'racists', 'tetchily', 'brazenly', 'downcast', 'sufferers', 'flirt', 'insecure', 'weed', 'spew', 'deterrent', 'plunder', 'unfaithful', 'disapointment', 'ignominious', 'crazily', 'destabilisation', 'gauche', 'detest', 'madly', 'despondence', 'coercive', 'oddest', 'overblown', 'stuttering', 'undercut', 'insidiously', 'rash', 'ineffectual', 'unreasonably', 'drunk', 'obliterated', 'cocky', 'unable', 'bullshit', 'fiend', 'lack', 'hells', 'stupify', 'thorny', 'hissed', 'fury', 'hurted', 'banish', 'expunge', 'overbearingly', 'nastiness', 'dissocial', 'thrash', 'timid', 'tyranny', 'uneconomical', 'inevitably', 'audacity', 'confusing', 'corrupt', 'hesitant', 'irony', 'scold', 'smallish', 'knave', 'sickly', 'untenable', 'chaotic', 'irksomely', 'wicked', 'desiccated', 'excruciatingly', 'pestilent', 'cramp', 'untrue', 'invidious', 'impede', 'uninformed', 'decadent', 'drips', 'remorselessness', 'dangerousness', 'mendacity', 'partiality', 'racist', 'scratch', 'drastically', 'stifling', 'unbelievably', 'non-confidence', 'phony', 'plasticky', 'worse', 'avenge', 'erratically', 'puppet', 'inextricably', 'threaten', 'collude', 'suck', 'crumble', 'flickering', 'dishearteningly', 'catastrophe', 'hissing', 'disapprobation', 'unresolved', 'boredom', 'worthlessness', 'paltry', 'forceful', 'd*mn', 'counter-productive', 'misunderstandings', 'overpayed', 'perfidity', 'unreliable', 'groundless', 'uncompromising', 'rot', 'cataclysmal', 'uncompetitive', 'craps', 'stealing', 'inadverent', 'bugs', 'gainsay', 'cackle', 'diatribes', 'ludicrous', 'frigid', 'seething', 'lambaste', 'batty', 'obscured', 'drippy', 'flagging', 'loner', 'fulminate', 'noises', 'shun', 'blurt', 'bloated', 'scowl', 'wrinkle', 'pitiful', 'blabber', 'humid', 'squabble', 'indiscriminating', 'zap', 'inhumanity', 'injury', 'beseech', 'ineffectively', 'discomfort', 'overemphasize', 'stain', 'exasperate', 'jeer', 'dreary', 'enfeeble', 'stumped', 'arrogantly', 'illness', 'meanness', 'expel', 'pratfall', 'tingled', 'unhappily', 'bowdlerize', 'defy', 'bug', 'flagrant', 'vulgar', 'unfulfilled', 'deceitfulness', 'unspecified', 'infringements', 'dissident', 'grotesque', 'long-winded', 'pedantic', 'calumniously', 'futility', 'lackadaisical', 'defiantly', 'senile', 'unorthodox', 'issues', 'intransigence', 'erroneous', 'blind', 'stereotypically', 'deviation', 'shamefulness', 'petrified', 'fatique', 'languorous', 'interferes', 'inaccurately', 'tauntingly', 'lorn', 'misstatement', 'weakening', 'infest', 'phobia', 'heretic', 'demoralizingly', 'shriek', 'tortured', 'stall', 'bored', 'unappealing', 'decayed', 'messing', 'effrontery', 'droop', 'gimmicked', 'deplete', 'inflict', 'refuted', 'intense', 'licentious', 'disgustful', 'doom', 'antagonism', 'hell', 'unleash', 'punk', 'pessimism', 'whore', 'reprove', 'perplexed', 'discontented', 'anti-', 'betray', 'exhorbitant', 'horrifys', 'egotism', 'corrupted', 'denunciation', 'disagree', 'adverse', 'disgustedly', 'jealousness', 'melodramatic', 'battered', 'peculiarly', 'distressed', 'overplay', 'suffers', 'obstacle', 'tangled', 'haywire', 'oversimplified', 'madman', 'affront', 'slime', 'injustice', 'engulf', 'fried', 'intolerablely', 'scorchingly', 'racism', 'inequitably', 'damned', 'cheats', 'farcical', 'interrupt', 'disaccord', 'solicitude', 'dubious', 'perplex', 'blatantly', 'astray', 'gaudy', 'lawbreaking', 'stuttered', 'imminently', 'raked', 'loses', 'shockingly', 'crush', 'congestion', 'satirize', 'dragoon', 'stumbled', 'burns', 'desecrate', 'coldly', 'moron', 'scariest', 'loathing', 'contrive', 'disvalue', 'unfamiliar', 'diabolic', 'biased', 'evasive', 'problems', 'shunned', 'occlude', 'vainly', 'abolish', 'botch', 'protracted', 'thoughtless', 'unsustainable', 'cunt', 'impudent', 'baffling', 'unacceptably', 'drunkard', 'fleed', 'toxic', 'horrid', 'apprehensive', 'hegemonistic', 'idiotically', 'mania', 'overlook', 'abominably', 'ambiguity', 'subvert', 'indignant', 'unavoidably', 'endanger', 'debacle', 'imposers', 'dragged', 'acridly', 'occludes', 'fanatical', 'vague', 'freezing', 'stridently', 'lethargy', 'starvation', 'jeers', 'ached', 'strict', 'inhuman', 'sorrow', 'bloodthirsty', 'austere', 'fearful', 'devastatingly', 'tout', 'blister', 'quibble', 'inept', 'cramped', 'addicted', 'fragile', 'repugn', 'concede', 'impolitely', 'loud', 'maledict', 'junkyard', 'polarisation', 'sacrificed', 'diatribe', 'grouchy', 'ineligible', 'soapy', 'unknown', 'slaughtered', 'hypocritical', 'ill-mannered', 'bum', 'mischievously', 'disclaim', 'coward', 'foulness', 'job-killing', 'layoff', 'pickets', 'perfidious', 'self-interested', 'smelt', 'deceptive', 'flighty', 'ghastly', 'moody', 'reckless', 'irrepressible', 'villianously', 'incommensurate', 'sloooow', 'corrupting', 'scoundrel', 'worthlessly', 'banishment', 'instability', 'acerbate', 'harass', 'degrading', 'dissolute', 'savages', 'hung', 'creaks', 'suspect', 'virulence', 'undignified', 'mispronounces', 'misleadingly', 'deadly', 'ruthlessly', 'conflicts', 'mistrustful', 'overbalanced', 'facetious', 'hardened', 'stiff', 'extremist', 'struggle', 'recession', 'injudicious', 'unlucky', 'misery', 'tiresome', 'regret', 'profanity', 'escapade', 'sluggish', 'unfavorable', 'frenetically', 'ache', 'disappoint', 'exorbitantly', 'insensible', 'lewdness', 'irritation', 'obnoxious', 'overwhelms', 'slow-moving', 'torrent', 'fatigued', 'crushing', 'misbecome', 'incompatibility', 'peril', 'unconvincing', 'wanton', 'eccentricity', 'confusion', 'laggy', 'comical', 'randomly', 'greedy', 'snagged', 'pan', 'stinks', 'dismalness', 'malice', 'scrambling', 'hassles', 'impropriety', 'disobedience', 'aggravate', 'goading', 'disrespectable', 'inapt', 'taut', 'appal', 'disliked', 'errors', 'bash', 'callous', 'evade', 'frustration', 'incongruously', 'starkly', 'unsuccessful', 'weakness', 'objection', 'anxiety', 'utterly', 'smear', 'forfeit', 'full-blown', 'high-priced', 'snag', 'dissuade', 'snags', 'unfinished', 'horrify', 'futilely', 'enslave', 'accusation', 'debaucher', 'powerless', 'unusual', 'cussed', 'insignificantly', 'limit', 'despot', 'ignorant', 'squeal', 'obsessiveness', 'strenuous', 'tumultuous', 'disarm', 'damages', 'rejects', 'dropout', 'disrupt', 'dizzingly', 'ravage', 'whine', 'grapple', 'dishonorablely', 'knock', 'smell', 'smoldering', 'asininely', 'criminal', 'infection', 'rogue', 'panic', 'unsound', 'unsteadiness', 'hysterical', 'sharply', 'shrug', 'quarrel', 'transgress', 'dust', 'forbidden', 'disgraced', 'disturbingly', 'worthless', 'dissatisfies', 'retarded', 'infraction', 'oversight', 'laughably', 'outlaw', 'setback', 'detracts', 'crash', 'exaggeration', 'fleeting', 'hysterically', 'unemployed', 'miss', 'bondage', 'menacing', 'disagreeably', 'insular', 'grate', 'anti-semites', 'beastly', 'ranted', 'unrest', 'checkered', 'downhearted', 'unfounded', 'impatience', 'backward', 'perturb', 'refuses', 'stew', 'harsh', 'redundancy', 'aloof', 'scornful', 'disintegration', 'treacherously', 'torturously', 'grumpiest', 'err', 'misbecoming', 'grudges', 'hypocrisy', 'retaliatory', 'inadvisably', 'oppressively', 'trash', 'aching', 'crime', 'inimical', 'derisiveness', 'rremediable', 'alarm', 'chore', 'over-valuation', 'unipolar', 'accidental', 'gruesomely', 'despoil', 'proprietary', 'horrific', 'bid-rigging', 'alarmingly', 'hype', 'peevishly', 'clueless', 'sarcastic', 'throbbing', 'dishonesty', 'caustic', 'tarnished', 'unsavory', 'boiling', 'dictatorial', 'damper', 'inconsistent', 'oppressiveness', 'subversive', 'dishearten', 'nuisance', 'upset', 'burden', 'squirm', 'detestably', 'frighteningly', 'polution', 'din', 'conspirator', 'hangs', 'trivialize', 'felonious', 'death', 'detested', 'fudge', 'rollercoaster', 'aggrieved', 'overzealous', 'darker', 'decay', 'madness', 'mendacious', 'fastidiously', 'nefarious', 'damnation', 'discourteous', 'distains', 'foully', 'smudges', 'urgent', 'outburst', 'traitorously', 'unsafe', 'worrying', 'demon', 'amiss', 'fracture', 'manipulation', 'drained', 'dissention', 'swollen', 'lascivious', 'unsettlingly', 'scarier', 'lawlessness', 'condescension', 'fearsome', 'distressingly', 'illogical', 'inanely', 'kook', 'liable', 'subtract', 'travesties', 'troubled', 'vanity', 'vagrant', 'violent', 'depraved', 'womanizer', 'dilemma', 'resistance', 'bane', 'affliction', 'breaking', 'seriousness', 'dwindling', 'expropriate', 'indignation', 'tyrannical', 'aweful', 'underdog', 'giddy', 'estranged', 'heck', 'imprecisely', 'over-hyped', 'shamefully', 'trashed', 'imprecise', 'confusions', 'oppression', 'despondency', 'ire', 'skittishly', 'condemned', 'cynicism', 'irked', 'sloppily', 'agonies', 'shock', 'struggles', 'ax', 'misjudge', 'wobbles', 'deceptively', 'damnably', 'melancholy', 'quibbles', 'kill', 'refuse', 'bombardment', 'stagnant', 'stale', 'catastrophically', 'undone', 'unwise', 'thicker', 'fears', 'maladjusted', 'revulsive', 'womanizing', 'exasperating', 'begging', 'demolish', 'adversary', 'delay', 'harshly', 'pandering', 'inequities', 'implausible', 'smuttier', 'spoiled', 'revenge', 'rusty', 'massacre', 'blow', 'dissappointing', 'bungling', 'waning', 'pinch', 'insignificance', 'overbearing', 'protesting', 'tangles', 'irritably', 'deploring', 'belligerent', 'mispronounced', 'disdain', 'admonisher', 'dismayingly', 'devoid', 'contentious', 'dirt', 'danger', 'obscurity', 'one-sided', 'flabbergasted', 'pigs', 'beguile', 'buzzing', 'languish', 'refuting', 'awfulness', 'babble', 'froze', 'snagging', 'meager', 'lure', 'heedless', 'tank', 'unnaturally', 'monotony', 'paupers', 'fictional', 'impending', 'maliciously', 'misconception', 'anomaly', 'excuse', 'vengefully', 'incapable', 'buggy', 'expired', 'dissatisfaction', 'distasteful', 'rascals', 'incorrigible', 'crumple', 'inflammation', 'jagged', 'grim', 'ultimatums', 'undid', 'crept', 'denied', 'agonize', 'bullying', 'glitches', 'hegemony', 'involuntarily', 'corrosive', 'doomsday', 'elimination', 'irretrievable', 'preoccupy', 'remorseless', 'stuffy', 'unintelligible', 'distorts', 'ail', 'halfhearted', 'ill-tempered', 'slur', 'mangling', 'falling', 'solemn', 'tedious', 'static', 'cheaply', 'delinquency', 'scandel', 'fibber', 'harassed', 'scoldingly', 'backaching', 'ineffectiveness', 'sarcasm', 'incoherent', 'fruitless', 'regression', 'desperate', 'dungeons', 'conflicted', 'unworthy', 'protested', 'tumbles', 'dismissive', 'finagle', 'blockhead', 'impersonal', 'ironies', 'breaks', 'feckless', 'rankle', 'snare', 'belabor', 'encroachment', 'grumpy', 'inhumane', 'sermonize', 'tin-y', 'loathe', 'superficial', 'miscalculate', 'cold', 'emasculate', 'threat', 'terror-genic', 'repugnance', 'silly', 'fumes', 'reproachful', 'darkness', 'failing', 'inaccurate', 'incoherence', 'maladjustment', 'disturb', 'embarrassingly', 'paranoid', 'unhealthy', 'discredit', 'infuriating', 'ungrateful', 'arbitrary', 'intransigent', 'unsettled', 'demolisher', 'huckster', 'scars', 'uncompromisingly', 'vile', 'annoyingly', 'hasty', 'disapointed', 'infidel', 'vileness', 'shipwreck', 'unsuspecting', 'mudslinger', 'renounce', 'subjected', 'faint', 'inaptitude', 'bruising', 'impaired', 'alarmed', 'improbability', 'vomits', 'ploy', 'resent', 'scarce', 'revengeful', 'distort', 'smugly', 'sob', 'agonizingly', 'unworkable', 'relentlessly', 'unmoved', 'obese', 'hotbeds', 'fallacious', 'alienation', 'fucking', 'distraughtness', 'relapse', 'kaput', 'mishap', 'terrorize', 'egomania', 'violate', 'ill-sorted', 'hostilities', 'intimidating', 'wary', 'franticly', 'discompose', 'drag', 'revoltingly', 'squeaks', 'mysterious', 'apathy', 'shake', 'disapointing', 'imperiously', 'cloud', 'incite', 'haughty', 'inconceivable', 'muddle', 'destains', 'greed', 'grieve', 'dissatisfy', 'dimmer', 'propagandize', 'vexingly', 'defective', 'villains', 'bungler', 'rotten', 'fidgety', 'bulkiness', 'crooked', 'sketchy', 'mawkishly', 'irksomeness', 'spiteful', 'prejudice', 'impractical', 'thankless', 'guilt', 'fanatic', 'incomprehension', 'impinge', 'drunken', 'trouble', 'outrageousness', 'aspersion', 'stumbles', 'indeterminate', 'skeletons', 'conceded', 'disappointed', 'incredulously', 'monster', 'splitting', 'insignificant', 'fretful', 'suffering', 'listless', 'invader', 'officious', 'overdone', 'leaks', 'overrun', 'overstated', 'dilapidated', 'louder', 'unfeeling', 'resentful', 'inhibit', 'doubt', 'misbehavior', 'drop-outs', 'marginally', 'niggle', 'two-faced', 'self-interest', 'despairing', 'divisiveness', 'indefensible', 'merciless', 'disastrously', 'brutalizing', 'lovelorn', 'scar', 'admonish', 'harmful', 'troublingly', 'bragger', 'unravel', 'idiotic', 'partisans', 'ranting', 'disingenuously', 'criticisms', 'betrayer', 'warily', 'pollute', 'inconsiderate', 'negligence', 'smelly', 'infamous', 'time-consuming', 'brutalities', 'fanciful', 'pettifog', 'pitifully', 'cataclysm', 'catastrophic', 'measly', 'fabrication', 'audaciousness', 'hedge', 'paradoxically', 'tarnishing', 'unruly', 'weirdly', 'stern', 'cheapen', 'imperfection', 'repressive', 'swelling', 'insouciance', 'distastefully', 'hurts', 'unspeakable', 'immorality', 'restrictive', 'cruel', 'relentless', 'abominate', 'break-ups', 'inexpert', 'mawkish', 'straggler', 'immoderate', 'farce', 'immobilized', 'detests', 'subservient', 'protests', 'revile', 'venomous', 'remorse', 'critics', 'imaginary', 'altercation', 'stammer', 'negate', 'objectionable', 'overstate', 'detestable', 'indecisive', 'disapproval', 'doomed', 'selfishly', 'hideous', 'gaff', 'imprecision', 'dull', 'shamelessly', 'cynical', 'atrocious', 'nonsense', 'soreness', 'desperately', 'indulge', 'shimmer', 'inadequate'}\n"
          ],
          "name": "stdout"
        }
      ]
    },
    {
      "cell_type": "markdown",
      "metadata": {
        "id": "HzWuXxEq9INJ"
      },
      "source": [
        "The words in the list are general, but we can add some domain-specific word (\"`|`\" is the \"set union\" operator)"
      ]
    },
    {
      "cell_type": "code",
      "metadata": {
        "id": "XHAevZFs9INK"
      },
      "source": [
        "airline_pos_words = hu_liu_pos | {\"upgrade\"}\n",
        "airline_neg_words = hu_liu_neg | {\"wtf\", \"wait\", \"waiting\", \"epicfail\", \"mechanical\"}"
      ],
      "execution_count": 15,
      "outputs": []
    },
    {
      "cell_type": "markdown",
      "metadata": {
        "id": "-w7GIElE9INL"
      },
      "source": [
        "_Performance note:_ we use sets here (denoted with braces: `{...}`) rather than lists (with square brackets: `[...]`) to make lookup faster"
      ]
    },
    {
      "cell_type": "code",
      "metadata": {
        "colab": {
          "base_uri": "https://localhost:8080/"
        },
        "id": "Oy45mfQ79INL",
        "outputId": "b8dfc09b-f577-4e6f-e55b-6ac66e19d25e"
      },
      "source": [
        "%%timeit -n 1000000 \n",
        "# -n represents the number of loops, i.e. the number of times the code will be executed\n",
        "# 5 is the test repeat count; the tests are repeated several times. The fastest time of those 5 is then taken.\n",
        "\n",
        "\"e\" in [\"a\", \"b\", \"c\", \"d\", \"e\"]   # list"
      ],
      "execution_count": 16,
      "outputs": [
        {
          "output_type": "stream",
          "text": [
            "1000000 loops, best of 5: 88.3 ns per loop\n"
          ],
          "name": "stdout"
        }
      ]
    },
    {
      "cell_type": "code",
      "metadata": {
        "colab": {
          "base_uri": "https://localhost:8080/"
        },
        "id": "ADOFvNSD9INN",
        "outputId": "cc1b708a-7ab1-4f60-9541-523b69894f3f"
      },
      "source": [
        "%%timeit -n 1000000\n",
        "\"e\" in {\"a\", \"b\", \"c\", \"d\", \"e\"}   # set"
      ],
      "execution_count": 17,
      "outputs": [
        {
          "output_type": "stream",
          "text": [
            "1000000 loops, best of 5: 30 ns per loop\n"
          ],
          "name": "stdout"
        }
      ]
    },
    {
      "cell_type": "markdown",
      "metadata": {
        "id": "h8XH_H6d9INP"
      },
      "source": [
        "### Text tokenization\n",
        "\n",
        "We have to decompose tweets into the single words they contain in order to search for the opinion words within it\n",
        "\n",
        "A _tokenization_ algorithm splits a text string into a sequence of _tokens_ each representing a single word (or other entities such as numbers and punctuation)"
      ]
    },
    {
      "cell_type": "markdown",
      "metadata": {
        "id": "mSDplc_P9INP"
      },
      "source": [
        "A simple tokenization algorithm can consist in removing all characters different from letters and spaces from text, than splitting text in words using spaces as boundaries"
      ]
    },
    {
      "cell_type": "code",
      "metadata": {
        "id": "TJORMSRs9INP"
      },
      "source": [
        "import re\n",
        "\n",
        "# Considering \"This isn't a test, or is it?\" sentence as text\n",
        "# re.sub(\"[^A-Za-z ]\", \"\", text) will transform it as 'This isnt a test or is it'. \n",
        "# In general, it removes (that is equivalent to: substitute with \"\") every character that is not a upperase/lowercase letter or space\n",
        "def my_tokenizer(text):\n",
        "    return re.sub(\"[^A-Za-z ]\", \"\", text).split(\" \") # split(\" \") is used to split the sentence in a list of strings using the space \" \" as separator"
      ],
      "execution_count": 24,
      "outputs": []
    },
    {
      "cell_type": "markdown",
      "metadata": {
        "id": "Lw9xbtIU9INQ"
      },
      "source": [
        "An example usage is..."
      ]
    },
    {
      "cell_type": "code",
      "metadata": {
        "colab": {
          "base_uri": "https://localhost:8080/"
        },
        "id": "3W6juY_S9INR",
        "outputId": "5389737f-2c2d-4956-cdba-edee3178f894"
      },
      "source": [
        "my_tokenizer(\"This isn't a test, or is it?\")"
      ],
      "execution_count": 25,
      "outputs": [
        {
          "output_type": "execute_result",
          "data": {
            "text/plain": [
              "['This', 'isnt', 'a', 'test', 'or', 'is', 'it']"
            ]
          },
          "metadata": {
            "tags": []
          },
          "execution_count": 25
        }
      ]
    },
    {
      "cell_type": "markdown",
      "metadata": {
        "id": "YFoRFRJM9INS"
      },
      "source": [
        "NLTK provides a finer tokenization algorithm, based on a knowledge model of the English language: in order to make it work, we have first to download the model"
      ]
    },
    {
      "cell_type": "code",
      "metadata": {
        "colab": {
          "base_uri": "https://localhost:8080/"
        },
        "id": "nnBPTc5E9INT",
        "outputId": "84286892-1771-48e9-ad18-5ce23f608a9e"
      },
      "source": [
        "nltk.download(\"punkt\")"
      ],
      "execution_count": 26,
      "outputs": [
        {
          "output_type": "stream",
          "text": [
            "[nltk_data] Downloading package punkt to /root/nltk_data...\n",
            "[nltk_data]   Unzipping tokenizers/punkt.zip.\n"
          ],
          "name": "stdout"
        },
        {
          "output_type": "execute_result",
          "data": {
            "text/plain": [
              "True"
            ]
          },
          "metadata": {
            "tags": []
          },
          "execution_count": 26
        }
      ]
    },
    {
      "cell_type": "markdown",
      "metadata": {
        "id": "pS5JsR0E9INU"
      },
      "source": [
        "We can then use the `word_tokenize` function"
      ]
    },
    {
      "cell_type": "code",
      "metadata": {
        "colab": {
          "base_uri": "https://localhost:8080/"
        },
        "id": "Su1bApvb9INU",
        "outputId": "abca3bc7-5175-4ead-d02e-b2bdd103ffc6"
      },
      "source": [
        "nltk.word_tokenize(\"This isn't a test, or is it?\")"
      ],
      "execution_count": 27,
      "outputs": [
        {
          "output_type": "execute_result",
          "data": {
            "text/plain": [
              "['This', 'is', \"n't\", 'a', 'test', ',', 'or', 'is', 'it', '?']"
            ]
          },
          "metadata": {
            "tags": []
          },
          "execution_count": 27
        }
      ]
    },
    {
      "cell_type": "markdown",
      "metadata": {
        "id": "ftuN515Y9INW"
      },
      "source": [
        "Other than keeping punctuation marks as separate tokens, NLTK was able to correctly split \"isn't\" into its two component words"
      ]
    },
    {
      "cell_type": "markdown",
      "metadata": {
        "id": "trAmVK-69INX"
      },
      "source": [
        "### Sentiment scoring\n",
        "\n",
        "We define a function to compute the \"sentiment score\" of some text, computed as the difference between counts of positive and negative opinion words contained in it. Notice we have to convert all words in lowercase to be sure to find them in the lists."
      ]
    },
    {
      "cell_type": "code",
      "metadata": {
        "id": "walyIml89INX"
      },
      "source": [
        "def sentiment_score(text, pos_words, neg_words):\n",
        "    words = nltk.word_tokenize(text)\n",
        "    # count 1 for each word present in the positive words list\n",
        "    pos_matches = sum(1 for word in words if word.lower() in pos_words)\n",
        "    # same count with the negative words list\n",
        "    neg_matches = sum(1 for word in words if word.lower() in neg_words)\n",
        "    # return the difference between the two counts\n",
        "    return pos_matches - neg_matches"
      ],
      "execution_count": 28,
      "outputs": []
    },
    {
      "cell_type": "markdown",
      "metadata": {
        "id": "OEiDe6fv9INZ"
      },
      "source": [
        "This functions accept the lists of positive and negative words as input, we can wrap it in a version specific for the \"airline\" opinion words lists"
      ]
    },
    {
      "cell_type": "code",
      "metadata": {
        "id": "njkdCZha9INZ"
      },
      "source": [
        "def airline_sentiment_score(text):\n",
        "    return sentiment_score(text, airline_pos_words, airline_neg_words)"
      ],
      "execution_count": 29,
      "outputs": []
    },
    {
      "cell_type": "markdown",
      "metadata": {
        "id": "gwKz63o99INb"
      },
      "source": [
        "Example: a sentence with one positive word..."
      ]
    },
    {
      "cell_type": "code",
      "metadata": {
        "colab": {
          "base_uri": "https://localhost:8080/"
        },
        "id": "KsCtI9SU9INb",
        "outputId": "1bd79cb2-5108-451f-b7e9-6b1921771fbd"
      },
      "source": [
        "airline_sentiment_score(\"This is a good awesome test!\")"
      ],
      "execution_count": 30,
      "outputs": [
        {
          "output_type": "execute_result",
          "data": {
            "text/plain": [
              "2"
            ]
          },
          "metadata": {
            "tags": []
          },
          "execution_count": 30
        }
      ]
    },
    {
      "cell_type": "markdown",
      "metadata": {
        "id": "-aQ1fUrK9INd"
      },
      "source": [
        "Let's consider a small set of sample sentences to evaluate"
      ]
    },
    {
      "cell_type": "code",
      "metadata": {
        "id": "DvZj3Qg59INd"
      },
      "source": [
        "sample = [\n",
        "    \"You're awesome and I love you\",\n",
        "    \"I hate and hate and hate. So angry. Die!\",\n",
        "    \"Impressed and amazed: you are peerless in your achievement of unparalleled mediocrity.\"\n",
        "]"
      ],
      "execution_count": 31,
      "outputs": []
    },
    {
      "cell_type": "markdown",
      "metadata": {
        "id": "ZVxGd4jj9INf"
      },
      "source": [
        "We can use `map` to apply the scoring function to each of the samples and get the sequence of corresponding scores wrapped in a list"
      ]
    },
    {
      "cell_type": "code",
      "metadata": {
        "id": "8hzGXMsQ9INf"
      },
      "source": [
        "sample_scores = list(map(airline_sentiment_score, sample))"
      ],
      "execution_count": 32,
      "outputs": []
    },
    {
      "cell_type": "code",
      "metadata": {
        "colab": {
          "base_uri": "https://localhost:8080/"
        },
        "id": "wJ5dPnud9INh",
        "outputId": "2ceb643a-618a-40c3-a5a0-0d9268909143"
      },
      "source": [
        "sample_scores"
      ],
      "execution_count": 33,
      "outputs": [
        {
          "output_type": "execute_result",
          "data": {
            "text/plain": [
              "[2, -5, 4]"
            ]
          },
          "metadata": {
            "tags": []
          },
          "execution_count": 33
        }
      ]
    },
    {
      "cell_type": "markdown",
      "metadata": {
        "id": "I306cBAA9INj"
      },
      "source": [
        "Using a pandas DataFrame, we can get a table of sample sentences matched with scores"
      ]
    },
    {
      "cell_type": "code",
      "metadata": {
        "colab": {
          "base_uri": "https://localhost:8080/",
          "height": 142
        },
        "id": "kWoqjh6f9INk",
        "outputId": "07da67b4-7382-42d9-aac4-c45541839af0"
      },
      "source": [
        "pd.DataFrame({\"score\": sample_scores, \"text\": sample})"
      ],
      "execution_count": 34,
      "outputs": [
        {
          "output_type": "execute_result",
          "data": {
            "text/html": [
              "<div>\n",
              "<style scoped>\n",
              "    .dataframe tbody tr th:only-of-type {\n",
              "        vertical-align: middle;\n",
              "    }\n",
              "\n",
              "    .dataframe tbody tr th {\n",
              "        vertical-align: top;\n",
              "    }\n",
              "\n",
              "    .dataframe thead th {\n",
              "        text-align: right;\n",
              "    }\n",
              "</style>\n",
              "<table border=\"1\" class=\"dataframe\">\n",
              "  <thead>\n",
              "    <tr style=\"text-align: right;\">\n",
              "      <th></th>\n",
              "      <th>score</th>\n",
              "      <th>text</th>\n",
              "    </tr>\n",
              "  </thead>\n",
              "  <tbody>\n",
              "    <tr>\n",
              "      <th>0</th>\n",
              "      <td>2</td>\n",
              "      <td>You're awesome and I love you</td>\n",
              "    </tr>\n",
              "    <tr>\n",
              "      <th>1</th>\n",
              "      <td>-5</td>\n",
              "      <td>I hate and hate and hate. So angry. Die!</td>\n",
              "    </tr>\n",
              "    <tr>\n",
              "      <th>2</th>\n",
              "      <td>4</td>\n",
              "      <td>Impressed and amazed: you are peerless in your achievement of unparalleled mediocrity.</td>\n",
              "    </tr>\n",
              "  </tbody>\n",
              "</table>\n",
              "</div>"
            ],
            "text/plain": [
              "   score                                                                                    text\n",
              "0      2                                                           You're awesome and I love you\n",
              "1     -5                                                I hate and hate and hate. So angry. Die!\n",
              "2      4  Impressed and amazed: you are peerless in your achievement of unparalleled mediocrity."
            ]
          },
          "metadata": {
            "tags": []
          },
          "execution_count": 34
        }
      ]
    },
    {
      "cell_type": "markdown",
      "metadata": {
        "id": "O4iDxy-y9INl"
      },
      "source": [
        "As we can see, the scoring function correctly evaluates straightforward sentences, although it fails to detect more elaborate text (e.g. using sarcasm)"
      ]
    },
    {
      "cell_type": "markdown",
      "metadata": {
        "id": "hAPiIBPC9INl"
      },
      "source": [
        "Let's apply the scoring functions to all tweets for one of the companies, e.g. Delta. We wrap scores in a pandas Series so we can use its functionalities."
      ]
    },
    {
      "cell_type": "code",
      "metadata": {
        "id": "UHfh_kQf9INm"
      },
      "source": [
        "delta_scores = pd.Series(map(airline_sentiment_score, tweets[\"text\"][tweets[\"airline\"] == \"delta\"]))"
      ],
      "execution_count": 35,
      "outputs": []
    },
    {
      "cell_type": "code",
      "metadata": {
        "colab": {
          "base_uri": "https://localhost:8080/"
        },
        "id": "XANhbzGVgva_",
        "outputId": "bfbca066-ca85-433e-86f7-4c67580136d0"
      },
      "source": [
        "delta_scores"
      ],
      "execution_count": null,
      "outputs": [
        {
          "output_type": "execute_result",
          "data": {
            "text/plain": [
              "0       1\n",
              "1       0\n",
              "2       0\n",
              "3      -1\n",
              "4       0\n",
              "       ..\n",
              "1140   -1\n",
              "1141   -1\n",
              "1142    0\n",
              "1143    0\n",
              "1144    0\n",
              "Length: 1145, dtype: int64"
            ]
          },
          "metadata": {
            "tags": []
          },
          "execution_count": 33
        }
      ]
    },
    {
      "cell_type": "markdown",
      "metadata": {
        "id": "yTqV-3Y19INn"
      },
      "source": [
        "We can get for example the mean score of tweets..."
      ]
    },
    {
      "cell_type": "code",
      "metadata": {
        "colab": {
          "base_uri": "https://localhost:8080/"
        },
        "id": "7SX8uoX49INo",
        "outputId": "2faa60a0-6c31-475c-f543-8d275ce0dfc3"
      },
      "source": [
        "delta_scores.mean()"
      ],
      "execution_count": 36,
      "outputs": [
        {
          "output_type": "execute_result",
          "data": {
            "text/plain": [
              "0.23406113537117904"
            ]
          },
          "metadata": {
            "tags": []
          },
          "execution_count": 36
        }
      ]
    },
    {
      "cell_type": "markdown",
      "metadata": {
        "id": "JFAM9PgZ9INp"
      },
      "source": [
        "...and even plot an histogram of the distribution of scores"
      ]
    },
    {
      "cell_type": "code",
      "metadata": {
        "colab": {
          "base_uri": "https://localhost:8080/",
          "height": 282
        },
        "id": "IdnDfrX49INq",
        "outputId": "b8031f63-8fc5-4b80-8418-0f91752ad9ce"
      },
      "source": [
        "delta_scores.plot.hist()"
      ],
      "execution_count": 37,
      "outputs": [
        {
          "output_type": "execute_result",
          "data": {
            "text/plain": [
              "<matplotlib.axes._subplots.AxesSubplot at 0x7fc849534e10>"
            ]
          },
          "metadata": {
            "tags": []
          },
          "execution_count": 37
        },
        {
          "output_type": "display_data",
          "data": {
            "image/png": "[encoded data removed]",
            "text/plain": [
              "<Figure size 432x288 with 1 Axes>"
            ]
          },
          "metadata": {
            "tags": [],
            "needs_background": "light"
          }
        }
      ]
    },
    {
      "cell_type": "markdown",
      "metadata": {
        "id": "_0TSBjii9INr"
      },
      "source": [
        "Let's now work with the whole collection of tweets related to all airlines\n",
        "\n",
        "We compute sentiment scores for each tweet by applying the `airline_sentiment_score` function to the `text` columns; scores are saved in a `score` column added to a copy of the `tweets` DataFrame"
      ]
    },
    {
      "cell_type": "code",
      "metadata": {
        "id": "-DsQ0Pd39INr"
      },
      "source": [
        "tweets_with_scores = tweets.copy()\n",
        "tweets_with_scores[\"score\"] = tweets_with_scores[\"text\"].apply(airline_sentiment_score)"
      ],
      "execution_count": 38,
      "outputs": []
    },
    {
      "cell_type": "markdown",
      "metadata": {
        "id": "GOG2mmQe9INs"
      },
      "source": [
        "Let's see some random rows from it..."
      ]
    },
    {
      "cell_type": "code",
      "metadata": {
        "colab": {
          "base_uri": "https://localhost:8080/",
          "height": 204
        },
        "id": "O6sqT54S9INt",
        "outputId": "2fddd8e1-ca01-4c82-b61b-c009a09e4d82"
      },
      "source": [
        "tweets_with_scores.sample(5)"
      ],
      "execution_count": 39,
      "outputs": [
        {
          "output_type": "execute_result",
          "data": {
            "text/html": [
              "<div>\n",
              "<style scoped>\n",
              "    .dataframe tbody tr th:only-of-type {\n",
              "        vertical-align: middle;\n",
              "    }\n",
              "\n",
              "    .dataframe tbody tr th {\n",
              "        vertical-align: top;\n",
              "    }\n",
              "\n",
              "    .dataframe thead th {\n",
              "        text-align: right;\n",
              "    }\n",
              "</style>\n",
              "<table border=\"1\" class=\"dataframe\">\n",
              "  <thead>\n",
              "    <tr style=\"text-align: right;\">\n",
              "      <th></th>\n",
              "      <th>airline</th>\n",
              "      <th>text</th>\n",
              "      <th>score</th>\n",
              "    </tr>\n",
              "  </thead>\n",
              "  <tbody>\n",
              "    <tr>\n",
              "      <th>4009</th>\n",
              "      <td>united</td>\n",
              "      <td>@united reason for delay = aircraft was closed without the captain jet bridge reattached 45mins ...</td>\n",
              "      <td>-2</td>\n",
              "    </tr>\n",
              "    <tr>\n",
              "      <th>3674</th>\n",
              "      <td>united</td>\n",
              "      <td>5 inches  RT @united: Tweet the amount of extra legroom in Economy Plus w/ #flyerfriendly for a ...</td>\n",
              "      <td>1</td>\n",
              "    </tr>\n",
              "    <tr>\n",
              "      <th>2525</th>\n",
              "      <td>southwestair</td>\n",
              "      <td>@LindseyMickels good thing I have 2 free checked bags on @SouthwestAir I may need both for the 2...</td>\n",
              "      <td>2</td>\n",
              "    </tr>\n",
              "    <tr>\n",
              "      <th>2262</th>\n",
              "      <td>southwestair</td>\n",
              "      <td>Thanks for the pretzels! @southwestair #swapic @ 39,000 Ft in the air. http://t.co/frbRws2I1f</td>\n",
              "      <td>0</td>\n",
              "    </tr>\n",
              "    <tr>\n",
              "      <th>4219</th>\n",
              "      <td>united</td>\n",
              "      <td>I'm on the @nanog charter flight...or so it seems. Hi everyone from IAD-PHX on @united</td>\n",
              "      <td>0</td>\n",
              "    </tr>\n",
              "  </tbody>\n",
              "</table>\n",
              "</div>"
            ],
            "text/plain": [
              "           airline  ... score\n",
              "4009        united  ...    -2\n",
              "3674        united  ...     1\n",
              "2525  southwestair  ...     2\n",
              "2262  southwestair  ...     0\n",
              "4219        united  ...     0\n",
              "\n",
              "[5 rows x 3 columns]"
            ]
          },
          "metadata": {
            "tags": []
          },
          "execution_count": 39
        }
      ]
    },
    {
      "cell_type": "markdown",
      "metadata": {
        "id": "Id6S53XS9INu"
      },
      "source": [
        "### Summarizing sentiment for each company\n",
        "\n",
        "Let’s focus our analysis only on very negative (score <= 2) and very positive (score >= 2) tweets, adding columns which identify them"
      ]
    },
    {
      "cell_type": "code",
      "metadata": {
        "id": "UNKPLeHv9INu"
      },
      "source": [
        "tweets_with_scores[\"very_pos\"] = tweets_with_scores[\"score\"] >= 2\n",
        "tweets_with_scores[\"very_neg\"] = tweets_with_scores[\"score\"] <= -2"
      ],
      "execution_count": 40,
      "outputs": []
    },
    {
      "cell_type": "markdown",
      "metadata": {
        "id": "FUiKdp6G9INx"
      },
      "source": [
        "We group the frame by companies, keeping just the columns indicating very positive or negative tweets and counting the number of them for each group"
      ]
    },
    {
      "cell_type": "code",
      "metadata": {
        "id": "BLlyCc2u9INx"
      },
      "source": [
        "twitter_score = tweets_with_scores.groupby(\"airline\")[[\"very_pos\", \"very_neg\"]].sum().sort_index()"
      ],
      "execution_count": 41,
      "outputs": []
    },
    {
      "cell_type": "markdown",
      "metadata": {
        "id": "RsmBFK-U9INz"
      },
      "source": [
        "Let's view the obtained grouped table..."
      ]
    },
    {
      "cell_type": "code",
      "metadata": {
        "colab": {
          "base_uri": "https://localhost:8080/",
          "height": 235
        },
        "id": "KEzM87Un9IN0",
        "outputId": "863f8d6e-d468-4858-f4eb-f7f13d78bcb6"
      },
      "source": [
        "twitter_score"
      ],
      "execution_count": 42,
      "outputs": [
        {
          "output_type": "execute_result",
          "data": {
            "text/html": [
              "<div>\n",
              "<style scoped>\n",
              "    .dataframe tbody tr th:only-of-type {\n",
              "        vertical-align: middle;\n",
              "    }\n",
              "\n",
              "    .dataframe tbody tr th {\n",
              "        vertical-align: top;\n",
              "    }\n",
              "\n",
              "    .dataframe thead th {\n",
              "        text-align: right;\n",
              "    }\n",
              "</style>\n",
              "<table border=\"1\" class=\"dataframe\">\n",
              "  <thead>\n",
              "    <tr style=\"text-align: right;\">\n",
              "      <th></th>\n",
              "      <th>very_pos</th>\n",
              "      <th>very_neg</th>\n",
              "    </tr>\n",
              "    <tr>\n",
              "      <th>airline</th>\n",
              "      <th></th>\n",
              "      <th></th>\n",
              "    </tr>\n",
              "  </thead>\n",
              "  <tbody>\n",
              "    <tr>\n",
              "      <th>americanair</th>\n",
              "      <td>118</td>\n",
              "      <td>31</td>\n",
              "    </tr>\n",
              "    <tr>\n",
              "      <th>delta</th>\n",
              "      <td>116</td>\n",
              "      <td>55</td>\n",
              "    </tr>\n",
              "    <tr>\n",
              "      <th>jetblue</th>\n",
              "      <td>10</td>\n",
              "      <td>2</td>\n",
              "    </tr>\n",
              "    <tr>\n",
              "      <th>southwestair</th>\n",
              "      <td>122</td>\n",
              "      <td>34</td>\n",
              "    </tr>\n",
              "    <tr>\n",
              "      <th>united</th>\n",
              "      <td>116</td>\n",
              "      <td>99</td>\n",
              "    </tr>\n",
              "  </tbody>\n",
              "</table>\n",
              "</div>"
            ],
            "text/plain": [
              "              very_pos  very_neg\n",
              "airline                         \n",
              "americanair        118        31\n",
              "delta              116        55\n",
              "jetblue             10         2\n",
              "southwestair       122        34\n",
              "united             116        99"
            ]
          },
          "metadata": {
            "tags": []
          },
          "execution_count": 42
        }
      ]
    },
    {
      "cell_type": "markdown",
      "metadata": {
        "id": "In3HBOxx9IN2"
      },
      "source": [
        "`airline` is now the _index_ of the frame: values of the index identify each row (much like a primary key in a database)"
      ]
    },
    {
      "cell_type": "markdown",
      "metadata": {
        "id": "TQLL_qnb9IN2"
      },
      "source": [
        "For every company, we compute the sum of very positive and very negative tweets..."
      ]
    },
    {
      "cell_type": "code",
      "metadata": {
        "id": "c8cE82zg9IN2"
      },
      "source": [
        "twitter_score[\"all_count\"] = twitter_score.very_pos + twitter_score.very_neg"
      ],
      "execution_count": 43,
      "outputs": []
    },
    {
      "cell_type": "markdown",
      "metadata": {
        "id": "ZFcIG4YN9IN4"
      },
      "source": [
        "...then we compute a \"global sentiment score\" as the percentage between the count of positive tweets and the total count of tweets above"
      ]
    },
    {
      "cell_type": "code",
      "metadata": {
        "id": "1UwlgKs19IN5"
      },
      "source": [
        "twitter_score[\"score\"] = 100 * twitter_score.very_pos / twitter_score.all_count"
      ],
      "execution_count": 44,
      "outputs": []
    },
    {
      "cell_type": "markdown",
      "metadata": {
        "id": "QNz_-VSt9IN7"
      },
      "source": [
        "Let's now list the companies ranked by their score"
      ]
    },
    {
      "cell_type": "code",
      "metadata": {
        "colab": {
          "base_uri": "https://localhost:8080/",
          "height": 235
        },
        "id": "KlEyMUuX9IN7",
        "outputId": "1c733231-6800-420e-cea5-1c3967c96bd9"
      },
      "source": [
        "twitter_score.sort_values(\"score\", ascending=False)"
      ],
      "execution_count": 45,
      "outputs": [
        {
          "output_type": "execute_result",
          "data": {
            "text/html": [
              "<div>\n",
              "<style scoped>\n",
              "    .dataframe tbody tr th:only-of-type {\n",
              "        vertical-align: middle;\n",
              "    }\n",
              "\n",
              "    .dataframe tbody tr th {\n",
              "        vertical-align: top;\n",
              "    }\n",
              "\n",
              "    .dataframe thead th {\n",
              "        text-align: right;\n",
              "    }\n",
              "</style>\n",
              "<table border=\"1\" class=\"dataframe\">\n",
              "  <thead>\n",
              "    <tr style=\"text-align: right;\">\n",
              "      <th></th>\n",
              "      <th>very_pos</th>\n",
              "      <th>very_neg</th>\n",
              "      <th>all_count</th>\n",
              "      <th>score</th>\n",
              "    </tr>\n",
              "    <tr>\n",
              "      <th>airline</th>\n",
              "      <th></th>\n",
              "      <th></th>\n",
              "      <th></th>\n",
              "      <th></th>\n",
              "    </tr>\n",
              "  </thead>\n",
              "  <tbody>\n",
              "    <tr>\n",
              "      <th>jetblue</th>\n",
              "      <td>10</td>\n",
              "      <td>2</td>\n",
              "      <td>12</td>\n",
              "      <td>83.333</td>\n",
              "    </tr>\n",
              "    <tr>\n",
              "      <th>americanair</th>\n",
              "      <td>118</td>\n",
              "      <td>31</td>\n",
              "      <td>149</td>\n",
              "      <td>79.195</td>\n",
              "    </tr>\n",
              "    <tr>\n",
              "      <th>southwestair</th>\n",
              "      <td>122</td>\n",
              "      <td>34</td>\n",
              "      <td>156</td>\n",
              "      <td>78.205</td>\n",
              "    </tr>\n",
              "    <tr>\n",
              "      <th>delta</th>\n",
              "      <td>116</td>\n",
              "      <td>55</td>\n",
              "      <td>171</td>\n",
              "      <td>67.836</td>\n",
              "    </tr>\n",
              "    <tr>\n",
              "      <th>united</th>\n",
              "      <td>116</td>\n",
              "      <td>99</td>\n",
              "      <td>215</td>\n",
              "      <td>53.953</td>\n",
              "    </tr>\n",
              "  </tbody>\n",
              "</table>\n",
              "</div>"
            ],
            "text/plain": [
              "              very_pos  very_neg  all_count   score\n",
              "airline                                            \n",
              "jetblue             10         2         12  83.333\n",
              "americanair        118        31        149  79.195\n",
              "southwestair       122        34        156  78.205\n",
              "delta              116        55        171  67.836\n",
              "united             116        99        215  53.953"
            ]
          },
          "metadata": {
            "tags": []
          },
          "execution_count": 45
        }
      ]
    },
    {
      "cell_type": "markdown",
      "metadata": {
        "id": "pav5BKXF9IN8"
      },
      "source": [
        "To simplify subsequent tests, we create a function which, given a series of scores for tweets, executes the steps above to extract summary scores for each airline"
      ]
    },
    {
      "cell_type": "code",
      "metadata": {
        "id": "VNj8OLsF9IN8"
      },
      "source": [
        "def get_summary_scores(tweet_scores):\n",
        "    very_pos_tweets = tweet_scores >= 2\n",
        "    very_neg_tweets = tweet_scores <= -2\n",
        "    very_pos = very_pos_tweets.groupby(tweets[\"airline\"]).sum()\n",
        "    very_neg = very_neg_tweets.groupby(tweets[\"airline\"]).sum()\n",
        "    total = very_pos + very_neg\n",
        "    return 100 * (very_pos / total)"
      ],
      "execution_count": 46,
      "outputs": []
    },
    {
      "cell_type": "markdown",
      "metadata": {
        "id": "7Img7WOX9IN-"
      },
      "source": [
        "### Comparing results with known customer satisfaction\n",
        "\n",
        "We can extract known information about the general satisfaction of airline companies from the ACSI (_American Customer Satisfaction Index_) website\n",
        "\n",
        "A table of the satisfaction index by year about airline companies is available at http://www.theacsi.org/index.php?option=com_content&view=article&id=147&catid=&Itemid=212&i=Airlines\n",
        "\n",
        "We can import such data and use it to validate the satisfaction score extracted from Twitter"
      ]
    },
    {
      "cell_type": "markdown",
      "metadata": {
        "id": "gWYVF1x09IN-"
      },
      "source": [
        "pandas provides the `read_html` function to get DataFrames by scraping tables from a Web page (the `lxml` and `BeautifulSoup4` packages must be installed)"
      ]
    },
    {
      "cell_type": "code",
      "metadata": {
        "id": "PzQcr8ci9IN-"
      },
      "source": [
        "import ssl\n",
        "# it overrides the default function for context creation with the function to create an unverified context\n",
        "ssl._create_default_https_context = ssl._create_unverified_context\n",
        "\n",
        "acsi_table = pd.read_html(\n",
        "    \"https://www.theacsi.org/index.php?option=com_content&view=article&id=147&catid=&Itemid=212&i=Airlines\",\n",
        "    header=0, index_col=0)[0]"
      ],
      "execution_count": 47,
      "outputs": []
    },
    {
      "cell_type": "code",
      "metadata": {
        "colab": {
          "base_uri": "https://localhost:8080/",
          "height": 359
        },
        "id": "_-CPi6_M9IOA",
        "outputId": "4beddf31-6549-4ff3-9097-e842bd6ae72b"
      },
      "source": [
        "acsi_table.iloc[:10,-5:] "
      ],
      "execution_count": 48,
      "outputs": [
        {
          "output_type": "execute_result",
          "data": {
            "text/html": [
              "<div>\n",
              "<style scoped>\n",
              "    .dataframe tbody tr th:only-of-type {\n",
              "        vertical-align: middle;\n",
              "    }\n",
              "\n",
              "    .dataframe tbody tr th {\n",
              "        vertical-align: top;\n",
              "    }\n",
              "\n",
              "    .dataframe thead th {\n",
              "        text-align: right;\n",
              "    }\n",
              "</style>\n",
              "<table border=\"1\" class=\"dataframe\">\n",
              "  <thead>\n",
              "    <tr style=\"text-align: right;\">\n",
              "      <th></th>\n",
              "      <th>18</th>\n",
              "      <th>19</th>\n",
              "      <th>20</th>\n",
              "      <th>21</th>\n",
              "      <th>PreviousYear%Change</th>\n",
              "    </tr>\n",
              "  </thead>\n",
              "  <tbody>\n",
              "    <tr>\n",
              "      <th>Delta</th>\n",
              "      <td>74.0</td>\n",
              "      <td>75.0</td>\n",
              "      <td>77.0</td>\n",
              "      <td>79.0</td>\n",
              "      <td>2.6</td>\n",
              "    </tr>\n",
              "    <tr>\n",
              "      <th>Southwest</th>\n",
              "      <td>80.0</td>\n",
              "      <td>79.0</td>\n",
              "      <td>79.0</td>\n",
              "      <td>79.0</td>\n",
              "      <td>0.0</td>\n",
              "    </tr>\n",
              "    <tr>\n",
              "      <th>Alaska</th>\n",
              "      <td>79.0</td>\n",
              "      <td>80.0</td>\n",
              "      <td>78.0</td>\n",
              "      <td>77.0</td>\n",
              "      <td>-1.3</td>\n",
              "    </tr>\n",
              "    <tr>\n",
              "      <th>JetBlue</th>\n",
              "      <td>79.0</td>\n",
              "      <td>79.0</td>\n",
              "      <td>78.0</td>\n",
              "      <td>77.0</td>\n",
              "      <td>-1.3</td>\n",
              "    </tr>\n",
              "    <tr>\n",
              "      <th>Airlines</th>\n",
              "      <td>73.0</td>\n",
              "      <td>74.0</td>\n",
              "      <td>75.0</td>\n",
              "      <td>76.0</td>\n",
              "      <td>1.3</td>\n",
              "    </tr>\n",
              "    <tr>\n",
              "      <th>United</th>\n",
              "      <td>67.0</td>\n",
              "      <td>70.0</td>\n",
              "      <td>75.0</td>\n",
              "      <td>75.0</td>\n",
              "      <td>0.0</td>\n",
              "    </tr>\n",
              "    <tr>\n",
              "      <th>American</th>\n",
              "      <td>74.0</td>\n",
              "      <td>73.0</td>\n",
              "      <td>74.0</td>\n",
              "      <td>75.0</td>\n",
              "      <td>1.4</td>\n",
              "    </tr>\n",
              "    <tr>\n",
              "      <th>All Others</th>\n",
              "      <td>73.0</td>\n",
              "      <td>71.0</td>\n",
              "      <td>70.0</td>\n",
              "      <td>74.0</td>\n",
              "      <td>5.7</td>\n",
              "    </tr>\n",
              "    <tr>\n",
              "      <th>Allegiant</th>\n",
              "      <td>74.0</td>\n",
              "      <td>71.0</td>\n",
              "      <td>74.0</td>\n",
              "      <td>72.0</td>\n",
              "      <td>-2.7</td>\n",
              "    </tr>\n",
              "    <tr>\n",
              "      <th>Frontier</th>\n",
              "      <td>62.0</td>\n",
              "      <td>64.0</td>\n",
              "      <td>66.0</td>\n",
              "      <td>68.0</td>\n",
              "      <td>3.0</td>\n",
              "    </tr>\n",
              "  </tbody>\n",
              "</table>\n",
              "</div>"
            ],
            "text/plain": [
              "              18    19    20    21  PreviousYear%Change\n",
              "Delta       74.0  75.0  77.0  79.0                  2.6\n",
              "Southwest   80.0  79.0  79.0  79.0                  0.0\n",
              "Alaska      79.0  80.0  78.0  77.0                 -1.3\n",
              "JetBlue     79.0  79.0  78.0  77.0                 -1.3\n",
              "Airlines    73.0  74.0  75.0  76.0                  1.3\n",
              "United      67.0  70.0  75.0  75.0                  0.0\n",
              "American    74.0  73.0  74.0  75.0                  1.4\n",
              "All Others  73.0  71.0  70.0  74.0                  5.7\n",
              "Allegiant   74.0  71.0  74.0  72.0                 -2.7\n",
              "Frontier    62.0  64.0  66.0  68.0                  3.0"
            ]
          },
          "metadata": {
            "tags": []
          },
          "execution_count": 48
        }
      ]
    },
    {
      "cell_type": "markdown",
      "metadata": {
        "id": "-4mE8sbW9IOB"
      },
      "source": [
        "We select the column \"13\" for the year when tweets were extracted (use \"21\" in case you are analyzing current tweets) and the rows related to analyzed companies"
      ]
    },
    {
      "cell_type": "code",
      "metadata": {
        "id": "8jJfNKq39IOB"
      },
      "source": [
        "airline_names = [\"Southwest\", \"JetBlue\", \"American\", \"Delta\", \"United\"]\n",
        "acsi_score = acsi_table.loc[airline_names, \"13\"].astype(float).sort_index() # loc() function let us select only certain columns"
      ],
      "execution_count": 49,
      "outputs": []
    },
    {
      "cell_type": "code",
      "metadata": {
        "colab": {
          "base_uri": "https://localhost:8080/"
        },
        "id": "kkg7Ug9C9IOE",
        "outputId": "65a0e6ea-e1d0-403f-bffb-b39959de8098"
      },
      "source": [
        "acsi_score"
      ],
      "execution_count": 50,
      "outputs": [
        {
          "output_type": "execute_result",
          "data": {
            "text/plain": [
              "American     65.0\n",
              "Delta        68.0\n",
              "JetBlue      83.0\n",
              "Southwest    81.0\n",
              "United       62.0\n",
              "Name: 13, dtype: float64"
            ]
          },
          "metadata": {
            "tags": []
          },
          "execution_count": 50
        }
      ]
    },
    {
      "cell_type": "markdown",
      "metadata": {
        "id": "E5F0584r9IOF"
      },
      "source": [
        "In case you miss the required libraries, here are two alternative instructions to create the ACSI scores series without using the `read_html` function"
      ]
    },
    {
      "cell_type": "code",
      "metadata": {
        "id": "wroivXas9IOF"
      },
      "source": [
        "# 2021 (current_tweets)\n",
        "acsi_score = pd.Series(\n",
        "          [      79.0 ,     77.0 ,      75.0 ,   79.0 ,    75.0 ],\n",
        "    index=[\"Southwest\", \"JetBlue\", \"American\", \"Delta\", \"United\"]\n",
        ").sort_index()"
      ],
      "execution_count": 51,
      "outputs": []
    },
    {
      "cell_type": "code",
      "metadata": {
        "colab": {
          "base_uri": "https://localhost:8080/"
        },
        "id": "lpIwLxb39IOG",
        "outputId": "8cde17a6-2d2b-4578-f2bb-559a9bbe5eee"
      },
      "source": [
        "# 2013 (archive_tweets)\n",
        "acsi_score = pd.Series(\n",
        "          [      81.0 ,     83.0 ,      65.0 ,   68.0 ,    62.0 ],\n",
        "    index=[\"Southwest\", \"JetBlue\", \"American\", \"Delta\", \"United\"]\n",
        ").sort_index()\n",
        "\n",
        "acsi_score"
      ],
      "execution_count": 52,
      "outputs": [
        {
          "output_type": "execute_result",
          "data": {
            "text/plain": [
              "American     65.0\n",
              "Delta        68.0\n",
              "JetBlue      83.0\n",
              "Southwest    81.0\n",
              "United       62.0\n",
              "dtype: float64"
            ]
          },
          "metadata": {
            "tags": []
          },
          "execution_count": 52
        }
      ]
    },
    {
      "cell_type": "markdown",
      "metadata": {
        "id": "iOIy6Cvd9IOH"
      },
      "source": [
        "We extracted a single column of the table along with the index containing company names: we change names in order to match the index from `twitter_scores`"
      ]
    },
    {
      "cell_type": "code",
      "metadata": {
        "id": "-B_8edSA9IOH"
      },
      "source": [
        "acsi_score.index = (acsi_score.index\n",
        "                    .str.lower()\n",
        "                    .str.replace(\"american\", \"americanair\")\n",
        "                    .str.replace(\"southwest\", \"southwestair\"))"
      ],
      "execution_count": 53,
      "outputs": []
    },
    {
      "cell_type": "code",
      "metadata": {
        "colab": {
          "base_uri": "https://localhost:8080/"
        },
        "id": "rJTUitHH9IOI",
        "outputId": "c4a90538-bd35-4e7c-90c0-f9d3afe658fa"
      },
      "source": [
        "acsi_score"
      ],
      "execution_count": 54,
      "outputs": [
        {
          "output_type": "execute_result",
          "data": {
            "text/plain": [
              "americanair     65.0\n",
              "delta           68.0\n",
              "jetblue         83.0\n",
              "southwestair    81.0\n",
              "united          62.0\n",
              "dtype: float64"
            ]
          },
          "metadata": {
            "tags": []
          },
          "execution_count": 54
        }
      ]
    },
    {
      "cell_type": "markdown",
      "metadata": {
        "id": "dDcu3Kfx9IOJ"
      },
      "source": [
        "We have now the `acsi_score` series and the `score` column of the `twitter_score` frame indexed with the same labels, but in different order: we can merge them into a new frame to align the series"
      ]
    },
    {
      "cell_type": "code",
      "metadata": {
        "colab": {
          "base_uri": "https://localhost:8080/",
          "height": 235
        },
        "id": "hhtsXGno9IOJ",
        "outputId": "2c707c62-ce97-4d81-c266-1d237368c71b"
      },
      "source": [
        "pd.DataFrame({\"twitter\": twitter_score[\"score\"], \"acsi\": acsi_score})"
      ],
      "execution_count": 55,
      "outputs": [
        {
          "output_type": "execute_result",
          "data": {
            "text/html": [
              "<div>\n",
              "<style scoped>\n",
              "    .dataframe tbody tr th:only-of-type {\n",
              "        vertical-align: middle;\n",
              "    }\n",
              "\n",
              "    .dataframe tbody tr th {\n",
              "        vertical-align: top;\n",
              "    }\n",
              "\n",
              "    .dataframe thead th {\n",
              "        text-align: right;\n",
              "    }\n",
              "</style>\n",
              "<table border=\"1\" class=\"dataframe\">\n",
              "  <thead>\n",
              "    <tr style=\"text-align: right;\">\n",
              "      <th></th>\n",
              "      <th>twitter</th>\n",
              "      <th>acsi</th>\n",
              "    </tr>\n",
              "    <tr>\n",
              "      <th>airline</th>\n",
              "      <th></th>\n",
              "      <th></th>\n",
              "    </tr>\n",
              "  </thead>\n",
              "  <tbody>\n",
              "    <tr>\n",
              "      <th>americanair</th>\n",
              "      <td>79.195</td>\n",
              "      <td>65.0</td>\n",
              "    </tr>\n",
              "    <tr>\n",
              "      <th>delta</th>\n",
              "      <td>67.836</td>\n",
              "      <td>68.0</td>\n",
              "    </tr>\n",
              "    <tr>\n",
              "      <th>jetblue</th>\n",
              "      <td>83.333</td>\n",
              "      <td>83.0</td>\n",
              "    </tr>\n",
              "    <tr>\n",
              "      <th>southwestair</th>\n",
              "      <td>78.205</td>\n",
              "      <td>81.0</td>\n",
              "    </tr>\n",
              "    <tr>\n",
              "      <th>united</th>\n",
              "      <td>53.953</td>\n",
              "      <td>62.0</td>\n",
              "    </tr>\n",
              "  </tbody>\n",
              "</table>\n",
              "</div>"
            ],
            "text/plain": [
              "              twitter  acsi\n",
              "airline                    \n",
              "americanair    79.195  65.0\n",
              "delta          67.836  68.0\n",
              "jetblue        83.333  83.0\n",
              "southwestair   78.205  81.0\n",
              "united         53.953  62.0"
            ]
          },
          "metadata": {
            "tags": []
          },
          "execution_count": 55
        }
      ]
    },
    {
      "cell_type": "markdown",
      "metadata": {
        "id": "eZhczxte9IOK"
      },
      "source": [
        "We can now evaluate the degree of agreement between the two scores: we may do it graphically using a _scatter plot_..."
      ]
    },
    {
      "cell_type": "code",
      "metadata": {
        "colab": {
          "base_uri": "https://localhost:8080/",
          "height": 279
        },
        "id": "pFLxT67U9IOK",
        "outputId": "843c28e9-1a3e-49dc-ee90-c8885d41273b"
      },
      "source": [
        "plt.scatter(twitter_score[\"score\"], acsi_score, s=50) # plt.scatter() function is used to plot points. 's' parameters can be use to set the point dimension\n",
        "plt.plot([50, 100], [50, 100], \"r--\")  # plot a x=y segment. First two parameters represents the coordinates of the segment, while the third one let us draw red dashes\n",
        "plt.xlabel(\"Twitter score\")\n",
        "plt.ylabel(\"ACSI score\");"
      ],
      "execution_count": 56,
      "outputs": [
        {
          "output_type": "display_data",
          "data": {
            "image/png": "[encoded data removed]",
            "text/plain": [
              "<Figure size 432x288 with 1 Axes>"
            ]
          },
          "metadata": {
            "tags": [],
            "needs_background": "light"
          }
        }
      ]
    },
    {
      "cell_type": "markdown",
      "metadata": {
        "id": "DL-_tWRJ9IOL"
      },
      "source": [
        "Each point indicates the scores of a company, the dashed line indicates where scores match: the most the points are close to the line, the most the scores agree"
      ]
    },
    {
      "cell_type": "markdown",
      "metadata": {
        "id": "ZJ8Q-miJ9IOM"
      },
      "source": [
        "To properly verify the agreement of the two scores, we measure the _Pearson's correlation coefficient_"
      ]
    },
    {
      "cell_type": "code",
      "metadata": {
        "colab": {
          "base_uri": "https://localhost:8080/"
        },
        "id": "7fLMeuQd9IOM",
        "outputId": "463346f7-5454-473b-98be-b9ca03ff6a39"
      },
      "source": [
        "from scipy.stats import pearsonr\n",
        "pearson_coeff, pvalue = pearsonr(twitter_score[\"score\"], acsi_score)\n",
        "pearson_coeff, pvalue"
      ],
      "execution_count": 57,
      "outputs": [
        {
          "output_type": "execute_result",
          "data": {
            "text/plain": [
              "(0.7229235158616781, 0.167611728008456)"
            ]
          },
          "metadata": {
            "tags": []
          },
          "execution_count": 57
        }
      ]
    },
    {
      "cell_type": "markdown",
      "metadata": {
        "id": "igRoHtv-9ION"
      },
      "source": [
        "The first value is the Pearson's coefficient, while the second value is the associated p-value, i.e. the probability that the correlation between the two series was obtained by chance."
      ]
    },
    {
      "cell_type": "markdown",
      "metadata": {
        "id": "p1wEVYlPl1Wh"
      },
      "source": [
        "To decide if the two ACSI distributions and ours are equivalent it is necessary\n",
        "1. set a confidence level, for example $0.80$\n",
        "2. check if $pvalue < (1-0.80) = 0.20$; \n",
        "\n",
        "\n",
        "In this case pvalue is $< 0.20$ so we decide that the difference between the two distributions is the result of chance, i.e. the difference is not statistically significant, in other words they are equivalent."
      ]
    },
    {
      "cell_type": "code",
      "metadata": {
        "colab": {
          "base_uri": "https://localhost:8080/"
        },
        "id": "Ps1-Zgh-lkMw",
        "outputId": "2f519700-f04e-454d-c823-8fe205c21558"
      },
      "source": [
        "confidence_level = 0.80\n",
        "alpha = (1 - confidence_level)\n",
        "\n",
        "if pvalue < alpha:\n",
        "  print(\"Our distribution and ACSI one are equivalent!\")\n",
        "else:\n",
        "  print(\"Our distribution and ACSI one are different!\")"
      ],
      "execution_count": 58,
      "outputs": [
        {
          "output_type": "stream",
          "text": [
            "Our distribution and ACSI one are equivalent!\n"
          ],
          "name": "stdout"
        }
      ]
    },
    {
      "cell_type": "markdown",
      "metadata": {
        "id": "_x0CVCda9ION"
      },
      "source": [
        "### Exercise 1: interpreting negations\n",
        "\n",
        "In the `sentiment_score` function, when we look for positive or negative words, we do not consider whether they are negated\n",
        "\n",
        "**A)** The `sentiment_score_neg` function below implements the same logic of `sentiment_score` so that it can be more easily changed: modify it in order to count any positive word immediately preceded by \"not\" (case-insensitive) as negative and vice versa"
      ]
    },
    {
      "cell_type": "code",
      "metadata": {
        "id": "7_ebKPt09IOP"
      },
      "source": [
        "def sentiment_score_neg(text, pos_words, neg_words):\n",
        "    words = nltk.word_tokenize(text)\n",
        "    score = 0\n",
        "    for i in range(len(words)):\n",
        "        word_score = 0\n",
        "        if words[i] in pos_words:\n",
        "           if words[i-1].lower()=='not':\n",
        "             word_score=-1\n",
        "           else:\n",
        "             word_score = 1\n",
        "        elif words[i] in neg_words:\n",
        "           if  words[i-1].lower()=='not':\n",
        "             word_score=1\n",
        "           else:\n",
        "            word_score = -1\n",
        "        score += word_score\n",
        "    return score\n",
        "\n",
        "\n"
      ],
      "execution_count": 59,
      "outputs": []
    },
    {
      "cell_type": "code",
      "metadata": {
        "id": "NtplS-BIlUMf"
      },
      "source": [
        "def airline_sentiment_score_neg(text):\n",
        "    return sentiment_score_neg(text, airline_pos_words, airline_neg_words)"
      ],
      "execution_count": 60,
      "outputs": []
    },
    {
      "cell_type": "markdown",
      "metadata": {
        "id": "eozF1o_R9IOQ"
      },
      "source": [
        "**B)** Create a series `tweet_scores_neg` (using the `sentiment_score_neg` function developed in the previous point) with scores of tweets in `tweets[\"text\"]`"
      ]
    },
    {
      "cell_type": "code",
      "metadata": {
        "id": "oJvrPwLhli-W"
      },
      "source": [
        "tweets_with_scores_neg = tweets.copy()\n",
        "tweets_with_scores_neg[\"new_score\"] = tweets_with_scores_neg[\"text\"].apply(airline_sentiment_score_neg)"
      ],
      "execution_count": 65,
      "outputs": []
    },
    {
      "cell_type": "code",
      "metadata": {
        "colab": {
          "base_uri": "https://localhost:8080/",
          "height": 204
        },
        "id": "21GS8BDwlvsI",
        "outputId": "faec119f-b8f2-4e2d-a1b0-0bf403a9b8f0"
      },
      "source": [
        "tweets_with_scores_neg.sample(5)"
      ],
      "execution_count": 66,
      "outputs": [
        {
          "output_type": "execute_result",
          "data": {
            "text/html": [
              "<div>\n",
              "<style scoped>\n",
              "    .dataframe tbody tr th:only-of-type {\n",
              "        vertical-align: middle;\n",
              "    }\n",
              "\n",
              "    .dataframe tbody tr th {\n",
              "        vertical-align: top;\n",
              "    }\n",
              "\n",
              "    .dataframe thead th {\n",
              "        text-align: right;\n",
              "    }\n",
              "</style>\n",
              "<table border=\"1\" class=\"dataframe\">\n",
              "  <thead>\n",
              "    <tr style=\"text-align: right;\">\n",
              "      <th></th>\n",
              "      <th>airline</th>\n",
              "      <th>text</th>\n",
              "      <th>new_score</th>\n",
              "    </tr>\n",
              "  </thead>\n",
              "  <tbody>\n",
              "    <tr>\n",
              "      <th>2958</th>\n",
              "      <td>southwestair</td>\n",
              "      <td>@SouthwestAir After dealing with unparalleled incompetence from MEM AirTran agents this morning,...</td>\n",
              "      <td>1</td>\n",
              "    </tr>\n",
              "    <tr>\n",
              "      <th>4358</th>\n",
              "      <td>united</td>\n",
              "      <td>@united timpani</td>\n",
              "      <td>0</td>\n",
              "    </tr>\n",
              "    <tr>\n",
              "      <th>3817</th>\n",
              "      <td>united</td>\n",
              "      <td>@united on what... 10% of your aircraft? You've got a lot of catching up to do...</td>\n",
              "      <td>0</td>\n",
              "    </tr>\n",
              "    <tr>\n",
              "      <th>2725</th>\n",
              "      <td>southwestair</td>\n",
              "      <td>@charleegirly not yet... I have 9 @SouthwestAir flights in 2 weeks.. I hope they love me!</td>\n",
              "      <td>1</td>\n",
              "    </tr>\n",
              "    <tr>\n",
              "      <th>3510</th>\n",
              "      <td>united</td>\n",
              "      <td>@united #flyerfriendly About an extra 5 inches in legroom</td>\n",
              "      <td>0</td>\n",
              "    </tr>\n",
              "  </tbody>\n",
              "</table>\n",
              "</div>"
            ],
            "text/plain": [
              "           airline  ... new_score\n",
              "2958  southwestair  ...         1\n",
              "4358        united  ...         0\n",
              "3817        united  ...         0\n",
              "2725  southwestair  ...         1\n",
              "3510        united  ...         0\n",
              "\n",
              "[5 rows x 3 columns]"
            ]
          },
          "metadata": {
            "tags": []
          },
          "execution_count": 66
        }
      ]
    },
    {
      "cell_type": "code",
      "metadata": {
        "colab": {
          "base_uri": "https://localhost:8080/"
        },
        "id": "dRJFlGODmOJS",
        "outputId": "1da96ceb-b8a8-4fd5-cf02-95f2b7e74be1"
      },
      "source": [
        "print(type(tweets_with_scores), type(tweets_with_scores_neg))"
      ],
      "execution_count": 67,
      "outputs": [
        {
          "output_type": "stream",
          "text": [
            "<class 'pandas.core.frame.DataFrame'> <class 'pandas.core.frame.DataFrame'>\n"
          ],
          "name": "stdout"
        }
      ]
    },
    {
      "cell_type": "markdown",
      "metadata": {
        "id": "GYBWW05y9IOQ"
      },
      "source": [
        "**C)** Compute the mean absolute difference between this previous score and the new score of each tweet"
      ]
    },
    {
      "cell_type": "code",
      "metadata": {
        "id": "WXf2gEa-ml0g"
      },
      "source": [
        ""
      ],
      "execution_count": null,
      "outputs": []
    },
    {
      "cell_type": "markdown",
      "metadata": {
        "id": "v8wVHZ-R9IOQ"
      },
      "source": [
        "**D)** Use the `get_summary_scores` defined above to get a series `twitter_score_neg` with summary scores for each airline"
      ]
    },
    {
      "cell_type": "markdown",
      "metadata": {
        "id": "g9sRf63e9IOQ"
      },
      "source": [
        "**E)** Verify the correlation between the new Twitter score and the ACSI score using a scatter plot and Pearson's coefficient as above"
      ]
    },
    {
      "cell_type": "markdown",
      "metadata": {
        "id": "yygvv94X9IOQ"
      },
      "source": [
        "## Activity 2: Sentiment Analysis at sentence and feature level\n",
        "\n",
        "We reuse techniques seen above to perform sentiment analysis at sentence and feature level on reviews of hotels\n",
        "\n",
        "TripAdvisor used to provide a summary of hotel ratings against 6 different features: **Location, Sleep Quality, Rooms, Service, Value, Cleanliness**"
      ]
    },
    {
      "cell_type": "markdown",
      "metadata": {
        "id": "ZwNfCgBU9IOR"
      },
      "source": [
        "### Activity plan\n",
        "\n",
        "1. Define lists of opinion and feature words\n",
        "  - for opinion words, we reuse the lists of Hu and Liu from above\n",
        "2. Break reviews into sentences\n",
        "3. Detect sentences dealing with a specific feature and score its sentiment\n",
        "4. Summarize evaluation of each hotel and each feature\n",
        "5. Compare features of each hotel\n",
        "6. Compare results with scores on TripAdvisor"
      ]
    },
    {
      "cell_type": "markdown",
      "metadata": {
        "id": "Hf0Kw1v49IOR"
      },
      "source": [
        "### Loading reviews\n",
        "\n",
        "We provide a ZIP file with reviews of 6 different Hotels in Chicago, in a format similar to that of airline tweets used above (one file per hotel, one review per line)"
      ]
    },
    {
      "cell_type": "code",
      "metadata": {
        "id": "kOhA6CRF9IOR"
      },
      "source": [
        "download(\"hotel-reviews.zip\", \"https://github.com/unibodatascience/BBS-TextMining/raw/3ad6643b698f652f200dfbf463a3cb49de8c0e9f/05%20-%20Opinion%20Mining%20with%20Python%20(part%201)/data/hotel-reviews.zip\")"
      ],
      "execution_count": null,
      "outputs": []
    },
    {
      "cell_type": "code",
      "metadata": {
        "colab": {
          "base_uri": "https://localhost:8080/"
        },
        "id": "WMYKO7r39IOT",
        "outputId": "80ff896b-5bfe-46a0-87df-bc89101618ed"
      },
      "source": [
        "from zipfile import ZipFile\n",
        "import re\n",
        "\n",
        "all_reviews = {} # Init an empty dictionary that will be used to collect all the reviews\n",
        "\n",
        "# Define the regular expression that matches the reviews filenames.\n",
        "filename_pattern = re.compile(\"usa_illinois_chicago_([a-z_]+).txt\") # ([a-z_]+) means: \"one or more groups of alphabetic characters followed by an underscore\"\n",
        "\n",
        "with ZipFile(\"hotel-reviews.zip\") as zip: # open the zip file and read the files inside\n",
        "\n",
        "    for filename in zip.namelist(): # we repeat the following statements for each file inside the zip in order to collect the text of each hotel. 1 file --> 1 hotel\n",
        "        print(filename)\n",
        "        # match() returns a match object if one or more characters at the beginning of string match this regular expression, None otherwise. \n",
        "        # Then we call the group() method on the match object: group(1) returns the matched content of the first parenthesized subgroup in the regular expression\n",
        "        hotel = filename_pattern.match(filename).group(1) \n",
        "\n",
        "        print(hotel)\n",
        "\n",
        "        with zip.open(filename) as f: # open each txt file to read its content (i.e the reviews texts)\n",
        "            # for each file: decode each line of the file to UTF-8 encoding (to properly read the string), delete spaces at beginning/end of the string using strip()\n",
        "            # put each transformed line in a list using list()\n",
        "            # put the list of lines of the current file in a new entry of all_reviews dictionary\n",
        "            all_reviews[hotel] = list(line.decode(errors=\"ignore\").strip() for line in f) "
      ],
      "execution_count": null,
      "outputs": [
        {
          "output_type": "stream",
          "text": [
            "usa_illinois_chicago_affinia_chicago.txt\n",
            "affinia_chicago\n",
            "usa_illinois_chicago_hyatt_regency_chicago.txt\n",
            "hyatt_regency_chicago\n",
            "usa_illinois_chicago_intercontinental_chicago.txt\n",
            "intercontinental_chicago\n",
            "usa_illinois_chicago_james_chicago.txt\n",
            "james_chicago\n",
            "usa_illinois_chicago_swissotel_chicago.txt\n",
            "swissotel_chicago\n",
            "usa_illinois_chicago_the_palmer_house_hilton.txt\n",
            "the_palmer_house_hilton\n"
          ],
          "name": "stdout"
        }
      ]
    },
    {
      "cell_type": "markdown",
      "metadata": {
        "id": "9aGIOvin9IOU"
      },
      "source": [
        "As an example, we will use reviews for the Intercontinental hotel"
      ]
    },
    {
      "cell_type": "code",
      "metadata": {
        "id": "DjuPCyyq9IOV"
      },
      "source": [
        "reviews_interc = all_reviews[\"intercontinental_chicago\"]"
      ],
      "execution_count": null,
      "outputs": []
    },
    {
      "cell_type": "code",
      "metadata": {
        "colab": {
          "base_uri": "https://localhost:8080/",
          "height": 52
        },
        "id": "WHYJMRsK9IOX",
        "outputId": "86d757be-5dbd-4ece-ce55-efeecda87537"
      },
      "source": [
        "reviews_interc[0]"
      ],
      "execution_count": null,
      "outputs": [
        {
          "output_type": "execute_result",
          "data": {
            "application/vnd.google.colaboratory.intrinsic+json": {
              "type": "string"
            },
            "text/plain": [
              "'A great spot! We have always been pleased with our stays at Intercontinental hotels. Chicago was especially pleasant with a helpful staff.'"
            ]
          },
          "metadata": {
            "tags": []
          },
          "execution_count": 196
        }
      ]
    },
    {
      "cell_type": "markdown",
      "metadata": {
        "id": "ZbemiaFE9IOY"
      },
      "source": [
        "### Lists of feature words\n",
        "\n",
        "To detect sentences dealing with a specific feature, we search for feature-related keywords\n",
        "\n",
        "Using only the names of the 6 features as keywords, would produce few results: lists of _feature words_ which are synonyms or anyhow else related to each feature is created (manually in this case)"
      ]
    },
    {
      "cell_type": "code",
      "metadata": {
        "id": "S-3DBtSl9IOZ"
      },
      "source": [
        "feature_words = {\n",
        "    'location': {'location', 'airport', 'center', 'island', 'lake', 'ocean',\n",
        "                 'sea', 'around', 'university', 'romantic', 'coast', 'beach',\n",
        "                 'disco', 'nightlife'},\n",
        "    'sleepquality': {'silence','sleep','night','noise','nightlife'},\n",
        "    'rooms': {'room', 'rooms', 'space', 'bed', 'bath', 'bathroom', 'toilet',\n",
        "              'degrade', 'disorder','shower','jacuzzi','frigo'},\n",
        "    'service': {'service','pet','friendly','swimming', 'pool', 'pools', 'spa',\n",
        "                'waiters', 'severs', 'waiter', 'manservant', 'cordial',\n",
        "                'hearty', 'restorative', 'disagreeable', 'unpleasant',\n",
        "                'restaurant', 'food', 'breakfast', 'lunch', 'dinner', 'bar'},\n",
        "    'value': {'cheap','affordable','afford','woth', 'price', 'value', 'cost',\n",
        "              'expensive', 'economical', 'depreciate', 'discount', 'luxury',\n",
        "              'hall', 'meal'},\n",
        "    'cleanliness': {'clean', 'cleanliness', 'place', 'neatness', 'sweeping',\n",
        "                    'dirty', 'soiled', 'grubby', 'foul', 'mucky'}\n",
        "}"
      ],
      "execution_count": null,
      "outputs": []
    },
    {
      "cell_type": "markdown",
      "metadata": {
        "id": "aa3tsTGX9IOa"
      },
      "source": [
        "### Breaking reviews into sentences\n",
        "\n",
        "We break reviews into single sentences, assuming that each sentence deals with (at most) one of the features\n",
        "\n",
        "Breaking text into sentences (_sentence tokenization_) is not straightforward: sentences usually end with a period (\".\"), but may also end with other punctuation (\"!\", \"?\")"
      ]
    },
    {
      "cell_type": "markdown",
      "metadata": {
        "id": "MLGtjlvH9IOa"
      },
      "source": [
        "This is an example of function for sentence tokenization, which splits text on \".\", \"?\" and \"!\""
      ]
    },
    {
      "cell_type": "code",
      "metadata": {
        "id": "GtYfbWuB9IOa"
      },
      "source": [
        "def my_sent_tokenizer(text):\n",
        "    return re.split(\"[\\\\.\\\\?!]\", text) #\\\\ operator escapes the dot and question mark characters. This is needed because '.' and '?' are special characters in regex syntax"
      ],
      "execution_count": null,
      "outputs": []
    },
    {
      "cell_type": "code",
      "metadata": {
        "colab": {
          "base_uri": "https://localhost:8080/"
        },
        "id": "w-qawU1O9IOb",
        "outputId": "57424001-be31-48d8-fcab-84542e339e06"
      },
      "source": [
        "my_sent_tokenizer(reviews_interc[0])"
      ],
      "execution_count": null,
      "outputs": [
        {
          "output_type": "execute_result",
          "data": {
            "text/plain": [
              "['A great spot',\n",
              " ' We have always been pleased with our stays at Intercontinental hotels',\n",
              " ' Chicago was especially pleasant with a helpful staff',\n",
              " '']"
            ]
          },
          "metadata": {
            "tags": []
          },
          "execution_count": 199
        }
      ]
    },
    {
      "cell_type": "markdown",
      "metadata": {
        "id": "Vsr537m99IOe"
      },
      "source": [
        "However this function fails when these characters are used in the middle of a sentence, e.g. in an ellipsis"
      ]
    },
    {
      "cell_type": "code",
      "metadata": {
        "colab": {
          "base_uri": "https://localhost:8080/"
        },
        "id": "sOwOjGfT9IOe",
        "outputId": "b3ad3583-d06c-4a0a-8c1a-2b37ebd308f4"
      },
      "source": [
        "my_sent_tokenizer(\"This works... or not? Maybe not.\")"
      ],
      "execution_count": null,
      "outputs": [
        {
          "output_type": "execute_result",
          "data": {
            "text/plain": [
              "['This works', '', '', ' or not', ' Maybe not', '']"
            ]
          },
          "metadata": {
            "tags": []
          },
          "execution_count": 86
        }
      ]
    },
    {
      "cell_type": "markdown",
      "metadata": {
        "id": "fGF6ez9s9IOf"
      },
      "source": [
        "Similarly to the word tokenizer used above, NLTK provides a sentence tokenizer based on knowledge of English language to detect such exceptions"
      ]
    },
    {
      "cell_type": "code",
      "metadata": {
        "colab": {
          "base_uri": "https://localhost:8080/"
        },
        "id": "2urU6hiB9IOg",
        "outputId": "2422018a-8f0e-4f23-b796-140653a22ca8"
      },
      "source": [
        "nltk.sent_tokenize(\"This works... or not? Maybe not.\")"
      ],
      "execution_count": null,
      "outputs": [
        {
          "output_type": "execute_result",
          "data": {
            "text/plain": [
              "['This works... or not?', 'Maybe not.']"
            ]
          },
          "metadata": {
            "tags": []
          },
          "execution_count": 87
        }
      ]
    },
    {
      "cell_type": "markdown",
      "metadata": {
        "id": "FFIWabkV9IOh"
      },
      "source": [
        "Using this tokenization function, we turn the list of reviews into a list of single sentences"
      ]
    },
    {
      "cell_type": "code",
      "metadata": {
        "id": "Hz-aaqP39IOh"
      },
      "source": [
        "sentences_interc = [sent for review in reviews_interc for sent in nltk.sent_tokenize(review)]"
      ],
      "execution_count": null,
      "outputs": []
    },
    {
      "cell_type": "markdown",
      "metadata": {
        "id": "QWUuSZu49IOi"
      },
      "source": [
        "### Detecting features and opinions in sentences\n",
        "\n",
        "We define a function which counts, for each feature, the number of sentences in a given list expressing a positive or negative judgement about it"
      ]
    },
    {
      "cell_type": "code",
      "metadata": {
        "id": "1Qxb70Fj9IOi"
      },
      "source": [
        "def feature_pos_neg_counts(sentences, feature_words, pos_words, neg_words):\n",
        "    # initialize to 0 counts of positive and negative sentences per feature\n",
        "    pos_counts = {feat: 0 for feat in feature_words.keys()}\n",
        "    neg_counts = {feat: 0 for feat in feature_words.keys()} \n",
        "    # {\n",
        "    #  \"value\": 0,\n",
        "    #  \"service\": 0,\n",
        "    #  ...\n",
        "    # }\n",
        "\n",
        "    for sent in sentences: # analyze each sentence in the sentences list passed as argument to this function\n",
        "\n",
        "        # evaluate sentiment of sentence\n",
        "        word_list = nltk.word_tokenize(sent) # e.g. nltk.word_tokenize(\"This isn't a test, or is it?\") --> ['This', 'is', \"n't\", 'a', 'test', ',', 'or', 'is', 'it', '?']\n",
        "        pos_word_count = sum(1 for word in word_list if word in pos_words) # Sum 1 for each positive word found in the sentence. E.g. 2\n",
        "        neg_word_count = sum(1 for word in word_list if word in neg_words) # Sum 1 for each negative word found in the sentence. E.g. 3\n",
        "        sent_score = pos_word_count - neg_word_count # E.g. 2 - 3 = -1\n",
        "\n",
        "        # detect features in sentence\n",
        "        word_set = set(word_list) # e.g. {'this', 'is', \"n't\", \"a\", \"test\", \",\", \"or\", \"it\", \"?\"}   No words are repeated since we use a set!\n",
        "        for feat, keywords in feature_words.items(): # loop over each feature (e.g. value, service, ...) to analyze features in the current sentence (i.e. the variable named 'sent')\n",
        "            if word_set & keywords: # if the intersection between the sentence word set and the feature keywords is not empty (i.e. the sentence contains at least one of the current feature keywords)\n",
        "                if sent_score > 0: # if the sentence polarity is positive\n",
        "                    pos_counts[feat] += 1 # increment by one the positive counter of the current feature we are analyzing\n",
        "                elif sent_score < 0: # if the sentence polarity is negative\n",
        "                    neg_counts[feat] += 1 # increment by one the negative counter of the current feature we are analyzing\n",
        "\n",
        "    # At the end of the positive/negative counts for each feature, we create a new dataframe containing the features as rows and the two counters as columns\n",
        "    return pd.DataFrame({\"pos_count\": pos_counts, \"neg_count\": neg_counts})"
      ],
      "execution_count": null,
      "outputs": []
    },
    {
      "cell_type": "markdown",
      "metadata": {
        "id": "5qmR31Yb9IOj"
      },
      "source": [
        "For each list of sentences, the function returns a DataFrame with counts of positive and negative sentences for each feature\n",
        "\n",
        "Let's apply it for example to reviews of Intercontinental"
      ]
    },
    {
      "cell_type": "code",
      "metadata": {
        "id": "Sl6kJjaF9IOk"
      },
      "source": [
        "scores_interc = feature_pos_neg_counts(sentences_interc, feature_words, hu_liu_pos, hu_liu_neg)"
      ],
      "execution_count": null,
      "outputs": []
    },
    {
      "cell_type": "code",
      "metadata": {
        "colab": {
          "base_uri": "https://localhost:8080/",
          "height": 236
        },
        "id": "ODajRR8-9IOk",
        "outputId": "58060c0e-11ff-4421-ea06-035b6efa56f3"
      },
      "source": [
        "scores_interc"
      ],
      "execution_count": null,
      "outputs": [
        {
          "output_type": "execute_result",
          "data": {
            "text/html": [
              "<div>\n",
              "<style scoped>\n",
              "    .dataframe tbody tr th:only-of-type {\n",
              "        vertical-align: middle;\n",
              "    }\n",
              "\n",
              "    .dataframe tbody tr th {\n",
              "        vertical-align: top;\n",
              "    }\n",
              "\n",
              "    .dataframe thead th {\n",
              "        text-align: right;\n",
              "    }\n",
              "</style>\n",
              "<table border=\"1\" class=\"dataframe\">\n",
              "  <thead>\n",
              "    <tr style=\"text-align: right;\">\n",
              "      <th></th>\n",
              "      <th>pos_count</th>\n",
              "      <th>neg_count</th>\n",
              "    </tr>\n",
              "  </thead>\n",
              "  <tbody>\n",
              "    <tr>\n",
              "      <th>location</th>\n",
              "      <td>231</td>\n",
              "      <td>18</td>\n",
              "    </tr>\n",
              "    <tr>\n",
              "      <th>sleepquality</th>\n",
              "      <td>50</td>\n",
              "      <td>28</td>\n",
              "    </tr>\n",
              "    <tr>\n",
              "      <th>rooms</th>\n",
              "      <td>423</td>\n",
              "      <td>92</td>\n",
              "    </tr>\n",
              "    <tr>\n",
              "      <th>service</th>\n",
              "      <td>370</td>\n",
              "      <td>55</td>\n",
              "    </tr>\n",
              "    <tr>\n",
              "      <th>value</th>\n",
              "      <td>70</td>\n",
              "      <td>34</td>\n",
              "    </tr>\n",
              "    <tr>\n",
              "      <th>cleanliness</th>\n",
              "      <td>131</td>\n",
              "      <td>11</td>\n",
              "    </tr>\n",
              "  </tbody>\n",
              "</table>\n",
              "</div>"
            ],
            "text/plain": [
              "              pos_count  neg_count\n",
              "location            231         18\n",
              "sleepquality         50         28\n",
              "rooms               423         92\n",
              "service             370         55\n",
              "value                70         34\n",
              "cleanliness         131         11"
            ]
          },
          "metadata": {
            "tags": []
          },
          "execution_count": 91
        }
      ]
    },
    {
      "cell_type": "markdown",
      "metadata": {
        "id": "m5smNWpx9IOl"
      },
      "source": [
        "### Summarizing evaluation of hotel features\n",
        "\n",
        "Similarly to above, we compute for each feature a sentiment score in a 0-50 scale from the ratio of positive sentences about a feature w.r.t. their total"
      ]
    },
    {
      "cell_type": "code",
      "metadata": {
        "id": "hvyHtRYs9IOm"
      },
      "source": [
        "scores_interc[\"tot_count\"] = scores_interc.pos_count + scores_interc.neg_count"
      ],
      "execution_count": null,
      "outputs": []
    },
    {
      "cell_type": "code",
      "metadata": {
        "id": "NxSaH52X9IOn"
      },
      "source": [
        "scores_interc[\"score\"] = round(50 * scores_interc.pos_count / scores_interc.tot_count)"
      ],
      "execution_count": null,
      "outputs": []
    },
    {
      "cell_type": "code",
      "metadata": {
        "colab": {
          "base_uri": "https://localhost:8080/",
          "height": 236
        },
        "id": "TPqAtJN99IOo",
        "outputId": "ba49dcf2-6d8e-42d5-95f5-1512c9197942"
      },
      "source": [
        "scores_interc"
      ],
      "execution_count": null,
      "outputs": [
        {
          "output_type": "execute_result",
          "data": {
            "text/html": [
              "<div>\n",
              "<style scoped>\n",
              "    .dataframe tbody tr th:only-of-type {\n",
              "        vertical-align: middle;\n",
              "    }\n",
              "\n",
              "    .dataframe tbody tr th {\n",
              "        vertical-align: top;\n",
              "    }\n",
              "\n",
              "    .dataframe thead th {\n",
              "        text-align: right;\n",
              "    }\n",
              "</style>\n",
              "<table border=\"1\" class=\"dataframe\">\n",
              "  <thead>\n",
              "    <tr style=\"text-align: right;\">\n",
              "      <th></th>\n",
              "      <th>pos_count</th>\n",
              "      <th>neg_count</th>\n",
              "      <th>tot_count</th>\n",
              "      <th>score</th>\n",
              "    </tr>\n",
              "  </thead>\n",
              "  <tbody>\n",
              "    <tr>\n",
              "      <th>location</th>\n",
              "      <td>231</td>\n",
              "      <td>18</td>\n",
              "      <td>249</td>\n",
              "      <td>46.0</td>\n",
              "    </tr>\n",
              "    <tr>\n",
              "      <th>sleepquality</th>\n",
              "      <td>50</td>\n",
              "      <td>28</td>\n",
              "      <td>78</td>\n",
              "      <td>32.0</td>\n",
              "    </tr>\n",
              "    <tr>\n",
              "      <th>rooms</th>\n",
              "      <td>423</td>\n",
              "      <td>92</td>\n",
              "      <td>515</td>\n",
              "      <td>41.0</td>\n",
              "    </tr>\n",
              "    <tr>\n",
              "      <th>service</th>\n",
              "      <td>370</td>\n",
              "      <td>55</td>\n",
              "      <td>425</td>\n",
              "      <td>44.0</td>\n",
              "    </tr>\n",
              "    <tr>\n",
              "      <th>value</th>\n",
              "      <td>70</td>\n",
              "      <td>34</td>\n",
              "      <td>104</td>\n",
              "      <td>34.0</td>\n",
              "    </tr>\n",
              "    <tr>\n",
              "      <th>cleanliness</th>\n",
              "      <td>131</td>\n",
              "      <td>11</td>\n",
              "      <td>142</td>\n",
              "      <td>46.0</td>\n",
              "    </tr>\n",
              "  </tbody>\n",
              "</table>\n",
              "</div>"
            ],
            "text/plain": [
              "              pos_count  neg_count  tot_count  score\n",
              "location            231         18        249   46.0\n",
              "sleepquality         50         28         78   32.0\n",
              "rooms               423         92        515   41.0\n",
              "service             370         55        425   44.0\n",
              "value                70         34        104   34.0\n",
              "cleanliness         131         11        142   46.0"
            ]
          },
          "metadata": {
            "tags": []
          },
          "execution_count": 94
        }
      ]
    },
    {
      "cell_type": "markdown",
      "metadata": {
        "id": "BCoak-S39IOp"
      },
      "source": [
        "In order to easily repeat this process for every hotel, we wrap it in a function which takes as input the list of reviews and returns the Series with the final scores per feature"
      ]
    },
    {
      "cell_type": "code",
      "metadata": {
        "id": "xL4QJitL9IOp"
      },
      "source": [
        "def feature_scores(reviews, feature_words, pos_words, neg_words):\n",
        "    sentences = [sent for review in reviews for sent in nltk.sent_tokenize(review)]\n",
        "    counts = feature_pos_neg_counts(sentences, feature_words, pos_words, neg_words)\n",
        "    total = counts.pos_count + counts.neg_count\n",
        "    return round(50 * counts.pos_count / total)"
      ],
      "execution_count": null,
      "outputs": []
    },
    {
      "cell_type": "code",
      "metadata": {
        "colab": {
          "base_uri": "https://localhost:8080/"
        },
        "id": "BF2X1PJN9IOq",
        "outputId": "b07cc998-e4d1-4e66-f392-be1b7ee37bc4"
      },
      "source": [
        "feature_scores(reviews_interc, feature_words, hu_liu_pos, hu_liu_neg)"
      ],
      "execution_count": null,
      "outputs": [
        {
          "output_type": "execute_result",
          "data": {
            "text/plain": [
              "location        46.0\n",
              "sleepquality    32.0\n",
              "rooms           41.0\n",
              "service         44.0\n",
              "value           34.0\n",
              "cleanliness     46.0\n",
              "dtype: float64"
            ]
          },
          "metadata": {
            "tags": []
          },
          "execution_count": 96
        }
      ]
    },
    {
      "cell_type": "markdown",
      "metadata": {
        "id": "ovCL19qT9IOr"
      },
      "source": [
        "Let's create a DataFrame with feature scores for all analyzed hotels"
      ]
    },
    {
      "cell_type": "code",
      "metadata": {
        "id": "RnPw_fR_9IOr"
      },
      "source": [
        "scores = pd.DataFrame({hotel: feature_scores(reviews, feature_words, hu_liu_pos, hu_liu_neg) for hotel, reviews in all_reviews.items()})"
      ],
      "execution_count": null,
      "outputs": []
    },
    {
      "cell_type": "code",
      "metadata": {
        "colab": {
          "base_uri": "https://localhost:8080/",
          "height": 390
        },
        "id": "eZMYfs7G9IOs",
        "outputId": "479fb1bc-67b1-4a26-a41a-9c309512da98"
      },
      "source": [
        "print(scores)\n",
        "\n",
        "scores.T   # transpose the table"
      ],
      "execution_count": null,
      "outputs": [
        {
          "output_type": "stream",
          "text": [
            "              affinia_chicago  ...  the_palmer_house_hilton\n",
            "location                 45.0  ...                     45.0\n",
            "sleepquality             25.0  ...                     26.0\n",
            "rooms                    42.0  ...                     37.0\n",
            "service                  45.0  ...                     40.0\n",
            "value                    39.0  ...                     35.0\n",
            "cleanliness              46.0  ...                     44.0\n",
            "\n",
            "[6 rows x 6 columns]\n"
          ],
          "name": "stdout"
        },
        {
          "output_type": "execute_result",
          "data": {
            "text/html": [
              "<div>\n",
              "<style scoped>\n",
              "    .dataframe tbody tr th:only-of-type {\n",
              "        vertical-align: middle;\n",
              "    }\n",
              "\n",
              "    .dataframe tbody tr th {\n",
              "        vertical-align: top;\n",
              "    }\n",
              "\n",
              "    .dataframe thead th {\n",
              "        text-align: right;\n",
              "    }\n",
              "</style>\n",
              "<table border=\"1\" class=\"dataframe\">\n",
              "  <thead>\n",
              "    <tr style=\"text-align: right;\">\n",
              "      <th></th>\n",
              "      <th>location</th>\n",
              "      <th>sleepquality</th>\n",
              "      <th>rooms</th>\n",
              "      <th>service</th>\n",
              "      <th>value</th>\n",
              "      <th>cleanliness</th>\n",
              "    </tr>\n",
              "  </thead>\n",
              "  <tbody>\n",
              "    <tr>\n",
              "      <th>affinia_chicago</th>\n",
              "      <td>45.0</td>\n",
              "      <td>25.0</td>\n",
              "      <td>42.0</td>\n",
              "      <td>45.0</td>\n",
              "      <td>39.0</td>\n",
              "      <td>46.0</td>\n",
              "    </tr>\n",
              "    <tr>\n",
              "      <th>hyatt_regency_chicago</th>\n",
              "      <td>45.0</td>\n",
              "      <td>27.0</td>\n",
              "      <td>37.0</td>\n",
              "      <td>39.0</td>\n",
              "      <td>30.0</td>\n",
              "      <td>42.0</td>\n",
              "    </tr>\n",
              "    <tr>\n",
              "      <th>intercontinental_chicago</th>\n",
              "      <td>46.0</td>\n",
              "      <td>32.0</td>\n",
              "      <td>41.0</td>\n",
              "      <td>44.0</td>\n",
              "      <td>34.0</td>\n",
              "      <td>46.0</td>\n",
              "    </tr>\n",
              "    <tr>\n",
              "      <th>james_chicago</th>\n",
              "      <td>47.0</td>\n",
              "      <td>30.0</td>\n",
              "      <td>41.0</td>\n",
              "      <td>44.0</td>\n",
              "      <td>35.0</td>\n",
              "      <td>46.0</td>\n",
              "    </tr>\n",
              "    <tr>\n",
              "      <th>swissotel_chicago</th>\n",
              "      <td>44.0</td>\n",
              "      <td>32.0</td>\n",
              "      <td>40.0</td>\n",
              "      <td>43.0</td>\n",
              "      <td>34.0</td>\n",
              "      <td>46.0</td>\n",
              "    </tr>\n",
              "    <tr>\n",
              "      <th>the_palmer_house_hilton</th>\n",
              "      <td>45.0</td>\n",
              "      <td>26.0</td>\n",
              "      <td>37.0</td>\n",
              "      <td>40.0</td>\n",
              "      <td>35.0</td>\n",
              "      <td>44.0</td>\n",
              "    </tr>\n",
              "  </tbody>\n",
              "</table>\n",
              "</div>"
            ],
            "text/plain": [
              "                          location  sleepquality  ...  value  cleanliness\n",
              "affinia_chicago               45.0          25.0  ...   39.0         46.0\n",
              "hyatt_regency_chicago         45.0          27.0  ...   30.0         42.0\n",
              "intercontinental_chicago      46.0          32.0  ...   34.0         46.0\n",
              "james_chicago                 47.0          30.0  ...   35.0         46.0\n",
              "swissotel_chicago             44.0          32.0  ...   34.0         46.0\n",
              "the_palmer_house_hilton       45.0          26.0  ...   35.0         44.0\n",
              "\n",
              "[6 rows x 6 columns]"
            ]
          },
          "metadata": {
            "tags": []
          },
          "execution_count": 98
        }
      ]
    },
    {
      "cell_type": "markdown",
      "metadata": {
        "id": "SRg2vywT9IOv"
      },
      "source": [
        "We can create a bar plot to compare the hotels by each feature"
      ]
    },
    {
      "cell_type": "code",
      "metadata": {
        "colab": {
          "base_uri": "https://localhost:8080/",
          "height": 333
        },
        "id": "Z77JJX999IOv",
        "outputId": "028951bb-4033-4b13-d958-bbb851ab20b1"
      },
      "source": [
        "scores.plot.bar()"
      ],
      "execution_count": null,
      "outputs": [
        {
          "output_type": "execute_result",
          "data": {
            "text/plain": [
              "<matplotlib.axes._subplots.AxesSubplot at 0x7f1eb7f1afd0>"
            ]
          },
          "metadata": {
            "tags": []
          },
          "execution_count": 99
        },
        {
          "output_type": "display_data",
          "data": {
            "image/png": "[encoded data removed]",
            "text/plain": [
              "<Figure size 432x288 with 1 Axes>"
            ]
          },
          "metadata": {
            "tags": [],
            "needs_background": "light"
          }
        }
      ]
    },
    {
      "cell_type": "markdown",
      "metadata": {
        "id": "Qr17VRMp9IOw"
      },
      "source": [
        "### Comparing scores with TripAdvisor\n",
        "\n",
        "Obtained scores can be compared with the feature ratings which were computed by TripAdvisor up to some time ago\n",
        "\n",
        "![hotel ratings](https://www.dropbox.com/s/pq6q9ugsaessow6/hotel-ratings.png?dl=1)"
      ]
    },
    {
      "cell_type": "markdown",
      "metadata": {
        "id": "3k9gENE_9IOw"
      },
      "source": [
        "## Activity 3: Classification of Reviews via Supervised Training\n",
        "\n",
        "**Goal:** classify user reviews of movies extracted from IMDB as positive or negative\n",
        "\n",
        "Contrarily to previous activities, this time we will train a classificaton model on existing reviews instead of using manually set keywords"
      ]
    },
    {
      "cell_type": "markdown",
      "metadata": {
        "id": "AXWxfW1Q9IOw"
      },
      "source": [
        "### Loading reviews\n",
        "\n",
        "We load reviews from a GZIP-compressed CSV file of 10,000 movie reviews, alternated between positive and negative"
      ]
    },
    {
      "cell_type": "code",
      "metadata": {
        "id": "gyb5edlH9IOx"
      },
      "source": [
        "download(\"acl-10k.csv.gz\", \"https://github.com/unibodatascience/BBS-TextMining/raw/3ad6643b698f652f200dfbf463a3cb49de8c0e9f/05%20-%20Opinion%20Mining%20with%20Python%20(part%201)/data/acl-10k.csv.gz\")"
      ],
      "execution_count": null,
      "outputs": []
    },
    {
      "cell_type": "code",
      "metadata": {
        "id": "pUWkUCnB9IOy"
      },
      "source": [
        "reviews = pd.read_csv(\"acl-10k.csv.gz\", sep=\"\\t\", header=None, names=[\"label\", \"text\"], compression=\"gzip\")"
      ],
      "execution_count": null,
      "outputs": []
    },
    {
      "cell_type": "code",
      "metadata": {
        "colab": {
          "base_uri": "https://localhost:8080/",
          "height": 239
        },
        "id": "gYE_BFzX9IOz",
        "outputId": "b69579c0-385d-45fd-f54c-1acf16c4633c"
      },
      "source": [
        "reviews.head()"
      ],
      "execution_count": null,
      "outputs": [
        {
          "output_type": "execute_result",
          "data": {
            "text/html": [
              "<div>\n",
              "<style scoped>\n",
              "    .dataframe tbody tr th:only-of-type {\n",
              "        vertical-align: middle;\n",
              "    }\n",
              "\n",
              "    .dataframe tbody tr th {\n",
              "        vertical-align: top;\n",
              "    }\n",
              "\n",
              "    .dataframe thead th {\n",
              "        text-align: right;\n",
              "    }\n",
              "</style>\n",
              "<table border=\"1\" class=\"dataframe\">\n",
              "  <thead>\n",
              "    <tr style=\"text-align: right;\">\n",
              "      <th></th>\n",
              "      <th>label</th>\n",
              "      <th>text</th>\n",
              "    </tr>\n",
              "  </thead>\n",
              "  <tbody>\n",
              "    <tr>\n",
              "      <th>0</th>\n",
              "      <td>pos</td>\n",
              "      <td>Bromwell High is a cartoon comedy. It ran at the same time as some other programs about school l...</td>\n",
              "    </tr>\n",
              "    <tr>\n",
              "      <th>1</th>\n",
              "      <td>neg</td>\n",
              "      <td>Story of a man who has unnatural feelings for a pig. Starts out with a opening scene that is a t...</td>\n",
              "    </tr>\n",
              "    <tr>\n",
              "      <th>2</th>\n",
              "      <td>pos</td>\n",
              "      <td>If you like adult comedy cartoons, like South Park, then this is nearly a similar format about t...</td>\n",
              "    </tr>\n",
              "    <tr>\n",
              "      <th>3</th>\n",
              "      <td>neg</td>\n",
              "      <td>Robert DeNiro plays the most unbelievably intelligent illiterate of all time. This movie is so w...</td>\n",
              "    </tr>\n",
              "    <tr>\n",
              "      <th>4</th>\n",
              "      <td>pos</td>\n",
              "      <td>Bromwell High is nothing short of brilliant. Expertly scripted and perfectly delivered, this sea...</td>\n",
              "    </tr>\n",
              "  </tbody>\n",
              "</table>\n",
              "</div>"
            ],
            "text/plain": [
              "  label                                                                                                 text\n",
              "0   pos  Bromwell High is a cartoon comedy. It ran at the same time as some other programs about school l...\n",
              "1   neg  Story of a man who has unnatural feelings for a pig. Starts out with a opening scene that is a t...\n",
              "2   pos  If you like adult comedy cartoons, like South Park, then this is nearly a similar format about t...\n",
              "3   neg  Robert DeNiro plays the most unbelievably intelligent illiterate of all time. This movie is so w...\n",
              "4   pos  Bromwell High is nothing short of brilliant. Expertly scripted and perfectly delivered, this sea..."
            ]
          },
          "metadata": {
            "tags": []
          },
          "execution_count": 203
        }
      ]
    },
    {
      "cell_type": "markdown",
      "metadata": {
        "id": "U172DUlL9IO0"
      },
      "source": [
        "In order to validate the goodness of automated classification, we use the _hold-out_ approach: a part of the reviews is used to train a classifier, while the remaining ones are used to assess its accuracy\n",
        "\n",
        "Let's select the first half of the reviews as the _training set_ and the second half as the _test set_"
      ]
    },
    {
      "cell_type": "code",
      "metadata": {
        "id": "KxsrEToT9IO0"
      },
      "source": [
        "reviews_train = reviews[:5000] # first 5000 reviews\n",
        "reviews_test = reviews[5000:] # last 5000 reviews"
      ],
      "execution_count": null,
      "outputs": []
    },
    {
      "cell_type": "markdown",
      "metadata": {
        "id": "nSndGPba9IO1"
      },
      "source": [
        "### Bag of Words and Vector Space Model\n",
        "\n",
        "In order to train and use a classifier on reviews, we have to define the _features_ which represent them\n",
        "\n",
        "With the _Bag of Words_ model we represent each review as the set of words contained in it, regardless of their order\n",
        "\n",
        "Once defined a set of known words, we can represent each review with a vector indicating for each word the number of occurrencies in the text; a set of reviews can be be consequently represented as a _document-term matrix_ with a row vector for each review"
      ]
    },
    {
      "cell_type": "markdown",
      "metadata": {
        "id": "f4Wvi4Uo9IO1"
      },
      "source": [
        "Let's define a list of example text documents..."
      ]
    },
    {
      "cell_type": "code",
      "metadata": {
        "id": "CV26ZAf49IO1"
      },
      "source": [
        "docs = [\n",
        "    \"the sky is blue\",\n",
        "    \"sky is blue and sky is beautiful\",\n",
        "    \"the beautiful sky is so blue\",\n",
        "    \"i love blue cheese\"\n",
        "]"
      ],
      "execution_count": null,
      "outputs": []
    },
    {
      "cell_type": "markdown",
      "metadata": {
        "id": "MossE1cR9IO2"
      },
      "source": [
        "A `CountVectorizer` extracts a vector for each document with counts of distinct words in it: we start from creating an \"empty\" vectorizer"
      ]
    },
    {
      "cell_type": "code",
      "metadata": {
        "id": "WeRiIqIZ9IO2"
      },
      "source": [
        "from sklearn.feature_extraction.text import CountVectorizer\n",
        "vect = CountVectorizer()"
      ],
      "execution_count": null,
      "outputs": []
    },
    {
      "cell_type": "markdown",
      "metadata": {
        "id": "Abjwprh_9IO3"
      },
      "source": [
        "We use the `fit_transform` method passing the list of documents to\n",
        "\n",
        "- \"build\" the vector space with dimensions corresponding to words within them (_fit_)\n",
        "- return the document-term matrix representing them (_transform_)"
      ]
    },
    {
      "cell_type": "code",
      "metadata": {
        "colab": {
          "base_uri": "https://localhost:8080/"
        },
        "id": "FaqE_cGv9IO3",
        "outputId": "250877a5-b08e-4559-df4a-3856858761b7"
      },
      "source": [
        "dtm = vect.fit_transform(docs)\n",
        "dtm # 4 x 9 matrix, 4 rows represent the number of documents, 9 columns represent the number of distinct words found within them"
      ],
      "execution_count": null,
      "outputs": [
        {
          "output_type": "execute_result",
          "data": {
            "text/plain": [
              "<4x9 sparse matrix of type '<class 'numpy.int64'>'\n",
              "\twith 18 stored elements in Compressed Sparse Row format>"
            ]
          },
          "metadata": {
            "tags": []
          },
          "execution_count": 107
        }
      ]
    },
    {
      "cell_type": "markdown",
      "metadata": {
        "id": "sNyRpX6J9IO4"
      },
      "source": [
        "The obtained `dtm` matrix contains a row for each document and a column for each distinct word found within documents: we can obtain a list of the words \"learned\" by the vectorizer..."
      ]
    },
    {
      "cell_type": "code",
      "metadata": {
        "colab": {
          "base_uri": "https://localhost:8080/"
        },
        "id": "qsirTqtE9IO4",
        "outputId": "2e5585d5-550f-4336-bea3-2c2086807ba7"
      },
      "source": [
        "vect.get_feature_names()"
      ],
      "execution_count": null,
      "outputs": [
        {
          "output_type": "execute_result",
          "data": {
            "text/plain": [
              "['and', 'beautiful', 'blue', 'cheese', 'is', 'love', 'sky', 'so', 'the']"
            ]
          },
          "metadata": {
            "tags": []
          },
          "execution_count": 108
        }
      ]
    },
    {
      "cell_type": "markdown",
      "metadata": {
        "id": "_vDbPWyr9IO5"
      },
      "source": [
        "Let's view the matrix as a DataFrame, labeling rows and columns with corresponding documents and features"
      ]
    },
    {
      "cell_type": "code",
      "metadata": {
        "colab": {
          "base_uri": "https://localhost:8080/",
          "height": 174
        },
        "id": "C8xOa6zB9IO5",
        "outputId": "c48d35c6-55f0-4c1d-b56e-06fc51486269"
      },
      "source": [
        "pd.DataFrame(dtm.toarray(), index=docs, columns=vect.get_feature_names())"
      ],
      "execution_count": null,
      "outputs": [
        {
          "output_type": "execute_result",
          "data": {
            "text/html": [
              "<div>\n",
              "<style scoped>\n",
              "    .dataframe tbody tr th:only-of-type {\n",
              "        vertical-align: middle;\n",
              "    }\n",
              "\n",
              "    .dataframe tbody tr th {\n",
              "        vertical-align: top;\n",
              "    }\n",
              "\n",
              "    .dataframe thead th {\n",
              "        text-align: right;\n",
              "    }\n",
              "</style>\n",
              "<table border=\"1\" class=\"dataframe\">\n",
              "  <thead>\n",
              "    <tr style=\"text-align: right;\">\n",
              "      <th></th>\n",
              "      <th>and</th>\n",
              "      <th>beautiful</th>\n",
              "      <th>blue</th>\n",
              "      <th>cheese</th>\n",
              "      <th>is</th>\n",
              "      <th>love</th>\n",
              "      <th>sky</th>\n",
              "      <th>so</th>\n",
              "      <th>the</th>\n",
              "    </tr>\n",
              "  </thead>\n",
              "  <tbody>\n",
              "    <tr>\n",
              "      <th>the sky is blue</th>\n",
              "      <td>0</td>\n",
              "      <td>0</td>\n",
              "      <td>1</td>\n",
              "      <td>0</td>\n",
              "      <td>1</td>\n",
              "      <td>0</td>\n",
              "      <td>1</td>\n",
              "      <td>0</td>\n",
              "      <td>1</td>\n",
              "    </tr>\n",
              "    <tr>\n",
              "      <th>sky is blue and sky is beautiful</th>\n",
              "      <td>1</td>\n",
              "      <td>1</td>\n",
              "      <td>1</td>\n",
              "      <td>0</td>\n",
              "      <td>2</td>\n",
              "      <td>0</td>\n",
              "      <td>2</td>\n",
              "      <td>0</td>\n",
              "      <td>0</td>\n",
              "    </tr>\n",
              "    <tr>\n",
              "      <th>the beautiful sky is so blue</th>\n",
              "      <td>0</td>\n",
              "      <td>1</td>\n",
              "      <td>1</td>\n",
              "      <td>0</td>\n",
              "      <td>1</td>\n",
              "      <td>0</td>\n",
              "      <td>1</td>\n",
              "      <td>1</td>\n",
              "      <td>1</td>\n",
              "    </tr>\n",
              "    <tr>\n",
              "      <th>i love blue cheese</th>\n",
              "      <td>0</td>\n",
              "      <td>0</td>\n",
              "      <td>1</td>\n",
              "      <td>1</td>\n",
              "      <td>0</td>\n",
              "      <td>1</td>\n",
              "      <td>0</td>\n",
              "      <td>0</td>\n",
              "      <td>0</td>\n",
              "    </tr>\n",
              "  </tbody>\n",
              "</table>\n",
              "</div>"
            ],
            "text/plain": [
              "                                  and  beautiful  blue  ...  sky  so  the\n",
              "the sky is blue                     0          0     1  ...    1   0    1\n",
              "sky is blue and sky is beautiful    1          1     1  ...    2   0    0\n",
              "the beautiful sky is so blue        0          1     1  ...    1   1    1\n",
              "i love blue cheese                  0          0     1  ...    0   0    0\n",
              "\n",
              "[4 rows x 9 columns]"
            ]
          },
          "metadata": {
            "tags": []
          },
          "execution_count": 109
        }
      ]
    },
    {
      "cell_type": "markdown",
      "metadata": {
        "id": "SoJFPERf9IO6"
      },
      "source": [
        "As we can see, the matrix indicates for each document the number of occurrencies of each word"
      ]
    },
    {
      "cell_type": "markdown",
      "metadata": {
        "id": "BRH85pEK9IO6"
      },
      "source": [
        "Using the `transform` method, we can represent further documents in the same vector space"
      ]
    },
    {
      "cell_type": "code",
      "metadata": {
        "id": "MNvHGGTU9IO6"
      },
      "source": [
        "new_docs = [\"loving this blue sky today\"]\n",
        "new_dtm = vect.transform(new_docs)"
      ],
      "execution_count": null,
      "outputs": []
    },
    {
      "cell_type": "code",
      "metadata": {
        "colab": {
          "base_uri": "https://localhost:8080/",
          "height": 80
        },
        "id": "k3ZWv5yl9IO7",
        "outputId": "133c1be6-888e-4025-fce6-6bb07b17d84d"
      },
      "source": [
        "pd.DataFrame(new_dtm.toarray(), index=new_docs, columns=vect.get_feature_names())"
      ],
      "execution_count": null,
      "outputs": [
        {
          "output_type": "execute_result",
          "data": {
            "text/html": [
              "<div>\n",
              "<style scoped>\n",
              "    .dataframe tbody tr th:only-of-type {\n",
              "        vertical-align: middle;\n",
              "    }\n",
              "\n",
              "    .dataframe tbody tr th {\n",
              "        vertical-align: top;\n",
              "    }\n",
              "\n",
              "    .dataframe thead th {\n",
              "        text-align: right;\n",
              "    }\n",
              "</style>\n",
              "<table border=\"1\" class=\"dataframe\">\n",
              "  <thead>\n",
              "    <tr style=\"text-align: right;\">\n",
              "      <th></th>\n",
              "      <th>and</th>\n",
              "      <th>beautiful</th>\n",
              "      <th>blue</th>\n",
              "      <th>cheese</th>\n",
              "      <th>is</th>\n",
              "      <th>love</th>\n",
              "      <th>sky</th>\n",
              "      <th>so</th>\n",
              "      <th>the</th>\n",
              "    </tr>\n",
              "  </thead>\n",
              "  <tbody>\n",
              "    <tr>\n",
              "      <th>loving this blue sky today</th>\n",
              "      <td>0</td>\n",
              "      <td>0</td>\n",
              "      <td>1</td>\n",
              "      <td>0</td>\n",
              "      <td>0</td>\n",
              "      <td>0</td>\n",
              "      <td>1</td>\n",
              "      <td>0</td>\n",
              "      <td>0</td>\n",
              "    </tr>\n",
              "  </tbody>\n",
              "</table>\n",
              "</div>"
            ],
            "text/plain": [
              "                            and  beautiful  blue  cheese  ...  love  sky  so  the\n",
              "loving this blue sky today    0          0     1       0  ...     0    1   0    0\n",
              "\n",
              "[1 rows x 9 columns]"
            ]
          },
          "metadata": {
            "tags": []
          },
          "execution_count": 111
        }
      ]
    },
    {
      "cell_type": "markdown",
      "metadata": {
        "id": "pdXF5wcL9IO-"
      },
      "source": [
        "Notice that some words of the new document (e.g. \"loving\") are lost in the representation, because they are not known in the vector space, but this is generally a minor problem if the vector space is built on many documents"
      ]
    },
    {
      "cell_type": "markdown",
      "metadata": {
        "id": "gEB3lHRu9IO_"
      },
      "source": [
        "### Training a classifier\n",
        "\n",
        "We use the vector space model to represent reviews passed to a classifier: let's create a new vector space..."
      ]
    },
    {
      "cell_type": "code",
      "metadata": {
        "id": "AaeFZphn9IPA"
      },
      "source": [
        "vect = CountVectorizer()"
      ],
      "execution_count": null,
      "outputs": []
    },
    {
      "cell_type": "markdown",
      "metadata": {
        "id": "sxVsu06v9IPB"
      },
      "source": [
        "...and fit it to reviews of the training set only (as we assume to _not_ know in advance documents of the test set), obtaining the document-term matrix representing them"
      ]
    },
    {
      "cell_type": "code",
      "metadata": {
        "id": "IJ19rE7L9IPB"
      },
      "source": [
        "dtm_train = vect.fit_transform(reviews_train.text)"
      ],
      "execution_count": null,
      "outputs": []
    },
    {
      "cell_type": "markdown",
      "metadata": {
        "id": "EvHsj5Jh9IPC"
      },
      "source": [
        "We can get the total count of extracted feature words..."
      ]
    },
    {
      "cell_type": "code",
      "metadata": {
        "colab": {
          "base_uri": "https://localhost:8080/"
        },
        "id": "xUqEZwSn9IPC",
        "outputId": "e0a46590-f069-443c-f1b6-9602eff24769"
      },
      "source": [
        "len(vect.get_feature_names())"
      ],
      "execution_count": null,
      "outputs": [
        {
          "output_type": "execute_result",
          "data": {
            "text/plain": [
              "36272"
            ]
          },
          "metadata": {
            "tags": []
          },
          "execution_count": 114
        }
      ]
    },
    {
      "cell_type": "markdown",
      "metadata": {
        "id": "Ao9puiLl9IPD"
      },
      "source": [
        "...and see some of them (they are in alphabetical order)"
      ]
    },
    {
      "cell_type": "code",
      "metadata": {
        "colab": {
          "base_uri": "https://localhost:8080/"
        },
        "id": "z8nvNkQL9IPD",
        "outputId": "90ff81c6-79aa-4b08-87da-b6d1cb0fee74"
      },
      "source": [
        "vect.get_feature_names()[1000:1005]"
      ],
      "execution_count": null,
      "outputs": [
        {
          "output_type": "execute_result",
          "data": {
            "text/plain": [
              "['affections', 'affects', 'afficinados', 'affiliated', 'affiliation']"
            ]
          },
          "metadata": {
            "tags": []
          },
          "execution_count": 115
        }
      ]
    },
    {
      "cell_type": "markdown",
      "metadata": {
        "id": "HEbpXAp49IPE"
      },
      "source": [
        "The document-term matrix is _sparse_, meaning that most of its elements are zero. We can verify the ratio of non-zero elements by converting them to booleans and computing the mean value (all non-zero values become 1)"
      ]
    },
    {
      "cell_type": "code",
      "metadata": {
        "colab": {
          "base_uri": "https://localhost:8080/"
        },
        "id": "nQ4TYTLb9IPE",
        "outputId": "36d3c3f0-f8ef-4eb8-8947-df82fc8fe932"
      },
      "source": [
        "dtm_train.astype(bool).mean()"
      ],
      "execution_count": null,
      "outputs": [
        {
          "output_type": "execute_result",
          "data": {
            "text/plain": [
              "0.0037657973092192322"
            ]
          },
          "metadata": {
            "tags": []
          },
          "execution_count": 116
        }
      ]
    },
    {
      "cell_type": "markdown",
      "metadata": {
        "id": "E-5Ij_zz9IPF"
      },
      "source": [
        "Such matrix is represented in memory with a space-efficient data structure which explicitly stores non-zero values only"
      ]
    },
    {
      "cell_type": "markdown",
      "metadata": {
        "id": "4MtpO5hF9IPF"
      },
      "source": [
        "Now we can train any classification model on the generated vectors: let's use for example logistic regression, SVM and some bayesian models.\n",
        "\n",
        "As for the vectorizer, we first create the \"empty\" model..."
      ]
    },
    {
      "cell_type": "code",
      "metadata": {
        "id": "UV3gt-5wxKxW"
      },
      "source": [
        "from sklearn.naive_bayes import MultinomialNB\n",
        "model = MultinomialNB() # Naive Bayes classifier for multinomial models"
      ],
      "execution_count": null,
      "outputs": []
    },
    {
      "cell_type": "markdown",
      "metadata": {
        "id": "aDV_JuKf-ieE"
      },
      "source": [
        "The multinomial Naive Bayes classifier is suitable for classification with discrete features (e.g., word counts for text classification). The multinomial distribution normally requires integer feature counts. However, in practice, fractional counts such as tf-idf may also work."
      ]
    },
    {
      "cell_type": "code",
      "metadata": {
        "id": "Hd6GUeZ6yEno"
      },
      "source": [
        "from sklearn.naive_bayes import BernoulliNB # Naive Bayes classifier for multivariate Bernoulli models.\n",
        "# The default parameter named \"binarize\" will transform each input vector in a\n",
        "# binary vector based on the specified threshold (0.0)\n",
        "model = BernoulliNB(binarize=0.0) # if input > 0.0 then 1 else 0"
      ],
      "execution_count": null,
      "outputs": []
    },
    {
      "cell_type": "markdown",
      "metadata": {
        "id": "gxyakhXB4z-v"
      },
      "source": [
        "Like MultinomialNB, this classifier is suitable for discrete data but it usually works better with few features and **short docs**. \n",
        "Indeed, this latter Naive Bayes model will perform better (Accuracy: $\\approx$ 77% vs $\\approx$ 81%) than the multinomial version since we are dealing with short texts.\n",
        "\n",
        "The difference is that while MultinomialNB works better with occurrence counts, BernoulliNB is designed for binary/boolean features! Since we have the frequency count for each term, we have to convert it into a binary variable but the BernoulliNB implementation already do this mapping!"
      ]
    },
    {
      "cell_type": "code",
      "metadata": {
        "id": "0rNKFlWZ09Ko"
      },
      "source": [
        "from sklearn.svm import SVC\n",
        "model = SVC() # default kernel is set to RBF"
      ],
      "execution_count": null,
      "outputs": []
    },
    {
      "cell_type": "code",
      "metadata": {
        "id": "2dY6AnK61uJ6"
      },
      "source": [
        "from sklearn.svm import LinearSVC\n",
        "model = LinearSVC(max_iter = 5000) # max_iter param represents the maximum number of iterations performed by the optimization algorithm used to train the model by the sklearn library"
      ],
      "execution_count": null,
      "outputs": []
    },
    {
      "cell_type": "markdown",
      "metadata": {
        "id": "BYCAZu2v4C1L"
      },
      "source": [
        "SVM generally does just as well on textual data without using kernels because the multidimensional space is so vast that the probability of finding a separation hyperplane is similar to that of finding a nonlinear separation.\n",
        "In other words you can notice that with or without a kernel the result does not change significantly."
      ]
    },
    {
      "cell_type": "markdown",
      "metadata": {
        "id": "Vc_lVIQnAS-A"
      },
      "source": [
        "Let's go on creating a logistic regression model..."
      ]
    },
    {
      "cell_type": "code",
      "metadata": {
        "id": "1jtFH7fT9IPF"
      },
      "source": [
        "from sklearn.linear_model import LogisticRegression\n",
        "model = LogisticRegression(solver=\"liblinear\") # liblinear is an optimization algorithm recommended for small volume (small number of rows) and high dimension (high number of columns) datasets"
      ],
      "execution_count": null,
      "outputs": []
    },
    {
      "cell_type": "markdown",
      "metadata": {
        "id": "-8die02Q9IPH"
      },
      "source": [
        "...then we fit it to the training set, passing the vector representation of the reviews along with their actual labels"
      ]
    },
    {
      "cell_type": "code",
      "metadata": {
        "colab": {
          "base_uri": "https://localhost:8080/"
        },
        "id": "4yda-8J79IPH",
        "outputId": "35c96949-df01-453e-dc9e-6de457e9b995"
      },
      "source": [
        "model.fit(dtm_train, reviews_train.label)"
      ],
      "execution_count": null,
      "outputs": [
        {
          "output_type": "execute_result",
          "data": {
            "text/plain": [
              "LogisticRegression(C=1.0, class_weight=None, dual=False, fit_intercept=True,\n",
              "                   intercept_scaling=1, l1_ratio=None, max_iter=100,\n",
              "                   multi_class='auto', n_jobs=None, penalty='l2',\n",
              "                   random_state=None, solver='liblinear', tol=0.0001, verbose=0,\n",
              "                   warm_start=False)"
            ]
          },
          "metadata": {
            "tags": []
          },
          "execution_count": 122
        }
      ]
    },
    {
      "cell_type": "markdown",
      "metadata": {
        "id": "_TiT04TP9IPI"
      },
      "source": [
        "### Using the classifier\n",
        "\n",
        "Once the classifier is trained, we can use it to estimate labels for further reviews"
      ]
    },
    {
      "cell_type": "code",
      "metadata": {
        "id": "quyMXP829IPI"
      },
      "source": [
        "new_reviews = [\"What an awesome movie!\", \"It was really boring\"]"
      ],
      "execution_count": null,
      "outputs": []
    },
    {
      "cell_type": "markdown",
      "metadata": {
        "id": "aN_eCM4V9IPI"
      },
      "source": [
        "We first have to use the vectorizer to extract their representation in the vector space..."
      ]
    },
    {
      "cell_type": "code",
      "metadata": {
        "id": "TImYsSgC9IPJ"
      },
      "source": [
        "dtm_new = vect.transform(new_reviews)"
      ],
      "execution_count": null,
      "outputs": []
    },
    {
      "cell_type": "markdown",
      "metadata": {
        "id": "b1JhS_eH9IPJ"
      },
      "source": [
        "...then we use the `predict` method of the model to get corresponding predicted labels"
      ]
    },
    {
      "cell_type": "code",
      "metadata": {
        "colab": {
          "base_uri": "https://localhost:8080/"
        },
        "id": "uH3B9x-A9IPJ",
        "outputId": "ab869d65-51f2-4b36-f303-03d18ce2f8ae"
      },
      "source": [
        "model.predict(dtm_new)"
      ],
      "execution_count": null,
      "outputs": [
        {
          "output_type": "execute_result",
          "data": {
            "text/plain": [
              "array(['pos', 'neg'], dtype=object)"
            ]
          },
          "metadata": {
            "tags": []
          },
          "execution_count": 125
        }
      ]
    },
    {
      "cell_type": "markdown",
      "metadata": {
        "id": "s1XAeXqW9IPK"
      },
      "source": [
        "### Evaluating the classifier\n",
        "\n",
        "We can evaluate the goodness of the classifier by getting predicted labels for reviews in the test set and comparing them with known actual labels\n",
        "\n",
        "Given data and actual labels of the test set, the `score` method of the model computes the _accuracy_ as the ratio of test reviews for which classification is correct\n",
        "\n",
        "We first obtain the document-term matrix for the test set..."
      ]
    },
    {
      "cell_type": "code",
      "metadata": {
        "id": "5t3vPmrv9IPK"
      },
      "source": [
        "dtm_test = vect.transform(reviews_test.text)"
      ],
      "execution_count": null,
      "outputs": []
    },
    {
      "cell_type": "markdown",
      "metadata": {
        "id": "8p-rRVcK9IPM"
      },
      "source": [
        "...then we call the `score` method on it and on the known labels"
      ]
    },
    {
      "cell_type": "code",
      "metadata": {
        "colab": {
          "base_uri": "https://localhost:8080/"
        },
        "id": "lUGulqIl9IPM",
        "outputId": "833d4339-b8fb-4e0d-9539-9464b437df27"
      },
      "source": [
        "model.score(dtm_test, reviews_test.label) # classification accuracy"
      ],
      "execution_count": null,
      "outputs": [
        {
          "output_type": "execute_result",
          "data": {
            "text/plain": [
              "0.8188"
            ]
          },
          "metadata": {
            "tags": []
          },
          "execution_count": 127
        }
      ]
    },
    {
      "cell_type": "markdown",
      "metadata": {
        "id": "7rSJPrJY9IPN"
      },
      "source": [
        "### Creating a pipeline\n",
        "\n",
        "In all the operations above (training, predicting, evaluating) we had to manually convert text reviews into their vector representations before passing them to the model\n",
        "\n",
        "scikit-learn allows to create _pipelines_, which combine a prediction model with a sequence of one or more pre-processing steps into a single object\n",
        "\n",
        "We first create the pipeline by specifying its components, in this case the vectorizer and the actual classifier; each component has a name, allowing it to be referenced after creation"
      ]
    },
    {
      "cell_type": "code",
      "metadata": {
        "id": "vGRxjDKU9IPO"
      },
      "source": [
        "from sklearn.pipeline import Pipeline\n",
        "model = Pipeline([\n",
        "    (\"vectorizer\", CountVectorizer()), # Step 1\n",
        "    (\"classifier\", LogisticRegression(max_iter=500)) # Step 2\n",
        "])"
      ],
      "execution_count": null,
      "outputs": []
    },
    {
      "cell_type": "markdown",
      "metadata": {
        "id": "eS6yzG6m9IPO"
      },
      "source": [
        "Now, we can use the pipeline as we used the model above, but passing directly the text of reviews, as the vectorizer is automatically fit to reviews used to fit the model and used to transform all reviews passed to the classifier"
      ]
    },
    {
      "cell_type": "code",
      "metadata": {
        "id": "WXol6wfi9IPP"
      },
      "source": [
        "model.fit(reviews_train.text, reviews_train.label);\n",
        "# \";\" is used to suppress output"
      ],
      "execution_count": null,
      "outputs": []
    },
    {
      "cell_type": "code",
      "metadata": {
        "colab": {
          "base_uri": "https://localhost:8080/"
        },
        "id": "3U9h8m8L9IPP",
        "outputId": "d30c4b03-3fdb-4671-c631-833103a16fa9"
      },
      "source": [
        "model.predict(new_reviews)"
      ],
      "execution_count": null,
      "outputs": [
        {
          "output_type": "execute_result",
          "data": {
            "text/plain": [
              "array(['pos', 'neg'], dtype=object)"
            ]
          },
          "metadata": {
            "tags": []
          },
          "execution_count": 130
        }
      ]
    },
    {
      "cell_type": "code",
      "metadata": {
        "colab": {
          "base_uri": "https://localhost:8080/"
        },
        "id": "1EYlXN3g9IPQ",
        "outputId": "2ecc58d9-c7ca-42ca-ee2d-507133a3160d"
      },
      "source": [
        "model.score(reviews_test.text, reviews_test.label)"
      ],
      "execution_count": null,
      "outputs": [
        {
          "output_type": "execute_result",
          "data": {
            "text/plain": [
              "0.8186"
            ]
          },
          "metadata": {
            "tags": []
          },
          "execution_count": 131
        }
      ]
    },
    {
      "cell_type": "markdown",
      "metadata": {
        "id": "9L8flQBB9IPS"
      },
      "source": [
        "We obtain the same result as above, but with cleaner code"
      ]
    },
    {
      "cell_type": "markdown",
      "metadata": {
        "id": "c_s0lFHW9IPS"
      },
      "source": [
        "### Applying tf.idf term weighting\n",
        "\n",
        "The `CountVectorizer` generates vectors with simple counts of occurrencies of terms within a document, without considering the relative importance of such terms with respect to each other\n",
        "\n",
        "The _tf.idf_ term weighting scheme uses a formula with two factors to better evaluate the weight of each term in each document\n",
        "\n",
        "- The _tf_ factor evaluates the _local_ importance of a term in a document: it is usually the usual count of occurrencies of the term (or its logarithm)\n",
        "- The _idf_ factor evaluates the _global_ importance of a term in the set of documents: it is higher for terms appearing in fewer documents, as they are supposed to be more specific\n",
        "\n",
        "In order to use tf.idf in place of raw counts of occurrencies, we simply use `TfidfVectorizer` in place of `CountVectorizer`"
      ]
    },
    {
      "cell_type": "markdown",
      "metadata": {
        "id": "dTWh-mql9IPS"
      },
      "source": [
        "Let's see for example the tf.idf applied to example documents used above..."
      ]
    },
    {
      "cell_type": "code",
      "metadata": {
        "colab": {
          "base_uri": "https://localhost:8080/",
          "height": 174
        },
        "id": "1adRlwwO9IPS",
        "outputId": "6c037b95-e0b4-4924-f6e0-5d283087f985"
      },
      "source": [
        "from sklearn.feature_extraction.text import TfidfVectorizer\n",
        "vect = TfidfVectorizer()\n",
        "dtm = vect.fit_transform(docs)\n",
        "pd.DataFrame(dtm.toarray(), index=docs, columns=vect.get_feature_names())"
      ],
      "execution_count": null,
      "outputs": [
        {
          "output_type": "execute_result",
          "data": {
            "text/html": [
              "<div>\n",
              "<style scoped>\n",
              "    .dataframe tbody tr th:only-of-type {\n",
              "        vertical-align: middle;\n",
              "    }\n",
              "\n",
              "    .dataframe tbody tr th {\n",
              "        vertical-align: top;\n",
              "    }\n",
              "\n",
              "    .dataframe thead th {\n",
              "        text-align: right;\n",
              "    }\n",
              "</style>\n",
              "<table border=\"1\" class=\"dataframe\">\n",
              "  <thead>\n",
              "    <tr style=\"text-align: right;\">\n",
              "      <th></th>\n",
              "      <th>and</th>\n",
              "      <th>beautiful</th>\n",
              "      <th>blue</th>\n",
              "      <th>cheese</th>\n",
              "      <th>is</th>\n",
              "      <th>love</th>\n",
              "      <th>sky</th>\n",
              "      <th>so</th>\n",
              "      <th>the</th>\n",
              "    </tr>\n",
              "  </thead>\n",
              "  <tbody>\n",
              "    <tr>\n",
              "      <th>the sky is blue</th>\n",
              "      <td>0.000</td>\n",
              "      <td>0.000</td>\n",
              "      <td>0.399</td>\n",
              "      <td>0.000</td>\n",
              "      <td>0.488</td>\n",
              "      <td>0.000</td>\n",
              "      <td>0.488</td>\n",
              "      <td>0.000</td>\n",
              "      <td>0.603</td>\n",
              "    </tr>\n",
              "    <tr>\n",
              "      <th>sky is blue and sky is beautiful</th>\n",
              "      <td>0.441</td>\n",
              "      <td>0.347</td>\n",
              "      <td>0.230</td>\n",
              "      <td>0.000</td>\n",
              "      <td>0.562</td>\n",
              "      <td>0.000</td>\n",
              "      <td>0.562</td>\n",
              "      <td>0.000</td>\n",
              "      <td>0.000</td>\n",
              "    </tr>\n",
              "    <tr>\n",
              "      <th>the beautiful sky is so blue</th>\n",
              "      <td>0.000</td>\n",
              "      <td>0.432</td>\n",
              "      <td>0.286</td>\n",
              "      <td>0.000</td>\n",
              "      <td>0.350</td>\n",
              "      <td>0.000</td>\n",
              "      <td>0.350</td>\n",
              "      <td>0.548</td>\n",
              "      <td>0.432</td>\n",
              "    </tr>\n",
              "    <tr>\n",
              "      <th>i love blue cheese</th>\n",
              "      <td>0.000</td>\n",
              "      <td>0.000</td>\n",
              "      <td>0.346</td>\n",
              "      <td>0.663</td>\n",
              "      <td>0.000</td>\n",
              "      <td>0.663</td>\n",
              "      <td>0.000</td>\n",
              "      <td>0.000</td>\n",
              "      <td>0.000</td>\n",
              "    </tr>\n",
              "  </tbody>\n",
              "</table>\n",
              "</div>"
            ],
            "text/plain": [
              "                                    and  beautiful   blue  ...    sky     so    the\n",
              "the sky is blue                   0.000      0.000  0.399  ...  0.488  0.000  0.603\n",
              "sky is blue and sky is beautiful  0.441      0.347  0.230  ...  0.562  0.000  0.000\n",
              "the beautiful sky is so blue      0.000      0.432  0.286  ...  0.350  0.548  0.432\n",
              "i love blue cheese                0.000      0.000  0.346  ...  0.000  0.000  0.000\n",
              "\n",
              "[4 rows x 9 columns]"
            ]
          },
          "metadata": {
            "tags": []
          },
          "execution_count": 132
        }
      ]
    },
    {
      "cell_type": "markdown",
      "metadata": {
        "id": "_TC1RFxK9IPU"
      },
      "source": [
        "We can see e.g. in the last document that \"cheese\" has an higher importance than \"blue\", being a less common and thus more discriminating word"
      ]
    },
    {
      "cell_type": "markdown",
      "metadata": {
        "id": "q6DC0EG49IPU"
      },
      "source": [
        "We employ tf.idf in our classification pipeline by replacing `CountVectorizer`"
      ]
    },
    {
      "cell_type": "code",
      "metadata": {
        "id": "ByQMYMeM9IPU"
      },
      "source": [
        "model = Pipeline([\n",
        "    (\"vectorizer\", TfidfVectorizer()),\n",
        "    (\"classifier\", LogisticRegression())\n",
        "])"
      ],
      "execution_count": null,
      "outputs": []
    },
    {
      "cell_type": "markdown",
      "metadata": {
        "id": "7C2jNFgP9IPW"
      },
      "source": [
        "As above, we fit the model on the training set and then evaluate it on the test set"
      ]
    },
    {
      "cell_type": "code",
      "metadata": {
        "id": "GmSW_6aS9IPW"
      },
      "source": [
        "model.fit(reviews_train.text, reviews_train.label);"
      ],
      "execution_count": null,
      "outputs": []
    },
    {
      "cell_type": "code",
      "metadata": {
        "colab": {
          "base_uri": "https://localhost:8080/"
        },
        "id": "YrIM5UFU9IPX",
        "outputId": "83522984-d6d4-4b91-fbb5-d47bb982b2c3"
      },
      "source": [
        "model.score(reviews_test.text, reviews_test.label)"
      ],
      "execution_count": null,
      "outputs": [
        {
          "output_type": "execute_result",
          "data": {
            "text/plain": [
              "0.8412"
            ]
          },
          "metadata": {
            "tags": []
          },
          "execution_count": 135
        }
      ]
    },
    {
      "cell_type": "markdown",
      "metadata": {
        "id": "PRfG6tH99IPY"
      },
      "source": [
        "### Looking for the most influential words\n",
        "\n",
        "Logistic regression computes the likelihood of a review being positive (or negative) according to the following formula:\n",
        "$$ h_\\theta(\\mathbf{x})=\\frac{1}{1+\\exp\\left(-\\theta_0-\\sum_{i=1}^n{\\theta_i\\cdot x_i}\\right)} $$\n",
        "\n",
        "Every $x_i$ variable indicates the element $i$ of an input vector (i.e. the weight of the $i$-th word in the dictionary), while $\\theta_i$ is the model parameter indicating how much the word contributes to the review being estimated as positive or negative\n",
        "\n",
        "By looking at values of the parameters, we can find out which words contribute the most at the reviews being labeled as positive or negative"
      ]
    },
    {
      "cell_type": "markdown",
      "metadata": {
        "id": "1e7YGzS49IPZ"
      },
      "source": [
        "The $\\theta_i$ parameters are available as the `coef_` attribute of the `LogisticRegression` model, we get it from the pipeline and print some values"
      ]
    },
    {
      "cell_type": "code",
      "metadata": {
        "colab": {
          "base_uri": "https://localhost:8080/"
        },
        "id": "GbbzwNtK9IPZ",
        "outputId": "412aee58-2cc5-47bf-9962-1884f4bda1d9"
      },
      "source": [
        "model_classifier = model.named_steps[\"classifier\"]\n",
        "\n",
        "model_classifier.coef_[0, :4]"
      ],
      "execution_count": null,
      "outputs": [
        {
          "output_type": "execute_result",
          "data": {
            "text/plain": [
              "array([-0.05094521, -0.01434774, -0.0256676 ,  0.04577293])"
            ]
          },
          "metadata": {
            "tags": []
          },
          "execution_count": 136
        }
      ]
    },
    {
      "cell_type": "markdown",
      "metadata": {
        "id": "TUAtgdBA9IPa"
      },
      "source": [
        "In order to make sense of the values, we get from the `TfidfVectorizer` the names of features and match them to values using a series"
      ]
    },
    {
      "cell_type": "code",
      "metadata": {
        "id": "yPsPGgMQ9IPa"
      },
      "source": [
        "model_vectorizer = model.named_steps[\"vectorizer\"]\n",
        "model_coefs = pd.Series(model_classifier.coef_[0],\n",
        "                        model_vectorizer.get_feature_names())"
      ],
      "execution_count": null,
      "outputs": []
    },
    {
      "cell_type": "markdown",
      "metadata": {
        "id": "qXPsMfL_9IPb"
      },
      "source": [
        "We sort the values in ascending order"
      ]
    },
    {
      "cell_type": "code",
      "metadata": {
        "id": "2EiVr4aC9IPc"
      },
      "source": [
        "model_coefs.sort_values(inplace=True) # inplace=True let us sort the original pandas Series stored in model_coefs variable. Otherwise sort_values would return a copy of the sorted series without sorting the original one."
      ],
      "execution_count": null,
      "outputs": []
    },
    {
      "cell_type": "markdown",
      "metadata": {
        "id": "AMLV2Y5O9IPc"
      },
      "source": [
        "Now at the top of the series we find the terms with the lowest coefficients, which make the model decision most tend to the \"negative\" class"
      ]
    },
    {
      "cell_type": "code",
      "metadata": {
        "colab": {
          "base_uri": "https://localhost:8080/"
        },
        "id": "Q0ZpIVzE9IPd",
        "outputId": "6a1ac5a8-8162-4fd7-926e-8f41bbcf1b08"
      },
      "source": [
        "model_coefs.head(5)"
      ],
      "execution_count": null,
      "outputs": [
        {
          "output_type": "execute_result",
          "data": {
            "text/plain": [
              "bad      -5.200\n",
              "worst    -4.123\n",
              "awful    -2.801\n",
              "waste    -2.771\n",
              "boring   -2.760\n",
              "dtype: float64"
            ]
          },
          "metadata": {
            "tags": []
          },
          "execution_count": 139
        }
      ]
    },
    {
      "cell_type": "markdown",
      "metadata": {
        "id": "idX8RZY09IPe"
      },
      "source": [
        "...while at the bottom of the series we find terms with the highest coefficients, whose presence makes the review positive"
      ]
    },
    {
      "cell_type": "code",
      "metadata": {
        "colab": {
          "base_uri": "https://localhost:8080/"
        },
        "id": "8ThCVy2X9IPe",
        "outputId": "6373b1ff-c4a1-4224-901a-76082172856c"
      },
      "source": [
        "model_coefs.tail(5)"
      ],
      "execution_count": null,
      "outputs": [
        {
          "output_type": "execute_result",
          "data": {
            "text/plain": [
              "and      2.434\n",
              "well     2.517\n",
              "love     2.688\n",
              "best     3.217\n",
              "great    4.528\n",
              "dtype: float64"
            ]
          },
          "metadata": {
            "tags": []
          },
          "execution_count": 140
        }
      ]
    },
    {
      "cell_type": "markdown",
      "metadata": {
        "id": "qeg3twi49IPf"
      },
      "source": [
        "In this way, we can generally find out the most important terms in deciding the orientation of a review"
      ]
    },
    {
      "cell_type": "markdown",
      "metadata": {
        "id": "pULaHu9z9IPf"
      },
      "source": [
        "### Regularization of parameters\n",
        "\n",
        "The logistic regression model uses _regularization_ to prevent parameters from having very high absolute values, which may lead to overfitting\n",
        "\n",
        "The C parameter controls the regularization strength: smaller values lead to stronger regularization, while larger values make the model fit more to training data\n",
        "\n",
        "This parameter can be tuned to improve the model accuracy"
      ]
    },
    {
      "cell_type": "markdown",
      "metadata": {
        "id": "78n6wGbC9IPg"
      },
      "source": [
        "Let's try for example to raise the C parameter from its default value 1 to 10, thus lowering the regularization"
      ]
    },
    {
      "cell_type": "code",
      "metadata": {
        "id": "flxU_m1R9IPg"
      },
      "source": [
        "model = Pipeline([\n",
        "    (\"vectorizer\", TfidfVectorizer()),\n",
        "    (\"classifier\", LogisticRegression(C=10))\n",
        "])"
      ],
      "execution_count": null,
      "outputs": []
    },
    {
      "cell_type": "code",
      "metadata": {
        "id": "qNlSMPQt9IPh"
      },
      "source": [
        "model.fit(reviews_train.text, reviews_train.label);"
      ],
      "execution_count": null,
      "outputs": []
    },
    {
      "cell_type": "code",
      "metadata": {
        "colab": {
          "base_uri": "https://localhost:8080/"
        },
        "id": "mQNnmdaj9IPh",
        "outputId": "397eccd1-cb85-4184-e5a6-d007566fd521"
      },
      "source": [
        "model.score(reviews_test.text, reviews_test.label)"
      ],
      "execution_count": null,
      "outputs": [
        {
          "output_type": "execute_result",
          "data": {
            "text/plain": [
              "0.829"
            ]
          },
          "metadata": {
            "tags": []
          },
          "execution_count": 143
        }
      ]
    },
    {
      "cell_type": "markdown",
      "metadata": {
        "id": "ePLEJs_79IPi"
      },
      "source": [
        "In this case accuracy slightly drops, possibly due to overfitting"
      ]
    },
    {
      "cell_type": "markdown",
      "metadata": {
        "id": "72a-QgZt9IPi"
      },
      "source": [
        "If we check for model parameters, their absolute value are now higher"
      ]
    },
    {
      "cell_type": "code",
      "metadata": {
        "id": "2613CtoE9IPi"
      },
      "source": [
        "model_classifier = model.named_steps[\"classifier\"]\n",
        "model_vectorizer = model.named_steps[\"vectorizer\"]\n",
        "model_coefs = pd.Series(model_classifier.coef_[0],\n",
        "                        model_vectorizer.get_feature_names())\n",
        "model_coefs.sort_values(inplace=True)"
      ],
      "execution_count": null,
      "outputs": []
    },
    {
      "cell_type": "code",
      "metadata": {
        "colab": {
          "base_uri": "https://localhost:8080/"
        },
        "id": "a5Qb8jwP9IPk",
        "outputId": "db1cbd71-d359-4618-b5ac-78a63da7e333"
      },
      "source": [
        "model_coefs.head(3)"
      ],
      "execution_count": null,
      "outputs": [
        {
          "output_type": "execute_result",
          "data": {
            "text/plain": [
              "worst   -9.775\n",
              "bad     -9.499\n",
              "awful   -6.673\n",
              "dtype: float64"
            ]
          },
          "metadata": {
            "tags": []
          },
          "execution_count": 145
        }
      ]
    },
    {
      "cell_type": "code",
      "metadata": {
        "colab": {
          "base_uri": "https://localhost:8080/"
        },
        "id": "7D1bH_gF9IPl",
        "outputId": "765a2222-c17c-4baf-c79f-4d2f15529fc5"
      },
      "source": [
        "model_coefs.tail(3)"
      ],
      "execution_count": null,
      "outputs": [
        {
          "output_type": "execute_result",
          "data": {
            "text/plain": [
              "perfect    6.164\n",
              "best       7.489\n",
              "great      8.936\n",
              "dtype: float64"
            ]
          },
          "metadata": {
            "tags": []
          },
          "execution_count": 146
        }
      ]
    },
    {
      "cell_type": "markdown",
      "metadata": {
        "id": "b-9mDJ7Z9IPm"
      },
      "source": [
        "### Reducing the dimensionality\n",
        "\n",
        "Considering the number of distinct terms across all training reviews, the dimensionality of the vector space is very high"
      ]
    },
    {
      "cell_type": "code",
      "metadata": {
        "colab": {
          "base_uri": "https://localhost:8080/"
        },
        "id": "BBGZBkZE9IPm",
        "outputId": "6deb6ad1-16df-4c73-d029-a36729d14192"
      },
      "source": [
        "len(model_vectorizer.get_feature_names())"
      ],
      "execution_count": null,
      "outputs": [
        {
          "output_type": "execute_result",
          "data": {
            "text/plain": [
              "36272"
            ]
          },
          "metadata": {
            "tags": []
          },
          "execution_count": 147
        }
      ]
    },
    {
      "cell_type": "markdown",
      "metadata": {
        "id": "rLdnbUD69IPm"
      },
      "source": [
        "Methods exist to reduce the dimensionality in order to lower the time required for training the model with very small repercussion on its accuracy\n",
        "\n",
        "One possibility is to not consider words appearing only in very few reviews, such as very specific terms or misspelled words"
      ]
    },
    {
      "cell_type": "markdown",
      "metadata": {
        "id": "E6EMtre29IPn"
      },
      "source": [
        "We can configure the vectorizer with the `min_df` parameter to exclude terms appearing e.g. in less than 3 training reviews"
      ]
    },
    {
      "cell_type": "code",
      "metadata": {
        "id": "z6ZuZ4H-9IPn"
      },
      "source": [
        "model = Pipeline([\n",
        "    (\"vectorizer\", TfidfVectorizer(min_df=3)), # df stands for document frequency.\n",
        "    (\"classifier\", LogisticRegression())\n",
        "])"
      ],
      "execution_count": null,
      "outputs": []
    },
    {
      "cell_type": "markdown",
      "metadata": {
        "id": "BlU4nBov9IPo"
      },
      "source": [
        "Let's fit the model as above..."
      ]
    },
    {
      "cell_type": "code",
      "metadata": {
        "id": "84ujhE7B9IPo"
      },
      "source": [
        "model.fit(reviews_train.text, reviews_train.label);"
      ],
      "execution_count": null,
      "outputs": []
    },
    {
      "cell_type": "markdown",
      "metadata": {
        "id": "tfGd227X9IPo"
      },
      "source": [
        "Looking at the fit vectorizer, the number of dimensions is now much lower..."
      ]
    },
    {
      "cell_type": "code",
      "metadata": {
        "colab": {
          "base_uri": "https://localhost:8080/"
        },
        "id": "koXs4jxM9IPp",
        "outputId": "7c4347a9-ef8a-4219-ef31-59614db5b4db"
      },
      "source": [
        "len(model.named_steps[\"vectorizer\"].get_feature_names())"
      ],
      "execution_count": null,
      "outputs": [
        {
          "output_type": "execute_result",
          "data": {
            "text/plain": [
              "16127"
            ]
          },
          "metadata": {
            "tags": []
          },
          "execution_count": 150
        }
      ]
    },
    {
      "cell_type": "markdown",
      "metadata": {
        "id": "0d-ti6q79IPp"
      },
      "source": [
        "...but the accuracy is close to the previous value"
      ]
    },
    {
      "cell_type": "code",
      "metadata": {
        "colab": {
          "base_uri": "https://localhost:8080/"
        },
        "id": "6R5wO9wf9IPq",
        "outputId": "0517a598-664a-4405-8b85-09a1471c6785"
      },
      "source": [
        "model.score(reviews_test.text, reviews_test.label)"
      ],
      "execution_count": null,
      "outputs": [
        {
          "output_type": "execute_result",
          "data": {
            "text/plain": [
              "0.8424"
            ]
          },
          "metadata": {
            "tags": []
          },
          "execution_count": 151
        }
      ]
    },
    {
      "cell_type": "markdown",
      "metadata": {
        "id": "FDT9_dtm9IPq"
      },
      "source": [
        "### Stemming\n",
        "\n",
        "Another way to reduce dimensionality is to group similar terms into an unique feature\n",
        "\n",
        "_Stemming_ is the extraction of the morphological root (_stem_) of a word: using stems of words as features in place of words themselves, we obtain a single feature for possibly several single terms with a common stem (e.g. {run, runned, running} --> \"run\")"
      ]
    },
    {
      "cell_type": "markdown",
      "metadata": {
        "id": "RamgdDXU9IPq"
      },
      "source": [
        "We start creating a `PorterStemmer` object, providing a `stem` method"
      ]
    },
    {
      "cell_type": "code",
      "metadata": {
        "id": "RmpatPc29IPr"
      },
      "source": [
        "ps = nltk.stem.PorterStemmer()"
      ],
      "execution_count": null,
      "outputs": []
    },
    {
      "cell_type": "code",
      "metadata": {
        "colab": {
          "base_uri": "https://localhost:8080/"
        },
        "id": "2dc0qOEK9IPr",
        "outputId": "a434f7ca-faff-44bd-f77e-a7664a373f37"
      },
      "source": [
        "ps.stem(\"stem\"), ps.stem(\"stemming\")"
      ],
      "execution_count": null,
      "outputs": [
        {
          "output_type": "execute_result",
          "data": {
            "text/plain": [
              "('stem', 'stem')"
            ]
          },
          "metadata": {
            "tags": []
          },
          "execution_count": 153
        }
      ]
    },
    {
      "cell_type": "code",
      "metadata": {
        "colab": {
          "base_uri": "https://localhost:8080/"
        },
        "id": "cl_591k6v6TZ",
        "outputId": "c28dafe8-0cdf-4616-e2c3-1e76155ad1ae"
      },
      "source": [
        "ps.stem(\"run\"), ps.stem(\"runned\"), ps.stem(\"running\")"
      ],
      "execution_count": null,
      "outputs": [
        {
          "output_type": "execute_result",
          "data": {
            "text/plain": [
              "('run', 'run', 'run')"
            ]
          },
          "metadata": {
            "tags": []
          },
          "execution_count": 154
        }
      ]
    },
    {
      "cell_type": "markdown",
      "metadata": {
        "id": "fwlX4rHf9IPt"
      },
      "source": [
        "We can use that to create a function which uses NLTK to tokenize text into words and return a sequence of stems instead of complete words"
      ]
    },
    {
      "cell_type": "code",
      "metadata": {
        "id": "ZStwuomf9IPu"
      },
      "source": [
        "def tokenize_with_stemming(text):\n",
        "    return [ps.stem(token) for token # for each word in the tokenized text apply the ps.stem() function\n",
        "        in nltk.tokenize.word_tokenize(text)]"
      ],
      "execution_count": null,
      "outputs": []
    },
    {
      "cell_type": "code",
      "metadata": {
        "colab": {
          "base_uri": "https://localhost:8080/"
        },
        "id": "DZxdVWzM9IPv",
        "outputId": "99687405-d14c-4acf-faab-49aac1680aea"
      },
      "source": [
        "tokenize_with_stemming(\"We have shown many examples!\")"
      ],
      "execution_count": null,
      "outputs": [
        {
          "output_type": "execute_result",
          "data": {
            "text/plain": [
              "['We', 'have', 'shown', 'mani', 'exampl', '!']"
            ]
          },
          "metadata": {
            "tags": []
          },
          "execution_count": 156
        }
      ]
    },
    {
      "cell_type": "markdown",
      "metadata": {
        "id": "WIs6UWap9IPw"
      },
      "source": [
        "In a vectorizer, we can set the `tokenizer` parameter to use our custom tokenization function in place of scikit-learn default one"
      ]
    },
    {
      "cell_type": "code",
      "metadata": {
        "id": "Ie7GW6VM9IPw"
      },
      "source": [
        "model = Pipeline([\n",
        "    (\"vectorizer\", TfidfVectorizer(min_df=3, tokenizer=tokenize_with_stemming)),\n",
        "    (\"classifier\", LogisticRegression())\n",
        "])"
      ],
      "execution_count": null,
      "outputs": []
    },
    {
      "cell_type": "markdown",
      "metadata": {
        "id": "2Oxp_WkP9IPx"
      },
      "source": [
        "We can then fit the model as usual"
      ]
    },
    {
      "cell_type": "code",
      "metadata": {
        "id": "guFzXQvr9IPx"
      },
      "source": [
        "model.fit(reviews_train.text, reviews_train.label);"
      ],
      "execution_count": null,
      "outputs": []
    },
    {
      "cell_type": "markdown",
      "metadata": {
        "id": "Q3dMVXv-9IPy"
      },
      "source": [
        "The number of feature is further reduced"
      ]
    },
    {
      "cell_type": "code",
      "metadata": {
        "colab": {
          "base_uri": "https://localhost:8080/"
        },
        "id": "_35EZ_i69IPy",
        "outputId": "ec46428b-acc8-44c7-982c-837cea16a4c5"
      },
      "source": [
        "len(model.named_steps[\"vectorizer\"].get_feature_names())"
      ],
      "execution_count": null,
      "outputs": [
        {
          "output_type": "execute_result",
          "data": {
            "text/plain": [
              "12543"
            ]
          },
          "metadata": {
            "tags": []
          },
          "execution_count": 159
        }
      ]
    },
    {
      "cell_type": "markdown",
      "metadata": {
        "id": "6iysRIvF9IPz"
      },
      "source": [
        "Computing the accuracy..."
      ]
    },
    {
      "cell_type": "code",
      "metadata": {
        "colab": {
          "base_uri": "https://localhost:8080/"
        },
        "id": "TYBlI3gx9IPz",
        "outputId": "9b5709ec-fff4-4268-a467-15ab5e9d6e14"
      },
      "source": [
        "model.score(reviews_test.text, reviews_test.label)"
      ],
      "execution_count": null,
      "outputs": [
        {
          "output_type": "execute_result",
          "data": {
            "text/plain": [
              "0.8394"
            ]
          },
          "metadata": {
            "tags": []
          },
          "execution_count": 160
        }
      ]
    },
    {
      "cell_type": "markdown",
      "metadata": {
        "id": "wbXQzbdz9IP0"
      },
      "source": [
        "...we see in this case a minor loss "
      ]
    },
    {
      "cell_type": "markdown",
      "metadata": {
        "id": "k6QpBeJP9IP0"
      },
      "source": [
        "### n-grams\n",
        "\n",
        "An _n-gram_ is a sequence of n consecutive words in a text: in the common cases with n equal to 2 and 3, they are called _bigrams_ and _trigrams_\n",
        "\n",
        "n-grams can be used in addition or replacement to single words as features to represent reviews: they can be useful to spot meaningful expressions composed of more than one word, although we will also get many n-grams with no significant meaning\n",
        "\n",
        "For example, in the sentence \"Sentiment analysis is not bad\" we have meaningful bigrams indicating a concept (\"Sentiment analysis\") and an opinion (\"not bad\")"
      ]
    },
    {
      "cell_type": "markdown",
      "metadata": {
        "id": "ObnuLgHv9IP0"
      },
      "source": [
        "Setting the `ngram_range` parameter of a vectorizer to a tuple `(a,b)`, it will use as features all n-grams with n between a and b; the default value is `(1, 1)`, meaning that only single words (\"1-grams\") are considered\n",
        "\n",
        "Let's see what happens by setting `(1, 2)`, i.e. considering both single words and bigrams, still limiting features to those appearing in 3 reviews at least"
      ]
    },
    {
      "cell_type": "code",
      "metadata": {
        "id": "xsRwMuQR9IP0"
      },
      "source": [
        "model = Pipeline([\n",
        "    (\"vectorizer\", TfidfVectorizer(min_df=3, ngram_range=(1, 2))), # using 1-grams and 2-grams\n",
        "    (\"classifier\", LogisticRegression())\n",
        "])"
      ],
      "execution_count": null,
      "outputs": []
    },
    {
      "cell_type": "markdown",
      "metadata": {
        "id": "ZSOpCexo9IP1"
      },
      "source": [
        "Fit the model as usual"
      ]
    },
    {
      "cell_type": "code",
      "metadata": {
        "id": "ha-KoggH9IP1"
      },
      "source": [
        "model.fit(reviews_train[\"text\"], reviews_train[\"label\"]); #reviews_train.text = reviews_train[\"text\"]"
      ],
      "execution_count": null,
      "outputs": []
    },
    {
      "cell_type": "markdown",
      "metadata": {
        "id": "py-_TiXu9IP4"
      },
      "source": [
        "Adding bigrams to single words, the dimensionality is sensibly higher..."
      ]
    },
    {
      "cell_type": "code",
      "metadata": {
        "colab": {
          "base_uri": "https://localhost:8080/"
        },
        "id": "hA6B_k8q9IP4",
        "outputId": "2189a47e-98e0-4d0e-fc21-fc1bc9a2a8b8"
      },
      "source": [
        "len(model.named_steps[\"vectorizer\"].get_feature_names()) # \"sentiment\" + \"sentiment analysis\""
      ],
      "execution_count": null,
      "outputs": [
        {
          "output_type": "execute_result",
          "data": {
            "text/plain": [
              "71800"
            ]
          },
          "metadata": {
            "tags": []
          },
          "execution_count": 163
        }
      ]
    },
    {
      "cell_type": "markdown",
      "metadata": {
        "id": "tW1Xe-wy9IP5"
      },
      "source": [
        "...but in this case we successfully increase the accuracy"
      ]
    },
    {
      "cell_type": "code",
      "metadata": {
        "colab": {
          "base_uri": "https://localhost:8080/"
        },
        "id": "-zKZ1Eq_9IP5",
        "outputId": "75bb7e5a-4725-4fac-ff76-cdfa76c54a9f"
      },
      "source": [
        "model.score(reviews_test[\"text\"], reviews_test[\"label\"])"
      ],
      "execution_count": null,
      "outputs": [
        {
          "output_type": "execute_result",
          "data": {
            "text/plain": [
              "0.851"
            ]
          },
          "metadata": {
            "tags": []
          },
          "execution_count": 164
        }
      ]
    },
    {
      "cell_type": "markdown",
      "metadata": {
        "id": "n_k_q0uh9IP5"
      },
      "source": [
        "### Sentiment analysis with NLTK\n",
        "\n",
        "NLTK integrates specific functions for sentiment analysis, allowing to evaluate the subjectivity and the sentiment of text\n",
        "\n",
        "Let's see for example how to classify reviews using VADER (_Valence Aware Dictionary for sEntiment Reasoning_), a lexicon and rule-based sentiment estimator specifically oriented to social media, of which NLTK provides an implementation\n",
        "\n",
        "- **Reference:** Hutto, C. J., and Eric Gilbert. \"VADER: A Parsimonious Rule-Based Model for Sentiment Analysis of Social Media Text.\" _Eighth International AAAI Conference on Weblogs and Social Media_. 2014."
      ]
    },
    {
      "cell_type": "markdown",
      "metadata": {
        "id": "rgCSzAi59IP6"
      },
      "source": [
        "Download the necessary data"
      ]
    },
    {
      "cell_type": "code",
      "metadata": {
        "colab": {
          "base_uri": "https://localhost:8080/"
        },
        "id": "mmAuvsax9IP6",
        "outputId": "0d434b4d-6bd7-496b-be6c-33dd3d4b6dce"
      },
      "source": [
        "nltk.download(\"vader_lexicon\")"
      ],
      "execution_count": null,
      "outputs": [
        {
          "output_type": "stream",
          "text": [
            "[nltk_data] Downloading package vader_lexicon to /root/nltk_data...\n"
          ],
          "name": "stdout"
        },
        {
          "output_type": "execute_result",
          "data": {
            "text/plain": [
              "True"
            ]
          },
          "metadata": {
            "tags": []
          },
          "execution_count": 165
        }
      ]
    },
    {
      "cell_type": "markdown",
      "metadata": {
        "id": "C_-UnfYU9IP6"
      },
      "source": [
        "Import the class and create an analyzer object"
      ]
    },
    {
      "cell_type": "code",
      "metadata": {
        "colab": {
          "base_uri": "https://localhost:8080/"
        },
        "id": "WNOc25rqu1GP",
        "outputId": "7d9af9a3-30b9-4868-fa14-093eadc38057"
      },
      "source": [
        "!pip install twython # nltk.sentiment dependency"
      ],
      "execution_count": null,
      "outputs": [
        {
          "output_type": "stream",
          "text": [
            "Collecting twython\n",
            "  Downloading https://files.pythonhosted.org/packages/24/80/579b96dfaa9b536efde883d4f0df7ea2598a6f3117a6dd572787f4a2bcfb/twython-3.8.2-py3-none-any.whl\n",
            "Requirement already satisfied: requests-oauthlib>=0.4.0 in /usr/local/lib/python3.7/dist-packages (from twython) (1.3.0)\n",
            "Requirement already satisfied: requests>=2.1.0 in /usr/local/lib/python3.7/dist-packages (from twython) (2.23.0)\n",
            "Requirement already satisfied: oauthlib>=3.0.0 in /usr/local/lib/python3.7/dist-packages (from requests-oauthlib>=0.4.0->twython) (3.1.0)\n",
            "Requirement already satisfied: urllib3!=1.25.0,!=1.25.1,<1.26,>=1.21.1 in /usr/local/lib/python3.7/dist-packages (from requests>=2.1.0->twython) (1.24.3)\n",
            "Requirement already satisfied: chardet<4,>=3.0.2 in /usr/local/lib/python3.7/dist-packages (from requests>=2.1.0->twython) (3.0.4)\n",
            "Requirement already satisfied: certifi>=2017.4.17 in /usr/local/lib/python3.7/dist-packages (from requests>=2.1.0->twython) (2020.12.5)\n",
            "Requirement already satisfied: idna<3,>=2.5 in /usr/local/lib/python3.7/dist-packages (from requests>=2.1.0->twython) (2.10)\n",
            "Installing collected packages: twython\n",
            "Successfully installed twython-3.8.2\n"
          ],
          "name": "stdout"
        }
      ]
    },
    {
      "cell_type": "code",
      "metadata": {
        "id": "nnZ6wPt_9IP6"
      },
      "source": [
        "from nltk.sentiment.vader import SentimentIntensityAnalyzer\n",
        "vader = SentimentIntensityAnalyzer()"
      ],
      "execution_count": null,
      "outputs": []
    },
    {
      "cell_type": "markdown",
      "metadata": {
        "id": "MoLmF1HV9IP7"
      },
      "source": [
        "We can see some words in the VADER lexicon along with the positive or negative orientation assigned to them: we can see that typical social media language is recognized"
      ]
    },
    {
      "cell_type": "code",
      "metadata": {
        "colab": {
          "base_uri": "https://localhost:8080/"
        },
        "id": "_5T7h5oA9IP7",
        "outputId": "15b1c075-e2e3-4e46-e0fc-c4670104dc80"
      },
      "source": [
        "vader.lexicon[\"excellent\"]"
      ],
      "execution_count": null,
      "outputs": [
        {
          "output_type": "execute_result",
          "data": {
            "text/plain": [
              "2.7"
            ]
          },
          "metadata": {
            "tags": []
          },
          "execution_count": 168
        }
      ]
    },
    {
      "cell_type": "code",
      "metadata": {
        "colab": {
          "base_uri": "https://localhost:8080/"
        },
        "id": "OxOoK2PH9IP8",
        "outputId": "ab5e1efc-0e1d-4fd4-dda8-710653abd37c"
      },
      "source": [
        "vader.lexicon[\"sux\"]"
      ],
      "execution_count": null,
      "outputs": [
        {
          "output_type": "execute_result",
          "data": {
            "text/plain": [
              "-1.5"
            ]
          },
          "metadata": {
            "tags": []
          },
          "execution_count": 169
        }
      ]
    },
    {
      "cell_type": "code",
      "metadata": {
        "colab": {
          "base_uri": "https://localhost:8080/"
        },
        "id": "TGFlq5j59IP8",
        "outputId": "26d193b5-72ca-4fcc-900a-4f02d8c699f3"
      },
      "source": [
        "vader.lexicon[\"wtf\"]"
      ],
      "execution_count": null,
      "outputs": [
        {
          "output_type": "execute_result",
          "data": {
            "text/plain": [
              "-2.8"
            ]
          },
          "metadata": {
            "tags": []
          },
          "execution_count": 170
        }
      ]
    },
    {
      "cell_type": "code",
      "metadata": {
        "colab": {
          "base_uri": "https://localhost:8080/"
        },
        "id": "9Z-AOTKC9IP9",
        "outputId": "76ff4d86-d220-45e2-a7ca-53d16dda8200"
      },
      "source": [
        "vader.lexicon[\":-)\"]"
      ],
      "execution_count": null,
      "outputs": [
        {
          "output_type": "execute_result",
          "data": {
            "text/plain": [
              "1.3"
            ]
          },
          "metadata": {
            "tags": []
          },
          "execution_count": 171
        }
      ]
    },
    {
      "cell_type": "markdown",
      "metadata": {
        "id": "DwkZwp419IP_"
      },
      "source": [
        "Using the `polarity_score` method, given some text, we obtain a dictionary stating the probability of the sentence being either positive, negative or sentiment-neutral.\n",
        "\n",
        "The `compound` score is a metric that calculates the sum of all the lexicon ratings which have been normalized between -1 (most extreme negative) and +1 (most extreme positive)."
      ]
    },
    {
      "cell_type": "code",
      "metadata": {
        "colab": {
          "base_uri": "https://localhost:8080/"
        },
        "id": "9w-Tk-NI9IP_",
        "outputId": "dea48dcd-f70f-456a-dbfd-765ac4b20270"
      },
      "source": [
        "vader.polarity_scores(\"Not a bad movie\")"
      ],
      "execution_count": null,
      "outputs": [
        {
          "output_type": "execute_result",
          "data": {
            "text/plain": [
              "{'compound': 0.431, 'neg': 0.0, 'neu': 0.412, 'pos': 0.588}"
            ]
          },
          "metadata": {
            "tags": []
          },
          "execution_count": 172
        }
      ]
    },
    {
      "cell_type": "code",
      "metadata": {
        "colab": {
          "base_uri": "https://localhost:8080/"
        },
        "id": "AMFpr1YA9IQA",
        "outputId": "16827950-9f37-4fa2-bfb3-aaefdc4787f6"
      },
      "source": [
        "vader.polarity_scores(\"I wouldn't recommend this movie\")"
      ],
      "execution_count": null,
      "outputs": [
        {
          "output_type": "execute_result",
          "data": {
            "text/plain": [
              "{'compound': -0.2755, 'neg': 0.413, 'neu': 0.587, 'pos': 0.0}"
            ]
          },
          "metadata": {
            "tags": []
          },
          "execution_count": 173
        }
      ]
    },
    {
      "cell_type": "code",
      "metadata": {
        "colab": {
          "base_uri": "https://localhost:8080/"
        },
        "id": "-28eatr59IQC",
        "outputId": "1b788f3b-b2f1-410b-c3b5-8125e9972b0c"
      },
      "source": [
        "vader.polarity_scores(\"This movie is candidated to 3 Academy awards\")"
      ],
      "execution_count": null,
      "outputs": [
        {
          "output_type": "execute_result",
          "data": {
            "text/plain": [
              "{'compound': 0.4588, 'neg': 0.0, 'neu': 0.667, 'pos': 0.333}"
            ]
          },
          "metadata": {
            "tags": []
          },
          "execution_count": 174
        }
      ]
    },
    {
      "cell_type": "markdown",
      "metadata": {
        "id": "wnBSC1np9IQE"
      },
      "source": [
        "We can see that the model is reasonably good in detecting compound statements such as negations"
      ]
    },
    {
      "cell_type": "markdown",
      "metadata": {
        "id": "L6s63IFF9IQE"
      },
      "source": [
        "Let's create a function that, given a review, returns a \"pos\" or \"neg\" label according to VADER scores"
      ]
    },
    {
      "cell_type": "code",
      "metadata": {
        "id": "cNMhwi1i9IQE"
      },
      "source": [
        "def vader_classify(text):\n",
        "    scores = vader.polarity_scores(text)\n",
        "    return \"pos\" if scores[\"pos\"] >= scores[\"neg\"] else \"neg\""
      ],
      "execution_count": null,
      "outputs": []
    },
    {
      "cell_type": "markdown",
      "metadata": {
        "id": "MW-iJVP-9IQF"
      },
      "source": [
        "Using the `apply` method of series, we apply the function to each review text obtaining a series of pos/neg labels"
      ]
    },
    {
      "cell_type": "code",
      "metadata": {
        "id": "bUtWVwWa9IQF"
      },
      "source": [
        "vader_preds = reviews_test[\"text\"].apply(vader_classify)"
      ],
      "execution_count": null,
      "outputs": []
    },
    {
      "cell_type": "markdown",
      "metadata": {
        "id": "uIS92sBh9IQH"
      },
      "source": [
        "We compare this series with actual labels, obtaining a boolean series stating for which reviews the classifier indicated the correct label"
      ]
    },
    {
      "cell_type": "code",
      "metadata": {
        "id": "xPTLs0SR9IQH"
      },
      "source": [
        "vader_hits = vader_preds == reviews_test[\"label\"]"
      ],
      "execution_count": null,
      "outputs": []
    },
    {
      "cell_type": "code",
      "metadata": {
        "colab": {
          "base_uri": "https://localhost:8080/"
        },
        "id": "Q9_JcA9v9IQJ",
        "outputId": "aea5d71e-47dc-4484-d1cc-f52636cb72d3"
      },
      "source": [
        "vader_hits.values[:9]"
      ],
      "execution_count": null,
      "outputs": [
        {
          "output_type": "execute_result",
          "data": {
            "text/plain": [
              "array([ True,  True,  True,  True,  True,  True,  True, False,  True])"
            ]
          },
          "metadata": {
            "tags": []
          },
          "execution_count": 178
        }
      ]
    },
    {
      "cell_type": "markdown",
      "metadata": {
        "id": "AWYLf4HU9IQL"
      },
      "source": [
        "Computing the mean, we obtain the ratio of `True` values"
      ]
    },
    {
      "cell_type": "code",
      "metadata": {
        "colab": {
          "base_uri": "https://localhost:8080/"
        },
        "id": "BT_IrQIf9IQL",
        "outputId": "c8829e1f-b84c-4e29-e739-3e8f25a8f89b"
      },
      "source": [
        "vader_hits.mean()"
      ],
      "execution_count": null,
      "outputs": [
        {
          "output_type": "execute_result",
          "data": {
            "text/plain": [
              "0.6936"
            ]
          },
          "metadata": {
            "tags": []
          },
          "execution_count": 179
        }
      ]
    },
    {
      "cell_type": "markdown",
      "metadata": {
        "id": "whSM4e3_9IQM"
      },
      "source": [
        "Here VADER achieves a lower accuracy than our supervised model, which however required a large set of pre-labeled reviews to be trained"
      ]
    },
    {
      "cell_type": "markdown",
      "metadata": {
        "id": "BKe42xjW9IQM"
      },
      "source": [
        "### Exercise 2: test new methods on tweets\n",
        "\n",
        "In this activity we have seen two sentiment classification methods\n",
        "- using a classifier trained on the labeled reviews used here\n",
        "- using the pretrained VADER model\n",
        "\n",
        "Test both these new methods on airline tweets from the first activity, giving each tweet a score of -5 or 5 according to the negative or positive response of the classifier, then compare as above summary scores obtained by both methods with ACSI scores\n",
        "\n",
        "Which of the two methods do you expect to be more accurate?"
      ]
    }
  ]
}